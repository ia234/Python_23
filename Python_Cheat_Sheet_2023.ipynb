{
  "cells": [
    {
      "cell_type": "markdown",
      "metadata": {
        "id": "view-in-github",
        "colab_type": "text"
      },
      "source": [
        "<a href=\"https://colab.research.google.com/github/ia234/Python_23/blob/main/Python_Cheat_Sheet_2023.ipynb\" target=\"_parent\"><img src=\"https://colab.research.google.com/assets/colab-badge.svg\" alt=\"Open In Colab\"/></a>"
      ]
    },
    {
      "cell_type": "code",
      "execution_count": null,
      "metadata": {
        "id": "kZ5VIILK1Wsw"
      },
      "outputs": [],
      "source": []
    },
    {
      "cell_type": "markdown",
      "metadata": {
        "id": "0WL-57iB98TJ"
      },
      "source": [
        "# Python"
      ]
    },
    {
      "cell_type": "markdown",
      "metadata": {
        "id": "iJrSmRZwFW8g"
      },
      "source": [
        "## Data Types"
      ]
    },
    {
      "cell_type": "markdown",
      "metadata": {
        "id": "AomJyuxJauvM"
      },
      "source": [
        "Numeric Data Types:"
      ]
    },
    {
      "cell_type": "code",
      "execution_count": null,
      "metadata": {
        "colab": {
          "base_uri": "https://localhost:8080/"
        },
        "id": "m3zhDO0oawxR",
        "outputId": "a434b092-a485-49cd-ada6-d8598e831620"
      },
      "outputs": [
        {
          "output_type": "stream",
          "name": "stdout",
          "text": [
            "<class 'int'>\n",
            "<class 'float'>\n",
            "<class 'complex'>\n"
          ]
        }
      ],
      "source": [
        "# integer\n",
        "my_int = 10\n",
        "print(type(my_int))  # Output: <class 'int'>\n",
        "\n",
        "# floating-point number\n",
        "my_float = 3.14\n",
        "print(type(my_float))  # Output: <class 'float'>\n",
        "\n",
        "# complex number\n",
        "my_complex = 2 + 3j\n",
        "print(type(my_complex))  # Output: <class 'complex'>\n"
      ]
    },
    {
      "cell_type": "markdown",
      "metadata": {
        "id": "JSuFiPauazxL"
      },
      "source": [
        "Sequence Data Types:"
      ]
    },
    {
      "cell_type": "code",
      "execution_count": null,
      "metadata": {
        "colab": {
          "base_uri": "https://localhost:8080/"
        },
        "id": "ROV-2xzVaysV",
        "outputId": "dc688463-b25a-4a34-94aa-b969dacf2b2a"
      },
      "outputs": [
        {
          "output_type": "stream",
          "name": "stdout",
          "text": [
            "<class 'str'>\n",
            "<class 'list'>\n",
            "<class 'tuple'>\n",
            "<class 'range'>\n"
          ]
        }
      ],
      "source": [
        "# string\n",
        "my_string = \"Hello, World!\"\n",
        "print(type(my_string))  # Output: <class 'str'>\n",
        "\n",
        "# list This is a collection of items that are ordered and changeable.\n",
        "my_list = [1, 2, \"three\", True]\n",
        "print(type(my_list))  # Output: <class 'list'>\n",
        "\n",
        "# tuple This is a collection of items that are ordered and unchangeable.\n",
        "my_tuple = (1, 2, \"three\", True)\n",
        "print(type(my_tuple))  # Output: <class 'tuple'>\n",
        "\n",
        "# range The range function is used to create a sequence of numbers, and it returns a range object. \n",
        "my_range = range(5)\n",
        "print(type(my_range))  # Output: <class 'range'>\n",
        "\n"
      ]
    },
    {
      "cell_type": "markdown",
      "metadata": {
        "id": "dkxThZv3a7Ar"
      },
      "source": [
        "Mapping Data Type:"
      ]
    },
    {
      "cell_type": "code",
      "execution_count": null,
      "metadata": {
        "colab": {
          "base_uri": "https://localhost:8080/"
        },
        "id": "L8eIY82ta7np",
        "outputId": "cae7a203-a521-49e8-ce41-30da6a3f02f1"
      },
      "outputs": [
        {
          "output_type": "stream",
          "name": "stdout",
          "text": [
            "<class 'dict'>\n"
          ]
        }
      ],
      "source": [
        "# dictionary: This is a collection of key-value pairs that are unordered and changeable.\n",
        "my_dict = {\"name\": \"John\", \"age\": 30, \"city\": \"New York\"}\n",
        "print(type(my_dict))  # Output: <class 'dict'>\n"
      ]
    },
    {
      "cell_type": "markdown",
      "metadata": {
        "id": "dEziDcfJa-54"
      },
      "source": [
        "Set Data Type:"
      ]
    },
    {
      "cell_type": "code",
      "execution_count": null,
      "metadata": {
        "colab": {
          "base_uri": "https://localhost:8080/"
        },
        "id": "2u73TfxDbAYl",
        "outputId": "7f33133b-8fd0-4711-b055-635034a19a3c"
      },
      "outputs": [
        {
          "output_type": "stream",
          "name": "stdout",
          "text": [
            "<class 'set'>\n",
            "<class 'frozenset'>\n"
          ]
        }
      ],
      "source": [
        "# set: This is a collection of unique items that are unordered and unindexed.\n",
        "my_set = {1, 2, \"three\", True}\n",
        "print(type(my_set))  # Output: <class 'set'>\n",
        "\n",
        "\n",
        "# frozenset The frozenset function is used to create an immutable set, and it returns a frozenset object.\n",
        "my_frozenset = frozenset({1, 2, 3})\n",
        "print(type(my_frozenset))  # Output: <class 'frozenset'>\n"
      ]
    },
    {
      "cell_type": "markdown",
      "metadata": {
        "id": "uUzcbn7qbB6d"
      },
      "source": [
        "**Boolean Data Type:**"
      ]
    },
    {
      "cell_type": "code",
      "execution_count": null,
      "metadata": {
        "colab": {
          "base_uri": "https://localhost:8080/"
        },
        "id": "w9KJ_ZoKbDQG",
        "outputId": "d3d4696b-abeb-4808-b02f-dbc378bbdb93"
      },
      "outputs": [
        {
          "output_type": "stream",
          "name": "stdout",
          "text": [
            "<class 'bool'>\n"
          ]
        }
      ],
      "source": [
        "# boolean: This is a data type that represents True or False values.\n",
        "my_bool = True\n",
        "print(type(my_bool))  # Output: <class 'bool'>\n"
      ]
    },
    {
      "cell_type": "markdown",
      "source": [
        "This expression compares the Unicode code point of the characters in the strings, and returns a boolean value True or False depending on the result of the comparison.\n",
        "In this case, \"alpha\" comes before \"beta\" in alphabetical order, so the expression evaluates to True.\n",
        "These operators and functions can be used in combination with logical operators such as \"and\", \"or\", and \"not\" to create more complex comparisons."
      ],
      "metadata": {
        "id": "GU8XWKv1HOZy"
      }
    },
    {
      "cell_type": "code",
      "source": [
        "print(\"alpha\" <= \"beta\")\n",
        "\n",
        "print(True > False)"
      ],
      "metadata": {
        "colab": {
          "base_uri": "https://localhost:8080/"
        },
        "id": "ylQmk-geHOp5",
        "outputId": "10ae484c-f988-4f12-b70f-3409b266d76c"
      },
      "execution_count": null,
      "outputs": [
        {
          "output_type": "stream",
          "name": "stdout",
          "text": [
            "True\n",
            "True\n"
          ]
        }
      ]
    },
    {
      "cell_type": "code",
      "source": [
        "age = 30\n",
        "gender = 'female'\n",
        "\n",
        "# Check eligibility for a certain discount based on age and gender\n",
        "if age >= 60 and gender == 'female':\n",
        "    print(\"You are eligible for a 30% discount!\")\n",
        "elif age >= 60 or gender == 'male':\n",
        "    print(\"You are eligible for a 20% discount!\")\n",
        "else:\n",
        "    print(\"You are not eligible for any discount.\")"
      ],
      "metadata": {
        "colab": {
          "base_uri": "https://localhost:8080/"
        },
        "id": "L3-PgjA_yCpE",
        "outputId": "a870d215-165c-4aef-cd89-1009aa308461"
      },
      "execution_count": null,
      "outputs": [
        {
          "output_type": "stream",
          "name": "stdout",
          "text": [
            "You are not eligible for any discount.\n"
          ]
        }
      ]
    },
    {
      "cell_type": "markdown",
      "metadata": {
        "id": "qKzuPbm1epCO"
      },
      "source": [
        "## Arithmetic Operators"
      ]
    },
    {
      "cell_type": "code",
      "execution_count": null,
      "metadata": {
        "colab": {
          "base_uri": "https://localhost:8080/"
        },
        "id": "-IYRrKF6eoiC",
        "outputId": "3630224b-1ba2-48d1-a128-2452b586546c"
      },
      "outputs": [
        {
          "output_type": "stream",
          "name": "stdout",
          "text": [
            "16\n",
            "2\n",
            "63\n",
            "1.2857142857142858\n",
            "1\n",
            "2\n",
            "4782969\n"
          ]
        }
      ],
      "source": [
        "x = 9\n",
        "y = 7\n",
        "\n",
        "# Addition\n",
        "z = x + y  # add x and y\n",
        "print(z)\n",
        "\n",
        "# Subtraction\n",
        "z = x - y  # subtract y from x\n",
        "print(z)\n",
        "\n",
        "# Multiplication\n",
        "z = x * y  # multiply x and y\n",
        "print(z)\n",
        "\n",
        "# Division\n",
        "z = x / y  # divide x by y\n",
        "print(z)\n",
        "\n",
        "# Floor Division\n",
        "z = x // y  # divide x by y and round down to the nearest integer\n",
        "print(z)\n",
        "\n",
        "# Modulus\n",
        "z = x % y  # find the remainder of x divided by y\n",
        "print(z)\n",
        "\n",
        "# Exponentiation\n",
        "z = x ** y  # raise x to the power of y\n",
        "print(z)\n"
      ]
    },
    {
      "cell_type": "markdown",
      "metadata": {
        "id": "P60_iobmsvHU"
      },
      "source": [
        "## Lists"
      ]
    },
    {
      "cell_type": "markdown",
      "metadata": {
        "id": "KIrV3iJjlBFO"
      },
      "source": [
        "### List Subsetting & Slicing"
      ]
    },
    {
      "cell_type": "code",
      "execution_count": null,
      "metadata": {
        "colab": {
          "base_uri": "https://localhost:8080/"
        },
        "id": "Auqet2THlBU_",
        "outputId": "4b392fc1-64b4-4e0e-aaea-2f1408cd7468"
      },
      "outputs": [
        {
          "output_type": "stream",
          "name": "stdout",
          "text": [
            "apple\n",
            "cherry\n",
            "['banana', 'cherry', 'date']\n",
            "['apple', 'banana', 'cherry']\n",
            "['date', 'elderberry']\n",
            "elderberry\n",
            "['cherry', 'date', 'elderberry']\n"
          ]
        }
      ],
      "source": [
        "# Define a list of fruits\n",
        "fruits = [\"apple\", \"banana\", \"cherry\", \"date\", \"elderberry\"]\n",
        "\n",
        "# Access a single element using its index (starts at 0)\n",
        "print(fruits[0])    # Output: \"apple\"\n",
        "print(fruits[2])    # Output: \"cherry\"\n",
        "\n",
        "# Access a range of elements using a slice\n",
        "print(fruits[1:4])  # Output: [\"banana\", \"cherry\", \"date\"]\n",
        "print(fruits[:3])   # Output: [\"apple\", \"banana\", \"cherry\"]\n",
        "print(fruits[3:])   # Output: [\"date\", \"elderberry\"]\n",
        "\n",
        "# Access elements from the end of the list using negative indexing\n",
        "print(fruits[-1])   # Output: \"elderberry\"\n",
        "print(fruits[-3:])  # Output: [\"cherry\", \"date\", \"elderberry\"]\n",
        "\n",
        "\n"
      ]
    },
    {
      "cell_type": "markdown",
      "metadata": {
        "id": "KeONGgweszYy"
      },
      "source": [
        "### List operations and Functions"
      ]
    },
    {
      "cell_type": "code",
      "execution_count": null,
      "metadata": {
        "colab": {
          "base_uri": "https://localhost:8080/"
        },
        "id": "qfoGPnU4pRAO",
        "outputId": "32c168a2-5879-4ea2-e3ee-44bdd4f0c9f4"
      },
      "outputs": [
        {
          "output_type": "stream",
          "name": "stdout",
          "text": [
            "Yes, 'apple' is in the fruits list\n",
            "apple\n",
            "banana\n",
            "cherry\n",
            "date\n",
            "elderberry\n",
            "['apple', 'kiwi', 'cherry', 'date', 'elderberry']\n",
            "['apple', 'kiwi', 'cherry', 'date', 'elderberry', 'orange']\n",
            "['apple', 'cherry', 'date', 'elderberry', 'orange']\n",
            "apple\n",
            "cherry\n",
            "date\n",
            "elderberry\n",
            "orange\n",
            "['apple', 'date', 'orange']\n",
            "['apple', 'cherry', 'date', 'elderberry', 'orange']\n",
            "['apple', 'cherry', 'date', 'elderberry', 'orange']\n",
            "['apple', 'cherry', 'date', 'elderberry', 'orange', 'beetroot', 'carrot', 'spinach']\n"
          ]
        }
      ],
      "source": [
        "# Check if Item Exists\n",
        "if \"apple\" in fruits:\n",
        "    print(\"Yes, 'apple' is in the fruits list\")  # Output: \"Yes, 'apple' is in the fruits list\"\n",
        "\n",
        "# Access List Items\n",
        "for fruit in fruits:\n",
        "    print(fruit)  # Output: \"apple\", \"banana\", \"cherry\"\n",
        "\n",
        "# Change List Items\n",
        "fruits[1] = \"kiwi\"\n",
        "print(fruits)  # Output: [\"apple\", \"kiwi\", \"cherry\"]\n",
        "\n",
        "# Add List Items\n",
        "fruits.append(\"orange\")\n",
        "print(fruits)  # Output: [\"apple\", \"kiwi\", \"cherry\", \"orange\"]\n",
        "\n",
        "# Remove List Items\n",
        "fruits.remove(\"kiwi\")\n",
        "print(fruits)  # Output: [\"apple\", \"cherry\", \"orange\"]\n",
        "\n",
        "# Loop Lists\n",
        "for fruit in fruits:\n",
        "    print(fruit)  # Output: \"apple\", \"cherry\", \"orange\"\n",
        "\n",
        "# List Comprehension\n",
        "new_list = [fruit for fruit in fruits if \"a\" in fruit]\n",
        "print(new_list)  # Output: [\"apple\", \"orange\"]\n",
        "\n",
        "# Sort Lists\n",
        "fruits.sort()\n",
        "print(fruits)  # Output: [\"apple\", \"cherry\", \"orange\"]\n",
        "\n",
        "# Copy Lists in 3 ways:\n",
        "# 1. using .copy() method\n",
        "new_fruits = fruits.copy()\n",
        "print(new_fruits)  # Output: [\"apple\", \"cherry\", \"orange\"]\n",
        "\n",
        "# 2. using the list() function\n",
        "# list_x = list(y) \n",
        "\n",
        "# 3. using the slicing operator \n",
        "# list_x = list_y[:]\n",
        "\n",
        "# list_x = list_y copies the pointer/reference to that list which causes any changes to list x to take effect in list y too.\n",
        "\n",
        "\n",
        "# Join Lists\n",
        "vegetables = [\"beetroot\", \"carrot\", \"spinach\"]\n",
        "food = fruits + vegetables\n",
        "print(food)  # Output: [\"apple\", \"cherry\", \"orange\", \"beetroot\", \"carrot\", \"spinach\"]\n"
      ]
    },
    {
      "cell_type": "markdown",
      "metadata": {
        "id": "nOXQFHKD2-BU"
      },
      "source": [
        "### List Methods"
      ]
    },
    {
      "cell_type": "markdown",
      "metadata": {
        "id": "IjY8PxWm3y-W"
      },
      "source": [
        "Here are 25 of the most frequently used list methods in Python, ranked in order from most frequently used to least frequently used:\n",
        "\n",
        "1. `append()` - Adds an element to the end of a list.\n",
        "2. `len()` - Returns the length of a list.\n",
        "3. `index()` - Returns the index of the first element with the specified value.\n",
        "4. `count()` - Returns the number of elements with the specified value.\n",
        "5. `pop()` - Removes the element at the specified position from a list, and returns it.\n",
        "6. `sort()` - Sorts the elements of a list in ascending order.\n",
        "7. `reverse()` - Reverses the order of the elements in a list.\n",
        "8. `extend()` - Adds the elements of another list to the end of a list.\n",
        "9. `insert()` - Adds an element at the specified position in a list.\n",
        "10. `remove()` - Removes the first occurrence of a specified element from a list.\n",
        "11. `copy()` - Returns a shallow copy of a list.\n",
        "12. `clear()` - Removes all the elements from a list.\n",
        "13. `max()` - Returns the largest element in a list.\n",
        "14. `min()` - Returns the smallest element in a list.\n",
        "15. `sum()` - Returns the sum of all elements in a list.\n",
        "16. `join()` - Joins the elements of a list into a string.\n",
        "17. `split()` - Splits a string into a list.\n",
        "18. \n",
        "19. `index()` - Returns the index of the first occurrence of a specified element in a list.\n",
        "20. `isinstance()` - Returns True if a variable is a list.\n",
        "21. `enumerate()` - Returns an enumerate object.\n",
        "22. `map()` - Applies a function to every element of a list.\n",
        "23. `filter()` - Filters the elements of a list based on a function.\n",
        "24. `zip()` - Combines two or more lists into a single list of tuples.\n",
        "25. `any()` - Returns True if any element of a list is True."
      ]
    },
    {
      "cell_type": "markdown",
      "metadata": {
        "id": "ggSx7EzB30mD"
      },
      "source": []
    },
    {
      "cell_type": "code",
      "execution_count": null,
      "metadata": {
        "colab": {
          "base_uri": "https://localhost:8080/"
        },
        "id": "b-8idEhe3Ags",
        "outputId": "2148baee-ee64-428d-fd4c-8b46014def3c"
      },
      "outputs": [
        {
          "output_type": "stream",
          "name": "stdout",
          "text": [
            "['apple', 'banana', 'cherry', 'orange']\n",
            "3\n",
            "2\n",
            "2\n",
            "['apple', 'cherry']\n",
            "['apple', 'banana', 'cherry']\n",
            "['cherry', 'banana', 'apple']\n",
            "['apple', 'banana', 'cherry', 'Ford', 'BMW', 'Volvo']\n",
            "['apple', 'orange', 'banana', 'cherry']\n",
            "['apple', 'cherry']\n",
            "['apple', 'banana', 'cherry']\n",
            "[]\n",
            "5\n",
            "1\n",
            "15\n",
            "Hello world !\n",
            "['Hello', 'world', '!']\n",
            "1\n",
            "True\n",
            "0 apple\n",
            "1 banana\n",
            "2 cherry\n",
            "[1, 4, 9, 16, 25]\n",
            "[2, 4]\n",
            "[('apple', 'red'), ('banana', 'yellow'), ('cherry', 'blue')]\n",
            "True\n"
          ]
        }
      ],
      "source": [
        "# Here are the 25 most frequently used list methods in Python, ranked in order from most frequently used to least frequently used, with comments and examples:\n",
        "\n",
        "# 1. append() - Adds an element to the end of a list.\n",
        "fruits = [\"apple\", \"banana\", \"cherry\"]\n",
        "fruits.append(\"orange\")\n",
        "print(fruits) # Output: [\"apple\", \"banana\", \"cherry\", \"orange\"]\n",
        "\n",
        "# 2. len() - Returns the length of a list.\n",
        "fruits = [\"apple\", \"banana\", \"cherry\"]\n",
        "print(len(fruits)) # Output: 3\n",
        "\n",
        "# 3. index() - Returns the index of the first element with the specified value.\n",
        "fruits = [\"apple\", \"banana\", \"cherry\"]\n",
        "print(fruits.index(\"cherry\")) # Output: 2\n",
        "\n",
        "# 4. count() - Returns the number of elements with the specified value.\n",
        "fruits = [\"apple\", \"banana\", \"cherry\", \"cherry\"]\n",
        "print(fruits.count(\"cherry\")) # Output: 2\n",
        "\n",
        "# 5. pop() - Removes the element at the specified position from a list, and returns it.\n",
        "fruits = [\"apple\", \"banana\", \"cherry\"]\n",
        "fruits.pop(1)\n",
        "print(fruits) # Output: [\"apple\", \"cherry\"]\n",
        "\n",
        "# 6. sort() - Sorts the elements of a list in ascending order.\n",
        "fruits = [\"banana\", \"cherry\", \"apple\"]\n",
        "fruits.sort()\n",
        "print(fruits) # Output: [\"apple\", \"banana\", \"cherry\"]\n",
        "\n",
        "# 7. reverse() - Reverses the order of the elements in a list.\n",
        "fruits = [\"apple\", \"banana\", \"cherry\"]\n",
        "fruits.reverse()\n",
        "print(fruits) # Output: [\"cherry\", \"banana\", \"apple\"]\n",
        "\n",
        "# 8. extend() - Adds the elements of another list to the end of a list.\n",
        "fruits = [\"apple\", \"banana\", \"cherry\"]\n",
        "cars = [\"Ford\", \"BMW\", \"Volvo\"]\n",
        "fruits.extend(cars)\n",
        "print(fruits) # Output: [\"apple\", \"banana\", \"cherry\", \"Ford\", \"BMW\", \"Volvo\"]\n",
        "\n",
        "# 9. insert() - Adds an element at the specified position in a list.\n",
        "fruits = [\"apple\", \"banana\", \"cherry\"]\n",
        "fruits.insert(1, \"orange\")\n",
        "print(fruits) # Output: [\"apple\", \"orange\", \"banana\", \"cherry\"]\n",
        "\n",
        "# 10. remove() - Removes the first occurrence of a specified element from a list.\n",
        "fruits = [\"apple\", \"banana\", \"cherry\"]\n",
        "fruits.remove(\"banana\")\n",
        "print(fruits) # Output: [\"apple\", \"cherry\"]\n",
        "\n",
        "# 11. copy() - Returns a shallow copy of a list.\n",
        "fruits = [\"apple\", \"banana\", \"cherry\"]\n",
        "fruits_copy = fruits.copy()\n",
        "print(fruits_copy) # Output: [\"apple\", \"banana\", \"cherry\"]\n",
        "\n",
        "# 12. clear() - Removes all the elements from a list.\n",
        "fruits = [\"apple\", \"banana\", \"cherry\"]\n",
        "fruits.clear()\n",
        "print(fruits) # Output: []\n",
        "\n",
        "# 13. max() - Returns the largest element in a list.\n",
        "numbers = [1, 2, 3, 4, 5]\n",
        "print(max(numbers)) # Output: 5\n",
        "\n",
        "# 14. min() - Returns the smallest element in a list.\n",
        "numbers = [1, 2, 3, 4, 5]\n",
        "print(min(numbers)) # Output: 1\n",
        "\n",
        "# 1. sum() - Returns the sum of all elements in a list.\n",
        "numbers = [1, 2, 3, 4, 5]\n",
        "result = sum(numbers)\n",
        "print(result)  # Output: 15\n",
        "\n",
        "# 2. join() - Joins the elements of a list into a string.\n",
        "words = [\"Hello\", \"world\", \"!\"]\n",
        "result = \" \".join(words)\n",
        "print(result)  # Output: \"Hello world !\"\n",
        "\n",
        "# 3. split() - Splits a string into a list.\n",
        "sentence = \"Hello world !\"\n",
        "words = sentence.split()\n",
        "print(words)  # Output: [\"Hello\", \"world\", \"!\"]\n",
        "\n",
        "# 4. \n",
        "\n",
        "# 5. index() - Returns the index of the first occurrence of a specified element in a list.\n",
        "fruits = [\"apple\", \"banana\", \"cherry\"]\n",
        "index = fruits.index(\"banana\")\n",
        "print(index)  # Output: 1\n",
        "\n",
        "# 6. isinstance() - Returns True if a variable is a list.\n",
        "fruits = [\"apple\", \"banana\", \"cherry\"]\n",
        "result = isinstance(fruits, list)\n",
        "print(result)  # Output: True\n",
        "\n",
        "# 7. enumerate() - Returns an enumerate object.\n",
        "fruits = [\"apple\", \"banana\", \"cherry\"]\n",
        "for index, value in enumerate(fruits):\n",
        "    print(index, value)  # Output: 0 apple, 1 banana, 2 cherry\n",
        "\n",
        "# 8. map() - Applies a function to every element of a list.\n",
        "numbers = [1, 2, 3, 4, 5]\n",
        "squares = list(map(lambda x: x**2, numbers))\n",
        "print(squares)  # Output: [1, 4, 9, 16, 25]\n",
        "\n",
        "# 9. filter() - Filters the elements of a list based on a function.\n",
        "numbers = [1, 2, 3, 4, 5]\n",
        "even_numbers = list(filter(lambda x: x % 2 == 0, numbers))\n",
        "print(even_numbers)  # Output: [2, 4]\n",
        "\n",
        "# 10. zip() - Combines two or more lists into a single list of tuples.\n",
        "fruits = [\"apple\", \"banana\", \"cherry\"]\n",
        "colors = [\"red\", \"yellow\", \"blue\"]\n",
        "zipped = list(zip(fruits, colors))\n",
        "print(zipped)  # Output: [('apple', 'red'), ('banana', 'yellow'), ('cherry', 'blue')]\n",
        "\n",
        "# 11. any() - Returns True if any element of a list is True.\n",
        "numbers = [0, 1, 2, 3, 4]\n",
        "result = any(numbers)\n",
        "print(result)  # Output: True\n"
      ]
    },
    {
      "cell_type": "code",
      "execution_count": null,
      "metadata": {
        "id": "WN4fpgLc4LQ8"
      },
      "outputs": [],
      "source": []
    },
    {
      "cell_type": "markdown",
      "source": [
        "## Iteration over sequences with 'for' loop"
      ],
      "metadata": {
        "id": "onjW5Z0eC0FD"
      }
    },
    {
      "cell_type": "markdown",
      "source": [
        "iterating over a list of lists \n"
      ],
      "metadata": {
        "id": "9CmS8fh7lprd"
      }
    },
    {
      "cell_type": "code",
      "source": [
        "#  list of lists\n",
        "house = [[\"hallway\", 11.25], \n",
        "         [\"kitchen\", 18.0], \n",
        "         [\"living room\", 20.0], \n",
        "         [\"bedroom\", 10.75], \n",
        "         [\"bathroom\", 9.50]]\n",
        "         \n",
        "# Build a for loop from scratch\n",
        "for room, area in house:\n",
        "    print('the', room, 'is', area, 'sqm')"
      ],
      "metadata": {
        "colab": {
          "base_uri": "https://localhost:8080/"
        },
        "id": "5O0tslLTm8rd",
        "outputId": "e83c9b24-c367-4950-8189-bfe94b35c014"
      },
      "execution_count": null,
      "outputs": [
        {
          "output_type": "stream",
          "name": "stdout",
          "text": [
            "the hallway is 11.25 sqm\n",
            "the kitchen is 18.0 sqm\n",
            "the living room is 20.0 sqm\n",
            "the bedroom is 10.75 sqm\n",
            "the bathroom is 9.5 sqm\n"
          ]
        }
      ]
    },
    {
      "cell_type": "markdown",
      "source": [
        "iterating over a list and its indicies using the \"enumerate()\" funtion "
      ],
      "metadata": {
        "id": "6CLUxwkEoOfh"
      }
    },
    {
      "cell_type": "code",
      "source": [
        "# Loop through each row of the list and print the index and row elements\n",
        "for i, row in enumerate(house):\n",
        "    print(\"Index:\", i, ', Row:', row)"
      ],
      "metadata": {
        "colab": {
          "base_uri": "https://localhost:8080/"
        },
        "id": "D4QNxVuMnnzi",
        "outputId": "101295a5-4b41-4720-f74a-909297006d30"
      },
      "execution_count": null,
      "outputs": [
        {
          "output_type": "stream",
          "name": "stdout",
          "text": [
            "Index: 0 , Row: ['hallway', 11.25]\n",
            "Index: 1 , Row: ['kitchen', 18.0]\n",
            "Index: 2 , Row: ['living room', 20.0]\n",
            "Index: 3 , Row: ['bedroom', 10.75]\n",
            "Index: 4 , Row: ['bathroom', 9.5]\n"
          ]
        }
      ]
    },
    {
      "cell_type": "markdown",
      "source": [
        "iterating over a dictionary using the \".items()\" method."
      ],
      "metadata": {
        "id": "MNzkwkNqnN12"
      }
    },
    {
      "cell_type": "code",
      "source": [
        "# Definition of dictionary\n",
        "europe = {'spain':'madrid', 'france':'paris', 'germany':'berlin',\n",
        "          'norway':'oslo', 'italy':'rome', 'poland':'warsaw', 'austria':'vienna' }\n",
        "          \n",
        "# Iterate over europe\n",
        "for key, value in europe.items() :\n",
        "    print(\"the capital of\", key + \" is \" + str(value))\n"
      ],
      "metadata": {
        "colab": {
          "base_uri": "https://localhost:8080/"
        },
        "id": "MDJmw16fnNHq",
        "outputId": "506c4079-323e-48d7-b5f2-31f996ec8447"
      },
      "execution_count": null,
      "outputs": [
        {
          "output_type": "stream",
          "name": "stdout",
          "text": [
            "the capital of spain is madrid\n",
            "the capital of france is paris\n",
            "the capital of germany is berlin\n",
            "the capital of norway is oslo\n",
            "the capital of italy is rome\n",
            "the capital of poland is warsaw\n",
            "the capital of austria is vienna\n"
          ]
        }
      ]
    },
    {
      "cell_type": "markdown",
      "source": [
        "iterating over a 1-dimensional NumPy array"
      ],
      "metadata": {
        "id": "UFQaET6tGmi1"
      }
    },
    {
      "cell_type": "code",
      "source": [
        "data = np.array([1, 2, 3, 4, 5, 6])\n",
        "for i in data:\n",
        "    print(i, \"inches\")"
      ],
      "metadata": {
        "colab": {
          "base_uri": "https://localhost:8080/"
        },
        "id": "Fc4JM_0JGjk1",
        "outputId": "3853b2d4-b58d-4ed7-f90b-2c3f8bc2cbd0"
      },
      "execution_count": null,
      "outputs": [
        {
          "output_type": "stream",
          "name": "stdout",
          "text": [
            "1 inches\n",
            "2 inches\n",
            "3 inches\n",
            "4 inches\n",
            "5 inches\n",
            "6 inches\n"
          ]
        }
      ]
    },
    {
      "cell_type": "markdown",
      "source": [
        "iterating over a multdimensional NumPy array using the 'np.nditer()' function."
      ],
      "metadata": {
        "id": "NyM_M9JPH0NV"
      }
    },
    {
      "cell_type": "code",
      "source": [
        "# Create a 2D numpy array\n",
        "import numpy as np\n",
        "data = np.array([\n",
        "                [1, 2, 3], \n",
        "                [4, 5, 6], \n",
        "                [7, 8, 9]\n",
        "                ])\n",
        "\n",
        "# Loop through each element of the numpy array and print the element\n",
        "for i in np.nditer(data):\n",
        "    print(i)"
      ],
      "metadata": {
        "id": "BSl513n3y1Pm",
        "colab": {
          "base_uri": "https://localhost:8080/"
        },
        "outputId": "3fd38ac4-9e7c-4cff-ca50-5bc9d08fba34"
      },
      "execution_count": null,
      "outputs": [
        {
          "output_type": "stream",
          "name": "stdout",
          "text": [
            "1\n",
            "2\n",
            "3\n",
            "4\n",
            "5\n",
            "6\n",
            "7\n",
            "8\n",
            "9\n"
          ]
        }
      ]
    },
    {
      "cell_type": "markdown",
      "source": [
        "interating over a Pandas DataFrame using the '.iterrows()' method."
      ],
      "metadata": {
        "id": "H-gv2DuMKE4Q"
      }
    },
    {
      "cell_type": "code",
      "source": [
        "import pandas as pd\n",
        "cars = pd.read_csv('https://assets.datacamp.com/production/repositories/287/datasets/79b3c22c47a2f45a800c62cae39035ff2ea4e609/cars.csv', index_col = 0)\n",
        "cars"
      ],
      "metadata": {
        "colab": {
          "base_uri": "https://localhost:8080/",
          "height": 269
        },
        "id": "99mJy5BjJiEq",
        "outputId": "975f7dbe-98ee-42ad-f17d-ed95f4e71a1a"
      },
      "execution_count": null,
      "outputs": [
        {
          "output_type": "execute_result",
          "data": {
            "text/plain": [
              "     cars_per_cap        country  drives_right\n",
              "US            809  United States          True\n",
              "AUS           731      Australia         False\n",
              "JAP           588          Japan         False\n",
              "IN             18          India         False\n",
              "RU            200         Russia          True\n",
              "MOR            70        Morocco          True\n",
              "EG             45          Egypt          True"
            ],
            "text/html": [
              "\n",
              "  <div id=\"df-39c4320a-3865-449f-9a3e-2a76bb78d4e6\">\n",
              "    <div class=\"colab-df-container\">\n",
              "      <div>\n",
              "<style scoped>\n",
              "    .dataframe tbody tr th:only-of-type {\n",
              "        vertical-align: middle;\n",
              "    }\n",
              "\n",
              "    .dataframe tbody tr th {\n",
              "        vertical-align: top;\n",
              "    }\n",
              "\n",
              "    .dataframe thead th {\n",
              "        text-align: right;\n",
              "    }\n",
              "</style>\n",
              "<table border=\"1\" class=\"dataframe\">\n",
              "  <thead>\n",
              "    <tr style=\"text-align: right;\">\n",
              "      <th></th>\n",
              "      <th>cars_per_cap</th>\n",
              "      <th>country</th>\n",
              "      <th>drives_right</th>\n",
              "    </tr>\n",
              "  </thead>\n",
              "  <tbody>\n",
              "    <tr>\n",
              "      <th>US</th>\n",
              "      <td>809</td>\n",
              "      <td>United States</td>\n",
              "      <td>True</td>\n",
              "    </tr>\n",
              "    <tr>\n",
              "      <th>AUS</th>\n",
              "      <td>731</td>\n",
              "      <td>Australia</td>\n",
              "      <td>False</td>\n",
              "    </tr>\n",
              "    <tr>\n",
              "      <th>JAP</th>\n",
              "      <td>588</td>\n",
              "      <td>Japan</td>\n",
              "      <td>False</td>\n",
              "    </tr>\n",
              "    <tr>\n",
              "      <th>IN</th>\n",
              "      <td>18</td>\n",
              "      <td>India</td>\n",
              "      <td>False</td>\n",
              "    </tr>\n",
              "    <tr>\n",
              "      <th>RU</th>\n",
              "      <td>200</td>\n",
              "      <td>Russia</td>\n",
              "      <td>True</td>\n",
              "    </tr>\n",
              "    <tr>\n",
              "      <th>MOR</th>\n",
              "      <td>70</td>\n",
              "      <td>Morocco</td>\n",
              "      <td>True</td>\n",
              "    </tr>\n",
              "    <tr>\n",
              "      <th>EG</th>\n",
              "      <td>45</td>\n",
              "      <td>Egypt</td>\n",
              "      <td>True</td>\n",
              "    </tr>\n",
              "  </tbody>\n",
              "</table>\n",
              "</div>\n",
              "      <button class=\"colab-df-convert\" onclick=\"convertToInteractive('df-39c4320a-3865-449f-9a3e-2a76bb78d4e6')\"\n",
              "              title=\"Convert this dataframe to an interactive table.\"\n",
              "              style=\"display:none;\">\n",
              "        \n",
              "  <svg xmlns=\"http://www.w3.org/2000/svg\" height=\"24px\"viewBox=\"0 0 24 24\"\n",
              "       width=\"24px\">\n",
              "    <path d=\"M0 0h24v24H0V0z\" fill=\"none\"/>\n",
              "    <path d=\"M18.56 5.44l.94 2.06.94-2.06 2.06-.94-2.06-.94-.94-2.06-.94 2.06-2.06.94zm-11 1L8.5 8.5l.94-2.06 2.06-.94-2.06-.94L8.5 2.5l-.94 2.06-2.06.94zm10 10l.94 2.06.94-2.06 2.06-.94-2.06-.94-.94-2.06-.94 2.06-2.06.94z\"/><path d=\"M17.41 7.96l-1.37-1.37c-.4-.4-.92-.59-1.43-.59-.52 0-1.04.2-1.43.59L10.3 9.45l-7.72 7.72c-.78.78-.78 2.05 0 2.83L4 21.41c.39.39.9.59 1.41.59.51 0 1.02-.2 1.41-.59l7.78-7.78 2.81-2.81c.8-.78.8-2.07 0-2.86zM5.41 20L4 18.59l7.72-7.72 1.47 1.35L5.41 20z\"/>\n",
              "  </svg>\n",
              "      </button>\n",
              "      \n",
              "  <style>\n",
              "    .colab-df-container {\n",
              "      display:flex;\n",
              "      flex-wrap:wrap;\n",
              "      gap: 12px;\n",
              "    }\n",
              "\n",
              "    .colab-df-convert {\n",
              "      background-color: #E8F0FE;\n",
              "      border: none;\n",
              "      border-radius: 50%;\n",
              "      cursor: pointer;\n",
              "      display: none;\n",
              "      fill: #1967D2;\n",
              "      height: 32px;\n",
              "      padding: 0 0 0 0;\n",
              "      width: 32px;\n",
              "    }\n",
              "\n",
              "    .colab-df-convert:hover {\n",
              "      background-color: #E2EBFA;\n",
              "      box-shadow: 0px 1px 2px rgba(60, 64, 67, 0.3), 0px 1px 3px 1px rgba(60, 64, 67, 0.15);\n",
              "      fill: #174EA6;\n",
              "    }\n",
              "\n",
              "    [theme=dark] .colab-df-convert {\n",
              "      background-color: #3B4455;\n",
              "      fill: #D2E3FC;\n",
              "    }\n",
              "\n",
              "    [theme=dark] .colab-df-convert:hover {\n",
              "      background-color: #434B5C;\n",
              "      box-shadow: 0px 1px 3px 1px rgba(0, 0, 0, 0.15);\n",
              "      filter: drop-shadow(0px 1px 2px rgba(0, 0, 0, 0.3));\n",
              "      fill: #FFFFFF;\n",
              "    }\n",
              "  </style>\n",
              "\n",
              "      <script>\n",
              "        const buttonEl =\n",
              "          document.querySelector('#df-39c4320a-3865-449f-9a3e-2a76bb78d4e6 button.colab-df-convert');\n",
              "        buttonEl.style.display =\n",
              "          google.colab.kernel.accessAllowed ? 'block' : 'none';\n",
              "\n",
              "        async function convertToInteractive(key) {\n",
              "          const element = document.querySelector('#df-39c4320a-3865-449f-9a3e-2a76bb78d4e6');\n",
              "          const dataTable =\n",
              "            await google.colab.kernel.invokeFunction('convertToInteractive',\n",
              "                                                     [key], {});\n",
              "          if (!dataTable) return;\n",
              "\n",
              "          const docLinkHtml = 'Like what you see? Visit the ' +\n",
              "            '<a target=\"_blank\" href=https://colab.research.google.com/notebooks/data_table.ipynb>data table notebook</a>'\n",
              "            + ' to learn more about interactive tables.';\n",
              "          element.innerHTML = '';\n",
              "          dataTable['output_type'] = 'display_data';\n",
              "          await google.colab.output.renderOutput(dataTable, element);\n",
              "          const docLink = document.createElement('div');\n",
              "          docLink.innerHTML = docLinkHtml;\n",
              "          element.appendChild(docLink);\n",
              "        }\n",
              "      </script>\n",
              "    </div>\n",
              "  </div>\n",
              "  "
            ]
          },
          "metadata": {},
          "execution_count": 17
        }
      ]
    },
    {
      "cell_type": "code",
      "source": [
        "for lab, row in cars.iterrows() :\n",
        "    print(lab, ':', row['cars_per_cap'])"
      ],
      "metadata": {
        "colab": {
          "base_uri": "https://localhost:8080/"
        },
        "id": "SOg9YyXjHE-S",
        "outputId": "4ec824be-46af-4f89-bf00-619fe87101ea"
      },
      "execution_count": null,
      "outputs": [
        {
          "output_type": "stream",
          "name": "stdout",
          "text": [
            "US : 809\n",
            "AUS : 731\n",
            "JAP : 588\n",
            "IN : 18\n",
            "RU : 200\n",
            "MOR : 70\n",
            "EG : 45\n"
          ]
        }
      ]
    },
    {
      "cell_type": "markdown",
      "source": [
        "## Math Module"
      ],
      "metadata": {
        "id": "B-PktpBF9fYX"
      }
    },
    {
      "cell_type": "code",
      "source": [
        "import math\n",
        "\n",
        "# 1. ceil(): returns the smallest integer greater than or equal to a given number\n",
        "x = 4.1\n",
        "print(math.ceil(x))  # Output: 5\n",
        "\n",
        "# 2. floor(): returns the largest integer less than or equal to a given number\n",
        "y = 4.9\n",
        "print(math.floor(y))  # Output: 4\n",
        "\n",
        "# 3. fabs(): returns the absolute value of a given number\n",
        "a = -4.5\n",
        "print(math.fabs(a))  # Output: 4.5\n",
        "\n",
        "# 4. sqrt(): returns the square root of a given number\n",
        "b = 16\n",
        "print(math.sqrt(b))  # Output: 4.0\n",
        "\n",
        "# 5. pow(): returns the value of a number raised to a power\n",
        "c = 2\n",
        "d = 3\n",
        "print(math.pow(c, d))  # Output: 8.0\n",
        "\n",
        "# 6. exp(): returns the value of e (Euler's number) raised to a power\n",
        "e = 2\n",
        "print(math.exp(e))  # Output: 7.38905609893065\n",
        "\n",
        "# 7. log(): returns the natural logarithm of a number\n",
        "f = 10\n",
        "print(math.log(f))  # Output: 2.302585092994046\n",
        "\n",
        "# 8. log10(): returns the base-10 logarithm of a number\n",
        "g = 100\n",
        "print(math.log10(g))  # Output: 2.0\n",
        "\n",
        "# 9. sin(): returns the sine of a given angle in radians\n",
        "h = math.pi/2\n",
        "print(math.sin(h))  # Output: 1.0\n",
        "\n",
        "# 10. cos(): returns the cosine of a given angle in radians\n",
        "i = math.pi\n",
        "print(math.pi) # Output: 3.141592653589793\n",
        "print(math.cos(i))  # Output: -1.0\n",
        "\n",
        "# 11. tan(): returns the tangent of a given angle in radians\n",
        "j = math.pi/4\n",
        "print(math.tan(j))  # Output: 0.9999999999999999\n",
        "\n",
        "# 12. degrees(): converts an angle from radians to degrees\n",
        "k = math.pi/2\n",
        "print(math.degrees(k))  # Output: 90.0\n",
        "\n",
        "# 13. radians(): converts an angle from degrees to radians\n",
        "l = 180\n",
        "print(math.radians(l))  # Output: 3.141592653589793\n",
        "\n",
        "# 14. factorial(): returns the factorial of a given number\n",
        "m = 5\n",
        "print(math.factorial(m))  # Output: 120\n",
        "\n",
        "# 15. gcd(): returns the greatest common divisor of two numbers\n",
        "n = 12\n",
        "o = 16\n",
        "print(math.gcd(n, o))  # Output: 4\n"
      ],
      "metadata": {
        "colab": {
          "base_uri": "https://localhost:8080/"
        },
        "id": "doFpCfVU96VQ",
        "outputId": "6e6cf4ab-e054-447f-9e36-ae492ebd4cbd"
      },
      "execution_count": null,
      "outputs": [
        {
          "output_type": "stream",
          "name": "stdout",
          "text": [
            "5\n",
            "4\n",
            "4.5\n",
            "4.0\n",
            "8.0\n",
            "7.38905609893065\n",
            "2.302585092994046\n",
            "2.0\n",
            "1.0\n",
            "3.141592653589793\n",
            "-1.0\n",
            "0.9999999999999999\n",
            "90.0\n",
            "3.141592653589793\n",
            "120\n",
            "4\n"
          ]
        }
      ]
    },
    {
      "cell_type": "code",
      "source": [],
      "metadata": {
        "id": "pfBj4QVPEflT"
      },
      "execution_count": null,
      "outputs": []
    },
    {
      "cell_type": "markdown",
      "source": [
        "# Numpy"
      ],
      "metadata": {
        "id": "WjAGf0XH_BWl"
      }
    },
    {
      "cell_type": "markdown",
      "source": [
        "### Direct arithmetic operations"
      ],
      "metadata": {
        "id": "Ez_SalzOJu7C"
      }
    },
    {
      "cell_type": "code",
      "source": [
        "import numpy as np\n",
        "\n",
        "# create two 2D arrays\n",
        "arr1 = np.array([[1, 2], [3, 4]])\n",
        "arr2 = np.array([[5, 6], [7, 8]])\n",
        "\n",
        "# add two arrays element-wise\n",
        "arr_sum = arr1 + arr2\n",
        "print(\"Array sum:\")\n",
        "print(arr_sum)\n",
        "\n",
        "# subtract one array from another element-wise\n",
        "arr_diff = arr1 - arr2\n",
        "print(\"Array difference:\")\n",
        "print(arr_diff)\n",
        "\n",
        "# multiply two arrays element-wise\n",
        "arr_product = arr1 * arr2\n",
        "print(\"Array product:\")\n",
        "print(arr_product)\n",
        "\n",
        "# divide one array by another element-wise\n",
        "arr_quotient = arr1 / arr2\n",
        "print(\"Array quotient:\")\n",
        "print(arr_quotient)\n",
        "\n",
        "# raise one array to the power of another element-wise\n",
        "arr_power = arr1 ** arr2\n",
        "print(\"Array power:\")\n",
        "print(arr_power)\n"
      ],
      "metadata": {
        "colab": {
          "base_uri": "https://localhost:8080/"
        },
        "id": "JvIK3PKbJtzF",
        "outputId": "2378bed0-4ded-4e15-f979-6d78948d2e6e"
      },
      "execution_count": null,
      "outputs": [
        {
          "output_type": "stream",
          "name": "stdout",
          "text": [
            "Array sum:\n",
            "[[ 6  8]\n",
            " [10 12]]\n",
            "Array difference:\n",
            "[[-4 -4]\n",
            " [-4 -4]]\n",
            "Array product:\n",
            "[[ 5 12]\n",
            " [21 32]]\n",
            "Array quotient:\n",
            "[[0.2        0.33333333]\n",
            " [0.42857143 0.5       ]]\n",
            "Array power:\n",
            "[[    1    64]\n",
            " [ 2187 65536]]\n"
          ]
        }
      ]
    },
    {
      "cell_type": "markdown",
      "source": [
        "### Creating Arrays, Indexing, Slicing, and subsetting"
      ],
      "metadata": {
        "id": "jnfmslGX9ebJ"
      }
    },
    {
      "cell_type": "code",
      "source": [
        "import numpy as np\n",
        "\n",
        "# NumPy Creating Arrays\n",
        "# Creating an array from a list\n",
        "my_list = [1, 2, 3, 4, 5]\n",
        "my_array = np.array(my_list)\n",
        "print(my_array)\n",
        "\n",
        "# Creating an array of zeros\n",
        "zeros_array = np.zeros(5)\n",
        "print(zeros_array)\n",
        "\n",
        "# Creating an array of ones\n",
        "ones_array = np.ones(5)\n",
        "print(ones_array)\n",
        "\n",
        "# Creating a 1D array\n",
        "arr = np.array([1, 2, 3, 4, 5])\n",
        "\n",
        "# Printing the array\n",
        "print(\"Original array:\", arr)\n",
        "\n",
        "# Selecting a single element\n",
        "print(\"Element at index 2:\", arr[2])\n",
        "\n",
        "# Selecting a range of elements using slicing\n",
        "print(\"Elements from index 1 to 3:\", arr[1:4])\n",
        "\n",
        "# Selecting every other element using slicing\n",
        "print(\"Every other element:\", arr[::2])\n",
        "\n",
        "# Creating a 2D array\n",
        "arr_2d = np.array([[1, 2, 3], [4, 5, 6], [7, 8, 9]])\n",
        "\n",
        "# Printing the array\n",
        "print(\"Original 2D array:\\n\", arr_2d)\n",
        "\n",
        "# Selecting a single element\n",
        "print(\"Element at row 1, column 2:\", arr_2d[1, 2])\n",
        "\n",
        "# Selecting a row using slicing\n",
        "print(\"Row 2:\", arr_2d[1, :])\n",
        "\n",
        "# Selecting a column using slicing\n",
        "print(\"Column 3:\", arr_2d[:, 2])\n",
        "\n",
        "# Selecting a subarray using slicing\n",
        "print(\"Subarray at row 1 and 2, column 2 and 3:\\n\", arr_2d[1:3, 1:3])\n",
        "\n",
        "# Subsetting the array to get only the values greater than 3\n",
        "subset_arr = arr[arr > 3]"
      ],
      "metadata": {
        "colab": {
          "base_uri": "https://localhost:8080/"
        },
        "id": "n7SQu5HU-CNh",
        "outputId": "8905c7b8-78b5-4571-bdc5-74eabb2e723d"
      },
      "execution_count": null,
      "outputs": [
        {
          "output_type": "stream",
          "name": "stdout",
          "text": [
            "[1 2 3 4 5]\n",
            "[0. 0. 0. 0. 0.]\n",
            "[1. 1. 1. 1. 1.]\n",
            "Original array: [1 2 3 4 5]\n",
            "Element at index 2: 3\n",
            "Elements from index 1 to 3: [2 3 4]\n",
            "Every other element: [1 3 5]\n",
            "Original 2D array:\n",
            " [[1 2 3]\n",
            " [4 5 6]\n",
            " [7 8 9]]\n",
            "Element at row 1, column 2: 6\n",
            "Row 2: [4 5 6]\n",
            "Column 3: [3 6 9]\n",
            "Subarray at row 1 and 2, column 2 and 3:\n",
            " [[5 6]\n",
            " [8 9]]\n"
          ]
        }
      ]
    },
    {
      "cell_type": "code",
      "source": [
        "# boolean indexing: a way to select values from a NumPy array based on a boolean condition.\n",
        "\n",
        "bmi = np.array([1, 2, 3, 4, 25, 55])\n",
        "\n",
        "# Create the light array\n",
        "light = bmi < 21\n",
        "\n",
        "# Print out light\n",
        "print(light)\n",
        "\n",
        "# Print out BMIs of all baseball players whose BMI is below 21\n",
        "print(bmi[light])"
      ],
      "metadata": {
        "colab": {
          "base_uri": "https://localhost:8080/"
        },
        "id": "G1m89RA0Ddsa",
        "outputId": "ac98d504-ff9f-495b-8a19-dd4b85036e56"
      },
      "execution_count": null,
      "outputs": [
        {
          "output_type": "stream",
          "name": "stdout",
          "text": [
            "[ True  True  True  True False False]\n",
            "[1 2 3 4]\n"
          ]
        }
      ]
    },
    {
      "cell_type": "markdown",
      "source": [
        "There are several techniques and tricks to select values from a NumPy array:\n",
        "\n",
        "\n",
        "    Using boolean indexing: You can create a boolean mask to select specific values from a NumPy array based on a condition.\n",
        "\n",
        "    Using integer indexing: You can use integer indices to select specific rows or columns of a NumPy array.\n",
        "\n",
        "    Using slicing: You can use the slicing operator : to select a subset of the elements in a NumPy array.\n",
        "\n",
        "    Using the where() function: You can use the where() function to select values from a NumPy array based on a condition.\n",
        "\n",
        "    Using the take() function: You can use the take() function to select specific values from a NumPy array based on their index.\n",
        "\n",
        "    Using the choose() function: You can use the choose() function to select specific values from a NumPy array based on their index.\n",
        "\n",
        "    Using the compress() function: You can use the compress() function to select specific values from a NumPy array based on a boolean mask.\n",
        "\n",
        "These techniques can be used in combination to create more complex selection criteria.\n"
      ],
      "metadata": {
        "id": "13sS_hTXFJiX"
      }
    },
    {
      "cell_type": "markdown",
      "source": [
        "### functions for arithmetic operations on 2D arrays\n",
        "\n",
        "    np.add(): performs element-wise addition of two arrays.\n",
        "    np.subtract(): performs element-wise subtraction of two arrays.\n",
        "    np.multiply(): performs element-wise multiplication of two arrays.\n",
        "    np.divide(): performs element-wise division of two arrays.\n",
        "    np.dot(): performs dot product of two arrays.\n",
        "    np.matmul(): performs matrix multiplication of two arrays.\n",
        "    np.transpose(): transposes the array.\n",
        "    np.sum(): returns the sum of all elements in the array or along a specific axis.\n",
        "    np.mean(): returns the mean of all elements in the array or along a specific axis."
      ],
      "metadata": {
        "id": "DPn5iExoDOoC"
      }
    },
    {
      "cell_type": "code",
      "source": [
        "import numpy as np\n",
        "\n",
        "# creating 2D arrays\n",
        "a = np.array([[1, 2, 3], [4, 5, 6], [7, 8, 9]])\n",
        "b = np.array([[2, 2, 2], [3, 3, 3], [4, 4, 4]])\n",
        "\n",
        "# element-wise addition\n",
        "c = np.add(a, b)\n",
        "print(\"Element-wise addition:\\n\", c)\n",
        "\n",
        "# element-wise subtraction\n",
        "d = np.subtract(a, b)\n",
        "print(\"Element-wise subtraction:\\n\", d)\n",
        "\n",
        "# element-wise multiplication\n",
        "e = np.multiply(a, b)\n",
        "print(\"Element-wise multiplication:\\n\", e)\n",
        "\n",
        "# element-wise division\n",
        "f = np.divide(a, b)\n",
        "print(\"Element-wise division:\\n\", f)\n",
        "\n",
        "# dot product\n",
        "g = np.dot(a, b)\n",
        "print(\"Dot product:\\n\", g)\n",
        "\n",
        "# matrix multiplication\n",
        "h = np.matmul(a, b)\n",
        "print(\"Matrix multiplication:\\n\", h)\n",
        "\n",
        "# transpose\n",
        "i = np.transpose(a)\n",
        "print(\"Transpose:\\n\", i)\n",
        "\n",
        "# sum along axis 0\n",
        "j = np.sum(a, axis=0)\n",
        "print(\"Sum along axis 0:\\n\", j)\n",
        "\n",
        "# sum along axis 1\n",
        "k = np.sum(a, axis=1)\n",
        "print(\"Sum along axis 1:\\n\", k)\n"
      ],
      "metadata": {
        "colab": {
          "base_uri": "https://localhost:8080/"
        },
        "id": "IGZJHvYK9_t0",
        "outputId": "1372b46e-98c7-443e-d944-0fe53a6ef057"
      },
      "execution_count": null,
      "outputs": [
        {
          "output_type": "stream",
          "name": "stdout",
          "text": [
            "Element-wise addition:\n",
            " [[ 3  4  5]\n",
            " [ 7  8  9]\n",
            " [11 12 13]]\n",
            "Element-wise subtraction:\n",
            " [[-1  0  1]\n",
            " [ 1  2  3]\n",
            " [ 3  4  5]]\n",
            "Element-wise multiplication:\n",
            " [[ 2  4  6]\n",
            " [12 15 18]\n",
            " [28 32 36]]\n",
            "Element-wise division:\n",
            " [[0.5        1.         1.5       ]\n",
            " [1.33333333 1.66666667 2.        ]\n",
            " [1.75       2.         2.25      ]]\n",
            "Dot product:\n",
            " [[20 20 20]\n",
            " [47 47 47]\n",
            " [74 74 74]]\n",
            "Matrix multiplication:\n",
            " [[20 20 20]\n",
            " [47 47 47]\n",
            " [74 74 74]]\n",
            "Transpose:\n",
            " [[1 4 7]\n",
            " [2 5 8]\n",
            " [3 6 9]]\n",
            "Sum along axis 0:\n",
            " [12 15 18]\n",
            "Sum along axis 1:\n",
            " [ 6 15 24]\n"
          ]
        }
      ]
    },
    {
      "cell_type": "markdown",
      "source": [
        "NumPy functions that perform element-wise logical operations on arrays:\n",
        "`np.logical_and()`, `np.logical_or()`, and `np.logical_not()` \n",
        "\n"
      ],
      "metadata": {
        "id": "BSqHfxR8S4bH"
      }
    },
    {
      "cell_type": "code",
      "source": [
        "my_house = np.array([18.0, 20.0, 10.75, 9.50])\n",
        "your_house = np.array([14.0, 24.0, 14.25, 9.0])\n",
        "\n",
        "np.logical_and(my_house > 13, \n",
        "               your_house < 15)"
      ],
      "metadata": {
        "colab": {
          "base_uri": "https://localhost:8080/"
        },
        "id": "O9UaBz7dTKt-",
        "outputId": "3ec9a234-6da7-49f2-9cb8-07d97af15141"
      },
      "execution_count": null,
      "outputs": [
        {
          "output_type": "execute_result",
          "data": {
            "text/plain": [
              "array([ True, False, False, False])"
            ]
          },
          "metadata": {},
          "execution_count": 17
        }
      ]
    },
    {
      "cell_type": "code",
      "source": [],
      "metadata": {
        "id": "ej9KadUfE_xD"
      },
      "execution_count": null,
      "outputs": []
    },
    {
      "cell_type": "markdown",
      "source": [
        "### NumPy statistical functions \n",
        "\n",
        "    numpy.mean(): Calculates the arithmetic mean of the elements in the array.\n",
        "    numpy.median(): Calculates the median of the elements in the array.\n",
        "    numpy.std(): Calculates the standard deviation of the elements in the array.\n",
        "    numpy.var(): Calculates the variance of the elements in the array.\n",
        "    numpy.min(): Finds the minimum value of the elements in the array.\n",
        "    numpy.max(): Finds the maximum value of the elements in the array."
      ],
      "metadata": {
        "id": "DA21fUIjFAr0"
      }
    },
    {
      "cell_type": "code",
      "source": [
        "\n",
        "# mean along axis 0\n",
        "l = np.mean(a, axis=0)\n",
        "print(\"Mean along axis 0:\\n\", l)\n",
        "\n",
        "# mean along axis 1\n",
        "m = np.mean(a, axis=1)\n",
        "print(\"Mean along axis 1:\\n\", m)\n",
        "\n",
        "# Calculate the median of the array\n",
        "median = np.median(my_array)\n",
        "print(\"The median of the array is:\", median)\n",
        "\n",
        "\n",
        "\n",
        "# Calculate the mean of the array\n",
        "mean = np.mean(arr)\n",
        "print(\"Mean:\", mean)  # Output: Mean: 3.0\n",
        "\n",
        "# Calculate the median of the array\n",
        "median = np.median(arr)\n",
        "print(\"Median:\", median)  # Output: Median: 3.0\n",
        "\n",
        "# Calculate the standard deviation of the array\n",
        "std = np.std(arr)\n",
        "print(\"Standard deviation:\", std)  # Output: Standard deviation: 1.4142135623730951\n",
        "\n",
        "# Calculate the variance of the array\n",
        "var = np.var(arr)\n",
        "print(\"Variance:\", var)  # Output: Variance: 2.0\n",
        "\n",
        "# Find the minimum value of the array\n",
        "min_val = np.min(arr)\n",
        "print(\"Minimum value:\", min_val)  # Output: Minimum value: 1\n",
        "\n",
        "# Find the maximum value of the array\n",
        "max_val = np.max(arr)\n",
        "print(\"Maximum value:\", max_val)  # Output: Maximum value: 5\n",
        "\n",
        "# Correlation coefficient\n",
        "arr = np.array([[1, 2, 3], [4, 5, 6], [7, 8, 9]])\n",
        "arr2 = np.array([[2, 4, 6], [1, 3, 5], [3, 6, 9]])\n",
        "corr_coef = np.corrcoef(arr, arr2)\n",
        "print(\"Correlation coefficient:\\n\", corr_coef)\n"
      ],
      "metadata": {
        "colab": {
          "base_uri": "https://localhost:8080/"
        },
        "id": "mCdhS2lMFORh",
        "outputId": "c4753f44-ff96-48a2-aae4-24fe892e15bb"
      },
      "execution_count": null,
      "outputs": [
        {
          "output_type": "stream",
          "name": "stdout",
          "text": [
            "Mean along axis 0:\n",
            " [4. 5. 6.]\n",
            "Mean along axis 1:\n",
            " [2. 5. 8.]\n",
            "The median of the array is: 3.0\n",
            "Mean: 3.0\n",
            "Median: 3.0\n",
            "Standard deviation: 1.4142135623730951\n",
            "Variance: 2.0\n",
            "Minimum value: 1\n",
            "Maximum value: 5\n",
            "Correlation coefficient:\n",
            " [[1. 1. 1. 1. 1. 1.]\n",
            " [1. 1. 1. 1. 1. 1.]\n",
            " [1. 1. 1. 1. 1. 1.]\n",
            " [1. 1. 1. 1. 1. 1.]\n",
            " [1. 1. 1. 1. 1. 1.]\n",
            " [1. 1. 1. 1. 1. 1.]]\n"
          ]
        }
      ]
    },
    {
      "cell_type": "markdown",
      "source": [
        "# Pandas"
      ],
      "metadata": {
        "id": "Ey5Wo3A3yzfJ"
      }
    },
    {
      "cell_type": "markdown",
      "source": [
        "## Dictionary\n",
        "\n",
        "\n",
        "```\n",
        "Create, Read, Update, Delete operations\n",
        "```\n",
        "\n",
        "\n"
      ],
      "metadata": {
        "id": "QLUCYK5gALky"
      }
    },
    {
      "cell_type": "code",
      "source": [
        "ages = {'John': 32, 'Jane': 28, 'Bob': 45}\n",
        "\n",
        "print(ages['John'])  # prints 32\n",
        "\n",
        "ages['Alice'] = 20\n",
        "\n",
        "del ages['Bob']\n",
        "\n",
        "print(ages.keys())  # prints ['John', 'Jane', 'Alice']\n",
        "print(ages.values())  # prints [32, 28, 20]\n",
        "print(ages.items())  # prints [('John', 32), ('Jane', 28), ('Alice', 20)]\n"
      ],
      "metadata": {
        "colab": {
          "base_uri": "https://localhost:8080/"
        },
        "id": "iOacJ_9GzySR",
        "outputId": "436175b2-9ae5-4015-ac3e-8066488cae4b"
      },
      "execution_count": null,
      "outputs": [
        {
          "output_type": "stream",
          "name": "stdout",
          "text": [
            "32\n",
            "dict_keys(['John', 'Jane', 'Alice'])\n",
            "dict_values([32, 28, 20])\n",
            "dict_items([('John', 32), ('Jane', 28), ('Alice', 20)])\n"
          ]
        }
      ]
    },
    {
      "cell_type": "markdown",
      "source": [
        "### 2d dictionary \n",
        "\n",
        "```\n",
        ".update() method\n",
        "add sub-dictionary \n",
        "key in dict\n",
        "```\n"
      ],
      "metadata": {
        "id": "FG-FL0jvF35D"
      }
    },
    {
      "cell_type": "code",
      "source": [
        "import pprint\n",
        "\n",
        "# Dictionary of dictionaries\n",
        "europe = { 'spain': { 'capital':'madrid', 'population':46.77 },\n",
        "           'france': { 'capital':'paris', 'population':66.03 },\n",
        "           'germany': { 'capital':'berlin', 'population':80.62 },\n",
        "           'norway': { 'capital':'oslo', 'population':5.084 } }\n",
        "\n",
        "\n",
        "# Print out the capital of France\n",
        "print(europe['france']['capital'])  # OUTPUT: paris\n",
        "\n",
        "\n",
        "# key in dict: Returns True if the specified key is in the dictionary, False otherwise.\n",
        "print('italy' in europe)  # OUTPUT: False\n",
        "\n",
        "# Create sub-dictionary data\n",
        "data = {'capital':'rome', 'population': 59.83}\n",
        "\n",
        "# Add data to europe under key 'italy'\n",
        "europe.update({'italy': data})\n",
        "\n",
        "# Print europe\n",
        "pprint.pprint(europe)"
      ],
      "metadata": {
        "colab": {
          "base_uri": "https://localhost:8080/"
        },
        "id": "AKeAXjDQEnU1",
        "outputId": "f17f3ad9-6d0d-4476-803c-4e92fb12b36e"
      },
      "execution_count": null,
      "outputs": [
        {
          "output_type": "stream",
          "name": "stdout",
          "text": [
            "paris\n",
            "False\n",
            "{'france': {'capital': 'paris', 'population': 66.03},\n",
            " 'germany': {'capital': 'berlin', 'population': 80.62},\n",
            " 'italy': {'capital': 'rome', 'population': 59.83},\n",
            " 'norway': {'capital': 'oslo', 'population': 5.084},\n",
            " 'spain': {'capital': 'madrid', 'population': 46.77}}\n"
          ]
        }
      ]
    },
    {
      "cell_type": "markdown",
      "source": [],
      "metadata": {
        "id": "f9clxjHFIC-Z"
      }
    },
    {
      "cell_type": "code",
      "source": [
        "# creating / converting a dictionary to a dataframe\n",
        "import pandas as pd\n",
        "europe_df = pd.DataFrame(europe)\n",
        "europe_df"
      ],
      "metadata": {
        "colab": {
          "base_uri": "https://localhost:8080/",
          "height": 112
        },
        "id": "9Jc05nEqIDJZ",
        "outputId": "59aa0e74-97b5-4b4d-a636-5ba8733bf91b"
      },
      "execution_count": null,
      "outputs": [
        {
          "output_type": "execute_result",
          "data": {
            "text/plain": [
              "             spain france germany norway  italy\n",
              "capital     madrid  paris  berlin   oslo   rome\n",
              "population   46.77  66.03   80.62  5.084  59.83"
            ],
            "text/html": [
              "\n",
              "  <div id=\"df-06e2bfa8-dd23-40e9-a131-2eb3d755781b\">\n",
              "    <div class=\"colab-df-container\">\n",
              "      <div>\n",
              "<style scoped>\n",
              "    .dataframe tbody tr th:only-of-type {\n",
              "        vertical-align: middle;\n",
              "    }\n",
              "\n",
              "    .dataframe tbody tr th {\n",
              "        vertical-align: top;\n",
              "    }\n",
              "\n",
              "    .dataframe thead th {\n",
              "        text-align: right;\n",
              "    }\n",
              "</style>\n",
              "<table border=\"1\" class=\"dataframe\">\n",
              "  <thead>\n",
              "    <tr style=\"text-align: right;\">\n",
              "      <th></th>\n",
              "      <th>spain</th>\n",
              "      <th>france</th>\n",
              "      <th>germany</th>\n",
              "      <th>norway</th>\n",
              "      <th>italy</th>\n",
              "    </tr>\n",
              "  </thead>\n",
              "  <tbody>\n",
              "    <tr>\n",
              "      <th>capital</th>\n",
              "      <td>madrid</td>\n",
              "      <td>paris</td>\n",
              "      <td>berlin</td>\n",
              "      <td>oslo</td>\n",
              "      <td>rome</td>\n",
              "    </tr>\n",
              "    <tr>\n",
              "      <th>population</th>\n",
              "      <td>46.77</td>\n",
              "      <td>66.03</td>\n",
              "      <td>80.62</td>\n",
              "      <td>5.084</td>\n",
              "      <td>59.83</td>\n",
              "    </tr>\n",
              "  </tbody>\n",
              "</table>\n",
              "</div>\n",
              "      <button class=\"colab-df-convert\" onclick=\"convertToInteractive('df-06e2bfa8-dd23-40e9-a131-2eb3d755781b')\"\n",
              "              title=\"Convert this dataframe to an interactive table.\"\n",
              "              style=\"display:none;\">\n",
              "        \n",
              "  <svg xmlns=\"http://www.w3.org/2000/svg\" height=\"24px\"viewBox=\"0 0 24 24\"\n",
              "       width=\"24px\">\n",
              "    <path d=\"M0 0h24v24H0V0z\" fill=\"none\"/>\n",
              "    <path d=\"M18.56 5.44l.94 2.06.94-2.06 2.06-.94-2.06-.94-.94-2.06-.94 2.06-2.06.94zm-11 1L8.5 8.5l.94-2.06 2.06-.94-2.06-.94L8.5 2.5l-.94 2.06-2.06.94zm10 10l.94 2.06.94-2.06 2.06-.94-2.06-.94-.94-2.06-.94 2.06-2.06.94z\"/><path d=\"M17.41 7.96l-1.37-1.37c-.4-.4-.92-.59-1.43-.59-.52 0-1.04.2-1.43.59L10.3 9.45l-7.72 7.72c-.78.78-.78 2.05 0 2.83L4 21.41c.39.39.9.59 1.41.59.51 0 1.02-.2 1.41-.59l7.78-7.78 2.81-2.81c.8-.78.8-2.07 0-2.86zM5.41 20L4 18.59l7.72-7.72 1.47 1.35L5.41 20z\"/>\n",
              "  </svg>\n",
              "      </button>\n",
              "      \n",
              "  <style>\n",
              "    .colab-df-container {\n",
              "      display:flex;\n",
              "      flex-wrap:wrap;\n",
              "      gap: 12px;\n",
              "    }\n",
              "\n",
              "    .colab-df-convert {\n",
              "      background-color: #E8F0FE;\n",
              "      border: none;\n",
              "      border-radius: 50%;\n",
              "      cursor: pointer;\n",
              "      display: none;\n",
              "      fill: #1967D2;\n",
              "      height: 32px;\n",
              "      padding: 0 0 0 0;\n",
              "      width: 32px;\n",
              "    }\n",
              "\n",
              "    .colab-df-convert:hover {\n",
              "      background-color: #E2EBFA;\n",
              "      box-shadow: 0px 1px 2px rgba(60, 64, 67, 0.3), 0px 1px 3px 1px rgba(60, 64, 67, 0.15);\n",
              "      fill: #174EA6;\n",
              "    }\n",
              "\n",
              "    [theme=dark] .colab-df-convert {\n",
              "      background-color: #3B4455;\n",
              "      fill: #D2E3FC;\n",
              "    }\n",
              "\n",
              "    [theme=dark] .colab-df-convert:hover {\n",
              "      background-color: #434B5C;\n",
              "      box-shadow: 0px 1px 3px 1px rgba(0, 0, 0, 0.15);\n",
              "      filter: drop-shadow(0px 1px 2px rgba(0, 0, 0, 0.3));\n",
              "      fill: #FFFFFF;\n",
              "    }\n",
              "  </style>\n",
              "\n",
              "      <script>\n",
              "        const buttonEl =\n",
              "          document.querySelector('#df-06e2bfa8-dd23-40e9-a131-2eb3d755781b button.colab-df-convert');\n",
              "        buttonEl.style.display =\n",
              "          google.colab.kernel.accessAllowed ? 'block' : 'none';\n",
              "\n",
              "        async function convertToInteractive(key) {\n",
              "          const element = document.querySelector('#df-06e2bfa8-dd23-40e9-a131-2eb3d755781b');\n",
              "          const dataTable =\n",
              "            await google.colab.kernel.invokeFunction('convertToInteractive',\n",
              "                                                     [key], {});\n",
              "          if (!dataTable) return;\n",
              "\n",
              "          const docLinkHtml = 'Like what you see? Visit the ' +\n",
              "            '<a target=\"_blank\" href=https://colab.research.google.com/notebooks/data_table.ipynb>data table notebook</a>'\n",
              "            + ' to learn more about interactive tables.';\n",
              "          element.innerHTML = '';\n",
              "          dataTable['output_type'] = 'display_data';\n",
              "          await google.colab.output.renderOutput(dataTable, element);\n",
              "          const docLink = document.createElement('div');\n",
              "          docLink.innerHTML = docLinkHtml;\n",
              "          element.appendChild(docLink);\n",
              "        }\n",
              "      </script>\n",
              "    </div>\n",
              "  </div>\n",
              "  "
            ]
          },
          "metadata": {},
          "execution_count": 21
        }
      ]
    },
    {
      "cell_type": "code",
      "source": [
        "# Convert CSV (comma-separated values) text file to a DataFrame\n",
        "# europe_df = pd.read_csv('cars.csv', index_col=0)\n"
      ],
      "metadata": {
        "id": "M7lUbvXwJyAf"
      },
      "execution_count": null,
      "outputs": []
    },
    {
      "cell_type": "code",
      "source": [
        "# Update row labels using .index()\n",
        "row_labels = ['city', 'people']\n",
        "\n",
        "europe_df.index = row_labels\n",
        "\n",
        "europe_df"
      ],
      "metadata": {
        "colab": {
          "base_uri": "https://localhost:8080/",
          "height": 112
        },
        "id": "c-WEPQx9IyzS",
        "outputId": "9c3b7e45-22bd-4a19-e39d-e6e9efd6d3b1"
      },
      "execution_count": null,
      "outputs": [
        {
          "output_type": "execute_result",
          "data": {
            "text/plain": [
              "         spain france germany norway  italy\n",
              "city    madrid  paris  berlin   oslo   rome\n",
              "people   46.77  66.03   80.62  5.084  59.83"
            ],
            "text/html": [
              "\n",
              "  <div id=\"df-4b1db7e2-cb15-416a-a430-1f39efc06347\">\n",
              "    <div class=\"colab-df-container\">\n",
              "      <div>\n",
              "<style scoped>\n",
              "    .dataframe tbody tr th:only-of-type {\n",
              "        vertical-align: middle;\n",
              "    }\n",
              "\n",
              "    .dataframe tbody tr th {\n",
              "        vertical-align: top;\n",
              "    }\n",
              "\n",
              "    .dataframe thead th {\n",
              "        text-align: right;\n",
              "    }\n",
              "</style>\n",
              "<table border=\"1\" class=\"dataframe\">\n",
              "  <thead>\n",
              "    <tr style=\"text-align: right;\">\n",
              "      <th></th>\n",
              "      <th>spain</th>\n",
              "      <th>france</th>\n",
              "      <th>germany</th>\n",
              "      <th>norway</th>\n",
              "      <th>italy</th>\n",
              "    </tr>\n",
              "  </thead>\n",
              "  <tbody>\n",
              "    <tr>\n",
              "      <th>city</th>\n",
              "      <td>madrid</td>\n",
              "      <td>paris</td>\n",
              "      <td>berlin</td>\n",
              "      <td>oslo</td>\n",
              "      <td>rome</td>\n",
              "    </tr>\n",
              "    <tr>\n",
              "      <th>people</th>\n",
              "      <td>46.77</td>\n",
              "      <td>66.03</td>\n",
              "      <td>80.62</td>\n",
              "      <td>5.084</td>\n",
              "      <td>59.83</td>\n",
              "    </tr>\n",
              "  </tbody>\n",
              "</table>\n",
              "</div>\n",
              "      <button class=\"colab-df-convert\" onclick=\"convertToInteractive('df-4b1db7e2-cb15-416a-a430-1f39efc06347')\"\n",
              "              title=\"Convert this dataframe to an interactive table.\"\n",
              "              style=\"display:none;\">\n",
              "        \n",
              "  <svg xmlns=\"http://www.w3.org/2000/svg\" height=\"24px\"viewBox=\"0 0 24 24\"\n",
              "       width=\"24px\">\n",
              "    <path d=\"M0 0h24v24H0V0z\" fill=\"none\"/>\n",
              "    <path d=\"M18.56 5.44l.94 2.06.94-2.06 2.06-.94-2.06-.94-.94-2.06-.94 2.06-2.06.94zm-11 1L8.5 8.5l.94-2.06 2.06-.94-2.06-.94L8.5 2.5l-.94 2.06-2.06.94zm10 10l.94 2.06.94-2.06 2.06-.94-2.06-.94-.94-2.06-.94 2.06-2.06.94z\"/><path d=\"M17.41 7.96l-1.37-1.37c-.4-.4-.92-.59-1.43-.59-.52 0-1.04.2-1.43.59L10.3 9.45l-7.72 7.72c-.78.78-.78 2.05 0 2.83L4 21.41c.39.39.9.59 1.41.59.51 0 1.02-.2 1.41-.59l7.78-7.78 2.81-2.81c.8-.78.8-2.07 0-2.86zM5.41 20L4 18.59l7.72-7.72 1.47 1.35L5.41 20z\"/>\n",
              "  </svg>\n",
              "      </button>\n",
              "      \n",
              "  <style>\n",
              "    .colab-df-container {\n",
              "      display:flex;\n",
              "      flex-wrap:wrap;\n",
              "      gap: 12px;\n",
              "    }\n",
              "\n",
              "    .colab-df-convert {\n",
              "      background-color: #E8F0FE;\n",
              "      border: none;\n",
              "      border-radius: 50%;\n",
              "      cursor: pointer;\n",
              "      display: none;\n",
              "      fill: #1967D2;\n",
              "      height: 32px;\n",
              "      padding: 0 0 0 0;\n",
              "      width: 32px;\n",
              "    }\n",
              "\n",
              "    .colab-df-convert:hover {\n",
              "      background-color: #E2EBFA;\n",
              "      box-shadow: 0px 1px 2px rgba(60, 64, 67, 0.3), 0px 1px 3px 1px rgba(60, 64, 67, 0.15);\n",
              "      fill: #174EA6;\n",
              "    }\n",
              "\n",
              "    [theme=dark] .colab-df-convert {\n",
              "      background-color: #3B4455;\n",
              "      fill: #D2E3FC;\n",
              "    }\n",
              "\n",
              "    [theme=dark] .colab-df-convert:hover {\n",
              "      background-color: #434B5C;\n",
              "      box-shadow: 0px 1px 3px 1px rgba(0, 0, 0, 0.15);\n",
              "      filter: drop-shadow(0px 1px 2px rgba(0, 0, 0, 0.3));\n",
              "      fill: #FFFFFF;\n",
              "    }\n",
              "  </style>\n",
              "\n",
              "      <script>\n",
              "        const buttonEl =\n",
              "          document.querySelector('#df-4b1db7e2-cb15-416a-a430-1f39efc06347 button.colab-df-convert');\n",
              "        buttonEl.style.display =\n",
              "          google.colab.kernel.accessAllowed ? 'block' : 'none';\n",
              "\n",
              "        async function convertToInteractive(key) {\n",
              "          const element = document.querySelector('#df-4b1db7e2-cb15-416a-a430-1f39efc06347');\n",
              "          const dataTable =\n",
              "            await google.colab.kernel.invokeFunction('convertToInteractive',\n",
              "                                                     [key], {});\n",
              "          if (!dataTable) return;\n",
              "\n",
              "          const docLinkHtml = 'Like what you see? Visit the ' +\n",
              "            '<a target=\"_blank\" href=https://colab.research.google.com/notebooks/data_table.ipynb>data table notebook</a>'\n",
              "            + ' to learn more about interactive tables.';\n",
              "          element.innerHTML = '';\n",
              "          dataTable['output_type'] = 'display_data';\n",
              "          await google.colab.output.renderOutput(dataTable, element);\n",
              "          const docLink = document.createElement('div');\n",
              "          docLink.innerHTML = docLinkHtml;\n",
              "          element.appendChild(docLink);\n",
              "        }\n",
              "      </script>\n",
              "    </div>\n",
              "  </div>\n",
              "  "
            ]
          },
          "metadata": {},
          "execution_count": 23
        }
      ]
    },
    {
      "cell_type": "code",
      "source": [
        "# Print out country column as Pandas Series\n",
        "print(\"Pandas Series:\\n\", europe_df['spain'], \"\\n\")\n",
        "\n",
        "# Print out country column as Pandas DataFrame\n",
        "print(\"Pandas DataFrame:\\n\", europe_df[['spain']], \"\\n\")\n",
        "\n"
      ],
      "metadata": {
        "colab": {
          "base_uri": "https://localhost:8080/"
        },
        "id": "l_q7laU6KZGB",
        "outputId": "7e9cf9f3-7dff-4bfe-a461-a6e4a47f6716"
      },
      "execution_count": null,
      "outputs": [
        {
          "output_type": "stream",
          "name": "stdout",
          "text": [
            "Pandas Series:\n",
            " city      madrid\n",
            "people     46.77\n",
            "Name: spain, dtype: object \n",
            "\n",
            "Pandas DataFrame:\n",
            "          spain\n",
            "city    madrid\n",
            "people   46.77 \n",
            "\n"
          ]
        }
      ]
    },
    {
      "cell_type": "markdown",
      "source": [
        "## select cells in a Pandas DataFrame"
      ],
      "metadata": {
        "id": "5ytdPD3QJQxj"
      }
    },
    {
      "cell_type": "markdown",
      "source": [
        "There are several ways to select cells in a Pandas DataFrame:\n",
        "\n",
        "1. Using **square bracket notation**: you can **select one or more columns** by passing a string or a list of strings containing the column name(s), and you can also filter rows based on conditions using boolean indexing.\n",
        "   Example: \n",
        "\n",
        "   - `df['column_name']`\n",
        "   - `df[['column_name_1', 'column_name_2']]`\n",
        "   - `df[df['column_name'] > 10]`\n",
        "\n",
        "\n",
        "2. Using the `.loc[]` accessor: you can **select rows and columns** based on labels (i.e., row and column names).\n",
        "   Example: \n",
        "   - `df.loc[row_label, column_label]` # returns a single cell\n",
        "   - `df.loc[row_label, :]` # returns a row as a series\n",
        "   - `df.loc[:, 'column_label']` # returns column as Series\n",
        "   - `df.loc[:, ['column_label']]` # returns column as DataFrame\n",
        "   - `df.loc[row_label_1:row_label_2, column_label_1:column_label_2]` # returns the selected portion as a series\n",
        "   - `df.loc[['row_label_1', 'row_label_2'], ['column_label_1', 'column_label_2']]` # returns sub-DataFrame\n",
        "   - `df.loc[:, ['column_label_1', 'column_label_2']]` # returns 2 colums as DataFrame\n",
        "\n",
        "\n",
        "\n",
        "\n",
        "\n",
        "\n",
        "3. Using the `.iloc[]` accessor: you can **select rows and columns** based on integer indices (i.e., row and column positions).\n",
        "   Example: \n",
        "   - `df.iloc[row_index, column_index]`\n",
        "   - `df.iloc[:, column_index]`\n",
        "   - `df.iloc[row_index, :]`\n",
        "   - `df.iloc[row_index_1:row_index_2, column_index_1:column_index_2]`\n",
        "\n",
        "4. Using the `.at[]` accessor: you can select a scalar value based on a specific row and column label.\n",
        "   Example: \n",
        "   - `df.at[row_label, column_label]`\n",
        "\n",
        "5. Using the `.iat[]` accessor: you can select a scalar value based on specific row and column integer indices.\n",
        "   Example: \n",
        "   - `df.iat[row_index, column_index]`\n",
        "\n",
        "6. Using boolean indexing: you can filter rows based on one or more conditions using logical operators (e.g., `&` for \"and\", `|` for \"or\", `~` for \"not\").\n",
        "   Example: \n",
        "   - `df[(df['column_name_1'] > 10) & (df['column_name_2'] == 'value')]`\n",
        "\n",
        "Note that these methods can also be used to select rows or columns only, or to assign values to specific cells or slices of the DataFrame."
      ],
      "metadata": {
        "id": "IfzxNIqG3nuI"
      }
    },
    {
      "cell_type": "markdown",
      "source": [],
      "metadata": {
        "id": "aorxGyRV44pd"
      }
    },
    {
      "cell_type": "markdown",
      "source": [],
      "metadata": {
        "id": "QEIUAqlw4uzV"
      }
    },
    {
      "cell_type": "markdown",
      "source": [],
      "metadata": {
        "id": "MuPBif4a4VjU"
      }
    },
    {
      "cell_type": "markdown",
      "source": [],
      "metadata": {
        "id": "HIR1AX_t4KUi"
      }
    },
    {
      "cell_type": "code",
      "source": [],
      "metadata": {
        "id": "9uYjFigB2mgi"
      },
      "execution_count": null,
      "outputs": []
    },
    {
      "cell_type": "code",
      "source": [],
      "metadata": {
        "id": "MyjWWLjKVxq7"
      },
      "execution_count": null,
      "outputs": []
    },
    {
      "cell_type": "code",
      "source": [
        "# add new row to dataframe using .loc\n",
        "\n",
        "europe_df.loc[\"phone\"] = [34, 33, 49, 47, 39]\n",
        "europe_df"
      ],
      "metadata": {
        "colab": {
          "base_uri": "https://localhost:8080/",
          "height": 143
        },
        "id": "kAdDVNtjVfjb",
        "outputId": "25452683-6632-4459-f0ce-b24b31e2fefa"
      },
      "execution_count": null,
      "outputs": [
        {
          "output_type": "execute_result",
          "data": {
            "text/plain": [
              "         spain france germany norway  italy\n",
              "city    madrid  paris  berlin   oslo   rome\n",
              "people   46.77  66.03   80.62  5.084  59.83\n",
              "phone       34     33      49     47     39"
            ],
            "text/html": [
              "\n",
              "  <div id=\"df-7a9f46f7-d4f3-43a3-8c96-ac3e8564b6b1\">\n",
              "    <div class=\"colab-df-container\">\n",
              "      <div>\n",
              "<style scoped>\n",
              "    .dataframe tbody tr th:only-of-type {\n",
              "        vertical-align: middle;\n",
              "    }\n",
              "\n",
              "    .dataframe tbody tr th {\n",
              "        vertical-align: top;\n",
              "    }\n",
              "\n",
              "    .dataframe thead th {\n",
              "        text-align: right;\n",
              "    }\n",
              "</style>\n",
              "<table border=\"1\" class=\"dataframe\">\n",
              "  <thead>\n",
              "    <tr style=\"text-align: right;\">\n",
              "      <th></th>\n",
              "      <th>spain</th>\n",
              "      <th>france</th>\n",
              "      <th>germany</th>\n",
              "      <th>norway</th>\n",
              "      <th>italy</th>\n",
              "    </tr>\n",
              "  </thead>\n",
              "  <tbody>\n",
              "    <tr>\n",
              "      <th>city</th>\n",
              "      <td>madrid</td>\n",
              "      <td>paris</td>\n",
              "      <td>berlin</td>\n",
              "      <td>oslo</td>\n",
              "      <td>rome</td>\n",
              "    </tr>\n",
              "    <tr>\n",
              "      <th>people</th>\n",
              "      <td>46.77</td>\n",
              "      <td>66.03</td>\n",
              "      <td>80.62</td>\n",
              "      <td>5.084</td>\n",
              "      <td>59.83</td>\n",
              "    </tr>\n",
              "    <tr>\n",
              "      <th>phone</th>\n",
              "      <td>34</td>\n",
              "      <td>33</td>\n",
              "      <td>49</td>\n",
              "      <td>47</td>\n",
              "      <td>39</td>\n",
              "    </tr>\n",
              "  </tbody>\n",
              "</table>\n",
              "</div>\n",
              "      <button class=\"colab-df-convert\" onclick=\"convertToInteractive('df-7a9f46f7-d4f3-43a3-8c96-ac3e8564b6b1')\"\n",
              "              title=\"Convert this dataframe to an interactive table.\"\n",
              "              style=\"display:none;\">\n",
              "        \n",
              "  <svg xmlns=\"http://www.w3.org/2000/svg\" height=\"24px\"viewBox=\"0 0 24 24\"\n",
              "       width=\"24px\">\n",
              "    <path d=\"M0 0h24v24H0V0z\" fill=\"none\"/>\n",
              "    <path d=\"M18.56 5.44l.94 2.06.94-2.06 2.06-.94-2.06-.94-.94-2.06-.94 2.06-2.06.94zm-11 1L8.5 8.5l.94-2.06 2.06-.94-2.06-.94L8.5 2.5l-.94 2.06-2.06.94zm10 10l.94 2.06.94-2.06 2.06-.94-2.06-.94-.94-2.06-.94 2.06-2.06.94z\"/><path d=\"M17.41 7.96l-1.37-1.37c-.4-.4-.92-.59-1.43-.59-.52 0-1.04.2-1.43.59L10.3 9.45l-7.72 7.72c-.78.78-.78 2.05 0 2.83L4 21.41c.39.39.9.59 1.41.59.51 0 1.02-.2 1.41-.59l7.78-7.78 2.81-2.81c.8-.78.8-2.07 0-2.86zM5.41 20L4 18.59l7.72-7.72 1.47 1.35L5.41 20z\"/>\n",
              "  </svg>\n",
              "      </button>\n",
              "      \n",
              "  <style>\n",
              "    .colab-df-container {\n",
              "      display:flex;\n",
              "      flex-wrap:wrap;\n",
              "      gap: 12px;\n",
              "    }\n",
              "\n",
              "    .colab-df-convert {\n",
              "      background-color: #E8F0FE;\n",
              "      border: none;\n",
              "      border-radius: 50%;\n",
              "      cursor: pointer;\n",
              "      display: none;\n",
              "      fill: #1967D2;\n",
              "      height: 32px;\n",
              "      padding: 0 0 0 0;\n",
              "      width: 32px;\n",
              "    }\n",
              "\n",
              "    .colab-df-convert:hover {\n",
              "      background-color: #E2EBFA;\n",
              "      box-shadow: 0px 1px 2px rgba(60, 64, 67, 0.3), 0px 1px 3px 1px rgba(60, 64, 67, 0.15);\n",
              "      fill: #174EA6;\n",
              "    }\n",
              "\n",
              "    [theme=dark] .colab-df-convert {\n",
              "      background-color: #3B4455;\n",
              "      fill: #D2E3FC;\n",
              "    }\n",
              "\n",
              "    [theme=dark] .colab-df-convert:hover {\n",
              "      background-color: #434B5C;\n",
              "      box-shadow: 0px 1px 3px 1px rgba(0, 0, 0, 0.15);\n",
              "      filter: drop-shadow(0px 1px 2px rgba(0, 0, 0, 0.3));\n",
              "      fill: #FFFFFF;\n",
              "    }\n",
              "  </style>\n",
              "\n",
              "      <script>\n",
              "        const buttonEl =\n",
              "          document.querySelector('#df-7a9f46f7-d4f3-43a3-8c96-ac3e8564b6b1 button.colab-df-convert');\n",
              "        buttonEl.style.display =\n",
              "          google.colab.kernel.accessAllowed ? 'block' : 'none';\n",
              "\n",
              "        async function convertToInteractive(key) {\n",
              "          const element = document.querySelector('#df-7a9f46f7-d4f3-43a3-8c96-ac3e8564b6b1');\n",
              "          const dataTable =\n",
              "            await google.colab.kernel.invokeFunction('convertToInteractive',\n",
              "                                                     [key], {});\n",
              "          if (!dataTable) return;\n",
              "\n",
              "          const docLinkHtml = 'Like what you see? Visit the ' +\n",
              "            '<a target=\"_blank\" href=https://colab.research.google.com/notebooks/data_table.ipynb>data table notebook</a>'\n",
              "            + ' to learn more about interactive tables.';\n",
              "          element.innerHTML = '';\n",
              "          dataTable['output_type'] = 'display_data';\n",
              "          await google.colab.output.renderOutput(dataTable, element);\n",
              "          const docLink = document.createElement('div');\n",
              "          docLink.innerHTML = docLinkHtml;\n",
              "          element.appendChild(docLink);\n",
              "        }\n",
              "      </script>\n",
              "    </div>\n",
              "  </div>\n",
              "  "
            ]
          },
          "metadata": {},
          "execution_count": 25
        }
      ]
    },
    {
      "cell_type": "code",
      "source": [
        "# Add a new column to the DataFrame using .loc\n",
        "\n",
        "europe_df.loc[:, 'austria'] = ['vienna', 8.95, 43]\n",
        "europe_df"
      ],
      "metadata": {
        "colab": {
          "base_uri": "https://localhost:8080/",
          "height": 143
        },
        "id": "8AiP5dwpTccd",
        "outputId": "d466bd0d-07f1-428c-d825-0d14b79a3608"
      },
      "execution_count": null,
      "outputs": [
        {
          "output_type": "execute_result",
          "data": {
            "text/plain": [
              "         spain france germany norway  italy austria\n",
              "city    madrid  paris  berlin   oslo   rome  vienna\n",
              "people   46.77  66.03   80.62  5.084  59.83    8.95\n",
              "phone       34     33      49     47     39      43"
            ],
            "text/html": [
              "\n",
              "  <div id=\"df-9463a0b4-cd54-47bf-8759-a3c630a79986\">\n",
              "    <div class=\"colab-df-container\">\n",
              "      <div>\n",
              "<style scoped>\n",
              "    .dataframe tbody tr th:only-of-type {\n",
              "        vertical-align: middle;\n",
              "    }\n",
              "\n",
              "    .dataframe tbody tr th {\n",
              "        vertical-align: top;\n",
              "    }\n",
              "\n",
              "    .dataframe thead th {\n",
              "        text-align: right;\n",
              "    }\n",
              "</style>\n",
              "<table border=\"1\" class=\"dataframe\">\n",
              "  <thead>\n",
              "    <tr style=\"text-align: right;\">\n",
              "      <th></th>\n",
              "      <th>spain</th>\n",
              "      <th>france</th>\n",
              "      <th>germany</th>\n",
              "      <th>norway</th>\n",
              "      <th>italy</th>\n",
              "      <th>austria</th>\n",
              "    </tr>\n",
              "  </thead>\n",
              "  <tbody>\n",
              "    <tr>\n",
              "      <th>city</th>\n",
              "      <td>madrid</td>\n",
              "      <td>paris</td>\n",
              "      <td>berlin</td>\n",
              "      <td>oslo</td>\n",
              "      <td>rome</td>\n",
              "      <td>vienna</td>\n",
              "    </tr>\n",
              "    <tr>\n",
              "      <th>people</th>\n",
              "      <td>46.77</td>\n",
              "      <td>66.03</td>\n",
              "      <td>80.62</td>\n",
              "      <td>5.084</td>\n",
              "      <td>59.83</td>\n",
              "      <td>8.95</td>\n",
              "    </tr>\n",
              "    <tr>\n",
              "      <th>phone</th>\n",
              "      <td>34</td>\n",
              "      <td>33</td>\n",
              "      <td>49</td>\n",
              "      <td>47</td>\n",
              "      <td>39</td>\n",
              "      <td>43</td>\n",
              "    </tr>\n",
              "  </tbody>\n",
              "</table>\n",
              "</div>\n",
              "      <button class=\"colab-df-convert\" onclick=\"convertToInteractive('df-9463a0b4-cd54-47bf-8759-a3c630a79986')\"\n",
              "              title=\"Convert this dataframe to an interactive table.\"\n",
              "              style=\"display:none;\">\n",
              "        \n",
              "  <svg xmlns=\"http://www.w3.org/2000/svg\" height=\"24px\"viewBox=\"0 0 24 24\"\n",
              "       width=\"24px\">\n",
              "    <path d=\"M0 0h24v24H0V0z\" fill=\"none\"/>\n",
              "    <path d=\"M18.56 5.44l.94 2.06.94-2.06 2.06-.94-2.06-.94-.94-2.06-.94 2.06-2.06.94zm-11 1L8.5 8.5l.94-2.06 2.06-.94-2.06-.94L8.5 2.5l-.94 2.06-2.06.94zm10 10l.94 2.06.94-2.06 2.06-.94-2.06-.94-.94-2.06-.94 2.06-2.06.94z\"/><path d=\"M17.41 7.96l-1.37-1.37c-.4-.4-.92-.59-1.43-.59-.52 0-1.04.2-1.43.59L10.3 9.45l-7.72 7.72c-.78.78-.78 2.05 0 2.83L4 21.41c.39.39.9.59 1.41.59.51 0 1.02-.2 1.41-.59l7.78-7.78 2.81-2.81c.8-.78.8-2.07 0-2.86zM5.41 20L4 18.59l7.72-7.72 1.47 1.35L5.41 20z\"/>\n",
              "  </svg>\n",
              "      </button>\n",
              "      \n",
              "  <style>\n",
              "    .colab-df-container {\n",
              "      display:flex;\n",
              "      flex-wrap:wrap;\n",
              "      gap: 12px;\n",
              "    }\n",
              "\n",
              "    .colab-df-convert {\n",
              "      background-color: #E8F0FE;\n",
              "      border: none;\n",
              "      border-radius: 50%;\n",
              "      cursor: pointer;\n",
              "      display: none;\n",
              "      fill: #1967D2;\n",
              "      height: 32px;\n",
              "      padding: 0 0 0 0;\n",
              "      width: 32px;\n",
              "    }\n",
              "\n",
              "    .colab-df-convert:hover {\n",
              "      background-color: #E2EBFA;\n",
              "      box-shadow: 0px 1px 2px rgba(60, 64, 67, 0.3), 0px 1px 3px 1px rgba(60, 64, 67, 0.15);\n",
              "      fill: #174EA6;\n",
              "    }\n",
              "\n",
              "    [theme=dark] .colab-df-convert {\n",
              "      background-color: #3B4455;\n",
              "      fill: #D2E3FC;\n",
              "    }\n",
              "\n",
              "    [theme=dark] .colab-df-convert:hover {\n",
              "      background-color: #434B5C;\n",
              "      box-shadow: 0px 1px 3px 1px rgba(0, 0, 0, 0.15);\n",
              "      filter: drop-shadow(0px 1px 2px rgba(0, 0, 0, 0.3));\n",
              "      fill: #FFFFFF;\n",
              "    }\n",
              "  </style>\n",
              "\n",
              "      <script>\n",
              "        const buttonEl =\n",
              "          document.querySelector('#df-9463a0b4-cd54-47bf-8759-a3c630a79986 button.colab-df-convert');\n",
              "        buttonEl.style.display =\n",
              "          google.colab.kernel.accessAllowed ? 'block' : 'none';\n",
              "\n",
              "        async function convertToInteractive(key) {\n",
              "          const element = document.querySelector('#df-9463a0b4-cd54-47bf-8759-a3c630a79986');\n",
              "          const dataTable =\n",
              "            await google.colab.kernel.invokeFunction('convertToInteractive',\n",
              "                                                     [key], {});\n",
              "          if (!dataTable) return;\n",
              "\n",
              "          const docLinkHtml = 'Like what you see? Visit the ' +\n",
              "            '<a target=\"_blank\" href=https://colab.research.google.com/notebooks/data_table.ipynb>data table notebook</a>'\n",
              "            + ' to learn more about interactive tables.';\n",
              "          element.innerHTML = '';\n",
              "          dataTable['output_type'] = 'display_data';\n",
              "          await google.colab.output.renderOutput(dataTable, element);\n",
              "          const docLink = document.createElement('div');\n",
              "          docLink.innerHTML = docLinkHtml;\n",
              "          element.appendChild(docLink);\n",
              "        }\n",
              "      </script>\n",
              "    </div>\n",
              "  </div>\n",
              "  "
            ]
          },
          "metadata": {},
          "execution_count": 26
        }
      ]
    },
    {
      "cell_type": "code",
      "source": [
        "\n",
        "# Select multiple DataFrame columns using brackets\n",
        "print(europe_df[['spain', 'germany']])\n",
        "\n",
        "print('\\n')\n",
        "\n",
        "print(europe_df['spain'])"
      ],
      "metadata": {
        "colab": {
          "base_uri": "https://localhost:8080/"
        },
        "id": "R7ryq2UVZt4X",
        "outputId": "f753282c-0c2b-4ac3-c867-978e868fedf5"
      },
      "execution_count": null,
      "outputs": [
        {
          "output_type": "stream",
          "name": "stdout",
          "text": [
            "         spain germany\n",
            "city    madrid  berlin\n",
            "people   46.77   80.62\n",
            "phone       34      49\n",
            "\n",
            "\n",
            "city      madrid\n",
            "people     46.77\n",
            "phone         34\n",
            "Name: spain, dtype: object\n"
          ]
        }
      ]
    },
    {
      "cell_type": "code",
      "source": [
        "# Selecting rows directly using slicing indecies\n",
        "europe_df[1:3]"
      ],
      "metadata": {
        "colab": {
          "base_uri": "https://localhost:8080/",
          "height": 112
        },
        "id": "LNTWPbXQVJ6J",
        "outputId": "29c6b460-730c-4727-e681-b68280cf498f"
      },
      "execution_count": null,
      "outputs": [
        {
          "output_type": "execute_result",
          "data": {
            "text/plain": [
              "        spain france germany norway  italy austria\n",
              "people  46.77  66.03   80.62  5.084  59.83    8.95\n",
              "phone      34     33      49     47     39      43"
            ],
            "text/html": [
              "\n",
              "  <div id=\"df-24f32f92-29e3-46f4-b138-30f674213b7b\">\n",
              "    <div class=\"colab-df-container\">\n",
              "      <div>\n",
              "<style scoped>\n",
              "    .dataframe tbody tr th:only-of-type {\n",
              "        vertical-align: middle;\n",
              "    }\n",
              "\n",
              "    .dataframe tbody tr th {\n",
              "        vertical-align: top;\n",
              "    }\n",
              "\n",
              "    .dataframe thead th {\n",
              "        text-align: right;\n",
              "    }\n",
              "</style>\n",
              "<table border=\"1\" class=\"dataframe\">\n",
              "  <thead>\n",
              "    <tr style=\"text-align: right;\">\n",
              "      <th></th>\n",
              "      <th>spain</th>\n",
              "      <th>france</th>\n",
              "      <th>germany</th>\n",
              "      <th>norway</th>\n",
              "      <th>italy</th>\n",
              "      <th>austria</th>\n",
              "    </tr>\n",
              "  </thead>\n",
              "  <tbody>\n",
              "    <tr>\n",
              "      <th>people</th>\n",
              "      <td>46.77</td>\n",
              "      <td>66.03</td>\n",
              "      <td>80.62</td>\n",
              "      <td>5.084</td>\n",
              "      <td>59.83</td>\n",
              "      <td>8.95</td>\n",
              "    </tr>\n",
              "    <tr>\n",
              "      <th>phone</th>\n",
              "      <td>34</td>\n",
              "      <td>33</td>\n",
              "      <td>49</td>\n",
              "      <td>47</td>\n",
              "      <td>39</td>\n",
              "      <td>43</td>\n",
              "    </tr>\n",
              "  </tbody>\n",
              "</table>\n",
              "</div>\n",
              "      <button class=\"colab-df-convert\" onclick=\"convertToInteractive('df-24f32f92-29e3-46f4-b138-30f674213b7b')\"\n",
              "              title=\"Convert this dataframe to an interactive table.\"\n",
              "              style=\"display:none;\">\n",
              "        \n",
              "  <svg xmlns=\"http://www.w3.org/2000/svg\" height=\"24px\"viewBox=\"0 0 24 24\"\n",
              "       width=\"24px\">\n",
              "    <path d=\"M0 0h24v24H0V0z\" fill=\"none\"/>\n",
              "    <path d=\"M18.56 5.44l.94 2.06.94-2.06 2.06-.94-2.06-.94-.94-2.06-.94 2.06-2.06.94zm-11 1L8.5 8.5l.94-2.06 2.06-.94-2.06-.94L8.5 2.5l-.94 2.06-2.06.94zm10 10l.94 2.06.94-2.06 2.06-.94-2.06-.94-.94-2.06-.94 2.06-2.06.94z\"/><path d=\"M17.41 7.96l-1.37-1.37c-.4-.4-.92-.59-1.43-.59-.52 0-1.04.2-1.43.59L10.3 9.45l-7.72 7.72c-.78.78-.78 2.05 0 2.83L4 21.41c.39.39.9.59 1.41.59.51 0 1.02-.2 1.41-.59l7.78-7.78 2.81-2.81c.8-.78.8-2.07 0-2.86zM5.41 20L4 18.59l7.72-7.72 1.47 1.35L5.41 20z\"/>\n",
              "  </svg>\n",
              "      </button>\n",
              "      \n",
              "  <style>\n",
              "    .colab-df-container {\n",
              "      display:flex;\n",
              "      flex-wrap:wrap;\n",
              "      gap: 12px;\n",
              "    }\n",
              "\n",
              "    .colab-df-convert {\n",
              "      background-color: #E8F0FE;\n",
              "      border: none;\n",
              "      border-radius: 50%;\n",
              "      cursor: pointer;\n",
              "      display: none;\n",
              "      fill: #1967D2;\n",
              "      height: 32px;\n",
              "      padding: 0 0 0 0;\n",
              "      width: 32px;\n",
              "    }\n",
              "\n",
              "    .colab-df-convert:hover {\n",
              "      background-color: #E2EBFA;\n",
              "      box-shadow: 0px 1px 2px rgba(60, 64, 67, 0.3), 0px 1px 3px 1px rgba(60, 64, 67, 0.15);\n",
              "      fill: #174EA6;\n",
              "    }\n",
              "\n",
              "    [theme=dark] .colab-df-convert {\n",
              "      background-color: #3B4455;\n",
              "      fill: #D2E3FC;\n",
              "    }\n",
              "\n",
              "    [theme=dark] .colab-df-convert:hover {\n",
              "      background-color: #434B5C;\n",
              "      box-shadow: 0px 1px 3px 1px rgba(0, 0, 0, 0.15);\n",
              "      filter: drop-shadow(0px 1px 2px rgba(0, 0, 0, 0.3));\n",
              "      fill: #FFFFFF;\n",
              "    }\n",
              "  </style>\n",
              "\n",
              "      <script>\n",
              "        const buttonEl =\n",
              "          document.querySelector('#df-24f32f92-29e3-46f4-b138-30f674213b7b button.colab-df-convert');\n",
              "        buttonEl.style.display =\n",
              "          google.colab.kernel.accessAllowed ? 'block' : 'none';\n",
              "\n",
              "        async function convertToInteractive(key) {\n",
              "          const element = document.querySelector('#df-24f32f92-29e3-46f4-b138-30f674213b7b');\n",
              "          const dataTable =\n",
              "            await google.colab.kernel.invokeFunction('convertToInteractive',\n",
              "                                                     [key], {});\n",
              "          if (!dataTable) return;\n",
              "\n",
              "          const docLinkHtml = 'Like what you see? Visit the ' +\n",
              "            '<a target=\"_blank\" href=https://colab.research.google.com/notebooks/data_table.ipynb>data table notebook</a>'\n",
              "            + ' to learn more about interactive tables.';\n",
              "          element.innerHTML = '';\n",
              "          dataTable['output_type'] = 'display_data';\n",
              "          await google.colab.output.renderOutput(dataTable, element);\n",
              "          const docLink = document.createElement('div');\n",
              "          docLink.innerHTML = docLinkHtml;\n",
              "          element.appendChild(docLink);\n",
              "        }\n",
              "      </script>\n",
              "    </div>\n",
              "  </div>\n",
              "  "
            ]
          },
          "metadata": {},
          "execution_count": 28
        }
      ]
    },
    {
      "cell_type": "code",
      "source": [],
      "metadata": {
        "id": "rdYLUB3AbAZn"
      },
      "execution_count": null,
      "outputs": []
    },
    {
      "cell_type": "code",
      "source": [
        "# Select multiple DataFrame rows by .loc labels\n",
        "print(europe_df.loc[['city', 'phone']])\n",
        "\n",
        "print('\\n')\n",
        "\n",
        "print(europe_df.loc['people'])"
      ],
      "metadata": {
        "colab": {
          "base_uri": "https://localhost:8080/"
        },
        "id": "y2zcW6V_NY62",
        "outputId": "7848a02b-bf7d-4204-cea1-640674e502ca"
      },
      "execution_count": null,
      "outputs": [
        {
          "output_type": "stream",
          "name": "stdout",
          "text": [
            "        spain france germany norway italy austria\n",
            "city   madrid  paris  berlin   oslo  rome  vienna\n",
            "phone      34     33      49     47    39      43\n",
            "\n",
            "\n",
            "spain      46.77\n",
            "france     66.03\n",
            "germany    80.62\n",
            "norway     5.084\n",
            "italy      59.83\n",
            "austria     8.95\n",
            "Name: people, dtype: object\n"
          ]
        }
      ]
    },
    {
      "cell_type": "code",
      "source": [
        "# select a signle cell by loc labels\n",
        "europe_df.loc['city', 'france']"
      ],
      "metadata": {
        "id": "4nyZXDLINuRn",
        "colab": {
          "base_uri": "https://localhost:8080/",
          "height": 35
        },
        "outputId": "2a0733a3-e447-47b3-ecc5-1c520f0e84cf"
      },
      "execution_count": null,
      "outputs": [
        {
          "output_type": "execute_result",
          "data": {
            "text/plain": [
              "'paris'"
            ],
            "application/vnd.google.colaboratory.intrinsic+json": {
              "type": "string"
            }
          },
          "metadata": {},
          "execution_count": 30
        }
      ]
    },
    {
      "cell_type": "code",
      "source": [
        "# select entire dataframe rows by iloc index\n",
        "print(europe_df.iloc[[0, 2]])"
      ],
      "metadata": {
        "id": "1D0WF49kNbG9",
        "colab": {
          "base_uri": "https://localhost:8080/"
        },
        "outputId": "afee03d9-ba3d-40f0-82d7-ebcd3e23bc53"
      },
      "execution_count": null,
      "outputs": [
        {
          "output_type": "stream",
          "name": "stdout",
          "text": [
            "        spain france germany norway italy austria\n",
            "city   madrid  paris  berlin   oslo  rome  vienna\n",
            "phone      34     33      49     47    39      43\n"
          ]
        }
      ]
    },
    {
      "cell_type": "code",
      "source": [
        "europe_df"
      ],
      "metadata": {
        "id": "OpsjAKKITCCl",
        "colab": {
          "base_uri": "https://localhost:8080/",
          "height": 143
        },
        "outputId": "611cf6c8-4dfe-4ae4-e81e-96eba2b9d0dc"
      },
      "execution_count": null,
      "outputs": [
        {
          "output_type": "execute_result",
          "data": {
            "text/plain": [
              "         spain france germany norway  italy austria\n",
              "city    madrid  paris  berlin   oslo   rome  vienna\n",
              "people   46.77  66.03   80.62  5.084  59.83    8.95\n",
              "phone       34     33      49     47     39      43"
            ],
            "text/html": [
              "\n",
              "  <div id=\"df-921a5103-a017-4d74-9e37-ea4890a8fa73\">\n",
              "    <div class=\"colab-df-container\">\n",
              "      <div>\n",
              "<style scoped>\n",
              "    .dataframe tbody tr th:only-of-type {\n",
              "        vertical-align: middle;\n",
              "    }\n",
              "\n",
              "    .dataframe tbody tr th {\n",
              "        vertical-align: top;\n",
              "    }\n",
              "\n",
              "    .dataframe thead th {\n",
              "        text-align: right;\n",
              "    }\n",
              "</style>\n",
              "<table border=\"1\" class=\"dataframe\">\n",
              "  <thead>\n",
              "    <tr style=\"text-align: right;\">\n",
              "      <th></th>\n",
              "      <th>spain</th>\n",
              "      <th>france</th>\n",
              "      <th>germany</th>\n",
              "      <th>norway</th>\n",
              "      <th>italy</th>\n",
              "      <th>austria</th>\n",
              "    </tr>\n",
              "  </thead>\n",
              "  <tbody>\n",
              "    <tr>\n",
              "      <th>city</th>\n",
              "      <td>madrid</td>\n",
              "      <td>paris</td>\n",
              "      <td>berlin</td>\n",
              "      <td>oslo</td>\n",
              "      <td>rome</td>\n",
              "      <td>vienna</td>\n",
              "    </tr>\n",
              "    <tr>\n",
              "      <th>people</th>\n",
              "      <td>46.77</td>\n",
              "      <td>66.03</td>\n",
              "      <td>80.62</td>\n",
              "      <td>5.084</td>\n",
              "      <td>59.83</td>\n",
              "      <td>8.95</td>\n",
              "    </tr>\n",
              "    <tr>\n",
              "      <th>phone</th>\n",
              "      <td>34</td>\n",
              "      <td>33</td>\n",
              "      <td>49</td>\n",
              "      <td>47</td>\n",
              "      <td>39</td>\n",
              "      <td>43</td>\n",
              "    </tr>\n",
              "  </tbody>\n",
              "</table>\n",
              "</div>\n",
              "      <button class=\"colab-df-convert\" onclick=\"convertToInteractive('df-921a5103-a017-4d74-9e37-ea4890a8fa73')\"\n",
              "              title=\"Convert this dataframe to an interactive table.\"\n",
              "              style=\"display:none;\">\n",
              "        \n",
              "  <svg xmlns=\"http://www.w3.org/2000/svg\" height=\"24px\"viewBox=\"0 0 24 24\"\n",
              "       width=\"24px\">\n",
              "    <path d=\"M0 0h24v24H0V0z\" fill=\"none\"/>\n",
              "    <path d=\"M18.56 5.44l.94 2.06.94-2.06 2.06-.94-2.06-.94-.94-2.06-.94 2.06-2.06.94zm-11 1L8.5 8.5l.94-2.06 2.06-.94-2.06-.94L8.5 2.5l-.94 2.06-2.06.94zm10 10l.94 2.06.94-2.06 2.06-.94-2.06-.94-.94-2.06-.94 2.06-2.06.94z\"/><path d=\"M17.41 7.96l-1.37-1.37c-.4-.4-.92-.59-1.43-.59-.52 0-1.04.2-1.43.59L10.3 9.45l-7.72 7.72c-.78.78-.78 2.05 0 2.83L4 21.41c.39.39.9.59 1.41.59.51 0 1.02-.2 1.41-.59l7.78-7.78 2.81-2.81c.8-.78.8-2.07 0-2.86zM5.41 20L4 18.59l7.72-7.72 1.47 1.35L5.41 20z\"/>\n",
              "  </svg>\n",
              "      </button>\n",
              "      \n",
              "  <style>\n",
              "    .colab-df-container {\n",
              "      display:flex;\n",
              "      flex-wrap:wrap;\n",
              "      gap: 12px;\n",
              "    }\n",
              "\n",
              "    .colab-df-convert {\n",
              "      background-color: #E8F0FE;\n",
              "      border: none;\n",
              "      border-radius: 50%;\n",
              "      cursor: pointer;\n",
              "      display: none;\n",
              "      fill: #1967D2;\n",
              "      height: 32px;\n",
              "      padding: 0 0 0 0;\n",
              "      width: 32px;\n",
              "    }\n",
              "\n",
              "    .colab-df-convert:hover {\n",
              "      background-color: #E2EBFA;\n",
              "      box-shadow: 0px 1px 2px rgba(60, 64, 67, 0.3), 0px 1px 3px 1px rgba(60, 64, 67, 0.15);\n",
              "      fill: #174EA6;\n",
              "    }\n",
              "\n",
              "    [theme=dark] .colab-df-convert {\n",
              "      background-color: #3B4455;\n",
              "      fill: #D2E3FC;\n",
              "    }\n",
              "\n",
              "    [theme=dark] .colab-df-convert:hover {\n",
              "      background-color: #434B5C;\n",
              "      box-shadow: 0px 1px 3px 1px rgba(0, 0, 0, 0.15);\n",
              "      filter: drop-shadow(0px 1px 2px rgba(0, 0, 0, 0.3));\n",
              "      fill: #FFFFFF;\n",
              "    }\n",
              "  </style>\n",
              "\n",
              "      <script>\n",
              "        const buttonEl =\n",
              "          document.querySelector('#df-921a5103-a017-4d74-9e37-ea4890a8fa73 button.colab-df-convert');\n",
              "        buttonEl.style.display =\n",
              "          google.colab.kernel.accessAllowed ? 'block' : 'none';\n",
              "\n",
              "        async function convertToInteractive(key) {\n",
              "          const element = document.querySelector('#df-921a5103-a017-4d74-9e37-ea4890a8fa73');\n",
              "          const dataTable =\n",
              "            await google.colab.kernel.invokeFunction('convertToInteractive',\n",
              "                                                     [key], {});\n",
              "          if (!dataTable) return;\n",
              "\n",
              "          const docLinkHtml = 'Like what you see? Visit the ' +\n",
              "            '<a target=\"_blank\" href=https://colab.research.google.com/notebooks/data_table.ipynb>data table notebook</a>'\n",
              "            + ' to learn more about interactive tables.';\n",
              "          element.innerHTML = '';\n",
              "          dataTable['output_type'] = 'display_data';\n",
              "          await google.colab.output.renderOutput(dataTable, element);\n",
              "          const docLink = document.createElement('div');\n",
              "          docLink.innerHTML = docLinkHtml;\n",
              "          element.appendChild(docLink);\n",
              "        }\n",
              "      </script>\n",
              "    </div>\n",
              "  </div>\n",
              "  "
            ]
          },
          "metadata": {},
          "execution_count": 32
        }
      ]
    },
    {
      "cell_type": "code",
      "source": [],
      "metadata": {
        "id": "_fGuu3TPzmzH"
      },
      "execution_count": null,
      "outputs": []
    },
    {
      "cell_type": "code",
      "source": [
        "cars = pd.read_csv('https://assets.datacamp.com/production/repositories/287/datasets/79b3c22c47a2f45a800c62cae39035ff2ea4e609/cars.csv', index_col = 0)\n",
        "cars"
      ],
      "metadata": {
        "colab": {
          "base_uri": "https://localhost:8080/",
          "height": 269
        },
        "id": "e3hEgz1bzrdW",
        "outputId": "b7e292b7-a92b-4c82-9394-5f8226202f8c"
      },
      "execution_count": null,
      "outputs": [
        {
          "output_type": "execute_result",
          "data": {
            "text/plain": [
              "     cars_per_cap        country  drives_right\n",
              "US            809  United States          True\n",
              "AUS           731      Australia         False\n",
              "JAP           588          Japan         False\n",
              "IN             18          India         False\n",
              "RU            200         Russia          True\n",
              "MOR            70        Morocco          True\n",
              "EG             45          Egypt          True"
            ],
            "text/html": [
              "\n",
              "  <div id=\"df-a62c8908-1269-47e8-ba3a-739956615738\">\n",
              "    <div class=\"colab-df-container\">\n",
              "      <div>\n",
              "<style scoped>\n",
              "    .dataframe tbody tr th:only-of-type {\n",
              "        vertical-align: middle;\n",
              "    }\n",
              "\n",
              "    .dataframe tbody tr th {\n",
              "        vertical-align: top;\n",
              "    }\n",
              "\n",
              "    .dataframe thead th {\n",
              "        text-align: right;\n",
              "    }\n",
              "</style>\n",
              "<table border=\"1\" class=\"dataframe\">\n",
              "  <thead>\n",
              "    <tr style=\"text-align: right;\">\n",
              "      <th></th>\n",
              "      <th>cars_per_cap</th>\n",
              "      <th>country</th>\n",
              "      <th>drives_right</th>\n",
              "    </tr>\n",
              "  </thead>\n",
              "  <tbody>\n",
              "    <tr>\n",
              "      <th>US</th>\n",
              "      <td>809</td>\n",
              "      <td>United States</td>\n",
              "      <td>True</td>\n",
              "    </tr>\n",
              "    <tr>\n",
              "      <th>AUS</th>\n",
              "      <td>731</td>\n",
              "      <td>Australia</td>\n",
              "      <td>False</td>\n",
              "    </tr>\n",
              "    <tr>\n",
              "      <th>JAP</th>\n",
              "      <td>588</td>\n",
              "      <td>Japan</td>\n",
              "      <td>False</td>\n",
              "    </tr>\n",
              "    <tr>\n",
              "      <th>IN</th>\n",
              "      <td>18</td>\n",
              "      <td>India</td>\n",
              "      <td>False</td>\n",
              "    </tr>\n",
              "    <tr>\n",
              "      <th>RU</th>\n",
              "      <td>200</td>\n",
              "      <td>Russia</td>\n",
              "      <td>True</td>\n",
              "    </tr>\n",
              "    <tr>\n",
              "      <th>MOR</th>\n",
              "      <td>70</td>\n",
              "      <td>Morocco</td>\n",
              "      <td>True</td>\n",
              "    </tr>\n",
              "    <tr>\n",
              "      <th>EG</th>\n",
              "      <td>45</td>\n",
              "      <td>Egypt</td>\n",
              "      <td>True</td>\n",
              "    </tr>\n",
              "  </tbody>\n",
              "</table>\n",
              "</div>\n",
              "      <button class=\"colab-df-convert\" onclick=\"convertToInteractive('df-a62c8908-1269-47e8-ba3a-739956615738')\"\n",
              "              title=\"Convert this dataframe to an interactive table.\"\n",
              "              style=\"display:none;\">\n",
              "        \n",
              "  <svg xmlns=\"http://www.w3.org/2000/svg\" height=\"24px\"viewBox=\"0 0 24 24\"\n",
              "       width=\"24px\">\n",
              "    <path d=\"M0 0h24v24H0V0z\" fill=\"none\"/>\n",
              "    <path d=\"M18.56 5.44l.94 2.06.94-2.06 2.06-.94-2.06-.94-.94-2.06-.94 2.06-2.06.94zm-11 1L8.5 8.5l.94-2.06 2.06-.94-2.06-.94L8.5 2.5l-.94 2.06-2.06.94zm10 10l.94 2.06.94-2.06 2.06-.94-2.06-.94-.94-2.06-.94 2.06-2.06.94z\"/><path d=\"M17.41 7.96l-1.37-1.37c-.4-.4-.92-.59-1.43-.59-.52 0-1.04.2-1.43.59L10.3 9.45l-7.72 7.72c-.78.78-.78 2.05 0 2.83L4 21.41c.39.39.9.59 1.41.59.51 0 1.02-.2 1.41-.59l7.78-7.78 2.81-2.81c.8-.78.8-2.07 0-2.86zM5.41 20L4 18.59l7.72-7.72 1.47 1.35L5.41 20z\"/>\n",
              "  </svg>\n",
              "      </button>\n",
              "      \n",
              "  <style>\n",
              "    .colab-df-container {\n",
              "      display:flex;\n",
              "      flex-wrap:wrap;\n",
              "      gap: 12px;\n",
              "    }\n",
              "\n",
              "    .colab-df-convert {\n",
              "      background-color: #E8F0FE;\n",
              "      border: none;\n",
              "      border-radius: 50%;\n",
              "      cursor: pointer;\n",
              "      display: none;\n",
              "      fill: #1967D2;\n",
              "      height: 32px;\n",
              "      padding: 0 0 0 0;\n",
              "      width: 32px;\n",
              "    }\n",
              "\n",
              "    .colab-df-convert:hover {\n",
              "      background-color: #E2EBFA;\n",
              "      box-shadow: 0px 1px 2px rgba(60, 64, 67, 0.3), 0px 1px 3px 1px rgba(60, 64, 67, 0.15);\n",
              "      fill: #174EA6;\n",
              "    }\n",
              "\n",
              "    [theme=dark] .colab-df-convert {\n",
              "      background-color: #3B4455;\n",
              "      fill: #D2E3FC;\n",
              "    }\n",
              "\n",
              "    [theme=dark] .colab-df-convert:hover {\n",
              "      background-color: #434B5C;\n",
              "      box-shadow: 0px 1px 3px 1px rgba(0, 0, 0, 0.15);\n",
              "      filter: drop-shadow(0px 1px 2px rgba(0, 0, 0, 0.3));\n",
              "      fill: #FFFFFF;\n",
              "    }\n",
              "  </style>\n",
              "\n",
              "      <script>\n",
              "        const buttonEl =\n",
              "          document.querySelector('#df-a62c8908-1269-47e8-ba3a-739956615738 button.colab-df-convert');\n",
              "        buttonEl.style.display =\n",
              "          google.colab.kernel.accessAllowed ? 'block' : 'none';\n",
              "\n",
              "        async function convertToInteractive(key) {\n",
              "          const element = document.querySelector('#df-a62c8908-1269-47e8-ba3a-739956615738');\n",
              "          const dataTable =\n",
              "            await google.colab.kernel.invokeFunction('convertToInteractive',\n",
              "                                                     [key], {});\n",
              "          if (!dataTable) return;\n",
              "\n",
              "          const docLinkHtml = 'Like what you see? Visit the ' +\n",
              "            '<a target=\"_blank\" href=https://colab.research.google.com/notebooks/data_table.ipynb>data table notebook</a>'\n",
              "            + ' to learn more about interactive tables.';\n",
              "          element.innerHTML = '';\n",
              "          dataTable['output_type'] = 'display_data';\n",
              "          await google.colab.output.renderOutput(dataTable, element);\n",
              "          const docLink = document.createElement('div');\n",
              "          docLink.innerHTML = docLinkHtml;\n",
              "          element.appendChild(docLink);\n",
              "        }\n",
              "      </script>\n",
              "    </div>\n",
              "  </div>\n",
              "  "
            ]
          },
          "metadata": {},
          "execution_count": 33
        }
      ]
    },
    {
      "cell_type": "code",
      "source": [
        "# Selecting cells that match the condition and returns bolean value accordingly\n",
        "dr = cars['cars_per_cap'] > 300\n",
        "dr"
      ],
      "metadata": {
        "colab": {
          "base_uri": "https://localhost:8080/"
        },
        "id": "D1_cJE1Ny3OA",
        "outputId": "7179c591-8e23-4d3d-edb2-ae23a8d36b87"
      },
      "execution_count": null,
      "outputs": [
        {
          "output_type": "execute_result",
          "data": {
            "text/plain": [
              "US      True\n",
              "AUS     True\n",
              "JAP     True\n",
              "IN     False\n",
              "RU     False\n",
              "MOR    False\n",
              "EG     False\n",
              "Name: cars_per_cap, dtype: bool"
            ]
          },
          "metadata": {},
          "execution_count": 36
        }
      ]
    },
    {
      "cell_type": "code",
      "source": [
        "# Select the True rows only\n",
        "sel = cars[dr]\n",
        "sel"
      ],
      "metadata": {
        "colab": {
          "base_uri": "https://localhost:8080/",
          "height": 143
        },
        "id": "DqnEQunc0Idg",
        "outputId": "70184ee5-9943-434e-c860-52499b536700"
      },
      "execution_count": null,
      "outputs": [
        {
          "output_type": "execute_result",
          "data": {
            "text/plain": [
              "     cars_per_cap        country  drives_right\n",
              "US            809  United States          True\n",
              "AUS           731      Australia         False\n",
              "JAP           588          Japan         False"
            ],
            "text/html": [
              "\n",
              "  <div id=\"df-e2b4ab37-e7f9-4660-be99-62df5a722ee1\">\n",
              "    <div class=\"colab-df-container\">\n",
              "      <div>\n",
              "<style scoped>\n",
              "    .dataframe tbody tr th:only-of-type {\n",
              "        vertical-align: middle;\n",
              "    }\n",
              "\n",
              "    .dataframe tbody tr th {\n",
              "        vertical-align: top;\n",
              "    }\n",
              "\n",
              "    .dataframe thead th {\n",
              "        text-align: right;\n",
              "    }\n",
              "</style>\n",
              "<table border=\"1\" class=\"dataframe\">\n",
              "  <thead>\n",
              "    <tr style=\"text-align: right;\">\n",
              "      <th></th>\n",
              "      <th>cars_per_cap</th>\n",
              "      <th>country</th>\n",
              "      <th>drives_right</th>\n",
              "    </tr>\n",
              "  </thead>\n",
              "  <tbody>\n",
              "    <tr>\n",
              "      <th>US</th>\n",
              "      <td>809</td>\n",
              "      <td>United States</td>\n",
              "      <td>True</td>\n",
              "    </tr>\n",
              "    <tr>\n",
              "      <th>AUS</th>\n",
              "      <td>731</td>\n",
              "      <td>Australia</td>\n",
              "      <td>False</td>\n",
              "    </tr>\n",
              "    <tr>\n",
              "      <th>JAP</th>\n",
              "      <td>588</td>\n",
              "      <td>Japan</td>\n",
              "      <td>False</td>\n",
              "    </tr>\n",
              "  </tbody>\n",
              "</table>\n",
              "</div>\n",
              "      <button class=\"colab-df-convert\" onclick=\"convertToInteractive('df-e2b4ab37-e7f9-4660-be99-62df5a722ee1')\"\n",
              "              title=\"Convert this dataframe to an interactive table.\"\n",
              "              style=\"display:none;\">\n",
              "        \n",
              "  <svg xmlns=\"http://www.w3.org/2000/svg\" height=\"24px\"viewBox=\"0 0 24 24\"\n",
              "       width=\"24px\">\n",
              "    <path d=\"M0 0h24v24H0V0z\" fill=\"none\"/>\n",
              "    <path d=\"M18.56 5.44l.94 2.06.94-2.06 2.06-.94-2.06-.94-.94-2.06-.94 2.06-2.06.94zm-11 1L8.5 8.5l.94-2.06 2.06-.94-2.06-.94L8.5 2.5l-.94 2.06-2.06.94zm10 10l.94 2.06.94-2.06 2.06-.94-2.06-.94-.94-2.06-.94 2.06-2.06.94z\"/><path d=\"M17.41 7.96l-1.37-1.37c-.4-.4-.92-.59-1.43-.59-.52 0-1.04.2-1.43.59L10.3 9.45l-7.72 7.72c-.78.78-.78 2.05 0 2.83L4 21.41c.39.39.9.59 1.41.59.51 0 1.02-.2 1.41-.59l7.78-7.78 2.81-2.81c.8-.78.8-2.07 0-2.86zM5.41 20L4 18.59l7.72-7.72 1.47 1.35L5.41 20z\"/>\n",
              "  </svg>\n",
              "      </button>\n",
              "      \n",
              "  <style>\n",
              "    .colab-df-container {\n",
              "      display:flex;\n",
              "      flex-wrap:wrap;\n",
              "      gap: 12px;\n",
              "    }\n",
              "\n",
              "    .colab-df-convert {\n",
              "      background-color: #E8F0FE;\n",
              "      border: none;\n",
              "      border-radius: 50%;\n",
              "      cursor: pointer;\n",
              "      display: none;\n",
              "      fill: #1967D2;\n",
              "      height: 32px;\n",
              "      padding: 0 0 0 0;\n",
              "      width: 32px;\n",
              "    }\n",
              "\n",
              "    .colab-df-convert:hover {\n",
              "      background-color: #E2EBFA;\n",
              "      box-shadow: 0px 1px 2px rgba(60, 64, 67, 0.3), 0px 1px 3px 1px rgba(60, 64, 67, 0.15);\n",
              "      fill: #174EA6;\n",
              "    }\n",
              "\n",
              "    [theme=dark] .colab-df-convert {\n",
              "      background-color: #3B4455;\n",
              "      fill: #D2E3FC;\n",
              "    }\n",
              "\n",
              "    [theme=dark] .colab-df-convert:hover {\n",
              "      background-color: #434B5C;\n",
              "      box-shadow: 0px 1px 3px 1px rgba(0, 0, 0, 0.15);\n",
              "      filter: drop-shadow(0px 1px 2px rgba(0, 0, 0, 0.3));\n",
              "      fill: #FFFFFF;\n",
              "    }\n",
              "  </style>\n",
              "\n",
              "      <script>\n",
              "        const buttonEl =\n",
              "          document.querySelector('#df-e2b4ab37-e7f9-4660-be99-62df5a722ee1 button.colab-df-convert');\n",
              "        buttonEl.style.display =\n",
              "          google.colab.kernel.accessAllowed ? 'block' : 'none';\n",
              "\n",
              "        async function convertToInteractive(key) {\n",
              "          const element = document.querySelector('#df-e2b4ab37-e7f9-4660-be99-62df5a722ee1');\n",
              "          const dataTable =\n",
              "            await google.colab.kernel.invokeFunction('convertToInteractive',\n",
              "                                                     [key], {});\n",
              "          if (!dataTable) return;\n",
              "\n",
              "          const docLinkHtml = 'Like what you see? Visit the ' +\n",
              "            '<a target=\"_blank\" href=https://colab.research.google.com/notebooks/data_table.ipynb>data table notebook</a>'\n",
              "            + ' to learn more about interactive tables.';\n",
              "          element.innerHTML = '';\n",
              "          dataTable['output_type'] = 'display_data';\n",
              "          await google.colab.output.renderOutput(dataTable, element);\n",
              "          const docLink = document.createElement('div');\n",
              "          docLink.innerHTML = docLinkHtml;\n",
              "          element.appendChild(docLink);\n",
              "        }\n",
              "      </script>\n",
              "    </div>\n",
              "  </div>\n",
              "  "
            ]
          },
          "metadata": {},
          "execution_count": 37
        }
      ]
    },
    {
      "cell_type": "code",
      "source": [
        "# Do the previous example as a one-liner\n",
        "sel = cars[cars['cars_per_cap'] > 300]\n",
        "sel"
      ],
      "metadata": {
        "colab": {
          "base_uri": "https://localhost:8080/",
          "height": 143
        },
        "id": "FCj1r-K80SUP",
        "outputId": "980c137b-9f32-4d58-b066-c8d0db3d40a8"
      },
      "execution_count": null,
      "outputs": [
        {
          "output_type": "execute_result",
          "data": {
            "text/plain": [
              "     cars_per_cap        country  drives_right\n",
              "US            809  United States          True\n",
              "AUS           731      Australia         False\n",
              "JAP           588          Japan         False"
            ],
            "text/html": [
              "\n",
              "  <div id=\"df-c143f3f9-2a6a-4981-9910-a597f1cc4560\">\n",
              "    <div class=\"colab-df-container\">\n",
              "      <div>\n",
              "<style scoped>\n",
              "    .dataframe tbody tr th:only-of-type {\n",
              "        vertical-align: middle;\n",
              "    }\n",
              "\n",
              "    .dataframe tbody tr th {\n",
              "        vertical-align: top;\n",
              "    }\n",
              "\n",
              "    .dataframe thead th {\n",
              "        text-align: right;\n",
              "    }\n",
              "</style>\n",
              "<table border=\"1\" class=\"dataframe\">\n",
              "  <thead>\n",
              "    <tr style=\"text-align: right;\">\n",
              "      <th></th>\n",
              "      <th>cars_per_cap</th>\n",
              "      <th>country</th>\n",
              "      <th>drives_right</th>\n",
              "    </tr>\n",
              "  </thead>\n",
              "  <tbody>\n",
              "    <tr>\n",
              "      <th>US</th>\n",
              "      <td>809</td>\n",
              "      <td>United States</td>\n",
              "      <td>True</td>\n",
              "    </tr>\n",
              "    <tr>\n",
              "      <th>AUS</th>\n",
              "      <td>731</td>\n",
              "      <td>Australia</td>\n",
              "      <td>False</td>\n",
              "    </tr>\n",
              "    <tr>\n",
              "      <th>JAP</th>\n",
              "      <td>588</td>\n",
              "      <td>Japan</td>\n",
              "      <td>False</td>\n",
              "    </tr>\n",
              "  </tbody>\n",
              "</table>\n",
              "</div>\n",
              "      <button class=\"colab-df-convert\" onclick=\"convertToInteractive('df-c143f3f9-2a6a-4981-9910-a597f1cc4560')\"\n",
              "              title=\"Convert this dataframe to an interactive table.\"\n",
              "              style=\"display:none;\">\n",
              "        \n",
              "  <svg xmlns=\"http://www.w3.org/2000/svg\" height=\"24px\"viewBox=\"0 0 24 24\"\n",
              "       width=\"24px\">\n",
              "    <path d=\"M0 0h24v24H0V0z\" fill=\"none\"/>\n",
              "    <path d=\"M18.56 5.44l.94 2.06.94-2.06 2.06-.94-2.06-.94-.94-2.06-.94 2.06-2.06.94zm-11 1L8.5 8.5l.94-2.06 2.06-.94-2.06-.94L8.5 2.5l-.94 2.06-2.06.94zm10 10l.94 2.06.94-2.06 2.06-.94-2.06-.94-.94-2.06-.94 2.06-2.06.94z\"/><path d=\"M17.41 7.96l-1.37-1.37c-.4-.4-.92-.59-1.43-.59-.52 0-1.04.2-1.43.59L10.3 9.45l-7.72 7.72c-.78.78-.78 2.05 0 2.83L4 21.41c.39.39.9.59 1.41.59.51 0 1.02-.2 1.41-.59l7.78-7.78 2.81-2.81c.8-.78.8-2.07 0-2.86zM5.41 20L4 18.59l7.72-7.72 1.47 1.35L5.41 20z\"/>\n",
              "  </svg>\n",
              "      </button>\n",
              "      \n",
              "  <style>\n",
              "    .colab-df-container {\n",
              "      display:flex;\n",
              "      flex-wrap:wrap;\n",
              "      gap: 12px;\n",
              "    }\n",
              "\n",
              "    .colab-df-convert {\n",
              "      background-color: #E8F0FE;\n",
              "      border: none;\n",
              "      border-radius: 50%;\n",
              "      cursor: pointer;\n",
              "      display: none;\n",
              "      fill: #1967D2;\n",
              "      height: 32px;\n",
              "      padding: 0 0 0 0;\n",
              "      width: 32px;\n",
              "    }\n",
              "\n",
              "    .colab-df-convert:hover {\n",
              "      background-color: #E2EBFA;\n",
              "      box-shadow: 0px 1px 2px rgba(60, 64, 67, 0.3), 0px 1px 3px 1px rgba(60, 64, 67, 0.15);\n",
              "      fill: #174EA6;\n",
              "    }\n",
              "\n",
              "    [theme=dark] .colab-df-convert {\n",
              "      background-color: #3B4455;\n",
              "      fill: #D2E3FC;\n",
              "    }\n",
              "\n",
              "    [theme=dark] .colab-df-convert:hover {\n",
              "      background-color: #434B5C;\n",
              "      box-shadow: 0px 1px 3px 1px rgba(0, 0, 0, 0.15);\n",
              "      filter: drop-shadow(0px 1px 2px rgba(0, 0, 0, 0.3));\n",
              "      fill: #FFFFFF;\n",
              "    }\n",
              "  </style>\n",
              "\n",
              "      <script>\n",
              "        const buttonEl =\n",
              "          document.querySelector('#df-c143f3f9-2a6a-4981-9910-a597f1cc4560 button.colab-df-convert');\n",
              "        buttonEl.style.display =\n",
              "          google.colab.kernel.accessAllowed ? 'block' : 'none';\n",
              "\n",
              "        async function convertToInteractive(key) {\n",
              "          const element = document.querySelector('#df-c143f3f9-2a6a-4981-9910-a597f1cc4560');\n",
              "          const dataTable =\n",
              "            await google.colab.kernel.invokeFunction('convertToInteractive',\n",
              "                                                     [key], {});\n",
              "          if (!dataTable) return;\n",
              "\n",
              "          const docLinkHtml = 'Like what you see? Visit the ' +\n",
              "            '<a target=\"_blank\" href=https://colab.research.google.com/notebooks/data_table.ipynb>data table notebook</a>'\n",
              "            + ' to learn more about interactive tables.';\n",
              "          element.innerHTML = '';\n",
              "          dataTable['output_type'] = 'display_data';\n",
              "          await google.colab.output.renderOutput(dataTable, element);\n",
              "          const docLink = document.createElement('div');\n",
              "          docLink.innerHTML = docLinkHtml;\n",
              "          element.appendChild(docLink);\n",
              "        }\n",
              "      </script>\n",
              "    </div>\n",
              "  </div>\n",
              "  "
            ]
          },
          "metadata": {},
          "execution_count": 39
        }
      ]
    },
    {
      "cell_type": "code",
      "source": [
        "cpc = cars['cars_per_cap']\n",
        "between = np.logical_and(cpc > 100, cpc < 500)\n",
        "medium = cars[between]\n",
        "medium"
      ],
      "metadata": {
        "colab": {
          "base_uri": "https://localhost:8080/",
          "height": 80
        },
        "id": "3brvd3UP51Bb",
        "outputId": "4e183266-5dd8-4584-dd2a-bb63053b3a96"
      },
      "execution_count": null,
      "outputs": [
        {
          "output_type": "execute_result",
          "data": {
            "text/plain": [
              "    cars_per_cap country  drives_right\n",
              "RU           200  Russia          True"
            ],
            "text/html": [
              "\n",
              "  <div id=\"df-baa593b3-e1c9-43db-a438-cd5133a0c026\">\n",
              "    <div class=\"colab-df-container\">\n",
              "      <div>\n",
              "<style scoped>\n",
              "    .dataframe tbody tr th:only-of-type {\n",
              "        vertical-align: middle;\n",
              "    }\n",
              "\n",
              "    .dataframe tbody tr th {\n",
              "        vertical-align: top;\n",
              "    }\n",
              "\n",
              "    .dataframe thead th {\n",
              "        text-align: right;\n",
              "    }\n",
              "</style>\n",
              "<table border=\"1\" class=\"dataframe\">\n",
              "  <thead>\n",
              "    <tr style=\"text-align: right;\">\n",
              "      <th></th>\n",
              "      <th>cars_per_cap</th>\n",
              "      <th>country</th>\n",
              "      <th>drives_right</th>\n",
              "    </tr>\n",
              "  </thead>\n",
              "  <tbody>\n",
              "    <tr>\n",
              "      <th>RU</th>\n",
              "      <td>200</td>\n",
              "      <td>Russia</td>\n",
              "      <td>True</td>\n",
              "    </tr>\n",
              "  </tbody>\n",
              "</table>\n",
              "</div>\n",
              "      <button class=\"colab-df-convert\" onclick=\"convertToInteractive('df-baa593b3-e1c9-43db-a438-cd5133a0c026')\"\n",
              "              title=\"Convert this dataframe to an interactive table.\"\n",
              "              style=\"display:none;\">\n",
              "        \n",
              "  <svg xmlns=\"http://www.w3.org/2000/svg\" height=\"24px\"viewBox=\"0 0 24 24\"\n",
              "       width=\"24px\">\n",
              "    <path d=\"M0 0h24v24H0V0z\" fill=\"none\"/>\n",
              "    <path d=\"M18.56 5.44l.94 2.06.94-2.06 2.06-.94-2.06-.94-.94-2.06-.94 2.06-2.06.94zm-11 1L8.5 8.5l.94-2.06 2.06-.94-2.06-.94L8.5 2.5l-.94 2.06-2.06.94zm10 10l.94 2.06.94-2.06 2.06-.94-2.06-.94-.94-2.06-.94 2.06-2.06.94z\"/><path d=\"M17.41 7.96l-1.37-1.37c-.4-.4-.92-.59-1.43-.59-.52 0-1.04.2-1.43.59L10.3 9.45l-7.72 7.72c-.78.78-.78 2.05 0 2.83L4 21.41c.39.39.9.59 1.41.59.51 0 1.02-.2 1.41-.59l7.78-7.78 2.81-2.81c.8-.78.8-2.07 0-2.86zM5.41 20L4 18.59l7.72-7.72 1.47 1.35L5.41 20z\"/>\n",
              "  </svg>\n",
              "      </button>\n",
              "      \n",
              "  <style>\n",
              "    .colab-df-container {\n",
              "      display:flex;\n",
              "      flex-wrap:wrap;\n",
              "      gap: 12px;\n",
              "    }\n",
              "\n",
              "    .colab-df-convert {\n",
              "      background-color: #E8F0FE;\n",
              "      border: none;\n",
              "      border-radius: 50%;\n",
              "      cursor: pointer;\n",
              "      display: none;\n",
              "      fill: #1967D2;\n",
              "      height: 32px;\n",
              "      padding: 0 0 0 0;\n",
              "      width: 32px;\n",
              "    }\n",
              "\n",
              "    .colab-df-convert:hover {\n",
              "      background-color: #E2EBFA;\n",
              "      box-shadow: 0px 1px 2px rgba(60, 64, 67, 0.3), 0px 1px 3px 1px rgba(60, 64, 67, 0.15);\n",
              "      fill: #174EA6;\n",
              "    }\n",
              "\n",
              "    [theme=dark] .colab-df-convert {\n",
              "      background-color: #3B4455;\n",
              "      fill: #D2E3FC;\n",
              "    }\n",
              "\n",
              "    [theme=dark] .colab-df-convert:hover {\n",
              "      background-color: #434B5C;\n",
              "      box-shadow: 0px 1px 3px 1px rgba(0, 0, 0, 0.15);\n",
              "      filter: drop-shadow(0px 1px 2px rgba(0, 0, 0, 0.3));\n",
              "      fill: #FFFFFF;\n",
              "    }\n",
              "  </style>\n",
              "\n",
              "      <script>\n",
              "        const buttonEl =\n",
              "          document.querySelector('#df-baa593b3-e1c9-43db-a438-cd5133a0c026 button.colab-df-convert');\n",
              "        buttonEl.style.display =\n",
              "          google.colab.kernel.accessAllowed ? 'block' : 'none';\n",
              "\n",
              "        async function convertToInteractive(key) {\n",
              "          const element = document.querySelector('#df-baa593b3-e1c9-43db-a438-cd5133a0c026');\n",
              "          const dataTable =\n",
              "            await google.colab.kernel.invokeFunction('convertToInteractive',\n",
              "                                                     [key], {});\n",
              "          if (!dataTable) return;\n",
              "\n",
              "          const docLinkHtml = 'Like what you see? Visit the ' +\n",
              "            '<a target=\"_blank\" href=https://colab.research.google.com/notebooks/data_table.ipynb>data table notebook</a>'\n",
              "            + ' to learn more about interactive tables.';\n",
              "          element.innerHTML = '';\n",
              "          dataTable['output_type'] = 'display_data';\n",
              "          await google.colab.output.renderOutput(dataTable, element);\n",
              "          const docLink = document.createElement('div');\n",
              "          docLink.innerHTML = docLinkHtml;\n",
              "          element.appendChild(docLink);\n",
              "        }\n",
              "      </script>\n",
              "    </div>\n",
              "  </div>\n",
              "  "
            ]
          },
          "metadata": {},
          "execution_count": 43
        }
      ]
    },
    {
      "cell_type": "code",
      "source": [
        "medium = cars[np.logical_and(cars['cars_per_cap'] > 100, cars['cars_per_cap'] < 500)]\n",
        "medium"
      ],
      "metadata": {
        "colab": {
          "base_uri": "https://localhost:8080/",
          "height": 80
        },
        "id": "OcEohEJA5wSn",
        "outputId": "6735f04a-7a2f-4469-f542-f835b6409a1a"
      },
      "execution_count": null,
      "outputs": [
        {
          "output_type": "execute_result",
          "data": {
            "text/plain": [
              "    cars_per_cap country  drives_right\n",
              "RU           200  Russia          True"
            ],
            "text/html": [
              "\n",
              "  <div id=\"df-fd19e5e4-2695-4495-9ad4-01efa21fafee\">\n",
              "    <div class=\"colab-df-container\">\n",
              "      <div>\n",
              "<style scoped>\n",
              "    .dataframe tbody tr th:only-of-type {\n",
              "        vertical-align: middle;\n",
              "    }\n",
              "\n",
              "    .dataframe tbody tr th {\n",
              "        vertical-align: top;\n",
              "    }\n",
              "\n",
              "    .dataframe thead th {\n",
              "        text-align: right;\n",
              "    }\n",
              "</style>\n",
              "<table border=\"1\" class=\"dataframe\">\n",
              "  <thead>\n",
              "    <tr style=\"text-align: right;\">\n",
              "      <th></th>\n",
              "      <th>cars_per_cap</th>\n",
              "      <th>country</th>\n",
              "      <th>drives_right</th>\n",
              "    </tr>\n",
              "  </thead>\n",
              "  <tbody>\n",
              "    <tr>\n",
              "      <th>RU</th>\n",
              "      <td>200</td>\n",
              "      <td>Russia</td>\n",
              "      <td>True</td>\n",
              "    </tr>\n",
              "  </tbody>\n",
              "</table>\n",
              "</div>\n",
              "      <button class=\"colab-df-convert\" onclick=\"convertToInteractive('df-fd19e5e4-2695-4495-9ad4-01efa21fafee')\"\n",
              "              title=\"Convert this dataframe to an interactive table.\"\n",
              "              style=\"display:none;\">\n",
              "        \n",
              "  <svg xmlns=\"http://www.w3.org/2000/svg\" height=\"24px\"viewBox=\"0 0 24 24\"\n",
              "       width=\"24px\">\n",
              "    <path d=\"M0 0h24v24H0V0z\" fill=\"none\"/>\n",
              "    <path d=\"M18.56 5.44l.94 2.06.94-2.06 2.06-.94-2.06-.94-.94-2.06-.94 2.06-2.06.94zm-11 1L8.5 8.5l.94-2.06 2.06-.94-2.06-.94L8.5 2.5l-.94 2.06-2.06.94zm10 10l.94 2.06.94-2.06 2.06-.94-2.06-.94-.94-2.06-.94 2.06-2.06.94z\"/><path d=\"M17.41 7.96l-1.37-1.37c-.4-.4-.92-.59-1.43-.59-.52 0-1.04.2-1.43.59L10.3 9.45l-7.72 7.72c-.78.78-.78 2.05 0 2.83L4 21.41c.39.39.9.59 1.41.59.51 0 1.02-.2 1.41-.59l7.78-7.78 2.81-2.81c.8-.78.8-2.07 0-2.86zM5.41 20L4 18.59l7.72-7.72 1.47 1.35L5.41 20z\"/>\n",
              "  </svg>\n",
              "      </button>\n",
              "      \n",
              "  <style>\n",
              "    .colab-df-container {\n",
              "      display:flex;\n",
              "      flex-wrap:wrap;\n",
              "      gap: 12px;\n",
              "    }\n",
              "\n",
              "    .colab-df-convert {\n",
              "      background-color: #E8F0FE;\n",
              "      border: none;\n",
              "      border-radius: 50%;\n",
              "      cursor: pointer;\n",
              "      display: none;\n",
              "      fill: #1967D2;\n",
              "      height: 32px;\n",
              "      padding: 0 0 0 0;\n",
              "      width: 32px;\n",
              "    }\n",
              "\n",
              "    .colab-df-convert:hover {\n",
              "      background-color: #E2EBFA;\n",
              "      box-shadow: 0px 1px 2px rgba(60, 64, 67, 0.3), 0px 1px 3px 1px rgba(60, 64, 67, 0.15);\n",
              "      fill: #174EA6;\n",
              "    }\n",
              "\n",
              "    [theme=dark] .colab-df-convert {\n",
              "      background-color: #3B4455;\n",
              "      fill: #D2E3FC;\n",
              "    }\n",
              "\n",
              "    [theme=dark] .colab-df-convert:hover {\n",
              "      background-color: #434B5C;\n",
              "      box-shadow: 0px 1px 3px 1px rgba(0, 0, 0, 0.15);\n",
              "      filter: drop-shadow(0px 1px 2px rgba(0, 0, 0, 0.3));\n",
              "      fill: #FFFFFF;\n",
              "    }\n",
              "  </style>\n",
              "\n",
              "      <script>\n",
              "        const buttonEl =\n",
              "          document.querySelector('#df-fd19e5e4-2695-4495-9ad4-01efa21fafee button.colab-df-convert');\n",
              "        buttonEl.style.display =\n",
              "          google.colab.kernel.accessAllowed ? 'block' : 'none';\n",
              "\n",
              "        async function convertToInteractive(key) {\n",
              "          const element = document.querySelector('#df-fd19e5e4-2695-4495-9ad4-01efa21fafee');\n",
              "          const dataTable =\n",
              "            await google.colab.kernel.invokeFunction('convertToInteractive',\n",
              "                                                     [key], {});\n",
              "          if (!dataTable) return;\n",
              "\n",
              "          const docLinkHtml = 'Like what you see? Visit the ' +\n",
              "            '<a target=\"_blank\" href=https://colab.research.google.com/notebooks/data_table.ipynb>data table notebook</a>'\n",
              "            + ' to learn more about interactive tables.';\n",
              "          element.innerHTML = '';\n",
              "          dataTable['output_type'] = 'display_data';\n",
              "          await google.colab.output.renderOutput(dataTable, element);\n",
              "          const docLink = document.createElement('div');\n",
              "          docLink.innerHTML = docLinkHtml;\n",
              "          element.appendChild(docLink);\n",
              "        }\n",
              "      </script>\n",
              "    </div>\n",
              "  </div>\n",
              "  "
            ]
          },
          "metadata": {},
          "execution_count": 41
        }
      ]
    }
  ],
  "metadata": {
    "colab": {
      "provenance": [],
      "toc_visible": true,
      "authorship_tag": "ABX9TyMQT+9gidFIY3lEGU1nR7zn",
      "include_colab_link": true
    },
    "kernelspec": {
      "display_name": "Python 3",
      "name": "python3"
    },
    "language_info": {
      "name": "python"
    }
  },
  "nbformat": 4,
  "nbformat_minor": 0
}