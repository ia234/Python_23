{
  "nbformat": 4,
  "nbformat_minor": 0,
  "metadata": {
    "colab": {
      "provenance": [],
      "toc_visible": true,
      "mount_file_id": "1NTfM0qmpG0QYMs504wU3uG_WX688hRMQ",
      "authorship_tag": "ABX9TyNKVZtau82i0EARYpFtw73o",
      "include_colab_link": true
    },
    "kernelspec": {
      "name": "python3",
      "display_name": "Python 3"
    },
    "language_info": {
      "name": "python"
    }
  },
  "cells": [
    {
      "cell_type": "markdown",
      "metadata": {
        "id": "view-in-github",
        "colab_type": "text"
      },
      "source": [
        "<a href=\"https://colab.research.google.com/github/ia234/Python_23/blob/main/Fetch_Wikipedia_Articles_by_Names_Experimenting.ipynb\" target=\"_parent\"><img src=\"https://colab.research.google.com/assets/colab-badge.svg\" alt=\"Open In Colab\"/></a>"
      ]
    },
    {
      "cell_type": "code",
      "source": [
        "# Avoids scroll-in-the-scroll in the entire Notebook\n",
        "from IPython.display import Javascript\n",
        "def resize_colab_cell():\n",
        "  display(Javascript('google.colab.output.setIframeHeight(0, true, {maxHeight: 5000})'))\n",
        "get_ipython().events.register('pre_run_cell', resize_colab_cell)"
      ],
      "metadata": {
        "id": "5u3BQq2u6F43"
      },
      "execution_count": 1,
      "outputs": []
    },
    {
      "cell_type": "code",
      "execution_count": 2,
      "metadata": {
        "colab": {
          "base_uri": "https://localhost:8080/",
          "height": 35
        },
        "id": "tTUpmLA0un3h",
        "outputId": "352830f6-08d5-4831-a2b9-11d04c34abc8"
      },
      "outputs": [
        {
          "output_type": "display_data",
          "data": {
            "text/plain": [
              "<IPython.core.display.Javascript object>"
            ],
            "application/javascript": [
              "google.colab.output.setIframeHeight(0, true, {maxHeight: 5000})"
            ]
          },
          "metadata": {}
        },
        {
          "output_type": "stream",
          "name": "stdout",
          "text": [
            "/content/drive/MyDrive/ai_data\n"
          ]
        }
      ],
      "source": [
        "from google.colab import drive\n",
        "\n",
        "# drive.mount('/content/drive')\n",
        "%cd /content/drive/MyDrive/ai_data/"
      ]
    },
    {
      "cell_type": "code",
      "source": [
        "import pandas as pd\n",
        "# index_col = 0 specify the first column as the index.\n",
        "top_article_titles_df = pd.read_csv('/content/drive/MyDrive/ai_data/top_article_titles.csv', index_col = 0)\n",
        "# C:\\Users\\ihabs\\My Drive\\Colab Notebooks\\my_data\n",
        "# cars = pd.read_csv('https://assets.datacamp.com/production/repositories/287/datasets/79b3c22c47a2f45a800c62cae39035ff2ea4e609/cars.csv', index_col = 0)\n",
        "top_article_titles_df"
      ],
      "metadata": {
        "colab": {
          "base_uri": "https://localhost:8080/",
          "height": 455
        },
        "id": "MZQnhFrMvmwr",
        "outputId": "aaaa7a81-e6b7-4114-b548-5ae2341e2b3a"
      },
      "execution_count": 3,
      "outputs": [
        {
          "output_type": "display_data",
          "data": {
            "text/plain": [
              "<IPython.core.display.Javascript object>"
            ],
            "application/javascript": [
              "google.colab.output.setIframeHeight(0, true, {maxHeight: 5000})"
            ]
          },
          "metadata": {}
        },
        {
          "output_type": "execute_result",
          "data": {
            "text/plain": [
              "                                               date   views  rank     score\n",
              "article                                                                    \n",
              "ليونيل ميسي                              28/09/2022  236172   193  45581196\n",
              "كأس العالم 2022                          06/09/2022  380824   110  41890640\n",
              "كريستيانو رونالدو                        28/08/2022   67422   322  21709884\n",
              "نادي برشلونة                             28/08/2022   86073   213  18333549\n",
              "كأس العالم                               02/11/2022  299466    59  17668494\n",
              "...                                             ...     ...   ...       ...\n",
              "ابن بطوطة                                10/08/2023    3737     1      3737\n",
              "الجمهورية العربية الصحراوية الديمقراطية  28/08/2022    3730     1      3730\n",
              "سوسن علي                                 29/12/2022    3694     1      3694\n",
              "حبيب بن مظاهر الأسدي                     24/07/2023    3621     1      3621\n",
              "سلطان الفرحان                            11/07/2023    3332     1      3332\n",
              "\n",
              "[1450 rows x 4 columns]"
            ],
            "text/html": [
              "\n",
              "  <div id=\"df-9be79f5c-9d6b-455a-b872-f1e4c90a8e37\" class=\"colab-df-container\">\n",
              "    <div>\n",
              "<style scoped>\n",
              "    .dataframe tbody tr th:only-of-type {\n",
              "        vertical-align: middle;\n",
              "    }\n",
              "\n",
              "    .dataframe tbody tr th {\n",
              "        vertical-align: top;\n",
              "    }\n",
              "\n",
              "    .dataframe thead th {\n",
              "        text-align: right;\n",
              "    }\n",
              "</style>\n",
              "<table border=\"1\" class=\"dataframe\">\n",
              "  <thead>\n",
              "    <tr style=\"text-align: right;\">\n",
              "      <th></th>\n",
              "      <th>date</th>\n",
              "      <th>views</th>\n",
              "      <th>rank</th>\n",
              "      <th>score</th>\n",
              "    </tr>\n",
              "    <tr>\n",
              "      <th>article</th>\n",
              "      <th></th>\n",
              "      <th></th>\n",
              "      <th></th>\n",
              "      <th></th>\n",
              "    </tr>\n",
              "  </thead>\n",
              "  <tbody>\n",
              "    <tr>\n",
              "      <th>ليونيل ميسي</th>\n",
              "      <td>28/09/2022</td>\n",
              "      <td>236172</td>\n",
              "      <td>193</td>\n",
              "      <td>45581196</td>\n",
              "    </tr>\n",
              "    <tr>\n",
              "      <th>كأس العالم 2022</th>\n",
              "      <td>06/09/2022</td>\n",
              "      <td>380824</td>\n",
              "      <td>110</td>\n",
              "      <td>41890640</td>\n",
              "    </tr>\n",
              "    <tr>\n",
              "      <th>كريستيانو رونالدو</th>\n",
              "      <td>28/08/2022</td>\n",
              "      <td>67422</td>\n",
              "      <td>322</td>\n",
              "      <td>21709884</td>\n",
              "    </tr>\n",
              "    <tr>\n",
              "      <th>نادي برشلونة</th>\n",
              "      <td>28/08/2022</td>\n",
              "      <td>86073</td>\n",
              "      <td>213</td>\n",
              "      <td>18333549</td>\n",
              "    </tr>\n",
              "    <tr>\n",
              "      <th>كأس العالم</th>\n",
              "      <td>02/11/2022</td>\n",
              "      <td>299466</td>\n",
              "      <td>59</td>\n",
              "      <td>17668494</td>\n",
              "    </tr>\n",
              "    <tr>\n",
              "      <th>...</th>\n",
              "      <td>...</td>\n",
              "      <td>...</td>\n",
              "      <td>...</td>\n",
              "      <td>...</td>\n",
              "    </tr>\n",
              "    <tr>\n",
              "      <th>ابن بطوطة</th>\n",
              "      <td>10/08/2023</td>\n",
              "      <td>3737</td>\n",
              "      <td>1</td>\n",
              "      <td>3737</td>\n",
              "    </tr>\n",
              "    <tr>\n",
              "      <th>الجمهورية العربية الصحراوية الديمقراطية</th>\n",
              "      <td>28/08/2022</td>\n",
              "      <td>3730</td>\n",
              "      <td>1</td>\n",
              "      <td>3730</td>\n",
              "    </tr>\n",
              "    <tr>\n",
              "      <th>سوسن علي</th>\n",
              "      <td>29/12/2022</td>\n",
              "      <td>3694</td>\n",
              "      <td>1</td>\n",
              "      <td>3694</td>\n",
              "    </tr>\n",
              "    <tr>\n",
              "      <th>حبيب بن مظاهر الأسدي</th>\n",
              "      <td>24/07/2023</td>\n",
              "      <td>3621</td>\n",
              "      <td>1</td>\n",
              "      <td>3621</td>\n",
              "    </tr>\n",
              "    <tr>\n",
              "      <th>سلطان الفرحان</th>\n",
              "      <td>11/07/2023</td>\n",
              "      <td>3332</td>\n",
              "      <td>1</td>\n",
              "      <td>3332</td>\n",
              "    </tr>\n",
              "  </tbody>\n",
              "</table>\n",
              "<p>1450 rows × 4 columns</p>\n",
              "</div>\n",
              "    <div class=\"colab-df-buttons\">\n",
              "\n",
              "  <div class=\"colab-df-container\">\n",
              "    <button class=\"colab-df-convert\" onclick=\"convertToInteractive('df-9be79f5c-9d6b-455a-b872-f1e4c90a8e37')\"\n",
              "            title=\"Convert this dataframe to an interactive table.\"\n",
              "            style=\"display:none;\">\n",
              "\n",
              "  <svg xmlns=\"http://www.w3.org/2000/svg\" height=\"24px\" viewBox=\"0 -960 960 960\">\n",
              "    <path d=\"M120-120v-720h720v720H120Zm60-500h600v-160H180v160Zm220 220h160v-160H400v160Zm0 220h160v-160H400v160ZM180-400h160v-160H180v160Zm440 0h160v-160H620v160ZM180-180h160v-160H180v160Zm440 0h160v-160H620v160Z\"/>\n",
              "  </svg>\n",
              "    </button>\n",
              "\n",
              "  <style>\n",
              "    .colab-df-container {\n",
              "      display:flex;\n",
              "      gap: 12px;\n",
              "    }\n",
              "\n",
              "    .colab-df-convert {\n",
              "      background-color: #E8F0FE;\n",
              "      border: none;\n",
              "      border-radius: 50%;\n",
              "      cursor: pointer;\n",
              "      display: none;\n",
              "      fill: #1967D2;\n",
              "      height: 32px;\n",
              "      padding: 0 0 0 0;\n",
              "      width: 32px;\n",
              "    }\n",
              "\n",
              "    .colab-df-convert:hover {\n",
              "      background-color: #E2EBFA;\n",
              "      box-shadow: 0px 1px 2px rgba(60, 64, 67, 0.3), 0px 1px 3px 1px rgba(60, 64, 67, 0.15);\n",
              "      fill: #174EA6;\n",
              "    }\n",
              "\n",
              "    .colab-df-buttons div {\n",
              "      margin-bottom: 4px;\n",
              "    }\n",
              "\n",
              "    [theme=dark] .colab-df-convert {\n",
              "      background-color: #3B4455;\n",
              "      fill: #D2E3FC;\n",
              "    }\n",
              "\n",
              "    [theme=dark] .colab-df-convert:hover {\n",
              "      background-color: #434B5C;\n",
              "      box-shadow: 0px 1px 3px 1px rgba(0, 0, 0, 0.15);\n",
              "      filter: drop-shadow(0px 1px 2px rgba(0, 0, 0, 0.3));\n",
              "      fill: #FFFFFF;\n",
              "    }\n",
              "  </style>\n",
              "\n",
              "    <script>\n",
              "      const buttonEl =\n",
              "        document.querySelector('#df-9be79f5c-9d6b-455a-b872-f1e4c90a8e37 button.colab-df-convert');\n",
              "      buttonEl.style.display =\n",
              "        google.colab.kernel.accessAllowed ? 'block' : 'none';\n",
              "\n",
              "      async function convertToInteractive(key) {\n",
              "        const element = document.querySelector('#df-9be79f5c-9d6b-455a-b872-f1e4c90a8e37');\n",
              "        const dataTable =\n",
              "          await google.colab.kernel.invokeFunction('convertToInteractive',\n",
              "                                                    [key], {});\n",
              "        if (!dataTable) return;\n",
              "\n",
              "        const docLinkHtml = 'Like what you see? Visit the ' +\n",
              "          '<a target=\"_blank\" href=https://colab.research.google.com/notebooks/data_table.ipynb>data table notebook</a>'\n",
              "          + ' to learn more about interactive tables.';\n",
              "        element.innerHTML = '';\n",
              "        dataTable['output_type'] = 'display_data';\n",
              "        await google.colab.output.renderOutput(dataTable, element);\n",
              "        const docLink = document.createElement('div');\n",
              "        docLink.innerHTML = docLinkHtml;\n",
              "        element.appendChild(docLink);\n",
              "      }\n",
              "    </script>\n",
              "  </div>\n",
              "\n",
              "\n",
              "<div id=\"df-a3859d25-4ecd-415e-aa97-193e2915ba38\">\n",
              "  <button class=\"colab-df-quickchart\" onclick=\"quickchart('df-a3859d25-4ecd-415e-aa97-193e2915ba38')\"\n",
              "            title=\"Suggest charts.\"\n",
              "            style=\"display:none;\">\n",
              "\n",
              "<svg xmlns=\"http://www.w3.org/2000/svg\" height=\"24px\"viewBox=\"0 0 24 24\"\n",
              "     width=\"24px\">\n",
              "    <g>\n",
              "        <path d=\"M19 3H5c-1.1 0-2 .9-2 2v14c0 1.1.9 2 2 2h14c1.1 0 2-.9 2-2V5c0-1.1-.9-2-2-2zM9 17H7v-7h2v7zm4 0h-2V7h2v10zm4 0h-2v-4h2v4z\"/>\n",
              "    </g>\n",
              "</svg>\n",
              "  </button>\n",
              "\n",
              "<style>\n",
              "  .colab-df-quickchart {\n",
              "      --bg-color: #E8F0FE;\n",
              "      --fill-color: #1967D2;\n",
              "      --hover-bg-color: #E2EBFA;\n",
              "      --hover-fill-color: #174EA6;\n",
              "      --disabled-fill-color: #AAA;\n",
              "      --disabled-bg-color: #DDD;\n",
              "  }\n",
              "\n",
              "  [theme=dark] .colab-df-quickchart {\n",
              "      --bg-color: #3B4455;\n",
              "      --fill-color: #D2E3FC;\n",
              "      --hover-bg-color: #434B5C;\n",
              "      --hover-fill-color: #FFFFFF;\n",
              "      --disabled-bg-color: #3B4455;\n",
              "      --disabled-fill-color: #666;\n",
              "  }\n",
              "\n",
              "  .colab-df-quickchart {\n",
              "    background-color: var(--bg-color);\n",
              "    border: none;\n",
              "    border-radius: 50%;\n",
              "    cursor: pointer;\n",
              "    display: none;\n",
              "    fill: var(--fill-color);\n",
              "    height: 32px;\n",
              "    padding: 0;\n",
              "    width: 32px;\n",
              "  }\n",
              "\n",
              "  .colab-df-quickchart:hover {\n",
              "    background-color: var(--hover-bg-color);\n",
              "    box-shadow: 0 1px 2px rgba(60, 64, 67, 0.3), 0 1px 3px 1px rgba(60, 64, 67, 0.15);\n",
              "    fill: var(--button-hover-fill-color);\n",
              "  }\n",
              "\n",
              "  .colab-df-quickchart-complete:disabled,\n",
              "  .colab-df-quickchart-complete:disabled:hover {\n",
              "    background-color: var(--disabled-bg-color);\n",
              "    fill: var(--disabled-fill-color);\n",
              "    box-shadow: none;\n",
              "  }\n",
              "\n",
              "  .colab-df-spinner {\n",
              "    border: 2px solid var(--fill-color);\n",
              "    border-color: transparent;\n",
              "    border-bottom-color: var(--fill-color);\n",
              "    animation:\n",
              "      spin 1s steps(1) infinite;\n",
              "  }\n",
              "\n",
              "  @keyframes spin {\n",
              "    0% {\n",
              "      border-color: transparent;\n",
              "      border-bottom-color: var(--fill-color);\n",
              "      border-left-color: var(--fill-color);\n",
              "    }\n",
              "    20% {\n",
              "      border-color: transparent;\n",
              "      border-left-color: var(--fill-color);\n",
              "      border-top-color: var(--fill-color);\n",
              "    }\n",
              "    30% {\n",
              "      border-color: transparent;\n",
              "      border-left-color: var(--fill-color);\n",
              "      border-top-color: var(--fill-color);\n",
              "      border-right-color: var(--fill-color);\n",
              "    }\n",
              "    40% {\n",
              "      border-color: transparent;\n",
              "      border-right-color: var(--fill-color);\n",
              "      border-top-color: var(--fill-color);\n",
              "    }\n",
              "    60% {\n",
              "      border-color: transparent;\n",
              "      border-right-color: var(--fill-color);\n",
              "    }\n",
              "    80% {\n",
              "      border-color: transparent;\n",
              "      border-right-color: var(--fill-color);\n",
              "      border-bottom-color: var(--fill-color);\n",
              "    }\n",
              "    90% {\n",
              "      border-color: transparent;\n",
              "      border-bottom-color: var(--fill-color);\n",
              "    }\n",
              "  }\n",
              "</style>\n",
              "\n",
              "  <script>\n",
              "    async function quickchart(key) {\n",
              "      const quickchartButtonEl =\n",
              "        document.querySelector('#' + key + ' button');\n",
              "      quickchartButtonEl.disabled = true;  // To prevent multiple clicks.\n",
              "      quickchartButtonEl.classList.add('colab-df-spinner');\n",
              "      try {\n",
              "        const charts = await google.colab.kernel.invokeFunction(\n",
              "            'suggestCharts', [key], {});\n",
              "      } catch (error) {\n",
              "        console.error('Error during call to suggestCharts:', error);\n",
              "      }\n",
              "      quickchartButtonEl.classList.remove('colab-df-spinner');\n",
              "      quickchartButtonEl.classList.add('colab-df-quickchart-complete');\n",
              "    }\n",
              "    (() => {\n",
              "      let quickchartButtonEl =\n",
              "        document.querySelector('#df-a3859d25-4ecd-415e-aa97-193e2915ba38 button');\n",
              "      quickchartButtonEl.style.display =\n",
              "        google.colab.kernel.accessAllowed ? 'block' : 'none';\n",
              "    })();\n",
              "  </script>\n",
              "</div>\n",
              "    </div>\n",
              "  </div>\n"
            ]
          },
          "metadata": {},
          "execution_count": 3
        }
      ]
    },
    {
      "cell_type": "code",
      "source": [
        "!pip install wikipedia"
      ],
      "metadata": {
        "colab": {
          "base_uri": "https://localhost:8080/",
          "height": 320
        },
        "id": "7CGsOnRYx0SO",
        "outputId": "f044f9e7-269a-40d0-84d2-26944cfe3a5e"
      },
      "execution_count": 4,
      "outputs": [
        {
          "output_type": "display_data",
          "data": {
            "text/plain": [
              "<IPython.core.display.Javascript object>"
            ],
            "application/javascript": [
              "google.colab.output.setIframeHeight(0, true, {maxHeight: 5000})"
            ]
          },
          "metadata": {}
        },
        {
          "output_type": "stream",
          "name": "stdout",
          "text": [
            "Collecting wikipedia\n",
            "  Downloading wikipedia-1.4.0.tar.gz (27 kB)\n",
            "  Preparing metadata (setup.py) ... \u001b[?25l\u001b[?25hdone\n",
            "Requirement already satisfied: beautifulsoup4 in /usr/local/lib/python3.10/dist-packages (from wikipedia) (4.11.2)\n",
            "Requirement already satisfied: requests<3.0.0,>=2.0.0 in /usr/local/lib/python3.10/dist-packages (from wikipedia) (2.31.0)\n",
            "Requirement already satisfied: charset-normalizer<4,>=2 in /usr/local/lib/python3.10/dist-packages (from requests<3.0.0,>=2.0.0->wikipedia) (3.2.0)\n",
            "Requirement already satisfied: idna<4,>=2.5 in /usr/local/lib/python3.10/dist-packages (from requests<3.0.0,>=2.0.0->wikipedia) (3.4)\n",
            "Requirement already satisfied: urllib3<3,>=1.21.1 in /usr/local/lib/python3.10/dist-packages (from requests<3.0.0,>=2.0.0->wikipedia) (2.0.4)\n",
            "Requirement already satisfied: certifi>=2017.4.17 in /usr/local/lib/python3.10/dist-packages (from requests<3.0.0,>=2.0.0->wikipedia) (2023.7.22)\n",
            "Requirement already satisfied: soupsieve>1.2 in /usr/local/lib/python3.10/dist-packages (from beautifulsoup4->wikipedia) (2.5)\n",
            "Building wheels for collected packages: wikipedia\n",
            "  Building wheel for wikipedia (setup.py) ... \u001b[?25l\u001b[?25hdone\n",
            "  Created wheel for wikipedia: filename=wikipedia-1.4.0-py3-none-any.whl size=11678 sha256=69e2069d73a1b838e47ed3baeba906c62d31fc5cd1ea67d87803829be37732b5\n",
            "  Stored in directory: /root/.cache/pip/wheels/5e/b6/c5/93f3dec388ae76edc830cb42901bb0232504dfc0df02fc50de\n",
            "Successfully built wikipedia\n",
            "Installing collected packages: wikipedia\n",
            "Successfully installed wikipedia-1.4.0\n"
          ]
        }
      ]
    },
    {
      "cell_type": "code",
      "source": [
        "import wikipedia"
      ],
      "metadata": {
        "colab": {
          "base_uri": "https://localhost:8080/",
          "height": 17
        },
        "id": "42bDPhcJzT45",
        "outputId": "18224370-1319-4d9a-ce9c-f7bfb191cb6c"
      },
      "execution_count": 5,
      "outputs": [
        {
          "output_type": "display_data",
          "data": {
            "text/plain": [
              "<IPython.core.display.Javascript object>"
            ],
            "application/javascript": [
              "google.colab.output.setIframeHeight(0, true, {maxHeight: 5000})"
            ]
          },
          "metadata": {}
        }
      ]
    },
    {
      "cell_type": "code",
      "source": [
        "print(wikipedia.summary(\"COVID-19 pandemic\"))"
      ],
      "metadata": {
        "colab": {
          "base_uri": "https://localhost:8080/",
          "height": 90
        },
        "id": "nnSjllDLzLxb",
        "outputId": "a3288d24-a55f-4d8c-858a-d03825e0844b"
      },
      "execution_count": 6,
      "outputs": [
        {
          "output_type": "display_data",
          "data": {
            "text/plain": [
              "<IPython.core.display.Javascript object>"
            ],
            "application/javascript": [
              "google.colab.output.setIframeHeight(0, true, {maxHeight: 5000})"
            ]
          },
          "metadata": {}
        },
        {
          "output_type": "stream",
          "name": "stdout",
          "text": [
            "The COVID-19 pandemic, also known as the coronavirus pandemic, is a global pandemic of coronavirus disease 2019 (COVID-19) caused by severe acute respiratory syndrome coronavirus 2 (SARS-CoV-2). The novel virus was first identified in an outbreak in the Chinese city of Wuhan in December 2019. Attempts to contain it there failed, allowing the virus to spread to other areas of Asia and later worldwide in 2020. The World Health Organization (WHO) declared the outbreak a public health emergency of international concern (PHEIC) on 30 January 2020. The WHO ended its PHEIC declaration on 5 May 2023. As of 27 September 2023, the pandemic had caused 770,777,632 cases and 6,958,486 confirmed deaths, ranking it fifth in the deadliest epidemics and pandemics in history.\n",
            "COVID-19 symptoms range from asymptomatic to deadly, but most commonly include fever, nocturnal cough, and fatigue. Transmission of the virus is often through airborne particles. Mutations have produced many strains (variants) with varying degrees of infectivity and virulence.COVID-19 vaccines were widely deployed in various countries since December 2020. Treatments include novel antiviral drugs and symptom control. Common mitigation measures during the public health emergency included travel restrictions, lockdowns, business restrictions and closures, workplace hazard controls, mask mandates, quarantines, testing systems, and contact tracing of the infected.\n",
            "The pandemic caused severe social and economic disruption around the world, including the largest global recession since the Great Depression. Widespread supply shortages, including food shortages, were caused by supply chain disruptions and panic buying. Reduced human activity led to an unprecedented decrease in pollution. Educational institutions and public areas were partially or fully closed in many jurisdictions, and events were cancelled or postponed during 2020 and 2021. Many white-collar workers began working from home. Misinformation circulated through social media and mass media, and political tensions intensified. The pandemic raised issues of racial and geographic discrimination, health equity, and the balance between public health imperatives and individual rights.\n"
          ]
        }
      ]
    },
    {
      "cell_type": "code",
      "source": [
        "wikipedia.set_lang(\"ar\")"
      ],
      "metadata": {
        "colab": {
          "base_uri": "https://localhost:8080/",
          "height": 17
        },
        "id": "qSX6206P1VjU",
        "outputId": "30d971c0-4b39-4f25-c5e3-e16b19293232"
      },
      "execution_count": 7,
      "outputs": [
        {
          "output_type": "display_data",
          "data": {
            "text/plain": [
              "<IPython.core.display.Javascript object>"
            ],
            "application/javascript": [
              "google.colab.output.setIframeHeight(0, true, {maxHeight: 5000})"
            ]
          },
          "metadata": {}
        }
      ]
    },
    {
      "cell_type": "code",
      "source": [
        "print(wikipedia.summary(\"ليونيل ميسي\"))"
      ],
      "metadata": {
        "colab": {
          "base_uri": "https://localhost:8080/",
          "height": 144
        },
        "id": "POcuCrxezgyb",
        "outputId": "943f7943-2c9e-4b6b-f482-a20dc4fdda66"
      },
      "execution_count": 8,
      "outputs": [
        {
          "output_type": "display_data",
          "data": {
            "text/plain": [
              "<IPython.core.display.Javascript object>"
            ],
            "application/javascript": [
              "google.colab.output.setIframeHeight(0, true, {maxHeight: 5000})"
            ]
          },
          "metadata": {}
        },
        {
          "output_type": "stream",
          "name": "stdout",
          "text": [
            "ليونيل أندريس ميسي كوتشيتيني (تلفظ بالإسبانية: ‎/ljoˈnel anˈdɾez ˈmesi/‏؛ مواليد 24 يونيو 1987) لاعب كرة قدم أرجنتيني يلعب مهاجمًا و‌قائدًا لنادي إنتر ميامي الأمريكي و‌منتخب الأرجنتين. غالبًا ما يُعد ميسي أفضل لاعب في العالم وينظر إليه الكثيرون على أنه أعظم اللاعبين في تاريخ كرة القدم، وقد فاز ميسي بسبع جوائز من الكرة الذهبية، وهو صاحب الرقم القياسي بستة أحذية ذهبية أوروبية. قضى معظم مسيرته الاحترافية مع برشلونة، حيث فاز بـ35 لقبًا مع النادي، بما في ذلك عشرة ألقاب في الدوري الإسباني، وأربعة ألقاب في دوري أبطال أوروبا، وسبعة ألقاب في كأس الملك. يعتبر ميسي هدافًا وصانع ألعاب إبداعي، ويحمل الأرقام القياسية لأكثر عدد من الأهداف في الدوري الإسباني (474)، وأكثر لاعب سجل في موسم الدوري الإسباني وأي دوري أوروبي آخر (50)، وأكثر من سجل هاتريك في الدوري الإسباني (36) ودوري أبطال أوروبا (8)، وأكثر من مرر تمريرات حاسمة في الدوري الإسباني (192)، وأي دوري أوروبي آخر في موسم واحد (21) وأكثر من مرر تمريرات حاسمة في كوبا أمريكا (17). وقد سجل أكثر من 750 هدفًا رسميًّا مع النادي والمنتخب، وهو أكثر من سجل لنادٍ واحد.\n",
            "وُلد ميسي ونشأ في وسط الأرجنتين، وانتقل إلى إسبانيا لينضم إلى برشلونة في سن 13 عامًا، حيث شارك لأول مرة في الدوري عندما كان عمره 17 عامًا في أكتوبر 2004. لقد أثبت نفسه كلاعب أساسي للنادي خلال السنوات الثلاث المقبلة، وفي أول موسم له كأساسي في 2008–09 ساعد برشلونة على تحقيق أول ثلاثية في كرة القدم الإسبانية. في ذلك العام، وحينما كان يبلغ من العمر 22 عامًا، فاز ميسي بأول كرة ذهبية له. تبع ذلك ثلاثة مواسم ناجحة، حيث فاز ميسي بأربعة كرات ذهبية متتالية، مما جعله أول لاعب يفوز بالجائزة أربع مرات متتالية. خلال موسم 2011–12، حقق رقم قياسي في الدوري الإسباني وأوروبا لأكثر عدد من الأهداف في موسم واحد، بينما وضع نفسه كأفضل هداف لبرشلونة في التاريخ. في الموسمين التاليين، احتل ميسي المركز الثاني في جائزة الكرة الذهبية خلف كريستيانو رونالدو (منافسه الأول)، قبل أن يستعيد أفضل مستوياته خلال موسم 2014–15، ليصبح هداف الدوري الإسباني التاريخي ويقود برشلونة إلى ثلاثية تاريخية آخرى، وبعد ذلك حصل على جائزة الكرة الذهبية الخامسة في عام 2015. تولى ميسي شارة قيادة برشلونة في عام 2018، وفي عام 2019 حصل على الكرة الذهبية السادسة.\n",
            "على المستوى الدولي مع الأرجنتين، ميسي هو الهداف التاريخي لمنتخب بلاده. على مستوى الشباب، فاز ببطولة العالم للشباب لعام 2005، وأنهى البطولة بحصوله على كل من الكرة الذهبية والحذاء الذهبي، وفاز بالميدالية الذهبية الأولمبية في دورة الألعاب الأولمبية الصيفية لعام 2008. جعل أسلوبه في اللعب كمراوغ قصير بالقدم اليسرى مقارنات مع مواطنه دييغو مارادونا، الذي وصف ميسي بأنه خليفته. بعد مشاركته الأولى في أغسطس 2005، أصبح ميسي أصغر أرجنتيني يلعب ويسجل في كأس العالم خلال نسخة 2006، ووصل إلى نهائي كوبا أمريكا 2007، حيث تم اختياره أفضل لاعب شاب في البطولة. كقائد للفريق منذ أغسطس 2011، قاد الأرجنتين إلى ثلاث نهائيات متتالية: كأس العالم 2014، التي فاز فيها بالكرة الذهبية، وكوبا أمريكا 2015 و2016. بعد إعلانه اعتزاله دوليًا في عام 2016، تراجع عن قراره وقاد منتخب بلاده للتأهل إلى كأس العالم 2018، والمركز الثالث في كوبا أمريكا 2019.\n",
            "يُعد ميسي أحد أشهر الرياضيين في العالم، حيث تلقى رعاية من شركة الملابس الرياضية أديداس منذ عام 2006 وأثبت نفسه كقائد رئيسي لعلامتهم التجارية. وفقًا لفرانس فوتبول، فقد كان أفضل لاعب كرة قدم في العالم لمدة خمس سنوات من أصل ست سنوات بين عامي 2009 و2014، وحصل على المرتبة الأولى من الرياضيين الأعلى أجراً في العالم من قبل فوربس في عام 2019. وكان ميسي من بين 100 شخص الأكثر نفوذاً في العالم في حسب مجلة تايم في 2011 و2012. في فبراير 2020، حصل على جائزة لوريوس الرياضية العالمية لرياضي العام، وبذلك أصبح أول لاعب كرة قدم وأيضًا أول في رياضية جماعية يفوز بالجائزة.\n",
            "\n",
            "\n"
          ]
        }
      ]
    },
    {
      "cell_type": "code",
      "source": [
        "print(wikipedia.summary(\"COVID-19 pandemic\"))"
      ],
      "metadata": {
        "colab": {
          "base_uri": "https://localhost:8080/",
          "height": 90
        },
        "id": "ANQwbuUY1GB9",
        "outputId": "89066b21-9118-4b19-9c16-7533ed31d331"
      },
      "execution_count": 9,
      "outputs": [
        {
          "output_type": "display_data",
          "data": {
            "text/plain": [
              "<IPython.core.display.Javascript object>"
            ],
            "application/javascript": [
              "google.colab.output.setIframeHeight(0, true, {maxHeight: 5000})"
            ]
          },
          "metadata": {}
        },
        {
          "output_type": "stream",
          "name": "stdout",
          "text": [
            "جائحة فيروس كورونا في المغرب 2020 هي جزء من الجائحة العالمية لمرض فيروس كورونا 2019 (كوفيد-19) والذي يحدثُ بسبب فيروس كورونا 2 المرتبط بالمتلازمة التنفسية الحادة الشديدة (SARS-CoV-2). تم تسجيل أول حالة إصابة بالبلاد في في 2 مارس 2020 بالدار البيضاء. تتعلق الحالة بمواطن مغربي قاطن في بيرغامو، إيطاليا وعاد منها للمغرب في 27 فبراير. سجلت ثاني حالة بعد أيام قليلة لمواطنة مغربية تبلغ من العمر 89 سنة مقيمة بإيطاليا، وعادت من مدينة بولونيا إلى المغرب في 25 فبراير.\n",
            "بعد اتساع رقعة تفشي المرض في المغرب في منتصف مارس، أغلقت الحكومة المدارس وعلقت الرحلات الجوية.\n",
            "لحدود 31 ديسمبر 2020، سُجلت 439.193 حالة مؤكدة، منها 7388 وفاة و 407.504 حالة شفاء.\n"
          ]
        }
      ]
    },
    {
      "cell_type": "code",
      "source": [
        "page = wikipedia.page(\"Manchester City F.C.\")\n",
        "page"
      ],
      "metadata": {
        "colab": {
          "base_uri": "https://localhost:8080/",
          "height": 35
        },
        "id": "hrB7-n8416QC",
        "outputId": "f8320bca-c97a-4628-a50d-28e54517b8b4"
      },
      "execution_count": 10,
      "outputs": [
        {
          "output_type": "display_data",
          "data": {
            "text/plain": [
              "<IPython.core.display.Javascript object>"
            ],
            "application/javascript": [
              "google.colab.output.setIframeHeight(0, true, {maxHeight: 5000})"
            ]
          },
          "metadata": {}
        },
        {
          "output_type": "execute_result",
          "data": {
            "text/plain": [
              "<WikipediaPage 'مانشستر سيتي'>"
            ]
          },
          "metadata": {},
          "execution_count": 10
        }
      ]
    },
    {
      "cell_type": "code",
      "source": [
        "page.title"
      ],
      "metadata": {
        "colab": {
          "base_uri": "https://localhost:8080/",
          "height": 35
        },
        "id": "MUZYBqmd2Gko",
        "outputId": "364685f0-0772-4a7f-b237-60549cba744c"
      },
      "execution_count": 11,
      "outputs": [
        {
          "output_type": "display_data",
          "data": {
            "text/plain": [
              "<IPython.core.display.Javascript object>"
            ],
            "application/javascript": [
              "google.colab.output.setIframeHeight(0, true, {maxHeight: 5000})"
            ]
          },
          "metadata": {}
        },
        {
          "output_type": "execute_result",
          "data": {
            "text/plain": [
              "'مانشستر سيتي'"
            ],
            "application/vnd.google.colaboratory.intrinsic+json": {
              "type": "string"
            }
          },
          "metadata": {},
          "execution_count": 11
        }
      ]
    },
    {
      "cell_type": "code",
      "source": [
        "page.url"
      ],
      "metadata": {
        "colab": {
          "base_uri": "https://localhost:8080/",
          "height": 35
        },
        "id": "t4gYsZbv2On7",
        "outputId": "cca34e73-0e99-423e-8a15-f3c55947c705"
      },
      "execution_count": 12,
      "outputs": [
        {
          "output_type": "display_data",
          "data": {
            "text/plain": [
              "<IPython.core.display.Javascript object>"
            ],
            "application/javascript": [
              "google.colab.output.setIframeHeight(0, true, {maxHeight: 5000})"
            ]
          },
          "metadata": {}
        },
        {
          "output_type": "execute_result",
          "data": {
            "text/plain": [
              "'https://ar.wikipedia.org/wiki/%D9%85%D8%A7%D9%86%D8%B4%D8%B3%D8%AA%D8%B1_%D8%B3%D9%8A%D8%AA%D9%8A'"
            ],
            "application/vnd.google.colaboratory.intrinsic+json": {
              "type": "string"
            }
          },
          "metadata": {},
          "execution_count": 12
        }
      ]
    },
    {
      "cell_type": "code",
      "source": [
        "page.content"
      ],
      "metadata": {
        "colab": {
          "base_uri": "https://localhost:8080/",
          "height": 107
        },
        "id": "-RfZumic2baP",
        "outputId": "9c20fde6-3e9b-4a69-ad1e-096815ad835b"
      },
      "execution_count": 13,
      "outputs": [
        {
          "output_type": "display_data",
          "data": {
            "text/plain": [
              "<IPython.core.display.Javascript object>"
            ],
            "application/javascript": [
              "google.colab.output.setIframeHeight(0, true, {maxHeight: 5000})"
            ]
          },
          "metadata": {}
        },
        {
          "output_type": "execute_result",
          "data": {
            "text/plain": [
              "'نادي مانشستر سيتي لكرة القدم (بالإنجليزية:  Manchester City Football Club)\\u200f هو نادي كرة قدم إنجليزي من مدينة مانشستر. تأسس النادي في عام 1880 باسم سانت ماركس (بالإنجليزية: St. Mark\\'s)\\u200f ثم غير الاسم إلى نادي أردويك (بالإنجليزية: Ardwick Association Football Club)\\u200f، في عام 1887. أطلق على النادي اسمه الحالي في 16 أبريل 1894. انتقل النادي إلى ملعب مدينة مانشستر في أغسطس 2003، تاركا ملعب ملعب ماين رود الذي كان يلعب به منذ 1913. كانت الفترة الأكثر نجاحا للنادي أواخر الستينيات وبداية السبعينيات بفوزه بدوري الدرجة الأولى الأنجليزي وكأس الاتحاد الإنجليزي وكأس رابطة الأندية الإنجليزية المحترفة وكأس الكؤوس الأوروبية وكان مدربي الفريق حينها جو ميرسر ومالكوم أليسون.\\nعاش النادي أبهى عصوره خلال فترة أواخر الستينيات وأواخر السبعينيات من القرن العشرين، ففاز بدوري الدرجة الأولى وكأس الاتحاد الإنجليزي وكأس الكؤوس الأوروبية، وذلك تحت قيادة جو ميرسر ومالكوم أليسون. بعد خسارته عام 1981 نهائي كأس الاتحاد الإنجليزي، بدء النادي بألتراجع، وبلغ ذروة هبوطه إلى دوري الدرجة الثالثة الأنكليزي للمرة الأولى في تاريخه عام 1998. وبعد ذلك استعاد النادي وضعه في الدوري الممتاز، اشترى النادي (مجموعة أبوظبي المتحدة للتنمية والاستثمار) وأصبح النادي من أغنى الأندية في العالم.\\nفي عام 2011، تأهل مانشستر سيتي لدوري أبطال أوروبا وفاز بكأس الاتحاد الإنجليزي. في السنة التالية، فاز في الدوري الممتاز، أول لقب له في الدوري منذ 44 عاما في الدوري. وفي عام 2014، فاز بكأس رابطة الاندية الإنجليزية واللقب الثاني للسنة كان الدوري الممتاز. حاز النادي خلال موسم 2014–15 على المرتبة السادسة ضمن قائمة ديلويت لأغنى أندية كرة القدم في العالم، حيث بلغت إيراداته السنوية حوالي 463.5 مليون يورو، كما احتل المرتبة السادسة ضمن قائمة فوربس لأغنى أندية كرة القدم في العالم، إذ قدرت مجلة فوربس قيمته بحوالي 1.375 مليار دولار.في موسم 2018–19، استطاع مانشستر سيتي الفوز بجميع الألقاب المحلية الثلاث (الدوري الممتاز وكأس الرابطة المحترفة وكأس الاتحاد الإنجليزي). ليصبح بذلك أول فريق إنجليزي يحقق الثلاثية التاريخية خلال موسم واحد في تاريخ الكرة الإنجليزية.\\n\\n\\n== التاريخ ==\\n\\n\\n=== فترة النشوء ===\\nاللقب الأول للنادي كان عندما فاز بدوري الدرجة الثانية عام 1899؛ ارتقى السيتي إلى دوري الدرجة الأولى. فاز السيتي بأول لقب من البطولات الكبرى في 23 أبريل 1904، بفوزه على بولتون واندررز 1-0 في ملعب كريستال بالاس واللقب كان كأس الاتحاد الإنجليزي، في الدوري حصل السيتي على المركز الثاني بشق الأنفس أما في الكأس حصل السيتي على المركز الأول ليكون أول نادي لمانشستر يفوز بهذا الشرف. في الموسم التالي فاز السيتي بكأس الاتحاد الإنجليزي، وقد لاحقت النادي إتهامات بمخالفات مالية، وبلغت ذروت إيقاف اللاعبين في عام 1906 عندما أوقف 17 لاعبأ، بما في ذلك قائد الفريق بيلي ميريديث الذي انتقل في وقت لاحق إلى نادي مانشستر يونايتد. حدث حريق في ملعب السيتي هايد راود عام 1920 مدمرأ المنصة الرئيسية للملعب، وفي عام 1923 انتقل النادي إلى ملعب جديد اسمه ملعب ماين رود الذي يقع في موس سايد.\\nفي الثلاثينيات، وصل مانشستر سيتي إلى مبارتين نهائيتين متتاليتين في كأس الاتحاد الإنجليزي، الأولى خسرها أمام ايفرتون في عام 1933، قبل أن يفوز بألنهائي على بورتسموث في عام 1934. خلال كأس الاتحاد عام 1934، حقق ملعب مانشستر سيتي رقمأ قياسيأ لأعلى حضور جمهور في مباراة واحدة في تاريخ كرة القدم الإنجليزية، عدد الحضور كان 84569 مشجع وكان الملعب مكتظاً، وهو رقم قياسي لا يزال قائمأ حتى يومنا هذا، في الجولة السادسة من كأس الاتحاد الإنجليزي تعادل مانشستر سيتي مع ستوك سيتي في عام 1934، فاز النادي بلقب دوري الدرجة الأولى للمرة الأولى في عام 1937، ولكن هبط في الموسم التالي، على الرغم من تسجيله أهدافا أكثر من أي فريق آخر في الدوري. وبعد عشرين عاما، رفع السيتي من نظام التكتيكية المعروفة باسم خطة رفي التي ساعدته على التأهل إلى نهائيات كأس الاتحاد الإنجليزي على التوالي مرة أخرى، في عام 1955 و1956؛ تماما كما في الثلاثينيات، خسر السيتي أول مباراة له ضد نيوكاسل يونايتد، وفاز في الثانية. المباراة النهائية من عام 1956، والتي فاز مانشستر سيتي بها على برمنغهام سيتي 3-1، هي واحدة من أشهر نهائيات كأس الاتحاد الإنجليزي في كل العصور، وهي ذكرت حارس السيتي بيرت تراوتمان بأستمراريته في اللعب بعد اصابته بكسر في عنقه.\\n\\n\\n=== العصر الذهبي ===\\nبعد الهبوط إلى الدرجة الثانية في عام 1963، بدا المستقبل قاتمأ للسيتي مع سجل أدنى حضور له في ملعبه وهو 8015 ضد سويندون تاون في يناير عام 1965. في صيف عام 1965، تم تعيين مدربين جديدين هما جو ميرسر ومالكوم أليسون.\\nفي الموسم الأول تحت قيادة جو ميرسر، فاز السيتي بلقب دوري الدرجة الثانية وأثبت التعاقد مع اللاعبين مايك سمربي وكولن بل نجاحأ. بعد موسمين، في الموسم 1967-1968، فاز مانشستر سيتي في بطولة الدوري الممتاز للمرة الثانية، اللقب حسمه في اليوم الاخير من الموسم بعد فوزه 4-3 على نيوكاسل يونايتد وجعل جيرانهم مانشستر يونايتد يحصلون المركز الثاني وعلاوة على ذلك الإنجازات التي بعضها: فاز السيتي بكأس الاتحاد الإنجليزي في عام 1969، قبل تحقيق النجاح الأوروبي بالفوز بكأس الكؤوس الأوروبية في عام 1970، بفوزه على كورنيك زابرزي 2-1 في فيينا، كما فاز السيتي بكأس رابطة الأندية الإنجليزية المحترفة هذا الموسم، ليصبح ثاني فريق إنجليزي يفوز باللقب الأوروبي والكأس المحلية في نفس الموسم.\\nواصل النادي المنافسة على كل البطولات في السبعينيات، وأخذ المركز الثاني في الدوري مرتين بفارق نقطة عن الأول وبعدها وصل إلى نهائي كأس الدوري الأنكليزي عام 1974. واحدة من المباريات الذي يضل أنصار السيتي يتذكرونها بأعتزاز هي المباراة النهائية للموسم 1973-1974 ضد غريمه التقليدي مانشستر يونايتد، كان اليونايتد بها بحاجة للفوز لتجنب الهبوط. سجل هدف السيتي لاعب اليونايتد السابق دينيس لو عن خطى هذا الهدف أعطى الفوز للسيتي بنتيجة 1-0 على ملعب أولد ترافورد هابطأ بأليونايتد إلى الدرجة الأولى. النهائي الأخير للفترة الأكثر نجاحأ للنادي عام 1976، هو عندما فازو على نيوكاسل يونايتد 2-1 في نهائي كأس رابطة الأندية الإنجليزية المحترفة.\\n\\n\\n=== فترة التراجع والركود ===\\nبدء السيتي بالتراجع بعد فترة الستينيات والسبعينيات الناجحة. مالكوم أليسون عاد ليصبح مدرب النادي للمرة الثانية في عام 1979، وبعدها أهدر السيتي مبالغ كبيرة من المال على تعاقدات غير الناجحة، مثل ستيف دالي. في الثمانينات درب السيتي 7 مدربين. تحت جون بوند، وصل السيتي إلى نهائي كأس الاتحاد الإنجليزي 1981 لكنه خسر في النهائي أمام توتنهام هوتسبير.\\nهبط النادي مرتين من دوري الدرجة الأولى في الثمانينات (في عام 1983 و1987)، لكنه عاد لدوري الدرجة الأولى مرة أخرى في عام 1989 واحتل المركز الخامس في عامي 1991 و1992 تحت إدارة بيتر ريد. ومع ذلك كانت تلك الفترة فترة راحة مؤقتة، وبعد رحيل بيتر ريد أصبحت حظوظ مانشستر سيتي تتلاشى. كان السيتي من الأندية التي شاركت في الدوري الإنجليزي الممتاز عندما أنشئ عام 1992، في الموسم الأول حصل السيتي على المركز التاسع وبعد البقاء بصعوبة لثلاث أعوام في الدرجة الممتازة هبط السيتي إلى الدرجة الأولى عام 1996. بعد موسمين في الدرجة الأولى، هبط السيتي إلى أدنى مرتبة في تاريخه، ليصبح ثاني فريق يفوز بكأس الكؤوس الأوروبية ويهبط إلى الدرجة الثالثة، بعد نادي ماغديبورغ من ألمانيا.\\n\\n\\n=== في القرن الحادي والعشرين ===\\nبعد الهبوط، تلقي النادي احتجاجات الجمهور خارج الملعب، تم تعيين رئيس جديد للنادي اسمه ديفيد بيرنشتاين، وفي تلك الفترة دخل النادي إلى أكبر انضباط مالي في تاريخه. تحت قيادة المدرب جو رويل، تم الترويج للنادي في المحاولة الأولى، حقق بطريقة دراماتيكية في المباراة الفاصلة ضد غيلينغهام وصعد النادي بعدها إلى الدرجة الثانية. روج السيتي ترويجاً ثانياً ساعد النادي في الصعود إلى دوري الدرجة الأولى، ولكن تبين أن هذه كانت خطوة بعيدة جداً لتعافي النادي، وفي عام 2001 هبط السيتي مرة أخرى. كيفن كيغان أصبح مدرب الفريق بدل جو رويل في نهاية الموسم، عاد بعدها النادي إلى الدرجة الأولى وبعدها أخذ المركز الأول في دوري الدرجة الأولى صاعداً إلى الدرجة الممتازة، حطم النادي الرقم القياسي لعدد الأهداف والنقاط المكتسبة في موسم واحد. كان موسم 2002-03 آخر موسم تكون به مباريات السيتي على ملعب ماين رود، المباراة الأخيرة كانت مع مانشستر يونايتد فاز بها السيتي 3-1، وبذلك تنتهي سلسلة من 13 عاماً دون الفوز بالدربي. تأهل السيتي إلى المنافسات الأوروبية التي كان غائبأ عليها ل25 عامأ. في نهاية الموسم 2003 انتقل السيتي إلى ملعب جديد اسمه ملعب مدينة مانشستر. المواسم الأربعة الأولى على ملعب أنهاها السيتي في منتصف الدوري. أصبح مدرب منتخب انكلترا السابق السويدي سفين غوران إريكسون المدرب الأول للنادي من خارج انكلترا بتعينه عام 2007. تلاشت البداية الجيدة للسيتي التي كانت في النصف الأول للدوري في النصف الثاني من الموسم، وأقيل بعدها سفين غوران إريكسون في يونيو 2008. وتم استبداله بمارك هيوز بعد يومين من أقالة المدرب السابق في 4 (عدد) يونيو 2008. بحلول عام 2008، كان النادي في موقف حرج ماليأ. وكان تاكسين شيناواترا مالك النادي قبل عام، وورطته السياسية جعلت أمواله تنجمد. ثم بعدها، في أغسطس 2008، تم شراء النادي من قبل مجموعة أبوظبي الاتحاد للتنمية والاستثمار. وأعقب شراء النادي سلسلة من العروض للاعبين البارزين؛ سجل النادي أعلى صفقة شراء إنكليزية عندما قام بشراء اللاعب البرازيلي روبينيو من ريال مدريد الأسباني مقابل 32.5 مليون جنيه استرليني. لم تأتي العروض بتحسن كثير على الموسم حيث رغم تدفق الأموال أنهى السيتي الموسم في المركز العاشر، في الدوري الأوروبي وصل السيتي إلى ربع النهائي لكنه خسر أمام هامبورغ. خلال صيف عام 2009، أنفق النادي مبلغأ كبيرأ لم يسبق أن أنفق النادي مثله في موسم واحد، المبلغ كان 100 مليون جنيه استرليني واللاعبين كانو غاريث باري، روكي سانتا كروز، كولو توريه، إيمانويل أديبايور، كارلوس تيفيز، جوليون ليسكوت. في ديسمبر 2009، تم أستبدال المدرب مارك هيوز بروبيرتو مانشيني. وبعدها أنهى السيتي الدوري في المركز الخامس باعجوبة، وتأهل للتنافس في الدوري الأوروبي للموسم 2010-11.\\n\\nفي الموسمين التاليين واصل النادي استثماراته في اللاعبين، وبدأت النتائج تتحسن. وصل السيتي إلى نهائي كأس الاتحاد الإنجليزي لعام 2011، أول نهائي لبطولة كبرى منذ أكثر من ثلاثين عاما، بعد فوزه في الدربي على مانشستر يونايتد في الدور نصف النهائي، وهذه البطولة هي المرة الأولى التي يصل فيها السيتي إلى نهائي كأس الأتحاد منذ عام 1975. هزم السيتي ستوك سيتي 1-0 في المباراة النهائية، وهذا اللقب الخامس في كأس الاتحاد الإنجليزي، وهي أول بطولة كبرى للنادي منذ فوزه بكأس رابطة الأندية الإنجليزية المحترفة عام 1976. في نفس الأسبوع، تأهل النادي لدوري أبطال أوروبا للمرة الأولى منذ عام 1968 بعد فوزه على توتنهام هوتسبر 1-0. في اليوم الأخير من موسم 2010-11، سبق السيتي آرسنال صاعدأ إلى المركز الثالث في الدوري الممتاز، وبألتالي ضمن التأهل مباشرة إلى دور المجموعات دوري ابطال أوروبا. استمر الأداء القوي للسيتي في موسم 2011-12، حيث فاز على توتنهام هوتسبر 5-1 على ملعب وايت هارت لين والفوز القاسي على مانشستر يونايتد 6-1 في ملعب اليونايتد. على الرغم من أن القوة التي أراها السيتي في بداية الدوري تضاءلت في منتصف الطريق، وتأخر السيتي ثمان نقاط عن المتصدر مانشستر يونايتد وتبقي 6 مباريات للعب فقط، بعدها هبط اليونايتد هبوط لم يسبق له مثيل ليتعادل مع السيتي في النقاط لكن مع تفوق السيتي في فارق الأهداف.\\n\\nعلى الرغم من أن السيتي احتاج فقط للفوز بملعبه ليتوج بالدوري، إلا أنه إلى نهاية الوقت الاصلي كان السيتي متأخرا بهدفين مقابل هدف، مما دفع بعض لاعبين اليونايتد بألأحتفال أعتقادأ أنهم فازو في الدوري. ليسجل السيتي بعدها هدفين في الوقت الأضافي وأسفر الهدفين عن تتويج السيتي بالدوري. ليكون بذلك أول لقب دوري للسيتي منذ 44 سنوات، ليصبح السيتي خامس نادي يفوز بألدوري منذ إنشائها عام 1992. وبعد ذلك، وصف هذا الحدث من قبل مصادر إعلامية من المملكة المتحدة وحول العالم باعتباره أعظم لحظة في تاريخ الدوري الممتاز.بعد نهاية هذا الموسم أتى تحفيز كثير للسيتي، في الموسم التالي، فشل النادي من الاستفادة من أي مكاسب في أول موسمين من تدريب روبيرتو مانشيني. لم تشهد فترة الانتقالات أنضمام أي لاعب حتى اليوم الأخير من الموسم، عندما أنضم 4 (عدد) لاعبين في غضون 10 (عدد) ساعات. كانت الكرة الجميلة للنادي في الموسم السابق قد ندرت، وكان على الأرجح أن ينزل إلى مركز أقل من الثاني، وكانت منافسة السيتي للدوري في فترة قصيرة للموسم. في دوري أبطال أوروبا، خرج النادي من دور المجموعات للمرة الثانية على التوالي، وسمعة روبيرتو مانشيني محليأ كانت أكثر من أوروبيا، وصل النادي إلى نهائي كأس الاتحاد الإنجليزي لكنه خسر أمام نادي هبط إلى الدرجة الأولى هو ويغان أتلتيك بنتيجة 1-0 بعد تعميم الشائعات للمدرب روبيرتو مانشيني قال أنه سيستقيل. بعد يومين استقال روبيرتو مانشيني، نظرأ لفشله في الوصول إلى أهدافه لهذا الموسم الكثير من الصحف أشارت أن العلاقة بين مانشيني واللاعبين إنهارت وإنهارت علاقته أيضأ بين الإيطاليين ومجلس إدارة النادي، رفض مانشيني بعدها عرض النادي لتدريب نادي الشباب. بعد استقالة مانشيني تم تعيين التشيلي مانويل بيليجريني مدربأ للنادي، في الموسم الأول من تدريب بيليجريني فاز النادي بكأس رابطة الأندية الإنجليزية المحترفة واستعاد لقب الدوري الممتاز في اليوم الأخير من الموسم.في فبراير 2023، اتهم الدوري الإنجليزي الممتاز، الذي أنهى تحقيقه الذي دام أربع سنوات، مانشستر سيتي بخرق أكثر من 100 قاعدة مالية في مناسبات مختلفة. وقالت الرابطة أن مانشستر سيتي قدم معلومات مضللة عن أوضاعهم المالية لمدة تسع سنوات تحت الملكية الإماراتية، مبارك والشيخ منصور. تضمنت اتهامات الدوري الإنجليزي الممتاز 80 انتهاكًا مزعومًا للقواعد المالية بين عامي 2009 و2018. إلى جانب ذلك، كان أكثر من 30 انتهاكًا مرتبطًا بفشل مانشستر سيتي في التعاون مع تحقيق الدوري الإنجليزي الممتاز منذ ديسمبر 2018.,\\n\\n\\n== شعار النادي والألوان ==\\nألوان النادي هي الزرقاء والبيضاء. الزي التقليدي للنادي هو الماروني منذ الستينيات والأحمر والأسود؛ وفي السنوات الأخيرة أستخدم النادي عدة ألوان مختلفة. أصل لون الفريق يبقى مجهولاً، رغم أن هناك دلائل تشير إلى ارتداء الفريق الأزرق السماوي منذ 1892، وكلها انعكست على شعارات النادي المتعددة. كتاب بعنوان أشهر نوادي كرة القدم - نشر في الأربعينيات مانشستر سيتي أن النادي لعب بلونين القرمزي والأسود، وتقارير أخرى يرجع تاريخها إلى عام 1884 أن النادي كان يرتدي قمصان سوداء بها صليب أبيض، وتبين أن مقر النادي كان جنب الكنيسة. اللونين الأحمر والأسود هما فكرة المدرب السابق للنادي مالكوم أليسون، الذي كان يعتقد أن ألوان نادي إيه سي ميلان سيزيد من شعبية النادي. عندما أعتمد النادي اللونين الأحمر والأسود بدل الزرقاء، فاز النادي ببطولة كأس الاتحاد الإنجليزي لعام 1969 وفاز ببطولة كأس رابطة الأندية الإنجليزية المحترفة عام 1970 وفاز بكأس الكؤوس الأوروبية عام 1970.\\nاعتمد الشعار الحالي للنادي في عام 1997 لأن الشارة السابقة لم تكن مؤهلة للتسجيل كعلامة تجارية. ويتكون الشعار من النبالة من مدينة مانشستر، ويتكون من درع أمام عقاب ذهبية. العقاب هو رمز الشعار القديم لمدينة مانشستر؛ تمت إضافة عقاب ذهبية لشعار النادي في عام 1958 (ولم يتم إزالته منذ ذلك الحين)، التي تمثل صناعة الطيران المتنامية. يوجد في الدرع سفينة في النصف العلوي تمثل قناة مانشستر الملاحية، ويوجد ثلاث خطوط بيضاء في النصف السفلي ترمز إلى الثلاث أنهار في المدينة - إيرول وإيرك ومدلوك. الجزء السفلي من الشعار يحمل Superbia in Proelio، ومعناه كما الكبرياء في المعركة اللاتينية. فوق النسر والدرع يوجد ثلاثة نجوم، والتي هي مجرد زخرفة.\\nالسيتي أرتدى شعارين سابقأ. الأول، كان في عام 1970، والتصميم أستند على وثائق النادي الرسمية منذ منتصف السيتينيات. الشارة كانت مدورة وكانت تحوي نفس الدرع المستخدم في الشارة الحالية، داخل الدائرة يوجد اسم النادي. في عام 1972، تم استبدال الشعار ذلك لوجود خلاف على النصف السفلي من الدرع مع وردة حمراء لانكشاير. عندما كان يلعب النادي في نهائيات الكؤس، لا يستخدم الشارة المعتادة؛ بدلا من ذلك يستخدم القمصان التي تحمل شعار أسلحة من مدينة مانشستر، باعتباره رمزا للفخر في تمثيل مدينة مانشستر في الحدث الكبير. هذه الممارسة تنبع من وقت قمصان اللاعبين لم تحمل عادة شارة من أي نوع، ولكن استمر طوال تاريخ النادي. في نهائي كأس الاتحاد الإنجليزي عام 2011، أستخدم النادي الشعار المعتاد مع أسطورة خاص، أدرج النادي الأسلحة كشعار أحادية اللون صغيرة في الأرقام على الجزء الخلفي من قمصان اللاعبين.\\n\\n\\n=== مقدمي ورعاة القميص ===\\n\\n\\n=== صفقات الرعاية ===\\n\\n\\n=== قميص الفريق ===\\n\\n\\n== ملعب الفريق ==\\n\\n\\n=== ملعب مدينة مانشستر ===\\nملعب مدينة مانشستر (بالإنجليزية: City of Manchester Stadium)\\u200f ويرمز له اختصاراً (بالإنجليزية: COMS)\\u200f، ويعرف أيضاً باسم استاد الاتحاد (بالإنجليزية: Etihad Stadium)\\u200f لأسباب دعائية، هو ملعب كرة قدم، وهو الملعب الرئيسي لنادي مانشستر سيتي، فهو خامس أكبر ملعب في الدوري الإنجليزي الممتاز، كما أنه يحتل المرتبة الثانية عشر بين كل ملاعب المملكة المتحدة، بطاقة إستياعبية تصل إلى 47805 ألف متفرج.بني الملعب أساساً ليكون كملعب أولمبي بطاقة إستيعابية تصل إلى 38 ألف متفرج، ليكون الملعب الرئيسي في ملف مدينة مانشستر الذي تقدمت به لطلب استضافة دورة الألعاب الأولمبية الصيفية 2000، ولكن هذا العرض فشل. وعمومًا تم بناء الملعب بعد ذلك كي يستضيف دورة ألعاب الكومونولث 2002. وكلف بناء الملعب 110 مليون جنيه إسترليني. ولضمان مستقبل الملعب بعد دورة ألعاب الكومنولث 2002، اتفق مجلس مدينة مانشستر مع نادي مانشستر سيتي على استئجار الملعب لبجل بديلاً للملعب الفريق السابق ملعب ماين رود. عملية تحويل الملعب من ملعب أولمبي إلى ملعب كرة قدم، كلف مجلس مدينة مانشستر 22 مليون £، بواسطة مهندسي شركة أروب. ثم انتقل مانشستر سيتي إلى ملعبه الجديد في صيف عام 2003.احتضن العديد من الفعاليات مثل مباراة دولية لمنتخب إنجلترا لكرة القدم، مباريات دوري الرجبي، ولقب الملاكمة العالمي والحفلات الموسيقية، لكن أهمها لغاية يومنا هذا، هو نهائي كأس الاتحاد الأوروبي 2008 والذي أقيم بتاريخ 14 مايو 2008 بين زينيت سانت بطرسبرغ الروسي ونادي رينجرز الأسكوتلندي. وسيستضيف الملعب مباراة واحدة ضمن كأس العالم للرجبي 2015. شهد الملعب أكبر حضور جماهيري في تاريخه، كان في 13 مايو 2012، في مباراة جمعت مانشستر سيتي وكوينز بارك رينجرز، بعدما بلغ عدد المشاهدين 47,435 ألف متفرج.\\nسيضخع الملعب في 2014 لعملية تجديد أخرى لتوسيع طاقتة الإستيعابية لتضبح 55 ألف متفرج.\\n\\n\\n=== ملعب ماين رود ===\\nملعب ماين رود (بالإنجليزية: Maine Road)\\u200f، هو ملعب كرة قدم إنجليزي سابق، يقع في جزء موس سايد من مدينة مانشستر في أنجلترا. وهو الملعب السابق لنادي مانشستر سيتي، لعب فيه منذ 1923 وحتى 2003. واستضاف الملعب مباريات كأس الاتحاد الإنجليزي لكرة القدم وكأس الاتحاد الإنجليزي لكرة القدم وكأس إنجلترا، لهذا أطلق عليه لقب ويبملي الشمال (بالإنجليزية: Wembley of the North)\\u200f بسبب احتضانه لأهم بطولات الكرة الإنجليزية.\\nبدأت خطط بناء الملعب في الظهور عام 1922. فبدأت أعمال البناء في عام 1923 وافتتح الملعب الدذي كانت تبلغ قوته الإستيعابية نحو 35,150، في نفس السنة بعدما كلف 100 ألف جنيه أسترليني في ذلك الوقت، ثم تعرض الملعب اجديدات وأعمال توسعة في أعوام 1931 و1957, و1970 و1994.وبعد 80 عاماً من احتضان مباريات فريق مانشستر سيتي وتحديداً في عام 2003، تم الإعلان عن هدم الملعب بسبب سوء تصميم الملعب، وارتفاعات متفاوتية في أرضية الملعب. فكان موسم 2002-03 هو آخر موسم يلعب فيه نادي مانشستر سيتي مباراياته على ملعب مابن رود. فكانت آخر مباراة للفريق أمام نادي نادي ساوثهامبتون وخسرها بهدف نظيف. انتقل بعدها النادي في موسم 2003-04 لملعب مدينة مانشستر، والذي يقع شرق مدينة مانشستر.\\n\\n\\n=== ملعب هايدي رود ===\\nملعب هايدي رود (بالإنجليزية: Hyde Road)\\u200f، هو ملعب كرة قدم سابق، كان يقع في غرب غورتون بمدينة مانشستر، بانجلترا. فكان ملعب مانشستر سيتي في الفترة ما بين عام 1887 ولغاية عام 1923، بعدها انتقل الفريق لملعب ماين رود. سمي بهذا الاسم نسبة إلى طريق هايدي، والذي يبدأ من غرب حي آردويك غريين، ويمتد شرقا باتجاه هايدي.\\n\\n\\n=== مركز كارينغتون للتدريب ===\\nمركز كارينغتون للتدريب (بالإنجليزية: Carrington Training Centre)\\u200f ويعرف أيضاً باسم مركز تدريب نادي مانشستر سيتي (بالإنجليزية: Carrington Training Centre)\\u200f، لكنه يعرف اختصاراً باسم كارينغتون (بالإنجليزية: Carrington)\\u200f، هو مركز تدريب نادي مانشستر سيتي والذي افتتح عام 2001، يقع في كاريغتون في ترافورد بمدينة مانشستر الإنجيزية. ويختلف مركز كارينغتون عن أكاديمية نادي مانشستر سيتي (بلايت لين).\\n\\n\\n== الديربي ==\\n\\nديربي مانشستر (بالإنجليزية: Manchester derby)\\u200f هو اسم يطلق على أي مباراة كرة قدم بين فريقي مدينة مانشستر الإنجليزية، مانشستر يونايتد وغريمه مانشستر سيتي. يُلعب الديربي منذ 1881 عندما تقابلا لأول مرة في 12 نوفمبر 1881، وكان الفوز من نصيب مانشستر يونايتد بنتيجة 3-0. تأسس نادي مانشستر يونايتد في عام 1878 تحت اسم نادي نيوتن هيث ومن ثم تغير اسمه ليصبح مانشستر يونايتد، ويلعب مبارياته على ملعب أولد ترافورد منذ عام 1910. بينما تأسس نادي مانشستر سيتي في عام 1880 تحت اسم نادي سينت ماركس ومن ثم تغير ليصبح نادي أدرويك في عام 1887 ومن ثم أصبح مانشستر سيتي في عام 1894، ويلعب مبارياته على ملعب مدينة مانشستر منذ عام 2003.فكان أول لقاء بينهما باسمهما القديم في 12 نوفمبر 1881، عندما تقابل نيوتن هيث (مانشستر يونايتد حالياً) مع نادي سينت ماركس (مانشستر سيتي حالياً) وانتهى اللقاء بفوز نيوتن هيث بثلاثية نظيفة. اللقاء الأول الذي جمع بينهما في منافسات الدوري، وكان ضمن دوري الدرجة الثانية، كان في 3 نوفمبر 1894، في ملعب هايد رود عندما تغلب نيوتن هيث على نادي مانشستر سيتي بنتيجة 5-2. بينما أول لقاء بينهما في دوري الدرجة الأولى كان في 1 ديسمبر 1906 وانتهى بفوز مانشستر سيتي بثلاثية نظيفة، ووصلت إيرادات تلك المباراة إلى 1,000 جنيه استيرليني وهو مبلغ كبير في ذلك الوقت. قبل الحرب العالمية الثانية، كان الكثير من مشجعي كرة القدم في المدينة يشاهدون أحد الناديين في أسبوع ثم يشاهدون النادي الآخر في الأسبوع التالي، لكن بعد الحرب ظهر مشجعين لكل فريق ولم يعد أمرا مشاعا تشجيع الناديين كما كان عليه الحال في السابق.\\n\\nأخر تحديث لنتائج المواجهات كان في 6 نوفمبر 2021.\\n\\n\\n== اللاعبون ==\\n\\n\\n=== تشكيلة الفريق الحالية ===\\n آخر تحديث في 15 سبتمبر 2023.\\n\\n\\n=== لاعبون ظهروا مع الفريق الأول ===\\n\\n\\n=== اللاعبون المعارون ===\\nتنتهي إعارة جميع اللاعبين في 30 يونيو 2024.\\n\\n\\n=== الأرقام المجمدة ===\\n32 -  مارك فيفيان فويه (2002–03) - تكريم بعد وفاته.\\n\\n\\n== أشهر اللاعبين ==\\n\\n\\n=== قاعة مشاهير مانشستر سيتي ===\\nلاعبي النادي السابقون ومدربي النادي السابقون دخلو قاعة مشاهير النادي\\nالترتيب التالي حسب السنة:\\n\\n\\n=== مشاهير المتحف الوطني لكرة القدم ===\\nلاعبي مانشستر سيتي السابقين ومدربي الفريق هم الذين يدخلون قاعة المشاهير (ويعرف أيضا باسم قاعة المشاهير متحف الإنجليزي لكرة القدم) الترتيب التالي حسب السنة:\\n\\n\\n=== مشاهير المتحف الإسكتلندي لكرة القدم ===\\nلاعبي مانشستر سيتي السابقين ومدربي الفريق السابقين هم الذين يدخلون قاعة مشاهير كرة القدم الاسكتلندية (ويعرف أيضا باسم متحف قاعة مشاهير المتحف الإسكتلندي لكرة القدم) الترتيب التالي حسب السنة:\\n\\n\\n=== مشاهير المتحف الويلزي لكرة القدم ===\\nلاعبي مانشستر سيتي السابقين هم الذين يدخلون قاعة مشاهير كرة القدم الويلزية الترتيب التالي حسب السنة:\\n\\n\\n== الطاقم ==\\n\\n\\n=== طاقم الإدارة ===\\n\\n\\n=== طاقم التدريب ===\\n\\n\\n== المدربون ==\\nآخر تحديث في 9 أغسطس 2022.\\n\\n\\n== المشجعون ==\\nمانشستر سيتي لديه قاعدة جماهيرية كبيرة وهذا يتعلق بنجاح النادي على أرض الملعب. منذ انتقاله إلى استاد مدينة مانشستر، كانت جماهير النادي من أكبر ستة أندية جماهيرية في إنجلترا، وعادة تزيد الجماهير عن 40,000 على أرض الملعب. حتى في أواخر التسعينيات، عندما هبط النادي مرتين في ثلاثة مواسم وأصبح يلعب في الدرجة الثالثة لكرة القدم الإنجليزية، كان حضور جماهير السيتي يصل 30,000 في الملعب، مقارنة بمتوسط ل تقسيم أقل من 8,000. البحوث التي أجريت من قبل مانشستر سيتي في تقديرات عام 2005 القاعدة الجماهيرية للنادي في المملكة المتحدة يتجاوز 886,000 وإجمالي الجماهير في كل أنحاء العالم يتجاوز 2 (عدد) مليون، بعد شراء النادي من قبل الشيخ منصور والجوائز في الآونة الأخيرة، قد زاد عدد الجماهير إلى أضعاف هذا الحجم.أنصار مانشستر سيتي معترف بها رسميا منذ (1949)، التي تشكلت من اندماج اثنين من المنظمات القائمة في عام 2010:. الأتصار الرسمية للنادي هي (OSC) وجمعية (CSA) وأنصار المئويه وكانت هناك عدة مجلات للهواة نشرت من قبل أنصار النادي؛ وهو ملك Kippax هو الوحيد الذي لا يزال ينشرها. أغنية مشجعين السيتي هي \"الاختيار هو تمثيل من\" القمر الأزرق\"، التي مربوط على الرغم من موضوعه السوداوي مع ميل كما لو كانت النشيد البطولي. أنصار السيتي تميل إلى الاعتقاد أن عدم القدرة على التنبؤ هي سمة النادي، والنتائج الغير متوقعة \"السيتي النموذجي\". الأحداث أن المشجعين يعتبرونه \"السيتي النموذجي\" تشمل السيتي كونه حامل لقب الدوري الوحيدالذي يهبط في الموسم التالي (في عام 1938)، الفريق الوحيد الذي يسجل ويتلقى أكثر من 100 هدفا في نفس الموسم (1957-1958)، أو المثال في الآونة الأخيرة أن السيتي كان الفريق الوحيد الذي تغلب على تشيلسي في الدوري الإنجليزي الممتاز 2004-05، ولكن في نفس الموسم السيتي خرج من كأس الاتحاد الإنجليزي ضد أولدهام اتلتيك، فريق من الدرجة الثانية.\\nأكبر تنافس لمانشستر سيتي هو مع الجار اللدود مانشستر يونايتد، يسمى لقائهما ديربي مانشستر. قبل الحرب العالمية الثانية، عندما كان السفر إلى اللعبة نادرأ، العديد من مشجعي كرة القدم Mancunian شاهد بانتظام كلا الفريقين كما لو تظن أنهما «أنصار» نادي واحد. استمرت هذه الممارسة في بداية الستينيات ولكن السفر أصبح أسهل، وتكلفة الدخول إلى مباريات أرتفعت، أصبح مراقبة الفريقين للمباريات غير عادية، واشتد التنافس. الصورة النمطية الشائعة هي أن المشجعين مانشستر سيتي تأتي بطريقة صحيحة، في حين أن مشجعين اليونايتد تأتي من مكان آخر. وكشف تقرير عام 2002 من قبل الباحث في جامعة مانشستر متروبوليتان أن نسبة حاملي التذاكر من مناطق السيتي أكثر من اليوانيتد وكانت نسبة السيتي (40% مقابل 29٪) لليونايتد، كأن هناك المزيد من شارين التذاكر لليونايتد، وانخفاض المئوية هي نتيجة لعداد اليونايتد الذي هو أعلى عموما من شاري تذاكر الموسم (27667 مقارنة ب 16,481 للسيتي)؛ لم يسلط للضوء أنه من مدينة مانشستر ذاته، كانت نسبة شارين التذاكر للسيتي (حوالي 4 لكل 3 لليونايتد). وأشار التقرير إلى أنه منذ تجميع البيانات في عام 2001، أن عدد شارين التذاكر السيتي واليونايتد أرتفع؛ التوسع في ملعب اليونايتد وتغير ملعب السيتي سبب زيادة شراء التذاكر.في أواخر الثمانينيات، بدأت جماهير السيتي بدأت تجن حيث أنها بدأت تجلب بالونات على شكل موز في المقام الأول. أحد التفسيرات المتنازع عليها للجنون هو أنه في المباراة ضد ويست بروميتش ألبيون هتافات من المشجعين تدعو إلى إدخال ايمري فارادي كبديل تحولت إلى «ايمري الموز». المدرجات معبأة بأنصار يلوحون ببالونات أصبح يتكرر في موسم 1988-1989 مع انتشار الهوس إلى أندية أخرى (شوهدت بالونات أسماك مع مشجعين غريمسبي تاون)، مع ظاهرة بلغت ذروتها في مباراة السيتي ضد ستوك سيتي يوم 26 ديسمبر 1988، أعلنت مجلات الهواة أن المباراة كان حفل تنكري. وفي أغسطس 2006، أصبح النادي أول من يتم الاعتراف رسميا باعتباره «نادي مستهتر أو مرح» من قبل مجموعة حملة ستونوول (المملكة المتحدة). في عام 2010، اعتمد أنصار الرقص مندفعأ، أطلق عليها اسم بوزنان، على اسم النادي البولندي ليخ بوزنان.\\n\\n\\n== الملكية والمالية ==\\nالشركة القابضة لمانشستر سيتي، هي Manchester City Limited، هي شركة خاصة محدودة، مع ما يقرب من 54 مليون سهم في القضية. وكان النادي في أيدي القطاع الخاص منذ عام 2007، عندما وافق المساهمين الرئيسيين لبيع مقتنياتها إلى المملكة المتحدة الرياضة للاستثمارات المحدودة (UKSIL)، وهي شركة يسيطر عليها رئيس الوزراء التايلاندي السابق تاكسين شيناواترا. ثم أدلى UKSIL عرضا رسميا لشراء الاسهم المملوكة من قبل آلاف المساهمين الصغار.\\nقبل استيلاء تاكسين، أدرج النادي في سوق الأسهم المستقلة المتخصصة PLUS (formerly OFEX)، حيث أدرج منذ عام 1995. يوم 6 (عدد) يوليو 2007، بعد أن حصل على 75% من أسهم الشركة، سجل تاكسين النادي على أنه شركة خاصة. وبحلول أغسطس أستولت UKSIL على أكثر من 90% من أسهم الشركة، وتمارس حقوقها بموجب قانون الشركات ل«ابتز» ضد المساهمين المتبقية، والحصول على الشركة بأكملها. أصبح تاكسين شيناواترا رئيس النادي مع ولدين له، اسمهما بينتوغتا وبانتونجتاى. بقي الرئيس السابق جون واردل في المجلس لمدة عام، لكنه استقال في يوليو 2008 بعد تعيين نايك وغاري كوك كرئيس تنفيذي في مايو. خسر النادي خسارة مالية بقيمة 11 مليون جنيه إسترليني في السنة المالية المنتهية في 31 مايو 2007، وهي السنة الأخيرة التي نشرت حسابات كشركة مساهمة عامة.أنفق تاكسين مبلغ مالي لشراء بعض اللاعبين، المبلغ كان يقارب 30 مليون جنيه إسترليني في المواسم السابقة لم ينفق النادي هكذا مبلغ. وبعد ذلك بعام، كان هذا الاستثمار نفسه تضاءل بدرجة كبيرة. في 1 (عدد) سبتمبر 2008، أستولت مجموعة أبوظبي الاتحاد للتنمية والاستثمار على نادي مانشستر سيتي. صفقة، بلغت قيمتها 200 مليون جنيه إسترليني تم الإعلان عن الصفقة صباح يوم 1 (عدد) سبتمبر. حاول النادي شراء ديميتار برباتوف لاعب توتنهام هوتسبر الذي في النهاية اشتراه مانشستر يونايتد مقابل رسوم تتجاوز 30 مليون جنيه استرليني. قبل دقيقة من إغلاق سوق الانتقالات، وقع النادي عقدأ مع البرازيلي روبينيو من ريال مدريد الإسباني مقابل 32.5 مليون جنيه استرليني. ثروة الملاك الجدد تعني شراء الكثير من اللاعبين في صيف عام 2009، النادي قادر على شراء الكثير من لاعبين الخبرة قبل الموسم الجديد، وإنفاق أكثر من أي نادي آخر في الدوري الممتاز.في 13 يوليو 2020، أعلنت محكمة التحكيم الرياضية \"Cas\\'s\" أنها ألغت الحظر المفروض على مانشستر سيتي من قبل اتحاد الاتحادات الأوروبية لكرة القدم (Uefa) الذي حرم النادي الإنجليزي من المنافسة لمدة موسمين بسبب انتهاكات قواعد اللعب النظيف المالي. استمر النادي يواجه غرامة مخفضة قدرها 10 ملايين دولار لإظهار «تجاهل» للتحقيق الذي تقوده هيئة الرقابة المالية لنادي الاتحاد الأوروبي لكرة القدم (CFCB) و«عرقلة التحقيقات».\\n\\n\\n== بطولات الفريق ==\\n\\n\\n=== محلياً ===\\nدوري الدرجة الأولى الإنجليزي/الدوري الإنجليزي الممتاز\\nالبطل (9): 1936–37، 1967–68، 2011–12، 2013–14، 2017–18، 2018–19، 2020–21، 2021–22، 2022–23\\nالوصيف (6): 1903–04، 1920–21، 1976–77، 2012–13، 2014–15، 2019–20دوري الدرجة الثانية الإنجليزي/دوري الدرجة الأولى الإنجليزي\\nالبطل (7): 1899، 1903، 1910، 1928، 1947، 1966، 2002\\nالوصيف (4): 1895–96، 1950–51، 1988–89، 1999–2000\\nدوري الدرجة الثالثة الإنجليزي\\nالبطل (1): 1999\\nكأس الاتحاد الإنجليزي\\nالبطل (7): 1904، 1934، 1956، 1969، 2011، 2019، 2023\\nالوصيف (5): 1926، 1933، 1955، 1981، 2013\\nكأس رابطة الأندية الإنجليزية المحترفة\\nالبطل (8): 1970، 1976، 2014، 2016، 2018، 2019، 2020، 2021\\nالوصيف (1): 1974\\nدرع المجتمع الإنجليزي\\nالبطل (6): 1937، 1968، 1972، 2012، 2018، 2019\\nالوصيف (9): 1934، 1956، 1969، 1973، 2011، 2014، 2021، 2022، 2023\\n\\n\\n=== أوروبياً ===\\nكأس الكؤوس الأوروبية\\nكأس السوبر الأوروبي\\nالبطل (1): 1970\\nدوري أبطال أوروبا\\nالبطل (1): 2022–23\\nالوصيف (1): 2020-21\\nكأس السوبر الأوروبي\\nالبطل (1): 2023\\n\\n\\n=== الثنائيات والثلاثيات ===\\nالثنائياتثنائية الدوري وكأس الرابطة (3): موسم 2013–14 وموسم 2017–18 و موسم 2020-21\\nثنائية كأس الرابطة وكأس الكؤوس الأوروبية (1): موسم 1969–70 .\\nثنائية الدورى وكأس الاتحاد الانجليزي (2) : موسم 2017-18 وموسم 2022-23 .الثلاثياتالثلاثية المحلية (الدوري وكأس الاتحاد وكأس الرابطة) (1): موسم 2018-19، وهو الفريق الوحيد حقق الثلاثية المحلية.\\nالثلاثية القارية الدوري وكأس الاتحاد ودوري ابطال اوروبا (1) : موسم 2022-23 وهو ثاني فريق في إنجلترا يحققها و الثامن أوروبيا.\\n\\n\\n== الإحصائيات ==\\nآخر تحديث: 16 يونيو 2020.\\n\\n\\n=== أرقام قياسية ===\\nسجلات أكبر الانتصارات في الدوري – 11–3 v. لينكولن سيتي (23 مارس 1895، أكبر فوز) 10–0 v. داروين (18 فبراير 1899, أكبر فارق فو)\\nسجلات أكبر الانتصارات في كأس الاتحاد الإنجليزي – 12–0 v. ليفربول ستانلي (4 أكتوبر 1890)\\nسجلات أكبر الهزائم في الدوري – 0–8 v. بورتون واندررز (26 ديسمبر 1894)، 0–8 v. وولفرهامبتون واندررز (23 ديسمبر 1933), 1–9 v. إيفرتون (3 سبتمبر 1906), 2–10 v. برمنغهام سيتي (17 مارس 1893)\\nسجلات أكبر الهزائم في كأس الاتحاد الإنجليزي – 0–6 v. بريستون نورث ايند (30 يناير 1897)، 2–8 v. برادفورد بارك أفينيو (30 يناير 1946)\\nأعلى حضور جمهور في ملعب النادي – 84,569 v. ستوك سيتي (3 مارس 1934) (والرقم أعلى حضور جماهيري في تاريخ الكرة الأنكليزية)\\nأكثر لاعب لعب مباريات مع النادي في الدوري – 561 + 3 كبديل، آلان أوكس 1958–76\\nأكثر لاعب لعب مباريات مع النادي في كل البطولات – 676 + 4 كبديل، آلان أوكس 1958–76\\nأكثر لاعب سجل أهداف مع النادي في موسم واحد – 38، تومي جونسون 1928–29\\nأكبر صفقة شراء لاعب في تاريخ النادي – £60 مليون إلى ليستر سيتي إلى رياض محرز، يوليو 2018\\nأكبر صفقة بيع لاعب في تاريخ النادي – £21 مليون من تشيلسي إلى شون رايت فيليبس، يوليو 2005\\nأصغر لاعب لعب مع الفريق: غلين باردو 15 سنة و314 يوم (ضد برمنغهام سيتي، في الدرجة الأولى، يوم 11 أبريل 1962)\\nأكبر لاعب لعب مع الفريق: بيلي ميريديث 49 سنة و245 يوم (ضد نيوكاسل يونايتد، في كأس الاتحاد الإنجليزي دور نصف النهائي، يوم 29 مارس 1924)\\nأكثر لاعب تسجيلاً للأهداف في جميع المسابقات: هو سيرخيو أغويرو (2011-) (254 هدفاً)\\nأكثر لاعب تسجيلاً للأهداف في موسم واحد بجميع المسابقات: هو تومي جونسون (1928–1929) (38 هدفاً)\\nأكثر لاعب تسجيلاً للهاتريك: هو سيرخيو أغويرو (2011-) (16 مرة)\\nأكثر لاعب تسجيلاً للأهداف في بمبارة واحدة بجميع المسابقات: هو دينيس لو ضد نادي لوتون تاون (28 يناير 1961) (6 أهداف)\\n\\n\\n=== أكثر اللاعبين مشاركة ===\\n\\n\\n=== أكثر اللاعبين تسجيلأ للأهداف ===\\nآخر تحديث: 16 يونيو 2020.\\n\\n\\n== الأندية المنتسبة ==\\n\\n\\n=== مجموعة سيتي لكرة القدم ===\\nتم إنشاؤها في موسم 2013-14 لإدارة مصالح كرة القدم العالمية، مجموعة سيتي لكرة القدم هي شركة شمسية تمتلك حصص في شبكة الأندية العالمية لأغراض تقاسم الموارد، والشبكات الأكاديمية والتسويق. من خلال CFG، السيتي يملك حصصا في عدد من الأندية:\\n\\n نادي نيويورك سيتي (2013–حتى الآن)في 21 (توضيح) مايو 2013 أعلن مانشستر سيتي أنه تشارك مع أمريكا البيسبول نيويورك يانكيز امتياز لتقديم توسع في الدوري الأمريكي لكرة القدم، ونادي نيويورك سيتي المساهم الأكبر. نادي ملبورن سيتي (2014–حتى الآن)في 23 يناير 2014 قد اشترك السيتي مع امتياز دوري الرجبي الأسترالي «العاصفة ملبورن»، شراء حصة كبيرة في فريق «نادي ملبورن سيتي». يوكوهاما مارينوس (2014–حتى الآن)في 20 مايو 2014 أن مانشستر سيتي قد دخل شراكة مع شركة «السيارات اليابانية» نيسان موتورز سيصبح مساهما صغيرأ من جامعة «يوكوهاما» على أساس الجانب، يوكوهاما مارينوس.\\n\\n\\n=== تقاسم المرافق ===\\n نادي هايد إف سي (2011–حتى الآن)يسعى للحصول على ملعب الفريق الرديف بديلا لتحل محل مانشستر الإقليمية لألعاب القوى والساحة، وقع مانشستر سيتي اتفاق مع نادي هايد إف سي لاستخدام الاستاد لأغراض الفريق الرديف. يتبع الشراكة على من الوسم من اسم هايد المتحدة ورعايتها عدة مربحة من خلال الذراع الخيرية سيتي مانشستر سيتي في الجماعة مقابل مبلغ الذي أنقذ النادي من الإفلاس المؤتمر. وافقت السيتي أيضا لدفع £250,000 - ضعف حجم ديون النادي - لتجديد ملعب النادي.\\n\\n\\n=== التدريب / شركاء الكشافة ===\\n آرهوس جمناستيك فورينينغ (2013–حتى الآن)في يناير عام 2013، دعا رئيس أكاديمية آرهوس واللاعب السابق سكوت سيلرز آرهوس إلى الدنمارك للقيام بجولة مرافقها، وعندها تم التوقيع على اتفاق بين الناديين. آرهوس أعجب مع مرافق شبابهم والمخطط لها التعاون على اللاعبين الشباب. في المقابل، وافق مانشستر سيتي لإرسال دورية لاعبين شباب من الحق في الحلم أكاديمية على سبيل الإعارة إلى آرهوس. إسبانيول (2011–حتى الآن)اسبانيول ومانشستر سيتي لديهم اتفاق ينطوي على تقديم قروض من اللاعبين الشباب من مانشستر سيتي لاسبانيول، واسبانيول الحصول على الإشعار الأول على اللاعبين الذين هم الفائضة عن الحاجة في مدينة. اتحاد غانا لكرة القدم (2013–حتى الآن)مانشستر سيتي دخل شراكة مع اتحاد غانا لكرة القدم حيث كل موسم منهما التقنية المعرفة تجمع موظفيها تتعلق اللاعبين التدريب. نادي جل فيسنتي (2012–حتى الآن)تم التوقيع على اتفاق يوم 9 (عدد) مايو 2012 مع نادي جل فيسنتي لتبادل شبكة الكشفية مع مانشستر سيتي، ومنح السيتي وصول أكثر تخصصا في السوق البرتغالية، في المقام الأول للمواهب الشباب، في الوقت الذي تسمح أيضا جيل فيسنتي في الاستفادة من متناول سيتي أكثر عالمية. نادي يميريك (2013–حتى الآن)توقيع اتفاقية شراكة بين نادي يميريك مع السيتي يرجع ذلك أساسا إلى رغبتهم للوصول إلى مجموعة من المواهب القادمة من الحق في الحلم الأكاديمية، منهم السيتي من لديهم قعد طويل الأمد. بالتالي، نادي يميريك جلب اثنين من الشباب الأفارقة من الأكاديمية في كل موسم في مقابل شراكة مدى غير معروف مع النادي الإنكليزي. سبورتينغ لشبونة (2010–حتى الآن)بموجب شروط الاتفاق، وقع سبورتينغ لشبونة مع مانشستر سيتي صفقة كانت لديهم سابقا مع مانشستر يونايتد، لمنح السيتي الخيار الأول على لاعبيه، وتحديدا بهدف المواهب الجديدة.\\n\\n\\n=== الأكاديميات الخارجية ===\\n نادي مبومالانجا بلاك أسأت (2013–حتى الآن)في 4 (عدد) يونيو 2013، أعلن مانشستر سيتي اتفاقا مدته ثلاث سنوات مع نادي مبومالانجا بلاك أسأت من الدوري الممتاز لكرة القدم في جنوب أفريقيا لتكون بمثابة شريك تنمية الشباب الإقليمية. بموجب الاتفاق، فإن نادي مبومالانجا بلاك أسأت يستفيد من وصلات التدريب مع والزيارات من وإلى مانشستر سيتي، في حين أنها سوف تكون أيضا بمثابة مركز إقليمي للشبكة تنمية الشباب العالمية للسيتي وكقناة لنشر اسم مانشستر سيتي وأسلوب كرة القدم داخل بلدهم. تم التوقيع على اتفاق قبل شهر من جولة مانشستر سيتي إلى جنوب أفريقيا. أكاديمية الحق في الحلم (نهاية 2000s–حتى الآن)مانشستر سيتي لديه شراكة مع أكاديمية الحق في الحلم التي تتيح لهم الكرز اختيار أفضل المواهب من الأكاديمية مرة واحدة لاعبين الدراسات العليا. وقد ظهرت إشاعات أن السيتي قد أشترى الأكاديمية، ولكن لم ينشر ذلك حتى الآن.\\n\\n\\n=== تصريح عمل النوادي ===\\nالتالي اتجاه الاندية الإنجليزية الكبرى الأخرى ومانشستر سيتي لديه سلسلة من الاتفاقيات مع الاندية الذين يمكنهم قرض اللاعبين الشباب من دول خارج الاتحاد الأوروبي الذين لولاها بحاجة لخدمة خمس سنوات من الإقامة في المملكة المتحدة لكسب جواز سفر الاتحاد الأوروبي منحهم القدرة على اللعب في إنجلترا دون الحاجة إلى تصريح عمل. في المقام الأول وينظر إلى بلدان البنلوكس والدول الإسكندنافية وهو أقصر الطرق لتحقيق ذلك.\\n\\n نادي يورغوردينس (2013–حتى الآن)\\n هاكين (2012–حتى الآن)\\n كيه في ميتشيلين (2010–حتى الآن)\\n إن إي سي نيميغن (2010–حتى الآن)\\n نادي سترومسجودست (2010–حتى الآن)\\n\\n\\n== المصادر ==\\n\\n\\n== مراجع الكتب ==\\n\\n\\n== وصلات خارجية ==\\nالموقع الرسمي\\n\\nبوابة إنجلترا\\nبوابة المملكة المتحدة\\nبوابة النرويج\\nبوابة كرة القدم'"
            ],
            "application/vnd.google.colaboratory.intrinsic+json": {
              "type": "string"
            }
          },
          "metadata": {},
          "execution_count": 13
        }
      ]
    },
    {
      "cell_type": "code",
      "source": [
        "page.summary"
      ],
      "metadata": {
        "colab": {
          "base_uri": "https://localhost:8080/",
          "height": 107
        },
        "id": "Ys2C7k722dMs",
        "outputId": "94daa3d8-aec1-47d5-ce06-e35e62e3b3ff"
      },
      "execution_count": 14,
      "outputs": [
        {
          "output_type": "display_data",
          "data": {
            "text/plain": [
              "<IPython.core.display.Javascript object>"
            ],
            "application/javascript": [
              "google.colab.output.setIframeHeight(0, true, {maxHeight: 5000})"
            ]
          },
          "metadata": {}
        },
        {
          "output_type": "execute_result",
          "data": {
            "text/plain": [
              "\"نادي مانشستر سيتي لكرة القدم (بالإنجليزية:  Manchester City Football Club)\\u200f هو نادي كرة قدم إنجليزي من مدينة مانشستر. تأسس النادي في عام 1880 باسم سانت ماركس (بالإنجليزية: St. Mark's)\\u200f ثم غير الاسم إلى نادي أردويك (بالإنجليزية: Ardwick Association Football Club)\\u200f، في عام 1887. أطلق على النادي اسمه الحالي في 16 أبريل 1894. انتقل النادي إلى ملعب مدينة مانشستر في أغسطس 2003، تاركا ملعب ملعب ماين رود الذي كان يلعب به منذ 1913. كانت الفترة الأكثر نجاحا للنادي أواخر الستينيات وبداية السبعينيات بفوزه بدوري الدرجة الأولى الأنجليزي وكأس الاتحاد الإنجليزي وكأس رابطة الأندية الإنجليزية المحترفة وكأس الكؤوس الأوروبية وكان مدربي الفريق حينها جو ميرسر ومالكوم أليسون.\\nعاش النادي أبهى عصوره خلال فترة أواخر الستينيات وأواخر السبعينيات من القرن العشرين، ففاز بدوري الدرجة الأولى وكأس الاتحاد الإنجليزي وكأس الكؤوس الأوروبية، وذلك تحت قيادة جو ميرسر ومالكوم أليسون. بعد خسارته عام 1981 نهائي كأس الاتحاد الإنجليزي، بدء النادي بألتراجع، وبلغ ذروة هبوطه إلى دوري الدرجة الثالثة الأنكليزي للمرة الأولى في تاريخه عام 1998. وبعد ذلك استعاد النادي وضعه في الدوري الممتاز، اشترى النادي (مجموعة أبوظبي المتحدة للتنمية والاستثمار) وأصبح النادي من أغنى الأندية في العالم.\\nفي عام 2011، تأهل مانشستر سيتي لدوري أبطال أوروبا وفاز بكأس الاتحاد الإنجليزي. في السنة التالية، فاز في الدوري الممتاز، أول لقب له في الدوري منذ 44 عاما في الدوري. وفي عام 2014، فاز بكأس رابطة الاندية الإنجليزية واللقب الثاني للسنة كان الدوري الممتاز. حاز النادي خلال موسم 2014–15 على المرتبة السادسة ضمن قائمة ديلويت لأغنى أندية كرة القدم في العالم، حيث بلغت إيراداته السنوية حوالي 463.5 مليون يورو، كما احتل المرتبة السادسة ضمن قائمة فوربس لأغنى أندية كرة القدم في العالم، إذ قدرت مجلة فوربس قيمته بحوالي 1.375 مليار دولار.في موسم 2018–19، استطاع مانشستر سيتي الفوز بجميع الألقاب المحلية الثلاث (الدوري الممتاز وكأس الرابطة المحترفة وكأس الاتحاد الإنجليزي). ليصبح بذلك أول فريق إنجليزي يحقق الثلاثية التاريخية خلال موسم واحد في تاريخ الكرة الإنجليزية.\""
            ],
            "application/vnd.google.colaboratory.intrinsic+json": {
              "type": "string"
            }
          },
          "metadata": {},
          "execution_count": 14
        }
      ]
    },
    {
      "cell_type": "code",
      "source": [
        "page.images"
      ],
      "metadata": {
        "colab": {
          "base_uri": "https://localhost:8080/",
          "height": 2779
        },
        "id": "J1VHrYg42iHk",
        "outputId": "2e2f26b1-5c4c-4947-c44e-5432fa9584eb"
      },
      "execution_count": 15,
      "outputs": [
        {
          "output_type": "display_data",
          "data": {
            "text/plain": [
              "<IPython.core.display.Javascript object>"
            ],
            "application/javascript": [
              "google.colab.output.setIframeHeight(0, true, {maxHeight: 5000})"
            ]
          },
          "metadata": {}
        },
        {
          "output_type": "execute_result",
          "data": {
            "text/plain": [
              "['https://upload.wikimedia.org/wikipedia/commons/1/1a/2021-12-07_Fu%C3%9Fball%2C_M%C3%A4nner%2C_UEFA_Champions_League%2C_RB_Leipzig_-_Manchester_City_FC_1DX_2723_by_Stepro_%28cropped%29.jpg',\n",
              " 'https://upload.wikimedia.org/wikipedia/commons/5/5b/2021-12-07_Fu%C3%9Fball%2C_M%C3%A4nner%2C_UEFA_Champions_League%2C_RB_Leipzig_-_Manchester_City_FC_1DX_2767_by_Stepro.jpg',\n",
              " 'https://upload.wikimedia.org/wikipedia/commons/b/b8/2021_Facebook_icon.svg',\n",
              " 'https://upload.wikimedia.org/wikipedia/commons/6/63/Arbcom_ru_editing.svg',\n",
              " 'https://upload.wikimedia.org/wikipedia/commons/8/8b/Billy_meredith_city.jpg',\n",
              " 'https://upload.wikimedia.org/wikipedia/commons/7/76/Captain_sports.svg',\n",
              " 'https://upload.wikimedia.org/wikipedia/commons/a/ac/City_of_Manchester_Stadium_East_Stand.jpg',\n",
              " 'https://upload.wikimedia.org/wikipedia/commons/4/4a/Commons-logo.svg',\n",
              " 'https://upload.wikimedia.org/wikipedia/commons/a/ab/Coppa_delle_Coppe.svg',\n",
              " 'https://upload.wikimedia.org/wikipedia/commons/5/58/Ederson_Moraes_%2836243872090%29.jpg',\n",
              " 'https://upload.wikimedia.org/wikipedia/commons/1/1a/Flag_of_Argentina.svg',\n",
              " 'https://upload.wikimedia.org/wikipedia/commons/8/88/Flag_of_Australia_%28converted%29.svg',\n",
              " 'https://upload.wikimedia.org/wikipedia/commons/9/92/Flag_of_Belgium_%28civil%29.svg',\n",
              " 'https://upload.wikimedia.org/wikipedia/commons/b/bf/Flag_of_Bermuda.svg',\n",
              " 'https://upload.wikimedia.org/wikipedia/commons/0/05/Flag_of_Brazil.svg',\n",
              " 'https://upload.wikimedia.org/wikipedia/commons/4/4f/Flag_of_Cameroon.svg',\n",
              " 'https://upload.wikimedia.org/wikipedia/commons/7/78/Flag_of_Chile.svg',\n",
              " 'https://upload.wikimedia.org/wikipedia/commons/1/1b/Flag_of_Croatia.svg',\n",
              " 'https://upload.wikimedia.org/wikipedia/commons/9/9c/Flag_of_Denmark.svg',\n",
              " 'https://upload.wikimedia.org/wikipedia/commons/b/be/Flag_of_England.svg',\n",
              " 'https://upload.wikimedia.org/wikipedia/commons/b/b7/Flag_of_Europe.svg',\n",
              " 'https://upload.wikimedia.org/wikipedia/commons/c/c3/Flag_of_France.svg',\n",
              " 'https://upload.wikimedia.org/wikipedia/commons/0/0f/Flag_of_Georgia.svg',\n",
              " 'https://upload.wikimedia.org/wikipedia/commons/b/ba/Flag_of_Germany.svg',\n",
              " 'https://upload.wikimedia.org/wikipedia/commons/1/19/Flag_of_Ghana.svg',\n",
              " 'https://upload.wikimedia.org/wikipedia/commons/4/45/Flag_of_Ireland.svg',\n",
              " 'https://upload.wikimedia.org/wikipedia/commons/0/03/Flag_of_Italy.svg',\n",
              " 'https://upload.wikimedia.org/wikipedia/commons/9/9e/Flag_of_Japan.svg',\n",
              " 'https://upload.wikimedia.org/wikipedia/commons/4/43/Flag_of_Northern_Ireland_%281953%E2%80%931972%29.svg',\n",
              " 'https://upload.wikimedia.org/wikipedia/commons/1/1e/Flag_of_Norway_%28c81329_for_red_%26_14275b_for_blue%29.svg',\n",
              " 'https://upload.wikimedia.org/wikipedia/commons/5/5c/Flag_of_Portugal.svg',\n",
              " 'https://upload.wikimedia.org/wikipedia/commons/1/10/Flag_of_Scotland.svg',\n",
              " 'https://upload.wikimedia.org/wikipedia/commons/a/af/Flag_of_South_Africa.svg',\n",
              " 'https://upload.wikimedia.org/wikipedia/commons/9/9a/Flag_of_Spain.svg',\n",
              " 'https://upload.wikimedia.org/wikipedia/commons/4/4c/Flag_of_Sweden.svg',\n",
              " 'https://upload.wikimedia.org/wikipedia/commons/f/f3/Flag_of_Switzerland.svg',\n",
              " 'https://upload.wikimedia.org/wikipedia/commons/4/49/Flag_of_Ukraine.svg',\n",
              " 'https://upload.wikimedia.org/wikipedia/commons/d/dc/Flag_of_Wales.svg',\n",
              " 'https://upload.wikimedia.org/wikipedia/commons/d/dc/Flag_of_Wales.svg',\n",
              " 'https://upload.wikimedia.org/wikipedia/commons/c/cb/Flag_of_the_Czech_Republic.svg',\n",
              " 'https://upload.wikimedia.org/wikipedia/commons/2/20/Flag_of_the_Netherlands.svg',\n",
              " 'https://upload.wikimedia.org/wikipedia/commons/c/cb/Flag_of_the_United_Arab_Emirates.svg',\n",
              " 'https://upload.wikimedia.org/wikipedia/commons/8/83/Flag_of_the_United_Kingdom_%283-5%29.svg',\n",
              " 'https://upload.wikimedia.org/wikipedia/commons/8/83/Flag_of_the_United_Kingdom_%283-5%29.svg',\n",
              " 'https://upload.wikimedia.org/wikipedia/commons/a/a4/Flag_of_the_United_States.svg',\n",
              " 'https://upload.wikimedia.org/wikipedia/commons/e/e5/Guardiola_2010.jpg',\n",
              " 'https://upload.wikimedia.org/wikipedia/commons/3/38/Info_Simple.svg',\n",
              " 'https://upload.wikimedia.org/wikipedia/commons/9/95/Instagram_logo_2022.svg',\n",
              " 'https://upload.wikimedia.org/wikipedia/commons/3/34/Ionicons_logo-tiktok.svg',\n",
              " 'https://upload.wikimedia.org/wikipedia/commons/c/c0/Joe_Corrigan_20070922.jpg',\n",
              " 'https://upload.wikimedia.org/wikipedia/commons/8/8f/Khaldoon_Al_Mubarak.jpg',\n",
              " 'https://upload.wikimedia.org/wikipedia/commons/8/83/Kit_body.svg',\n",
              " 'https://upload.wikimedia.org/wikipedia/commons/9/98/Kit_body_blackstripes_thin4.png',\n",
              " 'https://upload.wikimedia.org/wikipedia/commons/d/d9/Kit_body_mancity2324a.png',\n",
              " 'https://upload.wikimedia.org/wikipedia/commons/1/12/Kit_body_mancity2324h.png',\n",
              " 'https://upload.wikimedia.org/wikipedia/commons/7/75/Kit_body_mancity2324t.png',\n",
              " 'https://upload.wikimedia.org/wikipedia/commons/6/6b/Kit_body_mancitya0002.png',\n",
              " 'https://upload.wikimedia.org/wikipedia/commons/c/c3/Kit_body_mancitya0910.png',\n",
              " 'https://upload.wikimedia.org/wikipedia/commons/d/d0/Kit_body_mancitya2010.png',\n",
              " 'https://upload.wikimedia.org/wikipedia/commons/c/ca/Kit_body_mancitya2011.png',\n",
              " 'https://upload.wikimedia.org/wikipedia/commons/c/c3/Kit_body_mancityh0103.png',\n",
              " 'https://upload.wikimedia.org/wikipedia/commons/4/44/Kit_body_mancityh2011.png',\n",
              " 'https://upload.wikimedia.org/wikipedia/commons/f/ff/Kit_body_mcfc_away_12-13-v2.png',\n",
              " 'https://upload.wikimedia.org/wikipedia/commons/b/be/Kit_body_mcfc_away_98-99.png',\n",
              " 'https://upload.wikimedia.org/wikipedia/commons/a/a2/Kit_body_mcfc_home_13-14v2.png',\n",
              " 'https://upload.wikimedia.org/wikipedia/commons/b/b6/Kit_body_mcfc_home_1884.png',\n",
              " 'https://upload.wikimedia.org/wikipedia/commons/c/ca/Kit_body_mcfc_home_1887.png',\n",
              " 'https://upload.wikimedia.org/wikipedia/commons/f/fb/Kit_body_mcfc_home_1890-91.png',\n",
              " 'https://upload.wikimedia.org/wikipedia/commons/9/98/Kit_body_mcfc_home_1892-93.png',\n",
              " 'https://upload.wikimedia.org/wikipedia/commons/d/dc/Kit_body_mcfc_home_1894-95.png',\n",
              " 'https://upload.wikimedia.org/wikipedia/commons/9/97/Kit_body_mcfc_home_93-95.png',\n",
              " 'https://upload.wikimedia.org/wikipedia/commons/d/db/Kit_body_shoulder_stripes_white_stripes.png',\n",
              " 'https://upload.wikimedia.org/wikipedia/commons/7/7f/Kit_left_arm.svg',\n",
              " 'https://upload.wikimedia.org/wikipedia/commons/8/82/Kit_left_arm_black_stripes_thin1.png',\n",
              " 'https://upload.wikimedia.org/wikipedia/commons/f/f9/Kit_left_arm_mancity2324a.png',\n",
              " 'https://upload.wikimedia.org/wikipedia/commons/0/0a/Kit_left_arm_mancity2324h.png',\n",
              " 'https://upload.wikimedia.org/wikipedia/commons/b/b0/Kit_left_arm_mancity2324t.png',\n",
              " 'https://upload.wikimedia.org/wikipedia/commons/1/1a/Kit_left_arm_mancitya2011.png',\n",
              " 'https://upload.wikimedia.org/wikipedia/commons/4/45/Kit_left_arm_mancityh0103.png',\n",
              " 'https://upload.wikimedia.org/wikipedia/commons/d/d7/Kit_left_arm_mancityh2011.png',\n",
              " 'https://upload.wikimedia.org/wikipedia/commons/1/1a/Kit_left_arm_mcfc_away_98-99.png',\n",
              " 'https://upload.wikimedia.org/wikipedia/commons/4/4b/Kit_left_arm_mcfc_home_13-14v2.png',\n",
              " 'https://upload.wikimedia.org/wikipedia/commons/5/55/Kit_left_arm_mcfc_home_1887.png',\n",
              " 'https://upload.wikimedia.org/wikipedia/commons/d/d7/Kit_left_arm_mcfc_home_93-95.png',\n",
              " 'https://upload.wikimedia.org/wikipedia/commons/7/76/Kit_left_arm_whitelines.png',\n",
              " 'https://upload.wikimedia.org/wikipedia/commons/c/cd/Kit_right_arm.svg',\n",
              " 'https://upload.wikimedia.org/wikipedia/commons/8/8b/Kit_right_arm_black_stripes_thin1.png',\n",
              " 'https://upload.wikimedia.org/wikipedia/commons/c/c4/Kit_right_arm_mancity2324a.png',\n",
              " 'https://upload.wikimedia.org/wikipedia/commons/3/33/Kit_right_arm_mancity2324h.png',\n",
              " 'https://upload.wikimedia.org/wikipedia/commons/f/f7/Kit_right_arm_mancity2324t.png',\n",
              " 'https://upload.wikimedia.org/wikipedia/commons/c/cd/Kit_right_arm_mancitya2011.png',\n",
              " 'https://upload.wikimedia.org/wikipedia/commons/f/f0/Kit_right_arm_mancityh0103.png',\n",
              " 'https://upload.wikimedia.org/wikipedia/commons/a/a3/Kit_right_arm_mancityh2011.png',\n",
              " 'https://upload.wikimedia.org/wikipedia/commons/e/e1/Kit_right_arm_mcfc_away_98-99.png',\n",
              " 'https://upload.wikimedia.org/wikipedia/commons/f/f6/Kit_right_arm_mcfc_home_13-14v2.png',\n",
              " 'https://upload.wikimedia.org/wikipedia/commons/d/de/Kit_right_arm_mcfc_home_1887.png',\n",
              " 'https://upload.wikimedia.org/wikipedia/commons/6/6d/Kit_right_arm_mcfc_home_93-95.png',\n",
              " 'https://upload.wikimedia.org/wikipedia/commons/0/09/Kit_right_arm_whitelines.png',\n",
              " 'https://upload.wikimedia.org/wikipedia/commons/a/af/Kit_shorts.svg',\n",
              " 'https://upload.wikimedia.org/wikipedia/commons/8/8e/Kit_shorts_adidaswhite.png',\n",
              " 'https://upload.wikimedia.org/wikipedia/commons/6/6b/Kit_shorts_mancity2324a.png',\n",
              " 'https://upload.wikimedia.org/wikipedia/commons/c/ce/Kit_shorts_mancity2324h.png',\n",
              " 'https://upload.wikimedia.org/wikipedia/commons/2/2c/Kit_shorts_mancity2324t.png',\n",
              " 'https://upload.wikimedia.org/wikipedia/commons/b/bf/Kit_shorts_mcfc_away_12-13.png',\n",
              " 'https://upload.wikimedia.org/wikipedia/commons/e/e9/Kit_shorts_mcfc_away_2000-02.png',\n",
              " 'https://upload.wikimedia.org/wikipedia/commons/d/d1/Kit_shorts_mcfc_away_98-99.png',\n",
              " 'https://upload.wikimedia.org/wikipedia/commons/c/cc/Kit_shorts_mcfc_home_11-12.png',\n",
              " 'https://upload.wikimedia.org/wikipedia/commons/4/40/Kit_shorts_mcfc_home_13-14v3.png',\n",
              " 'https://upload.wikimedia.org/wikipedia/commons/1/11/Kit_shorts_mcfc_home_2002-03.png',\n",
              " 'https://upload.wikimedia.org/wikipedia/commons/e/ec/Kit_shorts_mcfc_home_93-95.png',\n",
              " 'https://upload.wikimedia.org/wikipedia/commons/e/e3/Kit_socks_color_3_stripes_white.png',\n",
              " 'https://upload.wikimedia.org/wikipedia/commons/6/6d/Kit_socks_fourwhitehoops.png',\n",
              " 'https://upload.wikimedia.org/wikipedia/commons/9/9b/Kit_socks_long.svg',\n",
              " 'https://upload.wikimedia.org/wikipedia/commons/0/0b/Kit_socks_long_2_hoops.png',\n",
              " 'https://upload.wikimedia.org/wikipedia/commons/2/25/Kit_socks_mancity2324hl.png',\n",
              " 'https://upload.wikimedia.org/wikipedia/commons/c/c5/Kit_socks_mancity2324tl.png',\n",
              " 'https://upload.wikimedia.org/wikipedia/commons/2/2d/Kit_socks_mancitya2010.png',\n",
              " 'https://upload.wikimedia.org/wikipedia/commons/0/02/Kit_socks_mancityh0103.png',\n",
              " 'https://upload.wikimedia.org/wikipedia/commons/4/45/Kit_socks_mcfc_away_12-13.png',\n",
              " 'https://upload.wikimedia.org/wikipedia/commons/5/5b/Kit_socks_mcfc_away_2000-2002.png',\n",
              " 'https://upload.wikimedia.org/wikipedia/commons/3/32/Kit_socks_mcfc_away_98-99.png',\n",
              " 'https://upload.wikimedia.org/wikipedia/commons/a/a3/Kit_socks_mcfc_home_13-14v2.png',\n",
              " 'https://upload.wikimedia.org/wikipedia/commons/8/88/Kit_socks_mcfc_home_93-95.png',\n",
              " 'https://upload.wikimedia.org/wikipedia/commons/1/14/Maine_road_prior_to_last_game.jpg',\n",
              " 'https://upload.wikimedia.org/wikipedia/commons/f/f4/ManCity1904.jpg',\n",
              " 'https://upload.wikimedia.org/wikipedia/commons/e/e8/ManCityBayernMCL.JPG',\n",
              " 'https://upload.wikimedia.org/wikipedia/commons/f/fc/Man_City_Fans_Doing_Poznan.jpg',\n",
              " 'https://upload.wikimedia.org/wikipedia/commons/7/76/ManchesterCityFC_League_Performance-ar.png',\n",
              " 'https://upload.wikimedia.org/wikipedia/commons/d/d9/Manchester_City_2013.jpg',\n",
              " 'https://upload.wikimedia.org/wikipedia/commons/2/20/Nuvola_English_flag.svg',\n",
              " 'https://upload.wikimedia.org/wikipedia/commons/3/3e/Nuvola_Norwegian_flag.svg',\n",
              " 'https://upload.wikimedia.org/wikipedia/commons/d/d6/Nuvola_United_Kingdom_flag.svg',\n",
              " 'https://upload.wikimedia.org/wikipedia/commons/0/01/Nuvola_apps_mozilla.png',\n",
              " 'https://upload.wikimedia.org/wikipedia/commons/8/8a/OOjs_UI_icon_edit-ltr-progressive.svg',\n",
              " 'https://upload.wikimedia.org/wikipedia/commons/1/1b/P_Football.png',\n",
              " 'https://upload.wikimedia.org/wikipedia/commons/9/9d/Patrick_Vieira.jpg',\n",
              " 'https://upload.wikimedia.org/wikipedia/commons/0/0d/Pellegrini_cropped.JPG',\n",
              " 'https://upload.wikimedia.org/wikipedia/commons/c/c9/Portal.svg',\n",
              " 'https://upload.wikimedia.org/wikipedia/commons/4/48/Premier_league_trophy_icon_%28adjusted%29.png',\n",
              " 'https://upload.wikimedia.org/wikipedia/commons/0/07/Quora_Q_icon_2015.svg',\n",
              " 'https://upload.wikimedia.org/wikipedia/commons/f/f9/Shaun_Wright-Phillips.jpg',\n",
              " 'https://upload.wikimedia.org/wikipedia/commons/c/ce/Soccerball_current_event.svg',\n",
              " 'https://upload.wikimedia.org/wikipedia/commons/a/a2/Soriano.JPG',\n",
              " 'https://upload.wikimedia.org/wikipedia/commons/b/b1/St_Marks_1884.jpg',\n",
              " 'https://upload.wikimedia.org/wikipedia/commons/9/96/Symbol_category_class.svg',\n",
              " 'https://upload.wikimedia.org/wikipedia/commons/b/b4/Symbol_star_gold.svg',\n",
              " 'https://upload.wikimedia.org/wikipedia/commons/4/43/Test_Template_Info-Icon_-_Version_%282%29.svg',\n",
              " 'https://upload.wikimedia.org/wikipedia/commons/4/43/Flag_of_Northern_Ireland_%281953%E2%80%931972%29.svg',\n",
              " 'https://upload.wikimedia.org/wikipedia/commons/4/4b/Wembley_Manchester_derby_pre-kick-off.JPG',\n",
              " 'https://upload.wikimedia.org/wikipedia/commons/c/ce/X_logo_2023.svg',\n",
              " 'https://upload.wikimedia.org/wikipedia/commons/0/09/YouTube_full-color_icon_%282017%29.svg',\n",
              " 'https://upload.wikimedia.org/wikipedia/ar/f/f6/Manchester_City.png',\n",
              " 'https://upload.wikimedia.org/wikipedia/ar/e/eb/Manchester_City_FC_badge.svg']"
            ]
          },
          "metadata": {},
          "execution_count": 15
        }
      ]
    },
    {
      "cell_type": "code",
      "source": [
        "# get the links that Wikipedia used as a reference from different websites or research\n",
        "page.links"
      ],
      "metadata": {
        "colab": {
          "base_uri": "https://localhost:8080/",
          "height": 5000
        },
        "id": "Ho2PJe033Tnz",
        "outputId": "793229cb-8766-4e14-ae31-8e2940d07088"
      },
      "execution_count": 16,
      "outputs": [
        {
          "output_type": "display_data",
          "data": {
            "text/plain": [
              "<IPython.core.display.Javascript object>"
            ],
            "application/javascript": [
              "google.colab.output.setIframeHeight(0, true, {maxHeight: 5000})"
            ]
          },
          "metadata": {}
        },
        {
          "output_type": "execute_result",
          "data": {
            "text/plain": [
              "['10 (عدد)',\n",
              " '12 نوفمبر',\n",
              " '13 مايو',\n",
              " '14 مايو',\n",
              " '15 سبتمبر',\n",
              " '16 أبريل',\n",
              " '16 يونيو',\n",
              " '1878',\n",
              " '1880',\n",
              " '1881',\n",
              " '1884',\n",
              " '1887',\n",
              " '1892',\n",
              " '1894',\n",
              " '1899',\n",
              " '1904',\n",
              " '1906',\n",
              " '1910',\n",
              " '1913',\n",
              " '1919',\n",
              " '1920',\n",
              " '1921',\n",
              " '1922',\n",
              " '1923',\n",
              " '1924',\n",
              " '1926',\n",
              " '1928',\n",
              " '1930',\n",
              " '1931',\n",
              " '1933',\n",
              " '1934',\n",
              " '1935',\n",
              " '1936',\n",
              " '1937',\n",
              " '1938',\n",
              " '1939',\n",
              " '1945',\n",
              " '1946',\n",
              " '1947',\n",
              " '1949',\n",
              " '1950',\n",
              " '1951',\n",
              " '1955',\n",
              " '1956',\n",
              " '1957',\n",
              " '1958',\n",
              " '1959',\n",
              " '1960',\n",
              " '1961',\n",
              " '1963',\n",
              " '1964',\n",
              " '1965',\n",
              " '1966',\n",
              " '1967',\n",
              " '1968',\n",
              " '1969',\n",
              " '1970',\n",
              " '1971',\n",
              " '1972',\n",
              " '1973',\n",
              " '1974',\n",
              " '1975',\n",
              " '1976',\n",
              " '1978',\n",
              " '1979',\n",
              " '1980',\n",
              " '1981',\n",
              " '1982',\n",
              " '1983',\n",
              " '1986',\n",
              " '1987',\n",
              " '1988',\n",
              " '1989',\n",
              " '1990',\n",
              " '1991',\n",
              " '1992',\n",
              " '1993',\n",
              " '1994',\n",
              " '1995',\n",
              " '1996',\n",
              " '1997',\n",
              " '1998',\n",
              " '1999',\n",
              " '1 (عدد)',\n",
              " '1 ديسمبر',\n",
              " '20',\n",
              " '200',\n",
              " '2001',\n",
              " '2002',\n",
              " '2003',\n",
              " '2004',\n",
              " '2005',\n",
              " '2006',\n",
              " '2007',\n",
              " '2008',\n",
              " '2009',\n",
              " '2010',\n",
              " '2011',\n",
              " '2012',\n",
              " '2013',\n",
              " '2014',\n",
              " '2015',\n",
              " '2016',\n",
              " '2018',\n",
              " '2019',\n",
              " '2020',\n",
              " '2021',\n",
              " '2022',\n",
              " '2023',\n",
              " '21 (توضيح)',\n",
              " '23',\n",
              " '26',\n",
              " '2 (عدد)',\n",
              " '31',\n",
              " '3 نوفمبر',\n",
              " '44',\n",
              " '4 (عدد)',\n",
              " '54',\n",
              " '6 (عدد)',\n",
              " '6 نوفمبر',\n",
              " '9 (عدد)',\n",
              " '9 أغسطس',\n",
              " 'آرلينغ هالاند',\n",
              " 'آرهوس جمناستيك فورينينغ',\n",
              " 'أبريل',\n",
              " 'أتلتيكو مدريد',\n",
              " 'أرقام وإحصاءات نادي مانشستر سيتي',\n",
              " 'أروب',\n",
              " 'أستراليا',\n",
              " 'أستون فيلا',\n",
              " 'أغسطس',\n",
              " 'ألان أوكس',\n",
              " 'ألان بول (لاعب كرة قدم)',\n",
              " 'ألمانيا',\n",
              " 'أمبرو (شركة)',\n",
              " 'أوروبا',\n",
              " 'أوسكار بوب',\n",
              " 'أوكرانيا',\n",
              " 'أولدهام أثلتيك',\n",
              " 'أياكس أمستردام',\n",
              " 'أيرلندا الشمالية',\n",
              " 'إحصائيات الدوري الإنجليزي الممتاز',\n",
              " 'إريك بروك',\n",
              " 'إسبانيا',\n",
              " 'إسبانيول',\n",
              " 'إسكتلندا',\n",
              " 'إسكندنافيا',\n",
              " 'إطارات نكسن',\n",
              " 'إن إي سي نيميخن',\n",
              " 'إنجلترا',\n",
              " 'إنزو ماريسكا',\n",
              " 'إنستغرام',\n",
              " 'إيبسويتش تاون',\n",
              " 'إيدرسون مورايس',\n",
              " 'إيطاليا',\n",
              " 'إيمانويل أديبايور',\n",
              " 'إيميرك لابورتي',\n",
              " 'إيه سي ميلان',\n",
              " 'اتحاد غانا لكرة القدم',\n",
              " 'الأرجنتين',\n",
              " 'الألعاب الأولمبية الصيفية 2000',\n",
              " 'الإمارات العربية المتحدة',\n",
              " 'الاتحاد الأوروبي',\n",
              " 'الاتحاد الأوروبي لكرة القدم',\n",
              " 'الاتحاد كامبس',\n",
              " 'الاتحاد للطيران',\n",
              " 'البرازيل',\n",
              " 'البرتغال',\n",
              " 'الحرب العالمية الثانية',\n",
              " 'الدنمارك',\n",
              " 'الدوري الأمريكي لكرة القدم',\n",
              " 'الدوري الأوروبي',\n",
              " 'الدوري الإنجليزي الممتاز',\n",
              " 'الدوري الإنجليزي الممتاز 1992–93',\n",
              " 'الدوري الإنجليزي الممتاز 1993–94',\n",
              " 'الدوري الإنجليزي الممتاز 1994–95',\n",
              " 'الدوري الإنجليزي الممتاز 1995–96',\n",
              " 'الدوري الإنجليزي الممتاز 1996–97',\n",
              " 'الدوري الإنجليزي الممتاز 1997–98',\n",
              " 'الدوري الإنجليزي الممتاز 1998–99',\n",
              " 'الدوري الإنجليزي الممتاز 1999–2000',\n",
              " 'الدوري الإنجليزي الممتاز 2000–01',\n",
              " 'الدوري الإنجليزي الممتاز 2001–02',\n",
              " 'الدوري الإنجليزي الممتاز 2002–03',\n",
              " 'الدوري الإنجليزي الممتاز 2003–04',\n",
              " 'الدوري الإنجليزي الممتاز 2004–05',\n",
              " 'الدوري الإنجليزي الممتاز 2005–06',\n",
              " 'الدوري الإنجليزي الممتاز 2006–07',\n",
              " 'الدوري الإنجليزي الممتاز 2007–08',\n",
              " 'الدوري الإنجليزي الممتاز 2008–09',\n",
              " 'الدوري الإنجليزي الممتاز 2009–10',\n",
              " 'الدوري الإنجليزي الممتاز 2010–11',\n",
              " 'الدوري الإنجليزي الممتاز 2011–12',\n",
              " 'الدوري الإنجليزي الممتاز 2012–13',\n",
              " 'الدوري الإنجليزي الممتاز 2013–14',\n",
              " 'الدوري الإنجليزي الممتاز 2014–15',\n",
              " 'الدوري الإنجليزي الممتاز 2015–16',\n",
              " 'الدوري الإنجليزي الممتاز 2016–17',\n",
              " 'الدوري الإنجليزي الممتاز 2017–18',\n",
              " 'الدوري الإنجليزي الممتاز 2018–19',\n",
              " 'الدوري الإنجليزي الممتاز 2019–20',\n",
              " 'الدوري الإنجليزي الممتاز 2020–21',\n",
              " 'الدوري الإنجليزي الممتاز 2021–22',\n",
              " 'الدوري الإنجليزي الممتاز 2022–23',\n",
              " 'الدوري الإنجليزي الممتاز 2023–24',\n",
              " 'الدوري الإنجليزي لكرة القدم 1976–77',\n",
              " 'الرقم التسلسلي القياسي الدولي',\n",
              " 'السويد',\n",
              " 'الطقم الثالث',\n",
              " 'الكاميرون',\n",
              " 'اللغة الإنجليزية',\n",
              " 'المملكة المتحدة',\n",
              " 'النرويج',\n",
              " 'النظام القياسي الدولي لترقيم الكتب',\n",
              " 'الولايات المتحدة',\n",
              " 'اليابان',\n",
              " 'باتريك فييرا',\n",
              " 'باريس سان جيرمان',\n",
              " 'بايرن ميونخ',\n",
              " 'برادفورد سيتي',\n",
              " 'برايتون أند هوف ألبيون',\n",
              " 'برمنغهام سيتي',\n",
              " 'برمودا',\n",
              " 'برناردو سيلفا',\n",
              " 'بروذر للصناعة',\n",
              " 'بريستون نورث إيند',\n",
              " 'بطولات نادي مانشستر سيتي',\n",
              " 'بلاكبيرن روفرز',\n",
              " 'بلجيكا',\n",
              " 'بنلوكس',\n",
              " 'بوروسيا دورتموند',\n",
              " 'بول پاور',\n",
              " 'بولتون واندررز',\n",
              " 'بوما',\n",
              " 'بيب غوارديولا',\n",
              " 'بيتر دوهرتي (لاعب كرة قدم)',\n",
              " 'بيتر ريد',\n",
              " 'بيتر شمايكل',\n",
              " 'بيرت تراوتمان',\n",
              " 'بيلي غيليسبي',\n",
              " 'بيلي مكنيل',\n",
              " 'بيلي ميريديث',\n",
              " 'تأسيس الدوري الإنجليزي الممتاز',\n",
              " 'تأسيس بث الدوري الإنجليزي الممتاز',\n",
              " 'تاريخ نادي مانشستر سيتي',\n",
              " 'تاكسين شيناواترا',\n",
              " 'ترافورد',\n",
              " 'تريفور فرانسيس',\n",
              " 'تشارلتون أثلتيك',\n",
              " 'تشيكوسلوفاكيا',\n",
              " 'تشيكي بيغريستين',\n",
              " 'تشيلي',\n",
              " 'تطور سجل رسوم نقل كرة القدم البريطانية',\n",
              " 'توتنهام هوتسبير',\n",
              " 'تومي بروويل',\n",
              " 'تومي بوث',\n",
              " 'تومي جونسون',\n",
              " 'توني بوك',\n",
              " 'تويتر',\n",
              " 'تيك توك',\n",
              " 'ثلاثية (كرة القدم)',\n",
              " 'ثنائية (كرة القدم)',\n",
              " 'جائزة أفضل صانع لعب في الدوري الإنجليزي الممتاز',\n",
              " 'جائزة الحذاء الذهبي في الدوري الإنجليزي الممتاز',\n",
              " 'جائزة لاعب الموسم في الدوري الإنجليزي الممتاز',\n",
              " 'جائزة مدرب الشهر في الدوري الإنجليزي الممتاز',\n",
              " 'جائزة مدرب الموسم في الدوري الإنجليزي الممتاز',\n",
              " 'جائزة هدف الشهر في الدوري الإنجليزي الممتاز',\n",
              " 'جاك غريليش',\n",
              " 'جامعة مانشستر متروبوليتان',\n",
              " 'جمهورية أيرلندا',\n",
              " 'جنوب إفريقيا',\n",
              " 'جنيه إسترليني',\n",
              " 'جو ميرسر',\n",
              " 'جو هايز',\n",
              " 'جوائز الدوري الإنجليزي الممتاز خلال 10 مواسم',\n",
              " 'جوائز الدوري الإنجليزي الممتاز خلال 20 موسم',\n",
              " 'جواو كانسيلو',\n",
              " 'جورجيا',\n",
              " 'جوسكو جفارديول',\n",
              " 'جوش ويلسون إسبراند',\n",
              " 'جوليان ألفاريز (لاعب كرة قدم)',\n",
              " 'جوليون ليسكوت',\n",
              " 'جون ستونز',\n",
              " 'جوي كوريغان',\n",
              " 'جيريمي دوكو',\n",
              " 'حارس مرمى',\n",
              " 'حارس مرمى (كرة القدم)',\n",
              " 'خلاف الدوري الممتاز مع دوري الكرة',\n",
              " 'خلدون المبارك',\n",
              " 'درع الاتحاد الإنجليزي',\n",
              " 'درع المجتمع الإنجليزي',\n",
              " 'دورة ألعاب الكومنولث 2002',\n",
              " 'دوري أبطال أوروبا',\n",
              " 'دوري تنمية المواهب',\n",
              " 'دوري كرة القدم الإنجليزي',\n",
              " 'دولار أمريكي',\n",
              " 'دون ريفي',\n",
              " 'ديربي كاونتي',\n",
              " 'ديربي مانشستر',\n",
              " 'ديسمبر',\n",
              " 'ديلويت',\n",
              " 'ديميتار برباتوف',\n",
              " 'دينامو كييف',\n",
              " 'دينيس لو',\n",
              " 'روبرتو مانشيني',\n",
              " 'روبن دياز',\n",
              " 'روبينيو',\n",
              " 'رودري',\n",
              " 'روكي سانتا كروز',\n",
              " 'روي بول',\n",
              " 'روي كلارك',\n",
              " 'رياض محرز',\n",
              " 'ريال سرقسطة',\n",
              " 'ريال مدريد',\n",
              " 'ريبوك',\n",
              " 'ريكو لويس',\n",
              " 'زفن غوران إيريكسون',\n",
              " 'زينيت سانت بطرسبرغ',\n",
              " 'ساب للسيارات',\n",
              " 'سبتمبر',\n",
              " 'سبورتينغ لشبونة',\n",
              " 'ستاد ريمس',\n",
              " 'ستوك سيتي',\n",
              " 'ستيفان أورتيغا',\n",
              " 'سجل أداء الأندية في الدوري الإنجليزي الممتاز',\n",
              " 'سكاي سبورتس',\n",
              " 'سكوت كارسون',\n",
              " 'سكوير إنكس يورب',\n",
              " 'سوانزي سيتي',\n",
              " 'سويسرا',\n",
              " 'سويندون تاون',\n",
              " 'سيرجيو غوميز',\n",
              " 'سيرجيو غوميز مارتن',\n",
              " 'سيرخيو أغويرو',\n",
              " 'شعار النبالة',\n",
              " 'شون رايت فيليبس',\n",
              " 'شيفيلد وينزداي',\n",
              " 'شيفيلد يونايتد',\n",
              " 'عشب',\n",
              " 'عقاب ذهبية',\n",
              " 'عقد 1960',\n",
              " 'عقد 1970',\n",
              " 'غاريث باري',\n",
              " 'غانا',\n",
              " 'غريمسبي تاون',\n",
              " 'غورنيك زابجه',\n",
              " 'فرانسيس لي',\n",
              " 'فرانك روبرتس',\n",
              " 'فرانك سويفت',\n",
              " 'فرنسا',\n",
              " 'فريد تلسون',\n",
              " 'فوربس',\n",
              " 'فيران سوريانو',\n",
              " 'فيردر بريمن',\n",
              " 'فيسبوك',\n",
              " 'فيل فودين',\n",
              " 'فيليبس',\n",
              " 'فيورنتينا',\n",
              " 'فيينا',\n",
              " 'قائد الفريق (كرة القدم)',\n",
              " 'قائمة أكبر النتائج في الدوري الإنجليزي الممتاز',\n",
              " 'قائمة أندية الدوري الإنجليزي الممتاز',\n",
              " 'قائمة الأندية الفائزة بالدوري الإنجليزي الممتاز',\n",
              " 'قائمة الفائزين بجائزة القفاز الذهبي في الدوري الإنجليزي الممتاز',\n",
              " 'قائمة القنوات الباثة للدوري الإنجليزي الممتاز',\n",
              " 'قائمة اللاعبين الأجانب في الدوري الإنجليزي الممتاز',\n",
              " 'قائمة اللاعبين الفائزين باللقب في الدوري الإنجليزي الممتاز',\n",
              " 'قائمة المدربين الحاليين في الدوري الإنجليزي الممتاز',\n",
              " 'قائمة المدربين في الدوري الإنجليزي الممتاز',\n",
              " 'قائمة المدفوعات في الدوري الإنجليزي الممتاز',\n",
              " 'قائمة الهاتريك في الدوري الإنجليزي الممتاز',\n",
              " 'قائمة الهدافين الأجانب في الدوري الإنجليزي الممتاز',\n",
              " 'قائمة حراس الدوري الإنجليزي الممتاز حافظوا على شباكهم في 100 مباراة فأكثر',\n",
              " 'قائمة حكام الدوري الإنجليزي الممتاز',\n",
              " 'قائمة ديلويت لأغنى أندية كرة القدم في العالم',\n",
              " 'قائمة فوربس لأغنى أندية كرة القدم في العالم',\n",
              " 'قائمة لاعبي الدوري الإنجليزي الممتاز',\n",
              " 'قائمة لاعبي الدوري الإنجليزي الممتاز الذين سجلوا 100 هدف أو أكثر',\n",
              " 'قائمة لاعبي الدوري الإنجليزي الممتاز المشاركين في 500 مباراة فأكثر',\n",
              " 'قائمة مدربي نادي مانشستر سيتي',\n",
              " 'قائمة ملاعب الدوري الإنجليزي الممتاز',\n",
              " 'قائمة ملاك الأندية الإنجليزية',\n",
              " 'قائمة مواسم الدوري الإنجليزي الممتاز',\n",
              " 'قناة مانشستر الملاحية',\n",
              " 'قناة نادي مانشستر سيتي',\n",
              " 'كأس الاتحاد الإنجليزي',\n",
              " 'كأس الدوري الإنجليزي الممتاز العالمي',\n",
              " 'كأس الدوري الممتاز الآسيوي',\n",
              " 'كأس السوبر الأوروبي',\n",
              " 'كأس السوبر الأوروبي 2023',\n",
              " 'كأس الكؤوس الأوروبية',\n",
              " 'كأس رابطة الأندية الإنجليزية المحترفة',\n",
              " 'كابا (شركة)',\n",
              " 'كارديف سيتي',\n",
              " 'كارلوس تيفيز',\n",
              " 'كالفين فيليبس',\n",
              " 'كايل ووكر',\n",
              " 'كرة القدم',\n",
              " 'كرواتيا',\n",
              " 'كريستال بالاس',\n",
              " 'كلاوديو غوميز',\n",
              " 'كورا (موقع ويب)',\n",
              " 'كوفنتري سيتي',\n",
              " 'كول بالمر',\n",
              " 'كولن بل',\n",
              " 'كولو توريه',\n",
              " 'كوينز بارك رينجرز',\n",
              " 'كيفن دي بروين',\n",
              " 'كيفن كيغان',\n",
              " 'كيه في ميخيلين',\n",
              " 'لاعب الشهر في الدوري الإنجليزي الممتاز',\n",
              " 'لاعب وسط (كرة القدم)',\n",
              " 'لخ بوزنان',\n",
              " 'لو كوك سبورتيف',\n",
              " 'لوكي مبيتي',\n",
              " 'ليدز يونايتد',\n",
              " 'ليستر سيتي',\n",
              " 'مات بسبي',\n",
              " 'ماتيو كوفاتشيتش',\n",
              " 'ماتيوس نونيز',\n",
              " 'مارك فيفيان فويه',\n",
              " 'مارك هيوز',\n",
              " 'ماغديبورغ',\n",
              " 'ماكسيمو بيروني',\n",
              " 'مالكوم أليسون',\n",
              " 'مانشستر',\n",
              " 'مانشستر سيتي موسم 2018–19',\n",
              " 'مانشستر سيتي موسم 2022–23',\n",
              " 'مانشستر يونايتد',\n",
              " 'مانويل أكانجي',\n",
              " 'مانويل بيليغريني',\n",
              " 'مايك دويل',\n",
              " 'مايك سمربي',\n",
              " 'مايو',\n",
              " 'مباراة 39',\n",
              " 'مجموعة أبو ظبي المتحدة للتنمية والاستثمار',\n",
              " 'مجموعة توماس كوك',\n",
              " 'مجموعة سيتي لكرة القدم',\n",
              " 'مدافع (كرة القدم)',\n",
              " 'مركز كارينغتون للتدريب',\n",
              " 'معدل الحضور الجماهيري لأندية كرة القدم الأوروبية',\n",
              " 'ملعب أولد ترافورد',\n",
              " 'ملعب أولمبي',\n",
              " 'ملعب كرة قدم',\n",
              " 'ملعب ماين رود',\n",
              " 'ملعب مدينة مانشستر',\n",
              " 'ملعب هايدي رود',\n",
              " 'ملعب ويمبلي',\n",
              " 'مليون',\n",
              " 'منافسة مانشستر سيتي في الدوري الإنجليزي',\n",
              " 'منافسة مانشستر سيتي وتشيلسي',\n",
              " 'منتخب إنجلترا لكرة القدم',\n",
              " 'منصور بن زايد آل نهيان',\n",
              " 'مهاجم (كرة القدم)',\n",
              " 'مواسم نادي مانشستر سيتي',\n",
              " 'موس سايد',\n",
              " 'ميلتون كينز دونز',\n",
              " 'ناثان أكي',\n",
              " 'نادي أبردين',\n",
              " 'نادي أرسنال',\n",
              " 'نادي أندرلخت',\n",
              " 'نادي إيفرتون',\n",
              " 'نادي بارما',\n",
              " 'نادي بارنسلي',\n",
              " 'نادي برشلونة',\n",
              " 'نادي برينتفورد',\n",
              " 'نادي بلاكبول',\n",
              " 'نادي بورتسموث',\n",
              " 'نادي بورنموث',\n",
              " 'نادي بيرنلي',\n",
              " 'نادي تشيلسي',\n",
              " 'نادي جل فيسنتي',\n",
              " 'نادي دينامو تبليسي',\n",
              " 'نادي ريدنغ',\n",
              " 'نادي رينجرز',\n",
              " 'نادي سامبدوريا',\n",
              " 'نادي ساوثهامبتون',\n",
              " 'نادي سترومسجودست',\n",
              " 'نادي سلوفان براتيسلافا',\n",
              " 'نادي سندرلاند',\n",
              " 'نادي غيلينغهام',\n",
              " 'نادي فالنسيا',\n",
              " 'نادي فولهام',\n",
              " 'نادي لاتسيو',\n",
              " 'نادي لاس بالماس',\n",
              " 'نادي لوتون تاون',\n",
              " 'نادي ليفربول',\n",
              " 'نادي مانشستر سيتي في أوروبا',\n",
              " 'نادي مانشستر سيتي للنساء',\n",
              " 'نادي مبومالانجا بلاك أسأت',\n",
              " 'نادي ملبورن سيتي',\n",
              " 'نادي ميدلزبره',\n",
              " 'نادي نيويورك سيتي',\n",
              " 'نادي هامبورغ',\n",
              " 'نادي هايد إف سي',\n",
              " 'نادي هكن',\n",
              " 'نادي واتفورد',\n",
              " 'نادي يميريك',\n",
              " 'نادي يورغوردينس',\n",
              " 'نايكي',\n",
              " 'نهائي دوري أبطال أوروبا 2021',\n",
              " 'نهائي دوري أبطال أوروبا 2023',\n",
              " 'نهائي كأس الكؤوس الأوروبية 1961',\n",
              " 'نهائي كأس الكؤوس الأوروبية 1962',\n",
              " 'نهائي كأس الكؤوس الأوروبية 1963',\n",
              " 'نهائي كأس الكؤوس الأوروبية 1964',\n",
              " 'نهائي كأس الكؤوس الأوروبية 1965',\n",
              " 'نهائي كأس الكؤوس الأوروبية 1966',\n",
              " 'نهائي كأس الكؤوس الأوروبية 1967',\n",
              " 'نهائي كأس الكؤوس الأوروبية 1968',\n",
              " 'نهائي كأس الكؤوس الأوروبية 1969',\n",
              " 'نهائي كأس الكؤوس الأوروبية 1970',\n",
              " 'نهائي كأس الكؤوس الأوروبية 1971',\n",
              " 'نهائي كأس الكؤوس الأوروبية 1972',\n",
              " 'نهائي كأس الكؤوس الأوروبية 1973',\n",
              " 'نهائي كأس الكؤوس الأوروبية 1975',\n",
              " 'نهائي كأس الكؤوس الأوروبية 1976',\n",
              " 'نهائي كأس الكؤوس الأوروبية 1977',\n",
              " 'نهائي كأس الكؤوس الأوروبية 1978',\n",
              " 'نهائي كأس الكؤوس الأوروبية 1979',\n",
              " 'نهائي كأس الكؤوس الأوروبية 1980',\n",
              " 'نهائي كأس الكؤوس الأوروبية 1981',\n",
              " 'نهائي كأس الكؤوس الأوروبية 1982',\n",
              " 'نهائي كأس الكؤوس الأوروبية 1983',\n",
              " 'نهائي كأس الكؤوس الأوروبية 1984',\n",
              " 'نهائي كأس الكؤوس الأوروبية 1985',\n",
              " 'نهائي كأس الكؤوس الأوروبية 1986',\n",
              " 'نهائي كأس الكؤوس الأوروبية 1987',\n",
              " 'نهائي كأس الكؤوس الأوروبية 1988',\n",
              " 'نهائي كأس الكؤوس الأوروبية 1989',\n",
              " 'نهائي كأس الكؤوس الأوروبية 1990',\n",
              " 'نهائي كأس الكؤوس الأوروبية 1991',\n",
              " 'نهائي كأس الكؤوس الأوروبية 1992',\n",
              " 'نهائي كأس الكؤوس الأوروبية 1993',\n",
              " 'نهائي كأس الكؤوس الأوروبية 1994',\n",
              " 'نهائي كأس الكؤوس الأوروبية 1995',\n",
              " 'نهائي كأس الكؤوس الأوروبية 1996',\n",
              " 'نهائي كأس الكؤوس الأوروبية 1997',\n",
              " 'نهائي كأس الكؤوس الأوروبية 1998',\n",
              " 'نهائي كأس الكؤوس الأوروبية 1999',\n",
              " 'نوتينغهام فورست',\n",
              " 'نورويتش سيتي',\n",
              " 'نيال كوين',\n",
              " 'نيسان موتورز',\n",
              " 'نيوكاسل يونايتد',\n",
              " 'نيويورك يانكيز',\n",
              " 'هال سيتي',\n",
              " 'هدرسفيلد تاون',\n",
              " 'هولندا',\n",
              " 'واي باك مشين',\n",
              " 'وايت هارت لين',\n",
              " 'وست بروميتش ألبيون',\n",
              " 'وست هام يونايتد',\n",
              " 'وولفرهامبتون واندررز',\n",
              " 'ويغان أتلتيك',\n",
              " 'ويكيميديا كومنز',\n",
              " 'ويلز',\n",
              " 'ويلي دوناشيو',\n",
              " 'يناير',\n",
              " 'يوتيوب',\n",
              " 'يورو',\n",
              " 'يوفنتوس',\n",
              " 'يوكوهاما',\n",
              " 'يوكوهاما إف مارينوس',\n",
              " 'يوليو',\n",
              " 'يونيو']"
            ]
          },
          "metadata": {},
          "execution_count": 16
        }
      ]
    },
    {
      "cell_type": "code",
      "source": [
        "page.categories"
      ],
      "metadata": {
        "colab": {
          "base_uri": "https://localhost:8080/",
          "height": 1175
        },
        "id": "B9L_EvQE3pSn",
        "outputId": "94220d3e-a1e8-489e-c277-ad6bf24ddd57"
      },
      "execution_count": 17,
      "outputs": [
        {
          "output_type": "display_data",
          "data": {
            "text/plain": [
              "<IPython.core.display.Javascript object>"
            ],
            "application/javascript": [
              "google.colab.output.setIframeHeight(0, true, {maxHeight: 5000})"
            ]
          },
          "metadata": {}
        },
        {
          "output_type": "execute_result",
          "data": {
            "text/plain": [
              "['تصنيف:أخطاء الاستشهاد: التاريخ',\n",
              " 'تصنيف:أخطاء الاستشهاد: المسار',\n",
              " 'تصنيف:أخطاء الاستشهاد: روابط خارجية',\n",
              " 'تصنيف:أخطاء الاستشهاد: مسار الأرشيف',\n",
              " 'تصنيف:أخطاء الاستشهاد: وسائط غير مدعومة',\n",
              " 'تصنيف:أخطاء الاستشهاد: وسائط مكررة',\n",
              " 'تصنيف:أندية الدوري الإنجليزي الممتاز',\n",
              " 'تصنيف:أندية دوري البطولة الإنجليزية',\n",
              " 'تصنيف:أندية رياضية تغيرت أسماؤها بعد تأسيسها',\n",
              " 'تصنيف:أندية سابقة في دوري البطولة الإنجليزية',\n",
              " 'تصنيف:أندية فائزة بكأس الكؤوس الأوروبية',\n",
              " 'تصنيف:أندية كرة قدم أسست في 1880',\n",
              " 'تصنيف:أندية كرة قدم في إنجلترا',\n",
              " 'تصنيف:أندية كرة قدم في مانشستر',\n",
              " 'تصنيف:الأندية الفائزة بدوري أبطال أوروبا يويفا',\n",
              " 'تصنيف:الاستشهاد بمصادر باللغة الإنجليزية البريطانية (en-gb)',\n",
              " 'تصنيف:الاستشهاد بمصادر باللغة البرتغالية (pt)',\n",
              " 'تصنيف:الاستشهاد بمصادر باللغة الدنماركية (da)',\n",
              " 'تصنيف:الاستشهاد بمصادر باللغة النرويجية (no)',\n",
              " 'تصنيف:الرياضة في مانشستر',\n",
              " 'تصنيف:الصفحات التي تستخدم وصلات ISBN السحرية',\n",
              " 'تصنيف:بوابة إنجلترا/مقالات متعلقة',\n",
              " 'تصنيف:بوابة المملكة المتحدة/مقالات متعلقة',\n",
              " 'تصنيف:بوابة النرويج/مقالات متعلقة',\n",
              " 'تصنيف:بوابة كرة القدم/مقالات متعلقة',\n",
              " 'تصنيف:تأسيسات سنة 1880 في إنجلترا',\n",
              " 'تصنيف:جميع المقالات التي تستخدم شريط بوابات',\n",
              " 'تصنيف:جميع المقالات ذات الوصلات الخارجية المكسورة',\n",
              " 'تصنيف:حائزون على كأس الاتحاد الإنجليزي',\n",
              " 'تصنيف:حائزون على كأس رابطة الأندية الإنجليزية المحترفة',\n",
              " 'تصنيف:صفحات بها بيانات ويكي بيانات',\n",
              " 'تصنيف:صفحات تستخدم خاصية P127',\n",
              " 'تصنيف:صفحات تستخدم خاصية P17',\n",
              " 'تصنيف:صفحات تستخدم خاصية P1705',\n",
              " 'تصنيف:صفحات تستخدم خاصية P2002',\n",
              " 'تصنيف:صفحات تستخدم خاصية P2003',\n",
              " 'تصنيف:صفحات تستخدم خاصية P2013',\n",
              " 'تصنيف:صفحات تستخدم خاصية P2397',\n",
              " 'تصنيف:صفحات تستخدم خاصية P3417',\n",
              " 'تصنيف:صفحات تستخدم خاصية P641',\n",
              " 'تصنيف:صفحات تستخدم خاصية P7085',\n",
              " 'تصنيف:صفحات تستخدم خاصية P856',\n",
              " 'تصنيف:صفحات تستخدم وحدة بطاقة',\n",
              " 'تصنيف:صفحات تستعمل قالبا ببيانات مكررة',\n",
              " 'تصنيف:صيانة الاستشهاد: استشهادات بمسارات غير مؤرشفة',\n",
              " 'تصنيف:صيانة الاستشهاد: تنسيق التاريخ',\n",
              " 'تصنيف:قالب أرشيف الإنترنت بوصلات واي باك',\n",
              " 'تصنيف:قالب تصنيف كومنز بوصلة كما في ويكي بيانات',\n",
              " 'تصنيف:مانشستر سيتي',\n",
              " 'تصنيف:محتوى ويكيبيديا المتميز منذ 2014',\n",
              " 'تصنيف:محتوى ويكيبيديا المتميز منذ سبتمبر 2014',\n",
              " 'تصنيف:مقالات تحوي نصا بالإنجليزية',\n",
              " 'تصنيف:مقالات تستعمل قوالب معلومات',\n",
              " 'تصنيف:مقالات ذات وصلات خارجية مكسورة منذ يونيو 2019',\n",
              " 'تصنيف:مقالات فيها معرفات GND',\n",
              " 'تصنيف:مقالات فيها معرفات ISNI',\n",
              " 'تصنيف:مقالات فيها معرفات LCCN',\n",
              " 'تصنيف:مقالات فيها معرفات MusicBrainz',\n",
              " 'تصنيف:مقالات فيها معرفات NDL',\n",
              " 'تصنيف:مقالات فيها معرفات VIAF',\n",
              " 'تصنيف:مقالات فيها معرفات WorldCat',\n",
              " 'تصنيف:مقالات مختارة',\n",
              " 'تصنيف:مقالات مختارة منذ 2014',\n",
              " 'تصنيف:مقالات مختارة منذ سبتمبر 2014',\n",
              " 'تصنيف:موقع رسمي بوصلة مختلفة عن ويكي بيانات']"
            ]
          },
          "metadata": {},
          "execution_count": 17
        }
      ]
    },
    {
      "cell_type": "code",
      "source": [
        "page.sections"
      ],
      "metadata": {
        "colab": {
          "base_uri": "https://localhost:8080/",
          "height": 35
        },
        "id": "Ce2-Tul-3rKH",
        "outputId": "a998eece-42db-4a0d-d3a6-2b762ab1a934"
      },
      "execution_count": 18,
      "outputs": [
        {
          "output_type": "display_data",
          "data": {
            "text/plain": [
              "<IPython.core.display.Javascript object>"
            ],
            "application/javascript": [
              "google.colab.output.setIframeHeight(0, true, {maxHeight: 5000})"
            ]
          },
          "metadata": {}
        },
        {
          "output_type": "execute_result",
          "data": {
            "text/plain": [
              "[]"
            ]
          },
          "metadata": {},
          "execution_count": 18
        }
      ]
    },
    {
      "cell_type": "code",
      "source": [
        "page = wikipedia.page(\"الحسين بن عبد الله الثاني\")\n",
        "page"
      ],
      "metadata": {
        "colab": {
          "base_uri": "https://localhost:8080/",
          "height": 35
        },
        "id": "3Ocq-DAb4pD0",
        "outputId": "7153170b-245c-4019-d593-6ece73b5b3e8"
      },
      "execution_count": 19,
      "outputs": [
        {
          "output_type": "display_data",
          "data": {
            "text/plain": [
              "<IPython.core.display.Javascript object>"
            ],
            "application/javascript": [
              "google.colab.output.setIframeHeight(0, true, {maxHeight: 5000})"
            ]
          },
          "metadata": {}
        },
        {
          "output_type": "execute_result",
          "data": {
            "text/plain": [
              "<WikipediaPage 'الحسين بن عبد الله الثاني'>"
            ]
          },
          "metadata": {},
          "execution_count": 19
        }
      ]
    },
    {
      "cell_type": "code",
      "source": [
        "page.images"
      ],
      "metadata": {
        "colab": {
          "base_uri": "https://localhost:8080/",
          "height": 1407
        },
        "id": "EbzG9pGw4u1L",
        "outputId": "5cfbeb7e-274a-4f8d-a20c-8d2eb41e6054"
      },
      "execution_count": 20,
      "outputs": [
        {
          "output_type": "display_data",
          "data": {
            "text/plain": [
              "<IPython.core.display.Javascript object>"
            ],
            "application/javascript": [
              "google.colab.output.setIframeHeight(0, true, {maxHeight: 5000})"
            ]
          },
          "metadata": {}
        },
        {
          "output_type": "execute_result",
          "data": {
            "text/plain": [
              "['https://upload.wikimedia.org/wikipedia/commons/c/c1/220502-D-WA993-1001_%2852068629871%29.jpg',\n",
              " 'https://upload.wikimedia.org/wikipedia/commons/1/11/Abdullah_II_welcomes_Mahmud_Abbas_05.jpg',\n",
              " 'https://upload.wikimedia.org/wikipedia/commons/e/ef/Abdullah_II_welcomes_Mahmud_Abbas_13.jpg',\n",
              " 'https://upload.wikimedia.org/wikipedia/commons/7/75/Amb_Wooster_and_King_Abdullah_II_at_U.S._Pavilion.jpg',\n",
              " 'https://upload.wikimedia.org/wikipedia/commons/c/c4/Coat_of_arms_of_Jordan.svg',\n",
              " 'https://upload.wikimedia.org/wikipedia/commons/4/4a/Commons-logo.svg',\n",
              " 'https://upload.wikimedia.org/wikipedia/commons/2/28/Corona_Real_Cerrada_2.svg',\n",
              " 'https://upload.wikimedia.org/wikipedia/commons/4/4d/Cquote1.svg',\n",
              " 'https://upload.wikimedia.org/wikipedia/commons/1/1a/Cquote2.svg',\n",
              " 'https://upload.wikimedia.org/wikipedia/commons/e/ef/Crown_Prince_Hussein.jpg',\n",
              " 'https://upload.wikimedia.org/wikipedia/commons/6/6c/Crown_Prince_Hussein_of_Jordan_cropped.jpeg',\n",
              " 'https://upload.wikimedia.org/wikipedia/commons/8/80/Featured_list_badge_on_Arabic_Wikipedia.svg',\n",
              " 'https://upload.wikimedia.org/wikipedia/commons/1/19/Flag_of_Andorra.svg',\n",
              " 'https://upload.wikimedia.org/wikipedia/commons/8/89/Flag_of_Antigua_and_Barbuda.svg',\n",
              " 'https://upload.wikimedia.org/wikipedia/commons/8/88/Flag_of_Australia_%28converted%29.svg',\n",
              " 'https://upload.wikimedia.org/wikipedia/commons/2/2c/Flag_of_Bahrain.svg',\n",
              " 'https://upload.wikimedia.org/wikipedia/commons/e/ef/Flag_of_Barbados.svg',\n",
              " 'https://upload.wikimedia.org/wikipedia/commons/9/92/Flag_of_Belgium_%28civil%29.svg',\n",
              " 'https://upload.wikimedia.org/wikipedia/commons/e/e7/Flag_of_Belize.svg',\n",
              " 'https://upload.wikimedia.org/wikipedia/commons/9/91/Flag_of_Bhutan.svg',\n",
              " 'https://upload.wikimedia.org/wikipedia/commons/9/9c/Flag_of_Brunei.svg',\n",
              " 'https://upload.wikimedia.org/wikipedia/commons/8/83/Flag_of_Cambodia.svg',\n",
              " 'https://upload.wikimedia.org/wikipedia/commons/d/d9/Flag_of_Canada_%28Pantone%29.svg',\n",
              " 'https://upload.wikimedia.org/wikipedia/commons/9/9c/Flag_of_Denmark.svg',\n",
              " 'https://upload.wikimedia.org/wikipedia/commons/f/fb/Flag_of_Eswatini.svg',\n",
              " 'https://upload.wikimedia.org/wikipedia/commons/b/bc/Flag_of_Grenada.svg',\n",
              " 'https://upload.wikimedia.org/wikipedia/commons/0/0a/Flag_of_Jamaica.svg',\n",
              " 'https://upload.wikimedia.org/wikipedia/commons/9/9e/Flag_of_Japan.svg',\n",
              " 'https://upload.wikimedia.org/wikipedia/commons/c/c0/Flag_of_Jordan.svg',\n",
              " 'https://upload.wikimedia.org/wikipedia/commons/a/aa/Flag_of_Kuwait.svg',\n",
              " 'https://upload.wikimedia.org/wikipedia/commons/4/4a/Flag_of_Lesotho.svg',\n",
              " 'https://upload.wikimedia.org/wikipedia/commons/4/47/Flag_of_Liechtenstein.svg',\n",
              " 'https://upload.wikimedia.org/wikipedia/commons/d/da/Flag_of_Luxembourg.svg',\n",
              " 'https://upload.wikimedia.org/wikipedia/commons/6/66/Flag_of_Malaysia.svg',\n",
              " 'https://upload.wikimedia.org/wikipedia/commons/e/ea/Flag_of_Monaco.svg',\n",
              " 'https://upload.wikimedia.org/wikipedia/commons/2/2c/Flag_of_Morocco.svg',\n",
              " 'https://upload.wikimedia.org/wikipedia/commons/3/3e/Flag_of_New_Zealand.svg',\n",
              " 'https://upload.wikimedia.org/wikipedia/commons/1/1e/Flag_of_Norway_%28c81329_for_red_%26_14275b_for_blue%29.svg',\n",
              " 'https://upload.wikimedia.org/wikipedia/commons/d/dd/Flag_of_Oman.svg',\n",
              " 'https://upload.wikimedia.org/wikipedia/commons/e/e3/Flag_of_Papua_New_Guinea.svg',\n",
              " 'https://upload.wikimedia.org/wikipedia/commons/6/65/Flag_of_Qatar.svg',\n",
              " 'https://upload.wikimedia.org/wikipedia/commons/f/fe/Flag_of_Saint_Kitts_and_Nevis.svg',\n",
              " 'https://upload.wikimedia.org/wikipedia/commons/9/9f/Flag_of_Saint_Lucia.svg',\n",
              " 'https://upload.wikimedia.org/wikipedia/commons/6/6d/Flag_of_Saint_Vincent_and_the_Grenadines.svg',\n",
              " 'https://upload.wikimedia.org/wikipedia/commons/0/0d/Flag_of_Saudi_Arabia.svg',\n",
              " 'https://upload.wikimedia.org/wikipedia/commons/9/9a/Flag_of_Spain.svg',\n",
              " 'https://upload.wikimedia.org/wikipedia/commons/4/4c/Flag_of_Sweden.svg',\n",
              " 'https://upload.wikimedia.org/wikipedia/commons/a/a9/Flag_of_Thailand.svg',\n",
              " 'https://upload.wikimedia.org/wikipedia/commons/9/9a/Flag_of_Tonga.svg',\n",
              " 'https://upload.wikimedia.org/wikipedia/commons/3/38/Flag_of_Tuvalu.svg',\n",
              " 'https://upload.wikimedia.org/wikipedia/commons/9/93/Flag_of_the_Bahamas.svg',\n",
              " 'https://upload.wikimedia.org/wikipedia/commons/2/20/Flag_of_the_Netherlands.svg',\n",
              " 'https://upload.wikimedia.org/wikipedia/commons/7/74/Flag_of_the_Solomon_Islands.svg',\n",
              " 'https://upload.wikimedia.org/wikipedia/commons/c/cb/Flag_of_the_United_Arab_Emirates.svg',\n",
              " 'https://upload.wikimedia.org/wikipedia/commons/8/83/Flag_of_the_United_Kingdom_%283-5%29.svg',\n",
              " 'https://upload.wikimedia.org/wikipedia/commons/8/83/Flag_of_the_United_Kingdom_%283-5%29.svg',\n",
              " 'https://upload.wikimedia.org/wikipedia/commons/0/00/Flag_of_the_Vatican_City.svg',\n",
              " 'https://upload.wikimedia.org/wikipedia/commons/6/6f/Fleche-defaut-droite.png',\n",
              " 'https://upload.wikimedia.org/wikipedia/commons/e/ea/Hussein_bin_Abdullah_signature.png',\n",
              " 'https://upload.wikimedia.org/wikipedia/commons/3/38/Info_Simple.svg',\n",
              " 'https://upload.wikimedia.org/wikipedia/commons/9/95/Instagram_logo_2022.svg',\n",
              " 'https://upload.wikimedia.org/wikipedia/commons/e/e5/Kamala_Harris_met_with_King_Abdullah_II_at_VP_Residence_2021.jpg',\n",
              " 'https://upload.wikimedia.org/wikipedia/commons/2/2e/Nuvola_Jordan_flag.svg',\n",
              " 'https://upload.wikimedia.org/wikipedia/commons/3/3f/Nuvola_Palestinian_flag.svg',\n",
              " 'https://upload.wikimedia.org/wikipedia/commons/d/d3/Order_of_Independence_Jordan.svg',\n",
              " 'https://upload.wikimedia.org/wikipedia/commons/3/3c/P20230202AS-1215_%2852681155739%29.jpg',\n",
              " 'https://upload.wikimedia.org/wikipedia/commons/6/69/P_vip.svg',\n",
              " 'https://upload.wikimedia.org/wikipedia/commons/4/4a/Plato-raphael.jpg',\n",
              " 'https://upload.wikimedia.org/wikipedia/commons/2/24/Prince_Al-Hussein_bin_Abdullah_II_and_Princess_Rajwa_Al-Hussein.jpg',\n",
              " 'https://upload.wikimedia.org/wikipedia/commons/f/fd/Royal_Standard_of_the_Crown_Prince_of_Jordan.svg',\n",
              " 'https://upload.wikimedia.org/wikipedia/commons/3/34/Secretary_Kerry_Is_Greeted_By_Jordanian_King_Abdullah_II.jpg',\n",
              " 'https://upload.wikimedia.org/wikipedia/commons/f/f2/Secretary_Kerry_Meets_With_King_Abdullah_II_of_Jordan_in_New_York_City_%2821145246394%29.jpg',\n",
              " 'https://upload.wikimedia.org/wikipedia/commons/c/ca/Secretary_Pompeo_Meets_With_King_Abdullah_in_Jordan_%2841758646452%29.jpg',\n",
              " 'https://upload.wikimedia.org/wikipedia/commons/9/96/Shinzo_Abe_and_Crown_Prince_Hussein_at_the_Enthronement_of_Naruhito_%281%29.jpg',\n",
              " 'https://upload.wikimedia.org/wikipedia/commons/5/5b/Society.svg',\n",
              " 'https://upload.wikimedia.org/wikipedia/commons/5/57/St_Olavs_Orden_storkors_stripe.svg',\n",
              " 'https://upload.wikimedia.org/wikipedia/commons/f/f4/Twemoji_270f.svg',\n",
              " 'https://upload.wikimedia.org/wikipedia/commons/4/4e/U.S._Delegation_Meets_with_Jordanian_Delegation_%289309562230%29.jpg']"
            ]
          },
          "metadata": {},
          "execution_count": 20
        }
      ]
    },
    {
      "cell_type": "code",
      "source": [
        "page.categories"
      ],
      "metadata": {
        "colab": {
          "base_uri": "https://localhost:8080/",
          "height": 926
        },
        "id": "H-AAFetJ4-SO",
        "outputId": "9a93193c-3422-43a8-ab5c-c8232efb370e"
      },
      "execution_count": 21,
      "outputs": [
        {
          "output_type": "display_data",
          "data": {
            "text/plain": [
              "<IPython.core.display.Javascript object>"
            ],
            "application/javascript": [
              "google.colab.output.setIframeHeight(0, true, {maxHeight: 5000})"
            ]
          },
          "metadata": {}
        },
        {
          "output_type": "execute_result",
          "data": {
            "text/plain": [
              "['تصنيف:أردنيون من أصل إنجليزي',\n",
              " 'تصنيف:أشخاص على قيد الحياة',\n",
              " 'تصنيف:أشخاص من مدينة عمان',\n",
              " 'تصنيف:أكاديمية ساندهيرست العسكرية الملكية',\n",
              " 'تصنيف:أمراء أردنيون',\n",
              " 'تصنيف:أولياء عهد',\n",
              " 'تصنيف:أولياء عهد الأردن',\n",
              " 'تصنيف:الأسرة الملكية الأردنية',\n",
              " 'تصنيف:الأسرة الهاشمية الأردنية',\n",
              " 'تصنيف:الاستشهاد بمصادر باللغة الإنجليزية (en)',\n",
              " 'تصنيف:بوابة أعلام/مقالات متعلقة',\n",
              " 'تصنيف:بوابة الأردن/مقالات متعلقة',\n",
              " 'تصنيف:بوابة السياسة/مقالات متعلقة',\n",
              " 'تصنيف:بوابة علوم سياسية/مقالات متعلقة',\n",
              " 'تصنيف:بوابة فلسطين/مقالات متعلقة',\n",
              " 'تصنيف:بوابة ملكية/مقالات متعلقة',\n",
              " 'تصنيف:جميع المقالات التي تستخدم شريط بوابات',\n",
              " 'تصنيف:خريجو جامعة جورجتاون',\n",
              " 'تصنيف:خريجو ساندهيرست',\n",
              " 'تصنيف:صفحات بأخطاء في المراجع',\n",
              " 'تصنيف:صفحات بها بيانات ويكي بيانات',\n",
              " 'تصنيف:صفحات بها وصلات إنترويكي',\n",
              " 'تصنيف:صفحات تستخدم خاصية P103',\n",
              " 'تصنيف:صفحات تستخدم خاصية P106',\n",
              " 'تصنيف:صفحات تستخدم خاصية P109',\n",
              " 'تصنيف:صفحات تستخدم خاصية P1412',\n",
              " 'تصنيف:صفحات تستخدم خاصية P19',\n",
              " 'تصنيف:صفحات تستخدم خاصية P2003',\n",
              " 'تصنيف:صفحات تستخدم خاصية P22',\n",
              " 'تصنيف:صفحات تستخدم خاصية P241',\n",
              " 'تصنيف:صفحات تستخدم خاصية P25',\n",
              " 'تصنيف:صفحات تستخدم خاصية P26',\n",
              " 'تصنيف:صفحات تستخدم خاصية P27',\n",
              " 'تصنيف:صفحات تستخدم خاصية P3373',\n",
              " 'تصنيف:صفحات تستخدم خاصية P410',\n",
              " 'تصنيف:صفحات تستخدم خاصية P53',\n",
              " 'تصنيف:صفحات تستخدم خاصية P569',\n",
              " 'تصنيف:صفحات تستخدم خاصية P69',\n",
              " 'تصنيف:صفحات تستخدم خاصية P856',\n",
              " 'تصنيف:صفحات تستعمل قالبا ببيانات مكررة',\n",
              " 'تصنيف:صفحات لا تقبل التصنيف المعادل',\n",
              " 'تصنيف:صيانة الاستشهاد: التاريخ والسنة',\n",
              " 'تصنيف:قالب أرشيف الإنترنت بوصلات واي باك',\n",
              " 'تصنيف:قالب تصنيف كومنز بوصلة كما في ويكي بيانات',\n",
              " 'تصنيف:مسلمون سنة أردنيون',\n",
              " 'تصنيف:مقالات تستعمل قوالب معلومات',\n",
              " 'تصنيف:مواليد 1415 هـ',\n",
              " 'تصنيف:مواليد 1994',\n",
              " 'تصنيف:مواليد 25 يونيو',\n",
              " 'تصنيف:مواليد في مدينة عمان',\n",
              " 'تصنيف:هاشميون']"
            ]
          },
          "metadata": {},
          "execution_count": 21
        }
      ]
    },
    {
      "cell_type": "code",
      "source": [
        "import spacy\n",
        "from spacy import displacy\n",
        "\n",
        "NER = spacy.load(\"en_core_web_sm\")\n",
        "\n",
        "# Now, we enter our sample text which we shall be testing. The text has been taken from the Wikipedia page of ISRO.\n",
        "\n",
        "raw_text=\"The Indian Space Research Organisation or is the national space agency of India, headquartered in Bengaluru. It operates under Department of Space which is directly overseen by the Prime Minister of India while Chairman of ISRO acts as executive of DOS as well.\"\n",
        "\n",
        "text1= NER(raw_text)\n",
        "text1"
      ],
      "metadata": {
        "colab": {
          "base_uri": "https://localhost:8080/",
          "height": 53
        },
        "id": "SKrTo4Jj79Q4",
        "outputId": "69c03bf1-bbd4-420e-8f00-f6b1dbde916e"
      },
      "execution_count": 22,
      "outputs": [
        {
          "output_type": "display_data",
          "data": {
            "text/plain": [
              "<IPython.core.display.Javascript object>"
            ],
            "application/javascript": [
              "google.colab.output.setIframeHeight(0, true, {maxHeight: 5000})"
            ]
          },
          "metadata": {}
        },
        {
          "output_type": "execute_result",
          "data": {
            "text/plain": [
              "The Indian Space Research Organisation or is the national space agency of India, headquartered in Bengaluru. It operates under Department of Space which is directly overseen by the Prime Minister of India while Chairman of ISRO acts as executive of DOS as well."
            ]
          },
          "metadata": {},
          "execution_count": 22
        }
      ]
    },
    {
      "cell_type": "code",
      "source": [
        "for word in text1.ents:\n",
        "    print(word.text, word.label_)"
      ],
      "metadata": {
        "colab": {
          "base_uri": "https://localhost:8080/",
          "height": 142
        },
        "id": "clpoEsQz8TGw",
        "outputId": "cfca8d5e-ebc0-454d-a327-c455c8e14158"
      },
      "execution_count": 23,
      "outputs": [
        {
          "output_type": "display_data",
          "data": {
            "text/plain": [
              "<IPython.core.display.Javascript object>"
            ],
            "application/javascript": [
              "google.colab.output.setIframeHeight(0, true, {maxHeight: 5000})"
            ]
          },
          "metadata": {}
        },
        {
          "output_type": "stream",
          "name": "stdout",
          "text": [
            "The Indian Space Research Organisation ORG\n",
            "India GPE\n",
            "Bengaluru GPE\n",
            "Department of Space ORG\n",
            "India GPE\n",
            "ISRO ORG\n",
            "DOS ORG\n"
          ]
        }
      ]
    },
    {
      "cell_type": "code",
      "source": [
        "page.summary"
      ],
      "metadata": {
        "colab": {
          "base_uri": "https://localhost:8080/",
          "height": 107
        },
        "id": "lrzoIeGY8hx0",
        "outputId": "8c7d5956-a9b8-4e9c-b6c2-81fd878b3311"
      },
      "execution_count": 24,
      "outputs": [
        {
          "output_type": "display_data",
          "data": {
            "text/plain": [
              "<IPython.core.display.Javascript object>"
            ],
            "application/javascript": [
              "google.colab.output.setIframeHeight(0, true, {maxHeight: 5000})"
            ]
          },
          "metadata": {}
        },
        {
          "output_type": "execute_result",
          "data": {
            "text/plain": [
              "'الحسين بن عبد الله الثاني بن الحسين (28 يونيو 1994 / 19 محرم 1415 هـ -)، ولي عهد المملكة الأردنية الهاشمية منذ 2 يوليو عام 2009، وهو (بحسب خط الخلافة على العرش الأردني) الوريث الواضح لعرش المملكة الأردنية الهاشمية بعد أبيه الملك عبد الله الثاني. الأمير الحسين هو أحد أفراد العائلة الهاشمية التي تحكم الأردن منذ عام 1921 والتي تعود في نسبها إلى الحسن بن علي بن أبي طالب حفيد النبي محمد من إبنته فاطمة الزهراء.ولد الأمير الحسين في العاصمة الأردنية عمان ليكون الإبن البكر لوالده الأمير عبد الله آنذلك والأميرة رانيا، تلقى تعليمه الإبتدائي والثانوي في الأردن، ثم التحق بجامعة جورج تاون في الولايات المتحدة الأمريكية ليكمل دراسته الجامعية وتخرج منها بعد أن نال درجة البكالوريوس في تخصص التاريخ الدولي. درس الأمير الحسين أيضًا في أكاديمية ساندهيرست العسكرية الملكية في بريطانيا وهي نفس الأكاديمية التي درس فيها والده وجده.\\nفي 7 من شباط عام 1999 توفي الملك الحسين، فخلفه في الحكم إبنه الأكبر الأمير -آنذاك- عبد الله بن الحسين الذي اعتلى العرش باسم الملك عبد الله الثاني بن الحسين. عين الملك عبد الله أخاه غير الشقيق الأمير حمزة وليا للعهد، وبعد أربع سنوات (عام 2004) عزله عن ولاية العهد، وظل المنصب خاليًا لمدة 5 سنوات حتى صدرت الإرادة الملكية عام 2009 بتسمية الأمير الحسين بن عبد الله الثاني ولياً للعهد وهو المنصب الذي لا يزال يشغله حتى اليوم.\\nومنذ توليه ولاية العهد حرص الأمير الحسين كما الهاشميون على الحفاظ على الثوابت الوطنية، وترجمة رؤى والده الملك عبد الله في تمكين الشباب. تولّى الأمير الحسين مسؤوليات كثيرة في بعض الأحيان بكونه وصيًا على عرش المملكة، كما رافق والده في عدد من الزيارات الدولية والمحلية. وفي عام 2015 م، أي عند بلوغه عامه العشرين، أصبح الأمير الحسين أصغر شخص يرأس جلسة لمجلس الأمن الدولي، وظهر ظهوراً عالمياً عندما ألقى خطابا موجها للجمعية العامة للأمم المتحدة في سبتمبر من ذلك العام تحدث فيه عن التطرف والإرهاب وكيفية حماية الشباب من الجماعات الإرهابية المتطرفة.كما برز اهتمام الأمير حسين بالشباب والأطفال والرياضة وأطلق عدداً من المبادرات كمبادرة (حقق) التي تُعنى بتحفيز الشباب والشابات فكرياً وتعزيز مهاراتهم المختلفة، ومبادرة (قصي) التي تعكس اهتمام الأمير الحسين بالرياضيين الشباب إلى جانب تأهيل المسعفين والمعالجين الطبيعيين، ومبادرة (سمع بلا حدود) التي تعنى بالأطفال فاقدي السمع وممن يعانون من ضعف السمع لزراعة القواقع السمعية للأطفال من مختلف محافظات المملكة. وفي العام 2015، تأسست مؤسسة ولي العهد، لتكون المظلة القانونية لمختلف هذه المبادرات، ولتساعد الشباب على تعزيز مفهوم الابتكار وتأهلهم لتبوء مواقع قيادية في المنظومة العملية في الأردن.\\nفي 1 يونيو 2023 عقد الأمير الحسين قرانه على رجوة بنت خالد آل سيف إبنة رجل الأعمال السعودي خالد آل سيف في حفل تميز بالبساطة وبالحرص على تضمين العادات والتقاليد الأردنية والإسلامية. يذكر أن الأمير حسين يمارس عددًا من الرياضات والهوايات كالمطالعة والشطرنج والقفز المظلي وكرة القدم والغوص والمغامرة والرماية وركوب الدراجات، كما يحظى بعدد كبير من المتابعين على مواقع التواصل الاجتماعي التي يعتبرها جسوراً تزيد تقاربه مع الناس وينشر على الحساب صورا لأنشطته وممارسته للرياضة وتدريباته العسكرية وزياراته الخارجية بالإضافة إلى صور مع أفراد عائلته.'"
            ],
            "application/vnd.google.colaboratory.intrinsic+json": {
              "type": "string"
            }
          },
          "metadata": {},
          "execution_count": 24
        }
      ]
    },
    {
      "cell_type": "code",
      "source": [],
      "metadata": {
        "id": "b-2E5xim9vDc"
      },
      "execution_count": 24,
      "outputs": []
    },
    {
      "cell_type": "code",
      "source": [
        "en_summary = 'Day of Arafah. Al-Hussein bin Abdullah II bin Al-Hussein (June 28, 1994 / Muharram 19, 1415 AH), Crown Prince of the Hashemite Kingdom of Jordan since July 2, 2009, is (according to the line of succession to the Jordanian throne) the heir apparent to the throne of the Hashemite Kingdom of Jordan after his father, King Abdullah. the second. Prince Hussein is a member of the Hashemite family that has ruled Jordan since 1921 and whose lineage goes back to Hassan bin Ali bin Abi Talib, the grandson of the Prophet Muhammad from his daughter Fatima Al-Zahra.'\n",
        "\n",
        "text1= NER(en_summary)\n",
        "for word in text1.ents:\n",
        "    print(word.text, word.label_)"
      ],
      "metadata": {
        "colab": {
          "base_uri": "https://localhost:8080/",
          "height": 338
        },
        "id": "W9hJwuoE8qw7",
        "outputId": "1e63df34-91a9-4303-90ad-0896f05b5df8"
      },
      "execution_count": 25,
      "outputs": [
        {
          "output_type": "display_data",
          "data": {
            "text/plain": [
              "<IPython.core.display.Javascript object>"
            ],
            "application/javascript": [
              "google.colab.output.setIframeHeight(0, true, {maxHeight: 5000})"
            ]
          },
          "metadata": {}
        },
        {
          "output_type": "stream",
          "name": "stdout",
          "text": [
            "Arafah GPE\n",
            "Al-Hussein bin Abdullah II bin Al-Hussein PERSON\n",
            "June 28, 1994 DATE\n",
            "19, 1415 AH DATE\n",
            "Crown Prince PERSON\n",
            "the Hashemite Kingdom of Jordan GPE\n",
            "July 2, 2009 DATE\n",
            "Jordanian NORP\n",
            "the Hashemite Kingdom of Jordan GPE\n",
            "King Abdullah PERSON\n",
            "second ORDINAL\n",
            "Prince Hussein PERSON\n",
            "Hashemite NORP\n",
            "Jordan GPE\n",
            "1921 DATE\n",
            "Hassan bin Ali bin Abi Talib PERSON\n",
            "the Prophet Muhammad WORK_OF_ART\n",
            "Fatima Al-Zahra PERSON\n"
          ]
        }
      ]
    },
    {
      "cell_type": "code",
      "source": [
        "displacy.render(text1,style=\"ent\",jupyter=True)"
      ],
      "metadata": {
        "colab": {
          "base_uri": "https://localhost:8080/",
          "height": 157
        },
        "id": "YcEpLRi3-3_H",
        "outputId": "ee087eba-6e15-42ac-9928-bd6b256feb0c"
      },
      "execution_count": 26,
      "outputs": [
        {
          "output_type": "display_data",
          "data": {
            "text/plain": [
              "<IPython.core.display.Javascript object>"
            ],
            "application/javascript": [
              "google.colab.output.setIframeHeight(0, true, {maxHeight: 5000})"
            ]
          },
          "metadata": {}
        },
        {
          "output_type": "display_data",
          "data": {
            "text/plain": [
              "<IPython.core.display.HTML object>"
            ],
            "text/html": [
              "<span class=\"tex2jax_ignore\"><div class=\"entities\" style=\"line-height: 2.5; direction: ltr\">Day of \n",
              "<mark class=\"entity\" style=\"background: #feca74; padding: 0.45em 0.6em; margin: 0 0.25em; line-height: 1; border-radius: 0.35em;\">\n",
              "    Arafah\n",
              "    <span style=\"font-size: 0.8em; font-weight: bold; line-height: 1; border-radius: 0.35em; vertical-align: middle; margin-left: 0.5rem\">GPE</span>\n",
              "</mark>\n",
              ". \n",
              "<mark class=\"entity\" style=\"background: #aa9cfc; padding: 0.45em 0.6em; margin: 0 0.25em; line-height: 1; border-radius: 0.35em;\">\n",
              "    Al-Hussein bin Abdullah II bin Al-Hussein\n",
              "    <span style=\"font-size: 0.8em; font-weight: bold; line-height: 1; border-radius: 0.35em; vertical-align: middle; margin-left: 0.5rem\">PERSON</span>\n",
              "</mark>\n",
              " (\n",
              "<mark class=\"entity\" style=\"background: #bfe1d9; padding: 0.45em 0.6em; margin: 0 0.25em; line-height: 1; border-radius: 0.35em;\">\n",
              "    June 28, 1994\n",
              "    <span style=\"font-size: 0.8em; font-weight: bold; line-height: 1; border-radius: 0.35em; vertical-align: middle; margin-left: 0.5rem\">DATE</span>\n",
              "</mark>\n",
              " / Muharram \n",
              "<mark class=\"entity\" style=\"background: #bfe1d9; padding: 0.45em 0.6em; margin: 0 0.25em; line-height: 1; border-radius: 0.35em;\">\n",
              "    19, 1415 AH\n",
              "    <span style=\"font-size: 0.8em; font-weight: bold; line-height: 1; border-radius: 0.35em; vertical-align: middle; margin-left: 0.5rem\">DATE</span>\n",
              "</mark>\n",
              "), \n",
              "<mark class=\"entity\" style=\"background: #aa9cfc; padding: 0.45em 0.6em; margin: 0 0.25em; line-height: 1; border-radius: 0.35em;\">\n",
              "    Crown Prince\n",
              "    <span style=\"font-size: 0.8em; font-weight: bold; line-height: 1; border-radius: 0.35em; vertical-align: middle; margin-left: 0.5rem\">PERSON</span>\n",
              "</mark>\n",
              " of \n",
              "<mark class=\"entity\" style=\"background: #feca74; padding: 0.45em 0.6em; margin: 0 0.25em; line-height: 1; border-radius: 0.35em;\">\n",
              "    the Hashemite Kingdom of Jordan\n",
              "    <span style=\"font-size: 0.8em; font-weight: bold; line-height: 1; border-radius: 0.35em; vertical-align: middle; margin-left: 0.5rem\">GPE</span>\n",
              "</mark>\n",
              " since \n",
              "<mark class=\"entity\" style=\"background: #bfe1d9; padding: 0.45em 0.6em; margin: 0 0.25em; line-height: 1; border-radius: 0.35em;\">\n",
              "    July 2, 2009\n",
              "    <span style=\"font-size: 0.8em; font-weight: bold; line-height: 1; border-radius: 0.35em; vertical-align: middle; margin-left: 0.5rem\">DATE</span>\n",
              "</mark>\n",
              ", is (according to the line of succession to the \n",
              "<mark class=\"entity\" style=\"background: #c887fb; padding: 0.45em 0.6em; margin: 0 0.25em; line-height: 1; border-radius: 0.35em;\">\n",
              "    Jordanian\n",
              "    <span style=\"font-size: 0.8em; font-weight: bold; line-height: 1; border-radius: 0.35em; vertical-align: middle; margin-left: 0.5rem\">NORP</span>\n",
              "</mark>\n",
              " throne) the heir apparent to the throne of \n",
              "<mark class=\"entity\" style=\"background: #feca74; padding: 0.45em 0.6em; margin: 0 0.25em; line-height: 1; border-radius: 0.35em;\">\n",
              "    the Hashemite Kingdom of Jordan\n",
              "    <span style=\"font-size: 0.8em; font-weight: bold; line-height: 1; border-radius: 0.35em; vertical-align: middle; margin-left: 0.5rem\">GPE</span>\n",
              "</mark>\n",
              " after his father, \n",
              "<mark class=\"entity\" style=\"background: #aa9cfc; padding: 0.45em 0.6em; margin: 0 0.25em; line-height: 1; border-radius: 0.35em;\">\n",
              "    King Abdullah\n",
              "    <span style=\"font-size: 0.8em; font-weight: bold; line-height: 1; border-radius: 0.35em; vertical-align: middle; margin-left: 0.5rem\">PERSON</span>\n",
              "</mark>\n",
              ". the \n",
              "<mark class=\"entity\" style=\"background: #e4e7d2; padding: 0.45em 0.6em; margin: 0 0.25em; line-height: 1; border-radius: 0.35em;\">\n",
              "    second\n",
              "    <span style=\"font-size: 0.8em; font-weight: bold; line-height: 1; border-radius: 0.35em; vertical-align: middle; margin-left: 0.5rem\">ORDINAL</span>\n",
              "</mark>\n",
              ". \n",
              "<mark class=\"entity\" style=\"background: #aa9cfc; padding: 0.45em 0.6em; margin: 0 0.25em; line-height: 1; border-radius: 0.35em;\">\n",
              "    Prince Hussein\n",
              "    <span style=\"font-size: 0.8em; font-weight: bold; line-height: 1; border-radius: 0.35em; vertical-align: middle; margin-left: 0.5rem\">PERSON</span>\n",
              "</mark>\n",
              " is a member of the \n",
              "<mark class=\"entity\" style=\"background: #c887fb; padding: 0.45em 0.6em; margin: 0 0.25em; line-height: 1; border-radius: 0.35em;\">\n",
              "    Hashemite\n",
              "    <span style=\"font-size: 0.8em; font-weight: bold; line-height: 1; border-radius: 0.35em; vertical-align: middle; margin-left: 0.5rem\">NORP</span>\n",
              "</mark>\n",
              " family that has ruled \n",
              "<mark class=\"entity\" style=\"background: #feca74; padding: 0.45em 0.6em; margin: 0 0.25em; line-height: 1; border-radius: 0.35em;\">\n",
              "    Jordan\n",
              "    <span style=\"font-size: 0.8em; font-weight: bold; line-height: 1; border-radius: 0.35em; vertical-align: middle; margin-left: 0.5rem\">GPE</span>\n",
              "</mark>\n",
              " since \n",
              "<mark class=\"entity\" style=\"background: #bfe1d9; padding: 0.45em 0.6em; margin: 0 0.25em; line-height: 1; border-radius: 0.35em;\">\n",
              "    1921\n",
              "    <span style=\"font-size: 0.8em; font-weight: bold; line-height: 1; border-radius: 0.35em; vertical-align: middle; margin-left: 0.5rem\">DATE</span>\n",
              "</mark>\n",
              " and whose lineage goes back to \n",
              "<mark class=\"entity\" style=\"background: #aa9cfc; padding: 0.45em 0.6em; margin: 0 0.25em; line-height: 1; border-radius: 0.35em;\">\n",
              "    Hassan bin Ali bin Abi Talib\n",
              "    <span style=\"font-size: 0.8em; font-weight: bold; line-height: 1; border-radius: 0.35em; vertical-align: middle; margin-left: 0.5rem\">PERSON</span>\n",
              "</mark>\n",
              ", the grandson of \n",
              "<mark class=\"entity\" style=\"background: #f0d0ff; padding: 0.45em 0.6em; margin: 0 0.25em; line-height: 1; border-radius: 0.35em;\">\n",
              "    the Prophet Muhammad\n",
              "    <span style=\"font-size: 0.8em; font-weight: bold; line-height: 1; border-radius: 0.35em; vertical-align: middle; margin-left: 0.5rem\">WORK_OF_ART</span>\n",
              "</mark>\n",
              " from his daughter \n",
              "<mark class=\"entity\" style=\"background: #aa9cfc; padding: 0.45em 0.6em; margin: 0 0.25em; line-height: 1; border-radius: 0.35em;\">\n",
              "    Fatima Al-Zahra\n",
              "    <span style=\"font-size: 0.8em; font-weight: bold; line-height: 1; border-radius: 0.35em; vertical-align: middle; margin-left: 0.5rem\">PERSON</span>\n",
              "</mark>\n",
              ".</div></span>"
            ]
          },
          "metadata": {}
        }
      ]
    },
    {
      "cell_type": "code",
      "source": [
        "spacy.explain(\"GPE\")"
      ],
      "metadata": {
        "colab": {
          "base_uri": "https://localhost:8080/",
          "height": 35
        },
        "id": "VRs59yze_ZAn",
        "outputId": "d3419709-e52a-4220-c312-ae207e3fb81c"
      },
      "execution_count": 27,
      "outputs": [
        {
          "output_type": "display_data",
          "data": {
            "text/plain": [
              "<IPython.core.display.Javascript object>"
            ],
            "application/javascript": [
              "google.colab.output.setIframeHeight(0, true, {maxHeight: 5000})"
            ]
          },
          "metadata": {}
        },
        {
          "output_type": "execute_result",
          "data": {
            "text/plain": [
              "'Countries, cities, states'"
            ],
            "application/vnd.google.colaboratory.intrinsic+json": {
              "type": "string"
            }
          },
          "metadata": {},
          "execution_count": 27
        }
      ]
    },
    {
      "cell_type": "code",
      "source": [
        "spacy.explain(\"ORDINAL\")"
      ],
      "metadata": {
        "colab": {
          "base_uri": "https://localhost:8080/",
          "height": 35
        },
        "id": "-dTLFnh__ff4",
        "outputId": "45a9b743-1fd0-4c43-b5f4-b6b2620b7d1c"
      },
      "execution_count": 28,
      "outputs": [
        {
          "output_type": "display_data",
          "data": {
            "text/plain": [
              "<IPython.core.display.Javascript object>"
            ],
            "application/javascript": [
              "google.colab.output.setIframeHeight(0, true, {maxHeight: 5000})"
            ]
          },
          "metadata": {}
        },
        {
          "output_type": "execute_result",
          "data": {
            "text/plain": [
              "'\"first\", \"second\", etc.'"
            ],
            "application/vnd.google.colaboratory.intrinsic+json": {
              "type": "string"
            }
          },
          "metadata": {},
          "execution_count": 28
        }
      ]
    },
    {
      "cell_type": "code",
      "source": [
        "spacy.explain(\"NORP\")"
      ],
      "metadata": {
        "colab": {
          "base_uri": "https://localhost:8080/",
          "height": 35
        },
        "id": "YZvfL4da_jLw",
        "outputId": "b5438fc1-fc47-4307-ba8f-8ff20b1f578c"
      },
      "execution_count": 29,
      "outputs": [
        {
          "output_type": "display_data",
          "data": {
            "text/plain": [
              "<IPython.core.display.Javascript object>"
            ],
            "application/javascript": [
              "google.colab.output.setIframeHeight(0, true, {maxHeight: 5000})"
            ]
          },
          "metadata": {}
        },
        {
          "output_type": "execute_result",
          "data": {
            "text/plain": [
              "'Nationalities or religious or political groups'"
            ],
            "application/vnd.google.colaboratory.intrinsic+json": {
              "type": "string"
            }
          },
          "metadata": {},
          "execution_count": 29
        }
      ]
    },
    {
      "cell_type": "code",
      "source": [
        "spacy.explain(\"ORG\")"
      ],
      "metadata": {
        "colab": {
          "base_uri": "https://localhost:8080/",
          "height": 35
        },
        "id": "Bp-jQg_18fJl",
        "outputId": "f5d4d1ba-2f24-4d1a-9e86-b97cdfb56d3a"
      },
      "execution_count": 30,
      "outputs": [
        {
          "output_type": "display_data",
          "data": {
            "text/plain": [
              "<IPython.core.display.Javascript object>"
            ],
            "application/javascript": [
              "google.colab.output.setIframeHeight(0, true, {maxHeight: 5000})"
            ]
          },
          "metadata": {}
        },
        {
          "output_type": "execute_result",
          "data": {
            "text/plain": [
              "'Companies, agencies, institutions, etc.'"
            ],
            "application/vnd.google.colaboratory.intrinsic+json": {
              "type": "string"
            }
          },
          "metadata": {},
          "execution_count": 30
        }
      ]
    },
    {
      "cell_type": "code",
      "source": [
        "spacy.explain(\"WORK_OF_ART\")"
      ],
      "metadata": {
        "colab": {
          "base_uri": "https://localhost:8080/",
          "height": 35
        },
        "id": "k3EK3P3X8a0P",
        "outputId": "2064c7eb-f95d-4c18-c0e6-7b0ca1af6e7f"
      },
      "execution_count": 31,
      "outputs": [
        {
          "output_type": "display_data",
          "data": {
            "text/plain": [
              "<IPython.core.display.Javascript object>"
            ],
            "application/javascript": [
              "google.colab.output.setIframeHeight(0, true, {maxHeight: 5000})"
            ]
          },
          "metadata": {}
        },
        {
          "output_type": "execute_result",
          "data": {
            "text/plain": [
              "'Titles of books, songs, etc.'"
            ],
            "application/vnd.google.colaboratory.intrinsic+json": {
              "type": "string"
            }
          },
          "metadata": {},
          "execution_count": 31
        }
      ]
    },
    {
      "cell_type": "code",
      "source": [
        "spacy.explain(\"PERSON\")"
      ],
      "metadata": {
        "colab": {
          "base_uri": "https://localhost:8080/",
          "height": 35
        },
        "id": "EbkElGDi_QuF",
        "outputId": "5645de9e-8746-4c80-d176-c934e9afe75f"
      },
      "execution_count": 32,
      "outputs": [
        {
          "output_type": "display_data",
          "data": {
            "text/plain": [
              "<IPython.core.display.Javascript object>"
            ],
            "application/javascript": [
              "google.colab.output.setIframeHeight(0, true, {maxHeight: 5000})"
            ]
          },
          "metadata": {}
        },
        {
          "output_type": "execute_result",
          "data": {
            "text/plain": [
              "'People, including fictional'"
            ],
            "application/vnd.google.colaboratory.intrinsic+json": {
              "type": "string"
            }
          },
          "metadata": {},
          "execution_count": 32
        }
      ]
    },
    {
      "cell_type": "code",
      "source": [
        "en_summary = 'Salat al-Istikhaara (Arabic: صلاة الاستخارة), which translates to Prayer of Seeking Counsel, is a prayer recited by Muslims who are in need of guidance from God Almighty (Allah) when facing a decision in their life. The prayer, known as salah in Arabic is performed in two units of prayer or rakaah followed by the supplication of Salat al-Istikhaara. '\n",
        "\n",
        "text1= NER(en_summary)\n",
        "for word in text1.ents:\n",
        "    print(word.text, word.label_)"
      ],
      "metadata": {
        "colab": {
          "base_uri": "https://localhost:8080/",
          "height": 160
        },
        "id": "DZ68bkyd_5hX",
        "outputId": "b16e1706-261a-4a77-8c92-90e0f0dd68ca"
      },
      "execution_count": 33,
      "outputs": [
        {
          "output_type": "display_data",
          "data": {
            "text/plain": [
              "<IPython.core.display.Javascript object>"
            ],
            "application/javascript": [
              "google.colab.output.setIframeHeight(0, true, {maxHeight: 5000})"
            ]
          },
          "metadata": {}
        },
        {
          "output_type": "stream",
          "name": "stdout",
          "text": [
            "Salat al-Istikhaara PERSON\n",
            "Arabic NORP\n",
            "Prayer of Seeking Counsel ORG\n",
            "Muslims NORP\n",
            "salah NORP\n",
            "Arabic LANGUAGE\n",
            "two CARDINAL\n",
            "Salat al-Istikhaara PERSON\n"
          ]
        }
      ]
    },
    {
      "cell_type": "code",
      "source": [],
      "metadata": {
        "id": "Rl7IJX3tAm8W"
      },
      "execution_count": 33,
      "outputs": []
    },
    {
      "cell_type": "code",
      "source": [
        "displacy.render(text1,style=\"ent\",jupyter=True)"
      ],
      "metadata": {
        "colab": {
          "base_uri": "https://localhost:8080/",
          "height": 122
        },
        "id": "tLQ55dkHAGGI",
        "outputId": "a0d7fc2d-7c24-401c-8b4b-f32cd5f4f472"
      },
      "execution_count": 34,
      "outputs": [
        {
          "output_type": "display_data",
          "data": {
            "text/plain": [
              "<IPython.core.display.Javascript object>"
            ],
            "application/javascript": [
              "google.colab.output.setIframeHeight(0, true, {maxHeight: 5000})"
            ]
          },
          "metadata": {}
        },
        {
          "output_type": "display_data",
          "data": {
            "text/plain": [
              "<IPython.core.display.HTML object>"
            ],
            "text/html": [
              "<span class=\"tex2jax_ignore\"><div class=\"entities\" style=\"line-height: 2.5; direction: ltr\">\n",
              "<mark class=\"entity\" style=\"background: #aa9cfc; padding: 0.45em 0.6em; margin: 0 0.25em; line-height: 1; border-radius: 0.35em;\">\n",
              "    Salat al-Istikhaara\n",
              "    <span style=\"font-size: 0.8em; font-weight: bold; line-height: 1; border-radius: 0.35em; vertical-align: middle; margin-left: 0.5rem\">PERSON</span>\n",
              "</mark>\n",
              " (\n",
              "<mark class=\"entity\" style=\"background: #c887fb; padding: 0.45em 0.6em; margin: 0 0.25em; line-height: 1; border-radius: 0.35em;\">\n",
              "    Arabic\n",
              "    <span style=\"font-size: 0.8em; font-weight: bold; line-height: 1; border-radius: 0.35em; vertical-align: middle; margin-left: 0.5rem\">NORP</span>\n",
              "</mark>\n",
              ": صلاة الاستخارة), which translates to \n",
              "<mark class=\"entity\" style=\"background: #7aecec; padding: 0.45em 0.6em; margin: 0 0.25em; line-height: 1; border-radius: 0.35em;\">\n",
              "    Prayer of Seeking Counsel\n",
              "    <span style=\"font-size: 0.8em; font-weight: bold; line-height: 1; border-radius: 0.35em; vertical-align: middle; margin-left: 0.5rem\">ORG</span>\n",
              "</mark>\n",
              ", is a prayer recited by \n",
              "<mark class=\"entity\" style=\"background: #c887fb; padding: 0.45em 0.6em; margin: 0 0.25em; line-height: 1; border-radius: 0.35em;\">\n",
              "    Muslims\n",
              "    <span style=\"font-size: 0.8em; font-weight: bold; line-height: 1; border-radius: 0.35em; vertical-align: middle; margin-left: 0.5rem\">NORP</span>\n",
              "</mark>\n",
              " who are in need of guidance from God Almighty (Allah) when facing a decision in their life. The prayer, known as \n",
              "<mark class=\"entity\" style=\"background: #c887fb; padding: 0.45em 0.6em; margin: 0 0.25em; line-height: 1; border-radius: 0.35em;\">\n",
              "    salah\n",
              "    <span style=\"font-size: 0.8em; font-weight: bold; line-height: 1; border-radius: 0.35em; vertical-align: middle; margin-left: 0.5rem\">NORP</span>\n",
              "</mark>\n",
              " in \n",
              "<mark class=\"entity\" style=\"background: #ff8197; padding: 0.45em 0.6em; margin: 0 0.25em; line-height: 1; border-radius: 0.35em;\">\n",
              "    Arabic\n",
              "    <span style=\"font-size: 0.8em; font-weight: bold; line-height: 1; border-radius: 0.35em; vertical-align: middle; margin-left: 0.5rem\">LANGUAGE</span>\n",
              "</mark>\n",
              " is performed in \n",
              "<mark class=\"entity\" style=\"background: #e4e7d2; padding: 0.45em 0.6em; margin: 0 0.25em; line-height: 1; border-radius: 0.35em;\">\n",
              "    two\n",
              "    <span style=\"font-size: 0.8em; font-weight: bold; line-height: 1; border-radius: 0.35em; vertical-align: middle; margin-left: 0.5rem\">CARDINAL</span>\n",
              "</mark>\n",
              " units of prayer or rakaah followed by the supplication of \n",
              "<mark class=\"entity\" style=\"background: #aa9cfc; padding: 0.45em 0.6em; margin: 0 0.25em; line-height: 1; border-radius: 0.35em;\">\n",
              "    Salat al-Istikhaara\n",
              "    <span style=\"font-size: 0.8em; font-weight: bold; line-height: 1; border-radius: 0.35em; vertical-align: middle; margin-left: 0.5rem\">PERSON</span>\n",
              "</mark>\n",
              ". </div></span>"
            ]
          },
          "metadata": {}
        }
      ]
    },
    {
      "cell_type": "code",
      "source": [
        "en_summary = 'El Clásico (in Spanish, also in lowercase letters;[1] Spanish pronunciation: [el ˈklasiko]) or El Clàssic (in Catalan,[2] pronounced [əl ˈklasik]), both meaning \"The Classic\", is the name given to any football match between rival clubs Barcelona and Real Madrid. Originally referring to competitions held in the Spanish championship, the term now includes every match between the clubs, such as those in the UEFA Champions League, Supercopa de España and Copa del Rey. It is considered one of the biggest club football games in the world and is among the most viewed annual sporting events.[3][4][5][6] A fixture known for its intensity, it has featured memorable goal celebrations from both teams, often involving mockery from both sides.[7] '\n",
        "\n",
        "text1= NER(en_summary)\n",
        "for word in text1.ents:\n",
        "    print(word.text, word.label_)"
      ],
      "metadata": {
        "colab": {
          "base_uri": "https://localhost:8080/",
          "height": 213
        },
        "id": "MbdoQc1FAn1u",
        "outputId": "bc07b9dc-ea8b-4cfb-e9b1-4f1434b71fde"
      },
      "execution_count": 35,
      "outputs": [
        {
          "output_type": "display_data",
          "data": {
            "text/plain": [
              "<IPython.core.display.Javascript object>"
            ],
            "application/javascript": [
              "google.colab.output.setIframeHeight(0, true, {maxHeight: 5000})"
            ]
          },
          "metadata": {}
        },
        {
          "output_type": "stream",
          "name": "stdout",
          "text": [
            "El Clásico ORG\n",
            "Spanish LANGUAGE\n",
            "Spanish NORP\n",
            "El Clàssic ORG\n",
            "Classic PRODUCT\n",
            "Barcelona ORG\n",
            "Real Madrid ORG\n",
            "Spanish NORP\n",
            "the UEFA Champions League ORG\n",
            "Supercopa de España ORG\n",
            "annual DATE\n"
          ]
        }
      ]
    },
    {
      "cell_type": "code",
      "source": [
        "en_summary = 'Ashura (Arabic: عَاشُورَاء, ʿĀshūrāʾ, [ʕaːʃuːˈraːʔ]) is a day of commemoration in Islam. It occurs annually on the tenth of Muharram, the first month of the Islamic calendar. For Sunni Muslims, Ashura marks the parting of the Red Sea by Moses and the salvation of the Israelites. Also on this day, Noah disembarked from the Ark, God forgave Adam, and Joseph was released from prison, among various other auspicious events on Ashura in Sunni tradition. Ashura is celebrated in Sunni Islam through supererogatory fasting and other acceptable expressions of joy. In some Sunni communities, the annual Ashura festivities include carnivals, bonfires, and special dishes, even though some Sunni scholars have criticized such practices. '\n",
        "en_summary = 'Ashura'\n",
        "\n",
        "text1= NER(en_summary)\n",
        "for word in text1.ents:\n",
        "    print(word.text, word.label_)"
      ],
      "metadata": {
        "colab": {
          "base_uri": "https://localhost:8080/",
          "height": 35
        },
        "id": "BalHvvy5E5_A",
        "outputId": "4871ac72-5b9a-4935-b668-1cb5f82ebb36"
      },
      "execution_count": 36,
      "outputs": [
        {
          "output_type": "display_data",
          "data": {
            "text/plain": [
              "<IPython.core.display.Javascript object>"
            ],
            "application/javascript": [
              "google.colab.output.setIframeHeight(0, true, {maxHeight: 5000})"
            ]
          },
          "metadata": {}
        },
        {
          "output_type": "stream",
          "name": "stdout",
          "text": [
            "Ashura GPE\n"
          ]
        }
      ]
    },
    {
      "cell_type": "code",
      "source": [
        "displacy.render(text1,style=\"ent\",jupyter=True)"
      ],
      "metadata": {
        "colab": {
          "base_uri": "https://localhost:8080/",
          "height": 52
        },
        "id": "iH_Tns_BFCnf",
        "outputId": "afdc97de-e49a-444b-888d-4d3e59f5f735"
      },
      "execution_count": 37,
      "outputs": [
        {
          "output_type": "display_data",
          "data": {
            "text/plain": [
              "<IPython.core.display.Javascript object>"
            ],
            "application/javascript": [
              "google.colab.output.setIframeHeight(0, true, {maxHeight: 5000})"
            ]
          },
          "metadata": {}
        },
        {
          "output_type": "display_data",
          "data": {
            "text/plain": [
              "<IPython.core.display.HTML object>"
            ],
            "text/html": [
              "<span class=\"tex2jax_ignore\"><div class=\"entities\" style=\"line-height: 2.5; direction: ltr\">\n",
              "<mark class=\"entity\" style=\"background: #feca74; padding: 0.45em 0.6em; margin: 0 0.25em; line-height: 1; border-radius: 0.35em;\">\n",
              "    Ashura\n",
              "    <span style=\"font-size: 0.8em; font-weight: bold; line-height: 1; border-radius: 0.35em; vertical-align: middle; margin-left: 0.5rem\">GPE</span>\n",
              "</mark>\n",
              "</div></span>"
            ]
          },
          "metadata": {}
        }
      ]
    },
    {
      "cell_type": "markdown",
      "source": [
        "## Fetching the main image"
      ],
      "metadata": {
        "id": "KtbrNEuDbnV6"
      }
    },
    {
      "cell_type": "code",
      "source": [
        "import urllib.request as urllib2\n",
        "import time\n",
        "from datetime import datetime\n",
        "import json\n",
        "from urllib.parse import urlencode, quote_plus"
      ],
      "metadata": {
        "colab": {
          "base_uri": "https://localhost:8080/",
          "height": 17
        },
        "id": "7n-WkQK9YnhR",
        "outputId": "e120d95a-0677-43b5-85eb-744463b1d39e"
      },
      "execution_count": 38,
      "outputs": [
        {
          "output_type": "display_data",
          "data": {
            "text/plain": [
              "<IPython.core.display.Javascript object>"
            ],
            "application/javascript": [
              "google.colab.output.setIframeHeight(0, true, {maxHeight: 5000})"
            ]
          },
          "metadata": {}
        }
      ]
    },
    {
      "cell_type": "code",
      "source": [
        "# https://en.wikipedia.org/w/api.php?action=query&titles=Hussein,_Crown_Prince_of_Jordan&prop=pageimages&format=json&pithumbsize=100\n",
        "\n",
        "# https://ar.wikipedia.org/w/api.php?action=query&prop=pageimages&format=json&piprop=original&titles=%D8%A7%D9%84%D8%AD%D8%B3%D9%8A%D9%86_%D8%A8%D9%86_%D8%B9%D8%A8%D8%AF_%D8%A7%D9%84%D9%84%D9%87_%D8%A7%D9%84%D8%AB%D8%A7%D9%86%D9%8A\n",
        "\n",
        "lang = 'en'\n",
        "page_title = 'Rosetta_Stone'\n",
        "\n",
        "lang = 'ar'\n",
        "page_title = 'الحسين بن عبد الله الثاني'\n",
        "\n",
        "\n",
        "\n",
        "TOP_API_URL = 'https://{lang}.wikipedia.org/w/api.php?action=query&prop=pageimages&format=json&piprop=original&titles={page_title}'\n",
        "\n",
        "TOP_API_URL"
      ],
      "metadata": {
        "colab": {
          "base_uri": "https://localhost:8080/",
          "height": 35
        },
        "id": "ho9kkjd4X1ra",
        "outputId": "4a42fdf3-d5e5-4497-cb16-9d8ece738cde"
      },
      "execution_count": 39,
      "outputs": [
        {
          "output_type": "display_data",
          "data": {
            "text/plain": [
              "<IPython.core.display.Javascript object>"
            ],
            "application/javascript": [
              "google.colab.output.setIframeHeight(0, true, {maxHeight: 5000})"
            ]
          },
          "metadata": {}
        },
        {
          "output_type": "execute_result",
          "data": {
            "text/plain": [
              "'https://{lang}.wikipedia.org/w/api.php?action=query&prop=pageimages&format=json&piprop=original&titles={page_title}'"
            ],
            "application/vnd.google.colaboratory.intrinsic+json": {
              "type": "string"
            }
          },
          "metadata": {},
          "execution_count": 39
        }
      ]
    },
    {
      "cell_type": "code",
      "source": [
        "url = TOP_API_URL.format(lang=lang, page_title=page_title)\n",
        "url"
      ],
      "metadata": {
        "colab": {
          "base_uri": "https://localhost:8080/",
          "height": 35
        },
        "id": "1y9-JS4LYWOD",
        "outputId": "f3d17b8b-933a-441a-d71a-3ca382d1dc4b"
      },
      "execution_count": 40,
      "outputs": [
        {
          "output_type": "display_data",
          "data": {
            "text/plain": [
              "<IPython.core.display.Javascript object>"
            ],
            "application/javascript": [
              "google.colab.output.setIframeHeight(0, true, {maxHeight: 5000})"
            ]
          },
          "metadata": {}
        },
        {
          "output_type": "execute_result",
          "data": {
            "text/plain": [
              "'https://ar.wikipedia.org/w/api.php?action=query&prop=pageimages&format=json&piprop=original&titles=الحسين بن عبد الله الثاني'"
            ],
            "application/vnd.google.colaboratory.intrinsic+json": {
              "type": "string"
            }
          },
          "metadata": {},
          "execution_count": 40
        }
      ]
    },
    {
      "cell_type": "code",
      "source": [
        "resp = urllib2.urlopen(url)\n",
        "resp"
      ],
      "metadata": {
        "colab": {
          "base_uri": "https://localhost:8080/",
          "height": 346
        },
        "id": "n3gWCxy6ikoH",
        "outputId": "e2390331-3139-4ed0-da06-2b822032882c"
      },
      "execution_count": 41,
      "outputs": [
        {
          "output_type": "display_data",
          "data": {
            "text/plain": [
              "<IPython.core.display.Javascript object>"
            ],
            "application/javascript": [
              "google.colab.output.setIframeHeight(0, true, {maxHeight: 5000})"
            ]
          },
          "metadata": {}
        },
        {
          "output_type": "error",
          "ename": "InvalidURL",
          "evalue": "ignored",
          "traceback": [
            "\u001b[0;31m---------------------------------------------------------------------------\u001b[0m",
            "\u001b[0;31mInvalidURL\u001b[0m                                Traceback (most recent call last)",
            "\u001b[0;32m<ipython-input-41-3d72082625e9>\u001b[0m in \u001b[0;36m<cell line: 1>\u001b[0;34m()\u001b[0m\n\u001b[0;32m----> 1\u001b[0;31m \u001b[0mresp\u001b[0m \u001b[0;34m=\u001b[0m \u001b[0murllib2\u001b[0m\u001b[0;34m.\u001b[0m\u001b[0murlopen\u001b[0m\u001b[0;34m(\u001b[0m\u001b[0murl\u001b[0m\u001b[0;34m)\u001b[0m\u001b[0;34m\u001b[0m\u001b[0;34m\u001b[0m\u001b[0m\n\u001b[0m\u001b[1;32m      2\u001b[0m \u001b[0mresp\u001b[0m\u001b[0;34m\u001b[0m\u001b[0;34m\u001b[0m\u001b[0m\n",
            "\u001b[0;32m/usr/lib/python3.10/urllib/request.py\u001b[0m in \u001b[0;36murlopen\u001b[0;34m(url, data, timeout, cafile, capath, cadefault, context)\u001b[0m\n\u001b[1;32m    214\u001b[0m     \u001b[0;32melse\u001b[0m\u001b[0;34m:\u001b[0m\u001b[0;34m\u001b[0m\u001b[0;34m\u001b[0m\u001b[0m\n\u001b[1;32m    215\u001b[0m         \u001b[0mopener\u001b[0m \u001b[0;34m=\u001b[0m \u001b[0m_opener\u001b[0m\u001b[0;34m\u001b[0m\u001b[0;34m\u001b[0m\u001b[0m\n\u001b[0;32m--> 216\u001b[0;31m     \u001b[0;32mreturn\u001b[0m \u001b[0mopener\u001b[0m\u001b[0;34m.\u001b[0m\u001b[0mopen\u001b[0m\u001b[0;34m(\u001b[0m\u001b[0murl\u001b[0m\u001b[0;34m,\u001b[0m \u001b[0mdata\u001b[0m\u001b[0;34m,\u001b[0m \u001b[0mtimeout\u001b[0m\u001b[0;34m)\u001b[0m\u001b[0;34m\u001b[0m\u001b[0;34m\u001b[0m\u001b[0m\n\u001b[0m\u001b[1;32m    217\u001b[0m \u001b[0;34m\u001b[0m\u001b[0m\n\u001b[1;32m    218\u001b[0m \u001b[0;32mdef\u001b[0m \u001b[0minstall_opener\u001b[0m\u001b[0;34m(\u001b[0m\u001b[0mopener\u001b[0m\u001b[0;34m)\u001b[0m\u001b[0;34m:\u001b[0m\u001b[0;34m\u001b[0m\u001b[0;34m\u001b[0m\u001b[0m\n",
            "\u001b[0;32m/usr/lib/python3.10/urllib/request.py\u001b[0m in \u001b[0;36mopen\u001b[0;34m(self, fullurl, data, timeout)\u001b[0m\n\u001b[1;32m    517\u001b[0m \u001b[0;34m\u001b[0m\u001b[0m\n\u001b[1;32m    518\u001b[0m         \u001b[0msys\u001b[0m\u001b[0;34m.\u001b[0m\u001b[0maudit\u001b[0m\u001b[0;34m(\u001b[0m\u001b[0;34m'urllib.Request'\u001b[0m\u001b[0;34m,\u001b[0m \u001b[0mreq\u001b[0m\u001b[0;34m.\u001b[0m\u001b[0mfull_url\u001b[0m\u001b[0;34m,\u001b[0m \u001b[0mreq\u001b[0m\u001b[0;34m.\u001b[0m\u001b[0mdata\u001b[0m\u001b[0;34m,\u001b[0m \u001b[0mreq\u001b[0m\u001b[0;34m.\u001b[0m\u001b[0mheaders\u001b[0m\u001b[0;34m,\u001b[0m \u001b[0mreq\u001b[0m\u001b[0;34m.\u001b[0m\u001b[0mget_method\u001b[0m\u001b[0;34m(\u001b[0m\u001b[0;34m)\u001b[0m\u001b[0;34m)\u001b[0m\u001b[0;34m\u001b[0m\u001b[0;34m\u001b[0m\u001b[0m\n\u001b[0;32m--> 519\u001b[0;31m         \u001b[0mresponse\u001b[0m \u001b[0;34m=\u001b[0m \u001b[0mself\u001b[0m\u001b[0;34m.\u001b[0m\u001b[0m_open\u001b[0m\u001b[0;34m(\u001b[0m\u001b[0mreq\u001b[0m\u001b[0;34m,\u001b[0m \u001b[0mdata\u001b[0m\u001b[0;34m)\u001b[0m\u001b[0;34m\u001b[0m\u001b[0;34m\u001b[0m\u001b[0m\n\u001b[0m\u001b[1;32m    520\u001b[0m \u001b[0;34m\u001b[0m\u001b[0m\n\u001b[1;32m    521\u001b[0m         \u001b[0;31m# post-process response\u001b[0m\u001b[0;34m\u001b[0m\u001b[0;34m\u001b[0m\u001b[0m\n",
            "\u001b[0;32m/usr/lib/python3.10/urllib/request.py\u001b[0m in \u001b[0;36m_open\u001b[0;34m(self, req, data)\u001b[0m\n\u001b[1;32m    534\u001b[0m \u001b[0;34m\u001b[0m\u001b[0m\n\u001b[1;32m    535\u001b[0m         \u001b[0mprotocol\u001b[0m \u001b[0;34m=\u001b[0m \u001b[0mreq\u001b[0m\u001b[0;34m.\u001b[0m\u001b[0mtype\u001b[0m\u001b[0;34m\u001b[0m\u001b[0;34m\u001b[0m\u001b[0m\n\u001b[0;32m--> 536\u001b[0;31m         result = self._call_chain(self.handle_open, protocol, protocol +\n\u001b[0m\u001b[1;32m    537\u001b[0m                                   '_open', req)\n\u001b[1;32m    538\u001b[0m         \u001b[0;32mif\u001b[0m \u001b[0mresult\u001b[0m\u001b[0;34m:\u001b[0m\u001b[0;34m\u001b[0m\u001b[0;34m\u001b[0m\u001b[0m\n",
            "\u001b[0;32m/usr/lib/python3.10/urllib/request.py\u001b[0m in \u001b[0;36m_call_chain\u001b[0;34m(self, chain, kind, meth_name, *args)\u001b[0m\n\u001b[1;32m    494\u001b[0m         \u001b[0;32mfor\u001b[0m \u001b[0mhandler\u001b[0m \u001b[0;32min\u001b[0m \u001b[0mhandlers\u001b[0m\u001b[0;34m:\u001b[0m\u001b[0;34m\u001b[0m\u001b[0;34m\u001b[0m\u001b[0m\n\u001b[1;32m    495\u001b[0m             \u001b[0mfunc\u001b[0m \u001b[0;34m=\u001b[0m \u001b[0mgetattr\u001b[0m\u001b[0;34m(\u001b[0m\u001b[0mhandler\u001b[0m\u001b[0;34m,\u001b[0m \u001b[0mmeth_name\u001b[0m\u001b[0;34m)\u001b[0m\u001b[0;34m\u001b[0m\u001b[0;34m\u001b[0m\u001b[0m\n\u001b[0;32m--> 496\u001b[0;31m             \u001b[0mresult\u001b[0m \u001b[0;34m=\u001b[0m \u001b[0mfunc\u001b[0m\u001b[0;34m(\u001b[0m\u001b[0;34m*\u001b[0m\u001b[0margs\u001b[0m\u001b[0;34m)\u001b[0m\u001b[0;34m\u001b[0m\u001b[0;34m\u001b[0m\u001b[0m\n\u001b[0m\u001b[1;32m    497\u001b[0m             \u001b[0;32mif\u001b[0m \u001b[0mresult\u001b[0m \u001b[0;32mis\u001b[0m \u001b[0;32mnot\u001b[0m \u001b[0;32mNone\u001b[0m\u001b[0;34m:\u001b[0m\u001b[0;34m\u001b[0m\u001b[0;34m\u001b[0m\u001b[0m\n\u001b[1;32m    498\u001b[0m                 \u001b[0;32mreturn\u001b[0m \u001b[0mresult\u001b[0m\u001b[0;34m\u001b[0m\u001b[0;34m\u001b[0m\u001b[0m\n",
            "\u001b[0;32m/usr/lib/python3.10/urllib/request.py\u001b[0m in \u001b[0;36mhttps_open\u001b[0;34m(self, req)\u001b[0m\n\u001b[1;32m   1389\u001b[0m \u001b[0;34m\u001b[0m\u001b[0m\n\u001b[1;32m   1390\u001b[0m         \u001b[0;32mdef\u001b[0m \u001b[0mhttps_open\u001b[0m\u001b[0;34m(\u001b[0m\u001b[0mself\u001b[0m\u001b[0;34m,\u001b[0m \u001b[0mreq\u001b[0m\u001b[0;34m)\u001b[0m\u001b[0;34m:\u001b[0m\u001b[0;34m\u001b[0m\u001b[0;34m\u001b[0m\u001b[0m\n\u001b[0;32m-> 1391\u001b[0;31m             return self.do_open(http.client.HTTPSConnection, req,\n\u001b[0m\u001b[1;32m   1392\u001b[0m                 context=self._context, check_hostname=self._check_hostname)\n\u001b[1;32m   1393\u001b[0m \u001b[0;34m\u001b[0m\u001b[0m\n",
            "\u001b[0;32m/usr/lib/python3.10/urllib/request.py\u001b[0m in \u001b[0;36mdo_open\u001b[0;34m(self, http_class, req, **http_conn_args)\u001b[0m\n\u001b[1;32m   1346\u001b[0m         \u001b[0;32mtry\u001b[0m\u001b[0;34m:\u001b[0m\u001b[0;34m\u001b[0m\u001b[0;34m\u001b[0m\u001b[0m\n\u001b[1;32m   1347\u001b[0m             \u001b[0;32mtry\u001b[0m\u001b[0;34m:\u001b[0m\u001b[0;34m\u001b[0m\u001b[0;34m\u001b[0m\u001b[0m\n\u001b[0;32m-> 1348\u001b[0;31m                 h.request(req.get_method(), req.selector, req.data, headers,\n\u001b[0m\u001b[1;32m   1349\u001b[0m                           encode_chunked=req.has_header('Transfer-encoding'))\n\u001b[1;32m   1350\u001b[0m             \u001b[0;32mexcept\u001b[0m \u001b[0mOSError\u001b[0m \u001b[0;32mas\u001b[0m \u001b[0merr\u001b[0m\u001b[0;34m:\u001b[0m \u001b[0;31m# timeout error\u001b[0m\u001b[0;34m\u001b[0m\u001b[0;34m\u001b[0m\u001b[0m\n",
            "\u001b[0;32m/usr/lib/python3.10/http/client.py\u001b[0m in \u001b[0;36mrequest\u001b[0;34m(self, method, url, body, headers, encode_chunked)\u001b[0m\n\u001b[1;32m   1281\u001b[0m                 encode_chunked=False):\n\u001b[1;32m   1282\u001b[0m         \u001b[0;34m\"\"\"Send a complete request to the server.\"\"\"\u001b[0m\u001b[0;34m\u001b[0m\u001b[0;34m\u001b[0m\u001b[0m\n\u001b[0;32m-> 1283\u001b[0;31m         \u001b[0mself\u001b[0m\u001b[0;34m.\u001b[0m\u001b[0m_send_request\u001b[0m\u001b[0;34m(\u001b[0m\u001b[0mmethod\u001b[0m\u001b[0;34m,\u001b[0m \u001b[0murl\u001b[0m\u001b[0;34m,\u001b[0m \u001b[0mbody\u001b[0m\u001b[0;34m,\u001b[0m \u001b[0mheaders\u001b[0m\u001b[0;34m,\u001b[0m \u001b[0mencode_chunked\u001b[0m\u001b[0;34m)\u001b[0m\u001b[0;34m\u001b[0m\u001b[0;34m\u001b[0m\u001b[0m\n\u001b[0m\u001b[1;32m   1284\u001b[0m \u001b[0;34m\u001b[0m\u001b[0m\n\u001b[1;32m   1285\u001b[0m     \u001b[0;32mdef\u001b[0m \u001b[0m_send_request\u001b[0m\u001b[0;34m(\u001b[0m\u001b[0mself\u001b[0m\u001b[0;34m,\u001b[0m \u001b[0mmethod\u001b[0m\u001b[0;34m,\u001b[0m \u001b[0murl\u001b[0m\u001b[0;34m,\u001b[0m \u001b[0mbody\u001b[0m\u001b[0;34m,\u001b[0m \u001b[0mheaders\u001b[0m\u001b[0;34m,\u001b[0m \u001b[0mencode_chunked\u001b[0m\u001b[0;34m)\u001b[0m\u001b[0;34m:\u001b[0m\u001b[0;34m\u001b[0m\u001b[0;34m\u001b[0m\u001b[0m\n",
            "\u001b[0;32m/usr/lib/python3.10/http/client.py\u001b[0m in \u001b[0;36m_send_request\u001b[0;34m(self, method, url, body, headers, encode_chunked)\u001b[0m\n\u001b[1;32m   1292\u001b[0m             \u001b[0mskips\u001b[0m\u001b[0;34m[\u001b[0m\u001b[0;34m'skip_accept_encoding'\u001b[0m\u001b[0;34m]\u001b[0m \u001b[0;34m=\u001b[0m \u001b[0;36m1\u001b[0m\u001b[0;34m\u001b[0m\u001b[0;34m\u001b[0m\u001b[0m\n\u001b[1;32m   1293\u001b[0m \u001b[0;34m\u001b[0m\u001b[0m\n\u001b[0;32m-> 1294\u001b[0;31m         \u001b[0mself\u001b[0m\u001b[0;34m.\u001b[0m\u001b[0mputrequest\u001b[0m\u001b[0;34m(\u001b[0m\u001b[0mmethod\u001b[0m\u001b[0;34m,\u001b[0m \u001b[0murl\u001b[0m\u001b[0;34m,\u001b[0m \u001b[0;34m**\u001b[0m\u001b[0mskips\u001b[0m\u001b[0;34m)\u001b[0m\u001b[0;34m\u001b[0m\u001b[0;34m\u001b[0m\u001b[0m\n\u001b[0m\u001b[1;32m   1295\u001b[0m \u001b[0;34m\u001b[0m\u001b[0m\n\u001b[1;32m   1296\u001b[0m         \u001b[0;31m# chunked encoding will happen if HTTP/1.1 is used and either\u001b[0m\u001b[0;34m\u001b[0m\u001b[0;34m\u001b[0m\u001b[0m\n",
            "\u001b[0;32m/usr/lib/python3.10/http/client.py\u001b[0m in \u001b[0;36mputrequest\u001b[0;34m(self, method, url, skip_host, skip_accept_encoding)\u001b[0m\n\u001b[1;32m   1126\u001b[0m \u001b[0;34m\u001b[0m\u001b[0m\n\u001b[1;32m   1127\u001b[0m         \u001b[0murl\u001b[0m \u001b[0;34m=\u001b[0m \u001b[0murl\u001b[0m \u001b[0;32mor\u001b[0m \u001b[0;34m'/'\u001b[0m\u001b[0;34m\u001b[0m\u001b[0;34m\u001b[0m\u001b[0m\n\u001b[0;32m-> 1128\u001b[0;31m         \u001b[0mself\u001b[0m\u001b[0;34m.\u001b[0m\u001b[0m_validate_path\u001b[0m\u001b[0;34m(\u001b[0m\u001b[0murl\u001b[0m\u001b[0;34m)\u001b[0m\u001b[0;34m\u001b[0m\u001b[0;34m\u001b[0m\u001b[0m\n\u001b[0m\u001b[1;32m   1129\u001b[0m \u001b[0;34m\u001b[0m\u001b[0m\n\u001b[1;32m   1130\u001b[0m         \u001b[0mrequest\u001b[0m \u001b[0;34m=\u001b[0m \u001b[0;34m'%s %s %s'\u001b[0m \u001b[0;34m%\u001b[0m \u001b[0;34m(\u001b[0m\u001b[0mmethod\u001b[0m\u001b[0;34m,\u001b[0m \u001b[0murl\u001b[0m\u001b[0;34m,\u001b[0m \u001b[0mself\u001b[0m\u001b[0;34m.\u001b[0m\u001b[0m_http_vsn_str\u001b[0m\u001b[0;34m)\u001b[0m\u001b[0;34m\u001b[0m\u001b[0;34m\u001b[0m\u001b[0m\n",
            "\u001b[0;32m/usr/lib/python3.10/http/client.py\u001b[0m in \u001b[0;36m_validate_path\u001b[0;34m(self, url)\u001b[0m\n\u001b[1;32m   1226\u001b[0m         \u001b[0mmatch\u001b[0m \u001b[0;34m=\u001b[0m \u001b[0m_contains_disallowed_url_pchar_re\u001b[0m\u001b[0;34m.\u001b[0m\u001b[0msearch\u001b[0m\u001b[0;34m(\u001b[0m\u001b[0murl\u001b[0m\u001b[0;34m)\u001b[0m\u001b[0;34m\u001b[0m\u001b[0;34m\u001b[0m\u001b[0m\n\u001b[1;32m   1227\u001b[0m         \u001b[0;32mif\u001b[0m \u001b[0mmatch\u001b[0m\u001b[0;34m:\u001b[0m\u001b[0;34m\u001b[0m\u001b[0;34m\u001b[0m\u001b[0m\n\u001b[0;32m-> 1228\u001b[0;31m             raise InvalidURL(f\"URL can't contain control characters. {url!r} \"\n\u001b[0m\u001b[1;32m   1229\u001b[0m                              f\"(found at least {match.group()!r})\")\n\u001b[1;32m   1230\u001b[0m \u001b[0;34m\u001b[0m\u001b[0m\n",
            "\u001b[0;31mInvalidURL\u001b[0m: URL can't contain control characters. '/w/api.php?action=query&prop=pageimages&format=json&piprop=original&titles=الحسين بن عبد الله الثاني' (found at least ' ')"
          ]
        }
      ]
    },
    {
      "cell_type": "code",
      "source": [
        "resp_bytes = resp.read()\n",
        "resp_bytes"
      ],
      "metadata": {
        "id": "h224jL-RaXkB"
      },
      "execution_count": null,
      "outputs": []
    },
    {
      "cell_type": "code",
      "source": [
        "data = json.loads(resp_bytes)\n",
        "data"
      ],
      "metadata": {
        "id": "kQF1oLtNaZhI"
      },
      "execution_count": null,
      "outputs": []
    },
    {
      "cell_type": "code",
      "source": [
        "data['query']['pages'].keys()\n"
      ],
      "metadata": {
        "id": "le-L9xOVeLSH"
      },
      "execution_count": null,
      "outputs": []
    },
    {
      "cell_type": "code",
      "source": [
        "import urllib.request\n",
        "import urllib.parse\n",
        "\n",
        "lang = 'ar'\n",
        "page_title = 'الحسين بن عبد الله الثاني'\n",
        "\n",
        "# Encode the URL components\n",
        "# lang = urllib.parse.quote(lang)\n",
        "encoded_page_title = urllib.parse.quote(page_title)\n",
        "\n",
        "encoded_url = f'https://{lang}.wikipedia.org/w/api.php?action=query&prop=pageimages&format=json&piprop=original&titles={encoded_page_title}'\n",
        "\n",
        "encoded_url"
      ],
      "metadata": {
        "colab": {
          "base_uri": "https://localhost:8080/",
          "height": 53
        },
        "id": "pzfYQJINk-Sq",
        "outputId": "aa664071-98e6-48e2-f8b8-48501cd38c80"
      },
      "execution_count": 58,
      "outputs": [
        {
          "output_type": "display_data",
          "data": {
            "text/plain": [
              "<IPython.core.display.Javascript object>"
            ],
            "application/javascript": [
              "google.colab.output.setIframeHeight(0, true, {maxHeight: 5000})"
            ]
          },
          "metadata": {}
        },
        {
          "output_type": "execute_result",
          "data": {
            "text/plain": [
              "'https://ar.wikipedia.org/w/api.php?action=query&prop=pageimages&format=json&piprop=original&titles=%D8%A7%D9%84%D8%AD%D8%B3%D9%8A%D9%86%20%D8%A8%D9%86%20%D8%B9%D8%A8%D8%AF%20%D8%A7%D9%84%D9%84%D9%87%20%D8%A7%D9%84%D8%AB%D8%A7%D9%86%D9%8A'"
            ],
            "application/vnd.google.colaboratory.intrinsic+json": {
              "type": "string"
            }
          },
          "metadata": {},
          "execution_count": 58
        }
      ]
    },
    {
      "cell_type": "code",
      "source": [
        "resp = urllib.request.urlopen(encoded_url)\n",
        "resp_bytes = resp.read()\n",
        "data = json.loads(resp_bytes)\n",
        "data"
      ],
      "metadata": {
        "colab": {
          "base_uri": "https://localhost:8080/",
          "height": 142
        },
        "id": "L9tpM3tndP7X",
        "outputId": "75193328-c514-48cd-8332-bf1e50109c94"
      },
      "execution_count": 55,
      "outputs": [
        {
          "output_type": "display_data",
          "data": {
            "text/plain": [
              "<IPython.core.display.Javascript object>"
            ],
            "application/javascript": [
              "google.colab.output.setIframeHeight(0, true, {maxHeight: 5000})"
            ]
          },
          "metadata": {}
        },
        {
          "output_type": "execute_result",
          "data": {
            "text/plain": [
              "{'batchcomplete': '',\n",
              " 'query': {'pages': {'147298': {'pageid': 147298,\n",
              "    'ns': 0,\n",
              "    'title': 'الحسين بن عبد الله الثاني',\n",
              "    'original': {'source': 'https://upload.wikimedia.org/wikipedia/commons/6/6c/Crown_Prince_Hussein_of_Jordan_cropped.jpeg',\n",
              "     'width': 1171,\n",
              "     'height': 1591}}}}}"
            ]
          },
          "metadata": {},
          "execution_count": 55
        }
      ]
    },
    {
      "cell_type": "code",
      "source": [
        "# Define the title you want to find\n",
        "desired_title = page_title\n",
        "\n",
        "# Initialize image URL as None\n",
        "image_url = None\n",
        "\n",
        "# Search for the title in the JSON data\n",
        "for page_id, page_info in data['query']['pages'].items():\n",
        "    if page_info['title'] == desired_title:\n",
        "        image_url = page_info['original']['source']\n",
        "        break  # Stop searching once the title is found\n",
        "\n",
        "# Print the image URL if found\n",
        "if image_url:\n",
        "    print(image_url)\n",
        "else:\n",
        "    print(f\"Title '{desired_title}' not found in the JSON data.\")"
      ],
      "metadata": {
        "colab": {
          "base_uri": "https://localhost:8080/",
          "height": 35
        },
        "id": "wCRNi8HUogpV",
        "outputId": "121402e1-21c5-4393-8967-64234cf4c929"
      },
      "execution_count": 59,
      "outputs": [
        {
          "output_type": "display_data",
          "data": {
            "text/plain": [
              "<IPython.core.display.Javascript object>"
            ],
            "application/javascript": [
              "google.colab.output.setIframeHeight(0, true, {maxHeight: 5000})"
            ]
          },
          "metadata": {}
        },
        {
          "output_type": "stream",
          "name": "stdout",
          "text": [
            "https://upload.wikimedia.org/wikipedia/commons/6/6c/Crown_Prince_Hussein_of_Jordan_cropped.jpeg\n"
          ]
        }
      ]
    },
    {
      "cell_type": "code",
      "source": [],
      "metadata": {
        "id": "MBPryW92ogr4"
      },
      "execution_count": null,
      "outputs": []
    },
    {
      "cell_type": "code",
      "source": [],
      "metadata": {
        "id": "sN3STXtfeO9o"
      },
      "execution_count": null,
      "outputs": []
    },
    {
      "cell_type": "code",
      "source": [],
      "metadata": {
        "id": "SrzTSGTYeO__"
      },
      "execution_count": null,
      "outputs": []
    },
    {
      "cell_type": "code",
      "source": [],
      "metadata": {
        "id": "b6aA-nYvogu8"
      },
      "execution_count": null,
      "outputs": []
    },
    {
      "cell_type": "code",
      "source": [],
      "metadata": {
        "id": "2Ugxft5qnslD"
      },
      "execution_count": null,
      "outputs": []
    },
    {
      "cell_type": "code",
      "source": [],
      "metadata": {
        "id": "zCU90i9VnsoJ"
      },
      "execution_count": null,
      "outputs": []
    },
    {
      "cell_type": "code",
      "source": [],
      "metadata": {
        "id": "fIX1v5Z6k-aw"
      },
      "execution_count": null,
      "outputs": []
    },
    {
      "cell_type": "code",
      "source": [
        "import urllib.request\n",
        "import urllib.parse\n",
        "\n",
        "lang = 'en'\n",
        "page_title = 'Rosetta_Stone'\n",
        "\n",
        "TOP_API_URL = 'https://{lang}.wikipedia.org/w/api.php?action=query&prop=pageimages&format=json&piprop=original&titles={page_title}'\n",
        "\n",
        "url = TOP_API_URL.format(lang=lang, page_title=urllib.parse.quote(page_title))\n",
        "\n",
        "try:\n",
        "    resp = urllib.request.urlopen(url)\n",
        "    # You can process the response here\n",
        "    print(resp.read())\n",
        "except urllib.error.URLError as e:\n",
        "    print(f\"Error: {e}\")\n",
        "\n"
      ],
      "metadata": {
        "id": "66OHdw3pjw3v"
      },
      "execution_count": null,
      "outputs": []
    },
    {
      "cell_type": "code",
      "source": [
        "resp"
      ],
      "metadata": {
        "id": "VjK3g4TEkocg"
      },
      "execution_count": null,
      "outputs": []
    },
    {
      "cell_type": "code",
      "source": [
        "resp = urllib2.urlopen('https://en.wikipedia.org/w/api.php?action=query&prop=pageimages&format=json&piprop=original&titles=Rosetta_Stone')\n",
        "resp"
      ],
      "metadata": {
        "id": "YhIB2iVtYiut"
      },
      "execution_count": null,
      "outputs": []
    },
    {
      "cell_type": "code",
      "source": [
        "url2 = 'https://en.wikipedia.org/w/api.php?action=query&prop=pageimages&format=json&piprop=original&titles=Rosetta_Stone'\n",
        "resp = urllib2.urlopen(url2)\n",
        "resp"
      ],
      "metadata": {
        "id": "IoABSgDshrr5"
      },
      "execution_count": null,
      "outputs": []
    },
    {
      "cell_type": "code",
      "source": [
        "image_url = data['query']['pages']['26428']['original']['source']\n",
        "image_url"
      ],
      "metadata": {
        "id": "-dcgP2OsbX-p"
      },
      "execution_count": null,
      "outputs": []
    },
    {
      "cell_type": "code",
      "source": [],
      "metadata": {
        "id": "kYFdp6KzervY"
      },
      "execution_count": null,
      "outputs": []
    },
    {
      "cell_type": "code",
      "source": [],
      "metadata": {
        "id": "uIlxzmk0er4E"
      },
      "execution_count": null,
      "outputs": []
    },
    {
      "cell_type": "code",
      "source": [],
      "metadata": {
        "id": "RrdLvUDHer-o"
      },
      "execution_count": null,
      "outputs": []
    },
    {
      "cell_type": "code",
      "source": [],
      "metadata": {
        "id": "Nhz-bAApesDn"
      },
      "execution_count": null,
      "outputs": []
    },
    {
      "cell_type": "code",
      "source": [
        "\n",
        "\n",
        "\n",
        "    resp_bytes = resp.read()\n",
        "#         rec.success('Fetched {len_bytes} bytes from {url}',\n",
        "#                     len_bytes=len(resp_bytes), url=url)\n",
        "\n",
        "\n",
        "\n",
        "    data = json.loads(resp_bytes)"
      ],
      "metadata": {
        "id": "pCcGys7OYEmm"
      },
      "execution_count": null,
      "outputs": []
    },
    {
      "cell_type": "code",
      "source": [
        "\n",
        "\n",
        "TOP_API_URL = 'https://wikimedia.org/api/rest_v1/metrics/pageviews/'\\\n",
        "              'top/{lang}.{project}/all-access/{year}/{month}/{day}'\n",
        "\n",
        "\n",
        "# The call get_traffic(‘2020’, ‘02’, ‘21’), for example, would output a JSON object with the 1000 most viewed Wikpedia articles on that day.\n",
        "# The object contains the article’s title, the number of views, and its “rank” for that day in terms of views.\n",
        "def get_traffic(year, month, day):\n",
        "    '''\\\n",
        "    Get the traffic report for the top 1000 articles for a given day.\n",
        "    TODO: Get from local file, if available\n",
        "    '''\n",
        "    url = TOP_API_URL.format(lang='ar',\n",
        "                             project='wikipedia',\n",
        "                             year=year,\n",
        "                             month=month,\n",
        "                             day=day)\n",
        "#     if DEBUG:\n",
        "#         print 'Getting %s' % url\n",
        "    resp = urllib2.urlopen(url)\n",
        "    resp_bytes = resp.read()\n",
        "#         rec.success('Fetched {len_bytes} bytes from {url}',\n",
        "#                     len_bytes=len(resp_bytes), url=url)\n",
        "\n",
        "    data = json.loads(resp_bytes)\n",
        "\n",
        "    # The returned data object contains:\n",
        "    # {'items': [\n",
        "        # {'project': 'ar.wikipedia', 'access': 'all-access', 'year': '2023', 'month': '03', 'day': '20',\n",
        "        # 'articles': [\n",
        "            # {'article': 'يوم_الأم', 'views': 73739, 'rank': 1},\n",
        "            # {'article': 'الصفحة_الرئيسية', 'views': 63985, 'rank': 2},\n",
        "\n",
        "    articles = data['items'][0]['articles']\n",
        "    return articles"
      ],
      "metadata": {
        "id": "IM2OjiqYWu0G"
      },
      "execution_count": null,
      "outputs": []
    },
    {
      "cell_type": "code",
      "source": [
        "TOP_API_URL = 'https://wikimedia.org/api/rest_v1/metrics/pageviews/'\\\n",
        "              'top/{lang}.{project}/all-access/{year}/{month}/{day}'\n",
        "\n",
        "\n",
        "# The call get_traffic(‘2020’, ‘02’, ‘21’), for example, would output a JSON object with the 1000 most viewed Wikpedia articles on that day.\n",
        "# The object contains the article’s title, the number of views, and its “rank” for that day in terms of views.\n",
        "def get_traffic(year, month, day):\n",
        "    '''\\\n",
        "    Get the traffic report for the top 1000 articles for a given day.\n",
        "    TODO: Get from local file, if available\n",
        "    '''\n",
        "    url = TOP_API_URL.format(lang='ar',\n",
        "                             project='wikipedia',\n",
        "                             year=year,\n",
        "                             month=month,\n",
        "                             day=day)\n",
        "#     if DEBUG:\n",
        "#         print 'Getting %s' % url\n",
        "    resp = urllib2.urlopen(url)\n",
        "    resp_bytes = resp.read()\n",
        "#         rec.success('Fetched {len_bytes} bytes from {url}',\n",
        "#                     len_bytes=len(resp_bytes), url=url)\n",
        "\n",
        "    data = json.loads(resp_bytes)\n",
        "\n",
        "    # The returned data object contains:\n",
        "    # {'items': [\n",
        "        # {'project': 'ar.wikipedia', 'access': 'all-access', 'year': '2023', 'month': '03', 'day': '20',\n",
        "        # 'articles': [\n",
        "            # {'article': 'يوم_الأم', 'views': 73739, 'rank': 1},\n",
        "            # {'article': 'الصفحة_الرئيسية', 'views': 63985, 'rank': 2},\n",
        "\n",
        "    articles = data['items'][0]['articles']\n",
        "    return articles"
      ],
      "metadata": {
        "id": "_gxeDfavWMhN"
      },
      "execution_count": null,
      "outputs": []
    }
  ]
}