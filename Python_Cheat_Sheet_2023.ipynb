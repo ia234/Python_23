{
  "cells": [
    {
      "cell_type": "markdown",
      "metadata": {
        "id": "view-in-github",
        "colab_type": "text"
      },
      "source": [
        "<a href=\"https://colab.research.google.com/github/ia234/Python_23/blob/main/Python_Cheat_Sheet_2023.ipynb\" target=\"_parent\"><img src=\"https://colab.research.google.com/assets/colab-badge.svg\" alt=\"Open In Colab\"/></a>"
      ]
    },
    {
      "cell_type": "code",
      "execution_count": null,
      "metadata": {
        "id": "kZ5VIILK1Wsw"
      },
      "outputs": [],
      "source": []
    },
    {
      "cell_type": "markdown",
      "metadata": {
        "id": "0WL-57iB98TJ"
      },
      "source": [
        "# Python"
      ]
    },
    {
      "cell_type": "markdown",
      "metadata": {
        "id": "iJrSmRZwFW8g"
      },
      "source": [
        "## Data Types"
      ]
    },
    {
      "cell_type": "markdown",
      "metadata": {
        "id": "AomJyuxJauvM"
      },
      "source": [
        "Numeric Data Types:"
      ]
    },
    {
      "cell_type": "code",
      "execution_count": null,
      "metadata": {
        "colab": {
          "base_uri": "https://localhost:8080/"
        },
        "id": "m3zhDO0oawxR",
        "outputId": "fe05ad30-69db-4196-b228-b97ec0e8e817"
      },
      "outputs": [
        {
          "output_type": "stream",
          "name": "stdout",
          "text": [
            "<class 'int'>\n",
            "<class 'float'>\n",
            "<class 'complex'>\n"
          ]
        }
      ],
      "source": [
        "# integer\n",
        "my_int = 10\n",
        "print(type(my_int))  # Output: <class 'int'>\n",
        "\n",
        "# floating-point number\n",
        "my_float = 3.14\n",
        "print(type(my_float))  # Output: <class 'float'>\n",
        "\n",
        "# complex number\n",
        "my_complex = 2 + 3j\n",
        "print(type(my_complex))  # Output: <class 'complex'>\n"
      ]
    },
    {
      "cell_type": "markdown",
      "metadata": {
        "id": "JSuFiPauazxL"
      },
      "source": [
        "Sequence Data Types:"
      ]
    },
    {
      "cell_type": "code",
      "execution_count": null,
      "metadata": {
        "colab": {
          "base_uri": "https://localhost:8080/"
        },
        "id": "ROV-2xzVaysV",
        "outputId": "f05fa43f-7f57-426a-8569-ec9f7e88903b"
      },
      "outputs": [
        {
          "output_type": "stream",
          "name": "stdout",
          "text": [
            "<class 'str'>\n",
            "<class 'list'>\n",
            "<class 'tuple'>\n",
            "<class 'range'>\n"
          ]
        }
      ],
      "source": [
        "# string\n",
        "my_string = \"Hello, World!\"\n",
        "print(type(my_string))  # Output: <class 'str'>\n",
        "\n",
        "# list This is a collection of items that are ordered and changeable.\n",
        "my_list = [1, 2, \"three\", True]\n",
        "print(type(my_list))  # Output: <class 'list'>\n",
        "\n",
        "# tuple This is a collection of items that are ordered and unchangeable.\n",
        "my_tuple = (1, 2, \"three\", True)\n",
        "print(type(my_tuple))  # Output: <class 'tuple'>\n",
        "\n",
        "# range The range function is used to create a sequence of numbers, and it returns a range object. \n",
        "my_range = range(5)\n",
        "print(type(my_range))  # Output: <class 'range'>\n",
        "\n"
      ]
    },
    {
      "cell_type": "markdown",
      "metadata": {
        "id": "dkxThZv3a7Ar"
      },
      "source": [
        "Mapping Data Type:"
      ]
    },
    {
      "cell_type": "code",
      "execution_count": null,
      "metadata": {
        "colab": {
          "base_uri": "https://localhost:8080/"
        },
        "id": "L8eIY82ta7np",
        "outputId": "938e4ae6-4e7e-4714-d502-6fc79438c00b"
      },
      "outputs": [
        {
          "output_type": "stream",
          "name": "stdout",
          "text": [
            "<class 'dict'>\n"
          ]
        }
      ],
      "source": [
        "# dictionary: This is a collection of key-value pairs that are unordered and changeable.\n",
        "my_dict = {\"name\": \"John\", \"age\": 30, \"city\": \"New York\"}\n",
        "print(type(my_dict))  # Output: <class 'dict'>\n"
      ]
    },
    {
      "cell_type": "markdown",
      "metadata": {
        "id": "dEziDcfJa-54"
      },
      "source": [
        "Set Data Type:"
      ]
    },
    {
      "cell_type": "code",
      "execution_count": null,
      "metadata": {
        "colab": {
          "base_uri": "https://localhost:8080/"
        },
        "id": "2u73TfxDbAYl",
        "outputId": "3429334d-e1c3-49db-bce5-26d767325533"
      },
      "outputs": [
        {
          "output_type": "stream",
          "name": "stdout",
          "text": [
            "<class 'set'>\n",
            "<class 'frozenset'>\n"
          ]
        }
      ],
      "source": [
        "# set: This is a collection of unique items that are unordered and unindexed.\n",
        "my_set = {1, 2, \"three\", True}\n",
        "print(type(my_set))  # Output: <class 'set'>\n",
        "\n",
        "\n",
        "# frozenset The frozenset function is used to create an immutable set, and it returns a frozenset object.\n",
        "my_frozenset = frozenset({1, 2, 3})\n",
        "print(type(my_frozenset))  # Output: <class 'frozenset'>\n"
      ]
    },
    {
      "cell_type": "markdown",
      "metadata": {
        "id": "uUzcbn7qbB6d"
      },
      "source": [
        "**Boolean Data Type:**"
      ]
    },
    {
      "cell_type": "code",
      "execution_count": null,
      "metadata": {
        "colab": {
          "base_uri": "https://localhost:8080/"
        },
        "id": "w9KJ_ZoKbDQG",
        "outputId": "5c96e71f-e034-4971-bc59-1aa1c84c88dd"
      },
      "outputs": [
        {
          "output_type": "stream",
          "name": "stdout",
          "text": [
            "<class 'bool'>\n"
          ]
        }
      ],
      "source": [
        "# boolean: This is a data type that represents True or False values.\n",
        "my_bool = True\n",
        "print(type(my_bool))  # Output: <class 'bool'>\n"
      ]
    },
    {
      "cell_type": "markdown",
      "source": [
        "This expression compares the Unicode code point of the characters in the strings, and returns a boolean value True or False depending on the result of the comparison.\n",
        "In this case, \"alpha\" comes before \"beta\" in alphabetical order, so the expression evaluates to True.\n",
        "These operators and functions can be used in combination with logical operators such as \"and\", \"or\", and \"not\" to create more complex comparisons."
      ],
      "metadata": {
        "id": "GU8XWKv1HOZy"
      }
    },
    {
      "cell_type": "code",
      "source": [
        "print(\"alpha\" <= \"beta\")\n",
        "\n",
        "print(True > False)"
      ],
      "metadata": {
        "colab": {
          "base_uri": "https://localhost:8080/"
        },
        "id": "ylQmk-geHOp5",
        "outputId": "8fdf0927-fbb2-46ab-d435-dc4a89a228d5"
      },
      "execution_count": null,
      "outputs": [
        {
          "output_type": "stream",
          "name": "stdout",
          "text": [
            "True\n",
            "True\n"
          ]
        }
      ]
    },
    {
      "cell_type": "code",
      "source": [
        "x = 10\n",
        "\n",
        "if x > 10:\n",
        "    print(\"x is greater than 10\")\n",
        "elif x < 10:\n",
        "    print(\"x is less than 10\")\n",
        "else:\n",
        "    print(\"x is equal to 10\")\n"
      ],
      "metadata": {
        "colab": {
          "base_uri": "https://localhost:8080/"
        },
        "id": "L3-PgjA_yCpE",
        "outputId": "0cb8efdd-d4d6-49f3-84e0-ccf562e4ee8e"
      },
      "execution_count": 1,
      "outputs": [
        {
          "output_type": "stream",
          "name": "stdout",
          "text": [
            "x is equal to 10\n"
          ]
        }
      ]
    },
    {
      "cell_type": "markdown",
      "metadata": {
        "id": "qKzuPbm1epCO"
      },
      "source": [
        "## Arithmetic Operators"
      ]
    },
    {
      "cell_type": "code",
      "execution_count": null,
      "metadata": {
        "colab": {
          "base_uri": "https://localhost:8080/"
        },
        "id": "-IYRrKF6eoiC",
        "outputId": "0d2a5379-5c02-4258-9979-d711df6b37c2"
      },
      "outputs": [
        {
          "output_type": "stream",
          "name": "stdout",
          "text": [
            "16\n",
            "2\n",
            "63\n",
            "1.2857142857142858\n",
            "1\n",
            "2\n",
            "4782969\n"
          ]
        }
      ],
      "source": [
        "x = 9\n",
        "y = 7\n",
        "\n",
        "# Addition\n",
        "z = x + y  # add x and y\n",
        "print(z)\n",
        "\n",
        "# Subtraction\n",
        "z = x - y  # subtract y from x\n",
        "print(z)\n",
        "\n",
        "# Multiplication\n",
        "z = x * y  # multiply x and y\n",
        "print(z)\n",
        "\n",
        "# Division\n",
        "z = x / y  # divide x by y\n",
        "print(z)\n",
        "\n",
        "# Floor Division\n",
        "z = x // y  # divide x by y and round down to the nearest integer\n",
        "print(z)\n",
        "\n",
        "# Modulus\n",
        "z = x % y  # find the remainder of x divided by y\n",
        "print(z)\n",
        "\n",
        "# Exponentiation\n",
        "z = x ** y  # raise x to the power of y\n",
        "print(z)\n"
      ]
    },
    {
      "cell_type": "markdown",
      "metadata": {
        "id": "P60_iobmsvHU"
      },
      "source": [
        "## Lists"
      ]
    },
    {
      "cell_type": "markdown",
      "metadata": {
        "id": "KIrV3iJjlBFO"
      },
      "source": [
        "### List Subsetting & Slicing"
      ]
    },
    {
      "cell_type": "code",
      "execution_count": null,
      "metadata": {
        "colab": {
          "base_uri": "https://localhost:8080/"
        },
        "id": "Auqet2THlBU_",
        "outputId": "b6bcb15b-07f7-4e96-f062-fb7f86e965ad"
      },
      "outputs": [
        {
          "output_type": "stream",
          "name": "stdout",
          "text": [
            "apple\n",
            "cherry\n",
            "['banana', 'cherry', 'date']\n",
            "['apple', 'banana', 'cherry']\n",
            "['date', 'elderberry']\n",
            "elderberry\n",
            "['cherry', 'date', 'elderberry']\n"
          ]
        }
      ],
      "source": [
        "# Define a list of fruits\n",
        "fruits = [\"apple\", \"banana\", \"cherry\", \"date\", \"elderberry\"]\n",
        "\n",
        "# Access a single element using its index (starts at 0)\n",
        "print(fruits[0])    # Output: \"apple\"\n",
        "print(fruits[2])    # Output: \"cherry\"\n",
        "\n",
        "# Access a range of elements using a slice\n",
        "print(fruits[1:4])  # Output: [\"banana\", \"cherry\", \"date\"]\n",
        "print(fruits[:3])   # Output: [\"apple\", \"banana\", \"cherry\"]\n",
        "print(fruits[3:])   # Output: [\"date\", \"elderberry\"]\n",
        "\n",
        "# Access elements from the end of the list using negative indexing\n",
        "print(fruits[-1])   # Output: \"elderberry\"\n",
        "print(fruits[-3:])  # Output: [\"cherry\", \"date\", \"elderberry\"]\n",
        "\n",
        "\n"
      ]
    },
    {
      "cell_type": "markdown",
      "metadata": {
        "id": "KeONGgweszYy"
      },
      "source": [
        "### List operations and Functions"
      ]
    },
    {
      "cell_type": "code",
      "execution_count": null,
      "metadata": {
        "colab": {
          "base_uri": "https://localhost:8080/"
        },
        "id": "qfoGPnU4pRAO",
        "outputId": "d6e6a1e4-a747-42b4-bba8-38d9b666633c"
      },
      "outputs": [
        {
          "output_type": "stream",
          "name": "stdout",
          "text": [
            "Yes, 'apple' is in the fruits list\n",
            "apple\n",
            "banana\n",
            "cherry\n",
            "date\n",
            "elderberry\n",
            "['apple', 'kiwi', 'cherry', 'date', 'elderberry']\n",
            "['apple', 'kiwi', 'cherry', 'date', 'elderberry', 'orange']\n",
            "['apple', 'cherry', 'date', 'elderberry', 'orange']\n",
            "apple\n",
            "cherry\n",
            "date\n",
            "elderberry\n",
            "orange\n",
            "['apple', 'date', 'orange']\n",
            "['apple', 'cherry', 'date', 'elderberry', 'orange']\n",
            "['apple', 'cherry', 'date', 'elderberry', 'orange']\n",
            "['apple', 'cherry', 'date', 'elderberry', 'orange', 'beetroot', 'carrot', 'spinach']\n"
          ]
        }
      ],
      "source": [
        "# Check if Item Exists\n",
        "if \"apple\" in fruits:\n",
        "    print(\"Yes, 'apple' is in the fruits list\")  # Output: \"Yes, 'apple' is in the fruits list\"\n",
        "\n",
        "# Access List Items\n",
        "for fruit in fruits:\n",
        "    print(fruit)  # Output: \"apple\", \"banana\", \"cherry\"\n",
        "\n",
        "# Change List Items\n",
        "fruits[1] = \"kiwi\"\n",
        "print(fruits)  # Output: [\"apple\", \"kiwi\", \"cherry\"]\n",
        "\n",
        "# Add List Items\n",
        "fruits.append(\"orange\")\n",
        "print(fruits)  # Output: [\"apple\", \"kiwi\", \"cherry\", \"orange\"]\n",
        "\n",
        "# Remove List Items\n",
        "fruits.remove(\"kiwi\")\n",
        "print(fruits)  # Output: [\"apple\", \"cherry\", \"orange\"]\n",
        "\n",
        "# Loop Lists\n",
        "for fruit in fruits:\n",
        "    print(fruit)  # Output: \"apple\", \"cherry\", \"orange\"\n",
        "\n",
        "# List Comprehension\n",
        "new_list = [fruit for fruit in fruits if \"a\" in fruit]\n",
        "print(new_list)  # Output: [\"apple\", \"orange\"]\n",
        "\n",
        "# Sort Lists\n",
        "fruits.sort()\n",
        "print(fruits)  # Output: [\"apple\", \"cherry\", \"orange\"]\n",
        "\n",
        "# Copy Lists in 3 ways:\n",
        "# 1. using .copy() method\n",
        "new_fruits = fruits.copy()\n",
        "print(new_fruits)  # Output: [\"apple\", \"cherry\", \"orange\"]\n",
        "\n",
        "# 2. using the list() function\n",
        "# list_x = list(y) \n",
        "\n",
        "# 3. using the slicing operator \n",
        "# list_x = list_y[:]\n",
        "\n",
        "# list_x = list_y copies the pointer to that list which causes any changes to list x to take effect in list y too.\n",
        "\n",
        "\n",
        "# Join Lists\n",
        "vegetables = [\"beetroot\", \"carrot\", \"spinach\"]\n",
        "food = fruits + vegetables\n",
        "print(food)  # Output: [\"apple\", \"cherry\", \"orange\", \"beetroot\", \"carrot\", \"spinach\"]\n"
      ]
    },
    {
      "cell_type": "markdown",
      "metadata": {
        "id": "nOXQFHKD2-BU"
      },
      "source": [
        "### List Methods"
      ]
    },
    {
      "cell_type": "markdown",
      "metadata": {
        "id": "IjY8PxWm3y-W"
      },
      "source": [
        "Here are 25 of the most frequently used list methods in Python, ranked in order from most frequently used to least frequently used:\n",
        "\n",
        "1. `append()` - Adds an element to the end of a list.\n",
        "2. `len()` - Returns the length of a list.\n",
        "3. `index()` - Returns the index of the first element with the specified value.\n",
        "4. `count()` - Returns the number of elements with the specified value.\n",
        "5. `pop()` - Removes the element at the specified position from a list, and returns it.\n",
        "6. `sort()` - Sorts the elements of a list in ascending order.\n",
        "7. `reverse()` - Reverses the order of the elements in a list.\n",
        "8. `extend()` - Adds the elements of another list to the end of a list.\n",
        "9. `insert()` - Adds an element at the specified position in a list.\n",
        "10. `remove()` - Removes the first occurrence of a specified element from a list.\n",
        "11. `copy()` - Returns a shallow copy of a list.\n",
        "12. `clear()` - Removes all the elements from a list.\n",
        "13. `max()` - Returns the largest element in a list.\n",
        "14. `min()` - Returns the smallest element in a list.\n",
        "15. `sum()` - Returns the sum of all elements in a list.\n",
        "16. `join()` - Joins the elements of a list into a string.\n",
        "17. `split()` - Splits a string into a list.\n",
        "18. \n",
        "19. `index()` - Returns the index of the first occurrence of a specified element in a list.\n",
        "20. `isinstance()` - Returns True if a variable is a list.\n",
        "21. `enumerate()` - Returns an enumerate object.\n",
        "22. `map()` - Applies a function to every element of a list.\n",
        "23. `filter()` - Filters the elements of a list based on a function.\n",
        "24. `zip()` - Combines two or more lists into a single list of tuples.\n",
        "25. `any()` - Returns True if any element of a list is True."
      ]
    },
    {
      "cell_type": "markdown",
      "metadata": {
        "id": "ggSx7EzB30mD"
      },
      "source": []
    },
    {
      "cell_type": "code",
      "execution_count": null,
      "metadata": {
        "colab": {
          "base_uri": "https://localhost:8080/"
        },
        "id": "b-8idEhe3Ags",
        "outputId": "fc1bbf28-620d-4257-bb82-9251a7d7bca2"
      },
      "outputs": [
        {
          "output_type": "stream",
          "name": "stdout",
          "text": [
            "['apple', 'banana', 'cherry', 'orange']\n",
            "3\n",
            "2\n",
            "2\n",
            "['apple', 'cherry']\n",
            "['apple', 'banana', 'cherry']\n",
            "['cherry', 'banana', 'apple']\n",
            "['apple', 'banana', 'cherry', 'Ford', 'BMW', 'Volvo']\n",
            "['apple', 'orange', 'banana', 'cherry']\n",
            "['apple', 'cherry']\n",
            "['apple', 'banana', 'cherry']\n",
            "[]\n",
            "5\n",
            "1\n",
            "15\n",
            "Hello world !\n",
            "['Hello', 'world', '!']\n",
            "1\n",
            "True\n",
            "0 apple\n",
            "1 banana\n",
            "2 cherry\n",
            "[1, 4, 9, 16, 25]\n",
            "[2, 4]\n",
            "[('apple', 'red'), ('banana', 'yellow'), ('cherry', 'blue')]\n",
            "True\n"
          ]
        }
      ],
      "source": [
        "# Here are the 25 most frequently used list methods in Python, ranked in order from most frequently used to least frequently used, with comments and examples:\n",
        "\n",
        "# 1. append() - Adds an element to the end of a list.\n",
        "fruits = [\"apple\", \"banana\", \"cherry\"]\n",
        "fruits.append(\"orange\")\n",
        "print(fruits) # Output: [\"apple\", \"banana\", \"cherry\", \"orange\"]\n",
        "\n",
        "# 2. len() - Returns the length of a list.\n",
        "fruits = [\"apple\", \"banana\", \"cherry\"]\n",
        "print(len(fruits)) # Output: 3\n",
        "\n",
        "# 3. index() - Returns the index of the first element with the specified value.\n",
        "fruits = [\"apple\", \"banana\", \"cherry\"]\n",
        "print(fruits.index(\"cherry\")) # Output: 2\n",
        "\n",
        "# 4. count() - Returns the number of elements with the specified value.\n",
        "fruits = [\"apple\", \"banana\", \"cherry\", \"cherry\"]\n",
        "print(fruits.count(\"cherry\")) # Output: 2\n",
        "\n",
        "# 5. pop() - Removes the element at the specified position from a list, and returns it.\n",
        "fruits = [\"apple\", \"banana\", \"cherry\"]\n",
        "fruits.pop(1)\n",
        "print(fruits) # Output: [\"apple\", \"cherry\"]\n",
        "\n",
        "# 6. sort() - Sorts the elements of a list in ascending order.\n",
        "fruits = [\"banana\", \"cherry\", \"apple\"]\n",
        "fruits.sort()\n",
        "print(fruits) # Output: [\"apple\", \"banana\", \"cherry\"]\n",
        "\n",
        "# 7. reverse() - Reverses the order of the elements in a list.\n",
        "fruits = [\"apple\", \"banana\", \"cherry\"]\n",
        "fruits.reverse()\n",
        "print(fruits) # Output: [\"cherry\", \"banana\", \"apple\"]\n",
        "\n",
        "# 8. extend() - Adds the elements of another list to the end of a list.\n",
        "fruits = [\"apple\", \"banana\", \"cherry\"]\n",
        "cars = [\"Ford\", \"BMW\", \"Volvo\"]\n",
        "fruits.extend(cars)\n",
        "print(fruits) # Output: [\"apple\", \"banana\", \"cherry\", \"Ford\", \"BMW\", \"Volvo\"]\n",
        "\n",
        "# 9. insert() - Adds an element at the specified position in a list.\n",
        "fruits = [\"apple\", \"banana\", \"cherry\"]\n",
        "fruits.insert(1, \"orange\")\n",
        "print(fruits) # Output: [\"apple\", \"orange\", \"banana\", \"cherry\"]\n",
        "\n",
        "# 10. remove() - Removes the first occurrence of a specified element from a list.\n",
        "fruits = [\"apple\", \"banana\", \"cherry\"]\n",
        "fruits.remove(\"banana\")\n",
        "print(fruits) # Output: [\"apple\", \"cherry\"]\n",
        "\n",
        "# 11. copy() - Returns a shallow copy of a list.\n",
        "fruits = [\"apple\", \"banana\", \"cherry\"]\n",
        "fruits_copy = fruits.copy()\n",
        "print(fruits_copy) # Output: [\"apple\", \"banana\", \"cherry\"]\n",
        "\n",
        "# 12. clear() - Removes all the elements from a list.\n",
        "fruits = [\"apple\", \"banana\", \"cherry\"]\n",
        "fruits.clear()\n",
        "print(fruits) # Output: []\n",
        "\n",
        "# 13. max() - Returns the largest element in a list.\n",
        "numbers = [1, 2, 3, 4, 5]\n",
        "print(max(numbers)) # Output: 5\n",
        "\n",
        "# 14. min() - Returns the smallest element in a list.\n",
        "numbers = [1, 2, 3, 4, 5]\n",
        "print(min(numbers)) # Output: 1\n",
        "\n",
        "# 1. sum() - Returns the sum of all elements in a list.\n",
        "numbers = [1, 2, 3, 4, 5]\n",
        "result = sum(numbers)\n",
        "print(result)  # Output: 15\n",
        "\n",
        "# 2. join() - Joins the elements of a list into a string.\n",
        "words = [\"Hello\", \"world\", \"!\"]\n",
        "result = \" \".join(words)\n",
        "print(result)  # Output: \"Hello world !\"\n",
        "\n",
        "# 3. split() - Splits a string into a list.\n",
        "sentence = \"Hello world !\"\n",
        "words = sentence.split()\n",
        "print(words)  # Output: [\"Hello\", \"world\", \"!\"]\n",
        "\n",
        "# 4. \n",
        "\n",
        "# 5. index() - Returns the index of the first occurrence of a specified element in a list.\n",
        "fruits = [\"apple\", \"banana\", \"cherry\"]\n",
        "index = fruits.index(\"banana\")\n",
        "print(index)  # Output: 1\n",
        "\n",
        "# 6. isinstance() - Returns True if a variable is a list.\n",
        "fruits = [\"apple\", \"banana\", \"cherry\"]\n",
        "result = isinstance(fruits, list)\n",
        "print(result)  # Output: True\n",
        "\n",
        "# 7. enumerate() - Returns an enumerate object.\n",
        "fruits = [\"apple\", \"banana\", \"cherry\"]\n",
        "for index, value in enumerate(fruits):\n",
        "    print(index, value)  # Output: 0 apple, 1 banana, 2 cherry\n",
        "\n",
        "# 8. map() - Applies a function to every element of a list.\n",
        "numbers = [1, 2, 3, 4, 5]\n",
        "squares = list(map(lambda x: x**2, numbers))\n",
        "print(squares)  # Output: [1, 4, 9, 16, 25]\n",
        "\n",
        "# 9. filter() - Filters the elements of a list based on a function.\n",
        "numbers = [1, 2, 3, 4, 5]\n",
        "even_numbers = list(filter(lambda x: x % 2 == 0, numbers))\n",
        "print(even_numbers)  # Output: [2, 4]\n",
        "\n",
        "# 10. zip() - Combines two or more lists into a single list of tuples.\n",
        "fruits = [\"apple\", \"banana\", \"cherry\"]\n",
        "colors = [\"red\", \"yellow\", \"blue\"]\n",
        "zipped = list(zip(fruits, colors))\n",
        "print(zipped)  # Output: [('apple', 'red'), ('banana', 'yellow'), ('cherry', 'blue')]\n",
        "\n",
        "# 11. any() - Returns True if any element of a list is True.\n",
        "numbers = [0, 1, 2, 3, 4]\n",
        "result = any(numbers)\n",
        "print(result)  # Output: True\n"
      ]
    },
    {
      "cell_type": "code",
      "execution_count": null,
      "metadata": {
        "id": "WN4fpgLc4LQ8"
      },
      "outputs": [],
      "source": []
    },
    {
      "cell_type": "markdown",
      "source": [
        "## Math Module"
      ],
      "metadata": {
        "id": "B-PktpBF9fYX"
      }
    },
    {
      "cell_type": "code",
      "source": [
        "import math\n",
        "\n",
        "# 1. ceil(): returns the smallest integer greater than or equal to a given number\n",
        "x = 4.1\n",
        "print(math.ceil(x))  # Output: 5\n",
        "\n",
        "# 2. floor(): returns the largest integer less than or equal to a given number\n",
        "y = 4.9\n",
        "print(math.floor(y))  # Output: 4\n",
        "\n",
        "# 3. fabs(): returns the absolute value of a given number\n",
        "a = -4.5\n",
        "print(math.fabs(a))  # Output: 4.5\n",
        "\n",
        "# 4. sqrt(): returns the square root of a given number\n",
        "b = 16\n",
        "print(math.sqrt(b))  # Output: 4.0\n",
        "\n",
        "# 5. pow(): returns the value of a number raised to a power\n",
        "c = 2\n",
        "d = 3\n",
        "print(math.pow(c, d))  # Output: 8.0\n",
        "\n",
        "# 6. exp(): returns the value of e (Euler's number) raised to a power\n",
        "e = 2\n",
        "print(math.exp(e))  # Output: 7.38905609893065\n",
        "\n",
        "# 7. log(): returns the natural logarithm of a number\n",
        "f = 10\n",
        "print(math.log(f))  # Output: 2.302585092994046\n",
        "\n",
        "# 8. log10(): returns the base-10 logarithm of a number\n",
        "g = 100\n",
        "print(math.log10(g))  # Output: 2.0\n",
        "\n",
        "# 9. sin(): returns the sine of a given angle in radians\n",
        "h = math.pi/2\n",
        "print(math.sin(h))  # Output: 1.0\n",
        "\n",
        "# 10. cos(): returns the cosine of a given angle in radians\n",
        "i = math.pi\n",
        "print(math.pi) # Output: 3.141592653589793\n",
        "print(math.cos(i))  # Output: -1.0\n",
        "\n",
        "# 11. tan(): returns the tangent of a given angle in radians\n",
        "j = math.pi/4\n",
        "print(math.tan(j))  # Output: 0.9999999999999999\n",
        "\n",
        "# 12. degrees(): converts an angle from radians to degrees\n",
        "k = math.pi/2\n",
        "print(math.degrees(k))  # Output: 90.0\n",
        "\n",
        "# 13. radians(): converts an angle from degrees to radians\n",
        "l = 180\n",
        "print(math.radians(l))  # Output: 3.141592653589793\n",
        "\n",
        "# 14. factorial(): returns the factorial of a given number\n",
        "m = 5\n",
        "print(math.factorial(m))  # Output: 120\n",
        "\n",
        "# 15. gcd(): returns the greatest common divisor of two numbers\n",
        "n = 12\n",
        "o = 16\n",
        "print(math.gcd(n, o))  # Output: 4\n"
      ],
      "metadata": {
        "colab": {
          "base_uri": "https://localhost:8080/"
        },
        "id": "doFpCfVU96VQ",
        "outputId": "358ab4c4-c63b-49e3-98a5-57576407b7dc"
      },
      "execution_count": null,
      "outputs": [
        {
          "output_type": "stream",
          "name": "stdout",
          "text": [
            "5\n",
            "4\n",
            "4.5\n",
            "4.0\n",
            "8.0\n",
            "7.38905609893065\n",
            "2.302585092994046\n",
            "2.0\n",
            "1.0\n",
            "3.141592653589793\n",
            "-1.0\n",
            "0.9999999999999999\n",
            "90.0\n",
            "3.141592653589793\n",
            "120\n",
            "4\n"
          ]
        }
      ]
    },
    {
      "cell_type": "markdown",
      "source": [
        "# Numpy"
      ],
      "metadata": {
        "id": "WjAGf0XH_BWl"
      }
    },
    {
      "cell_type": "markdown",
      "source": [
        "### Direct arithmetic operations"
      ],
      "metadata": {
        "id": "Ez_SalzOJu7C"
      }
    },
    {
      "cell_type": "code",
      "source": [
        "import numpy as np\n",
        "\n",
        "# create two 2D arrays\n",
        "arr1 = np.array([[1, 2], [3, 4]])\n",
        "arr2 = np.array([[5, 6], [7, 8]])\n",
        "\n",
        "# add two arrays element-wise\n",
        "arr_sum = arr1 + arr2\n",
        "print(\"Array sum:\")\n",
        "print(arr_sum)\n",
        "\n",
        "# subtract one array from another element-wise\n",
        "arr_diff = arr1 - arr2\n",
        "print(\"Array difference:\")\n",
        "print(arr_diff)\n",
        "\n",
        "# multiply two arrays element-wise\n",
        "arr_product = arr1 * arr2\n",
        "print(\"Array product:\")\n",
        "print(arr_product)\n",
        "\n",
        "# divide one array by another element-wise\n",
        "arr_quotient = arr1 / arr2\n",
        "print(\"Array quotient:\")\n",
        "print(arr_quotient)\n",
        "\n",
        "# raise one array to the power of another element-wise\n",
        "arr_power = arr1 ** arr2\n",
        "print(\"Array power:\")\n",
        "print(arr_power)\n"
      ],
      "metadata": {
        "colab": {
          "base_uri": "https://localhost:8080/"
        },
        "id": "JvIK3PKbJtzF",
        "outputId": "7a80fa52-adbe-47a8-97ce-fe4cb615b71e"
      },
      "execution_count": null,
      "outputs": [
        {
          "output_type": "stream",
          "name": "stdout",
          "text": [
            "Array sum:\n",
            "[[ 6  8]\n",
            " [10 12]]\n",
            "Array difference:\n",
            "[[-4 -4]\n",
            " [-4 -4]]\n",
            "Array product:\n",
            "[[ 5 12]\n",
            " [21 32]]\n",
            "Array quotient:\n",
            "[[0.2        0.33333333]\n",
            " [0.42857143 0.5       ]]\n",
            "Array power:\n",
            "[[    1    64]\n",
            " [ 2187 65536]]\n"
          ]
        }
      ]
    },
    {
      "cell_type": "markdown",
      "source": [
        "### Creating Arrays, Indexing, Slicing, and subsetting"
      ],
      "metadata": {
        "id": "jnfmslGX9ebJ"
      }
    },
    {
      "cell_type": "code",
      "source": [
        "import numpy as np\n",
        "\n",
        "# NumPy Creating Arrays\n",
        "# Creating an array from a list\n",
        "my_list = [1, 2, 3, 4, 5]\n",
        "my_array = np.array(my_list)\n",
        "print(my_array)\n",
        "\n",
        "# Creating an array of zeros\n",
        "zeros_array = np.zeros(5)\n",
        "print(zeros_array)\n",
        "\n",
        "# Creating an array of ones\n",
        "ones_array = np.ones(5)\n",
        "print(ones_array)\n",
        "\n",
        "# Creating a 1D array\n",
        "arr = np.array([1, 2, 3, 4, 5])\n",
        "\n",
        "# Printing the array\n",
        "print(\"Original array:\", arr)\n",
        "\n",
        "# Selecting a single element\n",
        "print(\"Element at index 2:\", arr[2])\n",
        "\n",
        "# Selecting a range of elements using slicing\n",
        "print(\"Elements from index 1 to 3:\", arr[1:4])\n",
        "\n",
        "# Selecting every other element using slicing\n",
        "print(\"Every other element:\", arr[::2])\n",
        "\n",
        "# Creating a 2D array\n",
        "arr_2d = np.array([[1, 2, 3], [4, 5, 6], [7, 8, 9]])\n",
        "\n",
        "# Printing the array\n",
        "print(\"Original 2D array:\\n\", arr_2d)\n",
        "\n",
        "# Selecting a single element\n",
        "print(\"Element at row 1, column 2:\", arr_2d[1, 2])\n",
        "\n",
        "# Selecting a row using slicing\n",
        "print(\"Row 2:\", arr_2d[1, :])\n",
        "\n",
        "# Selecting a column using slicing\n",
        "print(\"Column 3:\", arr_2d[:, 2])\n",
        "\n",
        "# Selecting a subarray using slicing\n",
        "print(\"Subarray at row 1 and 2, column 2 and 3:\\n\", arr_2d[1:3, 1:3])\n",
        "\n",
        "# Subsetting the array to get only the values greater than 3\n",
        "subset_arr = arr[arr > 3]"
      ],
      "metadata": {
        "colab": {
          "base_uri": "https://localhost:8080/"
        },
        "id": "n7SQu5HU-CNh",
        "outputId": "09d8f3c0-2fcc-4323-9de1-3ed50c899cc0"
      },
      "execution_count": null,
      "outputs": [
        {
          "output_type": "stream",
          "name": "stdout",
          "text": [
            "[1 2 3 4 5]\n",
            "[0. 0. 0. 0. 0.]\n",
            "[1. 1. 1. 1. 1.]\n",
            "Original array: [1 2 3 4 5]\n",
            "Element at index 2: 3\n",
            "Elements from index 1 to 3: [2 3 4]\n",
            "Every other element: [1 3 5]\n",
            "Original 2D array:\n",
            " [[1 2 3]\n",
            " [4 5 6]\n",
            " [7 8 9]]\n",
            "Element at row 1, column 2: 6\n",
            "Row 2: [4 5 6]\n",
            "Column 3: [3 6 9]\n",
            "Subarray at row 1 and 2, column 2 and 3:\n",
            " [[5 6]\n",
            " [8 9]]\n"
          ]
        }
      ]
    },
    {
      "cell_type": "code",
      "source": [
        "# boolean indexing: a way to select values from a NumPy array based on a boolean condition.\n",
        "\n",
        "bmi = np.array([1, 2, 3, 4, 25, 55])\n",
        "\n",
        "# Create the light array\n",
        "light = bmi < 21\n",
        "\n",
        "# Print out light\n",
        "print(light)\n",
        "\n",
        "# Print out BMIs of all baseball players whose BMI is below 21\n",
        "print(bmi[light])"
      ],
      "metadata": {
        "colab": {
          "base_uri": "https://localhost:8080/"
        },
        "id": "G1m89RA0Ddsa",
        "outputId": "8986bae4-4b1b-4139-a2db-bda1a746ccfc"
      },
      "execution_count": null,
      "outputs": [
        {
          "output_type": "stream",
          "name": "stdout",
          "text": [
            "[ True  True  True  True False False]\n",
            "[1 2 3 4]\n"
          ]
        }
      ]
    },
    {
      "cell_type": "markdown",
      "source": [
        "There are several techniques and tricks to select values from a NumPy array:\n",
        "\n",
        "\n",
        "    Using boolean indexing: You can create a boolean mask to select specific values from a NumPy array based on a condition.\n",
        "\n",
        "    Using integer indexing: You can use integer indices to select specific rows or columns of a NumPy array.\n",
        "\n",
        "    Using slicing: You can use the slicing operator : to select a subset of the elements in a NumPy array.\n",
        "\n",
        "    Using the where() function: You can use the where() function to select values from a NumPy array based on a condition.\n",
        "\n",
        "    Using the take() function: You can use the take() function to select specific values from a NumPy array based on their index.\n",
        "\n",
        "    Using the choose() function: You can use the choose() function to select specific values from a NumPy array based on their index.\n",
        "\n",
        "    Using the compress() function: You can use the compress() function to select specific values from a NumPy array based on a boolean mask.\n",
        "\n",
        "These techniques can be used in combination to create more complex selection criteria.\n"
      ],
      "metadata": {
        "id": "13sS_hTXFJiX"
      }
    },
    {
      "cell_type": "markdown",
      "source": [
        "### functions for arithmetic operations on 2D arrays\n",
        "\n",
        "    np.add(): performs element-wise addition of two arrays.\n",
        "    np.subtract(): performs element-wise subtraction of two arrays.\n",
        "    np.multiply(): performs element-wise multiplication of two arrays.\n",
        "    np.divide(): performs element-wise division of two arrays.\n",
        "    np.dot(): performs dot product of two arrays.\n",
        "    np.matmul(): performs matrix multiplication of two arrays.\n",
        "    np.transpose(): transposes the array.\n",
        "    np.sum(): returns the sum of all elements in the array or along a specific axis.\n",
        "    np.mean(): returns the mean of all elements in the array or along a specific axis."
      ],
      "metadata": {
        "id": "DPn5iExoDOoC"
      }
    },
    {
      "cell_type": "code",
      "source": [
        "import numpy as np\n",
        "\n",
        "# creating 2D arrays\n",
        "a = np.array([[1, 2, 3], [4, 5, 6], [7, 8, 9]])\n",
        "b = np.array([[2, 2, 2], [3, 3, 3], [4, 4, 4]])\n",
        "\n",
        "# element-wise addition\n",
        "c = np.add(a, b)\n",
        "print(\"Element-wise addition:\\n\", c)\n",
        "\n",
        "# element-wise subtraction\n",
        "d = np.subtract(a, b)\n",
        "print(\"Element-wise subtraction:\\n\", d)\n",
        "\n",
        "# element-wise multiplication\n",
        "e = np.multiply(a, b)\n",
        "print(\"Element-wise multiplication:\\n\", e)\n",
        "\n",
        "# element-wise division\n",
        "f = np.divide(a, b)\n",
        "print(\"Element-wise division:\\n\", f)\n",
        "\n",
        "# dot product\n",
        "g = np.dot(a, b)\n",
        "print(\"Dot product:\\n\", g)\n",
        "\n",
        "# matrix multiplication\n",
        "h = np.matmul(a, b)\n",
        "print(\"Matrix multiplication:\\n\", h)\n",
        "\n",
        "# transpose\n",
        "i = np.transpose(a)\n",
        "print(\"Transpose:\\n\", i)\n",
        "\n",
        "# sum along axis 0\n",
        "j = np.sum(a, axis=0)\n",
        "print(\"Sum along axis 0:\\n\", j)\n",
        "\n",
        "# sum along axis 1\n",
        "k = np.sum(a, axis=1)\n",
        "print(\"Sum along axis 1:\\n\", k)\n"
      ],
      "metadata": {
        "colab": {
          "base_uri": "https://localhost:8080/"
        },
        "id": "IGZJHvYK9_t0",
        "outputId": "02aafeb6-ee2e-45c0-f164-a88c40f449ef"
      },
      "execution_count": null,
      "outputs": [
        {
          "output_type": "stream",
          "name": "stdout",
          "text": [
            "Element-wise addition:\n",
            " [[ 3  4  5]\n",
            " [ 7  8  9]\n",
            " [11 12 13]]\n",
            "Element-wise subtraction:\n",
            " [[-1  0  1]\n",
            " [ 1  2  3]\n",
            " [ 3  4  5]]\n",
            "Element-wise multiplication:\n",
            " [[ 2  4  6]\n",
            " [12 15 18]\n",
            " [28 32 36]]\n",
            "Element-wise division:\n",
            " [[0.5        1.         1.5       ]\n",
            " [1.33333333 1.66666667 2.        ]\n",
            " [1.75       2.         2.25      ]]\n",
            "Dot product:\n",
            " [[20 20 20]\n",
            " [47 47 47]\n",
            " [74 74 74]]\n",
            "Matrix multiplication:\n",
            " [[20 20 20]\n",
            " [47 47 47]\n",
            " [74 74 74]]\n",
            "Transpose:\n",
            " [[1 4 7]\n",
            " [2 5 8]\n",
            " [3 6 9]]\n",
            "Sum along axis 0:\n",
            " [12 15 18]\n",
            "Sum along axis 1:\n",
            " [ 6 15 24]\n"
          ]
        }
      ]
    },
    {
      "cell_type": "markdown",
      "source": [
        "NumPy functions that perform element-wise logical operations on arrays:\n",
        "`np.logical_and()`, `np.logical_or()`, and `np.logical_not()` \n",
        "\n"
      ],
      "metadata": {
        "id": "BSqHfxR8S4bH"
      }
    },
    {
      "cell_type": "code",
      "source": [
        "my_house = np.array([18.0, 20.0, 10.75, 9.50])\n",
        "your_house = np.array([14.0, 24.0, 14.25, 9.0])\n",
        "\n",
        "np.logical_and(my_house > 13, \n",
        "               your_house < 15)"
      ],
      "metadata": {
        "colab": {
          "base_uri": "https://localhost:8080/"
        },
        "id": "O9UaBz7dTKt-",
        "outputId": "811f048e-3d38-4114-aa83-044185815eee"
      },
      "execution_count": null,
      "outputs": [
        {
          "output_type": "execute_result",
          "data": {
            "text/plain": [
              "array([ True, False, False, False])"
            ]
          },
          "metadata": {},
          "execution_count": 21
        }
      ]
    },
    {
      "cell_type": "code",
      "source": [],
      "metadata": {
        "id": "ej9KadUfE_xD"
      },
      "execution_count": null,
      "outputs": []
    },
    {
      "cell_type": "markdown",
      "source": [
        "### NumPy statistical functions \n",
        "\n",
        "    numpy.mean(): Calculates the arithmetic mean of the elements in the array.\n",
        "    numpy.median(): Calculates the median of the elements in the array.\n",
        "    numpy.std(): Calculates the standard deviation of the elements in the array.\n",
        "    numpy.var(): Calculates the variance of the elements in the array.\n",
        "    numpy.min(): Finds the minimum value of the elements in the array.\n",
        "    numpy.max(): Finds the maximum value of the elements in the array."
      ],
      "metadata": {
        "id": "DA21fUIjFAr0"
      }
    },
    {
      "cell_type": "code",
      "source": [
        "\n",
        "# mean along axis 0\n",
        "l = np.mean(a, axis=0)\n",
        "print(\"Mean along axis 0:\\n\", l)\n",
        "\n",
        "# mean along axis 1\n",
        "m = np.mean(a, axis=1)\n",
        "print(\"Mean along axis 1:\\n\", m)\n",
        "\n",
        "# Calculate the median of the array\n",
        "median = np.median(my_array)\n",
        "print(\"The median of the array is:\", median)\n",
        "\n",
        "\n",
        "\n",
        "# Calculate the mean of the array\n",
        "mean = np.mean(arr)\n",
        "print(\"Mean:\", mean)  # Output: Mean: 3.0\n",
        "\n",
        "# Calculate the median of the array\n",
        "median = np.median(arr)\n",
        "print(\"Median:\", median)  # Output: Median: 3.0\n",
        "\n",
        "# Calculate the standard deviation of the array\n",
        "std = np.std(arr)\n",
        "print(\"Standard deviation:\", std)  # Output: Standard deviation: 1.4142135623730951\n",
        "\n",
        "# Calculate the variance of the array\n",
        "var = np.var(arr)\n",
        "print(\"Variance:\", var)  # Output: Variance: 2.0\n",
        "\n",
        "# Find the minimum value of the array\n",
        "min_val = np.min(arr)\n",
        "print(\"Minimum value:\", min_val)  # Output: Minimum value: 1\n",
        "\n",
        "# Find the maximum value of the array\n",
        "max_val = np.max(arr)\n",
        "print(\"Maximum value:\", max_val)  # Output: Maximum value: 5\n",
        "\n",
        "# Correlation coefficient\n",
        "arr = np.array([[1, 2, 3], [4, 5, 6], [7, 8, 9]])\n",
        "arr2 = np.array([[2, 4, 6], [1, 3, 5], [3, 6, 9]])\n",
        "corr_coef = np.corrcoef(arr, arr2)\n",
        "print(\"Correlation coefficient:\\n\", corr_coef)\n"
      ],
      "metadata": {
        "colab": {
          "base_uri": "https://localhost:8080/"
        },
        "id": "mCdhS2lMFORh",
        "outputId": "852b1244-489b-44c4-ff95-880679c41317"
      },
      "execution_count": null,
      "outputs": [
        {
          "output_type": "stream",
          "name": "stdout",
          "text": [
            "Mean along axis 0:\n",
            " [4. 5. 6.]\n",
            "Mean along axis 1:\n",
            " [2. 5. 8.]\n",
            "The median of the array is: 3.0\n",
            "Mean: 3.0\n",
            "Median: 3.0\n",
            "Standard deviation: 1.4142135623730951\n",
            "Variance: 2.0\n",
            "Minimum value: 1\n",
            "Maximum value: 5\n",
            "Correlation coefficient:\n",
            " [[1. 1. 1. 1. 1. 1.]\n",
            " [1. 1. 1. 1. 1. 1.]\n",
            " [1. 1. 1. 1. 1. 1.]\n",
            " [1. 1. 1. 1. 1. 1.]\n",
            " [1. 1. 1. 1. 1. 1.]\n",
            " [1. 1. 1. 1. 1. 1.]]\n"
          ]
        }
      ]
    },
    {
      "cell_type": "markdown",
      "source": [],
      "metadata": {
        "id": "_WWM9cs-9cCl"
      }
    }
  ],
  "metadata": {
    "colab": {
      "provenance": [],
      "toc_visible": true,
      "authorship_tag": "ABX9TyOxrsZpF1sw6inXjgPIIJH6",
      "include_colab_link": true
    },
    "kernelspec": {
      "display_name": "Python 3",
      "name": "python3"
    },
    "language_info": {
      "name": "python"
    }
  },
  "nbformat": 4,
  "nbformat_minor": 0
}