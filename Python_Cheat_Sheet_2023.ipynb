{
  "cells": [
    {
      "cell_type": "markdown",
      "metadata": {
        "id": "view-in-github",
        "colab_type": "text"
      },
      "source": [
        "<a href=\"https://colab.research.google.com/github/ia234/Python_23/blob/main/Python_Cheat_Sheet_2023.ipynb\" target=\"_parent\"><img src=\"https://colab.research.google.com/assets/colab-badge.svg\" alt=\"Open In Colab\"/></a>"
      ]
    },
    {
      "cell_type": "code",
      "execution_count": null,
      "metadata": {
        "id": "kZ5VIILK1Wsw"
      },
      "outputs": [],
      "source": []
    },
    {
      "cell_type": "markdown",
      "metadata": {
        "id": "0WL-57iB98TJ"
      },
      "source": [
        "# Python"
      ]
    },
    {
      "cell_type": "markdown",
      "metadata": {
        "id": "iJrSmRZwFW8g"
      },
      "source": [
        "## Data Types"
      ]
    },
    {
      "cell_type": "markdown",
      "metadata": {
        "id": "AomJyuxJauvM"
      },
      "source": [
        "Numeric Data Types:"
      ]
    },
    {
      "cell_type": "code",
      "execution_count": null,
      "metadata": {
        "colab": {
          "base_uri": "https://localhost:8080/"
        },
        "id": "m3zhDO0oawxR",
        "outputId": "f8c5e8c1-72b0-41cd-fb92-f2277100c171"
      },
      "outputs": [
        {
          "output_type": "stream",
          "name": "stdout",
          "text": [
            "<class 'int'>\n",
            "<class 'float'>\n",
            "<class 'complex'>\n"
          ]
        }
      ],
      "source": [
        "# integer\n",
        "my_int = 10\n",
        "print(type(my_int))  # Output: <class 'int'>\n",
        "\n",
        "# floating-point number\n",
        "my_float = 3.14\n",
        "print(type(my_float))  # Output: <class 'float'>\n",
        "\n",
        "# complex number\n",
        "my_complex = 2 + 3j\n",
        "print(type(my_complex))  # Output: <class 'complex'>\n"
      ]
    },
    {
      "cell_type": "markdown",
      "metadata": {
        "id": "JSuFiPauazxL"
      },
      "source": [
        "Sequence Data Types:"
      ]
    },
    {
      "cell_type": "code",
      "execution_count": null,
      "metadata": {
        "colab": {
          "base_uri": "https://localhost:8080/"
        },
        "id": "ROV-2xzVaysV",
        "outputId": "274396a3-bcdc-4db2-9571-f643a996ab11"
      },
      "outputs": [
        {
          "output_type": "stream",
          "name": "stdout",
          "text": [
            "<class 'str'>\n",
            "<class 'list'>\n",
            "<class 'tuple'>\n",
            "<class 'range'>\n"
          ]
        }
      ],
      "source": [
        "# string\n",
        "my_string = \"Hello, World!\"\n",
        "print(type(my_string))  # Output: <class 'str'>\n",
        "\n",
        "# list This is a collection of items that are ordered and changeable.\n",
        "my_list = [1, 2, \"three\", True]\n",
        "print(type(my_list))  # Output: <class 'list'>\n",
        "\n",
        "# tuple This is a collection of items that are ordered and unchangeable.\n",
        "my_tuple = (1, 2, \"three\", True)\n",
        "print(type(my_tuple))  # Output: <class 'tuple'>\n",
        "\n",
        "# range The range function is used to create a sequence of numbers, and it returns a range object. \n",
        "my_range = range(5)\n",
        "print(type(my_range))  # Output: <class 'range'>\n",
        "\n"
      ]
    },
    {
      "cell_type": "markdown",
      "metadata": {
        "id": "dkxThZv3a7Ar"
      },
      "source": [
        "Mapping Data Type:"
      ]
    },
    {
      "cell_type": "code",
      "execution_count": null,
      "metadata": {
        "colab": {
          "base_uri": "https://localhost:8080/"
        },
        "id": "L8eIY82ta7np",
        "outputId": "45109e68-b3ef-407f-a34d-ef4210b4a8f5"
      },
      "outputs": [
        {
          "output_type": "stream",
          "name": "stdout",
          "text": [
            "<class 'dict'>\n"
          ]
        }
      ],
      "source": [
        "# dictionary: This is a collection of key-value pairs that are unordered and changeable.\n",
        "my_dict = {\"name\": \"John\", \"age\": 30, \"city\": \"New York\"}\n",
        "print(type(my_dict))  # Output: <class 'dict'>\n"
      ]
    },
    {
      "cell_type": "markdown",
      "metadata": {
        "id": "dEziDcfJa-54"
      },
      "source": [
        "Set Data Type:"
      ]
    },
    {
      "cell_type": "code",
      "execution_count": null,
      "metadata": {
        "colab": {
          "base_uri": "https://localhost:8080/"
        },
        "id": "2u73TfxDbAYl",
        "outputId": "4266725f-f750-4416-d1ae-4af213840c17"
      },
      "outputs": [
        {
          "output_type": "stream",
          "name": "stdout",
          "text": [
            "<class 'set'>\n",
            "<class 'frozenset'>\n"
          ]
        }
      ],
      "source": [
        "# set: This is a collection of unique items that are unordered and unindexed.\n",
        "my_set = {1, 2, \"three\", True}\n",
        "print(type(my_set))  # Output: <class 'set'>\n",
        "\n",
        "\n",
        "# frozenset The frozenset function is used to create an immutable set, and it returns a frozenset object.\n",
        "my_frozenset = frozenset({1, 2, 3})\n",
        "print(type(my_frozenset))  # Output: <class 'frozenset'>\n"
      ]
    },
    {
      "cell_type": "markdown",
      "metadata": {
        "id": "uUzcbn7qbB6d"
      },
      "source": [
        "**Boolean Data Type:**"
      ]
    },
    {
      "cell_type": "code",
      "execution_count": null,
      "metadata": {
        "colab": {
          "base_uri": "https://localhost:8080/"
        },
        "id": "w9KJ_ZoKbDQG",
        "outputId": "2bc26dcc-7cc9-4d7c-f30e-97dd258428ce"
      },
      "outputs": [
        {
          "output_type": "stream",
          "name": "stdout",
          "text": [
            "<class 'bool'>\n"
          ]
        }
      ],
      "source": [
        "# boolean: This is a data type that represents True or False values.\n",
        "my_bool = True\n",
        "print(type(my_bool))  # Output: <class 'bool'>\n"
      ]
    },
    {
      "cell_type": "markdown",
      "metadata": {
        "id": "qKzuPbm1epCO"
      },
      "source": [
        "## Arithmetic Operators"
      ]
    },
    {
      "cell_type": "code",
      "execution_count": null,
      "metadata": {
        "colab": {
          "base_uri": "https://localhost:8080/"
        },
        "id": "-IYRrKF6eoiC",
        "outputId": "57eb36e3-8340-4879-90a8-30db5864c418"
      },
      "outputs": [
        {
          "output_type": "stream",
          "name": "stdout",
          "text": [
            "16\n",
            "2\n",
            "63\n",
            "1.2857142857142858\n",
            "1\n",
            "2\n",
            "4782969\n"
          ]
        }
      ],
      "source": [
        "x = 9\n",
        "y = 7\n",
        "\n",
        "# Addition\n",
        "z = x + y  # add x and y\n",
        "print(z)\n",
        "\n",
        "# Subtraction\n",
        "z = x - y  # subtract y from x\n",
        "print(z)\n",
        "\n",
        "# Multiplication\n",
        "z = x * y  # multiply x and y\n",
        "print(z)\n",
        "\n",
        "# Division\n",
        "z = x / y  # divide x by y\n",
        "print(z)\n",
        "\n",
        "# Floor Division\n",
        "z = x // y  # divide x by y and round down to the nearest integer\n",
        "print(z)\n",
        "\n",
        "# Modulus\n",
        "z = x % y  # find the remainder of x divided by y\n",
        "print(z)\n",
        "\n",
        "# Exponentiation\n",
        "z = x ** y  # raise x to the power of y\n",
        "print(z)\n"
      ]
    },
    {
      "cell_type": "markdown",
      "metadata": {
        "id": "P60_iobmsvHU"
      },
      "source": [
        "## Lists"
      ]
    },
    {
      "cell_type": "markdown",
      "metadata": {
        "id": "KIrV3iJjlBFO"
      },
      "source": [
        "### List Subsetting & Slicing"
      ]
    },
    {
      "cell_type": "code",
      "execution_count": null,
      "metadata": {
        "colab": {
          "base_uri": "https://localhost:8080/"
        },
        "id": "Auqet2THlBU_",
        "outputId": "88a2ef75-852b-4fb9-e23d-155b740f5ba1"
      },
      "outputs": [
        {
          "output_type": "stream",
          "name": "stdout",
          "text": [
            "apple\n",
            "cherry\n",
            "['banana', 'cherry', 'date']\n",
            "['apple', 'banana', 'cherry']\n",
            "['date', 'elderberry']\n",
            "elderberry\n",
            "['cherry', 'date', 'elderberry']\n"
          ]
        }
      ],
      "source": [
        "# Define a list of fruits\n",
        "fruits = [\"apple\", \"banana\", \"cherry\", \"date\", \"elderberry\"]\n",
        "\n",
        "# Access a single element using its index (starts at 0)\n",
        "print(fruits[0])    # Output: \"apple\"\n",
        "print(fruits[2])    # Output: \"cherry\"\n",
        "\n",
        "# Access a range of elements using a slice\n",
        "print(fruits[1:4])  # Output: [\"banana\", \"cherry\", \"date\"]\n",
        "print(fruits[:3])   # Output: [\"apple\", \"banana\", \"cherry\"]\n",
        "print(fruits[3:])   # Output: [\"date\", \"elderberry\"]\n",
        "\n",
        "# Access elements from the end of the list using negative indexing\n",
        "print(fruits[-1])   # Output: \"elderberry\"\n",
        "print(fruits[-3:])  # Output: [\"cherry\", \"date\", \"elderberry\"]\n",
        "\n",
        "\n"
      ]
    },
    {
      "cell_type": "markdown",
      "metadata": {
        "id": "KeONGgweszYy"
      },
      "source": [
        "### List operations and Functions"
      ]
    },
    {
      "cell_type": "code",
      "execution_count": null,
      "metadata": {
        "colab": {
          "base_uri": "https://localhost:8080/"
        },
        "id": "qfoGPnU4pRAO",
        "outputId": "014eb395-6651-4540-f8a4-5be5bd119394"
      },
      "outputs": [
        {
          "output_type": "stream",
          "name": "stdout",
          "text": [
            "Yes, 'apple' is in the fruits list\n",
            "apple\n",
            "banana\n",
            "cherry\n",
            "date\n",
            "elderberry\n",
            "['apple', 'kiwi', 'cherry', 'date', 'elderberry']\n",
            "['apple', 'kiwi', 'cherry', 'date', 'elderberry', 'orange']\n",
            "['apple', 'cherry', 'date', 'elderberry', 'orange']\n",
            "apple\n",
            "cherry\n",
            "date\n",
            "elderberry\n",
            "orange\n",
            "['apple', 'date', 'orange']\n",
            "['apple', 'cherry', 'date', 'elderberry', 'orange']\n",
            "['apple', 'cherry', 'date', 'elderberry', 'orange']\n",
            "['apple', 'cherry', 'date', 'elderberry', 'orange', 'beetroot', 'carrot', 'spinach']\n"
          ]
        }
      ],
      "source": [
        "# Check if Item Exists\n",
        "if \"apple\" in fruits:\n",
        "    print(\"Yes, 'apple' is in the fruits list\")  # Output: \"Yes, 'apple' is in the fruits list\"\n",
        "\n",
        "# Access List Items\n",
        "for fruit in fruits:\n",
        "    print(fruit)  # Output: \"apple\", \"banana\", \"cherry\"\n",
        "\n",
        "# Change List Items\n",
        "fruits[1] = \"kiwi\"\n",
        "print(fruits)  # Output: [\"apple\", \"kiwi\", \"cherry\"]\n",
        "\n",
        "# Add List Items\n",
        "fruits.append(\"orange\")\n",
        "print(fruits)  # Output: [\"apple\", \"kiwi\", \"cherry\", \"orange\"]\n",
        "\n",
        "# Remove List Items\n",
        "fruits.remove(\"kiwi\")\n",
        "print(fruits)  # Output: [\"apple\", \"cherry\", \"orange\"]\n",
        "\n",
        "# Loop Lists\n",
        "for fruit in fruits:\n",
        "    print(fruit)  # Output: \"apple\", \"cherry\", \"orange\"\n",
        "\n",
        "# List Comprehension\n",
        "new_list = [fruit for fruit in fruits if \"a\" in fruit]\n",
        "print(new_list)  # Output: [\"apple\", \"orange\"]\n",
        "\n",
        "# Sort Lists\n",
        "fruits.sort()\n",
        "print(fruits)  # Output: [\"apple\", \"cherry\", \"orange\"]\n",
        "\n",
        "# Copy Lists in 3 ways:\n",
        "# 1. using .copy() method\n",
        "new_fruits = fruits.copy()\n",
        "print(new_fruits)  # Output: [\"apple\", \"cherry\", \"orange\"]\n",
        "\n",
        "# 2. using the list() function\n",
        "# list_x = list(y) \n",
        "\n",
        "# 3. using the slicing operator \n",
        "# list_x = list_y[:]\n",
        "\n",
        "# list_x = list_y copies the pointer to that list which causes any changes to list x to take effect in list y too.\n",
        "\n",
        "\n",
        "# Join Lists\n",
        "vegetables = [\"beetroot\", \"carrot\", \"spinach\"]\n",
        "food = fruits + vegetables\n",
        "print(food)  # Output: [\"apple\", \"cherry\", \"orange\", \"beetroot\", \"carrot\", \"spinach\"]\n"
      ]
    },
    {
      "cell_type": "markdown",
      "metadata": {
        "id": "nOXQFHKD2-BU"
      },
      "source": [
        "### List Methods"
      ]
    },
    {
      "cell_type": "markdown",
      "metadata": {
        "id": "IjY8PxWm3y-W"
      },
      "source": [
        "Here are 25 of the most frequently used list methods in Python, ranked in order from most frequently used to least frequently used:\n",
        "\n",
        "1. `append()` - Adds an element to the end of a list.\n",
        "2. `len()` - Returns the length of a list.\n",
        "3. `index()` - Returns the index of the first element with the specified value.\n",
        "4. `count()` - Returns the number of elements with the specified value.\n",
        "5. `pop()` - Removes the element at the specified position from a list, and returns it.\n",
        "6. `sort()` - Sorts the elements of a list in ascending order.\n",
        "7. `reverse()` - Reverses the order of the elements in a list.\n",
        "8. `extend()` - Adds the elements of another list to the end of a list.\n",
        "9. `insert()` - Adds an element at the specified position in a list.\n",
        "10. `remove()` - Removes the first occurrence of a specified element from a list.\n",
        "11. `copy()` - Returns a shallow copy of a list.\n",
        "12. `clear()` - Removes all the elements from a list.\n",
        "13. `max()` - Returns the largest element in a list.\n",
        "14. `min()` - Returns the smallest element in a list.\n",
        "15. `sum()` - Returns the sum of all elements in a list.\n",
        "16. `join()` - Joins the elements of a list into a string.\n",
        "17. `split()` - Splits a string into a list.\n",
        "18. \n",
        "19. `index()` - Returns the index of the first occurrence of a specified element in a list.\n",
        "20. `isinstance()` - Returns True if a variable is a list.\n",
        "21. `enumerate()` - Returns an enumerate object.\n",
        "22. `map()` - Applies a function to every element of a list.\n",
        "23. `filter()` - Filters the elements of a list based on a function.\n",
        "24. `zip()` - Combines two or more lists into a single list of tuples.\n",
        "25. `any()` - Returns True if any element of a list is True."
      ]
    },
    {
      "cell_type": "markdown",
      "metadata": {
        "id": "ggSx7EzB30mD"
      },
      "source": []
    },
    {
      "cell_type": "code",
      "execution_count": null,
      "metadata": {
        "colab": {
          "base_uri": "https://localhost:8080/"
        },
        "id": "b-8idEhe3Ags",
        "outputId": "cb37c21f-8ef8-4547-cf77-77a2cf8f0de3"
      },
      "outputs": [
        {
          "output_type": "stream",
          "name": "stdout",
          "text": [
            "['apple', 'banana', 'cherry', 'orange']\n",
            "3\n",
            "2\n",
            "2\n",
            "['apple', 'cherry']\n",
            "['apple', 'banana', 'cherry']\n",
            "['cherry', 'banana', 'apple']\n",
            "['apple', 'banana', 'cherry', 'Ford', 'BMW', 'Volvo']\n",
            "['apple', 'orange', 'banana', 'cherry']\n",
            "['apple', 'cherry']\n",
            "['apple', 'banana', 'cherry']\n",
            "[]\n",
            "5\n",
            "1\n",
            "15\n",
            "Hello world !\n",
            "['Hello', 'world', '!']\n",
            "1\n",
            "True\n",
            "0 apple\n",
            "1 banana\n",
            "2 cherry\n",
            "[1, 4, 9, 16, 25]\n",
            "[2, 4]\n",
            "[('apple', 'red'), ('banana', 'yellow'), ('cherry', 'blue')]\n",
            "True\n"
          ]
        }
      ],
      "source": [
        "# Here are the 25 most frequently used list methods in Python, ranked in order from most frequently used to least frequently used, with comments and examples:\n",
        "\n",
        "# 1. append() - Adds an element to the end of a list.\n",
        "fruits = [\"apple\", \"banana\", \"cherry\"]\n",
        "fruits.append(\"orange\")\n",
        "print(fruits) # Output: [\"apple\", \"banana\", \"cherry\", \"orange\"]\n",
        "\n",
        "# 2. len() - Returns the length of a list.\n",
        "fruits = [\"apple\", \"banana\", \"cherry\"]\n",
        "print(len(fruits)) # Output: 3\n",
        "\n",
        "# 3. index() - Returns the index of the first element with the specified value.\n",
        "fruits = [\"apple\", \"banana\", \"cherry\"]\n",
        "print(fruits.index(\"cherry\")) # Output: 2\n",
        "\n",
        "# 4. count() - Returns the number of elements with the specified value.\n",
        "fruits = [\"apple\", \"banana\", \"cherry\", \"cherry\"]\n",
        "print(fruits.count(\"cherry\")) # Output: 2\n",
        "\n",
        "# 5. pop() - Removes the element at the specified position from a list, and returns it.\n",
        "fruits = [\"apple\", \"banana\", \"cherry\"]\n",
        "fruits.pop(1)\n",
        "print(fruits) # Output: [\"apple\", \"cherry\"]\n",
        "\n",
        "# 6. sort() - Sorts the elements of a list in ascending order.\n",
        "fruits = [\"banana\", \"cherry\", \"apple\"]\n",
        "fruits.sort()\n",
        "print(fruits) # Output: [\"apple\", \"banana\", \"cherry\"]\n",
        "\n",
        "# 7. reverse() - Reverses the order of the elements in a list.\n",
        "fruits = [\"apple\", \"banana\", \"cherry\"]\n",
        "fruits.reverse()\n",
        "print(fruits) # Output: [\"cherry\", \"banana\", \"apple\"]\n",
        "\n",
        "# 8. extend() - Adds the elements of another list to the end of a list.\n",
        "fruits = [\"apple\", \"banana\", \"cherry\"]\n",
        "cars = [\"Ford\", \"BMW\", \"Volvo\"]\n",
        "fruits.extend(cars)\n",
        "print(fruits) # Output: [\"apple\", \"banana\", \"cherry\", \"Ford\", \"BMW\", \"Volvo\"]\n",
        "\n",
        "# 9. insert() - Adds an element at the specified position in a list.\n",
        "fruits = [\"apple\", \"banana\", \"cherry\"]\n",
        "fruits.insert(1, \"orange\")\n",
        "print(fruits) # Output: [\"apple\", \"orange\", \"banana\", \"cherry\"]\n",
        "\n",
        "# 10. remove() - Removes the first occurrence of a specified element from a list.\n",
        "fruits = [\"apple\", \"banana\", \"cherry\"]\n",
        "fruits.remove(\"banana\")\n",
        "print(fruits) # Output: [\"apple\", \"cherry\"]\n",
        "\n",
        "# 11. copy() - Returns a shallow copy of a list.\n",
        "fruits = [\"apple\", \"banana\", \"cherry\"]\n",
        "fruits_copy = fruits.copy()\n",
        "print(fruits_copy) # Output: [\"apple\", \"banana\", \"cherry\"]\n",
        "\n",
        "# 12. clear() - Removes all the elements from a list.\n",
        "fruits = [\"apple\", \"banana\", \"cherry\"]\n",
        "fruits.clear()\n",
        "print(fruits) # Output: []\n",
        "\n",
        "# 13. max() - Returns the largest element in a list.\n",
        "numbers = [1, 2, 3, 4, 5]\n",
        "print(max(numbers)) # Output: 5\n",
        "\n",
        "# 14. min() - Returns the smallest element in a list.\n",
        "numbers = [1, 2, 3, 4, 5]\n",
        "print(min(numbers)) # Output: 1\n",
        "\n",
        "# 1. sum() - Returns the sum of all elements in a list.\n",
        "numbers = [1, 2, 3, 4, 5]\n",
        "result = sum(numbers)\n",
        "print(result)  # Output: 15\n",
        "\n",
        "# 2. join() - Joins the elements of a list into a string.\n",
        "words = [\"Hello\", \"world\", \"!\"]\n",
        "result = \" \".join(words)\n",
        "print(result)  # Output: \"Hello world !\"\n",
        "\n",
        "# 3. split() - Splits a string into a list.\n",
        "sentence = \"Hello world !\"\n",
        "words = sentence.split()\n",
        "print(words)  # Output: [\"Hello\", \"world\", \"!\"]\n",
        "\n",
        "# 4. \n",
        "\n",
        "# 5. index() - Returns the index of the first occurrence of a specified element in a list.\n",
        "fruits = [\"apple\", \"banana\", \"cherry\"]\n",
        "index = fruits.index(\"banana\")\n",
        "print(index)  # Output: 1\n",
        "\n",
        "# 6. isinstance() - Returns True if a variable is a list.\n",
        "fruits = [\"apple\", \"banana\", \"cherry\"]\n",
        "result = isinstance(fruits, list)\n",
        "print(result)  # Output: True\n",
        "\n",
        "# 7. enumerate() - Returns an enumerate object.\n",
        "fruits = [\"apple\", \"banana\", \"cherry\"]\n",
        "for index, value in enumerate(fruits):\n",
        "    print(index, value)  # Output: 0 apple, 1 banana, 2 cherry\n",
        "\n",
        "# 8. map() - Applies a function to every element of a list.\n",
        "numbers = [1, 2, 3, 4, 5]\n",
        "squares = list(map(lambda x: x**2, numbers))\n",
        "print(squares)  # Output: [1, 4, 9, 16, 25]\n",
        "\n",
        "# 9. filter() - Filters the elements of a list based on a function.\n",
        "numbers = [1, 2, 3, 4, 5]\n",
        "even_numbers = list(filter(lambda x: x % 2 == 0, numbers))\n",
        "print(even_numbers)  # Output: [2, 4]\n",
        "\n",
        "# 10. zip() - Combines two or more lists into a single list of tuples.\n",
        "fruits = [\"apple\", \"banana\", \"cherry\"]\n",
        "colors = [\"red\", \"yellow\", \"blue\"]\n",
        "zipped = list(zip(fruits, colors))\n",
        "print(zipped)  # Output: [('apple', 'red'), ('banana', 'yellow'), ('cherry', 'blue')]\n",
        "\n",
        "# 11. any() - Returns True if any element of a list is True.\n",
        "numbers = [0, 1, 2, 3, 4]\n",
        "result = any(numbers)\n",
        "print(result)  # Output: True\n"
      ]
    },
    {
      "cell_type": "code",
      "execution_count": null,
      "metadata": {
        "id": "WN4fpgLc4LQ8"
      },
      "outputs": [],
      "source": []
    },
    {
      "cell_type": "markdown",
      "source": [
        "## Math Module"
      ],
      "metadata": {
        "id": "B-PktpBF9fYX"
      }
    },
    {
      "cell_type": "code",
      "source": [
        "import math\n",
        "\n",
        "# 1. ceil(): returns the smallest integer greater than or equal to a given number\n",
        "x = 4.1\n",
        "print(math.ceil(x))  # Output: 5\n",
        "\n",
        "# 2. floor(): returns the largest integer less than or equal to a given number\n",
        "y = 4.9\n",
        "print(math.floor(y))  # Output: 4\n",
        "\n",
        "# 3. fabs(): returns the absolute value of a given number\n",
        "a = -4.5\n",
        "print(math.fabs(a))  # Output: 4.5\n",
        "\n",
        "# 4. sqrt(): returns the square root of a given number\n",
        "b = 16\n",
        "print(math.sqrt(b))  # Output: 4.0\n",
        "\n",
        "# 5. pow(): returns the value of a number raised to a power\n",
        "c = 2\n",
        "d = 3\n",
        "print(math.pow(c, d))  # Output: 8.0\n",
        "\n",
        "# 6. exp(): returns the value of e (Euler's number) raised to a power\n",
        "e = 2\n",
        "print(math.exp(e))  # Output: 7.38905609893065\n",
        "\n",
        "# 7. log(): returns the natural logarithm of a number\n",
        "f = 10\n",
        "print(math.log(f))  # Output: 2.302585092994046\n",
        "\n",
        "# 8. log10(): returns the base-10 logarithm of a number\n",
        "g = 100\n",
        "print(math.log10(g))  # Output: 2.0\n",
        "\n",
        "# 9. sin(): returns the sine of a given angle in radians\n",
        "h = math.pi/2\n",
        "print(math.sin(h))  # Output: 1.0\n",
        "\n",
        "# 10. cos(): returns the cosine of a given angle in radians\n",
        "i = math.pi\n",
        "print(math.pi) # Output: 3.141592653589793\n",
        "print(math.cos(i))  # Output: -1.0\n",
        "\n",
        "# 11. tan(): returns the tangent of a given angle in radians\n",
        "j = math.pi/4\n",
        "print(math.tan(j))  # Output: 0.9999999999999999\n",
        "\n",
        "# 12. degrees(): converts an angle from radians to degrees\n",
        "k = math.pi/2\n",
        "print(math.degrees(k))  # Output: 90.0\n",
        "\n",
        "# 13. radians(): converts an angle from degrees to radians\n",
        "l = 180\n",
        "print(math.radians(l))  # Output: 3.141592653589793\n",
        "\n",
        "# 14. factorial(): returns the factorial of a given number\n",
        "m = 5\n",
        "print(math.factorial(m))  # Output: 120\n",
        "\n",
        "# 15. gcd(): returns the greatest common divisor of two numbers\n",
        "n = 12\n",
        "o = 16\n",
        "print(math.gcd(n, o))  # Output: 4\n"
      ],
      "metadata": {
        "colab": {
          "base_uri": "https://localhost:8080/"
        },
        "id": "doFpCfVU96VQ",
        "outputId": "6ea1e612-8aaa-4189-d1de-3c8e9ae52755"
      },
      "execution_count": null,
      "outputs": [
        {
          "output_type": "stream",
          "name": "stdout",
          "text": [
            "5\n",
            "4\n",
            "4.5\n",
            "4.0\n",
            "8.0\n",
            "7.38905609893065\n",
            "2.302585092994046\n",
            "2.0\n",
            "1.0\n",
            "3.141592653589793\n",
            "-1.0\n",
            "0.9999999999999999\n",
            "90.0\n",
            "3.141592653589793\n",
            "120\n",
            "4\n"
          ]
        }
      ]
    },
    {
      "cell_type": "markdown",
      "source": [
        "# Numpy"
      ],
      "metadata": {
        "id": "WjAGf0XH_BWl"
      }
    },
    {
      "cell_type": "code",
      "source": [],
      "metadata": {
        "id": "dJYVXEDe_DTL"
      },
      "execution_count": null,
      "outputs": []
    },
    {
      "cell_type": "markdown",
      "source": [],
      "metadata": {
        "id": "_WWM9cs-9cCl"
      }
    }
  ],
  "metadata": {
    "colab": {
      "provenance": [],
      "toc_visible": true,
      "authorship_tag": "ABX9TyPuGAeU0s7ACf95qL9+AQ7A",
      "include_colab_link": true
    },
    "kernelspec": {
      "display_name": "Python 3",
      "name": "python3"
    },
    "language_info": {
      "name": "python"
    }
  },
  "nbformat": 4,
  "nbformat_minor": 0
}