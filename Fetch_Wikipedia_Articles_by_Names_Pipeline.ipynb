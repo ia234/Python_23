{
  "nbformat": 4,
  "nbformat_minor": 0,
  "metadata": {
    "colab": {
      "provenance": [],
      "mount_file_id": "1w3qTx9v5wZHfUv68XESqv5hCmRhgtE05",
      "authorship_tag": "ABX9TyN9S6kIV+fykDaWvh6vBVuR",
      "include_colab_link": true
    },
    "kernelspec": {
      "name": "python3",
      "display_name": "Python 3"
    },
    "language_info": {
      "name": "python"
    }
  },
  "cells": [
    {
      "cell_type": "markdown",
      "metadata": {
        "id": "view-in-github",
        "colab_type": "text"
      },
      "source": [
        "<a href=\"https://colab.research.google.com/github/ia234/Python_23/blob/main/Fetch_Wikipedia_Articles_by_Names_Pipeline.ipynb\" target=\"_parent\"><img src=\"https://colab.research.google.com/assets/colab-badge.svg\" alt=\"Open In Colab\"/></a>"
      ]
    },
    {
      "cell_type": "code",
      "source": [
        "# Avoids scroll-in-the-scroll in the entire Notebook\n",
        "from IPython.display import Javascript\n",
        "def resize_colab_cell():\n",
        "  display(Javascript('google.colab.output.setIframeHeight(0, true, {maxHeight: 5000})'))\n",
        "get_ipython().events.register('pre_run_cell', resize_colab_cell)"
      ],
      "metadata": {
        "id": "5u3BQq2u6F43"
      },
      "execution_count": 1,
      "outputs": []
    },
    {
      "cell_type": "code",
      "execution_count": 2,
      "metadata": {
        "colab": {
          "base_uri": "https://localhost:8080/",
          "height": 35
        },
        "id": "tTUpmLA0un3h",
        "outputId": "4e6b95fb-5794-4d5a-cd49-fcd2c6c3607b"
      },
      "outputs": [
        {
          "output_type": "display_data",
          "data": {
            "text/plain": [
              "<IPython.core.display.Javascript object>"
            ],
            "application/javascript": [
              "google.colab.output.setIframeHeight(0, true, {maxHeight: 5000})"
            ]
          },
          "metadata": {}
        },
        {
          "output_type": "stream",
          "name": "stdout",
          "text": [
            "/content/drive/MyDrive/ai_data\n"
          ]
        }
      ],
      "source": [
        "from google.colab import drive\n",
        "\n",
        "# drive.mount('/content/drive')\n",
        "%cd /content/drive/MyDrive/ai_data/"
      ]
    },
    {
      "cell_type": "code",
      "source": [
        "import pandas as pd\n",
        "\n",
        "# index_col = 0 specify the first column as the index.\n",
        "top_article_titles_df = pd.read_csv('/content/drive/MyDrive/ai_data/wikipedia_top_titles_2022.csv')\n",
        "top_article_titles_df"
      ],
      "metadata": {
        "colab": {
          "base_uri": "https://localhost:8080/",
          "height": 424
        },
        "id": "MZQnhFrMvmwr",
        "outputId": "59810f7a-237c-48a0-e87b-91f2f97b137b"
      },
      "execution_count": 3,
      "outputs": [
        {
          "output_type": "display_data",
          "data": {
            "text/plain": [
              "<IPython.core.display.Javascript object>"
            ],
            "application/javascript": [
              "google.colab.output.setIframeHeight(0, true, {maxHeight: 5000})"
            ]
          },
          "metadata": {}
        },
        {
          "output_type": "execute_result",
          "data": {
            "text/plain": [
              "                        article        date   views  rank\n",
              "0                        يوتيوب  2022-01-01   18888   317\n",
              "1             كريستيانو رونالدو  2022-01-17   67422   246\n",
              "2                          محمد  2022-01-01   31424   175\n",
              "3                          أبشر  2022-01-01    9603   170\n",
              "4               كأس العالم 2022  2022-01-19  380824   163\n",
              "...                         ...         ...     ...   ...\n",
              "1627  عبد الله بن سليمان المنيع  2022-01-05    4565     1\n",
              "1628              عبد الله رشدي  2023-01-01    4878     1\n",
              "1629              عبد الله عباس  2022-02-16    4523     1\n",
              "1630              البابا فرنسيس  2022-12-31    6181     1\n",
              "1631                فاضل البراك  2022-09-30    5087     1\n",
              "\n",
              "[1632 rows x 4 columns]"
            ],
            "text/html": [
              "\n",
              "  <div id=\"df-c32c3e6a-8b6e-44a0-9917-39e876e1c159\" class=\"colab-df-container\">\n",
              "    <div>\n",
              "<style scoped>\n",
              "    .dataframe tbody tr th:only-of-type {\n",
              "        vertical-align: middle;\n",
              "    }\n",
              "\n",
              "    .dataframe tbody tr th {\n",
              "        vertical-align: top;\n",
              "    }\n",
              "\n",
              "    .dataframe thead th {\n",
              "        text-align: right;\n",
              "    }\n",
              "</style>\n",
              "<table border=\"1\" class=\"dataframe\">\n",
              "  <thead>\n",
              "    <tr style=\"text-align: right;\">\n",
              "      <th></th>\n",
              "      <th>article</th>\n",
              "      <th>date</th>\n",
              "      <th>views</th>\n",
              "      <th>rank</th>\n",
              "    </tr>\n",
              "  </thead>\n",
              "  <tbody>\n",
              "    <tr>\n",
              "      <th>0</th>\n",
              "      <td>يوتيوب</td>\n",
              "      <td>2022-01-01</td>\n",
              "      <td>18888</td>\n",
              "      <td>317</td>\n",
              "    </tr>\n",
              "    <tr>\n",
              "      <th>1</th>\n",
              "      <td>كريستيانو رونالدو</td>\n",
              "      <td>2022-01-17</td>\n",
              "      <td>67422</td>\n",
              "      <td>246</td>\n",
              "    </tr>\n",
              "    <tr>\n",
              "      <th>2</th>\n",
              "      <td>محمد</td>\n",
              "      <td>2022-01-01</td>\n",
              "      <td>31424</td>\n",
              "      <td>175</td>\n",
              "    </tr>\n",
              "    <tr>\n",
              "      <th>3</th>\n",
              "      <td>أبشر</td>\n",
              "      <td>2022-01-01</td>\n",
              "      <td>9603</td>\n",
              "      <td>170</td>\n",
              "    </tr>\n",
              "    <tr>\n",
              "      <th>4</th>\n",
              "      <td>كأس العالم 2022</td>\n",
              "      <td>2022-01-19</td>\n",
              "      <td>380824</td>\n",
              "      <td>163</td>\n",
              "    </tr>\n",
              "    <tr>\n",
              "      <th>...</th>\n",
              "      <td>...</td>\n",
              "      <td>...</td>\n",
              "      <td>...</td>\n",
              "      <td>...</td>\n",
              "    </tr>\n",
              "    <tr>\n",
              "      <th>1627</th>\n",
              "      <td>عبد الله بن سليمان المنيع</td>\n",
              "      <td>2022-01-05</td>\n",
              "      <td>4565</td>\n",
              "      <td>1</td>\n",
              "    </tr>\n",
              "    <tr>\n",
              "      <th>1628</th>\n",
              "      <td>عبد الله رشدي</td>\n",
              "      <td>2023-01-01</td>\n",
              "      <td>4878</td>\n",
              "      <td>1</td>\n",
              "    </tr>\n",
              "    <tr>\n",
              "      <th>1629</th>\n",
              "      <td>عبد الله عباس</td>\n",
              "      <td>2022-02-16</td>\n",
              "      <td>4523</td>\n",
              "      <td>1</td>\n",
              "    </tr>\n",
              "    <tr>\n",
              "      <th>1630</th>\n",
              "      <td>البابا فرنسيس</td>\n",
              "      <td>2022-12-31</td>\n",
              "      <td>6181</td>\n",
              "      <td>1</td>\n",
              "    </tr>\n",
              "    <tr>\n",
              "      <th>1631</th>\n",
              "      <td>فاضل البراك</td>\n",
              "      <td>2022-09-30</td>\n",
              "      <td>5087</td>\n",
              "      <td>1</td>\n",
              "    </tr>\n",
              "  </tbody>\n",
              "</table>\n",
              "<p>1632 rows × 4 columns</p>\n",
              "</div>\n",
              "    <div class=\"colab-df-buttons\">\n",
              "\n",
              "  <div class=\"colab-df-container\">\n",
              "    <button class=\"colab-df-convert\" onclick=\"convertToInteractive('df-c32c3e6a-8b6e-44a0-9917-39e876e1c159')\"\n",
              "            title=\"Convert this dataframe to an interactive table.\"\n",
              "            style=\"display:none;\">\n",
              "\n",
              "  <svg xmlns=\"http://www.w3.org/2000/svg\" height=\"24px\" viewBox=\"0 -960 960 960\">\n",
              "    <path d=\"M120-120v-720h720v720H120Zm60-500h600v-160H180v160Zm220 220h160v-160H400v160Zm0 220h160v-160H400v160ZM180-400h160v-160H180v160Zm440 0h160v-160H620v160ZM180-180h160v-160H180v160Zm440 0h160v-160H620v160Z\"/>\n",
              "  </svg>\n",
              "    </button>\n",
              "\n",
              "  <style>\n",
              "    .colab-df-container {\n",
              "      display:flex;\n",
              "      gap: 12px;\n",
              "    }\n",
              "\n",
              "    .colab-df-convert {\n",
              "      background-color: #E8F0FE;\n",
              "      border: none;\n",
              "      border-radius: 50%;\n",
              "      cursor: pointer;\n",
              "      display: none;\n",
              "      fill: #1967D2;\n",
              "      height: 32px;\n",
              "      padding: 0 0 0 0;\n",
              "      width: 32px;\n",
              "    }\n",
              "\n",
              "    .colab-df-convert:hover {\n",
              "      background-color: #E2EBFA;\n",
              "      box-shadow: 0px 1px 2px rgba(60, 64, 67, 0.3), 0px 1px 3px 1px rgba(60, 64, 67, 0.15);\n",
              "      fill: #174EA6;\n",
              "    }\n",
              "\n",
              "    .colab-df-buttons div {\n",
              "      margin-bottom: 4px;\n",
              "    }\n",
              "\n",
              "    [theme=dark] .colab-df-convert {\n",
              "      background-color: #3B4455;\n",
              "      fill: #D2E3FC;\n",
              "    }\n",
              "\n",
              "    [theme=dark] .colab-df-convert:hover {\n",
              "      background-color: #434B5C;\n",
              "      box-shadow: 0px 1px 3px 1px rgba(0, 0, 0, 0.15);\n",
              "      filter: drop-shadow(0px 1px 2px rgba(0, 0, 0, 0.3));\n",
              "      fill: #FFFFFF;\n",
              "    }\n",
              "  </style>\n",
              "\n",
              "    <script>\n",
              "      const buttonEl =\n",
              "        document.querySelector('#df-c32c3e6a-8b6e-44a0-9917-39e876e1c159 button.colab-df-convert');\n",
              "      buttonEl.style.display =\n",
              "        google.colab.kernel.accessAllowed ? 'block' : 'none';\n",
              "\n",
              "      async function convertToInteractive(key) {\n",
              "        const element = document.querySelector('#df-c32c3e6a-8b6e-44a0-9917-39e876e1c159');\n",
              "        const dataTable =\n",
              "          await google.colab.kernel.invokeFunction('convertToInteractive',\n",
              "                                                    [key], {});\n",
              "        if (!dataTable) return;\n",
              "\n",
              "        const docLinkHtml = 'Like what you see? Visit the ' +\n",
              "          '<a target=\"_blank\" href=https://colab.research.google.com/notebooks/data_table.ipynb>data table notebook</a>'\n",
              "          + ' to learn more about interactive tables.';\n",
              "        element.innerHTML = '';\n",
              "        dataTable['output_type'] = 'display_data';\n",
              "        await google.colab.output.renderOutput(dataTable, element);\n",
              "        const docLink = document.createElement('div');\n",
              "        docLink.innerHTML = docLinkHtml;\n",
              "        element.appendChild(docLink);\n",
              "      }\n",
              "    </script>\n",
              "  </div>\n",
              "\n",
              "\n",
              "<div id=\"df-0ae2312d-c8bc-4f31-99eb-afb1ac13e4bf\">\n",
              "  <button class=\"colab-df-quickchart\" onclick=\"quickchart('df-0ae2312d-c8bc-4f31-99eb-afb1ac13e4bf')\"\n",
              "            title=\"Suggest charts.\"\n",
              "            style=\"display:none;\">\n",
              "\n",
              "<svg xmlns=\"http://www.w3.org/2000/svg\" height=\"24px\"viewBox=\"0 0 24 24\"\n",
              "     width=\"24px\">\n",
              "    <g>\n",
              "        <path d=\"M19 3H5c-1.1 0-2 .9-2 2v14c0 1.1.9 2 2 2h14c1.1 0 2-.9 2-2V5c0-1.1-.9-2-2-2zM9 17H7v-7h2v7zm4 0h-2V7h2v10zm4 0h-2v-4h2v4z\"/>\n",
              "    </g>\n",
              "</svg>\n",
              "  </button>\n",
              "\n",
              "<style>\n",
              "  .colab-df-quickchart {\n",
              "      --bg-color: #E8F0FE;\n",
              "      --fill-color: #1967D2;\n",
              "      --hover-bg-color: #E2EBFA;\n",
              "      --hover-fill-color: #174EA6;\n",
              "      --disabled-fill-color: #AAA;\n",
              "      --disabled-bg-color: #DDD;\n",
              "  }\n",
              "\n",
              "  [theme=dark] .colab-df-quickchart {\n",
              "      --bg-color: #3B4455;\n",
              "      --fill-color: #D2E3FC;\n",
              "      --hover-bg-color: #434B5C;\n",
              "      --hover-fill-color: #FFFFFF;\n",
              "      --disabled-bg-color: #3B4455;\n",
              "      --disabled-fill-color: #666;\n",
              "  }\n",
              "\n",
              "  .colab-df-quickchart {\n",
              "    background-color: var(--bg-color);\n",
              "    border: none;\n",
              "    border-radius: 50%;\n",
              "    cursor: pointer;\n",
              "    display: none;\n",
              "    fill: var(--fill-color);\n",
              "    height: 32px;\n",
              "    padding: 0;\n",
              "    width: 32px;\n",
              "  }\n",
              "\n",
              "  .colab-df-quickchart:hover {\n",
              "    background-color: var(--hover-bg-color);\n",
              "    box-shadow: 0 1px 2px rgba(60, 64, 67, 0.3), 0 1px 3px 1px rgba(60, 64, 67, 0.15);\n",
              "    fill: var(--button-hover-fill-color);\n",
              "  }\n",
              "\n",
              "  .colab-df-quickchart-complete:disabled,\n",
              "  .colab-df-quickchart-complete:disabled:hover {\n",
              "    background-color: var(--disabled-bg-color);\n",
              "    fill: var(--disabled-fill-color);\n",
              "    box-shadow: none;\n",
              "  }\n",
              "\n",
              "  .colab-df-spinner {\n",
              "    border: 2px solid var(--fill-color);\n",
              "    border-color: transparent;\n",
              "    border-bottom-color: var(--fill-color);\n",
              "    animation:\n",
              "      spin 1s steps(1) infinite;\n",
              "  }\n",
              "\n",
              "  @keyframes spin {\n",
              "    0% {\n",
              "      border-color: transparent;\n",
              "      border-bottom-color: var(--fill-color);\n",
              "      border-left-color: var(--fill-color);\n",
              "    }\n",
              "    20% {\n",
              "      border-color: transparent;\n",
              "      border-left-color: var(--fill-color);\n",
              "      border-top-color: var(--fill-color);\n",
              "    }\n",
              "    30% {\n",
              "      border-color: transparent;\n",
              "      border-left-color: var(--fill-color);\n",
              "      border-top-color: var(--fill-color);\n",
              "      border-right-color: var(--fill-color);\n",
              "    }\n",
              "    40% {\n",
              "      border-color: transparent;\n",
              "      border-right-color: var(--fill-color);\n",
              "      border-top-color: var(--fill-color);\n",
              "    }\n",
              "    60% {\n",
              "      border-color: transparent;\n",
              "      border-right-color: var(--fill-color);\n",
              "    }\n",
              "    80% {\n",
              "      border-color: transparent;\n",
              "      border-right-color: var(--fill-color);\n",
              "      border-bottom-color: var(--fill-color);\n",
              "    }\n",
              "    90% {\n",
              "      border-color: transparent;\n",
              "      border-bottom-color: var(--fill-color);\n",
              "    }\n",
              "  }\n",
              "</style>\n",
              "\n",
              "  <script>\n",
              "    async function quickchart(key) {\n",
              "      const quickchartButtonEl =\n",
              "        document.querySelector('#' + key + ' button');\n",
              "      quickchartButtonEl.disabled = true;  // To prevent multiple clicks.\n",
              "      quickchartButtonEl.classList.add('colab-df-spinner');\n",
              "      try {\n",
              "        const charts = await google.colab.kernel.invokeFunction(\n",
              "            'suggestCharts', [key], {});\n",
              "      } catch (error) {\n",
              "        console.error('Error during call to suggestCharts:', error);\n",
              "      }\n",
              "      quickchartButtonEl.classList.remove('colab-df-spinner');\n",
              "      quickchartButtonEl.classList.add('colab-df-quickchart-complete');\n",
              "    }\n",
              "    (() => {\n",
              "      let quickchartButtonEl =\n",
              "        document.querySelector('#df-0ae2312d-c8bc-4f31-99eb-afb1ac13e4bf button');\n",
              "      quickchartButtonEl.style.display =\n",
              "        google.colab.kernel.accessAllowed ? 'block' : 'none';\n",
              "    })();\n",
              "  </script>\n",
              "</div>\n",
              "    </div>\n",
              "  </div>\n"
            ]
          },
          "metadata": {},
          "execution_count": 3
        }
      ]
    },
    {
      "cell_type": "code",
      "source": [
        "import pandas as pd\n",
        "top_article_titles_list = top_article_titles_df.to_dict(orient='records')\n",
        "top_article_titles_list[0]"
      ],
      "metadata": {
        "colab": {
          "base_uri": "https://localhost:8080/",
          "height": 35
        },
        "id": "xK49pUo4L4Mg",
        "outputId": "5f6678ca-2e1a-481c-9275-e66dcbf6f93a"
      },
      "execution_count": 4,
      "outputs": [
        {
          "output_type": "display_data",
          "data": {
            "text/plain": [
              "<IPython.core.display.Javascript object>"
            ],
            "application/javascript": [
              "google.colab.output.setIframeHeight(0, true, {maxHeight: 5000})"
            ]
          },
          "metadata": {}
        },
        {
          "output_type": "execute_result",
          "data": {
            "text/plain": [
              "{'article': 'يوتيوب', 'date': '2022-01-01', 'views': 18888, 'rank': 317}"
            ]
          },
          "metadata": {},
          "execution_count": 4
        }
      ]
    },
    {
      "cell_type": "code",
      "source": [
        "top_article_titles_list[839]"
      ],
      "metadata": {
        "colab": {
          "base_uri": "https://localhost:8080/",
          "height": 35
        },
        "id": "DgVm5OtBnkH4",
        "outputId": "557e82c1-0cf7-4575-81e0-7ece05ec4c2e"
      },
      "execution_count": 5,
      "outputs": [
        {
          "output_type": "display_data",
          "data": {
            "text/plain": [
              "<IPython.core.display.Javascript object>"
            ],
            "application/javascript": [
              "google.colab.output.setIframeHeight(0, true, {maxHeight: 5000})"
            ]
          },
          "metadata": {}
        },
        {
          "output_type": "execute_result",
          "data": {
            "text/plain": [
              "{'article': 'حسن أبو السعود', 'date': '2022-07-20', 'views': 7035, 'rank': 2}"
            ]
          },
          "metadata": {},
          "execution_count": 5
        }
      ]
    },
    {
      "cell_type": "code",
      "source": [
        "top_article_titles_list[839]['article']"
      ],
      "metadata": {
        "colab": {
          "base_uri": "https://localhost:8080/",
          "height": 35
        },
        "id": "3fyFV8Ant-l3",
        "outputId": "0973484d-9da1-4f43-8073-d8703b157af3"
      },
      "execution_count": 6,
      "outputs": [
        {
          "output_type": "display_data",
          "data": {
            "text/plain": [
              "<IPython.core.display.Javascript object>"
            ],
            "application/javascript": [
              "google.colab.output.setIframeHeight(0, true, {maxHeight: 5000})"
            ]
          },
          "metadata": {}
        },
        {
          "output_type": "execute_result",
          "data": {
            "text/plain": [
              "'حسن أبو السعود'"
            ],
            "application/vnd.google.colaboratory.intrinsic+json": {
              "type": "string"
            }
          },
          "metadata": {},
          "execution_count": 6
        }
      ]
    },
    {
      "cell_type": "code",
      "source": [
        "# current_article = wikipedia.page('أوتافيو (لاعب كرة قدم، مواليد 1995)')\n",
        "# PageError: Page id \"أوتافيو لاعب كرة قدم مولد 1999\" does not match any pages. Try another id!"
      ],
      "metadata": {
        "colab": {
          "base_uri": "https://localhost:8080/",
          "height": 17
        },
        "id": "-1LLEbSmtzgL",
        "outputId": "8fb3251f-b6a2-4c90-a5ac-a294a74f1e16"
      },
      "execution_count": 7,
      "outputs": [
        {
          "output_type": "display_data",
          "data": {
            "text/plain": [
              "<IPython.core.display.Javascript object>"
            ],
            "application/javascript": [
              "google.colab.output.setIframeHeight(0, true, {maxHeight: 5000})"
            ]
          },
          "metadata": {}
        }
      ]
    },
    {
      "cell_type": "code",
      "source": [
        "len(top_article_titles_list)"
      ],
      "metadata": {
        "colab": {
          "base_uri": "https://localhost:8080/",
          "height": 35
        },
        "id": "M0fdwTneMlil",
        "outputId": "286cfd67-4c73-499b-feb5-ae3517f4605d"
      },
      "execution_count": 8,
      "outputs": [
        {
          "output_type": "display_data",
          "data": {
            "text/plain": [
              "<IPython.core.display.Javascript object>"
            ],
            "application/javascript": [
              "google.colab.output.setIframeHeight(0, true, {maxHeight: 5000})"
            ]
          },
          "metadata": {}
        },
        {
          "output_type": "execute_result",
          "data": {
            "text/plain": [
              "1632"
            ]
          },
          "metadata": {},
          "execution_count": 8
        }
      ]
    },
    {
      "cell_type": "code",
      "source": [
        "top_article_titles_list[0:2]"
      ],
      "metadata": {
        "colab": {
          "base_uri": "https://localhost:8080/",
          "height": 106
        },
        "id": "fuzwulsVMqAH",
        "outputId": "cd1b7f4a-af27-4208-8e01-775db92e409b"
      },
      "execution_count": 9,
      "outputs": [
        {
          "output_type": "display_data",
          "data": {
            "text/plain": [
              "<IPython.core.display.Javascript object>"
            ],
            "application/javascript": [
              "google.colab.output.setIframeHeight(0, true, {maxHeight: 5000})"
            ]
          },
          "metadata": {}
        },
        {
          "output_type": "execute_result",
          "data": {
            "text/plain": [
              "[{'article': 'يوتيوب', 'date': '2022-01-01', 'views': 18888, 'rank': 317},\n",
              " {'article': 'كريستيانو رونالدو',\n",
              "  'date': '2022-01-17',\n",
              "  'views': 67422,\n",
              "  'rank': 246}]"
            ]
          },
          "metadata": {},
          "execution_count": 9
        }
      ]
    },
    {
      "cell_type": "code",
      "source": [
        "top_article_titles_list[0]['article']"
      ],
      "metadata": {
        "colab": {
          "base_uri": "https://localhost:8080/",
          "height": 35
        },
        "id": "eZ8KeF_9MdX2",
        "outputId": "e293c619-716c-41b3-8039-ecca58092225"
      },
      "execution_count": 10,
      "outputs": [
        {
          "output_type": "display_data",
          "data": {
            "text/plain": [
              "<IPython.core.display.Javascript object>"
            ],
            "application/javascript": [
              "google.colab.output.setIframeHeight(0, true, {maxHeight: 5000})"
            ]
          },
          "metadata": {}
        },
        {
          "output_type": "execute_result",
          "data": {
            "text/plain": [
              "'يوتيوب'"
            ],
            "application/vnd.google.colaboratory.intrinsic+json": {
              "type": "string"
            }
          },
          "metadata": {},
          "execution_count": 10
        }
      ]
    },
    {
      "cell_type": "code",
      "source": [
        "!pip install wikipedia"
      ],
      "metadata": {
        "colab": {
          "base_uri": "https://localhost:8080/",
          "height": 160
        },
        "id": "7CGsOnRYx0SO",
        "outputId": "e95df149-8a77-494e-d43c-100d4f4eba42"
      },
      "execution_count": 11,
      "outputs": [
        {
          "output_type": "display_data",
          "data": {
            "text/plain": [
              "<IPython.core.display.Javascript object>"
            ],
            "application/javascript": [
              "google.colab.output.setIframeHeight(0, true, {maxHeight: 5000})"
            ]
          },
          "metadata": {}
        },
        {
          "output_type": "stream",
          "name": "stdout",
          "text": [
            "Requirement already satisfied: wikipedia in /usr/local/lib/python3.10/dist-packages (1.4.0)\n",
            "Requirement already satisfied: beautifulsoup4 in /usr/local/lib/python3.10/dist-packages (from wikipedia) (4.11.2)\n",
            "Requirement already satisfied: requests<3.0.0,>=2.0.0 in /usr/local/lib/python3.10/dist-packages (from wikipedia) (2.31.0)\n",
            "Requirement already satisfied: charset-normalizer<4,>=2 in /usr/local/lib/python3.10/dist-packages (from requests<3.0.0,>=2.0.0->wikipedia) (3.2.0)\n",
            "Requirement already satisfied: idna<4,>=2.5 in /usr/local/lib/python3.10/dist-packages (from requests<3.0.0,>=2.0.0->wikipedia) (3.4)\n",
            "Requirement already satisfied: urllib3<3,>=1.21.1 in /usr/local/lib/python3.10/dist-packages (from requests<3.0.0,>=2.0.0->wikipedia) (2.0.4)\n",
            "Requirement already satisfied: certifi>=2017.4.17 in /usr/local/lib/python3.10/dist-packages (from requests<3.0.0,>=2.0.0->wikipedia) (2023.7.22)\n",
            "Requirement already satisfied: soupsieve>1.2 in /usr/local/lib/python3.10/dist-packages (from beautifulsoup4->wikipedia) (2.5)\n"
          ]
        }
      ]
    },
    {
      "cell_type": "code",
      "source": [
        "import wikipedia"
      ],
      "metadata": {
        "colab": {
          "base_uri": "https://localhost:8080/",
          "height": 17
        },
        "id": "42bDPhcJzT45",
        "outputId": "4f11f434-7399-4a5e-9ea8-954245878eb4"
      },
      "execution_count": 12,
      "outputs": [
        {
          "output_type": "display_data",
          "data": {
            "text/plain": [
              "<IPython.core.display.Javascript object>"
            ],
            "application/javascript": [
              "google.colab.output.setIframeHeight(0, true, {maxHeight: 5000})"
            ]
          },
          "metadata": {}
        }
      ]
    },
    {
      "cell_type": "code",
      "source": [
        "wikipedia.set_lang(\"ar\")"
      ],
      "metadata": {
        "colab": {
          "base_uri": "https://localhost:8080/",
          "height": 17
        },
        "id": "qSX6206P1VjU",
        "outputId": "7b92a46b-5091-4c45-d7d0-42c54ce89eff"
      },
      "execution_count": 13,
      "outputs": [
        {
          "output_type": "display_data",
          "data": {
            "text/plain": [
              "<IPython.core.display.Javascript object>"
            ],
            "application/javascript": [
              "google.colab.output.setIframeHeight(0, true, {maxHeight: 5000})"
            ]
          },
          "metadata": {}
        }
      ]
    },
    {
      "cell_type": "code",
      "source": [
        "page = wikipedia.page(top_article_titles_list[0]['article'])\n",
        "page"
      ],
      "metadata": {
        "colab": {
          "base_uri": "https://localhost:8080/",
          "height": 35
        },
        "id": "iWZNdxErO8Om",
        "outputId": "ef960baa-447c-419d-96bd-6eef97f233e6"
      },
      "execution_count": 14,
      "outputs": [
        {
          "output_type": "display_data",
          "data": {
            "text/plain": [
              "<IPython.core.display.Javascript object>"
            ],
            "application/javascript": [
              "google.colab.output.setIframeHeight(0, true, {maxHeight: 5000})"
            ]
          },
          "metadata": {}
        },
        {
          "output_type": "execute_result",
          "data": {
            "text/plain": [
              "<WikipediaPage 'يوتيوب'>"
            ]
          },
          "metadata": {},
          "execution_count": 14
        }
      ]
    },
    {
      "cell_type": "code",
      "source": [
        "page.summary # same as print(wikipedia.summary(\"ليونيل ميسي\"))"
      ],
      "metadata": {
        "colab": {
          "base_uri": "https://localhost:8080/",
          "height": 107
        },
        "id": "nnSjllDLzLxb",
        "outputId": "0bf7f583-8867-4f78-950f-a0c08d0ca215"
      },
      "execution_count": 15,
      "outputs": [
        {
          "output_type": "display_data",
          "data": {
            "text/plain": [
              "<IPython.core.display.Javascript object>"
            ],
            "application/javascript": [
              "google.colab.output.setIframeHeight(0, true, {maxHeight: 5000})"
            ]
          },
          "metadata": {}
        },
        {
          "output_type": "execute_result",
          "data": {
            "text/plain": [
              "'يوتيوب (بالإنجليزية: YouTube)\\u200f هو موقع ويب يسمح لمستخدميه برفع التسجيلات المرئية مجانًا ومشاهدتها عبر البث الحي (بدل التنزيل) ومشاركتها والتعليق عليها وغير ذلك. أسسه في 14 فبراير سنة 2005م ثلاث موظفين سابقين من شركة باي بال هم تشاد هيرلي وستيف تشين وجاود كريم، في مدينة سان برونو، وكان يستخدم تقنية برنامج أدوبي فلاش لعرض المقاطع المتحركة، أما الآن فيعتمد تقنية إتش تي إم إل 5. ومحتوى الموقع يتنوع بين مقاطع الأفلام، والتلفاز، والموسيقى، وكذلك الفيديو المنتج من قبل الهواة، وغيرها. وهو حاليًا مزود بأكثر من ألفي موظف. وفي أكتوبر 2006 أعلنت شركة Google التوصل لاتفاقية لشراء الموقع مقابل 1.65 مليار دولار أمريكي، أي ما يعادل 1.31 مليار يورو. ويعتبر الموقع من مواقع ويب 2.0.\\nموقع اليوتيوب هو عبارة عن منصة أمريكية لمشاركة الفيديوهات عبر الإنترنت ومقرها في سان برونو، كاليفورنيا. الخدمة، التي تم إنشاؤها في فبراير 2005 من قبل ثلاثة موظفين سابقين في باي بال - تشاد هيرلي وستيف تشين وجويد كريم - اشترتها جوجل في نوفمبر 2006 مقابل 1.65 مليار دولار أمريكي وتعمل الآن كإحدى الشركات الفرعية للشركة. يُعد موقع اليوتيوب ثاني أكثر مواقع الويب زيارةً في العالم بعد بحث جوجل، وفقًا لتصنيفات أليكسا على الإنترنت.يتيح اليوتيوب للمستخدمين تحميل وعرض وتقييم ومشاركة وإضافة إلى قوائم التشغيل والإبلاغ عن مقاطع الفيديو والتعليق عليها والاشتراك مع مستخدمين آخرين. يتضمن المحتوى المتاح مقاطع الفيديو ومقاطع البرامج التلفزيونية ومقاطع الفيديو الموسيقية والأفلام القصيرة والوثائقية والتسجيلات الصوتية ومقاطع الأفلام والبث المباشر وتدوين الفيديو ومقاطع الفيديو الأصلية القصيرة ومقاطع الفيديو التعليمية. يتم إنشاء معظم المحتوى وتحميله بواسطة الأفراد، لكن الشركات الإعلامية بما في ذلك سي بي إس وبي بي سي وفيفو وهولو تقدم بعض موادها عبر اليوتيوب كجزء من برنامج شراكة مع اليوتيوب. يمكن للمستخدمين غير المسجلين مشاهدة مقاطع الفيديو على الموقع، ولكن لا يمكنهم تحميلها، بينما يمكن للمستخدمين المسجلين تحميل عدد غير محدود من مقاطع الفيديو وإضافة التعليقات. تتوفر مقاطع الفيديو المقيدة بالفئة العمرية فقط للمستخدمين المسجلين الذين يؤكدون أن عمرهم لا يقل عن 18 عامًا.\\nاعتبارًا من مايو 2019، كان هناك أكثر من 500 ساعة من المحتوى يتم تحميله على اليوتيوب كل دقيقة ومليار ساعة من المحتوى تتم مشاهدته على اليوتيوب يوميًا. يربح موقع اليوتيوب ومنشئو المحتوى المختارون أرباحًا إعلانية من جوجل أدسنس، وهو برنامج يستهدف الإعلانات وفقًا لمحتوى الموقع والجمهور. الغالبية العظمى من مقاطع الفيديو مجانية للمشاهدة، ولكن هناك استثناءات، بما في ذلك القنوات المدفوعة القائمة على الاشتراك، وتأجير الأفلام، بالإضافة إلى اليوتيوب ميوزيك واليوتيوب بريميم، وخدمات الاشتراك التي تقدم على التوالي دفقًا موسيقيًا متميزًا وخاليًا من الإعلانات، وخالية من الإعلانات الوصول إلى كل المحتوى، بما في ذلك المحتوى الحصري بتكليف من شخصيات بارزة. استنادًا إلى عائدات الإعلانات ربع السنوية المبلغ عنها، يُقدر أن اليوتيوب يبلغ 15 مليار دولار أمريكي في الإيرادات السنوية.\\nواجه موقع اليوتيوب انتقادات بشأن جوانب عملياته، بما في ذلك تعامله مع المحتوى المحمي بحقوق الطبع والنشر المتضمن في مقاطع الفيديو المحملة، وخوارزميات توصياته التي تدعم مقاطع الفيديو التي تروّج لنظريات المؤامرة والأكاذيب، استضافة مقاطع فيديو تستهدف الأطفال ظاهريًا ولكنها تحتوي على عنف أو موحية جنسيًا المحتوى الذي يتضمن شخصيات شهيرة، مقاطع فيديو للقصر يجتذبون أنشطة محبة للأطفال في أقسام التعليقات، والسياسات المتقلبة حول أنواع المحتوى المؤهل لتحقيق الدخل من الإعلانات.اختارت مجلة «تايم» الأمريكية موقع يوتيوب على الإنترنت كشخصية هامة عام 2006 لدورهِ في إعطاء الفرصة لزواره في إنتاج المواد التي يعرضونها في الموقع.'"
            ],
            "application/vnd.google.colaboratory.intrinsic+json": {
              "type": "string"
            }
          },
          "metadata": {},
          "execution_count": 15
        }
      ]
    },
    {
      "cell_type": "code",
      "source": [
        "page.images"
      ],
      "metadata": {
        "id": "2rxZsFr-To7R",
        "outputId": "baeaea8b-8a46-49f9-f35b-2fcb868eb5a6",
        "colab": {
          "base_uri": "https://localhost:8080/",
          "height": 1353
        }
      },
      "execution_count": 16,
      "outputs": [
        {
          "output_type": "display_data",
          "data": {
            "text/plain": [
              "<IPython.core.display.Javascript object>"
            ],
            "application/javascript": [
              "google.colab.output.setIframeHeight(0, true, {maxHeight: 5000})"
            ]
          },
          "metadata": {}
        },
        {
          "output_type": "execute_result",
          "data": {
            "text/plain": [
              "['https://upload.wikimedia.org/wikipedia/commons/b/b8/2021_Facebook_icon.svg',\n",
              " 'https://upload.wikimedia.org/wikipedia/commons/c/c3/CNN-YouTube_Republican_Debate.jpg',\n",
              " 'https://upload.wikimedia.org/wikipedia/commons/4/4a/Commons-logo.svg',\n",
              " 'https://upload.wikimedia.org/wikipedia/commons/d/d7/Crystal128-svn-merge.svg',\n",
              " 'https://upload.wikimedia.org/wikipedia/commons/5/59/Crystal_Clear_app_Internet_Connection_Tools.png',\n",
              " 'https://upload.wikimedia.org/wikipedia/commons/b/b6/Factory_1b.svg',\n",
              " 'https://upload.wikimedia.org/wikipedia/commons/7/77/Flag_of_Algeria.svg',\n",
              " 'https://upload.wikimedia.org/wikipedia/commons/1/1a/Flag_of_Argentina.svg',\n",
              " 'https://upload.wikimedia.org/wikipedia/commons/8/88/Flag_of_Australia_%28converted%29.svg',\n",
              " 'https://upload.wikimedia.org/wikipedia/commons/9/92/Flag_of_Belgium_%28civil%29.svg',\n",
              " 'https://upload.wikimedia.org/wikipedia/commons/0/05/Flag_of_Brazil.svg',\n",
              " 'https://upload.wikimedia.org/wikipedia/commons/d/d9/Flag_of_Canada_%28Pantone%29.svg',\n",
              " 'https://upload.wikimedia.org/wikipedia/commons/7/78/Flag_of_Chile.svg',\n",
              " 'https://upload.wikimedia.org/wikipedia/commons/2/21/Flag_of_Colombia.svg',\n",
              " 'https://upload.wikimedia.org/wikipedia/commons/f/fe/Flag_of_Egypt.svg',\n",
              " 'https://upload.wikimedia.org/wikipedia/commons/c/c3/Flag_of_France.svg',\n",
              " 'https://upload.wikimedia.org/wikipedia/commons/b/ba/Flag_of_Germany.svg',\n",
              " 'https://upload.wikimedia.org/wikipedia/commons/1/19/Flag_of_Ghana.svg',\n",
              " 'https://upload.wikimedia.org/wikipedia/commons/5/5b/Flag_of_Hong_Kong.svg',\n",
              " 'https://upload.wikimedia.org/wikipedia/commons/c/c1/Flag_of_Hungary.svg',\n",
              " 'https://upload.wikimedia.org/wikipedia/commons/4/41/Flag_of_India.svg',\n",
              " 'https://upload.wikimedia.org/wikipedia/commons/9/9f/Flag_of_Indonesia.svg',\n",
              " 'https://upload.wikimedia.org/wikipedia/commons/4/45/Flag_of_Ireland.svg',\n",
              " 'https://upload.wikimedia.org/wikipedia/commons/d/d4/Flag_of_Israel.svg',\n",
              " 'https://upload.wikimedia.org/wikipedia/commons/0/03/Flag_of_Italy.svg',\n",
              " 'https://upload.wikimedia.org/wikipedia/commons/9/9e/Flag_of_Japan.svg',\n",
              " 'https://upload.wikimedia.org/wikipedia/commons/c/c0/Flag_of_Jordan.svg',\n",
              " 'https://upload.wikimedia.org/wikipedia/commons/4/49/Flag_of_Kenya.svg',\n",
              " 'https://upload.wikimedia.org/wikipedia/commons/6/66/Flag_of_Malaysia.svg',\n",
              " 'https://upload.wikimedia.org/wikipedia/commons/f/fc/Flag_of_Mexico.svg',\n",
              " 'https://upload.wikimedia.org/wikipedia/commons/2/2c/Flag_of_Morocco.svg',\n",
              " 'https://upload.wikimedia.org/wikipedia/commons/3/3e/Flag_of_New_Zealand.svg',\n",
              " 'https://upload.wikimedia.org/wikipedia/commons/7/79/Flag_of_Nigeria.svg',\n",
              " 'https://upload.wikimedia.org/wikipedia/commons/c/cf/Flag_of_Peru.svg',\n",
              " 'https://upload.wikimedia.org/wikipedia/commons/1/12/Flag_of_Poland.svg',\n",
              " 'https://upload.wikimedia.org/wikipedia/commons/f/f3/Flag_of_Russia.svg',\n",
              " 'https://upload.wikimedia.org/wikipedia/commons/a/af/Flag_of_San_Francisco.svg',\n",
              " 'https://upload.wikimedia.org/wikipedia/commons/0/0d/Flag_of_Saudi_Arabia.svg',\n",
              " 'https://upload.wikimedia.org/wikipedia/commons/f/fd/Flag_of_Senegal.svg',\n",
              " 'https://upload.wikimedia.org/wikipedia/commons/4/48/Flag_of_Singapore.svg',\n",
              " 'https://upload.wikimedia.org/wikipedia/commons/a/af/Flag_of_South_Africa.svg',\n",
              " 'https://upload.wikimedia.org/wikipedia/commons/0/09/Flag_of_South_Korea.svg',\n",
              " 'https://upload.wikimedia.org/wikipedia/commons/9/9a/Flag_of_Spain.svg',\n",
              " 'https://upload.wikimedia.org/wikipedia/commons/4/4c/Flag_of_Sweden.svg',\n",
              " 'https://upload.wikimedia.org/wikipedia/commons/c/ce/Flag_of_Tunisia.svg',\n",
              " 'https://upload.wikimedia.org/wikipedia/commons/4/4e/Flag_of_Uganda.svg',\n",
              " 'https://upload.wikimedia.org/wikipedia/commons/8/89/Flag_of_Yemen.svg',\n",
              " 'https://upload.wikimedia.org/wikipedia/commons/c/cb/Flag_of_the_Czech_Republic.svg',\n",
              " 'https://upload.wikimedia.org/wikipedia/commons/2/20/Flag_of_the_Netherlands.svg',\n",
              " 'https://upload.wikimedia.org/wikipedia/commons/9/99/Flag_of_the_Philippines.svg',\n",
              " 'https://upload.wikimedia.org/wikipedia/commons/7/72/Flag_of_the_Republic_of_China.svg',\n",
              " 'https://upload.wikimedia.org/wikipedia/commons/c/cb/Flag_of_the_United_Arab_Emirates.svg',\n",
              " 'https://upload.wikimedia.org/wikipedia/commons/8/83/Flag_of_the_United_Kingdom_%283-5%29.svg',\n",
              " 'https://upload.wikimedia.org/wikipedia/commons/8/83/Flag_of_the_United_Kingdom_%283-5%29.svg',\n",
              " 'https://upload.wikimedia.org/wikipedia/commons/a/a4/Flag_of_the_United_States.svg',\n",
              " 'https://upload.wikimedia.org/wikipedia/commons/2/2f/Google_2015_logo.svg',\n",
              " 'https://upload.wikimedia.org/wikipedia/commons/8/8b/Green_Arrow_Up_Darker.svg',\n",
              " 'https://upload.wikimedia.org/wikipedia/commons/3/38/Info_Simple.svg',\n",
              " 'https://upload.wikimedia.org/wikipedia/commons/9/95/Instagram_logo_2022.svg',\n",
              " 'https://upload.wikimedia.org/wikipedia/commons/3/34/Ionicons_logo-tiktok.svg',\n",
              " 'https://upload.wikimedia.org/wikipedia/commons/6/60/Nuvola_California_flag.svg',\n",
              " 'https://upload.wikimedia.org/wikipedia/commons/5/53/Nuvola_USA_flag.svg',\n",
              " 'https://upload.wikimedia.org/wikipedia/commons/8/8a/OOjs_UI_icon_edit-ltr-progressive.svg',\n",
              " 'https://upload.wikimedia.org/wikipedia/commons/4/4d/Pinterest.svg',\n",
              " 'https://upload.wikimedia.org/wikipedia/commons/0/07/Quora_Q_icon_2015.svg',\n",
              " 'https://upload.wikimedia.org/wikipedia/commons/9/96/Symbol_category_class.svg',\n",
              " 'https://upload.wikimedia.org/wikipedia/commons/b/b4/Symbol_star_gold.svg',\n",
              " 'https://upload.wikimedia.org/wikipedia/commons/f/f4/Twemoji_270f.svg',\n",
              " 'https://upload.wikimedia.org/wikipedia/commons/9/91/Wikiversity-logo.svg',\n",
              " 'https://upload.wikimedia.org/wikipedia/commons/c/ce/X_logo_2023.svg',\n",
              " 'https://upload.wikimedia.org/wikipedia/commons/2/21/YouTube_HQ_11.JPG',\n",
              " 'https://upload.wikimedia.org/wikipedia/commons/b/b8/YouTube_Logo_2017.svg',\n",
              " 'https://upload.wikimedia.org/wikipedia/commons/0/09/YouTube_full-color_icon_%282017%29.svg',\n",
              " 'https://upload.wikimedia.org/wikipedia/commons/1/10/YouTube_localization.svg',\n",
              " 'https://upload.wikimedia.org/wikipedia/commons/c/c8/Youtube_founders.jpg']"
            ]
          },
          "metadata": {},
          "execution_count": 16
        }
      ]
    },
    {
      "cell_type": "markdown",
      "source": [
        "Reducing the size to 5 for testing purposes."
      ],
      "metadata": {
        "id": "5uLjVPVtQ9oE"
      }
    },
    {
      "cell_type": "code",
      "source": [
        "# top_article_titles_list = top_article_titles_list[835:845]\n",
        "# top_article_titles_list[1]"
      ],
      "metadata": {
        "colab": {
          "base_uri": "https://localhost:8080/",
          "height": 17
        },
        "id": "lI0PfOI-OjG9",
        "outputId": "b182b2d7-8fe9-4b0d-b6da-32ec674fe7b0"
      },
      "execution_count": 17,
      "outputs": [
        {
          "output_type": "display_data",
          "data": {
            "text/plain": [
              "<IPython.core.display.Javascript object>"
            ],
            "application/javascript": [
              "google.colab.output.setIframeHeight(0, true, {maxHeight: 5000})"
            ]
          },
          "metadata": {}
        }
      ]
    },
    {
      "cell_type": "code",
      "source": [
        "# 258\n",
        "top_article_titles_list[7]['article'] = 'زلزال تركيا وسوريا 2023'"
      ],
      "metadata": {
        "colab": {
          "base_uri": "https://localhost:8080/",
          "height": 17
        },
        "id": "ZHio39ghgrls",
        "outputId": "165ae744-f69b-4d37-a9d6-5543313d3db4"
      },
      "execution_count": 18,
      "outputs": [
        {
          "output_type": "display_data",
          "data": {
            "text/plain": [
              "<IPython.core.display.Javascript object>"
            ],
            "application/javascript": [
              "google.colab.output.setIframeHeight(0, true, {maxHeight: 5000})"
            ]
          },
          "metadata": {}
        }
      ]
    },
    {
      "cell_type": "code",
      "source": [
        "import time\n",
        "from datetime import datetime\n",
        "import json\n",
        "from urllib.parse import urlencode, quote_plus\n",
        "import urllib.request\n",
        "import urllib.parse"
      ],
      "metadata": {
        "colab": {
          "base_uri": "https://localhost:8080/",
          "height": 17
        },
        "id": "u2BgbkC14FqL",
        "outputId": "79bd7675-7d0b-484b-fe76-84f055aca760"
      },
      "execution_count": 19,
      "outputs": [
        {
          "output_type": "display_data",
          "data": {
            "text/plain": [
              "<IPython.core.display.Javascript object>"
            ],
            "application/javascript": [
              "google.colab.output.setIframeHeight(0, true, {maxHeight: 5000})"
            ]
          },
          "metadata": {}
        }
      ]
    },
    {
      "cell_type": "code",
      "source": [
        "summaries_list = []\n",
        "urls_list = []\n",
        "categories_list = []\n",
        "image_urls = []\n",
        "wiki_pages_list = []\n",
        "page_ids = []\n",
        "not_found_list = []\n",
        "\n",
        "lang = 'ar'\n",
        "\n",
        "\n",
        "for article_title in top_article_titles_list:\n",
        "\n",
        "# print(article_title['article'], 'is being processed.')\n",
        "\n",
        "  if 'article' in article_title:\n",
        "    try:\n",
        "        current_article = wikipedia.page(article_title['article'])\n",
        "        # Code to handle the case where the page was successfully fetched\n",
        "        # print(f\"Page '{article_title['article']}' was found.\")\n",
        "\n",
        "    except wikipedia.exceptions.PageError:\n",
        "        # Code to handle the case where the page title is not found\n",
        "        print(f\"Page '{article_title['article']}' was not found.\")\n",
        "\n",
        "        not_found_list.append(article_title['article'])\n",
        "        wiki_pages_list.append(None)\n",
        "        summaries_list.append(None)\n",
        "        urls_list.append(None)\n",
        "        page_ids.append(None)\n",
        "        categories_list.append(None)\n",
        "        image_urls.append(None)\n",
        "        continue\n",
        "\n",
        "    except wikipedia.exceptions.DisambiguationError as e:\n",
        "        # Code to handle the case of disambiguation (multiple possible titles)\n",
        "        print(f\"Multiple possible pages found for '{article_title['article']}': {e.options}\")\n",
        "  else:\n",
        "    # Handle the case where 'article' key is not in the dictionary\n",
        "    print(\"No 'article' key found in the dictionary.\")\n",
        "\n",
        "\n",
        "\n",
        "\n",
        "  # current_article = wikipedia.page(article_title['article'])\n",
        "\n",
        "  # current_article_url = wikipedia.url(article_title['article'])\n",
        "\n",
        "# print(current_article.title, 'page has been retrieved.')\n",
        "\n",
        "  wiki_pages_list.append(current_article)\n",
        "\n",
        "  summaries_list.append(current_article.summary)\n",
        "\n",
        "  urls_list.append(current_article.url)\n",
        "\n",
        "  page_ids.append(current_article.pageid)\n",
        "\n",
        "\n",
        "\n",
        "\n",
        "  current_article_categories_list = current_article.categories\n",
        "\n",
        "  # Filter the strings containing \"تصنيف:بوابة\"\n",
        "  current_article_filtered_categories = [s for s in current_article_categories_list if 'تصنيف:بوابة' in s]\n",
        "\n",
        "  # cleaned_list = [s.replace('/مقالات متعلقة', '') for s in filtered_list]\n",
        "  current_article_cleaned_categories = [s.replace('تصنيف:بوابة', '').replace('/مقالات متعلقة', '').strip() for s in current_article_filtered_categories]\n",
        "\n",
        "  categories_list.append(current_article_cleaned_categories)\n",
        "\n",
        "\n",
        "\n",
        "\n",
        "\n",
        "# print('about to parse image')\n",
        "\n",
        "\n",
        "  page_title = current_article.title\n",
        "\n",
        "  # Encode the URL components\n",
        "  # lang = urllib.parse.quote(lang)\n",
        "  encoded_page_title = urllib.parse.quote(page_title)\n",
        "\n",
        "  encoded_api_url = f'https://{lang}.wikipedia.org/w/api.php?action=query&prop=pageimages&format=json&piprop=original&titles={encoded_page_title}'\n",
        "\n",
        "  resp = urllib.request.urlopen(encoded_api_url)\n",
        "  resp_bytes = resp.read()\n",
        "  data = json.loads(resp_bytes)\n",
        "\n",
        "\n",
        "  # Search for the title in the JSON data\n",
        "  for page_id, page_info in data['query']['pages'].items():\n",
        "    if page_info.get('title') == page_title:\n",
        "        original_info = page_info.get('original', {})\n",
        "        source_url = original_info.get('source')\n",
        "\n",
        "\n",
        "        # If source_url is None, append it to the list\n",
        "        if source_url is None:\n",
        "            image_urls.append(None)\n",
        "        else: image_urls.append(source_url)\n",
        "\n",
        "\n",
        "\n",
        "\n",
        "\n",
        "\n",
        "\n",
        "\n",
        "\n",
        "\n",
        "\n"
      ],
      "metadata": {
        "colab": {
          "base_uri": "https://localhost:8080/",
          "height": 215
        },
        "id": "Nd57C85qDXmB",
        "outputId": "563bc518-96c9-43a2-eded-2201f9125818"
      },
      "execution_count": 20,
      "outputs": [
        {
          "output_type": "display_data",
          "data": {
            "text/plain": [
              "<IPython.core.display.Javascript object>"
            ],
            "application/javascript": [
              "google.colab.output.setIframeHeight(0, true, {maxHeight: 5000})"
            ]
          },
          "metadata": {}
        },
        {
          "output_type": "stream",
          "name": "stdout",
          "text": [
            "Page 'قائمة أبناء الشيح زايد بن سلطان آل نهيان' was not found.\n"
          ]
        },
        {
          "output_type": "stream",
          "name": "stderr",
          "text": [
            "/usr/local/lib/python3.10/dist-packages/wikipedia/wikipedia.py:389: GuessedAtParserWarning: No parser was explicitly specified, so I'm using the best available HTML parser for this system (\"lxml\"). This usually isn't a problem, but if you run this code on another system, or in a different virtual environment, it may use a different parser and behave differently.\n",
            "\n",
            "The code that caused this warning is on line 389 of the file /usr/local/lib/python3.10/dist-packages/wikipedia/wikipedia.py. To get rid of this warning, pass the additional argument 'features=\"lxml\"' to the BeautifulSoup constructor.\n",
            "\n",
            "  lis = BeautifulSoup(html).find_all('li')\n"
          ]
        },
        {
          "output_type": "stream",
          "name": "stdout",
          "text": [
            "Multiple possible pages found for 'جافي': ['جاكي (فيلم 2016)', 'جاكي (مقدم برامج)']\n",
            "Page 'مناهل ثابت' was not found.\n",
            "Multiple possible pages found for 'مستخدم': ['مستخدم (حوسبة)', 'مستخدم (اتصال عن بعد)', 'عامل', 'مستخدم خارق']\n",
            "Multiple possible pages found for 'محمد العربي': ['محمد العربي (مطرب)', 'محمد العربي (لاعب كرة قدم)', 'محمد العربي (ممثل)', 'محمد العربي زيتوت', 'محمد العربي طرقان', 'محمد العربي الدرقاوي', 'محمد بن العربي العلوي', 'محمد العربي الخطابي', 'محمد العربي التمسماني', 'محمد العربي العسري', 'محمد العربي حولي', 'محمد العربي صمادح', 'محمد العربي زروق خزندار', 'محمد العربي عبد المومن', 'محمد العربي قادوس', 'محمد بن العربي الجامعي', 'محمد طيبي العربي']\n"
          ]
        }
      ]
    },
    {
      "cell_type": "code",
      "source": [
        "not_found_list"
      ],
      "metadata": {
        "colab": {
          "base_uri": "https://localhost:8080/",
          "height": 35
        },
        "id": "UhfArcOTrWVF",
        "outputId": "d3d04db1-2634-4bf7-d4aa-d39f4edce468"
      },
      "execution_count": 21,
      "outputs": [
        {
          "output_type": "display_data",
          "data": {
            "text/plain": [
              "<IPython.core.display.Javascript object>"
            ],
            "application/javascript": [
              "google.colab.output.setIframeHeight(0, true, {maxHeight: 5000})"
            ]
          },
          "metadata": {}
        },
        {
          "output_type": "execute_result",
          "data": {
            "text/plain": [
              "['قائمة أبناء الشيح زايد بن سلطان آل نهيان', 'مناهل ثابت']"
            ]
          },
          "metadata": {},
          "execution_count": 21
        }
      ]
    },
    {
      "cell_type": "code",
      "source": [
        "current_article = wikipedia.page(article_title['article'])\n",
        "current_article"
      ],
      "metadata": {
        "colab": {
          "base_uri": "https://localhost:8080/",
          "height": 35
        },
        "id": "t2kvy-HYePHl",
        "outputId": "3f36e1c9-9e60-453e-8557-17229e563dc5"
      },
      "execution_count": 22,
      "outputs": [
        {
          "output_type": "display_data",
          "data": {
            "text/plain": [
              "<IPython.core.display.Javascript object>"
            ],
            "application/javascript": [
              "google.colab.output.setIframeHeight(0, true, {maxHeight: 5000})"
            ]
          },
          "metadata": {}
        },
        {
          "output_type": "execute_result",
          "data": {
            "text/plain": [
              "<WikipediaPage 'فاضل البراك'>"
            ]
          },
          "metadata": {},
          "execution_count": 22
        }
      ]
    },
    {
      "cell_type": "code",
      "source": [
        "current_article = wikipedia.page(\"زلزال تركيا وسوريا 2023\")\n",
        "current_article"
      ],
      "metadata": {
        "colab": {
          "base_uri": "https://localhost:8080/",
          "height": 35
        },
        "id": "hrWIa1kadq_H",
        "outputId": "72c16434-eb5e-41ca-b83e-422ad0d40b3c"
      },
      "execution_count": 23,
      "outputs": [
        {
          "output_type": "display_data",
          "data": {
            "text/plain": [
              "<IPython.core.display.Javascript object>"
            ],
            "application/javascript": [
              "google.colab.output.setIframeHeight(0, true, {maxHeight: 5000})"
            ]
          },
          "metadata": {}
        },
        {
          "output_type": "execute_result",
          "data": {
            "text/plain": [
              "<WikipediaPage 'زلزال قهرمان مرعش 2023'>"
            ]
          },
          "metadata": {},
          "execution_count": 23
        }
      ]
    },
    {
      "cell_type": "code",
      "source": [
        "current_article = wikipedia.page(\"أونتاريو لاعب كرة قدم مواليد 1995\")\n",
        "current_article"
      ],
      "metadata": {
        "colab": {
          "base_uri": "https://localhost:8080/",
          "height": 35
        },
        "id": "0b8IYRIgmjG5",
        "outputId": "b34fc825-7387-4f62-ef59-66e6086da5bf"
      },
      "execution_count": 24,
      "outputs": [
        {
          "output_type": "display_data",
          "data": {
            "text/plain": [
              "<IPython.core.display.Javascript object>"
            ],
            "application/javascript": [
              "google.colab.output.setIframeHeight(0, true, {maxHeight: 5000})"
            ]
          },
          "metadata": {}
        },
        {
          "output_type": "execute_result",
          "data": {
            "text/plain": [
              "<WikipediaPage 'آدام همتي'>"
            ]
          },
          "metadata": {},
          "execution_count": 24
        }
      ]
    },
    {
      "cell_type": "code",
      "source": [
        "current_article.title"
      ],
      "metadata": {
        "colab": {
          "base_uri": "https://localhost:8080/",
          "height": 35
        },
        "id": "XUDYH8fXRSAP",
        "outputId": "51dd401d-27d8-4539-8628-9eb771167a4c"
      },
      "execution_count": 25,
      "outputs": [
        {
          "output_type": "display_data",
          "data": {
            "text/plain": [
              "<IPython.core.display.Javascript object>"
            ],
            "application/javascript": [
              "google.colab.output.setIframeHeight(0, true, {maxHeight: 5000})"
            ]
          },
          "metadata": {}
        },
        {
          "output_type": "execute_result",
          "data": {
            "text/plain": [
              "'آدام همتي'"
            ],
            "application/vnd.google.colaboratory.intrinsic+json": {
              "type": "string"
            }
          },
          "metadata": {},
          "execution_count": 25
        }
      ]
    },
    {
      "cell_type": "code",
      "source": [
        "page = wiki_pages_list[0]"
      ],
      "metadata": {
        "colab": {
          "base_uri": "https://localhost:8080/",
          "height": 17
        },
        "id": "xno0siejRSB4",
        "outputId": "196ab19e-d6af-4656-95e1-58ad15ee48d1"
      },
      "execution_count": 26,
      "outputs": [
        {
          "output_type": "display_data",
          "data": {
            "text/plain": [
              "<IPython.core.display.Javascript object>"
            ],
            "application/javascript": [
              "google.colab.output.setIframeHeight(0, true, {maxHeight: 5000})"
            ]
          },
          "metadata": {}
        }
      ]
    },
    {
      "cell_type": "code",
      "source": [
        "page.pageid"
      ],
      "metadata": {
        "colab": {
          "base_uri": "https://localhost:8080/",
          "height": 35
        },
        "id": "JmLPjU78T35B",
        "outputId": "1d61bcd0-0593-4715-cbab-7178ebcc2491"
      },
      "execution_count": 27,
      "outputs": [
        {
          "output_type": "display_data",
          "data": {
            "text/plain": [
              "<IPython.core.display.Javascript object>"
            ],
            "application/javascript": [
              "google.colab.output.setIframeHeight(0, true, {maxHeight: 5000})"
            ]
          },
          "metadata": {}
        },
        {
          "output_type": "execute_result",
          "data": {
            "text/plain": [
              "'81410'"
            ],
            "application/vnd.google.colaboratory.intrinsic+json": {
              "type": "string"
            }
          },
          "metadata": {},
          "execution_count": 27
        }
      ]
    },
    {
      "cell_type": "code",
      "source": [
        "wikipedia.set_lang(\"en\")\n",
        "page.url"
      ],
      "metadata": {
        "colab": {
          "base_uri": "https://localhost:8080/",
          "height": 35
        },
        "id": "_pQlpUTRRa2r",
        "outputId": "26e2c66b-4567-4c9e-d0dc-11365043fecd"
      },
      "execution_count": 28,
      "outputs": [
        {
          "output_type": "display_data",
          "data": {
            "text/plain": [
              "<IPython.core.display.Javascript object>"
            ],
            "application/javascript": [
              "google.colab.output.setIframeHeight(0, true, {maxHeight: 5000})"
            ]
          },
          "metadata": {}
        },
        {
          "output_type": "execute_result",
          "data": {
            "text/plain": [
              "'https://ar.wikipedia.org/wiki/%D9%8A%D9%88%D8%AA%D9%8A%D9%88%D8%A8'"
            ],
            "application/vnd.google.colaboratory.intrinsic+json": {
              "type": "string"
            }
          },
          "metadata": {},
          "execution_count": 28
        }
      ]
    },
    {
      "cell_type": "code",
      "source": [
        "current_article.title"
      ],
      "metadata": {
        "colab": {
          "base_uri": "https://localhost:8080/",
          "height": 35
        },
        "id": "gFkv4k-YTxp8",
        "outputId": "7a0b52a8-30f0-40aa-b760-493b411a2a26"
      },
      "execution_count": 29,
      "outputs": [
        {
          "output_type": "display_data",
          "data": {
            "text/plain": [
              "<IPython.core.display.Javascript object>"
            ],
            "application/javascript": [
              "google.colab.output.setIframeHeight(0, true, {maxHeight: 5000})"
            ]
          },
          "metadata": {}
        },
        {
          "output_type": "execute_result",
          "data": {
            "text/plain": [
              "'آدام همتي'"
            ],
            "application/vnd.google.colaboratory.intrinsic+json": {
              "type": "string"
            }
          },
          "metadata": {},
          "execution_count": 29
        }
      ]
    },
    {
      "cell_type": "code",
      "source": [
        "current_article.original_title"
      ],
      "metadata": {
        "colab": {
          "base_uri": "https://localhost:8080/",
          "height": 35
        },
        "id": "DgB4vg4hT1Vh",
        "outputId": "9779b1ca-5284-4039-e0db-9b3779f7dd79"
      },
      "execution_count": 30,
      "outputs": [
        {
          "output_type": "display_data",
          "data": {
            "text/plain": [
              "<IPython.core.display.Javascript object>"
            ],
            "application/javascript": [
              "google.colab.output.setIframeHeight(0, true, {maxHeight: 5000})"
            ]
          },
          "metadata": {}
        },
        {
          "output_type": "execute_result",
          "data": {
            "text/plain": [
              "'آدام همتي'"
            ],
            "application/vnd.google.colaboratory.intrinsic+json": {
              "type": "string"
            }
          },
          "metadata": {},
          "execution_count": 30
        }
      ]
    },
    {
      "cell_type": "code",
      "source": [
        "image_urls[0:3]"
      ],
      "metadata": {
        "colab": {
          "base_uri": "https://localhost:8080/",
          "height": 70
        },
        "id": "At6uGPCqLl-g",
        "outputId": "47cb1ca6-151b-4af7-959a-a14f6e78994d"
      },
      "execution_count": 31,
      "outputs": [
        {
          "output_type": "display_data",
          "data": {
            "text/plain": [
              "<IPython.core.display.Javascript object>"
            ],
            "application/javascript": [
              "google.colab.output.setIframeHeight(0, true, {maxHeight: 5000})"
            ]
          },
          "metadata": {}
        },
        {
          "output_type": "execute_result",
          "data": {
            "text/plain": [
              "['https://upload.wikimedia.org/wikipedia/commons/2/21/YouTube_HQ_11.JPG',\n",
              " 'https://upload.wikimedia.org/wikipedia/commons/d/d7/Cristiano_Ronaldo_playing_for_Al_Nassr_FC_against_Persepolis%2C_September_2023_%28cropped%29.jpg',\n",
              " 'https://upload.wikimedia.org/wikipedia/commons/e/eb/Calligraphic_representation_of_Muhammad%27s_name.jpg']"
            ]
          },
          "metadata": {},
          "execution_count": 31
        }
      ]
    },
    {
      "cell_type": "code",
      "source": [
        "categories_list[0:3]"
      ],
      "metadata": {
        "colab": {
          "base_uri": "https://localhost:8080/",
          "height": 569
        },
        "id": "Ebk4hWXDLrEc",
        "outputId": "3774f127-431a-4eb9-8b1c-34d2ddd291dc"
      },
      "execution_count": 32,
      "outputs": [
        {
          "output_type": "display_data",
          "data": {
            "text/plain": [
              "<IPython.core.display.Javascript object>"
            ],
            "application/javascript": [
              "google.colab.output.setIframeHeight(0, true, {maxHeight: 5000})"
            ]
          },
          "metadata": {}
        },
        {
          "output_type": "execute_result",
          "data": {
            "text/plain": [
              "[['أعمال إلكترونية',\n",
              "  'إنترنت',\n",
              "  'الولايات المتحدة',\n",
              "  'جوجل',\n",
              "  'سان فرانسيسكو',\n",
              "  'شركات',\n",
              "  'كاليفورنيا'],\n",
              " ['أرقام قياسية',\n",
              "  'أعلام',\n",
              "  'ألعاب أولمبية',\n",
              "  'إسبانيا',\n",
              "  'إنجلترا',\n",
              "  'إيطاليا',\n",
              "  'البرتغال',\n",
              "  'السعودية',\n",
              "  'كأس العالم',\n",
              "  'كرة القدم',\n",
              "  'كرة القدم الإسبانية',\n",
              "  'كرة القدم الإنجليزية',\n",
              "  'كرة القدم الإيطالية',\n",
              "  'كرة القدم البرتغالية',\n",
              "  'كرة القدم السعودية'],\n",
              " ['أعلام',\n",
              "  'الإسلام',\n",
              "  'السياسة',\n",
              "  'الشرق الأوسط',\n",
              "  'العالم الإسلامي',\n",
              "  'القرآن',\n",
              "  'المدينة المنورة',\n",
              "  'محمد',\n",
              "  'مكة']]"
            ]
          },
          "metadata": {},
          "execution_count": 32
        }
      ]
    },
    {
      "cell_type": "code",
      "source": [
        "len(urls_list)\n",
        "urls_list[0:3]"
      ],
      "metadata": {
        "colab": {
          "base_uri": "https://localhost:8080/",
          "height": 70
        },
        "id": "-OUWdsNcM3F_",
        "outputId": "3d76971e-eecb-4ce7-c88b-6fa523e7d9e5"
      },
      "execution_count": 33,
      "outputs": [
        {
          "output_type": "display_data",
          "data": {
            "text/plain": [
              "<IPython.core.display.Javascript object>"
            ],
            "application/javascript": [
              "google.colab.output.setIframeHeight(0, true, {maxHeight: 5000})"
            ]
          },
          "metadata": {}
        },
        {
          "output_type": "execute_result",
          "data": {
            "text/plain": [
              "['https://ar.wikipedia.org/wiki/%D9%8A%D9%88%D8%AA%D9%8A%D9%88%D8%A8',\n",
              " 'https://ar.wikipedia.org/wiki/%D9%83%D8%B1%D9%8A%D8%B3%D8%AA%D9%8A%D8%A7%D9%86%D9%88_%D8%B1%D9%88%D9%86%D8%A7%D9%84%D8%AF%D9%88',\n",
              " 'https://ar.wikipedia.org/wiki/%D9%85%D8%AD%D9%85%D8%AF']"
            ]
          },
          "metadata": {},
          "execution_count": 33
        }
      ]
    },
    {
      "cell_type": "code",
      "source": [
        "top_article_titles_list[0:3]"
      ],
      "metadata": {
        "colab": {
          "base_uri": "https://localhost:8080/",
          "height": 124
        },
        "id": "9JLbyGdJNHxQ",
        "outputId": "331b9a95-b73d-4c09-9d79-5f99ec1181c1"
      },
      "execution_count": 34,
      "outputs": [
        {
          "output_type": "display_data",
          "data": {
            "text/plain": [
              "<IPython.core.display.Javascript object>"
            ],
            "application/javascript": [
              "google.colab.output.setIframeHeight(0, true, {maxHeight: 5000})"
            ]
          },
          "metadata": {}
        },
        {
          "output_type": "execute_result",
          "data": {
            "text/plain": [
              "[{'article': 'يوتيوب', 'date': '2022-01-01', 'views': 18888, 'rank': 317},\n",
              " {'article': 'كريستيانو رونالدو',\n",
              "  'date': '2022-01-17',\n",
              "  'views': 67422,\n",
              "  'rank': 246},\n",
              " {'article': 'محمد', 'date': '2022-01-01', 'views': 31424, 'rank': 175}]"
            ]
          },
          "metadata": {},
          "execution_count": 34
        }
      ]
    },
    {
      "cell_type": "code",
      "source": [
        "page_ids[0:3]"
      ],
      "metadata": {
        "colab": {
          "base_uri": "https://localhost:8080/",
          "height": 35
        },
        "id": "0RBpwcn9OyGX",
        "outputId": "96e005d1-1531-452b-f1a0-6d9c5ba296ce"
      },
      "execution_count": 35,
      "outputs": [
        {
          "output_type": "display_data",
          "data": {
            "text/plain": [
              "<IPython.core.display.Javascript object>"
            ],
            "application/javascript": [
              "google.colab.output.setIframeHeight(0, true, {maxHeight: 5000})"
            ]
          },
          "metadata": {}
        },
        {
          "output_type": "execute_result",
          "data": {
            "text/plain": [
              "['81410', '67878', '843545']"
            ]
          },
          "metadata": {},
          "execution_count": 35
        }
      ]
    },
    {
      "cell_type": "code",
      "source": [
        "# Create a dictionary from the lists\n",
        "data = {\n",
        "    'Page ID': page_ids,\n",
        "    'Categories': categories_list,\n",
        "    'URL': urls_list,\n",
        "    'Image': image_urls,\n",
        "    'Summary': summaries_list\n",
        "}\n",
        "\n",
        "# Convert the dictionary to a DataFrame\n",
        "new_df = pd.DataFrame(data)\n",
        "\n",
        "new_df"
      ],
      "metadata": {
        "colab": {
          "base_uri": "https://localhost:8080/",
          "height": 597
        },
        "id": "Cn5dafnXZu29",
        "outputId": "edac893f-c723-43d2-a5bd-e7745baafff9"
      },
      "execution_count": 36,
      "outputs": [
        {
          "output_type": "display_data",
          "data": {
            "text/plain": [
              "<IPython.core.display.Javascript object>"
            ],
            "application/javascript": [
              "google.colab.output.setIframeHeight(0, true, {maxHeight: 5000})"
            ]
          },
          "metadata": {}
        },
        {
          "output_type": "execute_result",
          "data": {
            "text/plain": [
              "      Page ID                                         Categories  \\\n",
              "0       81410  [أعمال إلكترونية, إنترنت, الولايات المتحدة, جو...   \n",
              "1       67878  [أرقام قياسية, أعلام, ألعاب أولمبية, إسبانيا, ...   \n",
              "2      843545  [أعلام, الإسلام, السياسة, الشرق الأوسط, العالم...   \n",
              "3     5315941                  [السعودية, برمجيات, حقوق الإنسان]   \n",
              "4      865496  [الشرق الأوسط, الوطن العربي, عقد 2020, قطر, كأ...   \n",
              "...       ...                                                ...   \n",
              "1627   329607                         [أعلام, الإسلام, السعودية]   \n",
              "1628  6691256                              [أعلام, القاهرة, مصر]   \n",
              "1629  1668677                 [أعلام, إيران, تلفاز, تمثيل, مسرح]   \n",
              "1630  1596701  [أعلام, أمريكا اللاتينية, إيطاليا, الأديان, ال...   \n",
              "1631  4778162                         [أعلام, العراق, حزب البعث]   \n",
              "\n",
              "                                                    URL  \\\n",
              "0     https://ar.wikipedia.org/wiki/%D9%8A%D9%88%D8%...   \n",
              "1     https://ar.wikipedia.org/wiki/%D9%83%D8%B1%D9%...   \n",
              "2     https://ar.wikipedia.org/wiki/%D9%85%D8%AD%D9%...   \n",
              "3     https://ar.wikipedia.org/wiki/%D8%A3%D8%A8%D8%...   \n",
              "4     https://ar.wikipedia.org/wiki/%D9%83%D8%A3%D8%...   \n",
              "...                                                 ...   \n",
              "1627  https://ar.wikipedia.org/wiki/%D8%B9%D8%A8%D8%...   \n",
              "1628  https://ar.wikipedia.org/wiki/%D8%B9%D8%A8%D8%...   \n",
              "1629  https://ar.wikipedia.org/wiki/%D8%B9%D8%A8%D8%...   \n",
              "1630  https://ar.wikipedia.org/wiki/%D8%A7%D9%84%D8%...   \n",
              "1631  https://ar.wikipedia.org/wiki/%D9%81%D8%A7%D8%...   \n",
              "\n",
              "                                                  Image  \\\n",
              "0     https://upload.wikimedia.org/wikipedia/commons...   \n",
              "1     https://upload.wikimedia.org/wikipedia/commons...   \n",
              "2     https://upload.wikimedia.org/wikipedia/commons...   \n",
              "3     https://upload.wikimedia.org/wikipedia/commons...   \n",
              "4                                                  None   \n",
              "...                                                 ...   \n",
              "1627  https://upload.wikimedia.org/wikipedia/ar/e/ee...   \n",
              "1628  https://upload.wikimedia.org/wikipedia/commons...   \n",
              "1629                                               None   \n",
              "1630  https://upload.wikimedia.org/wikipedia/commons...   \n",
              "1631                                               None   \n",
              "\n",
              "                                                Summary  \n",
              "0     يوتيوب (بالإنجليزية: YouTube)‏ هو موقع ويب يسم...  \n",
              "1     كريستيانو رونالدو دوس سانتوس أفيرو (تلفظ برتغا...  \n",
              "2     أَبُو القَاسِم مُحَمَّدُ بْنُ عَبْدِ ٱللَّهِ ب...  \n",
              "3     أبشر، هو نظام إلكتروني أطلقته وزارة الداخلية ا...  \n",
              "4     كأس العالم 2022 هي النسخة الثانية والعشرون من ...  \n",
              "...                                                 ...  \n",
              "1627  الشيخ عبد الله بن سليمان المنيع (1349 هـ شقراء...  \n",
              "1628  عبد الله رشدي (3 فبراير 1984) إمام وخطيب بوزار...  \n",
              "1629  عبد الله عباس (7 أغسطس 1988) ممثل إيراني نشأ ف...  \n",
              "1630  البابا فرنسيس. (باللاتينية: Franciscus)، ولد ب...  \n",
              "1631  فاضل البراك (1942-1992)، كاتب وباحث رئيس سابق ...  \n",
              "\n",
              "[1632 rows x 5 columns]"
            ],
            "text/html": [
              "\n",
              "  <div id=\"df-9467e7e5-8e0f-480e-b34c-a46ff002abe4\" class=\"colab-df-container\">\n",
              "    <div>\n",
              "<style scoped>\n",
              "    .dataframe tbody tr th:only-of-type {\n",
              "        vertical-align: middle;\n",
              "    }\n",
              "\n",
              "    .dataframe tbody tr th {\n",
              "        vertical-align: top;\n",
              "    }\n",
              "\n",
              "    .dataframe thead th {\n",
              "        text-align: right;\n",
              "    }\n",
              "</style>\n",
              "<table border=\"1\" class=\"dataframe\">\n",
              "  <thead>\n",
              "    <tr style=\"text-align: right;\">\n",
              "      <th></th>\n",
              "      <th>Page ID</th>\n",
              "      <th>Categories</th>\n",
              "      <th>URL</th>\n",
              "      <th>Image</th>\n",
              "      <th>Summary</th>\n",
              "    </tr>\n",
              "  </thead>\n",
              "  <tbody>\n",
              "    <tr>\n",
              "      <th>0</th>\n",
              "      <td>81410</td>\n",
              "      <td>[أعمال إلكترونية, إنترنت, الولايات المتحدة, جو...</td>\n",
              "      <td>https://ar.wikipedia.org/wiki/%D9%8A%D9%88%D8%...</td>\n",
              "      <td>https://upload.wikimedia.org/wikipedia/commons...</td>\n",
              "      <td>يوتيوب (بالإنجليزية: YouTube)‏ هو موقع ويب يسم...</td>\n",
              "    </tr>\n",
              "    <tr>\n",
              "      <th>1</th>\n",
              "      <td>67878</td>\n",
              "      <td>[أرقام قياسية, أعلام, ألعاب أولمبية, إسبانيا, ...</td>\n",
              "      <td>https://ar.wikipedia.org/wiki/%D9%83%D8%B1%D9%...</td>\n",
              "      <td>https://upload.wikimedia.org/wikipedia/commons...</td>\n",
              "      <td>كريستيانو رونالدو دوس سانتوس أفيرو (تلفظ برتغا...</td>\n",
              "    </tr>\n",
              "    <tr>\n",
              "      <th>2</th>\n",
              "      <td>843545</td>\n",
              "      <td>[أعلام, الإسلام, السياسة, الشرق الأوسط, العالم...</td>\n",
              "      <td>https://ar.wikipedia.org/wiki/%D9%85%D8%AD%D9%...</td>\n",
              "      <td>https://upload.wikimedia.org/wikipedia/commons...</td>\n",
              "      <td>أَبُو القَاسِم مُحَمَّدُ بْنُ عَبْدِ ٱللَّهِ ب...</td>\n",
              "    </tr>\n",
              "    <tr>\n",
              "      <th>3</th>\n",
              "      <td>5315941</td>\n",
              "      <td>[السعودية, برمجيات, حقوق الإنسان]</td>\n",
              "      <td>https://ar.wikipedia.org/wiki/%D8%A3%D8%A8%D8%...</td>\n",
              "      <td>https://upload.wikimedia.org/wikipedia/commons...</td>\n",
              "      <td>أبشر، هو نظام إلكتروني أطلقته وزارة الداخلية ا...</td>\n",
              "    </tr>\n",
              "    <tr>\n",
              "      <th>4</th>\n",
              "      <td>865496</td>\n",
              "      <td>[الشرق الأوسط, الوطن العربي, عقد 2020, قطر, كأ...</td>\n",
              "      <td>https://ar.wikipedia.org/wiki/%D9%83%D8%A3%D8%...</td>\n",
              "      <td>None</td>\n",
              "      <td>كأس العالم 2022 هي النسخة الثانية والعشرون من ...</td>\n",
              "    </tr>\n",
              "    <tr>\n",
              "      <th>...</th>\n",
              "      <td>...</td>\n",
              "      <td>...</td>\n",
              "      <td>...</td>\n",
              "      <td>...</td>\n",
              "      <td>...</td>\n",
              "    </tr>\n",
              "    <tr>\n",
              "      <th>1627</th>\n",
              "      <td>329607</td>\n",
              "      <td>[أعلام, الإسلام, السعودية]</td>\n",
              "      <td>https://ar.wikipedia.org/wiki/%D8%B9%D8%A8%D8%...</td>\n",
              "      <td>https://upload.wikimedia.org/wikipedia/ar/e/ee...</td>\n",
              "      <td>الشيخ عبد الله بن سليمان المنيع (1349 هـ شقراء...</td>\n",
              "    </tr>\n",
              "    <tr>\n",
              "      <th>1628</th>\n",
              "      <td>6691256</td>\n",
              "      <td>[أعلام, القاهرة, مصر]</td>\n",
              "      <td>https://ar.wikipedia.org/wiki/%D8%B9%D8%A8%D8%...</td>\n",
              "      <td>https://upload.wikimedia.org/wikipedia/commons...</td>\n",
              "      <td>عبد الله رشدي (3 فبراير 1984) إمام وخطيب بوزار...</td>\n",
              "    </tr>\n",
              "    <tr>\n",
              "      <th>1629</th>\n",
              "      <td>1668677</td>\n",
              "      <td>[أعلام, إيران, تلفاز, تمثيل, مسرح]</td>\n",
              "      <td>https://ar.wikipedia.org/wiki/%D8%B9%D8%A8%D8%...</td>\n",
              "      <td>None</td>\n",
              "      <td>عبد الله عباس (7 أغسطس 1988) ممثل إيراني نشأ ف...</td>\n",
              "    </tr>\n",
              "    <tr>\n",
              "      <th>1630</th>\n",
              "      <td>1596701</td>\n",
              "      <td>[أعلام, أمريكا اللاتينية, إيطاليا, الأديان, ال...</td>\n",
              "      <td>https://ar.wikipedia.org/wiki/%D8%A7%D9%84%D8%...</td>\n",
              "      <td>https://upload.wikimedia.org/wikipedia/commons...</td>\n",
              "      <td>البابا فرنسيس. (باللاتينية: Franciscus)، ولد ب...</td>\n",
              "    </tr>\n",
              "    <tr>\n",
              "      <th>1631</th>\n",
              "      <td>4778162</td>\n",
              "      <td>[أعلام, العراق, حزب البعث]</td>\n",
              "      <td>https://ar.wikipedia.org/wiki/%D9%81%D8%A7%D8%...</td>\n",
              "      <td>None</td>\n",
              "      <td>فاضل البراك (1942-1992)، كاتب وباحث رئيس سابق ...</td>\n",
              "    </tr>\n",
              "  </tbody>\n",
              "</table>\n",
              "<p>1632 rows × 5 columns</p>\n",
              "</div>\n",
              "    <div class=\"colab-df-buttons\">\n",
              "\n",
              "  <div class=\"colab-df-container\">\n",
              "    <button class=\"colab-df-convert\" onclick=\"convertToInteractive('df-9467e7e5-8e0f-480e-b34c-a46ff002abe4')\"\n",
              "            title=\"Convert this dataframe to an interactive table.\"\n",
              "            style=\"display:none;\">\n",
              "\n",
              "  <svg xmlns=\"http://www.w3.org/2000/svg\" height=\"24px\" viewBox=\"0 -960 960 960\">\n",
              "    <path d=\"M120-120v-720h720v720H120Zm60-500h600v-160H180v160Zm220 220h160v-160H400v160Zm0 220h160v-160H400v160ZM180-400h160v-160H180v160Zm440 0h160v-160H620v160ZM180-180h160v-160H180v160Zm440 0h160v-160H620v160Z\"/>\n",
              "  </svg>\n",
              "    </button>\n",
              "\n",
              "  <style>\n",
              "    .colab-df-container {\n",
              "      display:flex;\n",
              "      gap: 12px;\n",
              "    }\n",
              "\n",
              "    .colab-df-convert {\n",
              "      background-color: #E8F0FE;\n",
              "      border: none;\n",
              "      border-radius: 50%;\n",
              "      cursor: pointer;\n",
              "      display: none;\n",
              "      fill: #1967D2;\n",
              "      height: 32px;\n",
              "      padding: 0 0 0 0;\n",
              "      width: 32px;\n",
              "    }\n",
              "\n",
              "    .colab-df-convert:hover {\n",
              "      background-color: #E2EBFA;\n",
              "      box-shadow: 0px 1px 2px rgba(60, 64, 67, 0.3), 0px 1px 3px 1px rgba(60, 64, 67, 0.15);\n",
              "      fill: #174EA6;\n",
              "    }\n",
              "\n",
              "    .colab-df-buttons div {\n",
              "      margin-bottom: 4px;\n",
              "    }\n",
              "\n",
              "    [theme=dark] .colab-df-convert {\n",
              "      background-color: #3B4455;\n",
              "      fill: #D2E3FC;\n",
              "    }\n",
              "\n",
              "    [theme=dark] .colab-df-convert:hover {\n",
              "      background-color: #434B5C;\n",
              "      box-shadow: 0px 1px 3px 1px rgba(0, 0, 0, 0.15);\n",
              "      filter: drop-shadow(0px 1px 2px rgba(0, 0, 0, 0.3));\n",
              "      fill: #FFFFFF;\n",
              "    }\n",
              "  </style>\n",
              "\n",
              "    <script>\n",
              "      const buttonEl =\n",
              "        document.querySelector('#df-9467e7e5-8e0f-480e-b34c-a46ff002abe4 button.colab-df-convert');\n",
              "      buttonEl.style.display =\n",
              "        google.colab.kernel.accessAllowed ? 'block' : 'none';\n",
              "\n",
              "      async function convertToInteractive(key) {\n",
              "        const element = document.querySelector('#df-9467e7e5-8e0f-480e-b34c-a46ff002abe4');\n",
              "        const dataTable =\n",
              "          await google.colab.kernel.invokeFunction('convertToInteractive',\n",
              "                                                    [key], {});\n",
              "        if (!dataTable) return;\n",
              "\n",
              "        const docLinkHtml = 'Like what you see? Visit the ' +\n",
              "          '<a target=\"_blank\" href=https://colab.research.google.com/notebooks/data_table.ipynb>data table notebook</a>'\n",
              "          + ' to learn more about interactive tables.';\n",
              "        element.innerHTML = '';\n",
              "        dataTable['output_type'] = 'display_data';\n",
              "        await google.colab.output.renderOutput(dataTable, element);\n",
              "        const docLink = document.createElement('div');\n",
              "        docLink.innerHTML = docLinkHtml;\n",
              "        element.appendChild(docLink);\n",
              "      }\n",
              "    </script>\n",
              "  </div>\n",
              "\n",
              "\n",
              "<div id=\"df-e8fc67da-b824-41f3-bf17-d2eb73744939\">\n",
              "  <button class=\"colab-df-quickchart\" onclick=\"quickchart('df-e8fc67da-b824-41f3-bf17-d2eb73744939')\"\n",
              "            title=\"Suggest charts.\"\n",
              "            style=\"display:none;\">\n",
              "\n",
              "<svg xmlns=\"http://www.w3.org/2000/svg\" height=\"24px\"viewBox=\"0 0 24 24\"\n",
              "     width=\"24px\">\n",
              "    <g>\n",
              "        <path d=\"M19 3H5c-1.1 0-2 .9-2 2v14c0 1.1.9 2 2 2h14c1.1 0 2-.9 2-2V5c0-1.1-.9-2-2-2zM9 17H7v-7h2v7zm4 0h-2V7h2v10zm4 0h-2v-4h2v4z\"/>\n",
              "    </g>\n",
              "</svg>\n",
              "  </button>\n",
              "\n",
              "<style>\n",
              "  .colab-df-quickchart {\n",
              "      --bg-color: #E8F0FE;\n",
              "      --fill-color: #1967D2;\n",
              "      --hover-bg-color: #E2EBFA;\n",
              "      --hover-fill-color: #174EA6;\n",
              "      --disabled-fill-color: #AAA;\n",
              "      --disabled-bg-color: #DDD;\n",
              "  }\n",
              "\n",
              "  [theme=dark] .colab-df-quickchart {\n",
              "      --bg-color: #3B4455;\n",
              "      --fill-color: #D2E3FC;\n",
              "      --hover-bg-color: #434B5C;\n",
              "      --hover-fill-color: #FFFFFF;\n",
              "      --disabled-bg-color: #3B4455;\n",
              "      --disabled-fill-color: #666;\n",
              "  }\n",
              "\n",
              "  .colab-df-quickchart {\n",
              "    background-color: var(--bg-color);\n",
              "    border: none;\n",
              "    border-radius: 50%;\n",
              "    cursor: pointer;\n",
              "    display: none;\n",
              "    fill: var(--fill-color);\n",
              "    height: 32px;\n",
              "    padding: 0;\n",
              "    width: 32px;\n",
              "  }\n",
              "\n",
              "  .colab-df-quickchart:hover {\n",
              "    background-color: var(--hover-bg-color);\n",
              "    box-shadow: 0 1px 2px rgba(60, 64, 67, 0.3), 0 1px 3px 1px rgba(60, 64, 67, 0.15);\n",
              "    fill: var(--button-hover-fill-color);\n",
              "  }\n",
              "\n",
              "  .colab-df-quickchart-complete:disabled,\n",
              "  .colab-df-quickchart-complete:disabled:hover {\n",
              "    background-color: var(--disabled-bg-color);\n",
              "    fill: var(--disabled-fill-color);\n",
              "    box-shadow: none;\n",
              "  }\n",
              "\n",
              "  .colab-df-spinner {\n",
              "    border: 2px solid var(--fill-color);\n",
              "    border-color: transparent;\n",
              "    border-bottom-color: var(--fill-color);\n",
              "    animation:\n",
              "      spin 1s steps(1) infinite;\n",
              "  }\n",
              "\n",
              "  @keyframes spin {\n",
              "    0% {\n",
              "      border-color: transparent;\n",
              "      border-bottom-color: var(--fill-color);\n",
              "      border-left-color: var(--fill-color);\n",
              "    }\n",
              "    20% {\n",
              "      border-color: transparent;\n",
              "      border-left-color: var(--fill-color);\n",
              "      border-top-color: var(--fill-color);\n",
              "    }\n",
              "    30% {\n",
              "      border-color: transparent;\n",
              "      border-left-color: var(--fill-color);\n",
              "      border-top-color: var(--fill-color);\n",
              "      border-right-color: var(--fill-color);\n",
              "    }\n",
              "    40% {\n",
              "      border-color: transparent;\n",
              "      border-right-color: var(--fill-color);\n",
              "      border-top-color: var(--fill-color);\n",
              "    }\n",
              "    60% {\n",
              "      border-color: transparent;\n",
              "      border-right-color: var(--fill-color);\n",
              "    }\n",
              "    80% {\n",
              "      border-color: transparent;\n",
              "      border-right-color: var(--fill-color);\n",
              "      border-bottom-color: var(--fill-color);\n",
              "    }\n",
              "    90% {\n",
              "      border-color: transparent;\n",
              "      border-bottom-color: var(--fill-color);\n",
              "    }\n",
              "  }\n",
              "</style>\n",
              "\n",
              "  <script>\n",
              "    async function quickchart(key) {\n",
              "      const quickchartButtonEl =\n",
              "        document.querySelector('#' + key + ' button');\n",
              "      quickchartButtonEl.disabled = true;  // To prevent multiple clicks.\n",
              "      quickchartButtonEl.classList.add('colab-df-spinner');\n",
              "      try {\n",
              "        const charts = await google.colab.kernel.invokeFunction(\n",
              "            'suggestCharts', [key], {});\n",
              "      } catch (error) {\n",
              "        console.error('Error during call to suggestCharts:', error);\n",
              "      }\n",
              "      quickchartButtonEl.classList.remove('colab-df-spinner');\n",
              "      quickchartButtonEl.classList.add('colab-df-quickchart-complete');\n",
              "    }\n",
              "    (() => {\n",
              "      let quickchartButtonEl =\n",
              "        document.querySelector('#df-e8fc67da-b824-41f3-bf17-d2eb73744939 button');\n",
              "      quickchartButtonEl.style.display =\n",
              "        google.colab.kernel.accessAllowed ? 'block' : 'none';\n",
              "    })();\n",
              "  </script>\n",
              "</div>\n",
              "    </div>\n",
              "  </div>\n"
            ]
          },
          "metadata": {},
          "execution_count": 36
        }
      ]
    },
    {
      "cell_type": "code",
      "source": [
        "combined_df = pd.merge(top_article_titles_df, new_df, left_index=True, right_index=True)\n",
        "combined_df"
      ],
      "metadata": {
        "colab": {
          "base_uri": "https://localhost:8080/",
          "height": 597
        },
        "id": "b3BWRu5rNdw_",
        "outputId": "0e81a943-b2fe-4d97-f683-452eedcc5424"
      },
      "execution_count": 38,
      "outputs": [
        {
          "output_type": "display_data",
          "data": {
            "text/plain": [
              "<IPython.core.display.Javascript object>"
            ],
            "application/javascript": [
              "google.colab.output.setIframeHeight(0, true, {maxHeight: 5000})"
            ]
          },
          "metadata": {}
        },
        {
          "output_type": "execute_result",
          "data": {
            "text/plain": [
              "                        article        date   views  rank  Page ID  \\\n",
              "0                        يوتيوب  2022-01-01   18888   317    81410   \n",
              "1             كريستيانو رونالدو  2022-01-17   67422   246    67878   \n",
              "2                          محمد  2022-01-01   31424   175   843545   \n",
              "3                          أبشر  2022-01-01    9603   170  5315941   \n",
              "4               كأس العالم 2022  2022-01-19  380824   163   865496   \n",
              "...                         ...         ...     ...   ...      ...   \n",
              "1627  عبد الله بن سليمان المنيع  2022-01-05    4565     1   329607   \n",
              "1628              عبد الله رشدي  2023-01-01    4878     1  6691256   \n",
              "1629              عبد الله عباس  2022-02-16    4523     1  1668677   \n",
              "1630              البابا فرنسيس  2022-12-31    6181     1  1596701   \n",
              "1631                فاضل البراك  2022-09-30    5087     1  4778162   \n",
              "\n",
              "                                             Categories  \\\n",
              "0     [أعمال إلكترونية, إنترنت, الولايات المتحدة, جو...   \n",
              "1     [أرقام قياسية, أعلام, ألعاب أولمبية, إسبانيا, ...   \n",
              "2     [أعلام, الإسلام, السياسة, الشرق الأوسط, العالم...   \n",
              "3                     [السعودية, برمجيات, حقوق الإنسان]   \n",
              "4     [الشرق الأوسط, الوطن العربي, عقد 2020, قطر, كأ...   \n",
              "...                                                 ...   \n",
              "1627                         [أعلام, الإسلام, السعودية]   \n",
              "1628                              [أعلام, القاهرة, مصر]   \n",
              "1629                 [أعلام, إيران, تلفاز, تمثيل, مسرح]   \n",
              "1630  [أعلام, أمريكا اللاتينية, إيطاليا, الأديان, ال...   \n",
              "1631                         [أعلام, العراق, حزب البعث]   \n",
              "\n",
              "                                                    URL  \\\n",
              "0     https://ar.wikipedia.org/wiki/%D9%8A%D9%88%D8%...   \n",
              "1     https://ar.wikipedia.org/wiki/%D9%83%D8%B1%D9%...   \n",
              "2     https://ar.wikipedia.org/wiki/%D9%85%D8%AD%D9%...   \n",
              "3     https://ar.wikipedia.org/wiki/%D8%A3%D8%A8%D8%...   \n",
              "4     https://ar.wikipedia.org/wiki/%D9%83%D8%A3%D8%...   \n",
              "...                                                 ...   \n",
              "1627  https://ar.wikipedia.org/wiki/%D8%B9%D8%A8%D8%...   \n",
              "1628  https://ar.wikipedia.org/wiki/%D8%B9%D8%A8%D8%...   \n",
              "1629  https://ar.wikipedia.org/wiki/%D8%B9%D8%A8%D8%...   \n",
              "1630  https://ar.wikipedia.org/wiki/%D8%A7%D9%84%D8%...   \n",
              "1631  https://ar.wikipedia.org/wiki/%D9%81%D8%A7%D8%...   \n",
              "\n",
              "                                                  Image  \\\n",
              "0     https://upload.wikimedia.org/wikipedia/commons...   \n",
              "1     https://upload.wikimedia.org/wikipedia/commons...   \n",
              "2     https://upload.wikimedia.org/wikipedia/commons...   \n",
              "3     https://upload.wikimedia.org/wikipedia/commons...   \n",
              "4                                                  None   \n",
              "...                                                 ...   \n",
              "1627  https://upload.wikimedia.org/wikipedia/ar/e/ee...   \n",
              "1628  https://upload.wikimedia.org/wikipedia/commons...   \n",
              "1629                                               None   \n",
              "1630  https://upload.wikimedia.org/wikipedia/commons...   \n",
              "1631                                               None   \n",
              "\n",
              "                                                Summary  \n",
              "0     يوتيوب (بالإنجليزية: YouTube)‏ هو موقع ويب يسم...  \n",
              "1     كريستيانو رونالدو دوس سانتوس أفيرو (تلفظ برتغا...  \n",
              "2     أَبُو القَاسِم مُحَمَّدُ بْنُ عَبْدِ ٱللَّهِ ب...  \n",
              "3     أبشر، هو نظام إلكتروني أطلقته وزارة الداخلية ا...  \n",
              "4     كأس العالم 2022 هي النسخة الثانية والعشرون من ...  \n",
              "...                                                 ...  \n",
              "1627  الشيخ عبد الله بن سليمان المنيع (1349 هـ شقراء...  \n",
              "1628  عبد الله رشدي (3 فبراير 1984) إمام وخطيب بوزار...  \n",
              "1629  عبد الله عباس (7 أغسطس 1988) ممثل إيراني نشأ ف...  \n",
              "1630  البابا فرنسيس. (باللاتينية: Franciscus)، ولد ب...  \n",
              "1631  فاضل البراك (1942-1992)، كاتب وباحث رئيس سابق ...  \n",
              "\n",
              "[1632 rows x 9 columns]"
            ],
            "text/html": [
              "\n",
              "  <div id=\"df-3084aed6-8d40-402f-addf-5e67e91716c0\" class=\"colab-df-container\">\n",
              "    <div>\n",
              "<style scoped>\n",
              "    .dataframe tbody tr th:only-of-type {\n",
              "        vertical-align: middle;\n",
              "    }\n",
              "\n",
              "    .dataframe tbody tr th {\n",
              "        vertical-align: top;\n",
              "    }\n",
              "\n",
              "    .dataframe thead th {\n",
              "        text-align: right;\n",
              "    }\n",
              "</style>\n",
              "<table border=\"1\" class=\"dataframe\">\n",
              "  <thead>\n",
              "    <tr style=\"text-align: right;\">\n",
              "      <th></th>\n",
              "      <th>article</th>\n",
              "      <th>date</th>\n",
              "      <th>views</th>\n",
              "      <th>rank</th>\n",
              "      <th>Page ID</th>\n",
              "      <th>Categories</th>\n",
              "      <th>URL</th>\n",
              "      <th>Image</th>\n",
              "      <th>Summary</th>\n",
              "    </tr>\n",
              "  </thead>\n",
              "  <tbody>\n",
              "    <tr>\n",
              "      <th>0</th>\n",
              "      <td>يوتيوب</td>\n",
              "      <td>2022-01-01</td>\n",
              "      <td>18888</td>\n",
              "      <td>317</td>\n",
              "      <td>81410</td>\n",
              "      <td>[أعمال إلكترونية, إنترنت, الولايات المتحدة, جو...</td>\n",
              "      <td>https://ar.wikipedia.org/wiki/%D9%8A%D9%88%D8%...</td>\n",
              "      <td>https://upload.wikimedia.org/wikipedia/commons...</td>\n",
              "      <td>يوتيوب (بالإنجليزية: YouTube)‏ هو موقع ويب يسم...</td>\n",
              "    </tr>\n",
              "    <tr>\n",
              "      <th>1</th>\n",
              "      <td>كريستيانو رونالدو</td>\n",
              "      <td>2022-01-17</td>\n",
              "      <td>67422</td>\n",
              "      <td>246</td>\n",
              "      <td>67878</td>\n",
              "      <td>[أرقام قياسية, أعلام, ألعاب أولمبية, إسبانيا, ...</td>\n",
              "      <td>https://ar.wikipedia.org/wiki/%D9%83%D8%B1%D9%...</td>\n",
              "      <td>https://upload.wikimedia.org/wikipedia/commons...</td>\n",
              "      <td>كريستيانو رونالدو دوس سانتوس أفيرو (تلفظ برتغا...</td>\n",
              "    </tr>\n",
              "    <tr>\n",
              "      <th>2</th>\n",
              "      <td>محمد</td>\n",
              "      <td>2022-01-01</td>\n",
              "      <td>31424</td>\n",
              "      <td>175</td>\n",
              "      <td>843545</td>\n",
              "      <td>[أعلام, الإسلام, السياسة, الشرق الأوسط, العالم...</td>\n",
              "      <td>https://ar.wikipedia.org/wiki/%D9%85%D8%AD%D9%...</td>\n",
              "      <td>https://upload.wikimedia.org/wikipedia/commons...</td>\n",
              "      <td>أَبُو القَاسِم مُحَمَّدُ بْنُ عَبْدِ ٱللَّهِ ب...</td>\n",
              "    </tr>\n",
              "    <tr>\n",
              "      <th>3</th>\n",
              "      <td>أبشر</td>\n",
              "      <td>2022-01-01</td>\n",
              "      <td>9603</td>\n",
              "      <td>170</td>\n",
              "      <td>5315941</td>\n",
              "      <td>[السعودية, برمجيات, حقوق الإنسان]</td>\n",
              "      <td>https://ar.wikipedia.org/wiki/%D8%A3%D8%A8%D8%...</td>\n",
              "      <td>https://upload.wikimedia.org/wikipedia/commons...</td>\n",
              "      <td>أبشر، هو نظام إلكتروني أطلقته وزارة الداخلية ا...</td>\n",
              "    </tr>\n",
              "    <tr>\n",
              "      <th>4</th>\n",
              "      <td>كأس العالم 2022</td>\n",
              "      <td>2022-01-19</td>\n",
              "      <td>380824</td>\n",
              "      <td>163</td>\n",
              "      <td>865496</td>\n",
              "      <td>[الشرق الأوسط, الوطن العربي, عقد 2020, قطر, كأ...</td>\n",
              "      <td>https://ar.wikipedia.org/wiki/%D9%83%D8%A3%D8%...</td>\n",
              "      <td>None</td>\n",
              "      <td>كأس العالم 2022 هي النسخة الثانية والعشرون من ...</td>\n",
              "    </tr>\n",
              "    <tr>\n",
              "      <th>...</th>\n",
              "      <td>...</td>\n",
              "      <td>...</td>\n",
              "      <td>...</td>\n",
              "      <td>...</td>\n",
              "      <td>...</td>\n",
              "      <td>...</td>\n",
              "      <td>...</td>\n",
              "      <td>...</td>\n",
              "      <td>...</td>\n",
              "    </tr>\n",
              "    <tr>\n",
              "      <th>1627</th>\n",
              "      <td>عبد الله بن سليمان المنيع</td>\n",
              "      <td>2022-01-05</td>\n",
              "      <td>4565</td>\n",
              "      <td>1</td>\n",
              "      <td>329607</td>\n",
              "      <td>[أعلام, الإسلام, السعودية]</td>\n",
              "      <td>https://ar.wikipedia.org/wiki/%D8%B9%D8%A8%D8%...</td>\n",
              "      <td>https://upload.wikimedia.org/wikipedia/ar/e/ee...</td>\n",
              "      <td>الشيخ عبد الله بن سليمان المنيع (1349 هـ شقراء...</td>\n",
              "    </tr>\n",
              "    <tr>\n",
              "      <th>1628</th>\n",
              "      <td>عبد الله رشدي</td>\n",
              "      <td>2023-01-01</td>\n",
              "      <td>4878</td>\n",
              "      <td>1</td>\n",
              "      <td>6691256</td>\n",
              "      <td>[أعلام, القاهرة, مصر]</td>\n",
              "      <td>https://ar.wikipedia.org/wiki/%D8%B9%D8%A8%D8%...</td>\n",
              "      <td>https://upload.wikimedia.org/wikipedia/commons...</td>\n",
              "      <td>عبد الله رشدي (3 فبراير 1984) إمام وخطيب بوزار...</td>\n",
              "    </tr>\n",
              "    <tr>\n",
              "      <th>1629</th>\n",
              "      <td>عبد الله عباس</td>\n",
              "      <td>2022-02-16</td>\n",
              "      <td>4523</td>\n",
              "      <td>1</td>\n",
              "      <td>1668677</td>\n",
              "      <td>[أعلام, إيران, تلفاز, تمثيل, مسرح]</td>\n",
              "      <td>https://ar.wikipedia.org/wiki/%D8%B9%D8%A8%D8%...</td>\n",
              "      <td>None</td>\n",
              "      <td>عبد الله عباس (7 أغسطس 1988) ممثل إيراني نشأ ف...</td>\n",
              "    </tr>\n",
              "    <tr>\n",
              "      <th>1630</th>\n",
              "      <td>البابا فرنسيس</td>\n",
              "      <td>2022-12-31</td>\n",
              "      <td>6181</td>\n",
              "      <td>1</td>\n",
              "      <td>1596701</td>\n",
              "      <td>[أعلام, أمريكا اللاتينية, إيطاليا, الأديان, ال...</td>\n",
              "      <td>https://ar.wikipedia.org/wiki/%D8%A7%D9%84%D8%...</td>\n",
              "      <td>https://upload.wikimedia.org/wikipedia/commons...</td>\n",
              "      <td>البابا فرنسيس. (باللاتينية: Franciscus)، ولد ب...</td>\n",
              "    </tr>\n",
              "    <tr>\n",
              "      <th>1631</th>\n",
              "      <td>فاضل البراك</td>\n",
              "      <td>2022-09-30</td>\n",
              "      <td>5087</td>\n",
              "      <td>1</td>\n",
              "      <td>4778162</td>\n",
              "      <td>[أعلام, العراق, حزب البعث]</td>\n",
              "      <td>https://ar.wikipedia.org/wiki/%D9%81%D8%A7%D8%...</td>\n",
              "      <td>None</td>\n",
              "      <td>فاضل البراك (1942-1992)، كاتب وباحث رئيس سابق ...</td>\n",
              "    </tr>\n",
              "  </tbody>\n",
              "</table>\n",
              "<p>1632 rows × 9 columns</p>\n",
              "</div>\n",
              "    <div class=\"colab-df-buttons\">\n",
              "\n",
              "  <div class=\"colab-df-container\">\n",
              "    <button class=\"colab-df-convert\" onclick=\"convertToInteractive('df-3084aed6-8d40-402f-addf-5e67e91716c0')\"\n",
              "            title=\"Convert this dataframe to an interactive table.\"\n",
              "            style=\"display:none;\">\n",
              "\n",
              "  <svg xmlns=\"http://www.w3.org/2000/svg\" height=\"24px\" viewBox=\"0 -960 960 960\">\n",
              "    <path d=\"M120-120v-720h720v720H120Zm60-500h600v-160H180v160Zm220 220h160v-160H400v160Zm0 220h160v-160H400v160ZM180-400h160v-160H180v160Zm440 0h160v-160H620v160ZM180-180h160v-160H180v160Zm440 0h160v-160H620v160Z\"/>\n",
              "  </svg>\n",
              "    </button>\n",
              "\n",
              "  <style>\n",
              "    .colab-df-container {\n",
              "      display:flex;\n",
              "      gap: 12px;\n",
              "    }\n",
              "\n",
              "    .colab-df-convert {\n",
              "      background-color: #E8F0FE;\n",
              "      border: none;\n",
              "      border-radius: 50%;\n",
              "      cursor: pointer;\n",
              "      display: none;\n",
              "      fill: #1967D2;\n",
              "      height: 32px;\n",
              "      padding: 0 0 0 0;\n",
              "      width: 32px;\n",
              "    }\n",
              "\n",
              "    .colab-df-convert:hover {\n",
              "      background-color: #E2EBFA;\n",
              "      box-shadow: 0px 1px 2px rgba(60, 64, 67, 0.3), 0px 1px 3px 1px rgba(60, 64, 67, 0.15);\n",
              "      fill: #174EA6;\n",
              "    }\n",
              "\n",
              "    .colab-df-buttons div {\n",
              "      margin-bottom: 4px;\n",
              "    }\n",
              "\n",
              "    [theme=dark] .colab-df-convert {\n",
              "      background-color: #3B4455;\n",
              "      fill: #D2E3FC;\n",
              "    }\n",
              "\n",
              "    [theme=dark] .colab-df-convert:hover {\n",
              "      background-color: #434B5C;\n",
              "      box-shadow: 0px 1px 3px 1px rgba(0, 0, 0, 0.15);\n",
              "      filter: drop-shadow(0px 1px 2px rgba(0, 0, 0, 0.3));\n",
              "      fill: #FFFFFF;\n",
              "    }\n",
              "  </style>\n",
              "\n",
              "    <script>\n",
              "      const buttonEl =\n",
              "        document.querySelector('#df-3084aed6-8d40-402f-addf-5e67e91716c0 button.colab-df-convert');\n",
              "      buttonEl.style.display =\n",
              "        google.colab.kernel.accessAllowed ? 'block' : 'none';\n",
              "\n",
              "      async function convertToInteractive(key) {\n",
              "        const element = document.querySelector('#df-3084aed6-8d40-402f-addf-5e67e91716c0');\n",
              "        const dataTable =\n",
              "          await google.colab.kernel.invokeFunction('convertToInteractive',\n",
              "                                                    [key], {});\n",
              "        if (!dataTable) return;\n",
              "\n",
              "        const docLinkHtml = 'Like what you see? Visit the ' +\n",
              "          '<a target=\"_blank\" href=https://colab.research.google.com/notebooks/data_table.ipynb>data table notebook</a>'\n",
              "          + ' to learn more about interactive tables.';\n",
              "        element.innerHTML = '';\n",
              "        dataTable['output_type'] = 'display_data';\n",
              "        await google.colab.output.renderOutput(dataTable, element);\n",
              "        const docLink = document.createElement('div');\n",
              "        docLink.innerHTML = docLinkHtml;\n",
              "        element.appendChild(docLink);\n",
              "      }\n",
              "    </script>\n",
              "  </div>\n",
              "\n",
              "\n",
              "<div id=\"df-46f5ea70-5f44-4817-88be-f9420171f3a7\">\n",
              "  <button class=\"colab-df-quickchart\" onclick=\"quickchart('df-46f5ea70-5f44-4817-88be-f9420171f3a7')\"\n",
              "            title=\"Suggest charts.\"\n",
              "            style=\"display:none;\">\n",
              "\n",
              "<svg xmlns=\"http://www.w3.org/2000/svg\" height=\"24px\"viewBox=\"0 0 24 24\"\n",
              "     width=\"24px\">\n",
              "    <g>\n",
              "        <path d=\"M19 3H5c-1.1 0-2 .9-2 2v14c0 1.1.9 2 2 2h14c1.1 0 2-.9 2-2V5c0-1.1-.9-2-2-2zM9 17H7v-7h2v7zm4 0h-2V7h2v10zm4 0h-2v-4h2v4z\"/>\n",
              "    </g>\n",
              "</svg>\n",
              "  </button>\n",
              "\n",
              "<style>\n",
              "  .colab-df-quickchart {\n",
              "      --bg-color: #E8F0FE;\n",
              "      --fill-color: #1967D2;\n",
              "      --hover-bg-color: #E2EBFA;\n",
              "      --hover-fill-color: #174EA6;\n",
              "      --disabled-fill-color: #AAA;\n",
              "      --disabled-bg-color: #DDD;\n",
              "  }\n",
              "\n",
              "  [theme=dark] .colab-df-quickchart {\n",
              "      --bg-color: #3B4455;\n",
              "      --fill-color: #D2E3FC;\n",
              "      --hover-bg-color: #434B5C;\n",
              "      --hover-fill-color: #FFFFFF;\n",
              "      --disabled-bg-color: #3B4455;\n",
              "      --disabled-fill-color: #666;\n",
              "  }\n",
              "\n",
              "  .colab-df-quickchart {\n",
              "    background-color: var(--bg-color);\n",
              "    border: none;\n",
              "    border-radius: 50%;\n",
              "    cursor: pointer;\n",
              "    display: none;\n",
              "    fill: var(--fill-color);\n",
              "    height: 32px;\n",
              "    padding: 0;\n",
              "    width: 32px;\n",
              "  }\n",
              "\n",
              "  .colab-df-quickchart:hover {\n",
              "    background-color: var(--hover-bg-color);\n",
              "    box-shadow: 0 1px 2px rgba(60, 64, 67, 0.3), 0 1px 3px 1px rgba(60, 64, 67, 0.15);\n",
              "    fill: var(--button-hover-fill-color);\n",
              "  }\n",
              "\n",
              "  .colab-df-quickchart-complete:disabled,\n",
              "  .colab-df-quickchart-complete:disabled:hover {\n",
              "    background-color: var(--disabled-bg-color);\n",
              "    fill: var(--disabled-fill-color);\n",
              "    box-shadow: none;\n",
              "  }\n",
              "\n",
              "  .colab-df-spinner {\n",
              "    border: 2px solid var(--fill-color);\n",
              "    border-color: transparent;\n",
              "    border-bottom-color: var(--fill-color);\n",
              "    animation:\n",
              "      spin 1s steps(1) infinite;\n",
              "  }\n",
              "\n",
              "  @keyframes spin {\n",
              "    0% {\n",
              "      border-color: transparent;\n",
              "      border-bottom-color: var(--fill-color);\n",
              "      border-left-color: var(--fill-color);\n",
              "    }\n",
              "    20% {\n",
              "      border-color: transparent;\n",
              "      border-left-color: var(--fill-color);\n",
              "      border-top-color: var(--fill-color);\n",
              "    }\n",
              "    30% {\n",
              "      border-color: transparent;\n",
              "      border-left-color: var(--fill-color);\n",
              "      border-top-color: var(--fill-color);\n",
              "      border-right-color: var(--fill-color);\n",
              "    }\n",
              "    40% {\n",
              "      border-color: transparent;\n",
              "      border-right-color: var(--fill-color);\n",
              "      border-top-color: var(--fill-color);\n",
              "    }\n",
              "    60% {\n",
              "      border-color: transparent;\n",
              "      border-right-color: var(--fill-color);\n",
              "    }\n",
              "    80% {\n",
              "      border-color: transparent;\n",
              "      border-right-color: var(--fill-color);\n",
              "      border-bottom-color: var(--fill-color);\n",
              "    }\n",
              "    90% {\n",
              "      border-color: transparent;\n",
              "      border-bottom-color: var(--fill-color);\n",
              "    }\n",
              "  }\n",
              "</style>\n",
              "\n",
              "  <script>\n",
              "    async function quickchart(key) {\n",
              "      const quickchartButtonEl =\n",
              "        document.querySelector('#' + key + ' button');\n",
              "      quickchartButtonEl.disabled = true;  // To prevent multiple clicks.\n",
              "      quickchartButtonEl.classList.add('colab-df-spinner');\n",
              "      try {\n",
              "        const charts = await google.colab.kernel.invokeFunction(\n",
              "            'suggestCharts', [key], {});\n",
              "      } catch (error) {\n",
              "        console.error('Error during call to suggestCharts:', error);\n",
              "      }\n",
              "      quickchartButtonEl.classList.remove('colab-df-spinner');\n",
              "      quickchartButtonEl.classList.add('colab-df-quickchart-complete');\n",
              "    }\n",
              "    (() => {\n",
              "      let quickchartButtonEl =\n",
              "        document.querySelector('#df-46f5ea70-5f44-4817-88be-f9420171f3a7 button');\n",
              "      quickchartButtonEl.style.display =\n",
              "        google.colab.kernel.accessAllowed ? 'block' : 'none';\n",
              "    })();\n",
              "  </script>\n",
              "</div>\n",
              "    </div>\n",
              "  </div>\n"
            ]
          },
          "metadata": {},
          "execution_count": 38
        }
      ]
    },
    {
      "cell_type": "markdown",
      "source": [
        "## Filter by Categories"
      ],
      "metadata": {
        "id": "aYQ4R0eGWZ2J"
      }
    },
    {
      "cell_type": "code",
      "source": [
        "# Specify the category you want to filter by\n",
        "target_category = 'أعلام'\n",
        "\n",
        "# Create a boolean mask to filter rows\n",
        "# mask = combined_df['Categories'].apply(lambda categories: target_category in categories)\n",
        "mask = combined_df['Categories'].apply(lambda categories: categories is not None and target_category in categories)\n",
        "\n",
        "# Filter the DataFrame based on the mask\n",
        "filtered_df = combined_df[mask]\n",
        "filtered_df"
      ],
      "metadata": {
        "id": "zVSlXKJuVMk1"
      },
      "execution_count": null,
      "outputs": []
    },
    {
      "cell_type": "code",
      "source": [
        "# Specify the target categories you want to filter by\n",
        "target_categories = ['أعلام', 'العراق']\n",
        "\n",
        "# Create a boolean mask to filter rows\n",
        "mask = combined_df['Categories'].apply(lambda categories: categories is not None and any(category in categories for category in target_categories))\n",
        "\n",
        "# Filter the DataFrame based on the mask\n",
        "filtered_df = combined_df[mask]\n",
        "\n",
        "# Print the filtered DataFrame\n",
        "filtered_df"
      ],
      "metadata": {
        "id": "KqlfW_PDWsg0"
      },
      "execution_count": null,
      "outputs": []
    },
    {
      "cell_type": "code",
      "source": [
        "# Specify the target categories you want to filter by\n",
        "target_categories = ['أعلام', 'العراق']\n",
        "\n",
        "# Create a boolean mask to filter rows\n",
        "mask = combined_df['Categories'].apply(lambda categories: categories is not None and all(category in categories for category in target_categories))\n",
        "\n",
        "# Filter the DataFrame based on the mask\n",
        "filtered_df = combined_df[mask]\n",
        "\n",
        "# Print the filtered DataFrame\n",
        "filtered_df"
      ],
      "metadata": {
        "id": "Mn2bgtJXXb6P"
      },
      "execution_count": null,
      "outputs": []
    },
    {
      "cell_type": "code",
      "source": [
        "combined_df.iloc[710]['URL']"
      ],
      "metadata": {
        "id": "EXpPmdeAZdHQ"
      },
      "execution_count": null,
      "outputs": []
    },
    {
      "cell_type": "code",
      "source": [
        "combined_df.iloc[710]['Image']"
      ],
      "metadata": {
        "id": "z3DoAdGRaMoy"
      },
      "execution_count": null,
      "outputs": []
    },
    {
      "cell_type": "code",
      "source": [
        "combined_df.iloc[710]['Categories']"
      ],
      "metadata": {
        "id": "G-FEiCaCYxLe"
      },
      "execution_count": null,
      "outputs": []
    },
    {
      "cell_type": "code",
      "source": [
        "stop"
      ],
      "metadata": {
        "id": "UmowRSwPJBlv"
      },
      "execution_count": null,
      "outputs": []
    },
    {
      "cell_type": "code",
      "source": [
        "filtered_df.to_csv('top_iraqi_people.csv', encoding='utf-8-sig')"
      ],
      "metadata": {
        "id": "gV5vfmbMaq_D"
      },
      "execution_count": null,
      "outputs": []
    },
    {
      "cell_type": "code",
      "source": [
        "combined_df.to_csv('wikipedia_top_articles_2022.csv', encoding='utf-8-sig')"
      ],
      "metadata": {
        "colab": {
          "base_uri": "https://localhost:8080/",
          "height": 17
        },
        "id": "YVtDT3GbOU2_",
        "outputId": "d573a2f1-6a08-48ff-9285-634b7a798715"
      },
      "execution_count": 39,
      "outputs": [
        {
          "output_type": "display_data",
          "data": {
            "text/plain": [
              "<IPython.core.display.Javascript object>"
            ],
            "application/javascript": [
              "google.colab.output.setIframeHeight(0, true, {maxHeight: 5000})"
            ]
          },
          "metadata": {}
        }
      ]
    },
    {
      "cell_type": "code",
      "source": [],
      "metadata": {
        "id": "Wr6N2NBTFRFd"
      },
      "execution_count": null,
      "outputs": []
    },
    {
      "cell_type": "code",
      "source": [],
      "metadata": {
        "id": "OLCRuj6cFRHv"
      },
      "execution_count": null,
      "outputs": []
    },
    {
      "cell_type": "code",
      "source": [],
      "metadata": {
        "id": "AETNCF0TFRKo"
      },
      "execution_count": null,
      "outputs": []
    },
    {
      "cell_type": "code",
      "source": [],
      "metadata": {
        "id": "LVEPcOQaFRNL"
      },
      "execution_count": null,
      "outputs": []
    },
    {
      "cell_type": "code",
      "source": [],
      "metadata": {
        "id": "FSzXDZn1FRQJ"
      },
      "execution_count": null,
      "outputs": []
    },
    {
      "cell_type": "code",
      "source": [],
      "metadata": {
        "id": "StR7wkGuFRS4"
      },
      "execution_count": null,
      "outputs": []
    },
    {
      "cell_type": "code",
      "source": [],
      "metadata": {
        "id": "bNRKIPCAFRVX"
      },
      "execution_count": null,
      "outputs": []
    },
    {
      "cell_type": "code",
      "source": [],
      "metadata": {
        "id": "1P6NGdzUFRaz"
      },
      "execution_count": null,
      "outputs": []
    },
    {
      "cell_type": "code",
      "source": [],
      "metadata": {
        "id": "uub9Xd9KFRdM"
      },
      "execution_count": null,
      "outputs": []
    },
    {
      "cell_type": "code",
      "source": [
        "content_list = []\n",
        "urls_list = []\n",
        "categories_list = []\n",
        "lang = 'ar'\n",
        "\n",
        "for article_title in top_article_titles_list:\n",
        "\n",
        "  current_article = wikipedia.page(article_title['article'])\n",
        "  # current_article_url = wikipedia.url(article_title['article'])\n",
        "\n",
        "\n",
        "  content_list.append(current_article.summary)\n",
        "\n",
        "  urls_list.append(current_article.url)\n",
        "\n",
        "\n",
        "\n",
        "\n",
        "  current_article_categories_list = current_article.categories\n",
        "\n",
        "  # Filter the strings containing \"تصنيف:بوابة\"\n",
        "  current_article_filtered_categories = [s for s in current_article_categories_list if 'تصنيف:بوابة' in s]\n",
        "\n",
        "  # cleaned_list = [s.replace('/مقالات متعلقة', '') for s in filtered_list]\n",
        "  current_article_cleaned_categories = [s.replace('تصنيف:بوابة', '').replace('/مقالات متعلقة', '').strip() for s in current_article_filtered_categories]\n",
        "\n",
        "  categories_list.append(current_article_cleaned_categories)\n",
        "\n",
        "\n",
        "\n",
        "\n",
        "\n",
        "\n",
        "\n",
        "\n",
        "  page_title = current_article.title\n",
        "\n",
        "  # Encode the URL components\n",
        "  # lang = urllib.parse.quote(lang)\n",
        "  encoded_page_title = urllib.parse.quote(page_title)\n",
        "\n",
        "  encoded_api_url = f'https://{lang}.wikipedia.org/w/api.php?action=query&prop=pageimages&format=json&piprop=original&titles={encoded_page_title}'\n",
        "\n",
        "  resp = urllib.request.urlopen(encoded_api_url)\n",
        "  resp_bytes = resp.read()\n",
        "  data = json.loads(resp_bytes)\n",
        "\n",
        "\n",
        "\n",
        "  # Define the title you want to find\n",
        "  # desired_title = page.title\n",
        "\n",
        "  # Initialize image URL as None\n",
        "  image_url = None\n",
        "\n",
        "  # Search for the title in the JSON data\n",
        "  for page_id, page_info in data['query']['pages'].items():\n",
        "      print(page_info, '\\n')\n",
        "      if page_info['title'] == page_title:\n",
        "          image_url = page_info['original']['source']\n",
        "          break  # Stop searching once the title is found\n",
        "\n",
        "  # Print the image URL if found\n",
        "  if image_url:\n",
        "      print(image_url)\n",
        "  else:\n",
        "      print(f\"Title '{page_title}' not found in the JSON data.\")\n",
        "\n",
        "\n",
        "\n",
        "\n",
        "\n",
        "\n",
        "\n",
        "\n",
        "\n",
        "\n",
        "\n",
        "\n"
      ],
      "metadata": {
        "id": "Qj7Me3g-OHtu"
      },
      "execution_count": null,
      "outputs": []
    },
    {
      "cell_type": "code",
      "source": [
        "len(image_urls)\n"
      ],
      "metadata": {
        "id": "SIqDVXPrGO35"
      },
      "execution_count": null,
      "outputs": []
    },
    {
      "cell_type": "code",
      "source": [
        "image_urls"
      ],
      "metadata": {
        "id": "6VP-35zJHaOt"
      },
      "execution_count": null,
      "outputs": []
    },
    {
      "cell_type": "code",
      "source": [
        "\n",
        "# Search for the title in the JSON data\n",
        "for page_id, page_info in data.get('query', {}).get('pages', {}).items():\n",
        "    if 'title' in page_info and page_info['title'] == desired_title:\n",
        "        original_info = page_info.get('original', {})\n",
        "        if 'source' in original_info:\n",
        "            image_url = original_info['source']\n",
        "            break  # Stop searching once the title is found\n",
        "\n",
        "# Print the image URL if found\n",
        "if image_url:\n",
        "    print(image_url)\n",
        "else:\n",
        "    print(f\"Title '{desired_title}' not found in the JSON data or missing 'original' data.\")"
      ],
      "metadata": {
        "id": "lrgz6yH8-Fp8"
      },
      "execution_count": null,
      "outputs": []
    },
    {
      "cell_type": "code",
      "source": [
        "len(content_list)"
      ],
      "metadata": {
        "id": "h5xLwLo0QqL4"
      },
      "execution_count": null,
      "outputs": []
    },
    {
      "cell_type": "code",
      "source": [
        "urls_list"
      ],
      "metadata": {
        "id": "tYuaUlbuR6vb"
      },
      "execution_count": null,
      "outputs": []
    },
    {
      "cell_type": "code",
      "source": [
        "categories_list"
      ],
      "metadata": {
        "id": "ZC_KF7U1w6GJ"
      },
      "execution_count": null,
      "outputs": []
    },
    {
      "cell_type": "code",
      "source": [],
      "metadata": {
        "id": "1o5qRsmj3vbT"
      },
      "execution_count": null,
      "outputs": []
    },
    {
      "cell_type": "code",
      "source": [],
      "metadata": {
        "id": "zWVBwg5P3veE"
      },
      "execution_count": null,
      "outputs": []
    },
    {
      "cell_type": "code",
      "source": [],
      "metadata": {
        "id": "o9DTKU9Kw6Ih"
      },
      "execution_count": null,
      "outputs": []
    },
    {
      "cell_type": "code",
      "source": [],
      "metadata": {
        "id": "2sdjqHL8w6Lh"
      },
      "execution_count": null,
      "outputs": []
    },
    {
      "cell_type": "code",
      "source": [],
      "metadata": {
        "id": "kmwjWVaww6Nv"
      },
      "execution_count": null,
      "outputs": []
    },
    {
      "cell_type": "code",
      "source": [
        "print(wikipedia.summary(\"COVID-19 pandemic\"))"
      ],
      "metadata": {
        "id": "ANQwbuUY1GB9"
      },
      "execution_count": null,
      "outputs": []
    },
    {
      "cell_type": "code",
      "source": [
        "page = wikipedia.page(\"Manchester City F.C.\")\n",
        "page"
      ],
      "metadata": {
        "id": "hrB7-n8416QC"
      },
      "execution_count": null,
      "outputs": []
    },
    {
      "cell_type": "code",
      "source": [
        "page.title"
      ],
      "metadata": {
        "id": "MUZYBqmd2Gko"
      },
      "execution_count": null,
      "outputs": []
    },
    {
      "cell_type": "code",
      "source": [
        "page.url"
      ],
      "metadata": {
        "id": "t4gYsZbv2On7"
      },
      "execution_count": null,
      "outputs": []
    },
    {
      "cell_type": "code",
      "source": [
        "page.content"
      ],
      "metadata": {
        "id": "-RfZumic2baP"
      },
      "execution_count": null,
      "outputs": []
    },
    {
      "cell_type": "code",
      "source": [
        "page.summary"
      ],
      "metadata": {
        "id": "Ys2C7k722dMs"
      },
      "execution_count": null,
      "outputs": []
    },
    {
      "cell_type": "code",
      "source": [
        "page.images"
      ],
      "metadata": {
        "id": "J1VHrYg42iHk"
      },
      "execution_count": null,
      "outputs": []
    },
    {
      "cell_type": "code",
      "source": [
        "# get the links that Wikipedia used as a reference from different websites or research\n",
        "page.links"
      ],
      "metadata": {
        "id": "Ho2PJe033Tnz"
      },
      "execution_count": null,
      "outputs": []
    },
    {
      "cell_type": "code",
      "source": [
        "page.categories"
      ],
      "metadata": {
        "id": "B9L_EvQE3pSn"
      },
      "execution_count": null,
      "outputs": []
    },
    {
      "cell_type": "code",
      "source": [
        "page.sections"
      ],
      "metadata": {
        "id": "Ce2-Tul-3rKH"
      },
      "execution_count": null,
      "outputs": []
    },
    {
      "cell_type": "code",
      "source": [
        "page = wikipedia.page(\"الحسين بن عبد الله الثاني\")\n",
        "page"
      ],
      "metadata": {
        "id": "3Ocq-DAb4pD0"
      },
      "execution_count": null,
      "outputs": []
    },
    {
      "cell_type": "code",
      "source": [
        "page.images"
      ],
      "metadata": {
        "id": "EbzG9pGw4u1L"
      },
      "execution_count": null,
      "outputs": []
    },
    {
      "cell_type": "code",
      "source": [
        "page.categories"
      ],
      "metadata": {
        "id": "H-AAFetJ4-SO"
      },
      "execution_count": null,
      "outputs": []
    },
    {
      "cell_type": "code",
      "source": [
        "import spacy\n",
        "from spacy import displacy\n",
        "\n",
        "NER = spacy.load(\"en_core_web_sm\")\n",
        "\n",
        "# Now, we enter our sample text which we shall be testing. The text has been taken from the Wikipedia page of ISRO.\n",
        "\n",
        "raw_text=\"The Indian Space Research Organisation or is the national space agency of India, headquartered in Bengaluru. It operates under Department of Space which is directly overseen by the Prime Minister of India while Chairman of ISRO acts as executive of DOS as well.\"\n",
        "\n",
        "text1= NER(raw_text)\n",
        "text1"
      ],
      "metadata": {
        "id": "SKrTo4Jj79Q4"
      },
      "execution_count": null,
      "outputs": []
    },
    {
      "cell_type": "code",
      "source": [
        "for word in text1.ents:\n",
        "    print(word.text, word.label_)"
      ],
      "metadata": {
        "id": "clpoEsQz8TGw"
      },
      "execution_count": null,
      "outputs": []
    },
    {
      "cell_type": "code",
      "source": [
        "page.summary"
      ],
      "metadata": {
        "id": "lrzoIeGY8hx0"
      },
      "execution_count": null,
      "outputs": []
    },
    {
      "cell_type": "code",
      "source": [],
      "metadata": {
        "id": "b-2E5xim9vDc"
      },
      "execution_count": null,
      "outputs": []
    },
    {
      "cell_type": "code",
      "source": [
        "en_summary = 'Day of Arafah. Al-Hussein bin Abdullah II bin Al-Hussein (June 28, 1994 / Muharram 19, 1415 AH), Crown Prince of the Hashemite Kingdom of Jordan since July 2, 2009, is (according to the line of succession to the Jordanian throne) the heir apparent to the throne of the Hashemite Kingdom of Jordan after his father, King Abdullah. the second. Prince Hussein is a member of the Hashemite family that has ruled Jordan since 1921 and whose lineage goes back to Hassan bin Ali bin Abi Talib, the grandson of the Prophet Muhammad from his daughter Fatima Al-Zahra.'\n",
        "\n",
        "text1= NER(en_summary)\n",
        "for word in text1.ents:\n",
        "    print(word.text, word.label_)"
      ],
      "metadata": {
        "id": "W9hJwuoE8qw7"
      },
      "execution_count": null,
      "outputs": []
    },
    {
      "cell_type": "code",
      "source": [
        "displacy.render(text1,style=\"ent\",jupyter=True)"
      ],
      "metadata": {
        "id": "YcEpLRi3-3_H"
      },
      "execution_count": null,
      "outputs": []
    },
    {
      "cell_type": "code",
      "source": [
        "spacy.explain(\"GPE\")"
      ],
      "metadata": {
        "id": "VRs59yze_ZAn"
      },
      "execution_count": null,
      "outputs": []
    },
    {
      "cell_type": "code",
      "source": [
        "spacy.explain(\"ORDINAL\")"
      ],
      "metadata": {
        "id": "-dTLFnh__ff4"
      },
      "execution_count": null,
      "outputs": []
    },
    {
      "cell_type": "code",
      "source": [
        "spacy.explain(\"NORP\")"
      ],
      "metadata": {
        "id": "YZvfL4da_jLw"
      },
      "execution_count": null,
      "outputs": []
    },
    {
      "cell_type": "code",
      "source": [
        "spacy.explain(\"ORG\")"
      ],
      "metadata": {
        "id": "Bp-jQg_18fJl"
      },
      "execution_count": null,
      "outputs": []
    },
    {
      "cell_type": "code",
      "source": [
        "spacy.explain(\"WORK_OF_ART\")"
      ],
      "metadata": {
        "id": "k3EK3P3X8a0P"
      },
      "execution_count": null,
      "outputs": []
    },
    {
      "cell_type": "code",
      "source": [
        "spacy.explain(\"PERSON\")"
      ],
      "metadata": {
        "id": "EbkElGDi_QuF"
      },
      "execution_count": null,
      "outputs": []
    },
    {
      "cell_type": "code",
      "source": [
        "en_summary = 'Salat al-Istikhaara (Arabic: صلاة الاستخارة), which translates to Prayer of Seeking Counsel, is a prayer recited by Muslims who are in need of guidance from God Almighty (Allah) when facing a decision in their life. The prayer, known as salah in Arabic is performed in two units of prayer or rakaah followed by the supplication of Salat al-Istikhaara. '\n",
        "\n",
        "text1= NER(en_summary)\n",
        "for word in text1.ents:\n",
        "    print(word.text, word.label_)"
      ],
      "metadata": {
        "id": "DZ68bkyd_5hX"
      },
      "execution_count": null,
      "outputs": []
    },
    {
      "cell_type": "code",
      "source": [],
      "metadata": {
        "id": "Rl7IJX3tAm8W"
      },
      "execution_count": null,
      "outputs": []
    },
    {
      "cell_type": "code",
      "source": [
        "displacy.render(text1,style=\"ent\",jupyter=True)"
      ],
      "metadata": {
        "id": "tLQ55dkHAGGI"
      },
      "execution_count": null,
      "outputs": []
    },
    {
      "cell_type": "code",
      "source": [
        "en_summary = 'El Clásico (in Spanish, also in lowercase letters;[1] Spanish pronunciation: [el ˈklasiko]) or El Clàssic (in Catalan,[2] pronounced [əl ˈklasik]), both meaning \"The Classic\", is the name given to any football match between rival clubs Barcelona and Real Madrid. Originally referring to competitions held in the Spanish championship, the term now includes every match between the clubs, such as those in the UEFA Champions League, Supercopa de España and Copa del Rey. It is considered one of the biggest club football games in the world and is among the most viewed annual sporting events.[3][4][5][6] A fixture known for its intensity, it has featured memorable goal celebrations from both teams, often involving mockery from both sides.[7] '\n",
        "\n",
        "text1= NER(en_summary)\n",
        "for word in text1.ents:\n",
        "    print(word.text, word.label_)"
      ],
      "metadata": {
        "id": "MbdoQc1FAn1u"
      },
      "execution_count": null,
      "outputs": []
    },
    {
      "cell_type": "code",
      "source": [
        "en_summary = 'Ashura (Arabic: عَاشُورَاء, ʿĀshūrāʾ, [ʕaːʃuːˈraːʔ]) is a day of commemoration in Islam. It occurs annually on the tenth of Muharram, the first month of the Islamic calendar. For Sunni Muslims, Ashura marks the parting of the Red Sea by Moses and the salvation of the Israelites. Also on this day, Noah disembarked from the Ark, God forgave Adam, and Joseph was released from prison, among various other auspicious events on Ashura in Sunni tradition. Ashura is celebrated in Sunni Islam through supererogatory fasting and other acceptable expressions of joy. In some Sunni communities, the annual Ashura festivities include carnivals, bonfires, and special dishes, even though some Sunni scholars have criticized such practices. '\n",
        "en_summary = 'Ashura'\n",
        "\n",
        "text1= NER(en_summary)\n",
        "for word in text1.ents:\n",
        "    print(word.text, word.label_)"
      ],
      "metadata": {
        "id": "BalHvvy5E5_A"
      },
      "execution_count": null,
      "outputs": []
    },
    {
      "cell_type": "code",
      "source": [
        "displacy.render(text1,style=\"ent\",jupyter=True)"
      ],
      "metadata": {
        "id": "iH_Tns_BFCnf"
      },
      "execution_count": null,
      "outputs": []
    }
  ]
}