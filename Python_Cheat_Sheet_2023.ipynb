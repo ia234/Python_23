{
  "nbformat": 4,
  "nbformat_minor": 0,
  "metadata": {
    "colab": {
      "provenance": [],
      "authorship_tag": "ABX9TyNUU3CHcIg1gq7JWhVopBmz"
    },
    "kernelspec": {
      "name": "python3",
      "display_name": "Python 3"
    },
    "language_info": {
      "name": "python"
    }
  },
  "cells": [
    {
      "cell_type": "code",
      "execution_count": null,
      "metadata": {
        "id": "kZ5VIILK1Wsw"
      },
      "outputs": [],
      "source": []
    },
    {
      "cell_type": "markdown",
      "source": [
        "## Data Types"
      ],
      "metadata": {
        "id": "iJrSmRZwFW8g"
      }
    },
    {
      "cell_type": "markdown",
      "source": [
        "Numeric Data Types:"
      ],
      "metadata": {
        "id": "AomJyuxJauvM"
      }
    },
    {
      "cell_type": "code",
      "source": [
        "# integer\n",
        "my_int = 10\n",
        "print(type(my_int))  # Output: <class 'int'>\n",
        "\n",
        "# floating-point number\n",
        "my_float = 3.14\n",
        "print(type(my_float))  # Output: <class 'float'>\n",
        "\n",
        "# complex number\n",
        "my_complex = 2 + 3j\n",
        "print(type(my_complex))  # Output: <class 'complex'>\n"
      ],
      "metadata": {
        "id": "m3zhDO0oawxR",
        "colab": {
          "base_uri": "https://localhost:8080/"
        },
        "outputId": "39dfe7b1-0f0d-4926-cc2a-ce1c7f57cdb0"
      },
      "execution_count": null,
      "outputs": [
        {
          "output_type": "stream",
          "name": "stdout",
          "text": [
            "<class 'int'>\n",
            "<class 'float'>\n",
            "<class 'complex'>\n"
          ]
        }
      ]
    },
    {
      "cell_type": "markdown",
      "source": [
        "Sequence Data Types:"
      ],
      "metadata": {
        "id": "JSuFiPauazxL"
      }
    },
    {
      "cell_type": "code",
      "source": [
        "# string\n",
        "my_string = \"Hello, World!\"\n",
        "print(type(my_string))  # Output: <class 'str'>\n",
        "\n",
        "# list This is a collection of items that are ordered and changeable.\n",
        "my_list = [1, 2, \"three\", True]\n",
        "print(type(my_list))  # Output: <class 'list'>\n",
        "\n",
        "# tuple This is a collection of items that are ordered and unchangeable.\n",
        "my_tuple = (1, 2, \"three\", True)\n",
        "print(type(my_tuple))  # Output: <class 'tuple'>\n",
        "\n",
        "# range The range function is used to create a sequence of numbers, and it returns a range object. \n",
        "my_range = range(5)\n",
        "print(type(my_range))  # Output: <class 'range'>\n",
        "\n"
      ],
      "metadata": {
        "id": "ROV-2xzVaysV",
        "colab": {
          "base_uri": "https://localhost:8080/"
        },
        "outputId": "4d9b4cea-f67b-40ee-a166-001cdf0abb14"
      },
      "execution_count": null,
      "outputs": [
        {
          "output_type": "stream",
          "name": "stdout",
          "text": [
            "<class 'str'>\n",
            "<class 'list'>\n",
            "<class 'tuple'>\n",
            "<class 'range'>\n"
          ]
        }
      ]
    },
    {
      "cell_type": "markdown",
      "source": [
        "Mapping Data Type:"
      ],
      "metadata": {
        "id": "dkxThZv3a7Ar"
      }
    },
    {
      "cell_type": "code",
      "source": [
        "# dictionary: This is a collection of key-value pairs that are unordered and changeable.\n",
        "my_dict = {\"name\": \"John\", \"age\": 30, \"city\": \"New York\"}\n",
        "print(type(my_dict))  # Output: <class 'dict'>\n"
      ],
      "metadata": {
        "id": "L8eIY82ta7np",
        "colab": {
          "base_uri": "https://localhost:8080/"
        },
        "outputId": "22ec145f-66f5-486e-f2c5-baa8f92e1ec4"
      },
      "execution_count": null,
      "outputs": [
        {
          "output_type": "stream",
          "name": "stdout",
          "text": [
            "<class 'dict'>\n"
          ]
        }
      ]
    },
    {
      "cell_type": "markdown",
      "source": [
        "Set Data Type:"
      ],
      "metadata": {
        "id": "dEziDcfJa-54"
      }
    },
    {
      "cell_type": "code",
      "source": [
        "# set: This is a collection of unique items that are unordered and unindexed.\n",
        "my_set = {1, 2, \"three\", True}\n",
        "print(type(my_set))  # Output: <class 'set'>\n",
        "\n",
        "\n",
        "# frozenset The frozenset function is used to create an immutable set, and it returns a frozenset object.\n",
        "my_frozenset = frozenset({1, 2, 3})\n",
        "print(type(my_frozenset))  # Output: <class 'frozenset'>\n"
      ],
      "metadata": {
        "id": "2u73TfxDbAYl",
        "colab": {
          "base_uri": "https://localhost:8080/"
        },
        "outputId": "8c169b25-0e26-4ff7-a136-b5612210af7b"
      },
      "execution_count": null,
      "outputs": [
        {
          "output_type": "stream",
          "name": "stdout",
          "text": [
            "<class 'set'>\n",
            "<class 'frozenset'>\n"
          ]
        }
      ]
    },
    {
      "cell_type": "markdown",
      "source": [
        "Boolean Data Type:"
      ],
      "metadata": {
        "id": "uUzcbn7qbB6d"
      }
    },
    {
      "cell_type": "code",
      "source": [
        "# boolean: This is a data type that represents True or False values.\n",
        "my_bool = True\n",
        "print(type(my_bool))  # Output: <class 'bool'>\n"
      ],
      "metadata": {
        "id": "w9KJ_ZoKbDQG",
        "colab": {
          "base_uri": "https://localhost:8080/"
        },
        "outputId": "f33a391d-835b-4838-8c23-796ca7cbf276"
      },
      "execution_count": null,
      "outputs": [
        {
          "output_type": "stream",
          "name": "stdout",
          "text": [
            "<class 'bool'>\n"
          ]
        }
      ]
    }
  ]
}