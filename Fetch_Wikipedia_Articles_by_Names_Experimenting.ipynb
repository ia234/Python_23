{
  "nbformat": 4,
  "nbformat_minor": 0,
  "metadata": {
    "colab": {
      "provenance": [],
      "toc_visible": true,
      "mount_file_id": "1NTfM0qmpG0QYMs504wU3uG_WX688hRMQ",
      "authorship_tag": "ABX9TyN0kMm79x2e1sTNX7GKZprS",
      "include_colab_link": true
    },
    "kernelspec": {
      "name": "python3",
      "display_name": "Python 3"
    },
    "language_info": {
      "name": "python"
    }
  },
  "cells": [
    {
      "cell_type": "markdown",
      "metadata": {
        "id": "view-in-github",
        "colab_type": "text"
      },
      "source": [
        "<a href=\"https://colab.research.google.com/github/ia234/Python_23/blob/main/Fetch_Wikipedia_Articles_by_Names_Experimenting.ipynb\" target=\"_parent\"><img src=\"https://colab.research.google.com/assets/colab-badge.svg\" alt=\"Open In Colab\"/></a>"
      ]
    },
    {
      "cell_type": "markdown",
      "source": [
        "### Loading the data and APIs"
      ],
      "metadata": {
        "id": "YS8UVd5NfNgz"
      }
    },
    {
      "cell_type": "code",
      "source": [
        "# Avoids scroll-in-the-scroll in the entire Notebook\n",
        "from IPython.display import Javascript\n",
        "def resize_colab_cell():\n",
        "  display(Javascript('google.colab.output.setIframeHeight(0, true, {maxHeight: 5000})'))\n",
        "get_ipython().events.register('pre_run_cell', resize_colab_cell)"
      ],
      "metadata": {
        "id": "5u3BQq2u6F43"
      },
      "execution_count": 1,
      "outputs": []
    },
    {
      "cell_type": "code",
      "execution_count": 2,
      "metadata": {
        "colab": {
          "base_uri": "https://localhost:8080/",
          "height": 35
        },
        "id": "tTUpmLA0un3h",
        "outputId": "8db3168b-7e86-414a-c03a-709918de1974"
      },
      "outputs": [
        {
          "output_type": "display_data",
          "data": {
            "text/plain": [
              "<IPython.core.display.Javascript object>"
            ],
            "application/javascript": [
              "google.colab.output.setIframeHeight(0, true, {maxHeight: 5000})"
            ]
          },
          "metadata": {}
        },
        {
          "output_type": "stream",
          "name": "stdout",
          "text": [
            "/content/drive/MyDrive/ai_data\n"
          ]
        }
      ],
      "source": [
        "from google.colab import drive\n",
        "\n",
        "# drive.mount('/content/drive')\n",
        "%cd /content/drive/MyDrive/ai_data/"
      ]
    },
    {
      "cell_type": "code",
      "source": [
        "import pandas as pd\n",
        "# index_col = 0 specify the first column as the index.\n",
        "top_article_titles_df = pd.read_csv('/content/drive/MyDrive/ai_data/top_article_titles.csv', index_col = 0)\n",
        "# C:\\Users\\ihabs\\My Drive\\Colab Notebooks\\my_data\n",
        "# cars = pd.read_csv('https://assets.datacamp.com/production/repositories/287/datasets/79b3c22c47a2f45a800c62cae39035ff2ea4e609/cars.csv', index_col = 0)\n",
        "top_article_titles_df"
      ],
      "metadata": {
        "colab": {
          "base_uri": "https://localhost:8080/",
          "height": 455
        },
        "id": "MZQnhFrMvmwr",
        "outputId": "9e045300-693b-4e12-be10-0fd2aed91075"
      },
      "execution_count": 3,
      "outputs": [
        {
          "output_type": "display_data",
          "data": {
            "text/plain": [
              "<IPython.core.display.Javascript object>"
            ],
            "application/javascript": [
              "google.colab.output.setIframeHeight(0, true, {maxHeight: 5000})"
            ]
          },
          "metadata": {}
        },
        {
          "output_type": "execute_result",
          "data": {
            "text/plain": [
              "                                               date   views  rank     score\n",
              "article                                                                    \n",
              "ليونيل ميسي                              28/09/2022  236172   193  45581196\n",
              "كأس العالم 2022                          06/09/2022  380824   110  41890640\n",
              "كريستيانو رونالدو                        28/08/2022   67422   322  21709884\n",
              "نادي برشلونة                             28/08/2022   86073   213  18333549\n",
              "كأس العالم                               02/11/2022  299466    59  17668494\n",
              "...                                             ...     ...   ...       ...\n",
              "ابن بطوطة                                10/08/2023    3737     1      3737\n",
              "الجمهورية العربية الصحراوية الديمقراطية  28/08/2022    3730     1      3730\n",
              "سوسن علي                                 29/12/2022    3694     1      3694\n",
              "حبيب بن مظاهر الأسدي                     24/07/2023    3621     1      3621\n",
              "سلطان الفرحان                            11/07/2023    3332     1      3332\n",
              "\n",
              "[1450 rows x 4 columns]"
            ],
            "text/html": [
              "\n",
              "  <div id=\"df-8b161936-2025-432f-a35f-913d6cfc5dcb\" class=\"colab-df-container\">\n",
              "    <div>\n",
              "<style scoped>\n",
              "    .dataframe tbody tr th:only-of-type {\n",
              "        vertical-align: middle;\n",
              "    }\n",
              "\n",
              "    .dataframe tbody tr th {\n",
              "        vertical-align: top;\n",
              "    }\n",
              "\n",
              "    .dataframe thead th {\n",
              "        text-align: right;\n",
              "    }\n",
              "</style>\n",
              "<table border=\"1\" class=\"dataframe\">\n",
              "  <thead>\n",
              "    <tr style=\"text-align: right;\">\n",
              "      <th></th>\n",
              "      <th>date</th>\n",
              "      <th>views</th>\n",
              "      <th>rank</th>\n",
              "      <th>score</th>\n",
              "    </tr>\n",
              "    <tr>\n",
              "      <th>article</th>\n",
              "      <th></th>\n",
              "      <th></th>\n",
              "      <th></th>\n",
              "      <th></th>\n",
              "    </tr>\n",
              "  </thead>\n",
              "  <tbody>\n",
              "    <tr>\n",
              "      <th>ليونيل ميسي</th>\n",
              "      <td>28/09/2022</td>\n",
              "      <td>236172</td>\n",
              "      <td>193</td>\n",
              "      <td>45581196</td>\n",
              "    </tr>\n",
              "    <tr>\n",
              "      <th>كأس العالم 2022</th>\n",
              "      <td>06/09/2022</td>\n",
              "      <td>380824</td>\n",
              "      <td>110</td>\n",
              "      <td>41890640</td>\n",
              "    </tr>\n",
              "    <tr>\n",
              "      <th>كريستيانو رونالدو</th>\n",
              "      <td>28/08/2022</td>\n",
              "      <td>67422</td>\n",
              "      <td>322</td>\n",
              "      <td>21709884</td>\n",
              "    </tr>\n",
              "    <tr>\n",
              "      <th>نادي برشلونة</th>\n",
              "      <td>28/08/2022</td>\n",
              "      <td>86073</td>\n",
              "      <td>213</td>\n",
              "      <td>18333549</td>\n",
              "    </tr>\n",
              "    <tr>\n",
              "      <th>كأس العالم</th>\n",
              "      <td>02/11/2022</td>\n",
              "      <td>299466</td>\n",
              "      <td>59</td>\n",
              "      <td>17668494</td>\n",
              "    </tr>\n",
              "    <tr>\n",
              "      <th>...</th>\n",
              "      <td>...</td>\n",
              "      <td>...</td>\n",
              "      <td>...</td>\n",
              "      <td>...</td>\n",
              "    </tr>\n",
              "    <tr>\n",
              "      <th>ابن بطوطة</th>\n",
              "      <td>10/08/2023</td>\n",
              "      <td>3737</td>\n",
              "      <td>1</td>\n",
              "      <td>3737</td>\n",
              "    </tr>\n",
              "    <tr>\n",
              "      <th>الجمهورية العربية الصحراوية الديمقراطية</th>\n",
              "      <td>28/08/2022</td>\n",
              "      <td>3730</td>\n",
              "      <td>1</td>\n",
              "      <td>3730</td>\n",
              "    </tr>\n",
              "    <tr>\n",
              "      <th>سوسن علي</th>\n",
              "      <td>29/12/2022</td>\n",
              "      <td>3694</td>\n",
              "      <td>1</td>\n",
              "      <td>3694</td>\n",
              "    </tr>\n",
              "    <tr>\n",
              "      <th>حبيب بن مظاهر الأسدي</th>\n",
              "      <td>24/07/2023</td>\n",
              "      <td>3621</td>\n",
              "      <td>1</td>\n",
              "      <td>3621</td>\n",
              "    </tr>\n",
              "    <tr>\n",
              "      <th>سلطان الفرحان</th>\n",
              "      <td>11/07/2023</td>\n",
              "      <td>3332</td>\n",
              "      <td>1</td>\n",
              "      <td>3332</td>\n",
              "    </tr>\n",
              "  </tbody>\n",
              "</table>\n",
              "<p>1450 rows × 4 columns</p>\n",
              "</div>\n",
              "    <div class=\"colab-df-buttons\">\n",
              "\n",
              "  <div class=\"colab-df-container\">\n",
              "    <button class=\"colab-df-convert\" onclick=\"convertToInteractive('df-8b161936-2025-432f-a35f-913d6cfc5dcb')\"\n",
              "            title=\"Convert this dataframe to an interactive table.\"\n",
              "            style=\"display:none;\">\n",
              "\n",
              "  <svg xmlns=\"http://www.w3.org/2000/svg\" height=\"24px\" viewBox=\"0 -960 960 960\">\n",
              "    <path d=\"M120-120v-720h720v720H120Zm60-500h600v-160H180v160Zm220 220h160v-160H400v160Zm0 220h160v-160H400v160ZM180-400h160v-160H180v160Zm440 0h160v-160H620v160ZM180-180h160v-160H180v160Zm440 0h160v-160H620v160Z\"/>\n",
              "  </svg>\n",
              "    </button>\n",
              "\n",
              "  <style>\n",
              "    .colab-df-container {\n",
              "      display:flex;\n",
              "      gap: 12px;\n",
              "    }\n",
              "\n",
              "    .colab-df-convert {\n",
              "      background-color: #E8F0FE;\n",
              "      border: none;\n",
              "      border-radius: 50%;\n",
              "      cursor: pointer;\n",
              "      display: none;\n",
              "      fill: #1967D2;\n",
              "      height: 32px;\n",
              "      padding: 0 0 0 0;\n",
              "      width: 32px;\n",
              "    }\n",
              "\n",
              "    .colab-df-convert:hover {\n",
              "      background-color: #E2EBFA;\n",
              "      box-shadow: 0px 1px 2px rgba(60, 64, 67, 0.3), 0px 1px 3px 1px rgba(60, 64, 67, 0.15);\n",
              "      fill: #174EA6;\n",
              "    }\n",
              "\n",
              "    .colab-df-buttons div {\n",
              "      margin-bottom: 4px;\n",
              "    }\n",
              "\n",
              "    [theme=dark] .colab-df-convert {\n",
              "      background-color: #3B4455;\n",
              "      fill: #D2E3FC;\n",
              "    }\n",
              "\n",
              "    [theme=dark] .colab-df-convert:hover {\n",
              "      background-color: #434B5C;\n",
              "      box-shadow: 0px 1px 3px 1px rgba(0, 0, 0, 0.15);\n",
              "      filter: drop-shadow(0px 1px 2px rgba(0, 0, 0, 0.3));\n",
              "      fill: #FFFFFF;\n",
              "    }\n",
              "  </style>\n",
              "\n",
              "    <script>\n",
              "      const buttonEl =\n",
              "        document.querySelector('#df-8b161936-2025-432f-a35f-913d6cfc5dcb button.colab-df-convert');\n",
              "      buttonEl.style.display =\n",
              "        google.colab.kernel.accessAllowed ? 'block' : 'none';\n",
              "\n",
              "      async function convertToInteractive(key) {\n",
              "        const element = document.querySelector('#df-8b161936-2025-432f-a35f-913d6cfc5dcb');\n",
              "        const dataTable =\n",
              "          await google.colab.kernel.invokeFunction('convertToInteractive',\n",
              "                                                    [key], {});\n",
              "        if (!dataTable) return;\n",
              "\n",
              "        const docLinkHtml = 'Like what you see? Visit the ' +\n",
              "          '<a target=\"_blank\" href=https://colab.research.google.com/notebooks/data_table.ipynb>data table notebook</a>'\n",
              "          + ' to learn more about interactive tables.';\n",
              "        element.innerHTML = '';\n",
              "        dataTable['output_type'] = 'display_data';\n",
              "        await google.colab.output.renderOutput(dataTable, element);\n",
              "        const docLink = document.createElement('div');\n",
              "        docLink.innerHTML = docLinkHtml;\n",
              "        element.appendChild(docLink);\n",
              "      }\n",
              "    </script>\n",
              "  </div>\n",
              "\n",
              "\n",
              "<div id=\"df-5d0fc7fa-3339-4534-a53f-0e8e16397d39\">\n",
              "  <button class=\"colab-df-quickchart\" onclick=\"quickchart('df-5d0fc7fa-3339-4534-a53f-0e8e16397d39')\"\n",
              "            title=\"Suggest charts.\"\n",
              "            style=\"display:none;\">\n",
              "\n",
              "<svg xmlns=\"http://www.w3.org/2000/svg\" height=\"24px\"viewBox=\"0 0 24 24\"\n",
              "     width=\"24px\">\n",
              "    <g>\n",
              "        <path d=\"M19 3H5c-1.1 0-2 .9-2 2v14c0 1.1.9 2 2 2h14c1.1 0 2-.9 2-2V5c0-1.1-.9-2-2-2zM9 17H7v-7h2v7zm4 0h-2V7h2v10zm4 0h-2v-4h2v4z\"/>\n",
              "    </g>\n",
              "</svg>\n",
              "  </button>\n",
              "\n",
              "<style>\n",
              "  .colab-df-quickchart {\n",
              "      --bg-color: #E8F0FE;\n",
              "      --fill-color: #1967D2;\n",
              "      --hover-bg-color: #E2EBFA;\n",
              "      --hover-fill-color: #174EA6;\n",
              "      --disabled-fill-color: #AAA;\n",
              "      --disabled-bg-color: #DDD;\n",
              "  }\n",
              "\n",
              "  [theme=dark] .colab-df-quickchart {\n",
              "      --bg-color: #3B4455;\n",
              "      --fill-color: #D2E3FC;\n",
              "      --hover-bg-color: #434B5C;\n",
              "      --hover-fill-color: #FFFFFF;\n",
              "      --disabled-bg-color: #3B4455;\n",
              "      --disabled-fill-color: #666;\n",
              "  }\n",
              "\n",
              "  .colab-df-quickchart {\n",
              "    background-color: var(--bg-color);\n",
              "    border: none;\n",
              "    border-radius: 50%;\n",
              "    cursor: pointer;\n",
              "    display: none;\n",
              "    fill: var(--fill-color);\n",
              "    height: 32px;\n",
              "    padding: 0;\n",
              "    width: 32px;\n",
              "  }\n",
              "\n",
              "  .colab-df-quickchart:hover {\n",
              "    background-color: var(--hover-bg-color);\n",
              "    box-shadow: 0 1px 2px rgba(60, 64, 67, 0.3), 0 1px 3px 1px rgba(60, 64, 67, 0.15);\n",
              "    fill: var(--button-hover-fill-color);\n",
              "  }\n",
              "\n",
              "  .colab-df-quickchart-complete:disabled,\n",
              "  .colab-df-quickchart-complete:disabled:hover {\n",
              "    background-color: var(--disabled-bg-color);\n",
              "    fill: var(--disabled-fill-color);\n",
              "    box-shadow: none;\n",
              "  }\n",
              "\n",
              "  .colab-df-spinner {\n",
              "    border: 2px solid var(--fill-color);\n",
              "    border-color: transparent;\n",
              "    border-bottom-color: var(--fill-color);\n",
              "    animation:\n",
              "      spin 1s steps(1) infinite;\n",
              "  }\n",
              "\n",
              "  @keyframes spin {\n",
              "    0% {\n",
              "      border-color: transparent;\n",
              "      border-bottom-color: var(--fill-color);\n",
              "      border-left-color: var(--fill-color);\n",
              "    }\n",
              "    20% {\n",
              "      border-color: transparent;\n",
              "      border-left-color: var(--fill-color);\n",
              "      border-top-color: var(--fill-color);\n",
              "    }\n",
              "    30% {\n",
              "      border-color: transparent;\n",
              "      border-left-color: var(--fill-color);\n",
              "      border-top-color: var(--fill-color);\n",
              "      border-right-color: var(--fill-color);\n",
              "    }\n",
              "    40% {\n",
              "      border-color: transparent;\n",
              "      border-right-color: var(--fill-color);\n",
              "      border-top-color: var(--fill-color);\n",
              "    }\n",
              "    60% {\n",
              "      border-color: transparent;\n",
              "      border-right-color: var(--fill-color);\n",
              "    }\n",
              "    80% {\n",
              "      border-color: transparent;\n",
              "      border-right-color: var(--fill-color);\n",
              "      border-bottom-color: var(--fill-color);\n",
              "    }\n",
              "    90% {\n",
              "      border-color: transparent;\n",
              "      border-bottom-color: var(--fill-color);\n",
              "    }\n",
              "  }\n",
              "</style>\n",
              "\n",
              "  <script>\n",
              "    async function quickchart(key) {\n",
              "      const quickchartButtonEl =\n",
              "        document.querySelector('#' + key + ' button');\n",
              "      quickchartButtonEl.disabled = true;  // To prevent multiple clicks.\n",
              "      quickchartButtonEl.classList.add('colab-df-spinner');\n",
              "      try {\n",
              "        const charts = await google.colab.kernel.invokeFunction(\n",
              "            'suggestCharts', [key], {});\n",
              "      } catch (error) {\n",
              "        console.error('Error during call to suggestCharts:', error);\n",
              "      }\n",
              "      quickchartButtonEl.classList.remove('colab-df-spinner');\n",
              "      quickchartButtonEl.classList.add('colab-df-quickchart-complete');\n",
              "    }\n",
              "    (() => {\n",
              "      let quickchartButtonEl =\n",
              "        document.querySelector('#df-5d0fc7fa-3339-4534-a53f-0e8e16397d39 button');\n",
              "      quickchartButtonEl.style.display =\n",
              "        google.colab.kernel.accessAllowed ? 'block' : 'none';\n",
              "    })();\n",
              "  </script>\n",
              "</div>\n",
              "    </div>\n",
              "  </div>\n"
            ]
          },
          "metadata": {},
          "execution_count": 3
        }
      ]
    },
    {
      "cell_type": "markdown",
      "source": [
        "Wikipedia API for Python\n",
        "\n",
        "(https://towardsdatascience.com/wikipedia-api-for-python-241cfae09f1c)"
      ],
      "metadata": {
        "id": "Efh1cGlwhAg7"
      }
    },
    {
      "cell_type": "markdown",
      "source": [
        "Here you can find the full developer API for the wikipedia project.\n",
        "\n",
        "(https://wikipedia.readthedocs.io/en/latest/code.html#wikipedia.WikipediaPage.images)"
      ],
      "metadata": {
        "id": "9E8BqME8gXlJ"
      }
    },
    {
      "cell_type": "code",
      "source": [
        "!pip install wikipedia"
      ],
      "metadata": {
        "colab": {
          "base_uri": "https://localhost:8080/",
          "height": 160
        },
        "id": "7CGsOnRYx0SO",
        "outputId": "acafdca9-5dc7-4897-808e-cbf033db45c7"
      },
      "execution_count": 4,
      "outputs": [
        {
          "output_type": "display_data",
          "data": {
            "text/plain": [
              "<IPython.core.display.Javascript object>"
            ],
            "application/javascript": [
              "google.colab.output.setIframeHeight(0, true, {maxHeight: 5000})"
            ]
          },
          "metadata": {}
        },
        {
          "output_type": "stream",
          "name": "stdout",
          "text": [
            "Requirement already satisfied: wikipedia in /usr/local/lib/python3.10/dist-packages (1.4.0)\n",
            "Requirement already satisfied: beautifulsoup4 in /usr/local/lib/python3.10/dist-packages (from wikipedia) (4.11.2)\n",
            "Requirement already satisfied: requests<3.0.0,>=2.0.0 in /usr/local/lib/python3.10/dist-packages (from wikipedia) (2.31.0)\n",
            "Requirement already satisfied: charset-normalizer<4,>=2 in /usr/local/lib/python3.10/dist-packages (from requests<3.0.0,>=2.0.0->wikipedia) (3.2.0)\n",
            "Requirement already satisfied: idna<4,>=2.5 in /usr/local/lib/python3.10/dist-packages (from requests<3.0.0,>=2.0.0->wikipedia) (3.4)\n",
            "Requirement already satisfied: urllib3<3,>=1.21.1 in /usr/local/lib/python3.10/dist-packages (from requests<3.0.0,>=2.0.0->wikipedia) (2.0.4)\n",
            "Requirement already satisfied: certifi>=2017.4.17 in /usr/local/lib/python3.10/dist-packages (from requests<3.0.0,>=2.0.0->wikipedia) (2023.7.22)\n",
            "Requirement already satisfied: soupsieve>1.2 in /usr/local/lib/python3.10/dist-packages (from beautifulsoup4->wikipedia) (2.5)\n"
          ]
        }
      ]
    },
    {
      "cell_type": "code",
      "source": [
        "import wikipedia"
      ],
      "metadata": {
        "colab": {
          "base_uri": "https://localhost:8080/",
          "height": 17
        },
        "id": "42bDPhcJzT45",
        "outputId": "d901305b-45fa-4b63-8498-1af54ee9e3d7"
      },
      "execution_count": 5,
      "outputs": [
        {
          "output_type": "display_data",
          "data": {
            "text/plain": [
              "<IPython.core.display.Javascript object>"
            ],
            "application/javascript": [
              "google.colab.output.setIframeHeight(0, true, {maxHeight: 5000})"
            ]
          },
          "metadata": {}
        }
      ]
    },
    {
      "cell_type": "markdown",
      "source": [
        "### Set language to Arabic"
      ],
      "metadata": {
        "id": "_dx1KZEKfivp"
      }
    },
    {
      "cell_type": "code",
      "source": [
        "print(wikipedia.summary(\"COVID-19 pandemic\"))"
      ],
      "metadata": {
        "colab": {
          "base_uri": "https://localhost:8080/",
          "height": 90
        },
        "id": "nnSjllDLzLxb",
        "outputId": "57886cd3-83e6-422a-dcd5-7a9dbadf114e"
      },
      "execution_count": 6,
      "outputs": [
        {
          "output_type": "display_data",
          "data": {
            "text/plain": [
              "<IPython.core.display.Javascript object>"
            ],
            "application/javascript": [
              "google.colab.output.setIframeHeight(0, true, {maxHeight: 5000})"
            ]
          },
          "metadata": {}
        },
        {
          "output_type": "stream",
          "name": "stdout",
          "text": [
            "The COVID-19 pandemic, also known as the coronavirus pandemic, is a global pandemic of coronavirus disease 2019 (COVID-19) caused by severe acute respiratory syndrome coronavirus 2 (SARS-CoV-2). The novel virus was first identified in an outbreak in the Chinese city of Wuhan in December 2019. Attempts to contain it there failed, allowing the virus to spread to other areas of Asia and later worldwide in 2020. The World Health Organization (WHO) declared the outbreak a public health emergency of international concern (PHEIC) on 30 January 2020. The WHO ended its PHEIC declaration on 5 May 2023. As of 27 September 2023, the pandemic had caused 770,777,632 cases and 6,958,486 confirmed deaths, ranking it fifth in the deadliest epidemics and pandemics in history.\n",
            "COVID-19 symptoms range from asymptomatic to deadly, but most commonly include fever, nocturnal cough, and fatigue. Transmission of the virus is often through airborne particles. Mutations have produced many strains (variants) with varying degrees of infectivity and virulence.COVID-19 vaccines were widely deployed in various countries since December 2020. Treatments include novel antiviral drugs and symptom control. Common mitigation measures during the public health emergency included travel restrictions, lockdowns, business restrictions and closures, workplace hazard controls, mask mandates, quarantines, testing systems, and contact tracing of the infected.\n",
            "The pandemic caused severe social and economic disruption around the world, including the largest global recession since the Great Depression. Widespread supply shortages, including food shortages, were caused by supply chain disruptions and panic buying. Reduced human activity led to an unprecedented decrease in pollution. Educational institutions and public areas were partially or fully closed in many jurisdictions, and events were cancelled or postponed during 2020 and 2021. Many white-collar workers began working from home. Misinformation circulated through social media and mass media, and political tensions intensified. The pandemic raised issues of racial and geographic discrimination, health equity, and the balance between public health imperatives and individual rights.\n"
          ]
        }
      ]
    },
    {
      "cell_type": "code",
      "source": [
        "wikipedia.set_lang(\"ar\")"
      ],
      "metadata": {
        "colab": {
          "base_uri": "https://localhost:8080/",
          "height": 17
        },
        "id": "qSX6206P1VjU",
        "outputId": "ec8300a2-9c60-41a3-a416-431e58186870"
      },
      "execution_count": 7,
      "outputs": [
        {
          "output_type": "display_data",
          "data": {
            "text/plain": [
              "<IPython.core.display.Javascript object>"
            ],
            "application/javascript": [
              "google.colab.output.setIframeHeight(0, true, {maxHeight: 5000})"
            ]
          },
          "metadata": {}
        }
      ]
    },
    {
      "cell_type": "code",
      "source": [
        "print(wikipedia.summary(\"COVID-19 pandemic\"))"
      ],
      "metadata": {
        "colab": {
          "base_uri": "https://localhost:8080/",
          "height": 90
        },
        "id": "ANQwbuUY1GB9",
        "outputId": "99315155-96e4-4e54-d9a6-9a73c3e6584d"
      },
      "execution_count": 8,
      "outputs": [
        {
          "output_type": "display_data",
          "data": {
            "text/plain": [
              "<IPython.core.display.Javascript object>"
            ],
            "application/javascript": [
              "google.colab.output.setIframeHeight(0, true, {maxHeight: 5000})"
            ]
          },
          "metadata": {}
        },
        {
          "output_type": "stream",
          "name": "stdout",
          "text": [
            "جائحة فيروس كورونا في المغرب 2020 هي جزء من الجائحة العالمية لمرض فيروس كورونا 2019 (كوفيد-19) والذي يحدثُ بسبب فيروس كورونا 2 المرتبط بالمتلازمة التنفسية الحادة الشديدة (SARS-CoV-2). تم تسجيل أول حالة إصابة بالبلاد في في 2 مارس 2020 بالدار البيضاء. تتعلق الحالة بمواطن مغربي قاطن في بيرغامو، إيطاليا وعاد منها للمغرب في 27 فبراير. سجلت ثاني حالة بعد أيام قليلة لمواطنة مغربية تبلغ من العمر 89 سنة مقيمة بإيطاليا، وعادت من مدينة بولونيا إلى المغرب في 25 فبراير.\n",
            "بعد اتساع رقعة تفشي المرض في المغرب في منتصف مارس، أغلقت الحكومة المدارس وعلقت الرحلات الجوية.\n",
            "لحدود 31 ديسمبر 2020، سُجلت 439.193 حالة مؤكدة، منها 7388 وفاة و 407.504 حالة شفاء.\n"
          ]
        }
      ]
    },
    {
      "cell_type": "code",
      "source": [
        "print(wikipedia.summary(\"كريستيانو رونالدو\"))"
      ],
      "metadata": {
        "colab": {
          "base_uri": "https://localhost:8080/",
          "height": 90
        },
        "id": "POcuCrxezgyb",
        "outputId": "36eb3490-2650-4aa9-8157-a7289ffff006"
      },
      "execution_count": 9,
      "outputs": [
        {
          "output_type": "display_data",
          "data": {
            "text/plain": [
              "<IPython.core.display.Javascript object>"
            ],
            "application/javascript": [
              "google.colab.output.setIframeHeight(0, true, {maxHeight: 5000})"
            ]
          },
          "metadata": {}
        },
        {
          "output_type": "stream",
          "name": "stdout",
          "text": [
            "كريستيانو رونالدو دوس سانتوس أفيرو (تلفظ برتغالي: ‎/kɾiʃˈtjɐnu ʁoˈnaɫdu/‏؛ مواليد 5 فبراير 1985) المعروف بـ كريستيانو رونالدو. هو لاعب كرة قدم برتغالي لعب كمهاجم مع النصر في دوري المحترفين السعودي وهو ‌قائد المنتخب البرتغالي. غالبًا ما يُعتبر أحد أفضل اللاعبين في العالم، ويعتبره الكثيرون من أعظم اللاعبين في تاريخ كرة القدم، حصل رونالدو على خمسة كرات ذهبية كأكثر لاعب أوروبي، وهو أول لاعب يفوز بأربعة أحذية ذهبية أوروبية. فاز بـ 34 بطولة رسمية في مسيرته، من ضمنها سبعة ألقاب دوري، وخمسة ألقاب في دوري أبطال أوروبا ولقب واحد في بطولة أمم أوروبا ولقب البطولة الافتتاحية لدوري الأمم الأوروبية. يحمل رونالدو الأرقام القياسية لأكثر عدد من المباريات (183) والأهداف (140) والصناعة (42) في تاريخ دوري أبطال أوروبا، وأكثر من سجل أهداف في كرة القدم الدولية (123)، والأكثر مشاركة دولية (200). وهو أحد اللاعبين القلائل الذين شاركوا في أكثر من 1179 مباراة رسمية في مسيرتهم وسجل أكثر من 850 هدف رسمي مع الأندية والمنتخب. كما أنه اللاعب الوحيد الذي سجل في خمس نُسخ لكأس العالم، والوحيد الذي شارك وسجل في خمس نسخ من كأس أمم أوروبا أيضا، وهو أكثر من شارك في مباريات البطولة (25 مباراة) والهداف التاريخي لها (14 هدفا).ولد ونشأ في جزيرة ماديرا البرتغالية، وبدأ مسيرته في نادي سبورتينغ لشبونة قبل أن يوقع مع مانشستر يونايتد بسن الثامنة عشر عامًا في عام 2003. بعد فوزه ببطولته الأولى، كأس الاتحاد الإنجليزي، خلال موسمه الأول في إنجلترا، وساعد اليونايتد على الفوز بثلاثة ألقاب متتالية في الدوري الإنجليزي الممتاز، وبطولة واحدة في دوري أبطال أوروبا، وبطولة واحدة في كأس العالم للأندية. وفي سن 23، حصل على جائزة الكرة الذهبية و‌جائزة أفضل لاعب كرة قدم في العالم من الفيفا. في عام 2009، أصبح رونالدو أغلى لاعب في تاريخ كرة القدم عندما انتقل من مانشستر يونايتد إلى ريال مدريد في صفقة انتقال بلغت قيمتها 80 مليون جنيه إسترليني (94 مليون يورو/131.6 مليون دولار أمريكي). فاز رونالدو معهم بخمسة عشر لقبًا، من ضمنها لقبين دوري ولقبين كأس وأربعة ألقاب دوري أبطال أوروبا، وأصبح الهداف التاريخي للنادي. بعد انضمامه إلى مدريد، احتل رونالدو المركز الثاني في جائزة الكرة الذهبية ثلاث مرات، خلف ليونيل ميسي (منافسة التقليدي) قبل أن يفوز بالكرة الذهبية بشكل متتالي في 2013 و‌2014، وكررها مرة أخرى في 2016 و‌2017. بعد فوزه بلقب دوري أبطال أوروبا للمرة الثالثة على التوالي في عام 2018، أصبح رونالدو أول لاعب يفوز باللقب خمس مرات في النسخة الحديثة. في عام 2018، وقع مع يوفنتوس في صفقة انتقال بقيمة 100 مليون يورو (88 مليون جنيه إسترليني)، كأعلى مبلغ انتقال يُدفع للاعب تجاوز سن الثلاثين، وهو أعلى مبلغ يدفعه أي نادي إيطالي عبر التاريخ. فاز بلقبين في الدوري الإيطالي، ولقبين في كأس السوبر الإيطالي، ولقب في كأس إيطاليا في المواسم الثلاثة له مع النادي، قبل أن يعود إلى مانشستر يونايتد في عام 2021، ثم غادره في عام 2022 بعد إنهاء عقده مع النادي. في عام 2023 وقع رونالدو مع نادي النصر السعودي.\n",
            "أُختير رونالدو كأفضل لاعب برتغالي في التاريخ من قبل الاتحاد البرتغالي لكرة القدم في عام 2015. شارك لأول مرة في عام 2003 في سن الثامنة عشر، ومنذ ذلك الحين خاض 200 مباراة دولية، بما في ذلك مشاركته وتسجيله في عشر بطولات كبرى. أصبح اللاعب الأكثر مشاركة في البرتغال والهداف التاريخي لمنتخب بلاده. سجل هدفه الدولي الأول في بطولة أمم أوروبا 2004 وساعد البرتغال في الوصول إلى نهائي البطولة. تولى قيادة منتخبه في يوليو 2008، مما أدى إلى فوز البرتغال لأول مرة على الإطلاق في بطولة كبرى وذلك ببطولة أمم أوروبا 2016، وحصل على الحذاء الفضي كثاني أفضل هداف في البطولة. كما قادهم للفوز في النسخة الافتتاحية من دوري الأمم الأوروبية في عام 2019، وحصل لاحقًا على الحذاء الذهبي كأفضل هداف في بطولة أمم أوروبا 2020.\n",
            "يُعد رونالدو واحدًا من أكثر الرياضيين شهرة وقابلية للتسويق في العالم، وقد حصل على لقب أفضل رياضي في العالم من قبل فوربس في عامي 2016 و2017، بالإضافة إلى أشهر رياضي في العالم من قبل إي إس بي إن من عام 2016 إلى 2019. أدرجته مجلة تايم في قائمة أكثر 100 شخصية مؤثرة في العالم لعام 2014. يُعد رونالدو أول لاعب كرة قدم، وكذلك ثالث رياضي، يكسب مليار دولار في وهو لا يزال يمارس مهنته.\n"
          ]
        }
      ]
    },
    {
      "cell_type": "markdown",
      "source": [
        "### Page Access Methods\n",
        "\n",
        "The API also gives us full access to the Wikipedia page, with the help of which we can access the title, URL, content, images, links of the complete page. In order to access the page you need to load the page first as shown below:"
      ],
      "metadata": {
        "id": "aBqkofnLhh6i"
      }
    },
    {
      "cell_type": "code",
      "source": [
        "page = wikipedia.page(\"كريستيانو رونالدو\")\n",
        "page"
      ],
      "metadata": {
        "colab": {
          "base_uri": "https://localhost:8080/",
          "height": 35
        },
        "id": "hrB7-n8416QC",
        "outputId": "6436b2f9-81dd-4651-c39a-d5269cf393b5"
      },
      "execution_count": 10,
      "outputs": [
        {
          "output_type": "display_data",
          "data": {
            "text/plain": [
              "<IPython.core.display.Javascript object>"
            ],
            "application/javascript": [
              "google.colab.output.setIframeHeight(0, true, {maxHeight: 5000})"
            ]
          },
          "metadata": {}
        },
        {
          "output_type": "execute_result",
          "data": {
            "text/plain": [
              "<WikipediaPage 'كريستيانو رونالدو'>"
            ]
          },
          "metadata": {},
          "execution_count": 10
        }
      ]
    },
    {
      "cell_type": "code",
      "source": [
        "page.title"
      ],
      "metadata": {
        "colab": {
          "base_uri": "https://localhost:8080/",
          "height": 35
        },
        "id": "MUZYBqmd2Gko",
        "outputId": "799a93da-e79b-4251-bb81-1386d3b56d0a"
      },
      "execution_count": 11,
      "outputs": [
        {
          "output_type": "display_data",
          "data": {
            "text/plain": [
              "<IPython.core.display.Javascript object>"
            ],
            "application/javascript": [
              "google.colab.output.setIframeHeight(0, true, {maxHeight: 5000})"
            ]
          },
          "metadata": {}
        },
        {
          "output_type": "execute_result",
          "data": {
            "text/plain": [
              "'كريستيانو رونالدو'"
            ],
            "application/vnd.google.colaboratory.intrinsic+json": {
              "type": "string"
            }
          },
          "metadata": {},
          "execution_count": 11
        }
      ]
    },
    {
      "cell_type": "code",
      "source": [
        "page.url"
      ],
      "metadata": {
        "colab": {
          "base_uri": "https://localhost:8080/",
          "height": 35
        },
        "id": "t4gYsZbv2On7",
        "outputId": "9bddfd49-3cf7-420a-a0d1-d49ab0ea8f7a"
      },
      "execution_count": 12,
      "outputs": [
        {
          "output_type": "display_data",
          "data": {
            "text/plain": [
              "<IPython.core.display.Javascript object>"
            ],
            "application/javascript": [
              "google.colab.output.setIframeHeight(0, true, {maxHeight: 5000})"
            ]
          },
          "metadata": {}
        },
        {
          "output_type": "execute_result",
          "data": {
            "text/plain": [
              "'https://ar.wikipedia.org/wiki/%D9%83%D8%B1%D9%8A%D8%B3%D8%AA%D9%8A%D8%A7%D9%86%D9%88_%D8%B1%D9%88%D9%86%D8%A7%D9%84%D8%AF%D9%88'"
            ],
            "application/vnd.google.colaboratory.intrinsic+json": {
              "type": "string"
            }
          },
          "metadata": {},
          "execution_count": 12
        }
      ]
    },
    {
      "cell_type": "code",
      "source": [
        "page.content"
      ],
      "metadata": {
        "colab": {
          "base_uri": "https://localhost:8080/",
          "height": 107
        },
        "id": "-RfZumic2baP",
        "outputId": "9dbc2d2d-b156-4c35-cef1-7891ecd730b3"
      },
      "execution_count": 13,
      "outputs": [
        {
          "output_type": "display_data",
          "data": {
            "text/plain": [
              "<IPython.core.display.Javascript object>"
            ],
            "application/javascript": [
              "google.colab.output.setIframeHeight(0, true, {maxHeight: 5000})"
            ]
          },
          "metadata": {}
        },
        {
          "output_type": "execute_result",
          "data": {
            "text/plain": [
              "\"كريستيانو رونالدو دوس سانتوس أفيرو (تلفظ برتغالي: \\u200e/kɾiʃˈtjɐnu ʁoˈnaɫdu/\\u200f؛ مواليد 5 فبراير 1985) المعروف بـ كريستيانو رونالدو. هو لاعب كرة قدم برتغالي لعب كمهاجم مع النصر في دوري المحترفين السعودي وهو \\u200cقائد المنتخب البرتغالي. غالبًا ما يُعتبر أحد أفضل اللاعبين في العالم، ويعتبره الكثيرون من أعظم اللاعبين في تاريخ كرة القدم، حصل رونالدو على خمسة كرات ذهبية كأكثر لاعب أوروبي، وهو أول لاعب يفوز بأربعة أحذية ذهبية أوروبية. فاز بـ 34 بطولة رسمية في مسيرته، من ضمنها سبعة ألقاب دوري، وخمسة ألقاب في دوري أبطال أوروبا ولقب واحد في بطولة أمم أوروبا ولقب البطولة الافتتاحية لدوري الأمم الأوروبية. يحمل رونالدو الأرقام القياسية لأكثر عدد من المباريات (183) والأهداف (140) والصناعة (42) في تاريخ دوري أبطال أوروبا، وأكثر من سجل أهداف في كرة القدم الدولية (123)، والأكثر مشاركة دولية (200). وهو أحد اللاعبين القلائل الذين شاركوا في أكثر من 1179 مباراة رسمية في مسيرتهم وسجل أكثر من 850 هدف رسمي مع الأندية والمنتخب. كما أنه اللاعب الوحيد الذي سجل في خمس نُسخ لكأس العالم، والوحيد الذي شارك وسجل في خمس نسخ من كأس أمم أوروبا أيضا، وهو أكثر من شارك في مباريات البطولة (25 مباراة) والهداف التاريخي لها (14 هدفا).ولد ونشأ في جزيرة ماديرا البرتغالية، وبدأ مسيرته في نادي سبورتينغ لشبونة قبل أن يوقع مع مانشستر يونايتد بسن الثامنة عشر عامًا في عام 2003. بعد فوزه ببطولته الأولى، كأس الاتحاد الإنجليزي، خلال موسمه الأول في إنجلترا، وساعد اليونايتد على الفوز بثلاثة ألقاب متتالية في الدوري الإنجليزي الممتاز، وبطولة واحدة في دوري أبطال أوروبا، وبطولة واحدة في كأس العالم للأندية. وفي سن 23، حصل على جائزة الكرة الذهبية و\\u200cجائزة أفضل لاعب كرة قدم في العالم من الفيفا. في عام 2009، أصبح رونالدو أغلى لاعب في تاريخ كرة القدم عندما انتقل من مانشستر يونايتد إلى ريال مدريد في صفقة انتقال بلغت قيمتها 80 مليون جنيه إسترليني (94 مليون يورو/131.6 مليون دولار أمريكي). فاز رونالدو معهم بخمسة عشر لقبًا، من ضمنها لقبين دوري ولقبين كأس وأربعة ألقاب دوري أبطال أوروبا، وأصبح الهداف التاريخي للنادي. بعد انضمامه إلى مدريد، احتل رونالدو المركز الثاني في جائزة الكرة الذهبية ثلاث مرات، خلف ليونيل ميسي (منافسة التقليدي) قبل أن يفوز بالكرة الذهبية بشكل متتالي في 2013 و\\u200c2014، وكررها مرة أخرى في 2016 و\\u200c2017. بعد فوزه بلقب دوري أبطال أوروبا للمرة الثالثة على التوالي في عام 2018، أصبح رونالدو أول لاعب يفوز باللقب خمس مرات في النسخة الحديثة. في عام 2018، وقع مع يوفنتوس في صفقة انتقال بقيمة 100 مليون يورو (88 مليون جنيه إسترليني)، كأعلى مبلغ انتقال يُدفع للاعب تجاوز سن الثلاثين، وهو أعلى مبلغ يدفعه أي نادي إيطالي عبر التاريخ. فاز بلقبين في الدوري الإيطالي، ولقبين في كأس السوبر الإيطالي، ولقب في كأس إيطاليا في المواسم الثلاثة له مع النادي، قبل أن يعود إلى مانشستر يونايتد في عام 2021، ثم غادره في عام 2022 بعد إنهاء عقده مع النادي. في عام 2023 وقع رونالدو مع نادي النصر السعودي.\\nأُختير رونالدو كأفضل لاعب برتغالي في التاريخ من قبل الاتحاد البرتغالي لكرة القدم في عام 2015. شارك لأول مرة في عام 2003 في سن الثامنة عشر، ومنذ ذلك الحين خاض 200 مباراة دولية، بما في ذلك مشاركته وتسجيله في عشر بطولات كبرى. أصبح اللاعب الأكثر مشاركة في البرتغال والهداف التاريخي لمنتخب بلاده. سجل هدفه الدولي الأول في بطولة أمم أوروبا 2004 وساعد البرتغال في الوصول إلى نهائي البطولة. تولى قيادة منتخبه في يوليو 2008، مما أدى إلى فوز البرتغال لأول مرة على الإطلاق في بطولة كبرى وذلك ببطولة أمم أوروبا 2016، وحصل على الحذاء الفضي كثاني أفضل هداف في البطولة. كما قادهم للفوز في النسخة الافتتاحية من دوري الأمم الأوروبية في عام 2019، وحصل لاحقًا على الحذاء الذهبي كأفضل هداف في بطولة أمم أوروبا 2020.\\nيُعد رونالدو واحدًا من أكثر الرياضيين شهرة وقابلية للتسويق في العالم، وقد حصل على لقب أفضل رياضي في العالم من قبل فوربس في عامي 2016 و2017، بالإضافة إلى أشهر رياضي في العالم من قبل إي إس بي إن من عام 2016 إلى 2019. أدرجته مجلة تايم في قائمة أكثر 100 شخصية مؤثرة في العالم لعام 2014. يُعد رونالدو أول لاعب كرة قدم، وكذلك ثالث رياضي، يكسب مليار دولار في وهو لا يزال يمارس مهنته.\\n\\n\\n== حياته المبكرة ==\\nولد كريستيانو رونالدو دوس سانتوس أفيرو في ساو بيدرو، فونشال، في جزيرة ماديرا البرتغالية، ونشأ في سانتو أنطونيو، فونشال. وهو الابن الرابع والأصغر لماريا دولوريس دوس سانتوس فيفييروس دا أفيرو (مواليد 1954)، والتي كانت تعمل طاهية، وخوسيه دينيس أفيرو (1953–2005)، والذي كان يعمل بستاني المدينة ومدير معدات بدوام جزئي. كانت جدته الكبرى من جهة والده، إيزابيل دا بيدادي، من جزيرة ساو فيسنتي، الرأس الأخضر. لديه أخ أكبر، هوغو (مواليد 1975)، وشقيقتان أكبر منه، إلما (مواليد 1973) وليليانا كاتيا (مواليد 1977)، وهي مغنية. كشفت والدته أنها كانت تريد إجهاضه بسبب الفقر وإدمان والده على الكحول ولأنها أنجبت الكثير من الأطفال بالفعل، لكن طبيبها رفض إجراء العملية. نشأ رونالدو في منزل كاثوليكي فقير، يتقاسم الغرفة مع جميع إخوته. أُضيف اسم رونالدو إلى اسم كريستيانو تقديرًا لممثل والده المفضل، رونالد ريغان، الذي كان رئيسًا للولايات المتحدة وقت ولادة كريستيانو.لعب رونالدو عندما كان طفلًا مع نادي أندورينها للهواة منذ عام 1992 حتى عام 1995، حيث كان يعمل والده وهو رجل المعدات، وقضى بعد ذلك عامين مع ناسيونال ماديرا المحلي. في عام 1997، عندما كان يبلغ من العمر 12 عامًا، ذهب لإجراء التجارب لثلاثة أيام مع نادي سبورتينغ لشبونة، الذي وقع معه مقابل رسوم قدرها 1.500 جنيه إسترليني. انتقل بعد ذلك من ماديرا إلى ألكوشيتشي، بالقرب من لشبونة، للانضمام إلى لاعبي سبورتينغ الشباب الآخرين في أكاديمية كرة القدم بالنادي. في سن 14، اعتقد رونالدو أن لديه القدرة على اللعب بشكل شبه احترافي، ووافقت والدته على التوقف عن تعليمه من أجل التركيز كليًا على كرة القدم. وبينما كان يحظى بشعبية لدى الطلاب الآخرين في المدرسة، فقد طُرد بعد أن ألقى كرسيًا على معلمه، الذي قال إنه «قلل من احترامه». ومع ذلك، بعد عام واحد، شُخِّصت حالته بأن لديه تسارع في نبضات القلب، وهي حالة كان من الممكن أن تجبره على التخلي عن لعب كرة القدم. خضع رونالدو لعملية جراحية في القلب حيث استُخدِم الليزر لكوي مسارات قلبية متعددة في مسار واحد، مما يغير معدل ضربات قلبه أثناء الراحة. وخرج من المستشفى بعد ساعات من العملية واستأنف التدريب بعد بضعة أيام.\\n\\n\\n== مسيرته الكروية ==\\n\\n\\n=== سبورتينغ لشبونة ===\\nفي سن 16، تمت ترقية رونالدو من فريق شباب سبورتينغ من قبل مدير الفريق الأول لاسزلو بولوني، الذي أعجب بمراوغته. أصبح لاحقًا أول لاعب يلعب في كل الفئات السنية لنادي سبورتينغ (تحت 16، تحت 17، تحت 18، الفريق ب، الفريق الأول) كل ذلك ضمن موسم واحد. في 29 سبتمبر 2002، لعب أول مباراة له مع الفريق الأول بالدوري المحلي ضد براغا، وفي 7 أكتوبر، سجل أول هدفين له ضد موريرينسي في فوزهم 3–0. على مدار موسم 2002–03، اقترح ممثلوه اللاعب على مدرب ليفربول جيرار هولييه ورئيس برشلونة خوان لابورتا. التقى المدرب أرسين فينغر، الذي كان مهتمًا بالتعاقد مع رونالدو، به في ملعب أرسنال في نوفمبر لمناقشة إمكانية الانتقال.في سن 15 شُخِّصت حالة رونالدو بتسارع نبضات القلب، وهي حالة كادت أن تجبره على التخلي عن كرة القدم. ولكن بعد خضوعه لعملية جراحية ناجحة عاد إلى ممارسة كرة القدم بصفة عادية. في نوفمبر 2002، دعي رونالدو إلى ساحة تدريب نادي أرسنال الإنجليزي لندن كولني، لتلبية دعوة المدرب الفرنسي أرسين فينغر وجهازه الفني. فينغر، الذي كان يرغب في التعاقد مع لاعب خط الوسط كان قد رتب للقاء ممثلين عن رونالدو (اقترحه على مدرب ناديليفربول جيرار هولييه) وتمت مناقشة نقله في الأشهر اللاحقة غير أنه جاء اهتمام مدرب نادي مانشستر يونايتد السير أليكس فيرغسون في صيف 2003، عندما هزم نادي سبورتينغ نادي المان يونايتد 3–1 في مباراة افتتاح ملعبه خوسيه ألفالادي في لشبونة. بعد إعجاب لاعبي مانشستر يونايتد بأداء رونالدو، الذين حثوا المدرب فيرغسون على التعاقد معه لخلافة رحيل نجمهم الشهير الجناح الإنجليزي ديفيد بيكهام نحو ريال مدريد.\\n\\n\\n=== مانشستر يونايتد ===\\n\\n\\n==== 2003–07: نموّه وسطوع نجمه ====\\nأصبح رونالدو أول لاعب برتغالي يوقع في صفوف نادي مانشستر يونايتد بعقد قدر بـ15 مليون يورو (12.24 مليون £ بعد موسم 2002–03). طلب في البداية رقم 28 (الرقم الذي كان يرتديه مع نادي سبورتينغ لشبونة) حيث أنه كان لا يريد ضغوطات توقعات ومراهنات الجماهير المرتبطة بالرقم «7» الذي ارتداه أفضل اللاعبين وأشهرهم في النادي مثل جورج بست، براين روبسون، إريك كانتونا، وأخرهم ديفيد بيكهام، لكن نظرة المدير الفني أليكس فيرغسون الثاقبة جعلته يرفض إعطاؤه هذا الرقم المهمش، حيث رأى فيه صورة نجم المستقبل وأصر على إعطاؤه الرقم 7. حيث ذكر رونالدو في حديث له: «بعد انضمامي، طلب المدرب أي رقم أريد. قلت 28' لكن فيرغسون قال:'لا، أنت تسير لتكون حامل رقم (7). والقميص الشهير كان مصدرًا إضافيًا للحافز. اضطررت أن اترقى إلى مستوى هذا الشرف».دخل رونالدو أول مباراة له كبديل في الدقيقة 60 حيث ساهم في تحقيق فوز كبير 4–0 على نادي بولتون واندررز. وسجل رونالدو أول أهدافه لنادي مانشستر يونايتد من ركلة جزاء ساهمت في فوز ناديه على نادي بروتسموث 3–0 يوم 1 نوفمبر 2003. أنهى رونالدو أول موسم له مع مانشستر يونايتد بتسجيله هدف الفوز في نهائي كأس الاتحاد الإنجليزي في مرمى نادي ميلوال.سجل كريستيانو رونالدو لنادي مانشستر يونايتد الهدف 1000 في تاريخ النادي ببطولة الدوري الإنجليزي الممتاز يوم 29 نوفمبر 2005 في مباراة نادي ميدلزبره التي خسروها بـ4–1. وسجل 10 أهداف في مختلف المسابقات مما أدى إلى تصويت الجماهير والمشجعين عليه ليفوز بأول ألقابه الشخصية المتمثلة في أفضل لاعب شاب سنة 2005. حصل كريستيانو رونالدو لأول مرة على بطاقة حمراء في لقاء الديربي الذي جمع بين مانشستر يونايتد و\\u200cمانشستر سيتي في 14 يناير 2006 (خسر المان يونايتد 3–1) بعد ركله للاعب المان سيتي أندي كول.\\nفاز رونالدو بكأس رابطة الأندية الإنجليزية المحترفة وهي ثاني ألقابه في كرة القدم الإنجليزية في موسم 2005–06، بعد أن سجل الهدف الثالث لنادي مانشستر يونايتد والذي ساهم في النتيجة (3–0) في مرمى ويغان أتلتيك. موسم 2006–07 أثبت رونالدو أنه سنة تحول في أداء ومستوى رونالدو، حيث كسر حاجز 20 هدف وحصل فيه على لقب الدوري الأول له مع نادي مانشستر يونايتد. في نوفمبر وديسمبر 2006، حصل رونالدو على التوالي على جائزة لاعب الشهر في الدوري الإنجليزي الممتاز، ليصبح بذلك ثالث لاعب في تاريخ الدوري الممتاز يحصل على الجائزة مرتين متتاليتين بعد دينيس بيركامب سنة 1997 و\\u200cروبي فاولر سنة 1996.\\n\\n\\n==== 2007–08: النجاح الفردي والجماعي ====\\n الدور ربع النهائي من دوري أبطال أوروبا 2006–07، سجل رونالدو أول أهدافه على الإطلاق في المسابقة، حيث سجل هدفين في مباراة الفوز 7–1 على روما. سجل بعد ذلك في مباراة الذهاب من الدور نصف النهائي ضد ميلان، والتي انتهت بالفوز 3–2، لكنه تم اقصاء الشياطين الحمر في مباراة الإياب حيث خسر اليونايتد 3–0 على سان سيرو. كما ساعد يونايتد في الوصول إلى نهائي كأس الاتحاد الإنجليزي، لكن خسر المباراة النهائية ضد تشيلسي 1–0. سجل هدفه رقم 50 مع مانشستر يونايتد ضد جاره مانشستر سيتي في 5 مايو 2007 والذي جعل اليونايتد يفوز بلقب الدوري الممتاز الأول منذ أربع سنوات.، مما جعله يحصل مرة أخرى على جائزة أفضل لاعب شاب في نهاية السنة. على الرغم من الشائعات التي انتشرت في شهر مارس 2007 أن نادي ريال مدريد الإسباني كان على استعداد لدفع مبلغ لم يسبق له مثيل يقدر بـ80 مليون يورو (54 مليون £) لرونالدو. لكن رونالدو قطع الشك باليقين عندما وقع على عقد يمتد لخمس سنوات، بمبلغ بقدر بـ120 ألف £ أسبوعيًا، تمديدًا مع مانشستر يونايتد، مما جعله اللاعب الأغلى في تاريخ النادي. رونالدو موسم 2007–08 ببطاقة حمراء بعد أن وجه لكمة للاعب نادي بورتسموث ريتشارد هيوز أثناء المباراة الثانية لنادي مانشستر يونايتد خلال الموسم والتي حرمته من لعب ثلاث مباريات. وبعد تلك الحادثة ذكر رونالدو أنه تعلم الكثير من تلك التجربة وأنه لن يترك اللاعبين يستفزونه في المستقبل. بعد أن سجل رونالدو هدف المباراة الوحيد ضد نادي سبورتينغ، سجل رونالدو أيضًا هدف الفوز في الوقت بدل الضائع في مباراة العودة مما جعله يتصدر مجموعته في دوري أبطال أوروبا.أنهى رونالدو بالمركز الثاني في جائزة الكرة الذهبية سنة 2007 والتي توج بها كاكا، والمركز الثالث في جائزة أفضل لاعب في العالم، وراء اللاعب ريكاردو كاكا المتوج و\\u200cليونيل ميسي.سجل رونالدو أول هاتريك له مع نادي مانشستر يونايتد مساهمًا في الفوز 6–0 ضد نادي نيوكاسل يونايتد على مسرح الأحلام أولد ترافورد في 12 يناير 2008، أوصل ناديه إلى المراتب الأولى في الدوري الإنجليزي. أما في دوري أبطال أوروبا في دور الستة عشر فقد تعادل 1–1 ضد نادي ليون الفرنسي، حدث أثناء المباراة تعريض كلا من كريستيانو رونالدو و\\u200cناني لأشعة الليزر مما أدى إلى فتح تحقيق من طرف الاتحاد الأوروبي. بعد شهر واحد، فرضت غرامات على نادي ليون قدرت بـ5.000 فرنك سويسري (2.427 £).يوم 19 مارس 2008، قاد كريستيانو رونالدو ناديه مانشستر يونايتد للمرة الأولى في مسيرته في تحقيق الفوز على ضيفه بولتون حيث سجل هدفي الفوز هذان الهدفان أضيفا إلى أهدافه 33، مما جعله يحطم الرقم القياسي الذي كان يحمله جورج بست منذ 40 عامًا بمجموع يقدر بـ32 هداف في موسم 1967–1968. وسجل كريستيانو هدفين يوم 29 مارس على نادي أستون فيلا وانتهت برباعية نظيفة، ليرفع رصيده إلى 35 هدف في مجمع مشاركاته المحلية والأوروبية كأساسي أو بديل. كوفئ كريستيانو رونالدو بجائزة الحذاء الذهبي الأوروبي ليصبح أول لاعب جناح يفوز بالجائزة في التاريخ متقدمًا على لاعب نادي مايوركا الإسباني داني غويزا.\\n\\nيوم 26 مايو 2008 شارك رونالدو لأول مرة في نهائي دوري أبطال أوروبا ضد تشيلسي الإنجليزي، وسجل هدفا في مرمى بيتر تشيك في الدقيقة 26، ولكن عُدِّلت النتيجة في الدقيقة 45 لتنتهي المباراة بالتعادل الإيجابي. وصلت المباراة إلى ضربات الترجيح وضيع رونالدو الضربة الترجيحية الثالثة ولكن فاز مانشستر يونايتد باللقب بعد تضييع قائد تشيلسي جون تيري للضربة الترجيحية الخامسة. أختير رونالدو رجل المباراة من طرف المشجعين. واختتم رونالدو الموسم بـ42 هدف في جميع المسابقات، وذلك أقل من اللاعب السابق للنادي دينيس لو الذي اختتم الموسم برقم قياسي بلغ 46 هدف موسم 1963–64 والذي ما زال به أكثر لاعب في نادي مانشستر يونايتد سجل في موسم واحد.\\nيوم 5 يونيو 2008، ذكرت شبكة سكاي سبورت التلفزيونية أن رونالدو يلقى اهتماما كبيرا من ريال مدريد والذي عرضوا عليه نفس المبلغ الذي عرضوه عليه العام الماضي. ولكن مانشستر يونايتد أرسل برقية للاتحادية الدولية يوم 9 يونيو للشكوى بالنادي الملكي لإغراء رونالدو بالعرض، لكن الفيفا لم تقم بأي إجراء ردعي. بعد الإشاعات والأخبار أكد رونالدو أنه باق مع نادي مانشستر يونايتد لمدة عام آخر على الأقل.\\n\\n\\n==== 2008–09: الموسم الأخير مع اليونايتد والنجاح الفردي والجماعي ====\\nخضع رونالدو لعملية جراحية في الكاحل بمركز الأكاديمية الطبية بعاصمة هولندا أمستردام يوم 7 تموز/يوليو. وعاد بعد عملية التأهيل في مباراة النادي الأحمر ضد نادي فياريال الإسباني في مرحلة المجموعات بـدوري أبطال أوروبا والتي دخل فيها بديلا عن اللاعب الكوري الجنوبي بارك جي سونغ. سجل أول أهدافه في كأس رابطة الأندية الإنجليزية المحترفة في الدور الثالث بفوزه على نادي ميدلسبره في 24 سبتمبر.\\nفي مباراة الفوز بـ5–0 على نادي ستوك سيتي يوم 15 نوفمبر 2008، سجل رونالدو هدفه 100 وأتبعه بهدف 101 في جميع المسابقات مع مانشستر يونايتد، وفي شهر ديسمبر حصل رونالدو على أول كرة ذهبية وهي الأولى مانشستر يونايتد منذ جورج بست سنة 1968. محصلا 446 نقطة متقدما بـ165 نقطة على منافسه ليونيل ميسي. حصل رونالدو بعد مشاركته في كأس العالم للأندية في اليابان على الكرة الفضية خلف اللاعب الإنجليزي واين روني كأحسن لاعب في البطولة.يوم 9 يناير 2009، تعرض كريستيانو رونالدو لحادث مروري بسيارته الفخمة فيراري 599 جي تي بي فيورانو داخل نفق بالقرب من مطار مانشستر ولكنه لم يصب في الحادث وحضر للتدريب في صباح اليوم التالي. أربعة أيام بعدها، أصبح أول لاعب في الدوري الإنجليزي الممتاز يحصل على جائزة أفضل لاعب في العالم المقدمة من طرف الفيفا، بالإضافة إلى كونه أول لاعب برتغالي يفوز بالجائزة بعد لويس فيجو في عام 2001.سجل رونالدو أول أهدافه في دوري أبطال أوروبا هذا الموسم، منذ تسجيله هدفه في نهائي دوري الأبطال العام الماضي أمام تشيلسي، في مرمى نادي إنتر ميلان والتي انتهت بثنائية نظيفة أرسلت النادي إلى الربع النهائي لملاقاة نادي بورتو البرتغالي. في مباراة الإياب سجل رونالدو هدفا من على بعد 36 متر (40 ياردة) تفوق سرعتها 103 كم في الساعة. جعلت نادي مانشستر يونايتد يتقدم للنصف النهائي. شارك كريستيانو رونالدو في النهائي للمرة الثانية على التوالي، ولكنه فشل في قيادة مانشستر يونايتد للقبه الثاني بعد خسارته أمام نادي برشلونة الإسباني بهدفي صامويل إيتو و\\u200cليونيل ميسي.\\n11 يونيو 2009، قبل نادي مانشستر يونايتد بالعرض المقدم من نادي ريال مدريد بمبلغ قدر بـ80 مليون£ لرونالدو بعد أن اتضحت رغبته في ترك النادي وتم تأكيد بيع عقد اللاعب من ممثل عن عائلة غليزر مالكة النادي بعد موافقة فيرغسون على الصفقة. أعرب رونالدو بعد إتمامه لإجراءات انتقاله لنادي ريال مدريد الإسباني، عن امتنانه تجاه أليكس فيرغسون لمساعدته على تطويره كلاعب، قائلا: «لقد كان والدي في مجال الرياضة، واحد من أهم العوامل وأكثرها تأثيرا في مسيرتي».\\n\\n\\n=== ريال مدريد ===\\n\\n\\n==== 2009–10: البدايات في الدوري الإسباني ====\\nفي 26 يونيو 2009، أكد نادي ريال مدريد أن كريستيانو رونالدو سينضم إلى النادي في 1 يوليو عام 2009 من مانشستر يونايتد مقابل 80 مليون £ (93.9 مليون يورو/131.6 مليون دولار أمريكي) بعد الموافقة على الشروط وتوقيع عقد مدته ست سنوات. والذي بموجبه يحصل رونالدو على 18 مليون يورو سنويا وتبلغ قيمة فسخ عقد اللاعب 1 مليار €. تم تقديمه لوسائل الإعلام العالمية باعتباره لاعبا في ريال مدريد يوم 6 يوليو 2009، حيث تم تسليم له رقم «9» والذي سبق أن لبسه الظاهرة البرازيلية رونالدو وتم تقديمه للجماهير التي بلغت حوالي 80.000 مشجع جاؤوا للترحيب بكريستيانو في عرض تاريخي في ملعب سانتياغو برنابيو بحضور أسطورة ريال مدريد ألفريدو دي ستيفانو وأسطورة البرتغال أوزيبيو، متجاوزا رقم سجله أسطورة الكرة دييغو أرماندو مارادونا بـ75.000 مشجع عندما تم تقديمه في ملعب سان دوني بمدينة نابولي بعد انتقاله إلى نادي المدينة قادما من نادي برشلونة عام 1984.\\nلعب رونالدو أول مباراة له مع نادي ريال مدريد يوم 21 يوليو 2009، أمام شامروك روفرز الأيرلندي والتي فاز بها بنتيجة 1–0 في إطار استعدادت النادي للموسم الجديد. وسجل رونالدو أول هدف له بعد أسبوع واحد من ركلة جزاء في مباراة انتهت بالفوز 4–2 في مدريد أمام نادي كويتو ليجا ديبورتيفا. يوم 29 أوت سجل رونالدو أول هدف في مباراة رسمية أمام نادي ديبورتيفو لاكورونيا عن طريق ضربة جزاء. وبدأ رونالدو مشواره الأوروبي بهدفين من ركلتين حرتين ساهمت في انتصار الريال بـ5–2 على نادي زيوريخ السويسري. وحطم مع ريال مدريد في مباراته ضد فياريال في الدوري رقماً قياسياً ليصبح أول لاعب في تاريخ ريال مدريد يسجل 4 أهداف في أربع مبارياته الأولى.تعرض رونالدو لإصابة في الكاحل في مباراة منتخب البرتغال ضد منتخب المجر يوم 10 أكتوبر 2009، أبعدته حتى 25 نوفمبر، والتي تسببت في غياب رونالدو عن مباراة نادي ميلان في دور المجموعات لدوري أبطال أوروبا. عاد رونالدو لأول مرة للتحضير للكلاسيكو الأول له والذي خسره 1–0 أما نادي برشلونة يوم 29 نوفمبر. في يوم 1 ديسمبر أنهى كريستيانو في المركز الثاني في سباق الكرة الذهبية وراء منافسه ليونيل ميسي لاعب نادي برشلونة. يوم 6 ديسمبر، تم طرد رونالدو لأول مرة في مسيرته مع ريال مدريد في مباراة ألميريا بعد نزع قميصه أثناء الاحتفال بهدف سجله، ثم لركله لاعباً منافسًا بعد ثلاث دقائق وهي المباراة التي شهدت تضييعه لركلة جزاء. يوم 5 مايو 2010، سجل رونالدو أول هاتريك ضد نادي ريال مايوركا. سجل كل من رونالدو و\\u200cغونزالو هيغواين 53 هدف في الدوري خلال الموسم الحالي وأصبحا أفضل ثنائي في التهديف في تاريخ ريال مدريد بالدوري الإسباني. وأنهى رونالدو الموسم بتسجيل 26 هدف في 29 مباراة خلف لاعب نادي برشلونة ليونيل ميسي الذي سجل 36 هدف. وكان موسم كريستيانو رونالدو الأول مع الريال جيداً من الناحية الشخصية رغم خيبة الأمل بعدم الحصول على أي لقب مع النادي خلال الموسم في ضوء الأموال التي أنفقت خلال فترة الانتقالات الصيفية.\\n\\n\\n==== 2010–11: موسم الأرقام القياسية ====\\nمع رحيل راؤول أسطورة النادي إلى نادي شالكه الألماني خلال صيف عام 2010، سُلِّم رونالدو رقم 7، وهو نفس الرقم الذي كان يرتديه في ناديه السابق مانشستر يونايتد الإنجليزي، رغم أن النادي كان يرغب في إزالته تكريما للاعب راؤول. يوم 23 أكتوبر 2010 سجل رونالدو سوبر هاتريك ضد فريق راسينغ سانتاندير وهي المرة الأولى التي يسجل فيها رباعية، وسجل على نادي أي سي ميلان الإيطالي في المباراة الثالثة بدور المجموعات بدوري أبطال أوروبا. سجل رونالدو و\\u200cكريم بنزيما ثلاثية في مرمى ليفانتي 8–0 وأكمل أوزيل وبيدرو ليون البقية. وتزعم ريال مدريد الجزء الأول من الموسم متصدرًا حتى موعد مباراة الكلاسيكو والتي خسرها بنتيجة ثقيلة 5–0 في ملعب الكامب نو والتي شهدت سيطرة كاملة من طرف واحد هو نادي برشلونة.\\n\\nبدأ رونالدو سنة 2011 مع توقعات واعدة جدًا لتحطيم بعض الأرقام القياسية وإتباع أساطير النادي أصحاب الأرقام القياسية في التهديف أمثال الأوروغواياني ألفريدو دي ستيفانو و\\u200cهوغو سانشيز ومانويل ألداي وبدأ رونالدو ثورة التهديف بتسجيله هدفين حيويين في فوزه الصعب على نادي خيتافي 3–2 وبعد ذلك عزز أداءه الهائل بتسجيله ثلاثية ومساعدة كاكا من تسجيل أول هدف له في الدوري بعد عودته من الإصابة، في فوز 4–2 على نادي فياريال يوم 9 يناير. وكان لرونالدو فرصة تجاوز الرقم لقياسي المسجل باسم تيلمو زارا و\\u200cهوغو سانشيز بـ38 هدف في موسم واحد، بعد أن أصبح هداف الدوري بـ22 هدف متقدمًا على الأرجنتيني ليونيل ميسي، ولكن بعد فترة وجيزة، شهد رونالدو فترة جفاف في التهديف هي الأكبر في مسيرته الكروية، حيث سجل هدفين خلال أكثر من شهر، وخلال هذه الفترة تلقت العارضة سبيل لاعبي نادي ريال مدريد (أكثر من 12 مناسبة)، وكانت معظم التسديدات من رونالدو خلال الفترات الحاسمة من المباريات. ثم عاد رونالدو للظهور بتسجيله ثلاثية في مباراة تم سحق فيها نادي ملقا بسباعية نظيفة يوم 3 مارس 2011، ولكنه تعرض لإصابة في العضلات بنهاية المباراة مما اضطره لقضاء 10 أيام فترة نقاهة.\\nفي أبريل، بعد عودته من الإصابة، حافظ رونالدو على حسّه التهديفي خلال ثلاث مباريات (بما في ذلك هدفين في الدور ربع النهائي لدوري أبطال أوروبا ضد توتنهام هوتسبر)، شارك رونالدو لأول مرة في أربع مباريات تاريخية ضد نادي برشلونة في إطار الكلاسيكو قلما تتكرر وسجل هدفين عدّل به رقمه الشخصي بـ42 هدف في جميع المسابقات في موسم واحد مع نادي مانشستر يونايتد سنة 2008.\\n\\nخلال مباراة الإياب من الكلاسيكو سجل رونالدو هدفا من ضربة جزاء ليرفع رصيده إلى 41 هدفا، ردا على ليونيل ميسي الذي سجل هدفا أيضا من ضربة جزاء لتنتهي المباراة بالتعادل 1–1. وفي المباراة الثانية سجل رونالدو هدف الفوز ضد برشلونة في الدقيقة 103 من المباراة النهائية بكأس ملك إسبانيا. وأُختير كأجمل هدف في الموسم من طرف الأنصار بما في ذلك جريدة ماركا الإسبانية. ومن طرف موقع ريال مدريد الرسمي. وشهد يوم 7 مايو سفر ريال مدريد إلى مدينة إشبيلية إلى ملعب رامون سانشيز بيزخوان حيث أبدع رونالدو وسحق نادي المدينة برباعية لتنتهي النتيجة 6–2 والتي رفعت رصيده إلى 46 هدفا ليتجاوز رقمه القياسي السابق مع نادي مانشستر يونايتد بـ42 هدف. بعد ثلاث أيام وصل إلى 49 هدفا هذا الموسم، بتسجيله ثلاثية (هاتريك) آخر على ارضه 4–0 أمام خيتافي. ثم سجل هدفين من ركلتين حرتين أمام نادي فياريال ليعادل رقم تيلمو زارا و\\u200cهوغو سانشيز القياسي بـ38 هدفا في موسم واحد.\\nيوم 21 مايو، سجل رونالدو هدفين أخرى ن في مرمى نادي ألميريا ليرفع رصيده إلى 40 هدفا، ليصبح اللاعب الوحيد في تاريخ البطولة حتى اللآن\\nالذي أحرز 40 هدفًا في موسم واحد. ومن خلال ذلك، حصل على جائزة الحذاء الذهبي الأوروبي مرة أخرى، ليصبح أول لاعب يفوز باللقب في بطولتين مختلفتين. وشملت صحيفة ماركا الإسبانية التي تمنح جائزة بيتشيشي الهدف الذي سجله رونالدو في 18 سبتمبر 2010 ضد ريال سوسيداد في عداد أهدافه ليرفعه إلى رصيد 41 هدفا، والذي نسبه الاتحاد الإسباني للاعب البرتغالي بيبي. وأصبح رونالدو أول لاعب يسجل ثلاثية ست مرات في الدوري الإسباني. وأنهى رونالدو الموسم برصيد 53 هدف في جميع المسابقات رفقة لاعب نادي برشلونة ليونيل ميسي. ليسجل اسمه من بين أفضل 10 هدافين في تاريخ كرة القدم في موسم واحد. ولكن مرة أخرى، احتل ريال مدريد المركز الثاني خلف برشلونة في الدوري الإسباني ويخرج من الدور النصف النهائي من بطولة دوري أبطال أوروبا وأيضاً هو يتنافس مع ليونل ميسى فعدد الألقاب.\\n\\n\\n==== 2011–12: تطور كريستيانو رونالدو ====\\n\\nبدأ رونالدو موسم 2011–12 بالانتصار الكبير على فريق الدوري الأمريكي لوس أنجلوس جلاكسي بقيادة النجم العالمي ديفيد بيكام بنتيجة 4–1، عن طريق كاليخون، بنزيما، رونالدو، خوسيلو. بعدها بأربعة أيام سجل رونالدو ثلاثية في مرمى نادي غوادالاخارا. وقد أشادت وسائل الإعلام العالمية بمردود رونالدو في المباريات الودية. يوم 17 أغسطس 2011، سجل رونالدو هدفه المئة مع ريال مدريد بعد إحرازه هدف التعادل في الشوط الأول ضد برشلونة في مباراة الإياب لكأس السوبر الإسبانية 2011 في كامب نو. وسجل رونالدو في افتتاحية الدوري أما نادي ريال سرقسطة بثلاثية لتنتهي المباراة بسداسية نظيفة. في 24 سبتمبر، سجل رونالدو ثلاثة أهداف (بما في ذلك ركلتي جزاء) في مرمى نادي رايو فاليكانو ليفوز 6–2 في سانتياغو برنابيو وكانت هذه الثلاثية التاسعة له في الدوري الإسباني والعاشرة مع نادي ريال مدريد.\\n\\nيوم 27 سبتمبر 2011، سجل رونالدو في مرمى نادي أياكس أمستردام أحد أفضل أهدافه في مسيرته الكروية. فبعد بداية مهزوزة لريال مدريد في المباراة ضمن اطار الجولة الثانية من دوري المجموعات لدوري ابطال أوروبا، تمكن كريستانو رونالدو من احراز هدف التقدم للفريق بالدقيقة 25، هذا الهدف جاء بعد 11 لمسة وبين 5 لاعبين ولمدة 16 ثانية فقط، الهدف بدء من سيرخيو راموس الذي مرر الكرة بدوره إلى مسعود أوزيل الذي بدوره مررها إلى كريستيانو رونالدو ومن لمسة واحدة مع كاكا عادت الكرة إلى رونالدو الي اعادها إلى مسعود أوزيل والذي مررها بدوره إلى كريم بنزيما الذي أرسلها عرضية داخل منطقة جزاء نادي أياكس أمستردام إلى رونالدو الذي سجل الهدف الأول للفريق ولتنتهي المباراة بثلاثية نظيفة. يوم 22 أكتوبر، بعد عدم تسجيله في مبارياته الثلاث السابقة، سجل رونالدو ثلاثيته العاشرة في الدوري الإسباني في مرمى نادي ملقا لتنتهي برباعية نظيفة. وفي نوفمبر 2011 عاد ليسجل ثلاثية أخرى في مرمى نادي أوساسونا ولتنتهي المبارة بـ7–1 ليبقى نادي مدريد في الصدارة. يوم 19 نوفمبر 2011 سجل رونالدو هدف الريال الثاني في مرمى نادي فالنسيا الذي وقف الند للند أمام الريال وخسر أمامه بصعوبة بـ3–2. يوم 26 نوفمبر 2011 سجل رونالدو ركلتي جزاء أمام نادي أتليتكو مدريد. وتم ترشيح رونالدو للقائمة النائية لجائزة الفيفا الذهبية 2011 مع كل من ليونيل ميسي و\\u200cتشافي هيرنانديز لاعبا نادي برشلونة. يوم 10 ديسمبر، لعب رونالدو أحد أسوا مبارياته عموما أمام الغريم التقليدي برشلونة حيث كان أسوأ لاعب في تلك المباراة التي انتهت بخسارة المرينغي بـ3–1، حيث أضاع فيها هداف الفريق أكثر من فرصة واضحة لهز الشباك وعاد ليكون بعيدًا عن مستواه المعتاد. مما جعله يتعرض لأول مرة إلى صافرات استهجان من بعض جماهير فريقه. وبعد ثلاث أيام من تلك المباراة المشؤمة عاد رونالدو للتسجيل أمام نادي بونفررادينا في كأس ملك إسبانيا، حيث صرّح رونالدو بعد المباراة لوسائل الإعلام: «هذا الانتصار من أجل إغلاق أفواه المنتقدين والذين لا يفهمون كرة القدم، نحن الآن في الصدارة» في 17 ديسمبر، سجل رونالدو هاتريك هو الثالثة عشر له في الدوري الإسباني في مرمى أصحاب الأرض أشبيلية التي انتهت بـ6–2.\\nحلّ رونالدو في المركز الثالث في سباق جائزة أفضل لاعب في أوروبا، خلف ميسي و\\u200cتشافي هيرنانديز، والثاني في جائزة الفيفا الذهبية 2011 خلف ليونيل ميسي مباراة ريال مدريد المقبلة في الدوري الإسباني كانت على ملعبه وسجل رونالدو الهدف الخامس مساهما في فوز 5–1 أمام غرناطة. يوم 22 يناير 2012 سجل رونالدو ركلتي جزاء مساهمًا في الفوز 4–1 على أتلتيك بيلباو، سجل رونالدو هدفين في مرمى نادي برشلونة في الدور ربع النهائي لكأس ملك إسبانيا الذي خرجوا بفارق 4–3، حيث أسالوا لاعبي ريال مدريد العرق البارد للغريم الأزلي خصوصا في مباراة العودة في ملعب الكامب نو حيث فعل رونالدو الأفاعيل لكل من دانييل ألفيس و\\u200cجيرارد بيكي على الجهة اليسرى وشهدت تلك المباراة غياب كلي للأرجنتيني ليونيل ميسي. وبعد الخروج المشرف من مسابقة كأس ملك إسبانيا عاد رونالدو لإثراء رصيده التهديفي بأسرع ثلاثية في نسخة الموسم بـ12 دقيقة و12 ثانية وذلك في مرمى نادي ليفانتي مساهما في فوز الريال بـ4–2 والذي رفع من فارق النقاط بينه وبين الغريم برشلونة صاحب المركز الثاني إلى 10 نقاط.\\n24 مارس 2012، وصل كريستيانو رونالدو إلى هدفه رقم 101 في الدوري الإسباني خلال 92 مباراة له في البطولة، وذلك بتسجيله ثنائية في مرمى ريال سوسيداد ليرفع رصيده في الموسم الحالي إلى 35 هدفاً، ليصبح ثاني أسرع لاعب يسجل 100 هدف في تاريخ الدوري الإسباني خلف إيسيدرو لانغارا ويحطم رونالدو برقمه القياسي رقم النجم السابق لنادي ريال مدريد فيرينك بوشكاش الذي سجل 100 هدف في 105 مباراة.11 أبريل، في دربي العاصمة أمام نادي أتليتكو مدريد فاز نادي ريال مدريد بـ4–1. وكان كريستيانو رونالدو هو الأبرز فقد سجل الهدف الأول من ركلة حرة مباشرة بماركة الدون، وجاء الهدف الثاني بصاروخ أيضاً بماركة الدون لكن من كرة متحركة، وسجل الثالث من ركلة جزاء وصنع الرابع لكالخيون ليرفع رصيده من الأهداف إلى 40 هدفا، ليصبح اللاعب الأول في تاريخ الدوري الإسباني وتاريخ الدوريات الأوروبية كلها يسجل 40 هدفا على مرتين في موسمين متتاليين، ليحطم رونالدو رقمه الشخصي (40 هدف) الذي سجله العام الماضي في مباراة سبورتينغ خيخون في منافسات الليغا.يوم 21 أبريل 2012، تمكن ريال مدريد بقيادة رونالدو من الفوز على الغريم الأزلي نادي برشلونة في ملعب الكامب نو بعدما استعصى عليه في السنوات الأخيرة وأبعده عن طريقه نحو اللقب 32 في تاريخه. وسجل خضيرة الهدف الأول من جانب الريال وعدّل النتيجة لاعب البارسا أليكسيس سانشيز ولكن بعد دقيقتين وصلت الكرة لكريستيانو رونالدو الذي راوغ فالديز واسكن كرته في الشباك\\nفي مباراة الإياب في نصف النهائي دوري الأبطال، أضاع رونالدو إمكانية الوصول إلى النهائي مرة ثانية بعد تضييعه لضربة الجزاء أمام حارس مرمى بايرن ميونيخ مانويل نوير على من تسجيل رونالدو لهدفين لينتهي الوقت الأصلي بتقدم ريال مدريد 2–1 ليتعادل الفريقان 3–3 في مجموع مباراتي الذهاب والإياب حيث كانت مباراة الذهاب انتهت بفوز بايرن على أرضه 2–1في 13 مايو 2012، سجل رونالدو ضد نادي مايوركا هدفا جعلته أول لاعب في تاريخ الدوري الإسباني يسجل في مرمى كل الفرق المنافسة في موسم واحد وأنهى رونالدو الموسم برصيد 46 هدفًا في الدوري و60 هدف في كل المنافسات ليحكم رقمه الشخصي في الموسم الماضي ويجعله مرشحًا للمنافسة على الكرة الذهبية بعد فقده للحذاء الذهبي الأوروبي لغريمه ليونيل ميسي. في 13 يونيو فاز رونالدو بجائزة ألفريدو دي ستيفانو لأفضل لاعب في الدوري الإسباني\\n\\n\\n==== 2012–13: هيمنة وألقاب شخصية بدون ألقاب جماعية ====\\n23 أغسطس 2012، سجل رونالدو هدفه الأول في الموسم في مباراة الذهاب من كأس السوبر الإسبانية ضد نادي برشلونة في الكامب نو والتي جعلته أول لاعب مدريدي في تاريخ الكلاسيكو يسجل في أربع زيارات متتالية في ملعب الكامب نو. في مباراة العودة سجل رونالدو أحد أروع الأهداف في مسيرته الكروية عندما استحوذ على الكرة بلمحة فنية من فوق جيرارد بيكي لينفرد بالحارس المتأخر في الخروج فيكتور فالديز ويسدد في الشباك\\n. رونالدو حلّ في المركز الثاني (مناصفة مع ليونيل ميسي) خلف الإسباني أندريس إنييستا الذي فاز بجائزة أفضل لاعب في أوروبا 2012.يوم 2 سبتمبر 2012، سجل رونالدو الهدف الأول له في الدوري الإسباني أمام نادي غرناطة والتي فاز بها مع الريال 3–0، وكان هذا الهدف هو الهدف 200 في كل مشاركاته في الدوريات كل من إسبانيا، إنجلترا و\\u200cالبرتغال وأضاف هدفا آخر كان الهدف 150 لريال مدريد في 149 مباراة لعبها في جميع المسابقات. هذا الهدف جعله يحتل المركز العاشر في قائمة هدافي ريال مدريد في جميع المسابقات. استُبدِل رونالدو في الدقيقة 63 من المباراة بزميله غونزالو هيغواين بعد الإصابة الطفيفة في الفخذ. بعد المباراة صرح رونالدو أنه غير سعيد بسبب «مسألة احترافية» بعد أن رفض الاحتفال بالهدفين. ولقي رونالدو مساندة قوية من زملائه في الفريق أربيلوا و\\u200cهيغواين و\\u200cكاكا.15 سبتمبر، عاد رونالدو للظهور مع ريال مدريد القابع في المركز الرابع في ترتيب الليغا في مباراة ضد نادي إشبيلية الذي فاز على مدريد بـ(1–0). يوم 18 سبتمبر، سجل رونالدو أول أهدافه الأوروبية في الموسم مساهما في عودة الريال أمام نادي مانشستر سيتي الإنجليزي في النتيجة بعدما كان متعادلا إلى غاية الوقت الإضافي ولكن رونالدو قال كلمته الأخيرة بعد أن اخترق الدفاع الإنجليزي من الجهة اليسرى وسدد كرة قوية اخذت يد جو هارت واستقرت بالشباك. 30 سبتمبر، سجل رونالدو أول ثلاثية له في الموسم في مرمى ديبورتيفو لاكورونيا (بما فيها ركلتي جزاء) وانتهت المباراة بـ5–1. في 4 أكتوبر، سجل رونالدو أول هاتريك له في دوري أبطال أوروبا والذي قاد مدريد للفوز على أياكس أمستردام على ملعبه. في الأسبوع الذي تلى هذه المباراة، تمكن رونالدو من تسجيل هدفين ضد برشلونة، على ملعب الكامب نو، ليصبح أول لاعب يسجل في ست مباريات كلاسيكو على التوالي وعاشر لاعب في ريال مدريد يسجل هدفين على ملعب برشلونة بعد راؤول، فيرينتس بوشكاش، دي ستيفانو، ارسواجا، روبيو، موريرا، ألداي، فرانشيسكو خينتو و\\u200cفان نستلروي، وأيضا أصبح يملك 120 هدف في الدوري، وتقدم على أمانسيو وأصبح بالمركز التاسع في قائمة هدافي ريال مدريد في البطولة. رونالدو سجل الهدف الوحيد لريال مدريد في ملعب نادي بروسيا دورتموند وآلت نتيجة المبارة بخسارة مفاجئة للملكي يوم 24 أكتوبر 2012. 28 أكتوبر 2012، سجل رونالدو هدفين لريال مدريد في ملعب نادي مايوركا وانتهت المباراة بـ5–0.\\n\\n11 نوفمبر، لعب رونالدو لأول مرة كمهاجم صريح في نادي ريال مدريد في مباراة ليفانتي وذلك لغياب كل من كريم بن زيما و\\u200cغونزالو هيغواين للإصابة، والتي انتهت بـ2–1 لصالح الريال. في تلك المباراة، تعرض كريستيانو للإصابة بعد أن اصطدم مع المدافع ديفيد نافارو حيث أن هذا الأخير كسر حاجب العين للبرتغالي بعد ضربة بالكوع. 21 نوفمبر، عاد رونالدو لأول مرة إلى مدينة مانشستر منذ أن ترك نادي المدينة بعد انتقاله لمدريد. ليواجه نادي مانشستر سيتي ويتعادل مته بنتيجة 1–1 في دور المجموعات. 1 ديسمبر، بعد ثلاث مباريات لم يسجل فيها رونالدو عاد في مباراة الديربي أمام أتليتكو مدريد ليسجل هدفا من ركلة حرة ويمرر ركلة حاسمة لمسعود أوزيل لتنتهي المباراة بـ2–0. سجل رونالدو هدفه السادس في مرمى نادي أياكس أمستردام الهولندي في إطار دور المجموعات لدوري أبطال أوربا ليساهم في تأهل ريال مدريد رسميا للدور 16. يوم 12 ديسمبر، سجل رونالدو مرة أخرى في مرمى نادي سلتا فيغو في مباراة الذهاب من كأس ملك إسبانيا. 16 ديسمبر، ساهم رونالدو في عودة الريال بنقطة التعادل من ميدان نادي إسبانيول.\\n\\n6 يناير، في المبارة الأولى في العام الجديد سجل رونالدو هدفين أحدهما من ركلة حرة قوية مساهما في إنقاذ فريقه بـ10 لاعبين بالفوز على نادي ريال سوسيداد. تلك المباراة هي الأولى التي يحمل فيها كريستيانو رونالدو شارة قيادة النادي في مباراة رسمية. خلال المباراة تلقى رونالدو البطاقة الصفراء الخامسة وهذا يعني حرمانه من اللعب المباراة القادم أمام نادي أوساسونا وهذه المرة الأولى التي يغيب فيها رونالدو لتراكم البطاقات الصفراء (بلد الوليد، سلتا فيغو، إسبانيول و\\u200cملقة و\\u200cريال سوسيداد). حل رونالدو للمرة الثانية على التوالي بالمركز الثاني خلف ليونيل ميسي في سباق جائزة كرة فيفا الذهبية 2012. عد رونالدو لهوايته فسجل ثلاثية في مرمى نادي سلتا فيغو وأنقد ريال مدريد من الخروج المبكر من نصف النهائي لـكأس ملك إسبانيا. ثم سجل هدفن في مرمى نادي فالنسيا وانتهت المباراة بـ5–0 في مرمى النادي الجنوبي، ليسجل ثلاثية أخرى هي الأسرع في تاريخه الكروي أمام نادي خيتافي لينجح في تخطي حاجز 300 هدف في المباريات الرسمية على مستوى الأندية. 2 فبراير، أصبح رونالدو أول لاعب يسجل ضد جميع الاندية 20 في الدوري الإسباني عندما سجل هدفا في مرماه في مباراة 1–0 ضد غرناطة. رونالدو سجل هاتريك آخر في مرمى نادي إشبيلية، هذا الهاتريك هو 17 له في الدوري الإسباني و21 في مسيرته مع ريال مدريد. لعب رونالدو لأول مرة له منذ انتقاله إلى ريال مدريد مباراة ضد ناديه السابق مانشستر يونايتد الإنجليزي يوم 13 فبراير 2013 في ذهاب الدور الثمن النهائي لـدوري أبطال أوروبا على أرضية ملعب سانتياغو برنابيو وسجل هدف التعادل من رأسية محكّمة أذهلت العالم كله. 26 فبراير، سجل رونالدو هدفين في مرمى نادي برشلونة في الكلاسيكو إياب الدور النصف النهائي، ليصبح أول لاعب يسجل في ست كلاسيكوهات متتالية في ملعب الكامب نو.5 مارس 2013، شهدت عودة كريستيانو رونالدو لملعب أولد ترافورد لمواجهة فريقه السابق مانشستر يونايتد في إياب الدور الثمن النهائي لدوري أبطال أوروبا منذ انتقاله لناديه الحالي ريال مدريد صيف 2009، حيث سجل هدفا ولم يحتفل إحتراما للفريق وجماهيره، ليساهم في تأهل فريقه للدور الربع النهائي. سجل رونالدو هدفين في مرمى نادي سلتا فيغو، الهدف الثاني هو الهدف 138 لكريستيانو وهو الذي جعله من بين أفضل 25 هداف بتاريخ الليغا ومع معدل تهديفي مذهل يبلغ متوسطه 1،08 هدف في المباراة الواحدة. 16 مارس، سجل رونالدو هدف التعادل ليساهم في انتصار فريقه على نادي مايوركا بـ5–2، هذا الهدف هو الهدف 350 في مسيرته الكروية الاحترافية. 30 مارس، سجل رونالدو هدف التعادل في مرمى نادي سرقسطة لتنتهي المبارة بـ1–1. يوم 3 ابريل، سجل رونالدو الهدف الأول في مرمى نادي غلطة سراي التركي في مباراة الذهاب من الدور ربع النهائي لـدوري أبطال أوروباوهو الهدف العاشر له في هذه المسابقة، يوم 9 أبريل، سجل رونالدو هدفين في مباراة العودة في الدور الربع النهائي لدوري أبطال أوروبا، لينفرد بالمركز السادس لهدافي المسابقة متساويا مع القناص الإيطالي فيليبو إنزاغي ويحطم رقمه الشخصي الذي تقاسمه مع ايقونة مدريد السابقة راؤول غونزاليس في عدد الأهداف المسجلة في عام واحد بالمسابقة (11 هدف). 14 أبريل، سجل رونالدو هدفين ساهمت في عودة النادي الملكي بالنقاط الثلاث من ملعب نادي أتلتيك بيلباو ليصل إلى للهدف رقم 50.\\nتعرض رونالدو لإصابة في عضلة الفخذ أثناء عملية الإحماء في مباراة ذهاب دوري أبطال أوروبا، ولكنه شارك في المبارة وسجل هدفًا وانتهت المبارة بـ4–1 لـبروسيا دورتموند. وغاب بسببها عن ديربي مدريد ضد الجار أتليتكو مدريد. ولكنه عاد ليشارك في مباراة إياب دوري الأبطال وساهم في فوز مدريد بـ2–0 ضد بوروسيا دورتموند (إقصاء الريال بـ4–3). 4 مايو، سجل رونالدو هدفين ضد بلد الوليد بـ4–3. يوم 8 مايو 2013، سجل رونالدو هدف 200 في مسيرته مع ريال مدريد مساهما في فوزه بـ6–2 على نادي ملقا، وسجل 200 هدف في 197 مباراة فقط ليصبح أول لاعب يصل لهذا العدد من الأهداف في أقل مباريات لعبها (197 مباراة). سجل رونالدو الهدف الأول في مرمى أتليتكو مدريد في نهائي كأس ملك إسبانيا، وهو الهدف 111 في مباراة 100 في ملعبه، وكان كريستيانو أقصي بالبطاقة الحمراء في الدقيقة 114 من الوقت الإضافي بعد مشادة مع لاعب أتلتيكو غابي.أنهى رونالدو هذا الموسم بـ53 هدفا، سجل 29 هدفا بيمناه و16 بقدمه اليسرى، و8 برأسه. رونالدو أنهى الموسم الرابع له في ريال مدريد بوصوله لنهائي كأس ملك إسبانيا 2013 ونصف نهائي دوري أبطال أوروبا 2013 والمركز الثاني بالدوري الإسباني خلف نادي برشلونة بـ85 نقطة.فاز ريال مدريد بكأس الأبطال الدولية 2013 والتي أقيمت في الفترة ما بين 27 يوليو و\\u200c7 أغسطس 2013 في الولايات المتحدة وقد فاز بكل المباريات التي خاضها. فأمام لوس أنجلوس جلاكسي انتصر بنتيجة 3–1، ثم استطاع هزيمة نادي إيفرتون بنتيجة 2–1 مما أهله للعب النهائي أمام تشيلسي وفاز ب 3 أهداف لهدف وحيد لتشيلسي وقد كان هذا النهائي مثير حيث أنه أول مباراة يلعبها المدرب السابق لريال مدريد جوزيه مورينيو الذي انتقل من الريال إلى تشيلسي قبل شهرين من المباراة، وكان قد سجل الأهداف كل من مارسيلو وهدفين لكريستيانو رونالدو واحد من ضربة حرة وأخرى رأسية قوية بينما سجل لتشيلسي راميريز.\\n\\n\\n==== 2013–14: الكرة الذهبية الثانية ودوري أبطال أوروبا وهدافه التاريخي ====\\nكانت أول مباراة في موسم 2013–14 المباراة رقم 200 لكريستيانو رونالدو، عندئذ فاز ريال مدريد 2–1 أمام ريال بيتيس. ثم في الأسبوع الثاني كان رونالدو قد مرر الكرة لزميله كريم بنزيما ليسجل هدف الفوز أمام غرناطة، ثم سجل هدفه الأول في الليغا في الأسبوع الثالث أمام أتلتيك بيلباو. ثم سجل هدفا في مرمى فياريال، وبعدها ثنائية في كل من خيتافي وإلتش. ثم عاد وسجل هدفا في مرمى ليفانتي وملقة. وفي 17 سبتمبر 2013، فاز الريال 6–1 أمام غلطة سراي في الأسبوع الأول من دوري أبطال أوروبا، وسجل كريستيانو حينها ثلاثية أخرى. وفي 22 سبتمبر 2013 سجل هدفاً في مباراة انتهت بفوز فريقه على نادي خيتافي 4–1 في ذهاب الدوري الإسباني، مسجلاً هدفه 209 في 205 مباراة، محتلاً بهذا الرقم المركز الخامس في ترتيب هدافين ريال مدريد التاريخيين. ثم سجل ثنائية في مباراته 100 دوري أبطال أوروبا في اف سي كوبنهاغن، وثنائية أخرى في مرمى يوفنتوس ليصل لهدفه 57، وبهذا يصبح ثالث الهدافين التاريخين بطولة دوري أبطال أوروبا.\\nفي 5 أكتوبر 2013 سجل كريستيانو هدف الفوز في الدقائق الأخيرة علي نادي ليفانتي، مما جعله أول لاعب في بطولات الأوروبية الخمس الكبرى الذي يصل لخمسين هدفاً في عام 2013. في 30 أكتوبر 2013، استغل كريستيانو رونالدو لقاء فريقه ريال مدريد أمام إشبيلية وسجل الهاتريك 18 في الدوري الإسباني، و22 له مع الفريق الملكي، ليتجاوز الهنغاري بوشكاش في ترتيب هدافي ريال مدريد في الدوري الإسباني، حيث صعد للصف الخامس بـ157 هدفا وأصبح يهدد الصفوف الأربعة الأولى. وسجل أيضا الهدف 28 من ضربة جزاء في مشاركاته رفقة الفريق الملكي في مقابلات الدوري الإسباني.في 2 نوفمبر 2013، وفي ظهوره رقم 106 نادي ريال مدريد، سجل كريستانو هدفه المئة أمام نادي رايو فاليكانو، ويصبح بذلك معدله التهديفي 0.94 في المباراة الواحدة. وفي 5 نوفمبر 2013، حطم كريستيانو الرقم المسجل في أكثر الأهداف تسجيلاً بالسنة الميلادية، عندما سجل هدفه 14 أمام نادي يوفنتوس في إطار بطولة دوري أبطال أوروبا 2013–14. وفي يوم 9 نوفمبر 2013، فاز ريال مدريد على ريال سوسيداد بنتيجة 5–1 في الليجا، وسجل كريستيانو رونالدو ثلاثية (الثلاثية رقم 19 في الليغا و23 بالمجموع)، كما وقع كريستيانو رونالدو ضد سوسيداد على الهدف رقم 20 له من ضربة ثابتة مع الريال في الليغا متجاوزا رقم اللاعب البرازيلي رونالدينهو مع برشلونة.في 10 ديسمبر، لعب كريستيانو مباراته الأولى بعدما أصيب لمدة اسبوعين، وكانت أمام نادي كوبنهاغن ضمن مباريات بطولة دوري أبطال أوروبا، وسجل هدفاً، أصبح به أصبح كريستيانو رونالدو الهداف التاريخي في دور المجموعات من دوري أبطال أوروبا ب9 أهداف، وكان هدفه التاسع يوافق الهدف 800 لريال مدريد في دوري الأبطال. وفي مباراته الأخير في سنة 2013 سجل رونالدو هدفاً في مرمي نادي فالنسيا من ضربة رأسية ليصل إلى هدفه 69 في 59 خاضها في سنة 2013، هذا الهدف جعله في المركز الرابع لأكثر اللاعبن تسجيلاً في بطولة الدوري الإسباني بتاريخ نادي ريال مدريد، برصيد 164 هدفاً متشاركاً مع الهداف التاريخي هوغو سانشيز. أيضا أصبح ثاني الهدافين بتاريخ ريال مديد تسجيلاً خارج ملعب سانتياغو برنابيو، برصيد 72 هدفاً بفارق 15 هدفاً عن المتصدر راؤول غونزاليس صاحب 87. وفي 13 ديسمبر 2013 حصل كريستيانو على جائزة ورلد سوكر أفضل لاعب في العالم في تصويت شارك فيه صحفيون من جميع أنحاء العالم، بعدما تفوق على ليونيل ميسي و\\u200cفرانك ريبيري.\\n\\nو في 6 يناير 2014 افتتح كريستيانو عامه الجديد بهدفين في مباراة انتهت بنتيجة 3–0، مانحاً فريقه 3 نقاط أمام سيلتا فيغو، ومهدياً هدفيه للبرتغال أوزيبيو الذي توفي قبل المباراة بأيام قليلة. ورافعاً رصيده إلى 400 هدف في 653 مباراة في مسيرته الإحترافية (230 هدف مع ريال مدريد، 118 هدف مع مانشستر يونايتد، 47 هدف مع البرتغال، (5 أهداف) مع سبورتينج لشبونة). وبهذا الهدفين أيضا وصل كريستيانو للهدف رقم 230 في 221 مباراة خاضها مع ريال مدريد بجميع المنافسات.عدم تحقيق ريال مدريد لأي بطولة في موسم 2012–13، وسط تقارير بوجود انقسام لأعضاء الفريق في غرفة خلع الملابس، ساهم بنشر الأقاويل من قبل الصحف حول عدم رغبة رونالدو بتمديد عقده الذي سينتهي في يونيو 2015 العقد. وفي 8 يونيو 2013، صرح رونالدو أنه يفتقد اللعب في الدوري الإنجليزي، لكنه عاد وأعلن انه توصل إلى اتفاق لتجديد عقده مع ريال مدريد في الصيف. وفي يوم 15 سبتمبر 2013، وبعد الكثير من التكهنات، وقع رونالدو عقدا جديدا مع ريال مدريد سيبقيه في النادي حتى عام 2018، مع راتب يصل إلى 21 مليون يورو خالية من الضرائب، الأمر الذي جعل منه أعلى اللاعبين أجرا في كرة القدم.فاز كريستيانو رونالدو في 13 يناير 2014 بجائزة كرة الفيفا الذهبية 2013 للمرة الثانية في تاريخه؛ بعدما تغلب على الأرجنتيني ليونيل ميسي والفرنسي فرانك ريبيري، بعدما فاز بها للمرة الأولى مع نادي مانشستر يونايتد في عام 2008. وأصبح بذلك عاشر لاعب بفوز بلقب الكرة الذهبية أكثر من مرة، بعدما كان وصيفاً أربع مناسبات أخرى: 2007، 2009، 2011 و2012. أيضا أصبح أولا لاعب يحصل على الجائزة بالرغم من عدم فوزه بأي بطولة، منذ أن فاز بها مواطنه لويس فيغو عام 2000. ووصف رونالدو باكياً عند استلام الجائزة بأنه «لا توجد كلمات لوصف هذه اللحظة» وأن «من الصعب الفوز بهذه الجائزة». وبعد تحقيقه لهذا الإنجاز، عرفت العديد من وسائل الإعلان بأن كريستيانو واحد من أعظم اللاعبين في تاريخ كرة القدم.في 16 أبريل 2014 حقق كريستيانو رونالدو مع فريقه ريال مدريد لقب كأس ملك إسبانيا للمرة الثانية منذ انضمامه للريال، وذلك بعد فوزه أمام غريمه نادي برشلونة بنتيجة 2:1 لصالح الريال. في 29 أبريل 2014، حقق كريستيانو رقما قياسيا وهو تسجيله 16 هدفا في موسم واحد في دوري أبطال أوروبا في نسخة 2013–14 وبهذا يصبح أكثر هداف في تاريخ الدورة يسجل هذا العدد في موسم واحد، وكان هذا في نصف نهائي دوري الأبطال أثناء فوز الريال 4–0 أمام بايرن ميونخ على أرضه، حيث سجل رونالدو هدفين وانتقل ريال مدريد للعب نهائي دوري أبطال أوروبا. وفي 24 مايو 2014 فاز كريستيانو رونالدو مع ناديه ريال مدريد بلقب دوري أبطال أوروبا 2013–14 للمرة الثانية في تاريخه محطما رقما قياسيا تاريخيا وهو تسجيل 17 هدفا في موسم واحد.\\n\\n\\n==== 2014–15: مكينة تهديفية خالية من البطولات ====\\nخلال موسم 2014–15، أصبح رونالدو أول لاعب يسجل 61 هدفا في جميع المسابقات، بدءاً من هدفي فوز ريال مدريد 2–0 على اشبيلية في كأس السوبر الأوروبي 2014. وأصبح في نهاية الدوري هداف الليغا، حيث سجل 15 هدفا في الجولات الثماني الأولى من الليغا، بما في ذلك رباعيته ضد إلتشي وهاتريك ضد ديبورتيفو لاكورونيا و\\u200cأتلتيك بلباو. سجل 23 هاتريك في الليغا، وسجل ضد سيلتا فيغو في 6 ديسمبر، جعله أسرع لاعب يصل إلى 200 هدفا في الليغا، حيث وصل إلى هذا الرقم في 178 مباراة فقط، لينهي لاحقا الموسم بتسجيلة لـ48 هدف ليصبح أكثر ثاني لاعب تسجيلا للأهداف في موسم واحد بعد ميسي (50 هدف). وبعدما فاز كأس العالم للأندية 2014 مع ريال مدريد في المغرب، فاز مرة أخرى بالكرة الفضية، كما حصل رونالدو على كرة الفيفا الذهبية الثانية، وانضم إلى يوهان كرويف، و\\u200cميشيل بلاتيني، و\\u200cماركو فان باستن لفوزه بالكرة الذهبية للمرة الثالثة.\\nوبعد استراحة الشتاء، انخفض مستوى رونالدو، بالتزامن مع انخفاض أداء فريقه. وتلقوا أول هزيمة 2–1 ضد فالنسيا في المباراة الأولى من 2015، وتوقفت سلسلة انتصارات ريال مدريد التي دامت 22 مباراة متتالية في جميع المسابقات، على الرغم من تسجيلة الهدف الافتتاحي. واستمر موسمهم دون جدوى حيث فشلوا في الفوز بأي بطولة سواء دوري أبطال أوروبا والتي خرجوا منها من نصف النهائي أمام يوفنتوس، أو الليغا والتي خسروها لصالح برشلونة واكتفوا بالوصافة، أو حتى كأس الملك والذي خرجوا منه في دور الـ16 أمام الجار أتلتيكو مدريد. وفي دوري أبطال أوروبا، سجل 10 أهداف، وأنهى الموسم بلقب هداف البطولة للموسم الثالث على التوالي، جنبا إلى جنب مع نيمار وميسي.\\n\\n\\n==== 2015–16: هدّاف ريال مدريد التاريخي وبطل أوروبا مع النادي والمنتخب ====\\nفي بداية موسمه السابع في ريال مدريد، موسم 2015–16، أصبح رونالدو أفضل هداف ريال مدريد التاريخي، أولاً في الدوري ثم في جميع المسابقات. وسجل خمسة أهداف في فوز فريقه 6–0 على إسبانيول في 12 سبتمبر، رفع رصيده في الدوري الاسباني ليصل إلى 230 هدفاً في 203 مباراة، متجاوزاً الرقم القياسي للنجم السابق للنادي راؤول. وبعد شهر، في 17 أكتوبر، تخطى راؤول مرة أخرى عندما سجل هدفه الثاني في هزيمة ليفانتي 3–0 في السانتياغو ليحقق الهدف رقم 324 في النادي. كما أصبح رونالدو هداف دوري أبطال أوروبا التاريخي. وبتسجيله لهدفه ضد مالمو، الذي حقق فوز فريقه بنتيجة 2–0 في 30 سبتمبر، وصل إلى 500 هدف في مسيرته المهنية في كل النوادي التي لعب لها والمنتخب. ثم أصبح في وقت لاحق حقق رقم قياسي كأول لاعب يسجل 11 هدف في مرحلة المجموعات من دوري أبطال أوروبا.تلقى رونالدو إشادات لأداءه الكبير بعد تسجيله 14 هدف ضد ناديا إسبانيول ومالمو. ولكن خلال النصف الثاني من الموسم، تراجع مستواه تدريجيا. لكن بعدها سجل رونالدو أربعة أهداف في فوز فريق 7–1 على سيلتا فيغو في 5 مارس 2016، حيث وصل إلى 252 هدفا في الدوري الاسباني ليصبح ثاني أعلى هداف في تاريخ المسابقة بعد ميسي. بعد أن حقق هدف الفوز في مباراة مباراة الكلاسيكو 2–1 عندما كانوا يلعبون بـ10 لاعبين في 2 أبريل، سجل هاتريك ضد فولفسبورغ ليقود ناديه إلى الدور نصف النهائي لدوري أبطال أوروبا على الرغم من الهزيمة في مباراة الذهاب 2–0. وقد سجل 16 هدفا في المسابقة، مما جعله هداف البطولة للموسم الرابع على التوالي، والخامس في تاريخه. عانى رونالدو من مشاكل في اللياقة في المباراة النهائية ضد أتلتيكو مدريد، في مشهد متكرر من نهائي 2014، على الرغم من أنه لم يكن بمستواه إلا أنه استطاع منح فريقه اللقب الحادي عشر في تاريخ النادي (بالإسبانية: La Undécima)\\u200f من خلال تسديدته للركلة الأخيرة التي حسمت البطولة. وللسنة السادسة على التوالي، أنهى الموسم بعد أن سجل أكثر من 50 هدفا في جميع المسابقات. ولجهوده خلال الموسم، حصل على جائزة أفضل لاعب في أوروبا للمرة الثانية في تاريخه.لم يلعب رونالدو أول ثلاث مباريات في موسم 2016–17، بما في ذلك مباراة كأس السوبر الأوروبي 2016 ضد اشبيلية، حيث واصل علاج إصابة الركبة التي عانى منها فرنسا نهائي يورو 2016. وفي 6 نوفمبر 2016، وقع رونالدو عقدا جديدا سيبقيه مع ريال مدريد حتى عام 2021. في 19 نوفمبر، سجل هاتريك في مباراة ديربي مدريد 3–0 ضد أتلتيكو مدريد، مما جعله هداف ديربي مدريد التاريخي بـ18 هدفاً. في 15 ديسمبر 2016، سجل رونالدو هدفه الخمسمئة في مسيرته المهنية (377 هدفاً لريال مدريد و118 هدفاً لمانشستر يونايتد و5 أهداف لسبورتينغ لشبونة) في المباراة التي فاز فيها فريق الفوز 2–0 على نادي أمريكا المكسيكي في الدور نصف النهائي كأس العالم للأندية. ثم سجل هاتريك في نهائي كأس العالم للأندية 4–2 على النادي الياباني كاشيما أنتلرز. وأنهى رونالدو البطولة كأفضل هداف بأربعة أهداف، وحصل على جائزة أفضل لاعب في البطولة. وفاز بالكرة الذهبية للمرة الرابعة وافتتاح جائزة الأفضل التي تقدمها الفيفا للسنة الأولى بعد أن عن انفصلت الكرة الذهبية وأصبحت جائزة مستقلة، وأخذ هاتين الجائزة بفضل حصوله على بطولة دوري أبطال أوروبا مع ريال مدريد و\\u200cبطولة أمم أوروبا 2016 مع البرتغال.\\n\\n\\n==== 2016–17: 400 هدف مع ريال مدريد والثانية عشر ====\\nفي 15 يناير، عادل رونالدو رقم هوغو سانشيز كأكبر هداف من ركلات الجزاء في تاريخ الدوري الإسباني، بتسجيلة 56 ركلة جزاء من أصل 65 محاولة في المباراة التي أوقفت سلسلة عدم الخسارة في 40 مباراة متتالية في جميع المباريات 2–1 ضد اشبيلية. بعد فوز ريال مدريد 3–2 على فياريال في 27 فبراير 2017، تجاوز رونالدو هوغو سانشيز كأكبر هداف من ركلات الجزاء في تاريخ الدوري الاسباني. وبفضل ركلة الجزاء التي سجلها رونالدو، وصل ريال مدريد إلى هدفه رقم 5،900 في تاريخ الدوري، وأصبح أول فريق يصل لهذا الرقم. في 12 أبريل 2017، في الدور ربع النهائي من دوري أبطال أوروبا 2016–17 ضد بايرن ميونخ، سجل رونالدو هدفين منح فيهما الفوز لفريقه بنتيجة 2–1. هدفين جعلته يدخل التاريخ في أن يصبح أول لاعب يصل إلى 100 هدف في مسابقات الاتحاد الأوروبي. خلال مباراة الإياب من الدور ربع النهائي، سجل رونالدو هاتريك ووصل إلى هدفه رقم 100 في دوري أبطال أوروبا ليصبح أول لاعب ييصل لذلك الرقم، حيث هزم ريال مدريد بايرن ميونخ 4–2 في الأوقات الإضافية. في 2 مايو 2017، سجل رونالدو هاتريك ثاني على التوالي في دوري أبطال أوروبا، حيث فاز ريال مدريد على أتلتيكو مدريد 3–0 في الدور نصف النهائي. وقد جعله هذا الهاتريك يصبح أول لاعب يصل إلى 50 هدفا في مرحلة خروج المغلوب. في مباراة الدوري اللاحقة ضد اشبيلية، سجل هدفين، متجاوز هدفه الـ400 لريال مدريد، بـ401 هدف – مساويا لجيمي غريفز كأفضل هداف في الدوريات الخمس الكبرى. بعد ثلاثة أيام، تفوق رونالدو على جيمي جريفز كأفضل هداف في الدوريات الخمس الكبرى، بتسجيله هدف ضد سيلتا فيغو. أنهى الموسم بتسجيله 42 هدفا في جميع المسابقات كما ساعد ريال مدريد للفوز في الدوري الاسباني بعد الغياب منذ عام 2012. وأصبح ريال مدريد أول فريق يحقق بطولتين دوري أبطال أوروبا في عاميين متتاليين في النسخة الحديثة. في نهائي دوري أبطال أوروبا 2017، سجل هدفين في الانتصار على يوفنتوس وأصبح هداف البطولة للموسم الخامس على التوالي، والسادس بتاريخه، بتسجيله 12 هدفا، في حين أصبح أيضا أول لاعب يسجل في ثلاث نهائيات في دوري أبطال أوروبا فضلا عن تسجيله لهدفه رقم 600 في مسيرته. وحقق ريال اللقب الثاني عشر، المعروف أيضا باسم (بالإسبانية: La Duodécima)\\u200f، وسجل رقما قياسيا كأول فريق يحقق البطولة مرتين متتاليتين في النسخة الحديثة من البطولة، واللقب الثالث في أربع سنوات.\\n\\n\\n==== 2017–18: الكرة الذهبية الخامسة وبطل أوروبا للمرة الخامسة ====\\nبدأ الفريق موسم 2017–18 وغاب رونالدو عن جميع المباريات التحضيرية بسبب مشاركته مع منتخبه في بطولة كأس القارات 2017 والتي خرج منها من نصف النهائي أمام المنتخب التشيلي بضربات الترجيح. وحضر لتدريبات الفريق قبل يومين من مباراة كأس السوبر الأوروبي 2017، وسافر مع الفريق إلى مقدونيا لكنه جلس على مقاعد الاحتياط بسبب عدم جاهزيته 100%، ودخل في الدقيقة 83 وحقق الفريق البطولة بعد تغلبه على فريق رونالدو السابق مانشستر يونايتد بنتيجه 2–1. وبعدها بدأ يتجهز رونالدو لخوض مباراة الذهاب من كأس السوبر الإسباني 2017 أمام الغريم اللدود برشلونة في الكامب نو، ولكنه أيضا لم يكن جاهزاً 100% فقرر المدرب زين الدين زيدان أن يضعه على مقاعد البدلاء، وفي الدقيقة 58 وعندما كان ريال مدريد متقدم بنتيجة 1–0 دخل رونالدو بديل لكريم بنزيما وبعد هدف التعادل لبرشلونة بثلاث دقائق، انفجر رونالدو بهجمة بمرتده وراوغ لاعب برشلونة بيكيه ليضع الكرة في الشباك عند الدقيقة 80 ليحتفل بذات الاحتفالية التي احتفل بها ليونيل ميسي في ملعب السانتياغو برنابيو في الكلاسيكو الأخير ليرد عليه، وبعد ذلك الهدف بدقيقتين سقط رونالدو في منطقة الجزاء ليصفر الحكم ضربة حرة على رونالدو بداعي التمثيل ويوجه له البطاقة الصفراء الثانية ليُطرد رونالدو وسط ذهول زملاءه والخصم والجماهير وغادر رونالدو الملعب. انتهت المباراة بفوز فريقه ريال مدريد بنتيجة 3–1. وفي اليوم التالي 14 أغسطس 2017 أصدر الاتحاد الإسباني بيان أعلن فيه عقوبة رونالدو بعد دفعه حكم مباراة الكلاسيكو بإيقافة لخمس مباريات (مباراة الإياب وأربع مباريات في الليغا). في 13 سبتمبر عاد رونالدو للعب مع ريال مدريد بعد غياب شهر كامل بسبب الإيقاف ولكنه عاد في بطولة دوري أبطال أوروبا وليست الليغا لأنه لاتزال متبقية له مباراة واحدة على انتهاء فترة عقوبة. واستطاع رونالدو من تسجيل هدفين ومساعدة فريقة بالفوز في أول مباراة للفريق بدوري أبطال أوروبا 2017–18 ضد نادي أبويل القبرصي بنتيجة 3–0 وأصبح رونالدو أكثر لاعب يسجل في ملعب فريقة في تاريخ دوري أبطال أوروبا (48)، متخطياً بذلك أسطورة النادي السابق راؤول غونزاليس (46). وفي يوم 26 سبتمبر 2017 لعب رونالدو مباراته رقم 400 بقميص ريال مدريد في المباراة الثانية من مرحلة المجموعة بدوري أبطال أوروبا واستطاع رونالدو بتلك المباراة قيادة فريقه والانتصار بأرض بوروسيا دورتموند لأول مرة في تاريخ النادي بنتيجة 3–1. واستطاع رونالدو تسجيل هدفين ورفع رصيد أهدافه في دوري أبطال أوروبا إلى 109 ليستمر كأفضل هداف بتاريخ دوري الأبطال. وفي 17 أكتوبر سجل رونالدو هدفه رقم 110 في دوري الأبطال ضد توتنهام في المباراة التي انتهت بالتعادل الإيجابي 1–1. وفي 1 نوفمبر سجل هدفه رقم 111 في دوري الأبطال وهدفه السادس في تلك النسخة من البطولة لينفرد بصدارة الهدافين، في المباراة التي تلقى فيها فريقه أول خسارة في دور المجموعات من دوري أبطال أوروبا منذ عام 2012، وكانت الخسارة أمام نادي توتنهام بنتيجة 3–1. وفي 21 نوفمبر سجل رونالدو هدفين ضد نادي أبويل في دوري أبطال أوروبا ليصبح ثالث لاعب يسجل في أول 5 مباريات متتالية في دوري أبطال أوروبا. وفي 6 ديسمبر سجل هدفًا ضد نادي بوروسيا دورتموند ليكون بذلك أول لاعب يسجل في جميع مباريات المجموعات في دوري الأبطال في موسم واحد. وفي 7 ديسمبر تُوج رونالدو بجائزة الكرة الذهبية التي تقدمها فرانس فوتبول للمرة الخامسة في مسيرته الكروية ليتعادل مع ميسي كأكثر لاعبن في التاريخ تحقيقًا لهذه الجائزة. وفي 27 يناير 2018 سجل رونالدو هدفين من ركلتي جزاء ضد فالنسيا في مباراة الفوز 4–1 على ملعب ميستايا، ليصل إلى هدفه رقم 101 من ركلات الجزاء مع الأندية التي لعب لها و\\u200cمنتخب بلاده. كما أصبح أكثر لاعب سدد ركلات جزاء في تاريخ الليغا بـ 72 ركلة أهدر منها 11 ركلة، متخطيًّا لاعب الملكي السابق هوغو سانشيز الذي سدد 71 وأهدر منها 15 ركلة.سجل رونالدو أول هاتريك له في الموسم في مباراة الفوز 5–2 على ريال سوسيداد في 10 فبراير. سجل رونالدو سوبر هاتريك (4 أهداف) ضد جيرونا في الجولة 29 من الدوري الإسباني، ليصل إلى 37 هدفًا في 35 مباراة، كما حقق الهاتريك رقم 49 في مسيرته مع النادي والمنتخب. في 3 أبريل، سجل رونالدو أول هدفين في مباراة الفوز 3–0 على يوفنتوس في دور الثمانية من دوري أبطال أوروبا 2017–18، وسجل هدفه الثاني عن طريق ضربة مقصية مذهلة. الهدف الذي وصفه «مدافع يوفنتوس» أندريا بارزالي بأنه «هدف بلاي ستيشن»، وبعد تسجيله للهدف حظي بتصفيق حار من مشجعي يوفنتوس في الملعب، بالإضافة إلى مجموعة كبيرة من زملائه، والنقاد، والمدربين. الهدف كان أيضا رقم 119 له في جميع البطولات الأوروبية، ليجعله سجل أهداف أكثر من 465 نادي آخر شارك في البطولة. لو كان رونالدو نادي، فإنه سيكون 10 نادي تهديفياً في تاريخ دوري أبطال أوروبا. أنهى رونالدو موسمه مع النادي بالتتويج للمرة الخامسة في تاريخه والثالثة على التوالي كبطل لدوري أبطال أوروبا معدلاً رقم باولو مالديني. كما أصبح هداف دوري أبطال أوروبا للمرة السابعة في تاريخه والسادسة على التوالي. ولعب 44 مباراة خلال الموسم وسجل مثلها.\\n\\n\\n=== يوفنتوس ===\\nفي 10 يوليو 2018، أعلن نادي يوفنتوس الإيطالي ضم المهاجم البرتغالي كريستيانو رونالدو من نادي ريال مدريد الإسباني مقابل 105 مليون يورو لمدة 4 سنوات حتى 30 يونيو 2022 براتب 30 مليون يورو. وتمّ تقديمه رسمياً بعد أقلّ من أسبوع من ذلك. كان هذا الانتقال هو الأعلى من نوعه على الإطلاق للاعب يبلغ من العمر أكثر من 30 سنة، وهو أعلى مبلغ دفعه نادي إيطالي على الإطلاق. عند التوقيع، أشار رونالدو بحاجته لتحدي جديد كمبرر لمغادرة ريال مدريد. ولكن في وقت لاحق عزا انتقاله إلى قلة الدعم الذي شعر به من قبل رئيس النادي فلورنتينو بيريز.\\n\\n\\n==== 2018–20: لقبين متتاليين في الدوري الإيطالي ====\\nشارك رونالدو في أول مباراة رسمية له مع يوفنتوس في المباراة الافتتاحية للدوري الإيطالي في 18 أغسطس، حيث فاز فريقه بنتيجة 3–2 أمام كييفو خارج أرضه.\\nوفي 25 أغسطس شارك في أول مباراة له مع يوفنتوس على ملعب يوفنتوس في الفوز 2–0 على لاتسيو. سجل رونالدو أول هدفين له في 16 سبتمبر، في المباراة الرابعة له مع يوفنتوس في الدوري حيث فاز بالمباراة بنتيجة 2–1 أمام ساسولو، وهدفه الأخير كان الهدف رقم 400 في مسيرته المهنية في الدوري. في 19 سبتمبر، وفي أول مباراة له في دوري أبطال أوروبا مع يوفنتوس، طُرد رونالدو في الدقيقة 29 بسبب ما اعتبره حكم المباراة «تصرف عنيف» – وهذا هو الطرد الأول له في 154 مباراة لعبها في دوري أبطال أوروبا – وانتهت المباراة بفوز فريقه 2–0 أمام نادي فالنسيا على ملعب ميستايا. وأُوقِف لمباراة واحدة. سجل رونالدو أول هدف له في دوري أبطال أوروبا مع يوفنتوس في مباراة الخسارة 2–1 على أرضه أمام ناديه السابق مانشستر يونايتد. في ذلك الشهر، أصبح أول لاعب في التاريخ يفوز في 100 مباراة في دوري أبطال أوروبا، حيث فاز على أرضه 1–0 أمام فالنسيا، مما أدى إلى تأهل يوفنتوس إلى مرحلة خروج المغلوب من البطولة. في ديسمبر، سجل هدفه العاشر في الدوري الإيطالي لهذا الموسم من ركلة جزاء، وسجل الهدف الأخير في مباراة الفوز 3–0 على الغريم فيورنتينا. مع هذا الهدف، أصبح رونالدو أول لاعب ليوفنتوس منذ جون تشارلز في عام 1957 يسجل 10 أهداف في أول 14 مباراة له في الدوري مع النادي. بعد حصوله على المركز الثاني في كل من جائزة أفضل لاعب في أوروبا المقدمة من الاتحاد الأوروبي لكرة القدم و\\u200cجائزة الفيفا للأفضل كرويا للمرة الأولى منذ ثلاث سنوات، خلف لوكا مودريتش، شهد أداء رونالدو في عام 2018 حصوله على المركز الثاني في جائزة الكرة الذهبية 2018، ليكون مرة أخرى خلف زميله السابق في ريال مدريد.فاز رونالدو بأول لقب له الأولى مع يوفنتوس في يناير 2019، وكان كأس السوبر الإيطالي 2018، بعد أن سجل هدف الفوز في المباراة والهدف الوحيد من ضربة رأسية ضد ميلان. في 10 فبراير، سجل رونالدو وقدم مساعدة لإمري تشان في الفوز 3–0 خارج أرضه على ساسولو؛ كانت هذه هي المباراة التاسعة على التوالي التي يسجل فيها هدفًا ليوفنتوس خارج أرضه في الدوري، مما مكنه من معادلة رقم جوزيبي سينيوري في موسم واحد في الدوري الإيطالي.في 12 مارس 2019، لعب كريسيانو مع فريقه يوفنتوس مباراة ضد أتليتكو مدريد، أحرز فيها كريستيانو «الهاتريك» الثامن له في دوري أبطال أوروبا متعادلًا مع ميسي في ذات الإنجاز، كما أنها تعد رابع ثلاثية (هاتريك) له في مرمى أتلتيكو مدريد. وانتهت المباراة بفوز فريقه 3–0 على أرضه ضمن فعاليات إياب الدور الـ16 في دوري أبطال أوروبا. في الشهر التالي، سجل رونالدو هدفه رقم 125 في البطولة، وفتح التسجيل في مباراة التعادل 1–1 من ذهاب ربع النهائي ضد أمستردام، في 10 أبريل. في مباراة الإياب في تورينو في 16 أبريل، سجل هدف المباراة الافتتاحي في الشوط الأول، ولكن خسر يوفنتوس المباراة في النهاية 1–2، وتم اقصائه من البطولة.في 20 إبريل، لعب رونالدو في مباراة حسم اللقب ضد الغريم فيورنتينا حيث فاز يوفنتوس بلقبه الثامن على التوالي في دوري الدرجة الأولى الإيطالي بعد الفوز في المباراة على أرضه 2–1، وبذلك أصبح أول لاعب يفوز بلقب الدوري في إنجلترا وإسبانيا وإيطاليا. على الرغم من أنه لم يسجل هدفًا في المباراة، إلا أنه لعب دورًا في هدف الفوز باللقب، حيث أن أحد عرضياته اصطدمت باللاعب جيرمان بيزيلا وتحولت إلى هدف، ليسجل كهدف ذاتي بالخطأ. في 27 أبريل، سجل هدفه رقم 600 مع الأندية التي لعب لها، وكان هدف التعادل في المباراة التي أنتهت بالتعادل 1–1 أمام إنتر ميلان.سجل كريستيانو رونالدو هدفه الأول لموسم 2019–20 مع يوفنتوس في مباراة الفوز 4–3 على أرضه أمام نابولي في الدوري في 31 أغسطس 2019. في 23 سبتمبر، حصل على المركز الثالث في جائزة الأفضل لعام 2019. في 1 أكتوبر، وصل إلى العديد من الإنجازات البارزة في فوز فريقه يوفنتوس 3–0 في مرحلة المجموعات من دوري أبطال أوروبا أمام باير ليفركوزن: بفضل الهدف الذي سجله خلال المباراة أصبح ثالث لاعب يسجل في 14 موسم دوري أبطال أوروبا على التوالي، مساوياً لرقم راؤول وميسي. كما حطم أيضًا رقم إيكر كاسياس بأكبر عدد من الانتصارات في دوري أبطال أوروبا عبر التاريخ، وتساوي مع رقم راؤول في التسجيل ضد 33 خصم في دوري أبطال أوروبا. في 6 نوفمبر، في مباراة الفوز 2–1 على لوكوموتيف موسكو في مرحلة المجموعات بدوري الأبطال، عادل باولو مالديني كأكثر لاعب توج شارك في مسابقات الأندية الأوروبية بـ174 مباراة. في 18 ديسمبر، قفز رونالدو إلى 8.39 قدم (2.56 متر) – أعلى من العارضة (8 قدم) – قبل أن يسجل هدف الفوز خارج أرضه على أمام سامبدوريا 2–1 في الدوري.\\nسجل رونالدو أول هاتريك له في دوري الدرجة الأولى الإيطالي في 6 يناير 2020، بفوزه على أرضه 4–0 أمام كالياري. الهاتريك السادسة والخمسين في مسيرته، جعله يصبح ثاني لاعب –بعد أليكسيس سانشيز– يسجل هاتريك في الدوري الإنجليزي، والدوري الإسباني، والدوري الإيطالي. في 2 فبراير، سجل هدفين من ركلتي جزاء في الفوز 3–0 على أرضه أمام فيورنتينا، مساوياً رقم دافيد تريزيغيه القياسي في النادي بتسجيله في تسع مباريات متتالية في الدوري الإيطالي. حطم الرقم القياسي بعد ستة أيام، عندما سجل في مباراته العاشرة على التوالي، في مباراة الهزيمة 1–2 أمام فيرونا. في 22 فبراير، سجل رونالدو في المباراة الحادية عشر بشكل متتالي في الدوري الإيطالي (رقم قياسي يتشاركه مع غابرييل باتيستوتا وفابيو كوالياريلا)، كما كانت هذه المباراة هي المباراة قم 1000 في مسيرته الاحترافية، حيث فاز فريقه 2–1 خارج ملعبه ضد سبال.في 17 يونيو 2020، شارك كريستيانو رونالدو كأساسي في نهائي كأس إيطاليا ضد نابولي، على الرغم من خسارة يوفنتوس 4–2 بركلات الترجيح بعد التعادل السلبي في الوقت الأصلي. في 22 يونيو، سجل من ركلة جزاء في مباراة الفوز 2–0 خارج أرضه أمام بولونيا، متجاوزًا روي كوستا ليصبح أكثر لاعب برتغالي تسجيلاً للأهداف في تاريخ الدوري الإيطالي. بعد ثمانية أيام، سجل هدفه رقم 746 في مسيرته مع الأندية والمنتخب (بما في ذلك مباريات الشباب) عن طريق بتسديدة بعيدة المدى في فوزه خارج أرضه على جنوى 3–1 في الدوري الإيطالي، مما جعله يتساوي مع فيرينتس بوشكاش في المركز الرابع على قائمة أعلى الهدافين في تاريخ كرة القدم. في 4 يوليو، صنع هدف خوان كوادرادو وسجل لاحقًا هدفه الخامس والعشرين في الدوري لهذا الموسم من ركلة حرة في مباراة الفوز 4–1 على ضيفه تورينو، ليصبح أول لاعب من يوفنتوس يحقق هذا الإنجاز منذ عمر سيفوري في عام 1961؛ وكان الهدف هو الأول له من ركلة حرة مع النادي بعد 43 محاولة.في 20 يوليو، سجل رونالدو ثنائية الفوز 2–1 على لاتسيو. كان هدفه الأول هو الخمسين له في الدوري الإيطالي، ليصبح أسرع لاعب يصل إلى هذا الرقم –في 61 مباراة– وأصبح أول لاعب يسجل 50+ في ثلاثة من الدوريات الخمس الكبرى (الدوري الإنجليزي الممتاز، والدوري الإسباني، والدوري الإيطالي). كما سجل هدفه رقم 30 في الدوري لهذا الموسم، ليصبح ثالث لاعب في تاريخ يوفنتوس يصل إلى هذا الرقم في موسم واحد، بعد فيليتشي بوريل في موسم 1933–34 وجون هانسن في موسم 1951–52. علاوة على ذلك، أصبح أكبر لاعب –في سن 35 عامًا و 166 يومًا– يسجل أكثر من 30 هدف في واحدة من الدوريات الخمس الكبرى منذ روني روك مع أرسنال في عام 1948. وأصبح أيضًا أكثر من يسجل ركلات جزاء في موسم واحد في تاريخ الدوري الإيطالي بواقع 12 ركلة بالتساوي مع جوزيبي سينيوري لاعب لاتسيو السابق وتشيرو إيموبيلي لاعب لاتسيو الحالي. في 26 يوليو، سجل رونالدو هدف وأضاع ركلة جزاء في مباراة الفوز 2–0 أمام سامبدوريا. ليحقق لقب الدوري الثاني له على التوالي في الدوري الإيطالي. أنهى موسمه الثاني في الدوري الإيطالي بإجمالي 31 هدفًا و6 تمريرات حاسمة، مما جعله ثاني أفضل هداف في الدوري بعد الفائز بالحذاء الذهبي الأوروبي تشيرو إيموبيلي، برصيد 36 هدفًا، والذي عادل أيضًا الرقم القياسي الذي حققه غونزالو هيغواين في عدد الأهداف في موسم واحد بالدوري الإيطالي. في 7 أغسطس، سجل رونالدو هدفين في الفوز 2–1 على أرضه ضد ليون في إياب دور الـ16 من دوري أبطال أوروبا، والذي جعله ينهي الموسم برصيد 37 هدفًا في جميع المسابقات؛ سمح له هذا الرقم بتحطيم الرقم القياسي المسجل باسم فيليتشي بوريل والذي سجل 36 هدفًا في موسم واحد، بموسم 1933–34. وعلى الرغم من الفوز، تعادل يوفنتوس مع ليون 2–2 في مجموع المباراتين، وخرج من البطولة بقانون أهداف خارج الديار.\\n\\n\\n==== 2020–21: 100 هدف مع يوفنتوس، والكابوكانونيري، والرحيل ====\\nفي 20 سبتمبر 2020، سجل رونالدو في المباراة الافتتاحية مع يوفنتوس لهذا الموسم، بفوزه 3–0 على أرضه أمام سامبدوريا في الدوري الإيطالي. في 27 سبتمبر، ساعدت ثنائية رونالدو يوفنتوس الذي كان يلعب بعشر لاعبين على التعادل 2–2 أمام روما في الجولة الثانية من الدوري. كانت نتيجة اختباره إيجابية لمرض فيروس كورونا في 12 أكتوبر. بعد انتهاء فترة عزله، جاءت نتيجة اختباره سلبية وسُمح له بالعودة إلى اللعب. عند عودته ضد سبيزيا في 1 نوفمبر، حيث دخل مقاعد البدلاء وسجل ثنائية ليساعد يوفنتوس على الفوز 4–1 خارج أرضه. في 21 نوفمبر، سجل هدفي الفوز 2–0 على كالياري ليضمن الثلاث نقاط لفريقه. في 2 ديسمبر، سجل هدفًا ضد دينامو كييف في مباراة دور المجموعات بدوري أبطال أوروبا ليصل إلى هدفه رقم 750 في مسيرته المهنية. في 8 ديسمبر، عاد رونالدو ليلعب مرة أخرى في كامب نو أمام برشلونة لأول مرة بعد خروجه من ريال مدريد. واستطاع أن يسجل ثنائية من ركلات الجزاء في مباراة فوز فريقه 3–0. لعب رونالدو مباراته رقم 100 في جميع المسابقات مع يوفنتوس في 13 ديسمبر، وسجل ركلتي جزاء في الفوز 3–1 خارج أرضه على جنوى في الدوري، ورفع رصيده إلى 79 هدفًا. في 2 مارس 2021، سجل هدفًا في الفوز 3–0 على سبيزيا في مباراته رقم 600 في الدوريات، ليصبح أول لاعب يسجل 20 هدفًا على الأقل على مدار 12 موسمًا متتاليًا في الدوريات الخمس الكبرى في أوروبا. في 9 مارس، خرج يوفنتوس من دوري أبطال أوروبا في دور الـ16 من قبل بورتو بقانون أهداف خارج الديار (4–4 في مجموع المباراتين). في 14 مارس، سجل الهاتريك رقم 57 بمسيرته في مباراة الفوز 3–1 خارج أرضه أمام كالياري.في 12 مايو، سجل هدفًا في الفوز 3–1 خارج أرضه على ساسولو، ليصل إلى هدفه رقم 100 مع يوفنتوس في جميع المسابقات. حقق هذا الرقم في مباراته رقم 131، ليصبح أسرع لاعب في يوفنتوس يحقق هذا الإنجاز. مع فوز يوفنتوس في نهائي كأس إيطاليا 2021 في 19 مايو، أصبح رونالدو أول لاعب في التاريخ يفوز بكل البطولات المحلية في إنجلترا وإسبانيا وإيطاليا. أنهى رونالدو موسم الدوري برصيد 29 هدفًا، وفاز بجائزة الكابوكانونيري لأفضل هداف وأصبح أول لاعب يكون الهداف في الدوري الإنجليزي والإسباني والإيطالي.في 22 أغسطس، بدأ رونالدو المباراة الأولى في الموسم الجديد على مقاعد البدلاء، حيث حل بديلاً عن ألفارو موراتا في 2–2 ضد أودينيزي. على الرغم من أن أليغري أكد أن هذا قراره بسبب لياقة رونالدو، إلا أنه جاء وسط إشاعات عن رحيل رونالدو عن النادي قبل إغلاق فترة الانتقالات، وقال رونالدو لأليغري إنه «ليس لديه نية» للبقاء لاعبًا في يوفنتوس. في 26 أغسطس، وافق رونالدو على الشروط الشخصية مع مانشستر سيتي، لكن النادي انسحب من الصفقة في اليوم التالي بسبب التكلفة الإجمالية للانتقال. في نفس اليوم، تم التأكيد على أن غريم السيتي مانشستر يونايتد، النادي السابق لرونالدو، يجري محادثات متقدمة للتعاقد معه، بينما كان المدير السابق أليكس فيرغسون والعديد من زملائه السابقين على اتصال معه لإقناعه بالتوقيع مع اليونايتد.\\n\\n\\n=== عودته لمانشستر يونايتد ===\\nفي 12 مارس 2022، سجل رونالدو هاتريك في مباراة الفوز 3–2 على توتنهام، ليصل إجمالي أهدافه إلى 807. يُعتقد أنه صاحب الرقم القياسي للأهداف المسجلة في كرة القدم الاحترافية، على الرغم من أن اتحاد كرة القدم في جمهورية التشيك يجادل بأن جوزيف بيكان سجل 821 هدفًا. في 16 أبريل، سجل الهاتريك رقمه الخمسين له مع الأندية في مباراة الفوز 3–2 على نورويتش سيتي. في 23 أبريل، سجل هدفه رقم 100 في الدوري الإنجليزي الممتاز في الهزيمة 3–1 أمام أرسنال.\\n\\n\\n==== 2021–2022: 100 هدف في الدوري الإنجليزي وصراعات الفريق ====\\nفي 27 أغسطس 2021، أعلن نادي مانشستر يونايتد عن عودة كريستيانو رونالدو بعد أن توصلوا إلى اتفاق مع يوفنتوس بشأن انتقاله، ويخضع الاتفاق للشروط الشخصية والتأشيرة والطبية. تم الإبلاغ عن تكلفة الانتقال المبدئية على أنها 12.85 مليون جنيه إسترليني، مع عقد لمدة عامين بالإضافة إلى سنة اختيارية، وتم تأكيده في 31 أغسطس. سيرتدي رونالدو القميص رقم 7 بعد أن وافق إدينسون كافاني على تغيير رقمه إلى الرقم 21؛ وأفادت التقارير أن أول 24 ساعة من بيع القمصان حطمت الرقم القياسي على التاريخي بعدد مبيعات القميص، وتجاوز ميسي الذي انتقل إلى باريس سان جيرمان.شارك رونالدو لأول مرة بعد عودته لمانشستر يونايتد في 11 سبتمبر، حيث سجل هدفين في الفوز 4–1 على نيوكاسل يونايتد في المباراة الرابعة من الدوري الإنجليزي الممتاز 2021–22. في 29 سبتمبر، سجل هدف الفوز في الدقيقة الأخيرة في فوز يونايتد 2–1 على أرضه أمام فياريال في دوري أبطال أوروبا. وشهدت المباراة أيضًا تجاوز رونالدو إيكر كاسياس باعتباره اللاعب الأكثر ظهورًا في تاريخ المسابقة. في المباراة التالية لدوري أبطال أوروبا في 20 أكتوبر، سجل رونالدو مرة أخرى هدف الفوز في اللحظة الأخيرة، مما ساعد يونايتد على قلب تأخره بهدفين في فوز 3–2 على أرضه ضد أتالانتا، وسجل كلا الهدفين، بما في ذلك هدف التعادل في اللحظة الأخيرة في مباراة الإياب ضد أتالانتا في 2 نوفمبر. في 23 نوفمبر، أصبح رونالدو أول لاعب يسجل في خمس مباريات متتالية من بطولة دوري أبطال أوروبا لنادي إنجليزي، بعد افتتاح يونايتد فوز 2–0 خارج أرضه ضد فياريال، حيث كانت أهدافه الستة حاسمة في تأهل يونايتد لدور الـ16. كتصدرين للمجموعة. في 2 ديسمبر، سجل رونالدو هدفين في فوز 3–2 على أرضه ضد أرسنال في الدوري الإنجليزي الممتاز، ليصبح أول لاعب يسجل أكثر من 800 هدف في مسيرته المهنية.في الشهر التالي، بعد أن كسرت علاقته مع زملائه في الفريق والمدير الفني المؤقت رالف رانغنيك، تراجع أداءه وأداء الفريق خلال الموسم، حيث عادل رونالدو أسوأ سلسلة تهديفية له منذ عام 2010 خلال الفترة التي قضاها مع ريال مدريد، حيث مر شهرين دون تسجيل أي هدف، قبل أن يسجل هدفه الأول في العام الجديد، افتتح هدف يونايتد في فوزه 2–0 على برايتون أند هوف ألبيون في 15 فبراير 2022. بعد إصابة في أوتار الركبة، والتي جعلته يغيب عن ديربي مانشستر ضد مانشستر سيتي، عاد رونالدو من الإصابة في 12 مارس، بتسجيله هاتريك في الفوز 3–2 على توتنهام هوتسبير، والذي جعله يتجاوز سجل جوزيف بيكان كأكثر لاعب تسجيلًا للأهدف الرسمية برصيد 807 أهدافًا خلال مسيرته المهنية، على الرغم من أن اتحاد كرة القدم في جمهورية التشيك ادعى أن بيكان كان لديه سجل 821 هدفاً رسميًّا. في 16 أبريل، سجل رونالدو الهاتريك رقم 50 مع الأندية في الفوز 3–2 على نورويتش سيتي. في 23 أبريل، سجل هدفه رقم 100 في الدوري الإنجليزي الممتاز في الهزيمة 3–1 أمام أرسنال. بعد تسجيله في المباريات التالية ضد تشيلسي وبرينتفورد، حصل على جائزة أفضل لاعب في الدوري الإنجليزي لشهر أبريل.أنهى الموسم برصيد 24 هدفًا في جميع المسابقات، 18 من تلك الأهداف كانت في الدوري الإنجليزي الممتاز، مما جعله ثالث أفضل هداف في الدوري خلف الفائزين بالحذاء الذهبي محمد صلاح وسون هيونغ مين، وأُختير في فريق الدوري الإنجليزي ورُشِّح لجائزة أفضل لاعب في العام وفاز بجائزة السير مات بسبي لأفضل لاعب في يونايتد، والتي تُمنح لأفضل لاعب في النادي من الموسم السابق؛ ومع ذلك، مع احتلال يونايتد المركز السادس المخيب للآمال والتأهل للدوري الأوروبي، أنهى رونالدو الموسم بلا ألقاب لأول مرة منذ عام 2010.\\n\\n\\n==== 2022: الموسم الأخير والمغادرة ====\\nبعد تزايد الاستياء من اتجاه يونايتد داخل وخارج الملعب، غاب رونالدو عن جولة النادي قبل الموسم لتايلاند وأستراليا لأسباب عائلية، وسط تقارير عن رغبته في المغادرة للانضمام إلى نادٍ ينافس في دوري أبطال أوروبا، على الرغم من قدومه. أصر المدير إيرك تين هاغ على أن عقده ليس للبيع وأنه جزء من خطط النادي. بدأ وكيله خورخي مينديز التفاوض مع العديد من الأندية من أجل انتقاله على سبيل الإعارة أو على انتقال مجاني، بما في ذلك بايرن ميونخ وباريس سان جيرمان وتشيلسي، مع حرص المالك الجديد للنادي تود بولي على الانتقال المحتمل. ومع ذلك، نظرًا لسنه والتكلفة الإجمالية للانتقال ومطالب الأجور المرتفعة، رفضت العديد من الأندية الأوروبية فرصة التوقيع معه، بما في ذلك تشيلسي بعد أن لم يوافق مدربهم توماس توخل على توقيعه.\\nبعد أن فشل في تأمين الانتقال، فقد رونالدو مكانه في التشكيلة الأساسية لماركوس راشفورد وأنتوني مارسيال، ولم يشارك إلا في مباريات الدوري الأوروبي. سجل هدفه الأول في المسابقة وهو يبلغ من العمر 37 عامًا، وقام بتحويل ركلة جزاء ليجعلها 2–0 ضد شريف تيراسبول في 15 سبتمبر. في 2 أكتوبر، كان رونالدو بديلاً لم يشارك في خسارة يونايتد 6–3 أمام مانشستر سيتي، حيث قال تين هاغ إنه رفض إشراكه من منطلق «احترامه لمسيرته الكبيرة». في 9 أكتوبر، دخل رونالدو كبديل وسجل هدفه رقم 700 في مسيرته بالفوز 2–1 على إيفرتون. بعد عشرة أيام، رفض رونالدو الاستعانة به كبديل خلال مباراة على أرضه ضد توتنهام وغادر أرض الملعب قبل صافرة نهاية المباراة. عاقبه تين هاغ بإسقاطه من الفريق لمباراة قادمة مع تشيلسي، وجعله يتدرب بشكل منفصل عن الفريق الأول. بعد مناقشات مع المدرب، عاد رونالدو إلى التدريب وبدأ في فوز يونايتد على ضيفه شريف في 27 أكتوبر، وسجل الهدف الثالث وضمن تأهل يونايتد إلى مرحلة خروج المغلوب في الدوري الأوروبي. اختار تين هاغ رونالدو قائداً في الهزيمة 3–1 أمام أستون فيلا في 6 نوفمبر، قائلاً إن رونالدو كان «جزءًا مهمًا من الفريق، ونحن سعداء به والآن عليه أن يتولى دور القائد أكثر». ثم غاب رونالدو عن مباريات يونايتد التالية قبل استراحة كأس العالم، حيث قال تين هاغ إن رونالدو مريض.في 14 نوفمبر، نُشرت مقابلة مع بيرس مورغان، حيث قال رونالدو إنه شعر «بالخيانة» من قبل تن هاغ وكبار المديرين التنفيذيين الذين أرادوا أن يترك رونالدو النادي، واتهم النادي بالتشكيك فيه فيما يتعلق بمرض ابنته الذي أدى إلى ذلك. غاب عنه الموسم المقبل، مضيفا أنه لا يحترم تن هاغ «لأنه لا يحترمني»، مما جعله يشعر بخيبة أمل من اتصالات النادي. ادعى رونالدو أن تين هاغ استفزه عمدا من خلال تركه على مقاعد البدلاء في البداية ضد السيتي، ثم رغبته في ضمه في اللحظات الأخيرة ضد توتنهام، لكنه أضاف أنه يأسف لقراره الرحيل مبكرًا. كما شكك في تعيين رانغنيك الموسم السابق لأنه كان «مديرًا رياضيًا وليس حتى مدربًا». فيما يتعلق بالنادي نفسه، صرح رونالدو بأنه «لم يكن هناك تطور» منذ رحيل المدرب السابق أليكس فيرغسون في 2013، على الرغم من توقع تغييرات في «التكنولوجيا والبنية التحتية». وزعم رونالدو أن عائلة غليزر «لا تهتم بالنادي» لأنه لم يتحدث معهم أبدًا، ووصف يونايتد بأنه «نادي تسويقي». بعد المقابلة، التي بُثَّت في جزأين في 16 و17 نوفمبر، بدأ يونايتد في السعي للحصول على إجراءات قانونية بشأن ما إذا كان رونالدو قد خرق عقده، وكان يتطلع إلى إنهاء عقده. في 22 نوفمبر، أُنهي عقد رونالدو باتفاق متبادل بأثر فوري.\\n\\n\\n=== النصر ===\\nفي 30 ديسمبر 2022، توصل نادي النصر السعودي إلى اتفاق بشأن انضمام رونالدو إلى النادي اعتبارًا من 1 يناير 2023، ووقع عقدًا حتى عام 2025. كما أفاد فابريزيو رومانو من صحيفة الغارديان، أن رونالدو حصل على أعلى راتب في تاريخ  كرة قدم، بقيمة 200 مليون يورو  في السنة؛ وشمل ذلك راتباً سنوياً مضموناً قدره 90 مليون يورو، مع صفقات تجارية ورعاية تضمنت رفع إجمالي راتبه السنوي إلى 200 مليون يورو. وبحسب ما ورد حصل أيضًا على مكافأة توقيع في المنطقة بقيمة 100 مليون يورو. وبحسب رومانو، رفض رونالدو الانتقال إلى سبورتينغ كانساس سيتي الأمريكي من أجل الانتقال إلى النصر.\\n\\n\\n==== 2022–2023: الموسم الأول ووصيف الدوري ====\\nكان من المقرر أن يظهر رونالدو في مباراة ضد الطائي في 5 يناير 2023، لكن كان عليه أن يقضي عقوبة الإيقاف لمدة مباراتين أثناء وجوده في مانشستر يونايتد بسبب قيامه برمي هاتف من يد أحد مشجعي إيفرتون البالغ من العمر 14 عامًا أرضًا، وذلك بعد  خسارة 1–0 في جوديسون بارك في أبريل 2022. في 19 يناير، لعب رونالدو لأول مرة منذ انتقاله إلى المملكة العربية السعودية، في مباراة استعراضية شارك فيها فريق مُشترك من لاعبي النصر والهلال في الرياض ضد باريس سان جيرمان. سجل رونالدو هدفين في مباراة خسر فيها فريقه 5–4. ظهر لأول مرة مع النصر في 22 يناير كقائد للنادي، ولعب 90 دقيقة كاملة وانتهت بالفوز 1–0 على الاتفاق. وسجل هدفه الأول في المباراة التي تعادل فيها فريقه 2–2 أمام الفتح باستغلال ركلة جزاء في الدقيقة الأخيرة. في 9 فبراير، سجل رونالدو جميع الأهداف الأربعة في مباراة الفوز 4–0 على الوحدة، وكان هدفه الأول في المباراة هو هدفه رقم 500 في الدوري. في 25 فبراير، سجل ثاني ثلاثية له مع النادي، مما ساعد فريقه على الفوز 3–0 خارج أرضه في الدوري ضد ضمك. وحصل رونالدو على جائزة أفضل لاعب في شهر فبراير بعد أن سجل ثمانية أهداف وصنع هدفين. وقضى رونالدو موسمًا آخر دون الفوز بلقب الدوري، حيث احتل النصر المركز الثاني في الدوري في موسم 2022–23.\\n\\n\\n==== 2023–الآن: بطل كأس العرب للأندية الأبطال ====\\nأدى توقيع رونالدو للنصر إلى زيادة شعبيته محليًا ودوليًا، حيث انتقل العديد من اللاعبين الأوروبيين مثل كريم بنزيما، وساديو ماني، ونغولو كانتي، وروبن نيفيز، ورياض محرز، وروبرتو فيرمينو ونيمار إلى دوري المحترفين السعودي، خلال فترة الانتقالات الصيفية، مما يُنسب إلى رونالدو باعتباره أحد العوامل الرئيسية للانتقال إلى الدوري.سجل هدفه الأول في موسم 2023–24 في الفوز 4–1 على الاتحاد المنستيري في كأس العرب للأندية الأبطال يوم 31 يوليو. في المباراة القادمة في كأس العرب للأندية الأبطال يوم 3 أغسطس، سجل رونالدو هدف الفوز في الدقيقة الأخيرة ضد الزمالك، ليساعد فريقه على تأمين التعادل 1-1 والتأهل إلى ربع النهائي في المركز الثاني من مجموعتهم. في الدور نصف النهائي يوم 9 أغسطس، سجل رونالدو الهدف الوحيد للفوز على الشرطة، حيث حول ركلة جزاء لمساعدة النصر في الوصول إلى نهائي كأس أبطال الأندية العربية لأول مرة. في المباراة النهائية يوم 12 أغسطس، سجل رونالدو هدفي النصر بعشرة لاعبين ليتغلب على غريمهم الهلال 2–1 بعد الوقت الإضافي ليفوز بالبطولة لأول مرة في تاريخه. حصل رونالدو على جائزة هداف البطولة بعد أن سجل ستة أهداف في المسابقة. في 18 أغسطس، شارك رونالدو لأول مرة في الدوري هذا الموسم في الخسارة 2–0 أمام التعاون. في 25 أغسطس، سجل رونالدو أول هاتريك له في الدوري السعودي للمحترفين في الفوز 5–0 خارج أرضه أمام الفتح. في 29 أغسطس، سجل رونالدو هدفين وصنع أخر في الفوز 4–0 على منافسهم الشباب. حصل رونالدو على جائزة أفضل لاعب في شهر أغسطس بعد أن سجل خمسة أهداف وصنع هدفين. في 2 سبتمبر، سجل هدفًا في فوز النصر خارج أرضه 5–1 على الحزم، وهو هدفه رقم 850 في مسيرته.\\n\\n\\n== مسيرته الدولية ==\\n\\n\\n=== 2001–07: الفئات السنية الشباب ومسيرته الدولية المبكرة ===\\nلعب رونالدو لأول مرة مع منتخب البرتغال ضد منتخب كازاخستان والتي فاز بها البرتغال 1–0 يوم 20 أغسطس 2003.استدعي رونالدو للقائمة المشاركة في بطولة أمم أوروبا 2004 المقامة في بلاده البرتغال سجل رونالدو هدفه الدولي الأول في مسيرته في المباراة الافتتاحية ضد منتخب اليونان. وسجل مرة أخرى في مباراة نصف النهائي أمام هولندا واختير كريستيانو ضمن فريق البطولة، بعدما ساهم بصناعة هدفين وتسجيل مثلهما.في صيف 2004 وبعد انتهاء بطولة أمم أوروبا 2004 استدعي كريستيانو رونالدو لتمثيل منتخب البرتغال في دورة الألعاب الأولمبية الصيفية لعام 2004. وشهدت مشاركته الأولمبية الأولى تسجيله لأول أهدافه في البطولات الأولمبية عندما واجهت البرتغال المنتخب المغربي. لكن في النهاية تم إقصاء المنتخب البرتغال بعدما احتل المركز الأخير في مجموعته برصيد 3 نقاط من فوز وحيد.كريستيانو رونالدو كان ثاني هدافي تصفيات المؤهلة لكأس العالم 2006 في المنطقة الأوروبية برصيد 7 أهداف.، سجل أول أهدافه في النهائيات في مرمى المنتخب الإيراني عن طريق ضربة جزاء.1 يوليو 2006، خلال مباراة الربع النهائي أمام إنجلترا، كان لرونالدو دور في واقعة طرد زميله بالفريق الإنجليزي واين روني بعدما داس الأخير على اللاعب البرتغالي ريكاردو كارفاليو، حيث تكهنت الصحف الإنجليزية بأن رونالدو أثر على قرار الحكم هوراسيو اليزوندو لإخراج البطاقة الحمراء في وجه زميله. بسبب هذه الحادثة تعرض رونالدو لتوبيخ وسخرية الجماهير الإنجليزية عند بداية الموسم الكروي بإنجلترا، مما أدى إلى تفكيره في الرحيل من نادي مانشستر يونايتد. ولكنه عدل عن رأيه وجدد عقده لخمس سنوات إضافية. خسر رونالدو في النصف النهائي أمام فرنسا بقيادة الأسطورة زين الدين زيدان. استهجن رونالدو سقوط منتخبه في النصف النهائي أمام فرنسا، وغاب عن سباق الفوز بجائزة أحسن لاعب شاب بسبب حملة الإنجليز ضده في الاستفتاء.\\n\\n\\n=== 2007–12: استلام شارة القيادة ===\\n\\nسجل رونالدو ثمانية أهداف في التصفيات المؤهلة ليورو 2008 وحل في المركز الثاني خلف اللاعب البولندي إوزيبيوس سمولاريك، ولكنه في البطولة سجل هدف وحيد في مرمى المنتخب التشيكي، سقط رونالدو والمنتخب البرتغالي أمام المنتخب الألماني بـ3–2 في الدور الربع النهائي. بعد البطولة تم تعيين كارلوس كيروش مدربا للمنتخب في يوليو 2008، ورونالدو قائدا للمنتخب. رونالدو اختير رجل المباراة أمام جمهورية التشيك في المجموعة الأولى من البطولة الأوروبية.15 يونيو 2010، افتتحت البرتغال مباريات كأس العالم ضد منتخب ساحل العاج، حيث تعرض رونالدو لعرقلة من طرف الظهير الأيمن جاي ديميل، مما أدى إلى مشادات بينهما. أختير رونالدو كرجل المباريات الثلاث بالمجموعة السابعة. وجاء هدفه الوحيد في البطولة في مباراة البرتغال ضد منتخب كوريا الشمالية والتي انتهت بـ7–0. في نهاية المطاف سقطت البرتغال في الدور 16 من طرف إسبانيا.\\nسجل رونالدو 7 أهداف مع المنتخب البرتغالي في التصفيات المؤهلة لبطولة أمم أوروبا 2012، بما في ذلك هدفين في المباراة الفاصلة ضد منتخب البوسنة، وحلّ في المركز الثاني في ترتيب الهدافين وراء الألماني ميروسلاف كلوزه والهولندي كلاس يان هونتيلار (دون جولة المباريات الفاصلة). ووقعت البرتغال في المجموعة الثانية مع هولندا و\\u200cألمانيا و\\u200cالدانمارك، وسميت هذ المجموعة باسم «مجموعة الموت»، وذكر رونالدو «لن أدخر أي جهد مني لأرفع هذه الكأس مع البرتغال».واجهت البرتغال منتخب ألمانيا في أول مباراة لها في بطولة كأس الأمم الأوروبية 2012، وخسرت اللقاء بنتيجة هدف مقابل لاشي. بعد اللقاء اُنتُقِدَ رونالدو لسود أداءه، وظهرت ملامح الإحباط في وجهة، فقد اتجه لغرفة الملابس فوراً بعد نهاية المباراة دون أن يشكر الجماهير. دافع صديقه بالمنتخب ناني عن كريستيانو بعدما صرح أن كريستيانو غادر أرض الملعب لأنه بحاجة إلى أن يتعامل على الفور مع الإصابة التي ألمت به. في اللقاء الثاني أمام منتخب الدنمارك والذي انتهى بفوز البرتغال بنتيجة 3–2. في أثناء تلك المباراة هتفت جماهير الدنمارك باسم اللاعب ليونيل ميسي كلما استلم كريستيانو الكرة. وبعد انتهاء اللقاء صرح استلم قائلاً: أتعلمون، ميسي في الموسم الماضي في مثل هذا الوقت ودع بطولة كوبا أمريكا على أرضه وأعتقد أن هذا أسوأ. وفي اللقاء الأخير من دور المجموعات واجهت منتخب البرتغال منتخب هولندا واستطاع كريستيانو أن يسكت منتقديه بتسجيله هدفي الفوز وبحصوله على لقب أفضل لاعب في اللقاء.في الأدوار الإقصائية من بطولة كأس الأمم الأوروبية 2012، واجه منتخب البرتغال منتخب التشيك في لقاء شهد تسجيل كريستيانو هدف الفوز الوحيد في الدقيقة 79 بعدما استغل تمريرة من زميله جواو موتينيو وتأهلت البرتغال للنصف النهائي. اصطدم منتخب البرتغال ببطل النسخة السابقة لتلك البطولة منتخب إسبانبا، حيث خسرت البرتغال بركلات الترجيح. قبل وطوال البطولة، أشاد أسطورة منتخب الأرجنتين دييغو مارادونا بنجم البرتغال كريستيانو، فقد صرح أكثر من مرة أنه «أفضل لاعب على هذا الكوكب، وأن كريستيانو رونالدو أظهر لأبناء بلده أنه يستحق نصبا تذكاريا في لشبونة».أدرج رونالدو في التشكيلة المثالية لبطولة يورو 2012، للمرة الثانية بعد يورو 2004، وأنهى المنافسة هدافا للبطولة مشاركة مع خمسة لاعبين بثلاثة اهداف، على الرغم من حصول الأسباني فرناندو توريس على الحذاء الذهبي للبطولة، وعلى الرغم من عدم وجود مباراة فاصلة لمعرفة صاحب المركز الثالث، قام الاتحاد الأوروبي بتوزيع الميداليات البرونزية على المنتخبين البرتغالي والألماني.\\n\\n\\n=== 2012–16: هداف البرتغال التاريخي وبطل أوروبا ===\\nفي 17 أكتوبر 2012، خاض كريستيانو رونالدو مباراته ال100 مع منتخب البرتغال ضد منتخب أيرلندا الشمالية على ملعب التنين، ويصبح بذلك ثالث أصغر لاعب أوروبي يصل إلى 100 مباراة دولية بعد كل من لوكاس بودولسكي لاعب المنتخب الألماني وكريستن فيكامي لاعب منتخب إستونيا. في 14 أغسطس 2013، سجل رونالدو هدفه 40 مع منتخب البرتغال في المباراة الودية التي انتهت 1–1 أمام منتخب هولندا. في 6 سبتمبر 2013، وعلى استاد ويندسور بارك في أيرلندا الشمالية، استطاع كريستيانو أن يسجل أول هاتريك في 15 دقيقة له مع منتخب البرتغال على منتخب أيرلندا الشمالية ضمن تصفيات أوروبا لكأس العالم 2014، وليصبح بذلك ثاني أفضل هداف في تاريخ منتخب البرتغال بعد باوليتا. بعد أهدافه الثلاثة في مرمى منتخب أيرلندا الشمالية أصبح كريستيانو أول لاعب برتغالي يسجل لمصلحة منتخب البرتغال في ثلاث مباريات متتالية. في 15 نوفمبر 2013، لعبت البرتغال مباراة الذهاب ضد السويد في الملحق النهائي المؤهل إلى كأس العالم 2014، وسجل كريستيانو رونالدو هدف المباراة الوحيد برأسية في الدقيقة ال82.\\nفي إياب الملحق الأوروبي المؤهل لكأس العالم 2014 في 19 نوفمبر 2013، سجل كريستيانو رونالدو ثلاثية أمام منتخب السويد وانتهت المباراة بثلاثة أهداف لهدفين ليقود بذلك المنتحب البرتغالي إلى كأس العالم 2014، وأصبح كريستيانو رونالدو الهداف التاريخي لمنتخب البرتغال مناصفة مع باوليتا بـ47 هدف. وبهذا حصد كريستيانو على جائزة أفضل هداف دولي في 2013 والمقدمة من قبل الاتحاد الدولي لتاريخ وإحصاءات كرة القدم برصيد 25 هدفاً.في 5 مارس 2014، أثناء المباراة الودية مع منتخب الكاميرون التي انتهت بفوز البرتغال بنتيجة 5–1، سجل كريستيانو رونالدو هدفين محطمًا بهما الرقم القياسي لأفضل هداف في تاريخ منتخب البرتغال المسجل باسم باوليتا ليرفع رصيده إلى 49 هدف. \\nانتقل المنتخب البرتغالي للمشاركة في كأس العالم 2014 في البرازيل معتمدًا على قدرات نجمه الأول رونالدو. ومع ذلك، فقد عانى كريستيانو من إصابة في الفخذ كان تعرض لها أثناء الموسم مع فريقه الإسباني ريال مدريد حالت من حرية تنقله خاصة عند الجري، وأكدت الجمعية البرتغالية لكرة القدم يوم 4 يونيو 2014 أن لديه «إصابة في العضلات في الجزء الخلفي من فخذه الأيسر، وكذلك في التهاب في أوتار الساق اليسرى».\\nتدرب رونالدو بانتظام بصرف النظر عن عدم مشاركته في التربص التحضيري في البرتغال، حتى لا تتفاقم إصاباته. رغم الشكوك لعب رونالدو أول مباراة مع المنتخب الألماني وتمكن من لعب 90 دقيقة كاملة وانتهت المباراة بخسارة البرتغال بنتيجة 4–0. ثاني مباراة كانت مع المنتخب الأمريكي وانتهت بالتعادل 2–2، بحيث ساهم رونالدو في الهدف الثاني بتمريرة حاسمة. والمباراة الأخيرة ضد منتخب غانا انتهت بفوز البرتغال بنتيجة 2–1 وسجل فيها كريستيانو هدفا كان الهدف 50 مع المنتخب، ولكن بالرغم من هذا الفوز، خرجت البرتغال من كأس العالم بفارق الأهداف مع أمريكا والذي كان (–3)، في المباراة الأخيرة أُختير كريستيانو رجلا للمباراة.\\n\\nسُحبت قرعة البطولة في فرنسا أواخر عام 2015 وأوقعت رونالدو و\\u200cمنتخبه البرتغالي في المجموعة السادسة والأخيرة إلى جانب منتخبات المجر، النمسا و\\u200cآيسلندا وكانت بداية مشواره في البطولة من بوابة هذا الأخير (منتخب آيسلندا) يوم 14 يونيو 2016 حيث انتهت المباراة بالتعادل بهدف لمثله، وانتقد رونالدو بعد المباراة أسلوب لعب الآيسلنديين حيث قال بأنهم لم يحاولوا فعل شيء بل اكتفوا بالدفاع ووصف ليلة المباراة بأنها ليلة حظّهم، وواجه انتقادات لاذعة من الصحافة الأوروبية بعد هذه التصريحات، وفي هذه المباراة عادل رونالدو رقم لويس فيغو كأكثر اللاعبين مشاركة مع المنتخب البرتغالي بـ127 مباراة، الرقم الذي سرعان ما انفرد به في المباراة الثانية التي واجه فيها منتخب النمسا على ملعب البارك دي برينس في باريس، ورغم سيطرة رفقاء رونالدو على معظم أطوار اللقاء ورغم المحاولات العديدة التي قام بها رونالدو بنفسه إلاّ أنه لم يتمكّن من تسجيل الهدف رغم هزّه للشباك في الدقيقة 84' حين رفض الحكم الهدف بسبب وجود رونالدو في موقف التسلّل، وذلك بعد دقائق من حصوله على ركلة جزاء سدّدها بنفسه وارتطمت بالقائم الأيمن للحارس النمساوي، ليخرج الفريقان بالتعادل السلبي، ويحصل رونالدو على جائزة أفضل لاعب في المباراة،\\nفي الجولة الثالثة والختامية واجهت البرتغال منتخب المجر وكان التعادل كافياً للبرتغاليين للتأهّل لثمن النهائي، ورغم مبادرة المجريين بالتقدّم بأول الأهداف في أول عشرين دقيقة، إلاّ أن ناني تمكّن من إدراك التعادل مستغلاًّ تمريرة سحرية من رونالدو قبل نهاية الشوط الأول بدقائق، ثم عاود المجريون التقدّم مع بداية الشوط الثاني إلاّ أن رونالدو أدرك التعادل بعدها بقليل بهدف مُذهل سجّله بكعب قدمه في لقطة فنية رائعة، هدف جعله يدخل التاريخ كأول لاعب يُسجل في أربع نسخ متتالية في بطولات اليورو، وأول لاعب يُسجل في سبع بطولات كبرى متتالية في التاريخ (يورو 2004، كأس العالم 2006، يورو 2008، كأس العالم 2010، يورو 2012، كأس العالم 2014 و\\u200cيورو 2016) ثمّ تقدّم المجريون مجدداً بالهدف الثالث، ليعود الدون مُجددا ويدرك التعادل من جديد وتنتهي المباراة بالتعادل 3–3، ليقود منتخب بلاده للدوري الثاني (كأحد أفضل ثوالث المجموعات) حيث حصل على رجل المباراة مرة أخرى وتلقى بعدها إشادات كبيرة من الصحافة والنقاد،\\nفي ثمن النهائي واجهوا المنتخب الكرواتي متصدر المجموعة الرابعة والقادم من فوز مُهمّ على حاملة اللقب إسبانيا جعله يتصدّر المجموعة بسبع نقاط، أقيم اللقاء على ملعب ملعب بولار دولولي بمدينة لنس وانتهى في وقته الأصلي بالتعادل من دون أهداف، ليلجأ للأشواط الإضافية التي تمكّن خلالها الجناح ريكاردو كواريسما من تسجيل هدف الفوز القاتل للبرتغال في الدقيقة 117 بعد تلقّيه كرة مرتدّة من الحارس بعد تسديدة رونالدو، ليتأهّل الفريق لربع النهائي الذي واجه فيه نظيره البولندي الذي تخطّاه بركلات الترجيح بعد التعادل 1–1 في المباراة، وسجّل رونالدو الركلة الأولى لمنتخب بلاده،\\nفي نصف النهائي قابل المنتخب الويلزي الذي أطلق عليه الحصان الأسود في البطولة، وبعد نهاية الشوط الأول من المباراة سلبياً تمكّن رونالدو من افتتاح النتيجة برأسية متقنة بعد أن ارتقى فوق المدافعين، وصنع بعدها الهدف الثاني لزميله ناني بعدها بثلاثة دقائق ليقود منتخبه لنهائي البطولة للمرة الثانية في آخر اثني عشر عاماً، ويدخل التاريخ بعدما أصبح هداف بطولة اليورو التاريخ بتسعة أهداف (بالتشارك مع الفرنسي بلاتيني) وأصبح أكثر اللاعبين مشاركة في المسابقة أيضاً بعشرين مباراة (عزّزها في النهائي لتصبح 21)\\nوفي النهائي ضد منتخب الديوك الفرنسية أصيب رونالدو في الدقيقة الثامنة من المباراة بعد التحام مع الفرنسي ديميتري باييت، في البداية حاول التحامل على الإصابة قبل أن ينهار باكياً بعد تأكّده من عدم قدرته على المواصلة ليخرج في الدقيقة 24، بعدها امتدّت المباراة لأشواط إضافية تمكّن فيها البرتغاليون من اقتناص الفوز بفضل هدف اللاعب إيدر في الشوط الإضافي الثاني، لتنهمر دموع رونالدو مُجدداً وهذه المرة فرحاً بأول لقب يفوز به مع منتخب بلاده، ويتوج بالحذاء الفضي للبطولة كثاني أفضل هدّاف في البطولة بثلاثة أهداف، ولكنه أهدى الجائزة لزميله ناني.\\n\\n\\n=== 2016–18: ما بعد الفوز باليورو، وكأس العالم ===\\nفي 18 يونيو 2017 بدأ مع منتخب بلاده البرتغال في رحلة المنافسة على لقب كأس القارات 2017 ضد منتخب المكسيك وتعادلا بهدفين لمثلهما، وصنع رونالدو الهدف الأول لمنتخبه بتمريرة سحرية لزميله ريكاردو كواريسما. وحصل على جائزة أفضل لاعب في المباراة. وفي 21 يونيو لعب المباراة الثانية أمام المستضيف والمتصدر منتخب روسيا أستطاع رونالدو قيادة منتخب بلاده بعد أن سجل هدف من رأسية رائعة سكنت شباك حارس المنتخب الروسي إيغور أكينفيف لتنتهي المباراة بهذا الهدف بنتيجة 1–0. وحصل للمباراة الثانية على التوالي على لقب أفضل لاعب في المباراة. وفي 24 يونيو لعب المباراة الثالثة أمام منتخب نيوزلندا وفاز المنتخب البرتغالي بنتيجة 4–0 وأفتتح رونالدو التسجيل من ركلة جزاء واستطاع التأهل مع منتخبه إلى دور نصف النهائي من البطولة بالمركز الأول بفارق الأهداف عن المنتخب المكسيكي. وحصل للمباراة الثالثة على التوالي على لقب أفضل لاعب في المباراة. \\nوبعد التأهل لنصف النهائي قابل منتخبه البرتغال منتخب تشيلي ثاني المجموعة ب. ولم يستطيع أي الفريقين من هز شباك الآخر في 120 دقيقة واحتكموا لركلات الجزاء وتأهل المنتخب التشيلي بنتيجة 3–0 ولم يسدد رونالدو أي ركلة. وبذلك انتهت رحلة رونالدو مع منتخبه في تحقيق بطولة كأس القارات 2017 واكتفى بالوصول إلى نصف النهائي.في 15 يونيو 2018 شارك رونالدو في أول مباراة لمنتخب بلاده في مونديال روسيا 2018. وسجل أول هاتريك له في تاريخ مشاركاته بالمونديال، ليساعد البرتغال على تحقيق التعادل 3–3 أمام إسبانيا. كما حصل على لقب رجل المباراة نظير أداءه المميز خلال اللقاء. في 20 يونيو، لعب كريستيانو مباراته الثانية في كأس العالم 2018 ضد المنتخب المغربي. واستطاع أن يهز الشباك في الدقيقة الرابعة من زمن المباراة لتنتهي المباراة بذلك الهدف. وحصل على رجل المباراة للمباراة الثانية على التوالي، كما أصبح هداف كأس العالم بتسجيله 4 أهداف حتى تلك الجولة. في 25 يونيو، كان المنتخب البرتغالي بحاجة إلى التعادل أو الفوز من أجل التأهل إلى الدور الثاني من كأس العالم. انتهت المباراة بالتعادل 1–1 وأضاع كريستيانو ركلة جزاء خلال الشوط الثاني من المباراة. تأهل البرتغال للدور الثاني ليقابل الأوروغواي في دور الستة عشر من البطولة في 30 يونيو. وانتهت المباراة بخسارة البرتغال 2–1 لتغادر البطولة. أنهى كريستيانو مشوارة بهذه البطولة –والتي يُتوقع بأنها الأخيرة له– بتسجيله لأربعة أهداف في أربعة مباريات لعبها.\\n\\n\\n=== 2018–20: لقب دوري الأمم الأوروبية و100 هدف دولي ===\\nبعد كأس العالم 2018، غاب عن رونالدو عن ست مباريات دولية، بما في ذلك مرحلة الدوري بأكمله من دوري الأمم الأوروبية 2018–19. فيما يتعلق بهذه التوقف القصير، قال مدرب البرتغال فرناندو سانتوس في وقت لاحق: «غيابه عن مراحلة التصفيات تم شرحه جيدًا وكان قرارًا مشروعًا تمامًا ومفهومًا. وأوضح لنا وجهة نظرة. لقد تفهّمنا أنه من الأفضل أنه لا يكون معنا في تلك الفترة». عاد رونالدو إلى الساحة الدولية في أول مباراتين من تصفيات بطولة أمم أوروبا 2020 ضد أوكرانيا و\\u200cصربيا، في مارس 2019. ومع ذلك، فقد تعرض لإصابة في أوتار الركبة خلال المباراة الأخيرة، واضطر إلى التغيب عن مباريات يوفنتوس الخمس المقبلة في الدوري نتيجة لذلك.أكد سانتوس في أوائل مايو أنه إذ لم يتعرض رونالدو لأي إصابات، فإنه سيلعب «بالتأكيد» مع البرتغال في نهائيات دوري الأمم الأوروبية. في الدور نصف النهائي في 5 يونيو 2019 وفي أول مشاركة له في البطولة، سجل رونالدو هاتريك ضد سويسرا في مباراة الفوز 3–1؛ ليقود منتخب بلاده إلى النهائي. في 14 أكتوبر، سجل هدفه رقم 700 في مسيرته مع الأندية والمنتخب من ركلة جزاء، في مشاركته رقم 1000 في مسيرته، حيث خسر 2–1 أمام أوكرانيا في التصفيات المؤهلة لنهائيات بطولة أمم أوروبا 2020. في 8 سبتمبر 2020، سجل رونالدو هدفيه رقم 100 و101 دوليًا في الفوز 2–0 خارج أرضه أمام السويد في مباراة في دوري الأمم الأوروبية 2020–21، ليصبح ثاني لاعب على في التاريخ – والأول في أوروبا – يصل إلى 100 هدف. في 13 أكتوبر 2020، أعلن الاتحاد البرتغالي لكرة القدم أن اختبار رونالدو إيجابي لمرض فيروس كورونا ولم تظهر عليه الأعراض. بحلول 30 أكتوبر، تعافى رونالدو.\\n\\n\\n=== 2021–الآن: أفضل هداف دولي في التاريخ ===\\nفي 15 يونيو 2021، سجل رونالدو ثنائية في المباراة الافتتاحية للمنتخب البرتغالي في بطولة أمم أوروبا 2020 أمام المجر في بودابست. قاده هذا إلى تسجيل 11 هدفًا في بطولة أمم أوروبا، بفارق هدفين عن ميشيل بلاتيني كأفضل هداف في تاريخ البطولة. بالإضافة إلى ذلك، أصبح أول لاعب يشارك ويسجل في خمس بطولات أوروبية، وفي 11 بطولة دولية متتالية. كما أصبح أكبر لاعب يسجل هدفين في مباراة واحدة في بطولة أمم أوروبا، وأكبر لاعب يسجل للبرتغال في بطولة كبرى. في 23 يونيو، سجل ركلتي جزاء في تعادل البرتغال 2–2 مع فرنسا في آخر مباراة في دور المجموعات، معادلاً الرقم القياسي لعلي دائي البالغ 109 أهداف دولية. علاوة على ذلك، أصبح هداف نهائيات كأس العالم والبطولات الأوروبية مجتمعة، حيث حطم الرقم القياسي السابق الذي كان يحمله ميروسلاف كلوزه بـ21 هدفًا. في 27 يونيو، تم إقصاء البرتغال من البطولة بعد الخسارة 1–0 أمام بلجيكا في دور الـ16. أنهى رونالدو البطولة بخمسة أهداف (بالشراكة مع التشيكي باتريك شيك) وتمريرة حسامة واحدة، وحصل على الحذاء الذهبي كأفضل هداف في البطولة.في 1 سبتمبر، سجل رونالدو هدفين برأسه في الفوز 2–1 على أرضه ضد جمهورية أيرلندا في تصفيات كأس العالم على ملعب ألغارفي، والذي جعله يتخطى الرقم القياسي الدولي لدائي في عدد الأهداف (109) ليصبح صاحب الرقم القياسي الوحيد. في 9 أكتوبر، سجل الهدف الافتتاحي في مباراة الفوز الودية 3–0 على قطر على ملعب الغارفي. مع ظهوره الدولي رقم 181، محطّمًا أيضًا الرقم القياسي لسيرخيو راموس في أكبر عدد من المباريات الدولية التي شارك فيها لاعب أوروبي. في المباراة التالية ضد لوكسمبورغ في 12 أكتوبر، لُعبت أيضًا في ملعب ألغارفي، سجل رونالدو هاتريك في فوز البرتغال 5–0، وأصبح أول لاعب يسجل 10 هاتريك في كرة القدم الدولية للرجال.\\n\\n\\n==== كأس العالم 2022 ====\\nاُختير رونالدو في تشكيلة البرتغال المشاركة في كأس العالم 2022 في قطر، مما يجعلها كأس العالم الخامسة له. في 24 نوفمبر، في المباراة الافتتاحية للبرتغال ضد غانا، سجل رونالدو ركلة جزاء وأصبح أول لاعب يسجل في خمس بطولات مختلفة لكأس العالم؛ حيث استطاع أن يحرز أهدافًا في جميع النسخ التي شارك بها. تم وضعه على دكة البدلاء في مباراة الدور الثاني للبرتغال ضد سويسرا، وهي المرة الأولى التي لم يلعب فيها منتخب البرتغال مع رونالدو في مباراة خروج المغلوب في بطولة دولية كبرى منذ بطولة أمم أوروبا 2008. فازت البرتغال بنتيجة 6–1، وهي أعلى حصيلة للمنتخب في مباراة خروج المغلوب في كأس العالم منذ كأس العالم 1966، حيث سجل بديل رونالدو غونزالو راموس هاتريك.  واتبع منتخب البرتغال نفس الاستراتيجية في ربع النهائي ضد المغرب، مع عودة رونالدو مرة أخرى إلى مقاعد البدلاء. خسروا 1–0، وأصبحت المغرب أول دولة من دول الكاف تصل إلى نصف النهائي.\\n\\n\\n== التنافس مع ميسي ==\\n\\nالتنافس بين كريستيانو رونالدو وليونيل ميسي هي منافسة في كرة القدم بين مشجعي البرتغالي كريستيانو رونالدو والأرجنتيني ليونيل ميسي ويفترض بين اللاعبين أنفسهم أيضاً. فبعد أن حصلوا على 12 كرة ذهبية (7 لميسي و 5 لرونالدو)، يعتبر كلاهما أفضل لاعبين جيلهم ومن بين أفضل اللاعبين عبر التاريخ. كلا اللاعبين قد كسرا حاجز 50 هدف في موسم واحد، وسجلوا أكثر من 600+ هدف في مسيرتهم مع النادي والمنتخب. كما أنهم أيضاً اللاعبان الوحيدان اللذان سجلا هاتريك سبع مرات في دوري أبطال أوروبا. الصحفيون والنقاد والمشجعين في جدل دائم حول المزايا الفردية لكلٍ منهما في محاولة لتحديد من يعتقدون أنه أفضل لاعب في كرة القدم في الوقت الحالي. وشُبّهت مقارنتهم ببعضهما كمقارنة محمد علي و\\u200cجو فريزر في الملاكمة، ومنافسة بيورن بورغ وجون ماكنرو في التنس ومنافسة أيرتون سينا–ألان بروست في فورمولا 1 للسيارات.\\n\\n\\n== خارج كرة القدم ==\\n\\n\\n=== حياته الشخصية ===\\nرونالدو لديه ستة أطفال، أحدهم وُلد ميتًا. أصبح في البداية أبًا لابنه كريستيانو جونيور، المولود في 17 يونيو 2010 في الولايات المتحدة. وذكر أنه يتمتع بحضانة كاملة للطفل ولن يكشف علنًا عن هوية الأم وفقًا للاتفاق معها. في يناير 2015، أعلن رونالدو أن علاقته -التي استمرت خمس سنوات- مع عارضة الأزياء الروسية إيرينا شايك قد انتهت.ثم أصبح رونالدو والدًا لتوأمين، ابنته إيفا وابنه ماتيو، المولودين في 8 يونيو 2017 في الولايات المتحدة عن طريق الحمل البديل. هو على علاقة مع الإسبانية-الأرجنتينية جورجينا رودريغيز، مساعدة مبيعات سابقة في متجر غوتشي، التي أنجبت طفلتهما ألانا مارتينا في  التي أنجبتها  في 12 نوفمبر 2017. أعلن الزوجان بعد ذلك عن توقعهما استقبال توأمهما الثاني في عام 2022. توفي التوأم الذكر أنجيل أثناء الولادة، بينما نجت التوأم الأنثى بيلا أزميرلدا.توفي والد رونالدو، خوسيه، بسبب أمراض الكبد المرتبطة بإدمان الكحول عن عمر يناهز 52 عامًا في سبتمبر 2005 عندما كان رونالدو في العشرين من عمره.صرح رونالدو إنه لا يشرب الكحوليات، وحصل على تعويضات بسبب التشهير به في مقالة على صحيفة ديلي تلغراف ذكرت أنه أفرط في شرب الخمر في ملهى ليلي خلال تلقيه العلاج من إصابة في يوليو 2008. شُخِّصت والدته، دولوريس، بسرطان الثدي في عام 2007 لكنها تعافت منه في النهاية.\\n\\n\\n=== النشاطات الخيرية ===\\nقدم رونالدو مساهمات في العديد من القضايا الخيرية طوال حياته المهنية. وأظهرت لقطات تلفزيونية لزلزال المحيط الهندي وتسونامي عام 2004 طفلًا عمره ثماني سنوات اسمه مارتونيس يرتدي قميص كرة القدم البرتغالي الذي تقطعت به السبل لمدة 19 يومًا بعد مقتل عائلته. بعد ذلك، زار رونالدو مدينة أتشيه الإندونيسية لجمع الأموال لإعادة التأهيل وإعادة الإعمار.\\nبعد تصفيات كأس العالم 2006 سافر رونالدو إلى إندونيسيا لزيارة المناطق المتضررة من التسونامي سنة 2004 ودعم الضحايا، وقابل نائب الرئيس الإندونيسي «يوسف كالا» ورئيس تيمور الشرقية «شانانا غوسماو»، وساهم بحملة تبرعات وصلت قيمتها إلى 120،000 دولار أمريكي من مزايدة علنية لملابسه الرياضية الشخصية، وقام أيضًا بدفع مصاريف سفر طفل من ضحايا الزلزال مع والده لحضور إحدى مباريات منتخب البرتغال ضمن تصفيات كأس العالم 2006.\\nبعد قبول تعويضات لم يكشف عنها من قضية تشهير ضد صحيفة ذا صن في عام 2008، تبرع رونالدو بالتعويضات لجمعية خيرية في ماديرا.\\nعام 2009، تبرع رونالدو بمبلغ 100.000£ جنيه إسترليني إلى المستشفى الموجود بماديرا الذي ساهم في إنقاذ والدته في معركتها مع السرطان، ليتمكنوا من بناء مركز السرطان في جزيرته الأم ماديرا.\\nدعمًا لضحايا فيضانات ماديرا 2010، تعهد رونالدو بإجراء مباراة خيرية بين نادي بورتو بطل الدوري البرتغالي وفريق مشكل من ناديي جزيرة ماديرا (ماريتيمو و\\u200cناسيونال).\\nنوفمبر 2011، قام كريستيانو رونالدو بالتبرع بقميصه الذي شارك به في مباراة الكلاسيكو لمؤسسة ريال مدريد الخيرية التي تكفلت ببيع القميص في مزاد علني والذي ذهب ريعه إلى دعم مدارس الأطفال الفلسطينية في قطاع غزة بفلسطين، وتم بيعه بـ2050 £.\\nمايو 2012، رونالدو بالتنسيق مع موكله خورخي مينديز، قرر أن يتكفل بتكاليف علاج طفل من معجبيه يبلغ من العمر 9 أعوام يعاني من مرض السرطان منذ السنة الثانية من عمره.\\nنوفمبر 2012، قام كريستيانو رونالدو ببيع جائزة الحذاء الذهبي الأوروبي التي تحصل عليها في 2011، بمبلغ 1.5 مليون يورو. والذي ذهب ريعه إلى دعم مدارس الأطفال الفلسطينية في قطاع غزة بفلسطين.\\nيناير 2013، أصبح كريستيانو رونالدو سفيرا جديدًا لمنظمة «أنقذوا الأطفال»، حيث سيعمل على «مكافحة الجوع والبدانة بين الأطفال والترويج لممارسة التمارين الرياضية وتناول الغذاء الصحي».\\nمارس 2013، وافق كريستيانو رونالدو ليكون سفيرًا لمنتدى العناية بغابات المانجروف في إندونيسيا. ويهدف الملتقى إلى رفع مستوى الوعي لدى المجتمع الإندونيسي والدولي بأهمية المحافظة على بغابات المانجروف من أهمية للبيئة.\\nأُختير رونالدو كأفضل رياضي خيري في العالم في عام 2015 بعد التبرع بمبلغ 5 ملايين جنيه إسترليني لجهود الإغاثة بعد الزلزال الذي ضرب نيبال والذي أودى بحياة أكثر من 8000 شخص. في يونيو 2016، تبرع رونالدو بكامل مكافأته في دوري أبطال أوروبا البالغة 600 ألف يورو بعد فوز ريال مدريد بالمسابقة. في أغسطس، أطلق رونالدو تطبيق CR7Selfie، وهو تطبيق لصور السيلفي للجمعيات الخيرية لمساعدة منظمة Save the Children (أي: أنقذوا الأطفال) الذي يتيح للمشاركين التقاط صورة سيلفي معه في واحدة من عدة أزياء وأوضاع مختلفة.\\n\\n\\n=== المتحف ===\\n\\n15 ديسمبر 2013، كشف رونالدو النقاب عن متحفه الخاص بمسقط رأسه بمدينة فونشال، ماديرا البرتغالية، سُمي باسم متحف كريستيانو رونالدو أو Museu CR7. ويحتوي المتحف على صور وتذكارات وجوائز شخصية وجماعية لكريستيانو خلال مسيرته الكروية.\\n\\n\\n=== الثروة ===\\nوضعت مجلة فرانس فوتبول الفرنسية في مارس 2010، كريستيانو رونالدو في المرتبة الثالثة للاعبي كرة القدم الأعلى أجرًا، خلف كل من الأرجنتيني ليونيل ميسي والإنجليزي ديفيد بيكهام بـ27 مليون £ بواقع (29.2 مليون يورو – 44.25 مليون دولار أمريكي) والتي يدخل فيها كل من الرواتب والمكافآت والأرباح خارج الملعب. كما تقدر قيمة ثروته الصافية بـ160 مليون دولار أمريكي (118 مليون يورو) حسب قائمة مجلة فوربس الشهيرة والتي تُعنى بالثروات الشخصية. وهو ما نفاه رونالدو الذي قال بأن ثروته الشخصية أكثر من ذلك بكثير وتبلغ 245 مليون دولار أمريكي (180.8 مليون يورو).\\n\\n\\n=== الرعاية ===\\nيعتبر كريستيانو رونالدو نجم ريال مدريد الإسباني من أفضل وأشهر اللاعبين في كرة القدم، وتقاس شهرة رونالدو من عدد متابعيه على مواقع التواصل الاجتماعي، وهذا ما يدفع العديد من الشركات العالمية ذات الأسماء المرموقة لاستغلاله كواجهة إعلانية لمنتجاتها. وزادت شهرته كواجهة إعلانية ووقع العديد من عقود الرعاية خلال فترة تواجده في ناديي مانشستر يونايتد الإنجليزي سابقًا و\\u200cريال مدريد الإسباني حاليًا.أكتوبر 2009، أصبح رونالدو الوجه الدعائي لشركة أومبريو أرماني لملابس الرجال الداخلية والجينز. وفي فبراير 2010، جدد رونالدو عقده مع شركة نايكي الرياضية الأمريكية حتى عام 2014، كما وقع عقود رعاية مع شركات كوكاكولا، كاسترول، كونامي، بانكو اسبيريتو سانتو، موتورولا، جاكوب وكو، هيربالايف، موبايلي، كنتاكي، طيران الإمارات، سامسونغ، الإخوة ساكور.\\n\\n\\n=== الأزياء ===\\nافتتح رونالدو وشقيقته إلما التي تعتبر مصممة أزياء في 2006 متجر للأزياء تحت اسم «CR7» (لأحرف الأولى من اسمه ورقم قميصه). ويوجد حاليًا متجرين لرونالدو وكلاهما في البرتغال، الأول في العاصمة البرتغالية لشبونة والأخر في مسقط رأسه مدينة ماديرا.\\nفبراير 2008، وقع رونالدو على عقد ليكون مع الممثلة الأمريكية ميغان فوكس الوجه الدعائي الجديد لشركة أمبريو أرماني للملابس الداخلية والجينز، ليحلا محل الثنائي البريطاني ديفيد بيكهام وزوجته فيكتوريا ليسير رونالدو على خطى لاعبين مثل بيكهام، لويس فيجو، تييري هنري، كريستيان فييري، فابيو كانافارو، أندري شيفتشينكو و\\u200cكاكا.\\nعام 2013، افتتح رونالدو خط أزياء للملابس الداخلية خاصة به وأطلق عليها اسم CR7، في شراكة مع المجموعة النسيجية الدانماركية JBS ومصمم الأزياء الأمريكي ريتشارد شاي، وساهم رونالدو بتصميم خط الملابس الداخلية الخاصة به. كشف النقاب عنها في بالاسيو دي سيبيليس في مدريد يوم 31 أكتوبر 2013.\\nفي 7 يوليو 2014، أعلن كريستيانو من لشبونة أنه سيطرح مجموعة جديدة من القمصان تحمل العلامة التجارية CR7 مع نهاية العام وكذلك مع المجموعة النسيجية الدانماركية JBS ومصمم الأزياء الأمريكي ريتشارد شاي.\\n\\n\\n=== الإعلام ===\\nنشر كريستيانو رونالدو سيرته الذاتية بعنوان لحظات (Moments)، في ديسمبر 2007.\\n9 يونيو 2010، كشف متحف مدام توساد لندن النقاب عن تمثال شمعي لكريستيانو رونالدو كجزء من الاستعداد لكأس العالم. وبذلك انضم رونالو إلى كل من لاعبي كرة القدم الإنجليزيين ستيفن جيرارد و\\u200cديفيد بيكهام.\\nسبتمبر 2011، قدمت شركة كاسترول إيدج فيلما وثائقيًا أطلق عليه اسم «كريستيانو رونالدو: اختبار إلى الحد الأقصى»، والذي يظهر كريستيانو رونالدو وهو يقوم بسلسلة من التحديات تحت دراسات علمية وتكنولوجية. كما أن له ثلاثة أفلام وثائقية تتحدث عن مسيرته في كل من ناسيونال ماديرا و\\u200cسبورتينغ لشبونة و\\u200cمانشستر يونايتد.\\nظهر رنالدو على غلاف لعبة الفيديو فيفا ستريت 2 و\\u200cبرو إيفلوشن سوكر 2008. مايو 2011، ظهر رونالدو على غلاف لعبة الفيديو برو إفلوشن سوكر 2012 ليخلف النجم الأرجنتيني ليونيل ميسي، وشارك في لحملات الترويجية للعبة. ديسمبر 2011، كريستيانو أطلق لعبته الشخصية «تنبيه مع كريستيانو رونالدو» في هواتف الآيفون بالتعاون مع المطور شركة روك لايف. ظهر رونالدو للسنة الثانية على التوالي على غلاف لعبة الفيديو برو ايفولشن سوكر 2013، كما ظهر في الإعلانات الترويجية للعبة.\\nأطلق رونالدو تطبيقه الخاص على هواتف آيفون العاملة وأيضًا على الهواتف العاملة بنظام أندرويد الخاص بشركة غوغل في خطوة تسويقية انتظرها عشاق النجم البرتغالي طويلاً، لتطبيق يحتوي صوراً وأهدافاً وفيديوهات حصرية لرونالدو، وليس هذا وحسب بل أيضاً جميع كتاباته على موقع التواصل الاجتماعي تويتر.\\nكذلك كشف كريستيانو رونالدو في بداية ديسمبر 2013 عن موقع التواصل الاجتماعي الخاص به، والتطبيق يدعى فيفا رونالدو، الذي يتيح للمشجعين من جميع أنحاء العالم التواصل مع بعضهم البعض، ومواكبة أخباره.\\nفي أغسطس 2010، تجاوز كريستيانو رونالدو حاجز 10 مليون معجب على موقع التواصل الاجتماعي فيسبوك ليصبح يذلك أول شخصية غير أمريكية تصل إلى هذا الرقم من المتابعين. في أكتوبر 2012، تجاوز كريستيانو رونالدو حاجز 50 مليون معجب على موقع التواصل الاجتماعي فيسبوك لتكون صفحته بذلك الأكبر في الموقع على الإطلاق. ويصبح بذلك أول شخصية تصل إلى هذا الرقم. وكذلك في نفس الشهر تجاوز ال20 مليون متابع على شبكة تويتر. ووفقاً لمجلة فوربيس، في عام 2013 احتل كريستيانو رونالدو المركز الخامس كأكثر الشخصيات المشهورة متابعة في الشبكات الاجتماعية بعد كل من ليدي غاغا، ريهانا، جستن بيبر، و\\u200cكاتي بيري.\\nفي سنة 2012، أُختير رونالدو ليكون الأوسم والأكثر جاذبية في كل من يورو 2004 و\\u200cكأس العالم 2006 و\\u200cيورو 2008 وكذلك أوسم رياضي والأكثر جاذبية.\\nمثل كريستيانو رونالدو كوكا كولا في آسيا في العديد من المناسبات. وفي 2009 وقبل عدة أسابيع من مونديال 2010، شارك البرتغالي في إعلان لشركة نايكي تحت اسم «أكتب المستقبل».\\nمن ناحية الموضة الرجالية، شارك في عدة إعلانات لشامبو كلير مان. كذلك كان واجهة لمجلة فانيتي فير للملابس الداخلية. وفي 2010، صور كريستيانو رونالدو إعلاناً إلى جانب الممثلة الأمريكية ميغان فوكس بصفتهما الوجه الدعائي لشركة أرماني.\\nشارك كريستيانو في عدة مناسبات في إعلانات مغازات مجموعة موديلو التابعة لمجموعة سوناي البرتغالية. شارك رونالدو في شريط إعلاني للبنك بانكو إسبيريتو سانتو البرتغالي.\\nكان كذلك بطل إعلانات شركة سوزوكي، و\\u200cنايكي، وإكسترا جوز الإندونيسية للمشروبات المنشطة. وفي إنجلترا كان بطلا لإعلانات شركة كاسترول للمحركات التابعة لبريتيش بتروليوم.\\nتم اقتباس اسمه في السلسلة الشهيرة عائلة سيمبسون بإطلاق اسمه على جسر صغير تابع لهومر سيمبسون تحت اسم «رونال...دوه!» (!Ronal...D'oh).\\nرونالدو هو اسم فيلم وثائقي حول كريستيانو يلخص حياته ويمثل فيه هو وعائلته وأقربائه، وصدر سنة 2015 وكان كريستيانو عند صدور الفيلم لا يزال يلعب.\\nفي يونيو 2017 تم الإعلان عن اختيار كريستيانو رونالدو ليكون بطل غلاف لعبة فيفا 18.\\nفي ديسمبر 2020 أدرج كريستيانو رونالدو كشخصية في لعبة فري فاير باسم كرونو.\\n\\n\\n== الإحصائيات ==\\n\\n\\n=== النادي ===\\nآخر تحديث 19 سبتمبر 2023.ملاحظات\\n\\n\\n=== المنتخب ===\\n\\nآخر تحديث 8 سبتمبر 2023.الملاحظات\\n\\n\\n== الإنجازات ==\\n\\n سبورتينغ لشبونة\\n\\nكأس السوبر البرتغالي (1): 2002 مانشستر يونايتد\\n\\nكأس العالم للأندية (1): 2008\\nدوري أبطال أوروبا (1): 2007–08\\nالدوري الإنجليزي الممتاز (3): 2006–07، 2007–08، 2008–09\\nكأس الاتحاد الإنجليزي (1): 2003–04\\nكأس رابطة الأندية الإنجليزية المحترفة (2): 2006، 2009\\nدرع المجتمع الإنجليزي (2): 2007، 2008 ريال مدريد\\nالدوري الإسباني (2): 2011–12، 2016–17\\nكأس ملك إسبانيا (2): 2011، 2014\\nكأس السوبر الإسباني (2): 2012، 2017\\nدوري أبطال أوروبا (4): 2014، 2016، 2017، 2018\\nكأس السوبر الأوروبي (3): 2014، 2016، 2017\\nكأس العالم للأندية (3): 2014، 2016، 2017 يوفنتوس\\n\\nالدوري الإيطالي (2): 2018–19، 2019–20\\nكأس إيطاليا (1): 2020–21\\nكأس السوبر الإيطالي (2): 2018، 2020 النصر\\n\\nكأس العرب للأندية الأبطال: 2023 البرتغال\\n\\nبطولة أمم أوروبا: 2016\\nدوري الأمم الأوروبية: 2019الفردية\\n\\nكرة الفيفا الذهبية/الكرة الذهبية (5): 2008، 2013، 2014، 2016، 2017\\nجائزة أفضل لاعب كرة قدم في العالم: 2008\\nفيفبرو لاعب العام: 2008\\nجائزة الفيفا لأفضل لاعب (2): 2016، 2017\\nجائزة أفضل لاعب في أوروبا (3): 2014، 2016، 2017\\nجائزة اليويفا لأفضل لاعب: 2007–08\\nمجلة وورد سوكر لاعب العام (5): 2008، 2013، 2014، 2016، 2017\\nأفضل لاعب شاب للعام (2): 2003–04، 2004–05\\nأفضل لاعب برتغالي في العام من الاتحاد البرتغالي لكرة القدم (4): 2016، 2017، 2018، 2019\\nجائزة بوشكاش: 2009\\nفيفبرو (14): 2007، 2008، 2009، 2010، 2011، 2012، 2013، 2014، 2015، 2016، 2017، 2018، 2019، 2020\\nجائزة اليويفا لأفضل فريق (15): 2004، 2007، 2008، 2009، 2010، 2011، 2012، 2013، 2014، 2015، 2016، 2017، 2018، 2019، 2020\\nتشكيلة الموسم في دوري أبطال أوروبا (6): 2013–14، 2014–15، 2015–16، 2016–17، 2017–18، 2018–19\\nتشكيلة بطولة أمم أوروبا (3): 2004، 2012، 2016\\nالحذاء الذهبي بطولة أمم أوروبا: 2020\\nالحذاء الفضي في بطولة أمم أوروبا: 2016\\nتشكيلة بطولة أمم أوروبا التاريخية\\nجائزة أفضل لاعب شاب في إنجلترا: 2006–07\\nجائزة أفضل لاعب في إنجلترا (2): 2006–07، 2007–08\\nجائزة لاعب الموسم في الدوري الإنجليزي الممتاز (2): 2006–07، 2007–08\\nفريق الدوري الإنجليزي الممتاز للعام من بي أف إيه (4): 2005–06، 2006–07، 2007–08، 2008–09\\nجائزة الحذاء الذهبي في الدوري الإنجليزي الممتاز: 2007–08\\nجائزة لاعب العالم في نادي مانشستر يونايتد (2): 2006–07، 2007–08\\nجائزة هدف الموسم في نادي مانشستر يونايتد: 2008–09\\nجوائز جلوب سوكر لأفضل لاعب جذباً للإعلام: 2011\\nجوائز جلوب سوكر لأفضل لاعب على الإطلاق جذباً للإعلام: 2011\\nجوائز جلوب سوكر لأفضل لاعب من قبل الجمهور: 2013\\nأفضل لاعب في الدوري الإسباني: 2013–14\\nفريق الموسم للدوري الإسباني (3): 2013–14، 2014–15، 2015–16\\nفريق الموسم للدوري الاسباني من الويفا (2): 2015–16، 2016–17\\nجائزة لاعب العام في الدوري الإيطالي: 2019\\nتشكيلة العام في الدوري الإيطالي: 2018–19\\nكابوكانونيري: 2020–21\\nجائزة القدم الذهبية: 2020\\nفريق الأحلام لجائزة الكرة الذهبية: 2020\\nجوائز جلوب سوكر لاعب القرن: 2020\\nهداف الدرجة الأولى من الاتحاد الدولي لتاريخ وإحصاءات كرة القدم: 2014، 2015، 2020\\nفريق العام للرجال من الاتحاد الدولي لتاريخ وإحصاءات كرة القدم: 2017، 2018، 2019، 2020\\nأفضل لاعب في أوروبا في العقد من الاتحاد الدولي لتاريخ وإحصاءات كرة القدم 2011–2020\\nفريق العقد العالمي من الاتحاد الدولي لتاريخ وإحصاءات كرة القدم 2011–2020\\nفريق العقد لليويفا من الاتحاد الدولي لتاريخ وإحصاءات كرة القدم 2011–2020\\nأفضل هداف دولي في العالم من الاتحاد الدولي لتاريخ وإحصاءات كرة القدم: 2020\\nأفضل هداف في العالم من الاتحاد الدولي لتاريخ وإحصاءات كرة القدم: 2011، 2013، 2014، 2015\\nأفضل هداف دولي في العالم للقرن الحادي والعشرين من الاتحاد الدولي لتاريخ وإحصاءات كرة القدم 2001–2020\\nأفضل هداف في العالم في القرن الحادي والعشرين من الاتحاد الدولي لتاريخ وإحصاءات كرة القدم 2001–2020\\nأفضل هداف في العالم للعقد من الاتحاد الدولي لتاريخ وإحصاءات كرة القدم 2011–2020\\nأفضل هداف دولي في العالم للقرن الحادي والعشرين من الاتحاد الدولي لتاريخ وإحصاءات كرة القدم 2001–2020الأوسمة\\n\\n وسام إنفانتي دوم هنريكي برتبة ضابط: 2004\\n ميدالية الاستحقاق من فيكوسا فيلا (بيت براغانزا): 2006\\n وسام إنفانتي دوم هنريكي برتبة الضابط الأعظم: 2014\\n وسام الاستحقاق برتبة ضابط\\n\\n\\n== ملاحظات ==\\n\\n\\n== المراجع ==\\nالملاحظات\\n\\nالاستشهادات\\n\\n\\n== وصلات خارجية ==\\nالموقع الرسمي\\nكريستيانو رونالدو على موقع الاتحاد الدولي لكرة القدم (مؤرشف)  (الإنجليزية)\\nكريستيانو رونالدو على موقع الاتحاد الأوروبي لكرة القدم (الإنجليزية)\\nكريستيانو رونالدو على موقع إي إس بي إن إف سي (الإنجليزية)\\nكريستيانو رونالدو على موقع FootballDatabase.eu (الإنجليزية)\\nكريستيانو رونالدو على موقع بيانات كرة القدم. دي إي (الألمانية)\\nكريستيانو رونالدو على موقع ليكيب (الفرنسية)\\nكريستيانو رونالدو على موقع National-Football-Teams.com (الإنجليزية)\\nكريستيانو رونالدو على موقع Soccerbase.com (لاعب) (الإنجليزية)\\nكريستيانو رونالدو على موقع Soccerway.com (الإنجليزية)\\nكريستيانو رونالدو على موقع WorldFootball.net (الإنجليزية)\\n\\nبوابة أرقام قياسية\\nبوابة أعلام\\nبوابة ألعاب أولمبية\\nبوابة إسبانيا\\nبوابة إنجلترا\\nبوابة إيطاليا\\nبوابة البرتغال\\nبوابة السعودية\\nبوابة كأس العالم\\nبوابة كرة القدم\\nبوابة كرة القدم الإسبانية\\nبوابة كرة القدم الإنجليزية\\nبوابة كرة القدم الإيطالية\\nبوابة كرة القدم البرتغالية\\nبوابة كرة القدم السعودية\""
            ],
            "application/vnd.google.colaboratory.intrinsic+json": {
              "type": "string"
            }
          },
          "metadata": {},
          "execution_count": 13
        }
      ]
    },
    {
      "cell_type": "code",
      "source": [
        "page.summary"
      ],
      "metadata": {
        "colab": {
          "base_uri": "https://localhost:8080/",
          "height": 107
        },
        "id": "Ys2C7k722dMs",
        "outputId": "a63be4d0-02b2-47f9-ccb5-827789c29c37"
      },
      "execution_count": 14,
      "outputs": [
        {
          "output_type": "display_data",
          "data": {
            "text/plain": [
              "<IPython.core.display.Javascript object>"
            ],
            "application/javascript": [
              "google.colab.output.setIframeHeight(0, true, {maxHeight: 5000})"
            ]
          },
          "metadata": {}
        },
        {
          "output_type": "execute_result",
          "data": {
            "text/plain": [
              "'كريستيانو رونالدو دوس سانتوس أفيرو (تلفظ برتغالي: \\u200e/kɾiʃˈtjɐnu ʁoˈnaɫdu/\\u200f؛ مواليد 5 فبراير 1985) المعروف بـ كريستيانو رونالدو. هو لاعب كرة قدم برتغالي لعب كمهاجم مع النصر في دوري المحترفين السعودي وهو \\u200cقائد المنتخب البرتغالي. غالبًا ما يُعتبر أحد أفضل اللاعبين في العالم، ويعتبره الكثيرون من أعظم اللاعبين في تاريخ كرة القدم، حصل رونالدو على خمسة كرات ذهبية كأكثر لاعب أوروبي، وهو أول لاعب يفوز بأربعة أحذية ذهبية أوروبية. فاز بـ 34 بطولة رسمية في مسيرته، من ضمنها سبعة ألقاب دوري، وخمسة ألقاب في دوري أبطال أوروبا ولقب واحد في بطولة أمم أوروبا ولقب البطولة الافتتاحية لدوري الأمم الأوروبية. يحمل رونالدو الأرقام القياسية لأكثر عدد من المباريات (183) والأهداف (140) والصناعة (42) في تاريخ دوري أبطال أوروبا، وأكثر من سجل أهداف في كرة القدم الدولية (123)، والأكثر مشاركة دولية (200). وهو أحد اللاعبين القلائل الذين شاركوا في أكثر من 1179 مباراة رسمية في مسيرتهم وسجل أكثر من 850 هدف رسمي مع الأندية والمنتخب. كما أنه اللاعب الوحيد الذي سجل في خمس نُسخ لكأس العالم، والوحيد الذي شارك وسجل في خمس نسخ من كأس أمم أوروبا أيضا، وهو أكثر من شارك في مباريات البطولة (25 مباراة) والهداف التاريخي لها (14 هدفا).ولد ونشأ في جزيرة ماديرا البرتغالية، وبدأ مسيرته في نادي سبورتينغ لشبونة قبل أن يوقع مع مانشستر يونايتد بسن الثامنة عشر عامًا في عام 2003. بعد فوزه ببطولته الأولى، كأس الاتحاد الإنجليزي، خلال موسمه الأول في إنجلترا، وساعد اليونايتد على الفوز بثلاثة ألقاب متتالية في الدوري الإنجليزي الممتاز، وبطولة واحدة في دوري أبطال أوروبا، وبطولة واحدة في كأس العالم للأندية. وفي سن 23، حصل على جائزة الكرة الذهبية و\\u200cجائزة أفضل لاعب كرة قدم في العالم من الفيفا. في عام 2009، أصبح رونالدو أغلى لاعب في تاريخ كرة القدم عندما انتقل من مانشستر يونايتد إلى ريال مدريد في صفقة انتقال بلغت قيمتها 80 مليون جنيه إسترليني (94 مليون يورو/131.6 مليون دولار أمريكي). فاز رونالدو معهم بخمسة عشر لقبًا، من ضمنها لقبين دوري ولقبين كأس وأربعة ألقاب دوري أبطال أوروبا، وأصبح الهداف التاريخي للنادي. بعد انضمامه إلى مدريد، احتل رونالدو المركز الثاني في جائزة الكرة الذهبية ثلاث مرات، خلف ليونيل ميسي (منافسة التقليدي) قبل أن يفوز بالكرة الذهبية بشكل متتالي في 2013 و\\u200c2014، وكررها مرة أخرى في 2016 و\\u200c2017. بعد فوزه بلقب دوري أبطال أوروبا للمرة الثالثة على التوالي في عام 2018، أصبح رونالدو أول لاعب يفوز باللقب خمس مرات في النسخة الحديثة. في عام 2018، وقع مع يوفنتوس في صفقة انتقال بقيمة 100 مليون يورو (88 مليون جنيه إسترليني)، كأعلى مبلغ انتقال يُدفع للاعب تجاوز سن الثلاثين، وهو أعلى مبلغ يدفعه أي نادي إيطالي عبر التاريخ. فاز بلقبين في الدوري الإيطالي، ولقبين في كأس السوبر الإيطالي، ولقب في كأس إيطاليا في المواسم الثلاثة له مع النادي، قبل أن يعود إلى مانشستر يونايتد في عام 2021، ثم غادره في عام 2022 بعد إنهاء عقده مع النادي. في عام 2023 وقع رونالدو مع نادي النصر السعودي.\\nأُختير رونالدو كأفضل لاعب برتغالي في التاريخ من قبل الاتحاد البرتغالي لكرة القدم في عام 2015. شارك لأول مرة في عام 2003 في سن الثامنة عشر، ومنذ ذلك الحين خاض 200 مباراة دولية، بما في ذلك مشاركته وتسجيله في عشر بطولات كبرى. أصبح اللاعب الأكثر مشاركة في البرتغال والهداف التاريخي لمنتخب بلاده. سجل هدفه الدولي الأول في بطولة أمم أوروبا 2004 وساعد البرتغال في الوصول إلى نهائي البطولة. تولى قيادة منتخبه في يوليو 2008، مما أدى إلى فوز البرتغال لأول مرة على الإطلاق في بطولة كبرى وذلك ببطولة أمم أوروبا 2016، وحصل على الحذاء الفضي كثاني أفضل هداف في البطولة. كما قادهم للفوز في النسخة الافتتاحية من دوري الأمم الأوروبية في عام 2019، وحصل لاحقًا على الحذاء الذهبي كأفضل هداف في بطولة أمم أوروبا 2020.\\nيُعد رونالدو واحدًا من أكثر الرياضيين شهرة وقابلية للتسويق في العالم، وقد حصل على لقب أفضل رياضي في العالم من قبل فوربس في عامي 2016 و2017، بالإضافة إلى أشهر رياضي في العالم من قبل إي إس بي إن من عام 2016 إلى 2019. أدرجته مجلة تايم في قائمة أكثر 100 شخصية مؤثرة في العالم لعام 2014. يُعد رونالدو أول لاعب كرة قدم، وكذلك ثالث رياضي، يكسب مليار دولار في وهو لا يزال يمارس مهنته.'"
            ],
            "application/vnd.google.colaboratory.intrinsic+json": {
              "type": "string"
            }
          },
          "metadata": {},
          "execution_count": 14
        }
      ]
    },
    {
      "cell_type": "code",
      "source": [
        "page.images"
      ],
      "metadata": {
        "colab": {
          "base_uri": "https://localhost:8080/",
          "height": 1710
        },
        "id": "J1VHrYg42iHk",
        "outputId": "1df59c5a-d342-4137-ebcb-5fe2691e3fc9"
      },
      "execution_count": 15,
      "outputs": [
        {
          "output_type": "display_data",
          "data": {
            "text/plain": [
              "<IPython.core.display.Javascript object>"
            ],
            "application/javascript": [
              "google.colab.output.setIframeHeight(0, true, {maxHeight: 5000})"
            ]
          },
          "metadata": {}
        },
        {
          "output_type": "execute_result",
          "data": {
            "text/plain": [
              "['https://upload.wikimedia.org/wikipedia/commons/e/e1/1_cristiano_ronaldo_2016.jpg',\n",
              " 'https://upload.wikimedia.org/wikipedia/commons/6/63/2009-3-14_ManUtd_vs_LFC_Ronaldo_Tackling_cropped.JPG',\n",
              " 'https://upload.wikimedia.org/wikipedia/commons/b/b8/2021_Facebook_icon.svg',\n",
              " 'https://upload.wikimedia.org/wikipedia/commons/8/89/Bronze_medal_icon.svg',\n",
              " 'https://upload.wikimedia.org/wikipedia/commons/6/60/Bronze_medal_icon_%28B_initial%29.svg',\n",
              " 'https://upload.wikimedia.org/wikipedia/commons/f/fd/C.Ronaldo_%286%29.jpg',\n",
              " 'https://upload.wikimedia.org/wikipedia/commons/b/b2/CR7.JPG',\n",
              " 'https://upload.wikimedia.org/wikipedia/commons/4/47/CR7_%28JUV-LOK%29.jpg',\n",
              " 'https://upload.wikimedia.org/wikipedia/commons/7/76/Captain_sports.svg',\n",
              " 'https://upload.wikimedia.org/wikipedia/commons/4/4a/Commons-logo.svg',\n",
              " 'https://upload.wikimedia.org/wikipedia/commons/f/fb/Confusion_grey.svg',\n",
              " 'https://upload.wikimedia.org/wikipedia/commons/7/74/Cristiano-ronaldo-juventus-2019_%28cropped%29.jpg',\n",
              " 'https://upload.wikimedia.org/wikipedia/commons/6/61/Cristiano_Ronaldo%2C_2010.jpg',\n",
              " 'https://upload.wikimedia.org/wikipedia/commons/7/72/Cristiano_Ronaldo%2C_2012.JPG',\n",
              " 'https://upload.wikimedia.org/wikipedia/commons/3/3c/Cristiano_Ronaldo.jpg',\n",
              " 'https://upload.wikimedia.org/wikipedia/commons/d/d4/Cristiano_Ronaldo_%28L%29%2C_Luka_Modric_%28R%29_-_Croatia_vs._Portugal%2C_10th_June_2013.jpg',\n",
              " 'https://upload.wikimedia.org/wikipedia/commons/c/cd/Cristiano_Ronaldo_-_Ballon_d%27Or_%28cropped%29.jpg',\n",
              " 'https://upload.wikimedia.org/wikipedia/commons/7/73/Cristiano_Ronaldo_-_Croatia_vs._Portugal%2C_10th_June_2013.jpg',\n",
              " 'https://upload.wikimedia.org/wikipedia/commons/2/2b/Cristiano_Ronaldo_2012.jpg',\n",
              " 'https://upload.wikimedia.org/wikipedia/commons/d/d5/Cristiano_Ronaldo_20120609.jpg',\n",
              " 'https://upload.wikimedia.org/wikipedia/commons/8/8c/Cristiano_Ronaldo_2018.jpg',\n",
              " 'https://upload.wikimedia.org/wikipedia/commons/6/64/Cristiano_Ronaldo_48609.jpg',\n",
              " 'https://upload.wikimedia.org/wikipedia/commons/e/e2/Cristiano_Ronaldo_RM_1.jpg',\n",
              " 'https://upload.wikimedia.org/wikipedia/commons/b/bc/Cristiano_Ronaldo_Real_Madrid.jpg',\n",
              " 'https://upload.wikimedia.org/wikipedia/commons/7/7f/Cristiano_Ronaldo_Real_Madrid_Gareth_Bale_Tottenham.jpg',\n",
              " 'https://upload.wikimedia.org/wikipedia/commons/7/76/Cristiano_Ronaldo_Signature.svg',\n",
              " 'https://upload.wikimedia.org/wikipedia/commons/2/23/Cristiano_Ronaldo_WC2022_-_01.jpg',\n",
              " 'https://upload.wikimedia.org/wikipedia/commons/d/d6/Cristiano_Ronaldo_and_Lionel_Messi_-_Portugal_vs_Argentina%2C_9th_February_2011.jpg',\n",
              " 'https://upload.wikimedia.org/wikipedia/commons/d/dd/Cristiano_Ronaldo_ante_el_Celta_de_Vigo.JPG',\n",
              " 'https://upload.wikimedia.org/wikipedia/commons/d/d7/Cristiano_Ronaldo_playing_for_Al_Nassr_FC_against_Persepolis%2C_September_2023_%28cropped%29.jpg',\n",
              " 'https://upload.wikimedia.org/wikipedia/commons/4/4a/Cristiano_Ronaldo_vs_Galatasaray_%281%29.JPG',\n",
              " 'https://upload.wikimedia.org/wikipedia/commons/7/7d/Cristiano_Ronaldo_y_Diego_Forl%C3%A1n.jpg',\n",
              " 'https://upload.wikimedia.org/wikipedia/commons/1/1d/Disambig_gray_RTL.svg',\n",
              " 'https://upload.wikimedia.org/wikipedia/commons/a/ab/EstadioAlgarve.JPG',\n",
              " 'https://upload.wikimedia.org/wikipedia/commons/d/dd/Euro_2016_Cristiano_Ronaldo.jpg',\n",
              " 'https://upload.wikimedia.org/wikipedia/commons/8/80/Featured_list_badge_on_Arabic_Wikipedia.svg',\n",
              " 'https://upload.wikimedia.org/wikipedia/commons/1/1a/Flag_of_Argentina.svg',\n",
              " 'https://upload.wikimedia.org/wikipedia/commons/0/05/Flag_of_Brazil.svg',\n",
              " 'https://upload.wikimedia.org/wikipedia/commons/4/49/Flag_of_Brazil_%281960%E2%80%931968%29.svg',\n",
              " 'https://upload.wikimedia.org/wikipedia/commons/4/49/Flag_of_Brazil_%281960%E2%80%931968%29.svg',\n",
              " 'https://upload.wikimedia.org/wikipedia/commons/2/2e/Flag_of_Brazil_%281968%E2%80%931992%29.svg',\n",
              " 'https://upload.wikimedia.org/wikipedia/commons/2/2e/Flag_of_Brazil_%281968%E2%80%931992%29.svg',\n",
              " 'https://upload.wikimedia.org/wikipedia/commons/b/be/Flag_of_England.svg',\n",
              " 'https://upload.wikimedia.org/wikipedia/commons/c/c3/Flag_of_France.svg',\n",
              " 'https://upload.wikimedia.org/wikipedia/commons/b/ba/Flag_of_Germany.svg',\n",
              " 'https://upload.wikimedia.org/wikipedia/commons/0/03/Flag_of_Italy.svg',\n",
              " 'https://upload.wikimedia.org/wikipedia/commons/4/43/Flag_of_Northern_Ireland_%281953%E2%80%931972%29.svg',\n",
              " 'https://upload.wikimedia.org/wikipedia/commons/5/5c/Flag_of_Portugal.svg',\n",
              " 'https://upload.wikimedia.org/wikipedia/commons/0/0d/Flag_of_Saudi_Arabia.svg',\n",
              " 'https://upload.wikimedia.org/wikipedia/commons/9/9a/Flag_of_Spain.svg',\n",
              " 'https://upload.wikimedia.org/wikipedia/commons/3/33/Flag_of_Spain_%281945%E2%80%931977%29.svg',\n",
              " 'https://upload.wikimedia.org/wikipedia/commons/3/33/Flag_of_Spain_%281945%E2%80%931977%29.svg',\n",
              " 'https://upload.wikimedia.org/wikipedia/commons/2/20/Flag_of_the_Netherlands.svg',\n",
              " 'https://upload.wikimedia.org/wikipedia/commons/c/ce/Flag_of_the_Soviet_Union_%28dark_version%29.svg',\n",
              " 'https://upload.wikimedia.org/wikipedia/commons/c/ce/Flag_of_the_Soviet_Union_%28dark_version%29.svg',\n",
              " 'https://upload.wikimedia.org/wikipedia/commons/4/4d/Football_Spain.png',\n",
              " 'https://upload.wikimedia.org/wikipedia/commons/3/38/Info_Simple.svg',\n",
              " 'https://upload.wikimedia.org/wikipedia/commons/9/95/Instagram_logo_2022.svg',\n",
              " 'https://upload.wikimedia.org/wikipedia/commons/7/73/Madrid_Cristiano_Ronaldo_2010-02-20.jpg',\n",
              " 'https://upload.wikimedia.org/wikipedia/commons/1/1a/Manchester_United_v_Brighton_%26_Hove_Albion%2C_7_August_2022_%2832%29.jpg',\n",
              " 'https://upload.wikimedia.org/wikipedia/commons/1/18/Manchester_United_v_Newcastle_United%2C_11_September_2021_%2810%29.jpg',\n",
              " 'https://upload.wikimedia.org/wikipedia/commons/b/b8/New_Zealand-Portugal_%2813%29.jpg',\n",
              " 'https://upload.wikimedia.org/wikipedia/commons/2/20/Nuvola_English_flag.svg',\n",
              " 'https://upload.wikimedia.org/wikipedia/commons/0/0e/Nuvola_Italy_flag.svg',\n",
              " 'https://upload.wikimedia.org/wikipedia/commons/0/0f/Nuvola_Portuguese_flag.svg',\n",
              " 'https://upload.wikimedia.org/wikipedia/commons/9/93/Nuvola_Saudi_flag.svg',\n",
              " 'https://upload.wikimedia.org/wikipedia/commons/3/3c/Nuvola_Spain_flag_escudada.svg',\n",
              " 'https://upload.wikimedia.org/wikipedia/commons/8/8a/OOjs_UI_icon_edit-ltr-progressive.svg',\n",
              " 'https://upload.wikimedia.org/wikipedia/commons/a/a9/Olympic_rings_with_white_rims.svg',\n",
              " 'https://upload.wikimedia.org/wikipedia/commons/b/b6/POR_Ordem_do_Merito_Comendador_BAR.svg',\n",
              " 'https://upload.wikimedia.org/wikipedia/commons/0/0f/PRT_Ordem_de_Nossa_Senhora_da_Conceicao_de_Vila_Vicosa_Cavaleiro_ribbon.svg',\n",
              " 'https://upload.wikimedia.org/wikipedia/commons/d/d2/PRT_Order_of_Prince_Henry_-_Grand_Officer_BAR.svg',\n",
              " 'https://upload.wikimedia.org/wikipedia/commons/6/66/PRT_Order_of_Prince_Henry_-_Officer_BAR.svg',\n",
              " 'https://upload.wikimedia.org/wikipedia/commons/1/1b/P_Football.png',\n",
              " 'https://upload.wikimedia.org/wikipedia/commons/6/69/P_vip.svg',\n",
              " 'https://upload.wikimedia.org/wikipedia/commons/f/fd/Portal-puzzle.svg',\n",
              " 'https://upload.wikimedia.org/wikipedia/commons/5/5d/Portugal_and_Iran_match_at_the_FIFA_World_Cup_2018_9.jpg',\n",
              " 'https://upload.wikimedia.org/wikipedia/commons/0/07/Quora_Q_icon_2015.svg',\n",
              " 'https://upload.wikimedia.org/wikipedia/commons/e/ed/Record_symbol.svg',\n",
              " 'https://upload.wikimedia.org/wikipedia/commons/0/00/Ronaldo_-_Manchester_United_vs_Chelsea.jpg',\n",
              " 'https://upload.wikimedia.org/wikipedia/commons/9/9a/Ronaldo_Tevez.jpg',\n",
              " 'https://upload.wikimedia.org/wikipedia/commons/1/1b/Semi-protection-shackle.svg',\n",
              " 'https://upload.wikimedia.org/wikipedia/commons/c/ca/Soccerball_Italy.svg',\n",
              " 'https://upload.wikimedia.org/wikipedia/commons/b/b4/Symbol_star_gold.svg',\n",
              " 'https://upload.wikimedia.org/wikipedia/commons/f/f4/Twemoji_270f.svg',\n",
              " 'https://upload.wikimedia.org/wikipedia/commons/4/43/Flag_of_Northern_Ireland_%281953%E2%80%931972%29.svg',\n",
              " 'https://upload.wikimedia.org/wikipedia/commons/2/24/Wikinews-logo.svg',\n",
              " 'https://upload.wikimedia.org/wikipedia/commons/f/fa/Wikiquote-logo.svg',\n",
              " 'https://upload.wikimedia.org/wikipedia/commons/c/ce/X_logo_2023.svg',\n",
              " 'https://upload.wikimedia.org/wikipedia/ar/2/2a/Cover_for_The_Pro_Evolution_Soccer_2013.jpg',\n",
              " 'https://upload.wikimedia.org/wikipedia/ar/7/7d/Fifa_18_-_Cover.png',\n",
              " 'https://upload.wikimedia.org/wikipedia/ar/3/3b/Saudi_Arabia_Soccerball.png',\n",
              " 'https://upload.wikimedia.org/wikipedia/ar/b/b4/WC-Trophy-icon.png',\n",
              " 'https://upload.wikimedia.org/wikipedia/ar/7/76/%D8%B5%D9%88%D8%B1%D8%A9_%D8%B4%D8%AE%D8%B5%D9%8A%D8%A9_%D8%AE%D9%8A%D8%A7%D9%84%D9%8A%D8%A9_%D9%83%D8%B1%D9%88%D9%86%D9%88.jpeg']"
            ]
          },
          "metadata": {},
          "execution_count": 15
        }
      ]
    },
    {
      "cell_type": "code",
      "source": [
        "# get the links that Wikipedia used as a reference from different websites or research\n",
        "page.links"
      ],
      "metadata": {
        "colab": {
          "base_uri": "https://localhost:8080/",
          "height": 5000
        },
        "id": "Ho2PJe033Tnz",
        "outputId": "3cd45d05-7a67-43ee-f75d-4ee4c8f3d03d"
      },
      "execution_count": 16,
      "outputs": [
        {
          "output_type": "display_data",
          "data": {
            "text/plain": [
              "<IPython.core.display.Javascript object>"
            ],
            "application/javascript": [
              "google.colab.output.setIframeHeight(0, true, {maxHeight: 5000})"
            ]
          },
          "metadata": {}
        },
        {
          "output_type": "execute_result",
          "data": {
            "text/plain": [
              "['12 يناير',\n",
              " '1996',\n",
              " '1997',\n",
              " '1 نوفمبر',\n",
              " '2008',\n",
              " '2009',\n",
              " '2011',\n",
              " '2012',\n",
              " '3 أبريل',\n",
              " 'Fabrizio Romano',\n",
              " 'Manchester Evening News',\n",
              " 'Sportske novosti',\n",
              " 'The Athletic',\n",
              " 'آتشيه',\n",
              " 'آرلينغ هالاند',\n",
              " 'آريين روبن',\n",
              " 'آلان شيرر',\n",
              " 'آيفون',\n",
              " 'أتالانتا',\n",
              " 'أتلتيك بيلباو',\n",
              " 'أتلتيكو مدريد',\n",
              " 'أحمد راضي',\n",
              " 'أدريانو',\n",
              " 'أرسنال (توضيح)',\n",
              " 'أرسين أفيتيسيان',\n",
              " 'أرسين فينغر',\n",
              " 'أرماني',\n",
              " 'أستون فيلا',\n",
              " 'أشلي يونغ',\n",
              " 'أفضل هداف دولي في العالم',\n",
              " 'أفضل هداف دولي في العالم 1989',\n",
              " 'أفضل هداف دولي في العالم 1991',\n",
              " 'أفضل هداف دولي في العالم 1992',\n",
              " 'أفضل هداف دولي في العالم 1993',\n",
              " 'أفضل هداف دولي في العالم 1994',\n",
              " 'أفضل هداف دولي في العالم 1995',\n",
              " 'أفضل هداف دولي في العالم 1996',\n",
              " 'أفضل هداف دولي في العالم 1997',\n",
              " 'أفضل هداف دولي في العالم 1998',\n",
              " 'أفضل هداف دولي في العالم 1999',\n",
              " 'أفضل هداف دولي في العالم 2000',\n",
              " 'أفضل هداف دولي في العالم 2001',\n",
              " 'أفضل هداف دولي في العالم 2002',\n",
              " 'أفضل هداف دولي في العالم 2003',\n",
              " 'أفضل هداف دولي في العالم 2004',\n",
              " 'أفضل هداف دولي في العالم 2005',\n",
              " 'أفضل هداف دولي في العالم 2006',\n",
              " 'أفضل هداف دولي في العالم 2007',\n",
              " 'أفضل هداف دولي في العالم 2008',\n",
              " 'أفضل هداف دولي في العالم 2009',\n",
              " 'أفضل هداف دولي في العالم 2010',\n",
              " 'أفضل هداف دولي في العالم 2011',\n",
              " 'أفضل هداف دولي في العالم 2012',\n",
              " 'أفضل هداف دولي في العالم 2013',\n",
              " 'أفضل هداف دولي في العالم 2014',\n",
              " 'أفضل هداف دولي في العالم 2015',\n",
              " 'أفضل هداف دولي في العالم 2016',\n",
              " 'أفضل هداف دولي في العالم 2017',\n",
              " 'أفضل هداف دولي في العالم 2018',\n",
              " 'أفضل هداف دولي في العالم 2019',\n",
              " 'أفضل هداف دولي في العالم 2020',\n",
              " 'أكتوبر',\n",
              " 'ألان سيمونسن',\n",
              " 'ألان مولري',\n",
              " 'ألبيرت رييرا',\n",
              " 'ألبيرتو جيلاردينو',\n",
              " 'ألفارو أربيلوا',\n",
              " 'ألفارو موراتا',\n",
              " 'ألفريدو دي ستيفانو',\n",
              " 'ألفونسو ديفيس',\n",
              " 'ألكوشيتشي',\n",
              " 'ألي مككويست',\n",
              " 'أليساندرو دل بييرو',\n",
              " 'أليكس فيرغسون',\n",
              " 'أليكسيس سانشيز',\n",
              " 'أمين بخاري',\n",
              " 'أنتال دوناي',\n",
              " 'أنتوني كوتي',\n",
              " 'أنتوني مارسيال',\n",
              " 'أنتونيس أنتونيدس',\n",
              " 'أندرويد (نظام تشغيل)',\n",
              " 'أندري شيفتشينكو',\n",
              " 'أندريا بارزالي',\n",
              " 'أندريا بيرلو',\n",
              " 'أندريس إنييستا',\n",
              " 'أندريه سيلفا',\n",
              " 'أندي غراي',\n",
              " 'أندي كول',\n",
              " 'أنطونيو سيلفا (لاعب كرة قدم)',\n",
              " 'أنقذوا الأطفال',\n",
              " 'أوبالدو ريغيتي',\n",
              " 'أوتافيو إدميلسون دا سيلفا مونتيرو',\n",
              " 'أوزيبيو',\n",
              " 'أوساسونا',\n",
              " 'أولمبيك ليون',\n",
              " 'أوليسراديو',\n",
              " 'أوليغ بلوخين',\n",
              " 'أوليفيه جيرو',\n",
              " 'أوين هارغريفز',\n",
              " 'أياكس أمستردام',\n",
              " 'أيرلندا الشمالية',\n",
              " 'أيمن يحيى',\n",
              " 'إحصائيات وأرقام قياسية في كأس العالم',\n",
              " 'إدمان',\n",
              " 'إدوارد ماركاروف',\n",
              " 'إدين هازارد',\n",
              " 'إدينسون كافاني',\n",
              " 'إروين فاندينبيرغ',\n",
              " 'إسبانيا',\n",
              " 'إسبانيول',\n",
              " 'إشبيلية',\n",
              " 'إفي',\n",
              " 'إلي أوهانا',\n",
              " 'إمري تشان',\n",
              " 'إنتر ميلان',\n",
              " 'إنجلترا',\n",
              " 'إندونيسيا',\n",
              " 'إنستغرام',\n",
              " 'إوزيبيوس سمولاريك',\n",
              " 'إي أيه سبورتس',\n",
              " 'إي إس بي إن',\n",
              " 'إي إس بي إن إف سي',\n",
              " 'إيان راش',\n",
              " 'إيان كالاهان',\n",
              " 'إيدر',\n",
              " 'إيرك تين هاغ',\n",
              " 'إيريك كانتونا',\n",
              " 'إيرينا شايك',\n",
              " 'إيسكو',\n",
              " 'إيطاليا',\n",
              " 'إيغور أكينفيف',\n",
              " 'إيغور بيلانوف',\n",
              " 'إيفان زامورانو',\n",
              " 'إيكر كاسياس',\n",
              " 'إيملين هيوز',\n",
              " 'إيميليو بوتراغينيو',\n",
              " 'إيه بي سي نيوز',\n",
              " 'إيه سي ميلان',\n",
              " 'اتحاد البرتغال لكرة القدم',\n",
              " 'اتحاد جمهورية التشيك لكرة القدم',\n",
              " 'اديلسون',\n",
              " 'استهجان',\n",
              " 'الأرجنتين',\n",
              " 'الاتحاد الأوروبي',\n",
              " 'الاتحاد الأوروبي لكرة القدم',\n",
              " 'الاتحاد الإفريقي لكرة القدم',\n",
              " 'الاتحاد الدولي لتاريخ وإحصاءات كرة القدم',\n",
              " 'الاتحاد الدولي لكرة القدم',\n",
              " 'الاتحاد الرياضي المنستيري',\n",
              " 'الاتحاد الملكي الإسباني لكرة القدم',\n",
              " 'البرازيل',\n",
              " 'البرتغال',\n",
              " 'التلفزيون السويدي',\n",
              " 'الدنمارك',\n",
              " 'الدوري الأوروبي',\n",
              " 'الدوري الإسباني',\n",
              " 'الدوري الإسباني 2011–12',\n",
              " 'الدوري الإسباني 2013–14',\n",
              " 'الدوري الإسباني 2014–15',\n",
              " 'الدوري الإسباني 2015–16',\n",
              " 'الدوري الإسباني 2016–17',\n",
              " 'الدوري الإسباني 2017–18',\n",
              " 'الدوري الإنجليزي الممتاز',\n",
              " 'الدوري الإنجليزي الممتاز 2003–04',\n",
              " 'الدوري الإنجليزي الممتاز 2004–05',\n",
              " 'الدوري الإنجليزي الممتاز 2005–06',\n",
              " 'الدوري الإنجليزي الممتاز 2006–07',\n",
              " 'الدوري الإنجليزي الممتاز 2007–08',\n",
              " 'الدوري الإنجليزي الممتاز 2008–09',\n",
              " 'الدوري الإنجليزي الممتاز 2021–22',\n",
              " 'الدوري الإيطالي',\n",
              " 'الدوري الإيطالي 1933–34',\n",
              " 'الدوري الإيطالي 1951–52',\n",
              " 'الدوري الإيطالي 2018–19',\n",
              " 'الدوري الإيطالي 2019–20',\n",
              " 'الدوري الإيطالي 2020–21',\n",
              " 'الدوري البرتغالي الدرجة الثانية',\n",
              " 'الدوري البرتغالي الدرجة الثانية 2002–03',\n",
              " 'الدوري البرتغالي الممتاز',\n",
              " 'الدوري البرتغالي الممتاز 2002–03',\n",
              " 'الرأس الأخضر',\n",
              " 'الرقم التسلسلي القياسي الدولي',\n",
              " 'الرياض',\n",
              " 'السعودية',\n",
              " 'العالم',\n",
              " 'الغارديان',\n",
              " 'الكلاسيكو',\n",
              " 'اللغة الإسبانية',\n",
              " 'المغرب',\n",
              " 'الولايات المتحدة',\n",
              " 'اليوم السابع',\n",
              " 'بابلو أيمار',\n",
              " 'بات غينغز',\n",
              " 'باتريك شيك',\n",
              " 'باتريك فييرا',\n",
              " 'باتريك كلويفرت',\n",
              " 'بارك جي سونغ',\n",
              " 'بارك دي برينس',\n",
              " 'باريس',\n",
              " 'باريس سان جيرمان',\n",
              " 'بافل نيدفيد',\n",
              " 'باكو خينتو',\n",
              " 'باول فان همست',\n",
              " 'باول مكغراث',\n",
              " 'باول والش',\n",
              " 'باولو ديبالا',\n",
              " 'باولو روسي',\n",
              " 'باولو مالديني',\n",
              " 'باوليتا',\n",
              " 'باير 04 ليفركوزن',\n",
              " 'بايرن ميونخ',\n",
              " 'بدر المطوع',\n",
              " 'برايتون أند هوف ألبيون',\n",
              " 'براين روبسون',\n",
              " 'برتغاليون',\n",
              " 'برشلونة',\n",
              " 'برناردو سيلفا',\n",
              " 'برو إفولوشن سوكر 2012',\n",
              " 'برو إفولوشن سوكر 2013',\n",
              " 'برو إيفليوشن سوكر 2008',\n",
              " 'برونو فيرنانديز',\n",
              " 'بطولة أمم أوروبا',\n",
              " 'بطولة أمم أوروبا 2004',\n",
              " 'بطولة أمم أوروبا 2008',\n",
              " 'بطولة أمم أوروبا 2008 المجموعة أ',\n",
              " 'بطولة أمم أوروبا 2012',\n",
              " 'بطولة أمم أوروبا 2016',\n",
              " 'بطولة أمم أوروبا 2016 المجموعة د',\n",
              " 'بطولة أمم أوروبا 2020',\n",
              " 'بطولة العالم للأندية 2000',\n",
              " 'بطولة العالم للأندية 2005',\n",
              " 'بغداد بونجاح',\n",
              " 'بلاي ستيشن',\n",
              " 'بلد الوليد',\n",
              " 'بوبي تشارلتون',\n",
              " 'بوبي كولنز',\n",
              " 'بوبي مور',\n",
              " 'بودابست',\n",
              " 'بورتسموث',\n",
              " 'بورتو',\n",
              " 'بوروسيا دورتموند',\n",
              " 'بوريسلاف سفيتكوفيتش',\n",
              " 'بول برايتنر',\n",
              " 'بول بوغبا',\n",
              " 'بول سكولز',\n",
              " 'بول غاسكوين',\n",
              " 'بول ميرسون',\n",
              " 'بولتون واندررز',\n",
              " 'بي بي',\n",
              " 'بي بي سي',\n",
              " 'بي بي سي سبورت',\n",
              " 'بي بي سي عربي',\n",
              " 'بيانات كرة القدم. دي إي',\n",
              " 'بيب غوارديولا',\n",
              " 'بيبي (اسم)',\n",
              " 'بيبي (لاعب كرة قدم، 1983)',\n",
              " 'بيت براغانزا',\n",
              " 'بيتار جيكوف',\n",
              " 'بيتر بارنز',\n",
              " 'بيتر تشيك',\n",
              " 'بيتر ريد',\n",
              " 'بيتر شمايكل',\n",
              " 'بيتر شيلتون',\n",
              " 'بيتر نوفاك',\n",
              " 'بيتي مارتينيز',\n",
              " 'بيرت تراوتمان',\n",
              " 'بيرس مورغان',\n",
              " 'بيل سلاتر',\n",
              " 'بيلي بريمنير',\n",
              " 'بيلي رايت',\n",
              " 'بيليه',\n",
              " 'بينت لوفكيست',\n",
              " 'بيورن بورغ',\n",
              " 'تأجير الرحم',\n",
              " 'تاريخ كرة القدم',\n",
              " 'تاليسكا',\n",
              " 'تانجو جولاك',\n",
              " 'تايم (مجلة)',\n",
              " 'ترنت ألكساندر-أرنولد',\n",
              " 'تريسور مبوتو',\n",
              " 'تشابي ألونسو',\n",
              " 'تشافي هيرنانديز',\n",
              " 'تشكيلة العام في الدوري الإيطالي',\n",
              " 'تشهير',\n",
              " 'تشيرو إيموبيلي',\n",
              " 'تصفيات بطولة أمم أوروبا 2008',\n",
              " 'تصفيات بطولة أمم أوروبا 2012',\n",
              " 'تصفيات بطولة أمم أوروبا 2016',\n",
              " 'تصفيات بطولة أمم أوروبا 2020',\n",
              " 'تصفيات بطولة أمم أوروبا 2024',\n",
              " 'تصفيات كأس العالم 2006',\n",
              " 'تصفيات كأس العالم 2010',\n",
              " 'تصفيات كأس العالم 2014',\n",
              " 'تصفيات كأس العالم 2014 (أوروبا)',\n",
              " 'تصفيات كأس العالم 2018',\n",
              " 'تصفيات كأس العالم 2022',\n",
              " 'تصفيات كأس العالم 2022 (يويفا)',\n",
              " 'تصميم أزياء',\n",
              " 'توتنهام هوتسبير',\n",
              " 'تود بولي',\n",
              " 'توربيورن نيلسون',\n",
              " 'توم فيني',\n",
              " 'توماس توخل',\n",
              " 'توماس مولر',\n",
              " 'توني آدمز',\n",
              " 'توني بوك',\n",
              " 'توني بولستر',\n",
              " 'توني وودكوك',\n",
              " 'تويتر',\n",
              " 'تياغو ألكانتارا',\n",
              " 'تيدي شيرنغهام',\n",
              " 'تيري مكديرموت',\n",
              " 'تيلمو زارا',\n",
              " 'تيمور الشرقية',\n",
              " 'تييري هنري',\n",
              " 'ثلاثية (كرة القدم)',\n",
              " 'جائزة أفضل لاعب شاب في إنجلترا',\n",
              " 'جائزة أفضل لاعب في أوروبا',\n",
              " 'جائزة أفضل لاعب في إنجلترا',\n",
              " 'جائزة أفضل لاعب في إنجلترا من اتحاد كتاب كرة القدم',\n",
              " 'جائزة أفضل لاعب في المباراة',\n",
              " 'جائزة أفضل لاعب كرة قدم في العالم',\n",
              " 'جائزة أفضل لاعب كرة قدم في العالم 1991',\n",
              " 'جائزة أفضل لاعب كرة قدم في العالم 1992',\n",
              " 'جائزة أفضل لاعب كرة قدم في العالم 1993',\n",
              " 'جائزة أفضل لاعب كرة قدم في العالم 1994',\n",
              " 'جائزة أفضل لاعب كرة قدم في العالم 1995',\n",
              " 'جائزة أفضل لاعب كرة قدم في العالم 1996',\n",
              " 'جائزة أفضل لاعب كرة قدم في العالم 1997',\n",
              " 'جائزة أفضل لاعب كرة قدم في العالم 1998',\n",
              " 'جائزة أفضل لاعب كرة قدم في العالم 1999',\n",
              " 'جائزة أفضل لاعب كرة قدم في العالم 2000',\n",
              " 'جائزة أفضل لاعب كرة قدم في العالم 2001',\n",
              " 'جائزة أفضل لاعب كرة قدم في العالم 2002',\n",
              " 'جائزة أفضل لاعب كرة قدم في العالم 2003',\n",
              " 'جائزة أفضل لاعب كرة قدم في العالم 2004',\n",
              " 'جائزة أفضل لاعب كرة قدم في العالم 2005',\n",
              " 'جائزة أفضل لاعب كرة قدم في العالم 2006',\n",
              " 'جائزة أفضل لاعب كرة قدم في العالم 2007',\n",
              " 'جائزة أفضل لاعب كرة قدم في العالم 2008',\n",
              " 'جائزة أفضل لاعب كرة قدم في العالم 2009',\n",
              " 'جائزة ألفريدو دي ستيفانو',\n",
              " 'جائزة أونز الذهبية',\n",
              " 'جائزة إفي',\n",
              " 'جائزة الحذاء الذهبي الأوروبي',\n",
              " 'جائزة الحذاء الذهبي في الدوري الإنجليزي الممتاز',\n",
              " 'جائزة السير مات بسبي لأفضل لاعب في العام',\n",
              " 'جائزة الفيفا لأفضل لاعب',\n",
              " 'جائزة القدم الذهبية',\n",
              " 'جائزة الكرة الذهبية',\n",
              " 'جائزة الكرة الذهبية (توضيح)',\n",
              " 'جائزة الكرة الذهبية 1956',\n",
              " 'جائزة الكرة الذهبية 1957',\n",
              " 'جائزة الكرة الذهبية 1958',\n",
              " 'جائزة الكرة الذهبية 1959',\n",
              " 'جائزة الكرة الذهبية 1960',\n",
              " 'جائزة الكرة الذهبية 1961',\n",
              " 'جائزة الكرة الذهبية 1962',\n",
              " 'جائزة الكرة الذهبية 1963',\n",
              " 'جائزة الكرة الذهبية 1964',\n",
              " 'جائزة الكرة الذهبية 1965',\n",
              " 'جائزة الكرة الذهبية 1966',\n",
              " 'جائزة الكرة الذهبية 1967',\n",
              " 'جائزة الكرة الذهبية 1968',\n",
              " 'جائزة الكرة الذهبية 1969',\n",
              " 'جائزة الكرة الذهبية 1970',\n",
              " 'جائزة الكرة الذهبية 1971',\n",
              " 'جائزة الكرة الذهبية 1972',\n",
              " 'جائزة الكرة الذهبية 1973',\n",
              " 'جائزة الكرة الذهبية 1974',\n",
              " 'جائزة الكرة الذهبية 1975',\n",
              " 'جائزة الكرة الذهبية 1976',\n",
              " 'جائزة الكرة الذهبية 1977',\n",
              " 'جائزة الكرة الذهبية 1978',\n",
              " 'جائزة الكرة الذهبية 1979',\n",
              " 'جائزة الكرة الذهبية 1980',\n",
              " 'جائزة الكرة الذهبية 1981',\n",
              " 'جائزة الكرة الذهبية 1982',\n",
              " 'جائزة الكرة الذهبية 1983',\n",
              " 'جائزة الكرة الذهبية 1984',\n",
              " 'جائزة الكرة الذهبية 1985',\n",
              " 'جائزة الكرة الذهبية 1986',\n",
              " 'جائزة الكرة الذهبية 1987',\n",
              " 'جائزة الكرة الذهبية 1988',\n",
              " 'جائزة الكرة الذهبية 1989',\n",
              " 'جائزة الكرة الذهبية 1990',\n",
              " 'جائزة الكرة الذهبية 1991',\n",
              " 'جائزة الكرة الذهبية 1992',\n",
              " 'جائزة الكرة الذهبية 1993',\n",
              " 'جائزة الكرة الذهبية 1994',\n",
              " 'جائزة الكرة الذهبية 1995',\n",
              " 'جائزة الكرة الذهبية 1996',\n",
              " 'جائزة الكرة الذهبية 1997',\n",
              " 'جائزة الكرة الذهبية 1998',\n",
              " 'جائزة الكرة الذهبية 1999',\n",
              " 'جائزة الكرة الذهبية 2000',\n",
              " 'جائزة الكرة الذهبية 2001',\n",
              " 'جائزة الكرة الذهبية 2002',\n",
              " 'جائزة الكرة الذهبية 2003',\n",
              " 'جائزة الكرة الذهبية 2004',\n",
              " 'جائزة الكرة الذهبية 2005',\n",
              " 'جائزة الكرة الذهبية 2006',\n",
              " 'جائزة الكرة الذهبية 2007',\n",
              " 'جائزة الكرة الذهبية 2008',\n",
              " 'جائزة الكرة الذهبية 2009',\n",
              " 'جائزة الكرة الذهبية 2016',\n",
              " 'جائزة الكرة الذهبية 2017',\n",
              " 'جائزة الكرة الذهبية 2018',\n",
              " 'جائزة الكرة الذهبية 2019',\n",
              " 'جائزة الكرة الذهبية 2021',\n",
              " 'جائزة الكرة الذهبية 2022',\n",
              " 'جائزة اليويفا لأفضل فريق',\n",
              " 'جائزة اليويفا لأفضل لاعب',\n",
              " 'جائزة برافو',\n",
              " 'جائزة بوشكاش',\n",
              " 'جائزة بوشكاش 2012',\n",
              " 'جائزة بوشكاش لأفضل هدف 2015',\n",
              " 'جائزة بيتشيشي',\n",
              " 'جائزة لاعب العام في الدوري الإيطالي',\n",
              " 'جائزة لاعب الموسم في الدوري الإنجليزي الممتاز',\n",
              " 'جاستن بيبر',\n",
              " 'جاسم الهويدي',\n",
              " 'جاك تشارلتون',\n",
              " 'جاك ويلشير',\n",
              " 'جان بيير بابان',\n",
              " 'جان مارك فيريري',\n",
              " 'جانلوكا فيالي',\n",
              " 'جانلويجي بوفون',\n",
              " 'جاني ريفيرا',\n",
              " 'جاي ديميل',\n",
              " 'جنيف',\n",
              " 'جنيه إسترليني',\n",
              " 'جو فريزر',\n",
              " 'جو ميرسر',\n",
              " 'جو هارت',\n",
              " 'جوائز الدوري الإسباني',\n",
              " 'جوائز الفيفا للأفضل كرويا',\n",
              " 'جوائز الفيفا للأفضل كرويا 2016',\n",
              " 'جوائز الفيفا للأفضل كرويا 2017',\n",
              " 'جوائز الفيفا للأفضل كرويا 2018',\n",
              " 'جوائز الفيفا للأفضل كرويا 2019',\n",
              " 'جوائز الفيفا للأفضل كرويا 2020',\n",
              " 'جوائز الفيفا للأفضل كرويا 2021',\n",
              " 'جوائز الفيفا للأفضل كرويا 2022',\n",
              " 'جوائز بطولة أمم أوروبا',\n",
              " 'جوائز جلوب سوكر',\n",
              " 'جواو بالينيا',\n",
              " 'جواو فيليكس',\n",
              " 'جواو كانسيلو',\n",
              " 'جواو ماريو',\n",
              " 'جواو موتينيو',\n",
              " 'جوجل',\n",
              " 'جورج بست',\n",
              " 'جورج ويا',\n",
              " 'جورجينا رودريغيز',\n",
              " 'جورجينيو (لاعب كرة قدم، مواليد 1991)',\n",
              " 'جورجيو كيلليني',\n",
              " 'جوردان هندرسون',\n",
              " 'جوزيبي سينيوري',\n",
              " 'جوزيف بيكان',\n",
              " 'جوزيه أغواس',\n",
              " 'جوزيه أغوستو توريس',\n",
              " 'جوزيه ألتافيني',\n",
              " 'جوزيه سا',\n",
              " 'جوزيه مورينيو',\n",
              " 'جوست فونتين',\n",
              " 'جوستو تيخادا',\n",
              " 'جوسيب سكوبلار',\n",
              " 'جون بارنس',\n",
              " 'جون تشارلز',\n",
              " 'جون تيري',\n",
              " 'جون ماكنرو',\n",
              " 'جون هانسن',\n",
              " 'جون وارك',\n",
              " 'جوني كاري',\n",
              " 'جونينيو باوليستا',\n",
              " 'جيانفرانكو زولا',\n",
              " 'جيرار هولييه',\n",
              " 'جيرارد بيكيه',\n",
              " 'جيرمان بيزيلا',\n",
              " 'جيرمان جيناس',\n",
              " 'جيسلان كونان',\n",
              " 'جيمس ميلنر',\n",
              " 'جيمي آدمسون',\n",
              " 'جيمي فاردي',\n",
              " 'جيمي كيس',\n",
              " 'جيورجي سلافكوف',\n",
              " 'حارس مرمى (كرة القدم)',\n",
              " 'حسين سعيد',\n",
              " 'حمد آل منصور',\n",
              " 'حميد ألتينتوب',\n",
              " 'خافيير سافيولا',\n",
              " 'خاميس رودريغيز',\n",
              " 'خريستو ستويتشكوف',\n",
              " 'خوان كوادرادو',\n",
              " 'خوان لابورتا',\n",
              " 'خورخي مينديز',\n",
              " 'خوسيه سالازار',\n",
              " 'خيتافي',\n",
              " 'داركو بانكيف',\n",
              " 'دافيد تريزيغيه',\n",
              " 'دافيد جينولا',\n",
              " 'دانى بلانشفلاور',\n",
              " 'داني ألفيس',\n",
              " 'دانيال أونيجا',\n",
              " 'دانيل زوري',\n",
              " 'دانيلو بيريرا',\n",
              " 'دانييل غويزا',\n",
              " 'دايتر هونيب',\n",
              " 'دايف مكاي',\n",
              " 'دجاج كنتاكي',\n",
              " 'درع الاتحاد الإنجليزي',\n",
              " 'درع المجتمع الإنجليزي',\n",
              " 'درع المجتمع الإنجليزي 2007',\n",
              " 'درع المجتمع الإنجليزي 2008',\n",
              " 'دوايت يورك',\n",
              " 'دودو جيورجيسكو',\n",
              " 'دوري أبطال آسيا',\n",
              " 'دوري أبطال أوروبا',\n",
              " 'دوري أبطال أوروبا 1992–93',\n",
              " 'دوري أبطال أوروبا 1993–94',\n",
              " 'دوري أبطال أوروبا 1994–95',\n",
              " 'دوري أبطال أوروبا 1995–96',\n",
              " 'دوري أبطال أوروبا 1996–97',\n",
              " 'دوري أبطال أوروبا 1997–98',\n",
              " 'دوري أبطال أوروبا 1998–99',\n",
              " 'دوري أبطال أوروبا 1999–2000',\n",
              " 'دوري أبطال أوروبا 2000–01',\n",
              " 'دوري أبطال أوروبا 2001–02',\n",
              " 'دوري أبطال أوروبا 2002–03',\n",
              " 'دوري أبطال أوروبا 2003–04',\n",
              " 'دوري أبطال أوروبا 2004–05',\n",
              " 'دوري أبطال أوروبا 2005–06',\n",
              " 'دوري أبطال أوروبا 2006–07',\n",
              " 'دوري أبطال أوروبا 2007–08',\n",
              " 'دوري أبطال أوروبا 2008–09',\n",
              " 'دوري أبطال أوروبا 2009–10',\n",
              " 'دوري أبطال أوروبا 2010–11',\n",
              " 'دوري أبطال أوروبا 2011–12',\n",
              " 'دوري أبطال أوروبا 2012–13',\n",
              " 'دوري أبطال أوروبا 2013–14',\n",
              " 'دوري أبطال أوروبا 2014–15',\n",
              " 'دوري أبطال أوروبا 2015–16',\n",
              " 'دوري أبطال أوروبا 2016–17',\n",
              " 'دوري أبطال أوروبا 2017–18',\n",
              " 'دوري أبطال أوروبا 2018–19',\n",
              " 'دوري أبطال أوروبا 2019–20',\n",
              " 'دوري أبطال أوروبا 2020–21',\n",
              " 'دوري أبطال أوروبا 2021–22',\n",
              " 'دوري الأمم الأوروبية',\n",
              " 'دوري الأمم الأوروبية 2018–19',\n",
              " 'دوري الأمم الأوروبية 2020–21',\n",
              " 'دوري الأمم الأوروبية 2022–23',\n",
              " 'دوري المحترفين السعودي',\n",
              " 'دوري المحترفين السعودي 2022–23',\n",
              " 'دورين ماتيوت',\n",
              " 'دولار أمريكي',\n",
              " 'دومينيكو بيراردي',\n",
              " 'دون ريفي',\n",
              " 'ديبورتيفو لاكورونيا',\n",
              " 'ديدي',\n",
              " 'ديربي مانشستر',\n",
              " 'ديربي مدريد',\n",
              " 'ديفيد بلات',\n",
              " 'ديفيد بيكهام',\n",
              " 'ديفيد تايلور',\n",
              " 'ديفيد نافارو',\n",
              " 'ديكو',\n",
              " 'ديلي ألي',\n",
              " 'ديلي تلغراف',\n",
              " 'ديلي ميرور',\n",
              " 'ديميتري باييت',\n",
              " 'دينامو كييف',\n",
              " 'دينكو إيليتشيتش',\n",
              " 'دينيس بيركامب',\n",
              " 'دينيس فويلت',\n",
              " 'دينيس لو',\n",
              " 'ديوغو دالوت',\n",
              " 'ديوغو كوستا',\n",
              " 'دييغو سيميوني',\n",
              " 'دييغو فورلان',\n",
              " 'دييغو كوستا',\n",
              " 'دييغو مارادونا',\n",
              " 'دييغو ميليتو',\n",
              " 'ذا صن',\n",
              " 'ذي إندبندنت',\n",
              " 'رئيس الولايات المتحدة',\n",
              " 'راؤول غونزاليس',\n",
              " 'راؤول ميريلس',\n",
              " 'رابح ماجر',\n",
              " 'راداميل فالكاو',\n",
              " 'رافاييل غيريرو',\n",
              " 'رالف رانغنيك',\n",
              " 'راميريز',\n",
              " 'رايو فايكانو',\n",
              " 'رحيم ستيرلينغ',\n",
              " 'رفائيل لياو',\n",
              " 'ركلات جزاء ترجيحية (كرة القدم)',\n",
              " 'ركلة جزاء',\n",
              " 'ركلة حرة مباشرة (كرة القدم)',\n",
              " 'روبرت بروزينيسكي',\n",
              " 'روبرت ليفاندوفسكي',\n",
              " 'روبرتو أكونيا',\n",
              " 'روبرتو باجو',\n",
              " 'روبرتو فيرمينو',\n",
              " 'روبرتو كارلوس',\n",
              " 'روبرتو مانشيني',\n",
              " 'روبن دياز',\n",
              " 'روبن نيفيز',\n",
              " 'روبي فاولر',\n",
              " 'روبي كين',\n",
              " 'روبير بيريز',\n",
              " 'روبين فان بيرسي',\n",
              " 'روجيريو سيني',\n",
              " 'رود خوليت',\n",
              " 'رود فان نيستلروي',\n",
              " 'روديون كاماتارو',\n",
              " 'روماريو',\n",
              " 'رومل فرنانديز',\n",
              " 'روميلو لوكاكو',\n",
              " 'رونالد ريغان',\n",
              " 'رونالد كومان',\n",
              " 'رونالدو',\n",
              " 'رونالدو (فيلم)',\n",
              " 'رونالدينيو',\n",
              " 'روني روك',\n",
              " 'روي أغواس',\n",
              " 'روي باتريسيو',\n",
              " 'روي كوستا',\n",
              " 'روي ماكاي',\n",
              " 'رياض محرز',\n",
              " 'ريال بيتيس',\n",
              " 'ريال سبورتينغ خيخون',\n",
              " 'ريال سرقسطة',\n",
              " 'ريال سوسيداد',\n",
              " 'ريال مايوركا',\n",
              " 'ريال مدريد',\n",
              " 'ريال مدريد موسم 2009–10',\n",
              " 'ريال مدريد موسم 2010–11',\n",
              " 'ريال مدريد موسم 2011–12',\n",
              " 'ريال مدريد موسم 2012–13',\n",
              " 'ريال مدريد موسم 2013–14',\n",
              " 'ريال مدريد موسم 2014–15',\n",
              " 'ريال مدريد موسم 2015–16',\n",
              " 'ريال مدريد موسم 2016–17',\n",
              " 'ريال مدريد موسم 2017–18',\n",
              " 'ريان غيغز',\n",
              " 'ريانا',\n",
              " 'ريتشارد هيوز',\n",
              " 'ريفالدو',\n",
              " 'ريكاردو كارفاليو',\n",
              " 'ريكاردو كواريسما',\n",
              " 'ريكاردو هورتا',\n",
              " 'ريكو (لاعب كرة قدم)',\n",
              " 'ريموند كوبا',\n",
              " 'ريو فرديناند',\n",
              " 'زفياد إنديلادزه',\n",
              " 'زلاتان إبراهيموفيتش',\n",
              " 'زلزال وتسونامي المحيط الهندي 2004',\n",
              " 'زيكو',\n",
              " 'زين الدين زيدان',\n",
              " 'ساديو ماني',\n",
              " 'سامي النجعي',\n",
              " 'سامي خضيرة',\n",
              " 'سان دوني',\n",
              " 'سان سيرو',\n",
              " 'سانتو أنطونيو (فونشال)',\n",
              " 'ساندرو ماتسولا',\n",
              " 'ساو بيدرو (فونشال)',\n",
              " 'ساو فيسنتي، الرأس الأخضر',\n",
              " 'سبورتس إليسترايتد',\n",
              " 'سبورتنج نيوز',\n",
              " 'سبورتينغ براغا',\n",
              " 'سبورتينغ كانساس سيتي',\n",
              " 'سبورتينغ لشبونة',\n",
              " 'سبورتينغ لشبونة ب',\n",
              " 'ستانلي ماثيوس',\n",
              " 'ستيف بيريمان',\n",
              " 'ستيف موران',\n",
              " 'ستيف نيكول',\n",
              " 'ستيفن جيرارد',\n",
              " 'سرطان',\n",
              " 'سرطان الثدي',\n",
              " 'سرعة القلب',\n",
              " 'سعيد العويران',\n",
              " 'سفينسكا داغبلادت',\n",
              " 'سكاي سبورتس',\n",
              " 'سكوت باركر',\n",
              " 'سلطان الغنام (لاعب كرة قدم مواليد 1994)',\n",
              " 'سوتيريس كايافاس',\n",
              " 'سورين لربي',\n",
              " 'سوزوكي',\n",
              " 'سون هيونغ مين',\n",
              " 'سويسرا',\n",
              " 'سي إن إن',\n",
              " 'سي إن إن بالعربية',\n",
              " 'سيد أوين',\n",
              " 'سيرجيو بوسكيتس',\n",
              " 'سيرخيو أغويرو',\n",
              " 'سيرخيو راموس',\n",
              " 'سيرغي يوران',\n",
              " 'سيريل ريجيس',\n",
              " 'سيسك فابريغاس',\n",
              " 'سيلتا فيغو',\n",
              " 'سيلفستر تاكاك',\n",
              " 'سيلفي',\n",
              " 'شالكه 04',\n",
              " 'شانانا غوسماو',\n",
              " 'شتيفان إيفنبرغ',\n",
              " 'شينجي أوكازاكي',\n",
              " 'صامويل إيتو',\n",
              " 'صيغة المستندات المنقولة',\n",
              " 'ضربة حرة غير مباشرة (كرة القدم)',\n",
              " 'ضربة مقصية',\n",
              " 'طاه',\n",
              " 'عائلة سيمبسون',\n",
              " 'عبد الإله العمري',\n",
              " 'عبد الرحمن غريب',\n",
              " 'عبد العزيز العليوه',\n",
              " 'عبد العزيز العويرضي',\n",
              " 'عبد العزيز الفرج',\n",
              " 'عبد الله الخيبري (لاعب كرة قدم مواليد 1996)',\n",
              " 'عبد الله مادو',\n",
              " 'عبد المجيد الصليهم',\n",
              " 'علي الحسن',\n",
              " 'علي دائي',\n",
              " 'علي لاجامي',\n",
              " 'عمر سيفوري',\n",
              " 'غابرييل باتيستوتا',\n",
              " 'غابي',\n",
              " 'غاري باليستر',\n",
              " 'غاري بيرتليس',\n",
              " 'غاري شو',\n",
              " 'غاري لينيكر',\n",
              " 'غاري نيفيل',\n",
              " 'غاريث بيل',\n",
              " 'غارينشيا',\n",
              " 'غرايم سونيس',\n",
              " 'غلطة سراي',\n",
              " 'غلين هودل',\n",
              " 'غوردون بانكس',\n",
              " 'غوردون ستراكان',\n",
              " 'غورغي هاجي',\n",
              " 'غونزالو راموس (لاعب كرة قدم)',\n",
              " 'غونزالو هيغواين',\n",
              " 'غونسالو راموس',\n",
              " 'غيرد مولر',\n",
              " 'فابريزيو رومانو',\n",
              " 'فابيو كانافارو',\n",
              " 'فابيو كوالياريلا',\n",
              " 'فابيو كوينتراو',\n",
              " 'فانيتي فير',\n",
              " 'فخذ',\n",
              " 'فرانتس بكنباور',\n",
              " 'فرانس ثيسين',\n",
              " 'فرانس فوتبول',\n",
              " 'فرانشيسكو توتي',\n",
              " 'فرانك ريبيري',\n",
              " 'فرانك ريكارد',\n",
              " 'فرانك لامبارد',\n",
              " 'فرانك مكلينتوك',\n",
              " 'فرانكو باريزي',\n",
              " 'فرانكو كوتشينوتا',\n",
              " 'فرناندو توريس',\n",
              " 'فرناندو سانتوس',\n",
              " 'فرناندو مورينتس',\n",
              " 'فرنسا',\n",
              " 'فري فاير',\n",
              " 'فريدريك ليونغبرغ',\n",
              " 'فريق الأحلام لجائزة الكرة الذهبية',\n",
              " 'فريق العام من اتحاد لاعبي كرة القدم المحترفين',\n",
              " 'فرينيك بيني',\n",
              " 'فلاديكا كوفاتشيفيتش',\n",
              " 'فلسطين',\n",
              " 'فلودزيميرز لوبانسكي',\n",
              " 'فلورنتينو بيريز',\n",
              " 'فلوريان ألبرت',\n",
              " 'فن عام',\n",
              " 'فور فور تو',\n",
              " 'فوربس',\n",
              " 'فورمولا 1',\n",
              " 'فولفسبورغ',\n",
              " 'فونشال',\n",
              " 'فيتور فيريرا',\n",
              " 'فيرجيل فان دايك',\n",
              " 'فيرناندو ريدوندو',\n",
              " 'فيرناندو غوميش',\n",
              " 'فيرينتس بوشكاش',\n",
              " 'فيسبوك',\n",
              " 'فيصل مجرشي (لاعب كرة قدم مواليد 2003)',\n",
              " 'فيفا 18',\n",
              " 'فيفبرو',\n",
              " 'فيكتور سوكول (لاعب كرة قدم مواليد 1954)',\n",
              " 'فيكتور فالديز',\n",
              " 'فيكتوريا بيكام',\n",
              " 'فيلم',\n",
              " 'فيليب لام',\n",
              " 'فيليبو إنزاغي',\n",
              " 'فيليتشي بوريل',\n",
              " 'فينسنت كومباني',\n",
              " 'فيورنتينا',\n",
              " 'قائد الفريق (كرة القدم)',\n",
              " 'قائمة أغلى صفقات انتقال لاعبي كرة القدم',\n",
              " 'قائمة أهداف كريستيانو رونالدو',\n",
              " 'قائمة أهداف كريستيانو رونالدو الدولية',\n",
              " 'قائمة إنجازات كريستيانو رونالدو',\n",
              " 'قائمة الهاتريك في كأس العالم',\n",
              " 'قائمة الهاتريك لكريستيانو رونالدو',\n",
              " 'قائمة قادة منتخب البرتغال لكرة القدم',\n",
              " 'قائمة لاعبي الدوري الإنجليزي الممتاز الذين سجلوا 100 هدف أو أكثر',\n",
              " 'قائمة لاعبي كرة القدم الذين سجلوا أكثر من 500 هدف',\n",
              " 'قائمة لاعبي كرة القدم بأكثرهم ظهورا في المباريات الرسمية',\n",
              " 'قائمة لاعبي كرة قدم لعبوا مئة مباراة دولية على الأقل',\n",
              " 'قائمة هدافي بطولة أمم أوروبا',\n",
              " 'قائمة هدافي دوري أبطال أوروبا',\n",
              " 'قانون أهداف خارج الديار',\n",
              " 'قبرص',\n",
              " 'قرم (نبات)',\n",
              " 'قطاع غزة',\n",
              " 'قطر',\n",
              " 'كأس أوروبا 1955–56',\n",
              " 'كأس أوروبا 1956–57',\n",
              " 'كأس أوروبا 1957–58',\n",
              " 'كأس أوروبا 1958–59',\n",
              " 'كأس أوروبا 1959–60',\n",
              " 'كأس أوروبا 1960–61',\n",
              " 'كأس أوروبا 1961–62',\n",
              " 'كأس أوروبا 1962–63',\n",
              " 'كأس أوروبا 1963–64',\n",
              " 'كأس أوروبا 1964–65',\n",
              " 'كأس أوروبا 1965–66',\n",
              " 'كأس أوروبا 1966–67',\n",
              " 'كأس أوروبا 1967–68',\n",
              " 'كأس أوروبا 1968–69',\n",
              " 'كأس أوروبا 1969–70',\n",
              " 'كأس أوروبا 1970–71',\n",
              " 'كأس أوروبا 1971–72',\n",
              " 'كأس أوروبا 1972–73',\n",
              " 'كأس أوروبا 1973–74',\n",
              " 'كأس أوروبا 1974–75',\n",
              " 'كأس أوروبا 1975–76',\n",
              " 'كأس أوروبا 1976–77',\n",
              " 'كأس أوروبا 1977–78',\n",
              " 'كأس أوروبا 1978–79',\n",
              " 'كأس أوروبا 1979–80',\n",
              " 'كأس أوروبا 1980–81',\n",
              " 'كأس أوروبا 1981–82',\n",
              " 'كأس أوروبا 1982–83',\n",
              " 'كأس أوروبا 1983–84',\n",
              " 'كأس أوروبا 1984–85',\n",
              " 'كأس أوروبا 1985–86',\n",
              " 'كأس أوروبا 1986–87',\n",
              " 'كأس أوروبا 1987–88',\n",
              " 'كأس أوروبا 1988–89',\n",
              " 'كأس أوروبا 1989–90',\n",
              " 'كأس أوروبا 1990–91',\n",
              " 'كأس أوروبا 1991–92',\n",
              " 'كأس إيطاليا',\n",
              " 'كأس إيطاليا 2020–21',\n",
              " 'كأس الاتحاد الإنجليزي',\n",
              " 'كأس الاتحاد الإنجليزي 2003–04',\n",
              " 'كأس البرتغال',\n",
              " 'كأس السوبر الأوروبي',\n",
              " 'كأس السوبر الأوروبي 2014',\n",
              " 'كأس السوبر الأوروبي 2016',\n",
              " 'كأس السوبر الأوروبي 2017',\n",
              " 'كأس السوبر الإسباني',\n",
              " 'كأس السوبر الإسباني 2012',\n",
              " 'كأس السوبر الإسباني 2017',\n",
              " 'كأس السوبر الإيطالي',\n",
              " 'كأس السوبر الإيطالي 2018',\n",
              " 'كأس السوبر الإيطالي 2020',\n",
              " 'كأس السوبر البرتغالي',\n",
              " 'كأس السوبر البرتغالي 2002',\n",
              " 'كأس السوبر السعودي 2022',\n",
              " 'كأس العالم',\n",
              " 'كأس العالم 1966',\n",
              " 'كأس العالم 2006',\n",
              " 'كأس العالم 2010',\n",
              " 'كأس العالم 2010 المجموعة السابعة',\n",
              " 'كأس العالم 2014',\n",
              " 'كأس العالم 2018',\n",
              " 'كأس العالم 2022',\n",
              " 'كأس العالم للأندية',\n",
              " 'كأس العالم للأندية 2006',\n",
              " 'كأس العالم للأندية 2007',\n",
              " 'كأس العالم للأندية 2008',\n",
              " 'كأس العالم للأندية 2009',\n",
              " 'كأس العالم للأندية 2010',\n",
              " 'كأس العالم للأندية 2011',\n",
              " 'كأس العالم للأندية 2012',\n",
              " 'كأس العالم للأندية 2013',\n",
              " 'كأس العالم للأندية 2014',\n",
              " 'كأس العالم للأندية 2015',\n",
              " 'كأس العالم للأندية 2016',\n",
              " 'كأس العالم للأندية 2017',\n",
              " 'كأس العالم للأندية 2018',\n",
              " 'كأس العالم للأندية 2019',\n",
              " 'كأس العالم للأندية 2020',\n",
              " 'كأس العرب للأندية الأبطال',\n",
              " 'كأس العرب للأندية الأبطال 2023',\n",
              " 'كأس القارات',\n",
              " 'كأس القارات 2017',\n",
              " 'كأس الملك (إسبانيا)',\n",
              " 'كأس رابطة الأندية الإنجليزية المحترفة',\n",
              " 'كابوكانونيري',\n",
              " 'كاتيا أفييرو',\n",
              " 'كاثوليكية',\n",
              " 'كارل-هاينتس رومنيغه',\n",
              " 'كارلو أنشيلوتي',\n",
              " 'كارلوس ألبرتو بيريرا',\n",
              " 'كارلوس تيفيز',\n",
              " 'كارلوس كيروش',\n",
              " 'كاسترول (شركة)',\n",
              " 'كاسيميرو',\n",
              " 'كاسيو راموس',\n",
              " 'كاشيما أنتلرز',\n",
              " 'كافو',\n",
              " 'كاكا',\n",
              " 'كامب نو',\n",
              " 'كايل ووكر',\n",
              " 'كحول',\n",
              " 'كرة الفيفا الذهبية',\n",
              " 'كرة الفيفا الذهبية 2010',\n",
              " 'كرة الفيفا الذهبية 2011',\n",
              " 'كرة الفيفا الذهبية 2012',\n",
              " 'كرة الفيفا الذهبية 2013',\n",
              " 'كرة الفيفا الذهبية 2014',\n",
              " 'كرة الفيفا الذهبية 2015',\n",
              " 'كرة القدم',\n",
              " 'كرة القدم في الألعاب الأولمبية الصيفية 2004',\n",
              " 'كرة المضرب',\n",
              " 'كريس وادل',\n",
              " 'كريستوف ميتسلدر',\n",
              " 'كريستيان بانوتشي',\n",
              " 'كريستيان فييري',\n",
              " 'كريستيانو رونالدو: العالم عند قدميه',\n",
              " 'كريغ بيلامي',\n",
              " 'كريم باقري',\n",
              " 'كريم بنزيما',\n",
              " 'كلاس يان هونتيلار',\n",
              " 'كلاوديو سولسر',\n",
              " 'كليف ألين',\n",
              " 'كورا (موقع ويب)',\n",
              " 'كوكا كولا',\n",
              " 'كولن تود',\n",
              " 'كونامي',\n",
              " 'كووورة',\n",
              " 'كي (طب)',\n",
              " 'كيتي بيري',\n",
              " 'كيس كيست',\n",
              " 'كيفن بيتي',\n",
              " 'كيفن دي بروين',\n",
              " 'كيفن فيليبس',\n",
              " 'كيفن كيغان',\n",
              " 'كيلور نافاس',\n",
              " 'كيني بيرنز',\n",
              " 'كيني دالغليش',\n",
              " 'كييفو فيرونا',\n",
              " 'لاسزلو بولوني',\n",
              " 'لاعب الشهر في الدوري الإسباني',\n",
              " 'لاعب الشهر في الدوري الإنجليزي الممتاز',\n",
              " 'لاعب كرة قدم',\n",
              " 'لاعب وسط (كرة القدم)',\n",
              " 'لشبونة',\n",
              " 'لنس',\n",
              " 'لوتار ماتيوس',\n",
              " 'لوس أنجلوس غلاكسي',\n",
              " 'لوكا توني',\n",
              " 'لوكا مودريتش',\n",
              " 'لوكاس بودولسكي',\n",
              " 'لوكوموتيف موسكو',\n",
              " 'لوي ماكاري',\n",
              " 'لويس سواريز',\n",
              " 'لويس سواريز ميرامونتيس',\n",
              " 'لويس فيغو',\n",
              " 'لي شارب (لاعب كرة قدم)',\n",
              " 'ليام برادي',\n",
              " 'ليدي غاغا',\n",
              " 'ليروي ساني',\n",
              " 'ليزر',\n",
              " 'ليس فيرديناند',\n",
              " 'ليسي سانتوس',\n",
              " 'ليف ياشين',\n",
              " 'ليفربول',\n",
              " 'ليكيب (صحيفة)',\n",
              " 'ليوناردو بونوتشي',\n",
              " 'ليونيل ميسي',\n",
              " 'ماتياس زامر',\n",
              " 'ماتيو لو تيسيي',\n",
              " 'ماتيوس نونيز',\n",
              " 'ماجد قشيش',\n",
              " 'ماديرا',\n",
              " 'مارتن هيريرا',\n",
              " 'مارس',\n",
              " 'مارسيلو',\n",
              " 'مارسيلو بروزوفيتش',\n",
              " 'مارك هيوز',\n",
              " 'ماركا (صحيفة)',\n",
              " 'ماركو فان باستن',\n",
              " ...]"
            ]
          },
          "metadata": {},
          "execution_count": 16
        }
      ]
    },
    {
      "cell_type": "code",
      "source": [
        "page.sections"
      ],
      "metadata": {
        "colab": {
          "base_uri": "https://localhost:8080/",
          "height": 35
        },
        "id": "Ce2-Tul-3rKH",
        "outputId": "85494166-4588-41d8-b9cc-bd6df40089c6"
      },
      "execution_count": 18,
      "outputs": [
        {
          "output_type": "display_data",
          "data": {
            "text/plain": [
              "<IPython.core.display.Javascript object>"
            ],
            "application/javascript": [
              "google.colab.output.setIframeHeight(0, true, {maxHeight: 5000})"
            ]
          },
          "metadata": {}
        },
        {
          "output_type": "execute_result",
          "data": {
            "text/plain": [
              "[]"
            ]
          },
          "metadata": {},
          "execution_count": 18
        }
      ]
    },
    {
      "cell_type": "markdown",
      "source": [
        "## Filitering Categories"
      ],
      "metadata": {
        "id": "Zn6dA_U51Bzy"
      }
    },
    {
      "cell_type": "code",
      "source": [
        "categories_list = page.categories\n",
        "categories_list"
      ],
      "metadata": {
        "colab": {
          "base_uri": "https://localhost:8080/",
          "height": 2939
        },
        "id": "B9L_EvQE3pSn",
        "outputId": "00019036-f272-473b-b214-7332f838e814"
      },
      "execution_count": 26,
      "outputs": [
        {
          "output_type": "display_data",
          "data": {
            "text/plain": [
              "<IPython.core.display.Javascript object>"
            ],
            "application/javascript": [
              "google.colab.output.setIframeHeight(0, true, {maxHeight: 5000})"
            ]
          },
          "metadata": {}
        },
        {
          "output_type": "execute_result",
          "data": {
            "text/plain": [
              "['تصنيف:Articles using Template:Medal with Runner-up',\n",
              " 'تصنيف:Articles using Template:Medal with Winner',\n",
              " 'تصنيف:أجنحة كرة قدم',\n",
              " 'تصنيف:أخطاء الاستشهاد: اسم عام',\n",
              " 'تصنيف:أخطاء الاستشهاد: المسار',\n",
              " 'تصنيف:أخطاء الاستشهاد: وسائط غير معروفة فارغة',\n",
              " 'تصنيف:أشخاص على قيد الحياة',\n",
              " 'تصنيف:الاستشهاد بمصادر باللغة الإنجليزية (en)',\n",
              " 'تصنيف:الاستشهاد بمصادر باللغة الإنجليزية الأمريكية (en-us)',\n",
              " 'تصنيف:الاستشهاد بمصادر باللغة الإنجليزية البريطانية (en-gb)',\n",
              " 'تصنيف:الاستشهاد بمصادر باللغة الإيطالية (it)',\n",
              " 'تصنيف:الاستشهاد بمصادر باللغة البرتغالية (pt)',\n",
              " 'تصنيف:الاستشهاد بمصادر باللغة البرتغالية الأوروبية (pt-pt)',\n",
              " 'تصنيف:الاستشهاد بمصادر باللغة السويدية (sv)',\n",
              " 'تصنيف:الاستشهاد بمصادر باللغة الفنلندية (fi)',\n",
              " 'تصنيف:برتغاليون من أصل كابفيردي',\n",
              " 'تصنيف:بوابة أرقام قياسية/مقالات متعلقة',\n",
              " 'تصنيف:بوابة أعلام/مقالات متعلقة',\n",
              " 'تصنيف:بوابة ألعاب أولمبية/مقالات متعلقة',\n",
              " 'تصنيف:بوابة إسبانيا/مقالات متعلقة',\n",
              " 'تصنيف:بوابة إنجلترا/مقالات متعلقة',\n",
              " 'تصنيف:بوابة إيطاليا/مقالات متعلقة',\n",
              " 'تصنيف:بوابة البرتغال/مقالات متعلقة',\n",
              " 'تصنيف:بوابة السعودية/مقالات متعلقة',\n",
              " 'تصنيف:بوابة كأس العالم/مقالات متعلقة',\n",
              " 'تصنيف:بوابة كرة القدم/مقالات متعلقة',\n",
              " 'تصنيف:بوابة كرة القدم الإسبانية/مقالات متعلقة',\n",
              " 'تصنيف:بوابة كرة القدم الإنجليزية/مقالات متعلقة',\n",
              " 'تصنيف:بوابة كرة القدم الإيطالية/مقالات متعلقة',\n",
              " 'تصنيف:بوابة كرة القدم البرتغالية/مقالات متعلقة',\n",
              " 'تصنيف:بوابة كرة القدم السعودية/مقالات متعلقة',\n",
              " 'تصنيف:جميع المقالات التي تستخدم شريط بوابات',\n",
              " 'تصنيف:جميع المقالات ذات الوصلات الخارجية المكسورة',\n",
              " 'تصنيف:حائزون على جائزة أفضل لاعب كرة قدم أوروبي',\n",
              " 'تصنيف:حائزون على جائزة الفيفا لأفضل لاعب في العالم',\n",
              " 'تصنيف:رومان كاثوليك برتغاليون',\n",
              " 'تصنيف:رياضيون برتغاليون مغتربون في إسبانيا',\n",
              " 'تصنيف:رياضيون برتغاليون مغتربون في إنجلترا',\n",
              " 'تصنيف:رياضيون برتغاليون مغتربون في إيطاليا',\n",
              " 'تصنيف:رياضيون برتغاليون مغتربون في السعودية',\n",
              " 'تصنيف:رياضيون من فونشال',\n",
              " 'تصنيف:صفحات بها أخطاء في البرنامج النصي',\n",
              " 'تصنيف:صفحات بها بيانات ويكي بيانات',\n",
              " 'تصنيف:صفحات بها شريط بوابات بأكثر من 10 بوابات',\n",
              " 'تصنيف:صفحات بها شريط بوابات بأكثر من 15 بوابات',\n",
              " 'تصنيف:صفحات بها مراجع ويكي بيانات',\n",
              " 'تصنيف:صفحات بها وصلات إنترويكي',\n",
              " 'تصنيف:صفحات تستخدم تركيب جملة مهمل للصور',\n",
              " 'تصنيف:صفحات تستخدم خاصية P1469',\n",
              " 'تصنيف:صفحات تستخدم خاصية P166',\n",
              " 'تصنيف:صفحات تستخدم خاصية P1971',\n",
              " 'تصنيف:صفحات تستخدم خاصية P2002',\n",
              " 'تصنيف:صفحات تستخدم خاصية P2003',\n",
              " 'تصنيف:صفحات تستخدم خاصية P2013',\n",
              " 'تصنيف:صفحات تستخدم خاصية P2020',\n",
              " 'تصنيف:صفحات تستخدم خاصية P2193',\n",
              " 'تصنيف:صفحات تستخدم خاصية P2276',\n",
              " 'تصنيف:صفحات تستخدم خاصية P2369',\n",
              " 'تصنيف:صفحات تستخدم خاصية P2574',\n",
              " 'تصنيف:صفحات تستخدم خاصية P3373',\n",
              " 'تصنيف:صفحات تستخدم خاصية P3417',\n",
              " 'تصنيف:صفحات تستخدم خاصية P3537',\n",
              " 'تصنيف:صفحات تستخدم خاصية P3538',\n",
              " 'تصنيف:صفحات تستخدم خاصية P3665',\n",
              " 'تصنيف:صفحات تستخدم خاصية P3681',\n",
              " 'تصنيف:صفحات تستخدم خاصية P856',\n",
              " 'تصنيف:صفحات محتوى متميز بدون رقم النسخة',\n",
              " 'تصنيف:صفحات محمية على المؤكدين فقط',\n",
              " 'تصنيف:صيانة الاستشهاد: BOT: original URL status unknown',\n",
              " 'تصنيف:صيانة الاستشهاد: تنسيق التاريخ',\n",
              " 'تصنيف:صيانة الاستشهاد: علامات ترقيم زائدة',\n",
              " 'تصنيف:صيانة الاستشهاد: لغة غير مدعومة',\n",
              " 'تصنيف:عارضو أزياء برتغاليون',\n",
              " 'تصنيف:فاعلو خير برتغاليون',\n",
              " 'تصنيف:فريق العام من اتحاد لاعبي كرة القدم المحترفين',\n",
              " 'تصنيف:قالب أرشيف الإنترنت بوصلات واي باك',\n",
              " 'تصنيف:كريستيانو رونالدو',\n",
              " 'تصنيف:لاعبو الدوري الإسباني',\n",
              " 'تصنيف:لاعبو الدوري الإنجليزي الممتاز',\n",
              " 'تصنيف:لاعبو الدوري الإيطالي',\n",
              " 'تصنيف:لاعبو الدوري البرتغالي الدرجة الثانية',\n",
              " 'تصنيف:لاعبو الدوري البرتغالي الممتاز',\n",
              " 'تصنيف:لاعبو بطولة أمم أوروبا 2004',\n",
              " 'تصنيف:لاعبو بطولة أمم أوروبا 2008',\n",
              " 'تصنيف:لاعبو بطولة أمم أوروبا 2012',\n",
              " 'تصنيف:لاعبو بطولة أمم أوروبا 2016',\n",
              " 'تصنيف:لاعبو بطولة أمم أوروبا 2020',\n",
              " 'تصنيف:لاعبو دوري المحترفين السعودي',\n",
              " 'تصنيف:لاعبو ريال مدريد',\n",
              " 'تصنيف:لاعبو سبورتينغ لشبونة',\n",
              " 'تصنيف:لاعبو سبورتينغ لشبونة ب',\n",
              " 'تصنيف:لاعبو كأس العالم 2006',\n",
              " 'تصنيف:لاعبو كأس العالم 2010',\n",
              " 'تصنيف:لاعبو كأس العالم 2014',\n",
              " 'تصنيف:لاعبو كأس العالم 2018',\n",
              " 'تصنيف:لاعبو كأس العالم 2022',\n",
              " 'تصنيف:لاعبو كأس القارات 2017',\n",
              " 'تصنيف:لاعبو كرة قدم أولمبيون من البرتغال',\n",
              " 'تصنيف:لاعبو كرة قدم برتغاليون',\n",
              " 'تصنيف:لاعبو كرة قدم برتغاليون مغتربون',\n",
              " 'تصنيف:لاعبو كرة قدم رجالية برتغاليون',\n",
              " 'تصنيف:لاعبو كرة قدم رجالية برتغاليون مغتربون',\n",
              " 'تصنيف:لاعبو كرة قدم رجالية مغتربون في إسبانيا',\n",
              " 'تصنيف:لاعبو كرة قدم رجالية مغتربون في إنجلترا',\n",
              " 'تصنيف:لاعبو كرة قدم رجالية مغتربون في إيطاليا',\n",
              " 'تصنيف:لاعبو كرة قدم رجالية مغتربون في السعودية',\n",
              " 'تصنيف:لاعبو كرة قدم في الألعاب الأولمبية الصيفية 2004',\n",
              " 'تصنيف:لاعبو كرة قدم مغتربون في إسبانيا',\n",
              " 'تصنيف:لاعبو كرة قدم مغتربون في إنجلترا',\n",
              " 'تصنيف:لاعبو كرة قدم مغتربون في إيطاليا',\n",
              " 'تصنيف:لاعبو كرة قدم مغتربون في السعودية',\n",
              " 'تصنيف:لاعبو كرة قدم من فونشال',\n",
              " 'تصنيف:لاعبو مانشستر يونايتد',\n",
              " 'تصنيف:لاعبو منتخب البرتغال تحت 21 سنة لكرة القدم',\n",
              " 'تصنيف:لاعبو منتخب البرتغال لكرة القدم',\n",
              " 'تصنيف:لاعبو منتخب البرتغال لكرة القدم للشباب',\n",
              " 'تصنيف:لاعبو نادي النصر (السعودية)',\n",
              " 'تصنيف:لاعبو نهائي كأس الاتحاد الإنجليزي',\n",
              " 'تصنيف:لاعبو يوفنتوس',\n",
              " 'تصنيف:لاعبون فائزون ببطولة أمم أوروبا',\n",
              " 'تصنيف:لاعبون فازوا بدوري أبطال أوروبا',\n",
              " 'تصنيف:محتوى ويكيبيديا المتميز منذ 2014',\n",
              " 'تصنيف:محتوى ويكيبيديا المتميز منذ فبراير 2014',\n",
              " 'تصنيف:مقالات تحوي نصا بالإسبانية',\n",
              " 'تصنيف:مقالات تستعمل روابط رياضية ببيانات من ويكي بيانات',\n",
              " 'تصنيف:مقالات تستعمل قوالب معلومات',\n",
              " 'تصنيف:مقالات ذات وصلات خارجية مكسورة',\n",
              " 'تصنيف:مقالات ذات وصلات خارجية مكسورة منذ أغسطس 2020',\n",
              " 'تصنيف:مقالات ذات وصلات خارجية مكسورة منذ أكتوبر 2020',\n",
              " 'تصنيف:مقالات ذات وصلات خارجية مكسورة منذ مايو 2019',\n",
              " 'تصنيف:مقالات فيها معرفات BIBSYS',\n",
              " 'تصنيف:مقالات فيها معرفات BNE',\n",
              " 'تصنيف:مقالات فيها معرفات BNF',\n",
              " 'تصنيف:مقالات فيها معرفات CANTICN',\n",
              " 'تصنيف:مقالات فيها معرفات FAST',\n",
              " 'تصنيف:مقالات فيها معرفات GND',\n",
              " 'تصنيف:مقالات فيها معرفات ICCU',\n",
              " 'تصنيف:مقالات فيها معرفات ISNI',\n",
              " 'تصنيف:مقالات فيها معرفات J9U',\n",
              " 'تصنيف:مقالات فيها معرفات LCCN',\n",
              " 'تصنيف:مقالات فيها معرفات LNB',\n",
              " 'تصنيف:مقالات فيها معرفات Libris',\n",
              " 'تصنيف:مقالات فيها معرفات MusicBrainz',\n",
              " 'تصنيف:مقالات فيها معرفات NDL',\n",
              " 'تصنيف:مقالات فيها معرفات NKC',\n",
              " 'تصنيف:مقالات فيها معرفات NLG',\n",
              " 'تصنيف:مقالات فيها معرفات NLK',\n",
              " 'تصنيف:مقالات فيها معرفات NTA',\n",
              " 'تصنيف:مقالات فيها معرفات PLWABN',\n",
              " 'تصنيف:مقالات فيها معرفات PortugalA',\n",
              " 'تصنيف:مقالات فيها معرفات RSL',\n",
              " 'تصنيف:مقالات فيها معرفات SUDOC',\n",
              " 'تصنيف:مقالات فيها معرفات VIAF',\n",
              " 'تصنيف:مقالات فيها معرفات WorldCat',\n",
              " 'تصنيف:مقالات مختارة',\n",
              " 'تصنيف:مقالات مختارة منذ 2014',\n",
              " 'تصنيف:مقالات مختارة منذ فبراير 2014',\n",
              " 'تصنيف:مهاجمو كرة قدم رجالية',\n",
              " 'تصنيف:مواليد 1985',\n",
              " 'تصنيف:مواليد 5 فبراير',\n",
              " 'تصنيف:مواليد في فونشال',\n",
              " 'تصنيف:موسوعة غينيس للأرقام القياسية',\n",
              " 'تصنيف:موقع رسمي بوصلة مختلفة عن ويكي بيانات',\n",
              " 'تصنيف:نادي الفيفا المئوي']"
            ]
          },
          "metadata": {},
          "execution_count": 26
        }
      ]
    },
    {
      "cell_type": "code",
      "source": [],
      "metadata": {
        "id": "eWxonVaOzZvI"
      },
      "execution_count": null,
      "outputs": []
    },
    {
      "cell_type": "code",
      "source": [
        "# Filter the strings containing \"تصنيف:بوابة\"\n",
        "filtered_list = [s for s in categories_list if 'تصنيف:بوابة' in s]\n",
        "\n",
        "# cleaned_list = [s.replace('/مقالات متعلقة', '') for s in filtered_list]\n",
        "\n",
        "cleaned_list = [s.replace('تصنيف:بوابة', '').replace('/مقالات متعلقة', '').strip() for s in filtered_list]\n",
        "\n",
        "cleaned_list"
      ],
      "metadata": {
        "colab": {
          "base_uri": "https://localhost:8080/",
          "height": 284
        },
        "id": "j-R53JYozZ4J",
        "outputId": "11371d35-b4f4-4b30-efac-9df3b46ab33a"
      },
      "execution_count": 32,
      "outputs": [
        {
          "output_type": "display_data",
          "data": {
            "text/plain": [
              "<IPython.core.display.Javascript object>"
            ],
            "application/javascript": [
              "google.colab.output.setIframeHeight(0, true, {maxHeight: 5000})"
            ]
          },
          "metadata": {}
        },
        {
          "output_type": "execute_result",
          "data": {
            "text/plain": [
              "['أرقام قياسية',\n",
              " 'أعلام',\n",
              " 'ألعاب أولمبية',\n",
              " 'إسبانيا',\n",
              " 'إنجلترا',\n",
              " 'إيطاليا',\n",
              " 'البرتغال',\n",
              " 'السعودية',\n",
              " 'كأس العالم',\n",
              " 'كرة القدم',\n",
              " 'كرة القدم الإسبانية',\n",
              " 'كرة القدم الإنجليزية',\n",
              " 'كرة القدم الإيطالية',\n",
              " 'كرة القدم البرتغالية',\n",
              " 'كرة القدم السعودية']"
            ]
          },
          "metadata": {},
          "execution_count": 32
        }
      ]
    },
    {
      "cell_type": "markdown",
      "source": [
        "## Fetching the main image"
      ],
      "metadata": {
        "id": "KtbrNEuDbnV6"
      }
    },
    {
      "cell_type": "markdown",
      "source": [
        "Sometimes Arabic pages have a main image and some times only English pages have a main image.\n",
        "\n",
        "English:\n",
        "https://en.wikipedia.org/w/api.php?action=query&prop=pageimages&format=json&piprop=original&titles=Cristiano%20Ronaldo\n",
        "\n",
        "Arabic:\n",
        "https://ar.wikipedia.org/w/api.php?action=query&prop=pageimages&format=json&piprop=original&titles=%D9%8A%D9%88%D8%AA%D9%8A%D9%88%D8%A8\n",
        "\n",
        "Thumbnails:\n",
        "https://en.wikipedia.org/w/api.php?action=query&titles=Hussein,_Crown_Prince_of_Jordan&prop=pageimages&format=json&pithumbsize=100"
      ],
      "metadata": {
        "id": "4qbhWUzyrPCL"
      }
    },
    {
      "cell_type": "code",
      "source": [
        "# import urllib.request as urllib2\n",
        "import time\n",
        "from datetime import datetime\n",
        "import json\n",
        "from urllib.parse import urlencode, quote_plus\n",
        "import urllib.request\n",
        "import urllib.parse"
      ],
      "metadata": {
        "colab": {
          "base_uri": "https://localhost:8080/",
          "height": 17
        },
        "id": "7n-WkQK9YnhR",
        "outputId": "e217977e-f58a-4e6e-cf4f-229cda6bda0e"
      },
      "execution_count": 19,
      "outputs": [
        {
          "output_type": "display_data",
          "data": {
            "text/plain": [
              "<IPython.core.display.Javascript object>"
            ],
            "application/javascript": [
              "google.colab.output.setIframeHeight(0, true, {maxHeight: 5000})"
            ]
          },
          "metadata": {}
        }
      ]
    },
    {
      "cell_type": "code",
      "source": [],
      "metadata": {
        "id": "QrpYsPStqiEC"
      },
      "execution_count": null,
      "outputs": []
    },
    {
      "cell_type": "code",
      "source": [
        "lang = 'ar'\n",
        "page_title = page.title\n",
        "\n",
        "# Encode the URL components\n",
        "# lang = urllib.parse.quote(lang)\n",
        "encoded_page_title = urllib.parse.quote(page_title)\n",
        "\n",
        "encoded_url = f'https://{lang}.wikipedia.org/w/api.php?action=query&prop=pageimages&format=json&piprop=original&titles={encoded_page_title}'\n",
        "\n",
        "encoded_url"
      ],
      "metadata": {
        "colab": {
          "base_uri": "https://localhost:8080/",
          "height": 53
        },
        "id": "pzfYQJINk-Sq",
        "outputId": "b3089436-2892-4bea-ed5d-5a0642bb49cd"
      },
      "execution_count": 20,
      "outputs": [
        {
          "output_type": "display_data",
          "data": {
            "text/plain": [
              "<IPython.core.display.Javascript object>"
            ],
            "application/javascript": [
              "google.colab.output.setIframeHeight(0, true, {maxHeight: 5000})"
            ]
          },
          "metadata": {}
        },
        {
          "output_type": "execute_result",
          "data": {
            "text/plain": [
              "'https://ar.wikipedia.org/w/api.php?action=query&prop=pageimages&format=json&piprop=original&titles=%D9%83%D8%B1%D9%8A%D8%B3%D8%AA%D9%8A%D8%A7%D9%86%D9%88%20%D8%B1%D9%88%D9%86%D8%A7%D9%84%D8%AF%D9%88'"
            ],
            "application/vnd.google.colaboratory.intrinsic+json": {
              "type": "string"
            }
          },
          "metadata": {},
          "execution_count": 20
        }
      ]
    },
    {
      "cell_type": "code",
      "source": [
        "resp = urllib.request.urlopen(encoded_url)\n",
        "resp_bytes = resp.read()\n",
        "data = json.loads(resp_bytes)\n",
        "data"
      ],
      "metadata": {
        "colab": {
          "base_uri": "https://localhost:8080/",
          "height": 160
        },
        "id": "L9tpM3tndP7X",
        "outputId": "c3b9bbd1-5aca-42f4-c598-a750394e4bb2"
      },
      "execution_count": 21,
      "outputs": [
        {
          "output_type": "display_data",
          "data": {
            "text/plain": [
              "<IPython.core.display.Javascript object>"
            ],
            "application/javascript": [
              "google.colab.output.setIframeHeight(0, true, {maxHeight: 5000})"
            ]
          },
          "metadata": {}
        },
        {
          "output_type": "execute_result",
          "data": {
            "text/plain": [
              "{'batchcomplete': '',\n",
              " 'query': {'pages': {'67878': {'pageid': 67878,\n",
              "    'ns': 0,\n",
              "    'title': 'كريستيانو رونالدو',\n",
              "    'original': {'source': 'https://upload.wikimedia.org/wikipedia/commons/d/d7/Cristiano_Ronaldo_playing_for_Al_Nassr_FC_against_Persepolis%2C_September_2023_%28cropped%29.jpg',\n",
              "     'width': 805,\n",
              "     'height': 1053}}}}}"
            ]
          },
          "metadata": {},
          "execution_count": 21
        }
      ]
    },
    {
      "cell_type": "code",
      "source": [
        "page.title"
      ],
      "metadata": {
        "colab": {
          "base_uri": "https://localhost:8080/",
          "height": 35
        },
        "id": "-EAPbPQzkyYe",
        "outputId": "c47a8a34-b1e8-4651-fe62-4fe1f890b32f"
      },
      "execution_count": 22,
      "outputs": [
        {
          "output_type": "display_data",
          "data": {
            "text/plain": [
              "<IPython.core.display.Javascript object>"
            ],
            "application/javascript": [
              "google.colab.output.setIframeHeight(0, true, {maxHeight: 5000})"
            ]
          },
          "metadata": {}
        },
        {
          "output_type": "execute_result",
          "data": {
            "text/plain": [
              "'كريستيانو رونالدو'"
            ],
            "application/vnd.google.colaboratory.intrinsic+json": {
              "type": "string"
            }
          },
          "metadata": {},
          "execution_count": 22
        }
      ]
    },
    {
      "cell_type": "code",
      "source": [
        "# Define the title you want to find\n",
        "desired_title = page.title\n",
        "\n",
        "# Initialize image URL as None\n",
        "image_url = None\n",
        "\n",
        "# Search for the title in the JSON data\n",
        "for page_id, page_info in data['query']['pages'].items():\n",
        "    if page_info['title'] == desired_title:\n",
        "        image_url = page_info['original']['source']\n",
        "        break  # Stop searching once the title is found\n",
        "\n",
        "# Print the image URL if found\n",
        "if image_url:\n",
        "    print(image_url)\n",
        "else:\n",
        "    print(f\"Title '{desired_title}' not found in the JSON data.\")"
      ],
      "metadata": {
        "colab": {
          "base_uri": "https://localhost:8080/",
          "height": 35
        },
        "id": "wCRNi8HUogpV",
        "outputId": "3c3f1d0c-7a63-4146-eb0a-24156f77f235"
      },
      "execution_count": 23,
      "outputs": [
        {
          "output_type": "display_data",
          "data": {
            "text/plain": [
              "<IPython.core.display.Javascript object>"
            ],
            "application/javascript": [
              "google.colab.output.setIframeHeight(0, true, {maxHeight: 5000})"
            ]
          },
          "metadata": {}
        },
        {
          "output_type": "stream",
          "name": "stdout",
          "text": [
            "https://upload.wikimedia.org/wikipedia/commons/d/d7/Cristiano_Ronaldo_playing_for_Al_Nassr_FC_against_Persepolis%2C_September_2023_%28cropped%29.jpg\n"
          ]
        }
      ]
    },
    {
      "cell_type": "code",
      "source": [
        "stop"
      ],
      "metadata": {
        "colab": {
          "base_uri": "https://localhost:8080/",
          "height": 180
        },
        "id": "lp2KeA6yjEHP",
        "outputId": "701f4c61-63a4-4d16-b3ac-9400de518e1c"
      },
      "execution_count": 24,
      "outputs": [
        {
          "output_type": "display_data",
          "data": {
            "text/plain": [
              "<IPython.core.display.Javascript object>"
            ],
            "application/javascript": [
              "google.colab.output.setIframeHeight(0, true, {maxHeight: 5000})"
            ]
          },
          "metadata": {}
        },
        {
          "output_type": "error",
          "ename": "NameError",
          "evalue": "ignored",
          "traceback": [
            "\u001b[0;31m---------------------------------------------------------------------------\u001b[0m",
            "\u001b[0;31mNameError\u001b[0m                                 Traceback (most recent call last)",
            "\u001b[0;32m<ipython-input-24-4f76a9dad686>\u001b[0m in \u001b[0;36m<cell line: 1>\u001b[0;34m()\u001b[0m\n\u001b[0;32m----> 1\u001b[0;31m \u001b[0mstop\u001b[0m\u001b[0;34m\u001b[0m\u001b[0;34m\u001b[0m\u001b[0m\n\u001b[0m",
            "\u001b[0;31mNameError\u001b[0m: name 'stop' is not defined"
          ]
        }
      ]
    },
    {
      "cell_type": "code",
      "source": [
        "# https://en.wikipedia.org/w/api.php?action=query&titles=Hussein,_Crown_Prince_of_Jordan&prop=pageimages&format=json&pithumbsize=100\n",
        "\n",
        "# https://ar.wikipedia.org/w/api.php?action=query&prop=pageimages&format=json&piprop=original&titles=%D8%A7%D9%84%D8%AD%D8%B3%D9%8A%D9%86_%D8%A8%D9%86_%D8%B9%D8%A8%D8%AF_%D8%A7%D9%84%D9%84%D9%87_%D8%A7%D9%84%D8%AB%D8%A7%D9%86%D9%8A\n",
        "\n",
        "lang = 'en'\n",
        "page_title = 'Rosetta_Stone'\n",
        "\n",
        "lang = 'ar'\n",
        "page_title = 'الحسين بن عبد الله الثاني'\n",
        "\n",
        "\n",
        "\n",
        "TOP_API_URL = 'https://{lang}.wikipedia.org/w/api.php?action=query&prop=pageimages&format=json&piprop=original&titles={page_title}'\n",
        "\n",
        "TOP_API_URL"
      ],
      "metadata": {
        "id": "ho9kkjd4X1ra"
      },
      "execution_count": null,
      "outputs": []
    },
    {
      "cell_type": "code",
      "source": [
        "url = TOP_API_URL.format(lang=lang, page_title=page_title)\n",
        "url"
      ],
      "metadata": {
        "id": "1y9-JS4LYWOD"
      },
      "execution_count": null,
      "outputs": []
    },
    {
      "cell_type": "code",
      "source": [
        "resp = urllib2.urlopen(url)\n",
        "resp"
      ],
      "metadata": {
        "id": "n3gWCxy6ikoH"
      },
      "execution_count": null,
      "outputs": []
    },
    {
      "cell_type": "code",
      "source": [
        "resp_bytes = resp.read()\n",
        "resp_bytes"
      ],
      "metadata": {
        "id": "h224jL-RaXkB"
      },
      "execution_count": null,
      "outputs": []
    },
    {
      "cell_type": "code",
      "source": [
        "data = json.loads(resp_bytes)\n",
        "data"
      ],
      "metadata": {
        "id": "kQF1oLtNaZhI"
      },
      "execution_count": null,
      "outputs": []
    },
    {
      "cell_type": "code",
      "source": [
        "data['query']['pages'].keys()\n"
      ],
      "metadata": {
        "id": "le-L9xOVeLSH"
      },
      "execution_count": null,
      "outputs": []
    },
    {
      "cell_type": "code",
      "source": [],
      "metadata": {
        "id": "MBPryW92ogr4"
      },
      "execution_count": null,
      "outputs": []
    },
    {
      "cell_type": "code",
      "source": [],
      "metadata": {
        "id": "sN3STXtfeO9o"
      },
      "execution_count": null,
      "outputs": []
    },
    {
      "cell_type": "code",
      "source": [],
      "metadata": {
        "id": "SrzTSGTYeO__"
      },
      "execution_count": null,
      "outputs": []
    },
    {
      "cell_type": "code",
      "source": [],
      "metadata": {
        "id": "b6aA-nYvogu8"
      },
      "execution_count": null,
      "outputs": []
    },
    {
      "cell_type": "code",
      "source": [],
      "metadata": {
        "id": "2Ugxft5qnslD"
      },
      "execution_count": null,
      "outputs": []
    },
    {
      "cell_type": "code",
      "source": [],
      "metadata": {
        "id": "zCU90i9VnsoJ"
      },
      "execution_count": null,
      "outputs": []
    },
    {
      "cell_type": "code",
      "source": [],
      "metadata": {
        "id": "fIX1v5Z6k-aw"
      },
      "execution_count": null,
      "outputs": []
    },
    {
      "cell_type": "code",
      "source": [
        "import urllib.request\n",
        "import urllib.parse\n",
        "\n",
        "lang = 'en'\n",
        "page_title = 'Rosetta_Stone'\n",
        "\n",
        "TOP_API_URL = 'https://{lang}.wikipedia.org/w/api.php?action=query&prop=pageimages&format=json&piprop=original&titles={page_title}'\n",
        "\n",
        "url = TOP_API_URL.format(lang=lang, page_title=urllib.parse.quote(page_title))\n",
        "\n",
        "try:\n",
        "    resp = urllib.request.urlopen(url)\n",
        "    # You can process the response here\n",
        "    print(resp.read())\n",
        "except urllib.error.URLError as e:\n",
        "    print(f\"Error: {e}\")\n",
        "\n"
      ],
      "metadata": {
        "id": "66OHdw3pjw3v"
      },
      "execution_count": null,
      "outputs": []
    },
    {
      "cell_type": "code",
      "source": [
        "resp"
      ],
      "metadata": {
        "id": "VjK3g4TEkocg"
      },
      "execution_count": null,
      "outputs": []
    },
    {
      "cell_type": "code",
      "source": [
        "resp = urllib2.urlopen('https://en.wikipedia.org/w/api.php?action=query&prop=pageimages&format=json&piprop=original&titles=Rosetta_Stone')\n",
        "resp"
      ],
      "metadata": {
        "id": "YhIB2iVtYiut"
      },
      "execution_count": null,
      "outputs": []
    },
    {
      "cell_type": "code",
      "source": [
        "url2 = 'https://en.wikipedia.org/w/api.php?action=query&prop=pageimages&format=json&piprop=original&titles=Rosetta_Stone'\n",
        "resp = urllib2.urlopen(url2)\n",
        "resp"
      ],
      "metadata": {
        "id": "IoABSgDshrr5"
      },
      "execution_count": null,
      "outputs": []
    },
    {
      "cell_type": "code",
      "source": [
        "image_url = data['query']['pages']['26428']['original']['source']\n",
        "image_url"
      ],
      "metadata": {
        "id": "-dcgP2OsbX-p"
      },
      "execution_count": null,
      "outputs": []
    },
    {
      "cell_type": "code",
      "source": [],
      "metadata": {
        "id": "kYFdp6KzervY"
      },
      "execution_count": null,
      "outputs": []
    },
    {
      "cell_type": "code",
      "source": [],
      "metadata": {
        "id": "uIlxzmk0er4E"
      },
      "execution_count": null,
      "outputs": []
    },
    {
      "cell_type": "code",
      "source": [],
      "metadata": {
        "id": "RrdLvUDHer-o"
      },
      "execution_count": null,
      "outputs": []
    },
    {
      "cell_type": "code",
      "source": [],
      "metadata": {
        "id": "Nhz-bAApesDn"
      },
      "execution_count": null,
      "outputs": []
    },
    {
      "cell_type": "code",
      "source": [
        "\n",
        "\n",
        "\n",
        "    resp_bytes = resp.read()\n",
        "#         rec.success('Fetched {len_bytes} bytes from {url}',\n",
        "#                     len_bytes=len(resp_bytes), url=url)\n",
        "\n",
        "\n",
        "\n",
        "    data = json.loads(resp_bytes)"
      ],
      "metadata": {
        "id": "pCcGys7OYEmm"
      },
      "execution_count": null,
      "outputs": []
    },
    {
      "cell_type": "code",
      "source": [
        "\n",
        "\n",
        "TOP_API_URL = 'https://wikimedia.org/api/rest_v1/metrics/pageviews/'\\\n",
        "              'top/{lang}.{project}/all-access/{year}/{month}/{day}'\n",
        "\n",
        "\n",
        "# The call get_traffic(‘2020’, ‘02’, ‘21’), for example, would output a JSON object with the 1000 most viewed Wikpedia articles on that day.\n",
        "# The object contains the article’s title, the number of views, and its “rank” for that day in terms of views.\n",
        "def get_traffic(year, month, day):\n",
        "    '''\\\n",
        "    Get the traffic report for the top 1000 articles for a given day.\n",
        "    TODO: Get from local file, if available\n",
        "    '''\n",
        "    url = TOP_API_URL.format(lang='ar',\n",
        "                             project='wikipedia',\n",
        "                             year=year,\n",
        "                             month=month,\n",
        "                             day=day)\n",
        "#     if DEBUG:\n",
        "#         print 'Getting %s' % url\n",
        "    resp = urllib2.urlopen(url)\n",
        "    resp_bytes = resp.read()\n",
        "#         rec.success('Fetched {len_bytes} bytes from {url}',\n",
        "#                     len_bytes=len(resp_bytes), url=url)\n",
        "\n",
        "    data = json.loads(resp_bytes)\n",
        "\n",
        "    # The returned data object contains:\n",
        "    # {'items': [\n",
        "        # {'project': 'ar.wikipedia', 'access': 'all-access', 'year': '2023', 'month': '03', 'day': '20',\n",
        "        # 'articles': [\n",
        "            # {'article': 'يوم_الأم', 'views': 73739, 'rank': 1},\n",
        "            # {'article': 'الصفحة_الرئيسية', 'views': 63985, 'rank': 2},\n",
        "\n",
        "    articles = data['items'][0]['articles']\n",
        "    return articles"
      ],
      "metadata": {
        "id": "IM2OjiqYWu0G"
      },
      "execution_count": null,
      "outputs": []
    },
    {
      "cell_type": "code",
      "source": [
        "TOP_API_URL = 'https://wikimedia.org/api/rest_v1/metrics/pageviews/'\\\n",
        "              'top/{lang}.{project}/all-access/{year}/{month}/{day}'\n",
        "\n",
        "\n",
        "# The call get_traffic(‘2020’, ‘02’, ‘21’), for example, would output a JSON object with the 1000 most viewed Wikpedia articles on that day.\n",
        "# The object contains the article’s title, the number of views, and its “rank” for that day in terms of views.\n",
        "def get_traffic(year, month, day):\n",
        "    '''\\\n",
        "    Get the traffic report for the top 1000 articles for a given day.\n",
        "    TODO: Get from local file, if available\n",
        "    '''\n",
        "    url = TOP_API_URL.format(lang='ar',\n",
        "                             project='wikipedia',\n",
        "                             year=year,\n",
        "                             month=month,\n",
        "                             day=day)\n",
        "#     if DEBUG:\n",
        "#         print 'Getting %s' % url\n",
        "    resp = urllib2.urlopen(url)\n",
        "    resp_bytes = resp.read()\n",
        "#         rec.success('Fetched {len_bytes} bytes from {url}',\n",
        "#                     len_bytes=len(resp_bytes), url=url)\n",
        "\n",
        "    data = json.loads(resp_bytes)\n",
        "\n",
        "    # The returned data object contains:\n",
        "    # {'items': [\n",
        "        # {'project': 'ar.wikipedia', 'access': 'all-access', 'year': '2023', 'month': '03', 'day': '20',\n",
        "        # 'articles': [\n",
        "            # {'article': 'يوم_الأم', 'views': 73739, 'rank': 1},\n",
        "            # {'article': 'الصفحة_الرئيسية', 'views': 63985, 'rank': 2},\n",
        "\n",
        "    articles = data['items'][0]['articles']\n",
        "    return articles"
      ],
      "metadata": {
        "id": "_gxeDfavWMhN"
      },
      "execution_count": null,
      "outputs": []
    },
    {
      "cell_type": "markdown",
      "source": [
        "## spaCy NER"
      ],
      "metadata": {
        "id": "lJ2m-erxihMY"
      }
    },
    {
      "cell_type": "code",
      "source": [
        "import spacy\n",
        "from spacy import displacy\n",
        "\n",
        "NER = spacy.load(\"en_core_web_sm\")\n",
        "\n",
        "# Now, we enter our sample text which we shall be testing. The text has been taken from the Wikipedia page of ISRO.\n",
        "\n",
        "raw_text=\"The Indian Space Research Organisation or is the national space agency of India, headquartered in Bengaluru. It operates under Department of Space which is directly overseen by the Prime Minister of India while Chairman of ISRO acts as executive of DOS as well.\"\n",
        "\n",
        "text1= NER(raw_text)\n",
        "text1"
      ],
      "metadata": {
        "id": "SKrTo4Jj79Q4"
      },
      "execution_count": null,
      "outputs": []
    },
    {
      "cell_type": "code",
      "source": [
        "for word in text1.ents:\n",
        "    print(word.text, word.label_)"
      ],
      "metadata": {
        "id": "clpoEsQz8TGw"
      },
      "execution_count": null,
      "outputs": []
    },
    {
      "cell_type": "code",
      "source": [
        "page.summary"
      ],
      "metadata": {
        "id": "lrzoIeGY8hx0"
      },
      "execution_count": null,
      "outputs": []
    },
    {
      "cell_type": "code",
      "source": [],
      "metadata": {
        "id": "b-2E5xim9vDc"
      },
      "execution_count": null,
      "outputs": []
    },
    {
      "cell_type": "code",
      "source": [
        "en_summary = 'Day of Arafah. Al-Hussein bin Abdullah II bin Al-Hussein (June 28, 1994 / Muharram 19, 1415 AH), Crown Prince of the Hashemite Kingdom of Jordan since July 2, 2009, is (according to the line of succession to the Jordanian throne) the heir apparent to the throne of the Hashemite Kingdom of Jordan after his father, King Abdullah. the second. Prince Hussein is a member of the Hashemite family that has ruled Jordan since 1921 and whose lineage goes back to Hassan bin Ali bin Abi Talib, the grandson of the Prophet Muhammad from his daughter Fatima Al-Zahra.'\n",
        "\n",
        "text1= NER(en_summary)\n",
        "for word in text1.ents:\n",
        "    print(word.text, word.label_)"
      ],
      "metadata": {
        "id": "W9hJwuoE8qw7"
      },
      "execution_count": null,
      "outputs": []
    },
    {
      "cell_type": "code",
      "source": [
        "displacy.render(text1,style=\"ent\",jupyter=True)"
      ],
      "metadata": {
        "id": "YcEpLRi3-3_H"
      },
      "execution_count": null,
      "outputs": []
    },
    {
      "cell_type": "code",
      "source": [
        "spacy.explain(\"GPE\")"
      ],
      "metadata": {
        "id": "VRs59yze_ZAn"
      },
      "execution_count": null,
      "outputs": []
    },
    {
      "cell_type": "code",
      "source": [
        "spacy.explain(\"ORDINAL\")"
      ],
      "metadata": {
        "id": "-dTLFnh__ff4"
      },
      "execution_count": null,
      "outputs": []
    },
    {
      "cell_type": "code",
      "source": [
        "spacy.explain(\"NORP\")"
      ],
      "metadata": {
        "id": "YZvfL4da_jLw"
      },
      "execution_count": null,
      "outputs": []
    },
    {
      "cell_type": "code",
      "source": [
        "spacy.explain(\"ORG\")"
      ],
      "metadata": {
        "id": "Bp-jQg_18fJl"
      },
      "execution_count": null,
      "outputs": []
    },
    {
      "cell_type": "code",
      "source": [
        "spacy.explain(\"WORK_OF_ART\")"
      ],
      "metadata": {
        "id": "k3EK3P3X8a0P"
      },
      "execution_count": null,
      "outputs": []
    },
    {
      "cell_type": "code",
      "source": [
        "spacy.explain(\"PERSON\")"
      ],
      "metadata": {
        "id": "EbkElGDi_QuF"
      },
      "execution_count": null,
      "outputs": []
    },
    {
      "cell_type": "code",
      "source": [
        "en_summary = 'Salat al-Istikhaara (Arabic: صلاة الاستخارة), which translates to Prayer of Seeking Counsel, is a prayer recited by Muslims who are in need of guidance from God Almighty (Allah) when facing a decision in their life. The prayer, known as salah in Arabic is performed in two units of prayer or rakaah followed by the supplication of Salat al-Istikhaara. '\n",
        "\n",
        "text1= NER(en_summary)\n",
        "for word in text1.ents:\n",
        "    print(word.text, word.label_)"
      ],
      "metadata": {
        "id": "DZ68bkyd_5hX"
      },
      "execution_count": null,
      "outputs": []
    },
    {
      "cell_type": "code",
      "source": [],
      "metadata": {
        "id": "Rl7IJX3tAm8W"
      },
      "execution_count": null,
      "outputs": []
    },
    {
      "cell_type": "code",
      "source": [
        "displacy.render(text1,style=\"ent\",jupyter=True)"
      ],
      "metadata": {
        "id": "tLQ55dkHAGGI"
      },
      "execution_count": null,
      "outputs": []
    },
    {
      "cell_type": "code",
      "source": [
        "en_summary = 'El Clásico (in Spanish, also in lowercase letters;[1] Spanish pronunciation: [el ˈklasiko]) or El Clàssic (in Catalan,[2] pronounced [əl ˈklasik]), both meaning \"The Classic\", is the name given to any football match between rival clubs Barcelona and Real Madrid. Originally referring to competitions held in the Spanish championship, the term now includes every match between the clubs, such as those in the UEFA Champions League, Supercopa de España and Copa del Rey. It is considered one of the biggest club football games in the world and is among the most viewed annual sporting events.[3][4][5][6] A fixture known for its intensity, it has featured memorable goal celebrations from both teams, often involving mockery from both sides.[7] '\n",
        "\n",
        "text1= NER(en_summary)\n",
        "for word in text1.ents:\n",
        "    print(word.text, word.label_)"
      ],
      "metadata": {
        "id": "MbdoQc1FAn1u"
      },
      "execution_count": null,
      "outputs": []
    },
    {
      "cell_type": "code",
      "source": [
        "en_summary = 'Ashura (Arabic: عَاشُورَاء, ʿĀshūrāʾ, [ʕaːʃuːˈraːʔ]) is a day of commemoration in Islam. It occurs annually on the tenth of Muharram, the first month of the Islamic calendar. For Sunni Muslims, Ashura marks the parting of the Red Sea by Moses and the salvation of the Israelites. Also on this day, Noah disembarked from the Ark, God forgave Adam, and Joseph was released from prison, among various other auspicious events on Ashura in Sunni tradition. Ashura is celebrated in Sunni Islam through supererogatory fasting and other acceptable expressions of joy. In some Sunni communities, the annual Ashura festivities include carnivals, bonfires, and special dishes, even though some Sunni scholars have criticized such practices. '\n",
        "en_summary = 'Ashura'\n",
        "\n",
        "text1= NER(en_summary)\n",
        "for word in text1.ents:\n",
        "    print(word.text, word.label_)"
      ],
      "metadata": {
        "id": "BalHvvy5E5_A"
      },
      "execution_count": null,
      "outputs": []
    },
    {
      "cell_type": "code",
      "source": [
        "displacy.render(text1,style=\"ent\",jupyter=True)"
      ],
      "metadata": {
        "id": "iH_Tns_BFCnf"
      },
      "execution_count": null,
      "outputs": []
    }
  ]
}