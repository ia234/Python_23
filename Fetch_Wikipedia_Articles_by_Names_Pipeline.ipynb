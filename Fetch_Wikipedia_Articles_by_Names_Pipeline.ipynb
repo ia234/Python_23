{
  "nbformat": 4,
  "nbformat_minor": 0,
  "metadata": {
    "colab": {
      "provenance": [],
      "toc_visible": true,
      "mount_file_id": "1w3qTx9v5wZHfUv68XESqv5hCmRhgtE05",
      "authorship_tag": "ABX9TyPvYB3yf1VZykh2Wqw2kSyC",
      "include_colab_link": true
    },
    "kernelspec": {
      "name": "python3",
      "display_name": "Python 3"
    },
    "language_info": {
      "name": "python"
    }
  },
  "cells": [
    {
      "cell_type": "markdown",
      "metadata": {
        "id": "view-in-github",
        "colab_type": "text"
      },
      "source": [
        "<a href=\"https://colab.research.google.com/github/ia234/Python_23/blob/main/Fetch_Wikipedia_Articles_by_Names_Pipeline.ipynb\" target=\"_parent\"><img src=\"https://colab.research.google.com/assets/colab-badge.svg\" alt=\"Open In Colab\"/></a>"
      ]
    },
    {
      "cell_type": "code",
      "source": [
        "# Avoids scroll-in-the-scroll in the entire Notebook\n",
        "from IPython.display import Javascript\n",
        "def resize_colab_cell():\n",
        "  display(Javascript('google.colab.output.setIframeHeight(0, true, {maxHeight: 5000})'))\n",
        "get_ipython().events.register('pre_run_cell', resize_colab_cell)"
      ],
      "metadata": {
        "id": "5u3BQq2u6F43"
      },
      "execution_count": 1,
      "outputs": []
    },
    {
      "cell_type": "code",
      "execution_count": 2,
      "metadata": {
        "colab": {
          "base_uri": "https://localhost:8080/",
          "height": 35
        },
        "id": "tTUpmLA0un3h",
        "outputId": "59ad2bba-1e13-48db-9def-b302a422206a"
      },
      "outputs": [
        {
          "output_type": "display_data",
          "data": {
            "text/plain": [
              "<IPython.core.display.Javascript object>"
            ],
            "application/javascript": [
              "google.colab.output.setIframeHeight(0, true, {maxHeight: 5000})"
            ]
          },
          "metadata": {}
        },
        {
          "output_type": "stream",
          "name": "stdout",
          "text": [
            "/content/drive/MyDrive/ai_data\n"
          ]
        }
      ],
      "source": [
        "from google.colab import drive\n",
        "\n",
        "# drive.mount('/content/drive')\n",
        "%cd /content/drive/MyDrive/ai_data/"
      ]
    },
    {
      "cell_type": "code",
      "source": [
        "import pandas as pd\n",
        "\n",
        "# index_col = 0 specify the first column as the index.\n",
        "top_article_titles_df = pd.read_csv('/content/drive/MyDrive/ai_data/top_article_titles.csv')\n",
        "top_article_titles_df"
      ],
      "metadata": {
        "colab": {
          "base_uri": "https://localhost:8080/",
          "height": 424
        },
        "id": "MZQnhFrMvmwr",
        "outputId": "849a0180-0a04-4377-acf3-28236b1a69c8"
      },
      "execution_count": 3,
      "outputs": [
        {
          "output_type": "display_data",
          "data": {
            "text/plain": [
              "<IPython.core.display.Javascript object>"
            ],
            "application/javascript": [
              "google.colab.output.setIframeHeight(0, true, {maxHeight: 5000})"
            ]
          },
          "metadata": {}
        },
        {
          "output_type": "execute_result",
          "data": {
            "text/plain": [
              "                                      article        date   views  rank  \\\n",
              "0                                 ليونيل ميسي  28/09/2022  236172   193   \n",
              "1                             كأس العالم 2022  06/09/2022  380824   110   \n",
              "2                           كريستيانو رونالدو  28/08/2022   67422   322   \n",
              "3                                نادي برشلونة  28/08/2022   86073   213   \n",
              "4                                  كأس العالم  02/11/2022  299466    59   \n",
              "...                                       ...         ...     ...   ...   \n",
              "1445                                ابن بطوطة  10/08/2023    3737     1   \n",
              "1446  الجمهورية العربية الصحراوية الديمقراطية  28/08/2022    3730     1   \n",
              "1447                                 سوسن علي  29/12/2022    3694     1   \n",
              "1448                     حبيب بن مظاهر الأسدي  24/07/2023    3621     1   \n",
              "1449                            سلطان الفرحان  11/07/2023    3332     1   \n",
              "\n",
              "         score  \n",
              "0     45581196  \n",
              "1     41890640  \n",
              "2     21709884  \n",
              "3     18333549  \n",
              "4     17668494  \n",
              "...        ...  \n",
              "1445      3737  \n",
              "1446      3730  \n",
              "1447      3694  \n",
              "1448      3621  \n",
              "1449      3332  \n",
              "\n",
              "[1450 rows x 5 columns]"
            ],
            "text/html": [
              "\n",
              "  <div id=\"df-2d724a1e-79df-4536-952b-908634b11ea4\" class=\"colab-df-container\">\n",
              "    <div>\n",
              "<style scoped>\n",
              "    .dataframe tbody tr th:only-of-type {\n",
              "        vertical-align: middle;\n",
              "    }\n",
              "\n",
              "    .dataframe tbody tr th {\n",
              "        vertical-align: top;\n",
              "    }\n",
              "\n",
              "    .dataframe thead th {\n",
              "        text-align: right;\n",
              "    }\n",
              "</style>\n",
              "<table border=\"1\" class=\"dataframe\">\n",
              "  <thead>\n",
              "    <tr style=\"text-align: right;\">\n",
              "      <th></th>\n",
              "      <th>article</th>\n",
              "      <th>date</th>\n",
              "      <th>views</th>\n",
              "      <th>rank</th>\n",
              "      <th>score</th>\n",
              "    </tr>\n",
              "  </thead>\n",
              "  <tbody>\n",
              "    <tr>\n",
              "      <th>0</th>\n",
              "      <td>ليونيل ميسي</td>\n",
              "      <td>28/09/2022</td>\n",
              "      <td>236172</td>\n",
              "      <td>193</td>\n",
              "      <td>45581196</td>\n",
              "    </tr>\n",
              "    <tr>\n",
              "      <th>1</th>\n",
              "      <td>كأس العالم 2022</td>\n",
              "      <td>06/09/2022</td>\n",
              "      <td>380824</td>\n",
              "      <td>110</td>\n",
              "      <td>41890640</td>\n",
              "    </tr>\n",
              "    <tr>\n",
              "      <th>2</th>\n",
              "      <td>كريستيانو رونالدو</td>\n",
              "      <td>28/08/2022</td>\n",
              "      <td>67422</td>\n",
              "      <td>322</td>\n",
              "      <td>21709884</td>\n",
              "    </tr>\n",
              "    <tr>\n",
              "      <th>3</th>\n",
              "      <td>نادي برشلونة</td>\n",
              "      <td>28/08/2022</td>\n",
              "      <td>86073</td>\n",
              "      <td>213</td>\n",
              "      <td>18333549</td>\n",
              "    </tr>\n",
              "    <tr>\n",
              "      <th>4</th>\n",
              "      <td>كأس العالم</td>\n",
              "      <td>02/11/2022</td>\n",
              "      <td>299466</td>\n",
              "      <td>59</td>\n",
              "      <td>17668494</td>\n",
              "    </tr>\n",
              "    <tr>\n",
              "      <th>...</th>\n",
              "      <td>...</td>\n",
              "      <td>...</td>\n",
              "      <td>...</td>\n",
              "      <td>...</td>\n",
              "      <td>...</td>\n",
              "    </tr>\n",
              "    <tr>\n",
              "      <th>1445</th>\n",
              "      <td>ابن بطوطة</td>\n",
              "      <td>10/08/2023</td>\n",
              "      <td>3737</td>\n",
              "      <td>1</td>\n",
              "      <td>3737</td>\n",
              "    </tr>\n",
              "    <tr>\n",
              "      <th>1446</th>\n",
              "      <td>الجمهورية العربية الصحراوية الديمقراطية</td>\n",
              "      <td>28/08/2022</td>\n",
              "      <td>3730</td>\n",
              "      <td>1</td>\n",
              "      <td>3730</td>\n",
              "    </tr>\n",
              "    <tr>\n",
              "      <th>1447</th>\n",
              "      <td>سوسن علي</td>\n",
              "      <td>29/12/2022</td>\n",
              "      <td>3694</td>\n",
              "      <td>1</td>\n",
              "      <td>3694</td>\n",
              "    </tr>\n",
              "    <tr>\n",
              "      <th>1448</th>\n",
              "      <td>حبيب بن مظاهر الأسدي</td>\n",
              "      <td>24/07/2023</td>\n",
              "      <td>3621</td>\n",
              "      <td>1</td>\n",
              "      <td>3621</td>\n",
              "    </tr>\n",
              "    <tr>\n",
              "      <th>1449</th>\n",
              "      <td>سلطان الفرحان</td>\n",
              "      <td>11/07/2023</td>\n",
              "      <td>3332</td>\n",
              "      <td>1</td>\n",
              "      <td>3332</td>\n",
              "    </tr>\n",
              "  </tbody>\n",
              "</table>\n",
              "<p>1450 rows × 5 columns</p>\n",
              "</div>\n",
              "    <div class=\"colab-df-buttons\">\n",
              "\n",
              "  <div class=\"colab-df-container\">\n",
              "    <button class=\"colab-df-convert\" onclick=\"convertToInteractive('df-2d724a1e-79df-4536-952b-908634b11ea4')\"\n",
              "            title=\"Convert this dataframe to an interactive table.\"\n",
              "            style=\"display:none;\">\n",
              "\n",
              "  <svg xmlns=\"http://www.w3.org/2000/svg\" height=\"24px\" viewBox=\"0 -960 960 960\">\n",
              "    <path d=\"M120-120v-720h720v720H120Zm60-500h600v-160H180v160Zm220 220h160v-160H400v160Zm0 220h160v-160H400v160ZM180-400h160v-160H180v160Zm440 0h160v-160H620v160ZM180-180h160v-160H180v160Zm440 0h160v-160H620v160Z\"/>\n",
              "  </svg>\n",
              "    </button>\n",
              "\n",
              "  <style>\n",
              "    .colab-df-container {\n",
              "      display:flex;\n",
              "      gap: 12px;\n",
              "    }\n",
              "\n",
              "    .colab-df-convert {\n",
              "      background-color: #E8F0FE;\n",
              "      border: none;\n",
              "      border-radius: 50%;\n",
              "      cursor: pointer;\n",
              "      display: none;\n",
              "      fill: #1967D2;\n",
              "      height: 32px;\n",
              "      padding: 0 0 0 0;\n",
              "      width: 32px;\n",
              "    }\n",
              "\n",
              "    .colab-df-convert:hover {\n",
              "      background-color: #E2EBFA;\n",
              "      box-shadow: 0px 1px 2px rgba(60, 64, 67, 0.3), 0px 1px 3px 1px rgba(60, 64, 67, 0.15);\n",
              "      fill: #174EA6;\n",
              "    }\n",
              "\n",
              "    .colab-df-buttons div {\n",
              "      margin-bottom: 4px;\n",
              "    }\n",
              "\n",
              "    [theme=dark] .colab-df-convert {\n",
              "      background-color: #3B4455;\n",
              "      fill: #D2E3FC;\n",
              "    }\n",
              "\n",
              "    [theme=dark] .colab-df-convert:hover {\n",
              "      background-color: #434B5C;\n",
              "      box-shadow: 0px 1px 3px 1px rgba(0, 0, 0, 0.15);\n",
              "      filter: drop-shadow(0px 1px 2px rgba(0, 0, 0, 0.3));\n",
              "      fill: #FFFFFF;\n",
              "    }\n",
              "  </style>\n",
              "\n",
              "    <script>\n",
              "      const buttonEl =\n",
              "        document.querySelector('#df-2d724a1e-79df-4536-952b-908634b11ea4 button.colab-df-convert');\n",
              "      buttonEl.style.display =\n",
              "        google.colab.kernel.accessAllowed ? 'block' : 'none';\n",
              "\n",
              "      async function convertToInteractive(key) {\n",
              "        const element = document.querySelector('#df-2d724a1e-79df-4536-952b-908634b11ea4');\n",
              "        const dataTable =\n",
              "          await google.colab.kernel.invokeFunction('convertToInteractive',\n",
              "                                                    [key], {});\n",
              "        if (!dataTable) return;\n",
              "\n",
              "        const docLinkHtml = 'Like what you see? Visit the ' +\n",
              "          '<a target=\"_blank\" href=https://colab.research.google.com/notebooks/data_table.ipynb>data table notebook</a>'\n",
              "          + ' to learn more about interactive tables.';\n",
              "        element.innerHTML = '';\n",
              "        dataTable['output_type'] = 'display_data';\n",
              "        await google.colab.output.renderOutput(dataTable, element);\n",
              "        const docLink = document.createElement('div');\n",
              "        docLink.innerHTML = docLinkHtml;\n",
              "        element.appendChild(docLink);\n",
              "      }\n",
              "    </script>\n",
              "  </div>\n",
              "\n",
              "\n",
              "<div id=\"df-ddb58500-fe28-4e08-af7d-1dd7f172184c\">\n",
              "  <button class=\"colab-df-quickchart\" onclick=\"quickchart('df-ddb58500-fe28-4e08-af7d-1dd7f172184c')\"\n",
              "            title=\"Suggest charts.\"\n",
              "            style=\"display:none;\">\n",
              "\n",
              "<svg xmlns=\"http://www.w3.org/2000/svg\" height=\"24px\"viewBox=\"0 0 24 24\"\n",
              "     width=\"24px\">\n",
              "    <g>\n",
              "        <path d=\"M19 3H5c-1.1 0-2 .9-2 2v14c0 1.1.9 2 2 2h14c1.1 0 2-.9 2-2V5c0-1.1-.9-2-2-2zM9 17H7v-7h2v7zm4 0h-2V7h2v10zm4 0h-2v-4h2v4z\"/>\n",
              "    </g>\n",
              "</svg>\n",
              "  </button>\n",
              "\n",
              "<style>\n",
              "  .colab-df-quickchart {\n",
              "      --bg-color: #E8F0FE;\n",
              "      --fill-color: #1967D2;\n",
              "      --hover-bg-color: #E2EBFA;\n",
              "      --hover-fill-color: #174EA6;\n",
              "      --disabled-fill-color: #AAA;\n",
              "      --disabled-bg-color: #DDD;\n",
              "  }\n",
              "\n",
              "  [theme=dark] .colab-df-quickchart {\n",
              "      --bg-color: #3B4455;\n",
              "      --fill-color: #D2E3FC;\n",
              "      --hover-bg-color: #434B5C;\n",
              "      --hover-fill-color: #FFFFFF;\n",
              "      --disabled-bg-color: #3B4455;\n",
              "      --disabled-fill-color: #666;\n",
              "  }\n",
              "\n",
              "  .colab-df-quickchart {\n",
              "    background-color: var(--bg-color);\n",
              "    border: none;\n",
              "    border-radius: 50%;\n",
              "    cursor: pointer;\n",
              "    display: none;\n",
              "    fill: var(--fill-color);\n",
              "    height: 32px;\n",
              "    padding: 0;\n",
              "    width: 32px;\n",
              "  }\n",
              "\n",
              "  .colab-df-quickchart:hover {\n",
              "    background-color: var(--hover-bg-color);\n",
              "    box-shadow: 0 1px 2px rgba(60, 64, 67, 0.3), 0 1px 3px 1px rgba(60, 64, 67, 0.15);\n",
              "    fill: var(--button-hover-fill-color);\n",
              "  }\n",
              "\n",
              "  .colab-df-quickchart-complete:disabled,\n",
              "  .colab-df-quickchart-complete:disabled:hover {\n",
              "    background-color: var(--disabled-bg-color);\n",
              "    fill: var(--disabled-fill-color);\n",
              "    box-shadow: none;\n",
              "  }\n",
              "\n",
              "  .colab-df-spinner {\n",
              "    border: 2px solid var(--fill-color);\n",
              "    border-color: transparent;\n",
              "    border-bottom-color: var(--fill-color);\n",
              "    animation:\n",
              "      spin 1s steps(1) infinite;\n",
              "  }\n",
              "\n",
              "  @keyframes spin {\n",
              "    0% {\n",
              "      border-color: transparent;\n",
              "      border-bottom-color: var(--fill-color);\n",
              "      border-left-color: var(--fill-color);\n",
              "    }\n",
              "    20% {\n",
              "      border-color: transparent;\n",
              "      border-left-color: var(--fill-color);\n",
              "      border-top-color: var(--fill-color);\n",
              "    }\n",
              "    30% {\n",
              "      border-color: transparent;\n",
              "      border-left-color: var(--fill-color);\n",
              "      border-top-color: var(--fill-color);\n",
              "      border-right-color: var(--fill-color);\n",
              "    }\n",
              "    40% {\n",
              "      border-color: transparent;\n",
              "      border-right-color: var(--fill-color);\n",
              "      border-top-color: var(--fill-color);\n",
              "    }\n",
              "    60% {\n",
              "      border-color: transparent;\n",
              "      border-right-color: var(--fill-color);\n",
              "    }\n",
              "    80% {\n",
              "      border-color: transparent;\n",
              "      border-right-color: var(--fill-color);\n",
              "      border-bottom-color: var(--fill-color);\n",
              "    }\n",
              "    90% {\n",
              "      border-color: transparent;\n",
              "      border-bottom-color: var(--fill-color);\n",
              "    }\n",
              "  }\n",
              "</style>\n",
              "\n",
              "  <script>\n",
              "    async function quickchart(key) {\n",
              "      const quickchartButtonEl =\n",
              "        document.querySelector('#' + key + ' button');\n",
              "      quickchartButtonEl.disabled = true;  // To prevent multiple clicks.\n",
              "      quickchartButtonEl.classList.add('colab-df-spinner');\n",
              "      try {\n",
              "        const charts = await google.colab.kernel.invokeFunction(\n",
              "            'suggestCharts', [key], {});\n",
              "      } catch (error) {\n",
              "        console.error('Error during call to suggestCharts:', error);\n",
              "      }\n",
              "      quickchartButtonEl.classList.remove('colab-df-spinner');\n",
              "      quickchartButtonEl.classList.add('colab-df-quickchart-complete');\n",
              "    }\n",
              "    (() => {\n",
              "      let quickchartButtonEl =\n",
              "        document.querySelector('#df-ddb58500-fe28-4e08-af7d-1dd7f172184c button');\n",
              "      quickchartButtonEl.style.display =\n",
              "        google.colab.kernel.accessAllowed ? 'block' : 'none';\n",
              "    })();\n",
              "  </script>\n",
              "</div>\n",
              "    </div>\n",
              "  </div>\n"
            ]
          },
          "metadata": {},
          "execution_count": 3
        }
      ]
    },
    {
      "cell_type": "code",
      "source": [
        "import pandas as pd\n",
        "top_article_titles_list = top_article_titles_df.to_dict(orient='records')\n",
        "top_article_titles_list[0]"
      ],
      "metadata": {
        "colab": {
          "base_uri": "https://localhost:8080/",
          "height": 106
        },
        "id": "xK49pUo4L4Mg",
        "outputId": "0a749024-75f2-4bfc-bdea-1d09b72df455"
      },
      "execution_count": 4,
      "outputs": [
        {
          "output_type": "display_data",
          "data": {
            "text/plain": [
              "<IPython.core.display.Javascript object>"
            ],
            "application/javascript": [
              "google.colab.output.setIframeHeight(0, true, {maxHeight: 5000})"
            ]
          },
          "metadata": {}
        },
        {
          "output_type": "execute_result",
          "data": {
            "text/plain": [
              "{'article': 'ليونيل ميسي',\n",
              " 'date': '28/09/2022',\n",
              " 'views': 236172,\n",
              " 'rank': 193,\n",
              " 'score': 45581196}"
            ]
          },
          "metadata": {},
          "execution_count": 4
        }
      ]
    },
    {
      "cell_type": "code",
      "source": [
        "top_article_titles_list[839]"
      ],
      "metadata": {
        "colab": {
          "base_uri": "https://localhost:8080/",
          "height": 106
        },
        "id": "DgVm5OtBnkH4",
        "outputId": "fe58acef-181c-4e9c-bde0-f68e3f5b8e85"
      },
      "execution_count": 5,
      "outputs": [
        {
          "output_type": "display_data",
          "data": {
            "text/plain": [
              "<IPython.core.display.Javascript object>"
            ],
            "application/javascript": [
              "google.colab.output.setIframeHeight(0, true, {maxHeight: 5000})"
            ]
          },
          "metadata": {}
        },
        {
          "output_type": "execute_result",
          "data": {
            "text/plain": [
              "{'article': 'أوتافيو (لاعب كرة قدم، مواليد 1995)',\n",
              " 'date': '19/08/2023',\n",
              " 'views': 7573,\n",
              " 'rank': 2,\n",
              " 'score': 15146}"
            ]
          },
          "metadata": {},
          "execution_count": 5
        }
      ]
    },
    {
      "cell_type": "code",
      "source": [
        "top_article_titles_list[839]['article']"
      ],
      "metadata": {
        "colab": {
          "base_uri": "https://localhost:8080/",
          "height": 35
        },
        "id": "3fyFV8Ant-l3",
        "outputId": "9109677c-5714-4e6c-9b33-132cf82eeadb"
      },
      "execution_count": 6,
      "outputs": [
        {
          "output_type": "display_data",
          "data": {
            "text/plain": [
              "<IPython.core.display.Javascript object>"
            ],
            "application/javascript": [
              "google.colab.output.setIframeHeight(0, true, {maxHeight: 5000})"
            ]
          },
          "metadata": {}
        },
        {
          "output_type": "execute_result",
          "data": {
            "text/plain": [
              "'أوتافيو (لاعب كرة قدم، مواليد 1995)'"
            ],
            "application/vnd.google.colaboratory.intrinsic+json": {
              "type": "string"
            }
          },
          "metadata": {},
          "execution_count": 6
        }
      ]
    },
    {
      "cell_type": "code",
      "source": [
        "# current_article = wikipedia.page('أوتافيو (لاعب كرة قدم، مواليد 1995)')\n",
        "# PageError: Page id \"أوتافيو لاعب كرة قدم مولد 1999\" does not match any pages. Try another id!"
      ],
      "metadata": {
        "colab": {
          "base_uri": "https://localhost:8080/",
          "height": 17
        },
        "id": "-1LLEbSmtzgL",
        "outputId": "1aa992f3-0452-47cc-d48e-6627e4e1393d"
      },
      "execution_count": 7,
      "outputs": [
        {
          "output_type": "display_data",
          "data": {
            "text/plain": [
              "<IPython.core.display.Javascript object>"
            ],
            "application/javascript": [
              "google.colab.output.setIframeHeight(0, true, {maxHeight: 5000})"
            ]
          },
          "metadata": {}
        }
      ]
    },
    {
      "cell_type": "code",
      "source": [
        "len(top_article_titles_list)"
      ],
      "metadata": {
        "colab": {
          "base_uri": "https://localhost:8080/",
          "height": 35
        },
        "id": "M0fdwTneMlil",
        "outputId": "eb4b5a4b-9301-4a8c-e946-9ea85b963c25"
      },
      "execution_count": 8,
      "outputs": [
        {
          "output_type": "display_data",
          "data": {
            "text/plain": [
              "<IPython.core.display.Javascript object>"
            ],
            "application/javascript": [
              "google.colab.output.setIframeHeight(0, true, {maxHeight: 5000})"
            ]
          },
          "metadata": {}
        },
        {
          "output_type": "execute_result",
          "data": {
            "text/plain": [
              "1450"
            ]
          },
          "metadata": {},
          "execution_count": 8
        }
      ]
    },
    {
      "cell_type": "code",
      "source": [
        "top_article_titles_list[0:2]"
      ],
      "metadata": {
        "colab": {
          "base_uri": "https://localhost:8080/",
          "height": 195
        },
        "id": "fuzwulsVMqAH",
        "outputId": "7ce36aa9-f24a-46a7-d9db-8a0ac3cd8886"
      },
      "execution_count": 9,
      "outputs": [
        {
          "output_type": "display_data",
          "data": {
            "text/plain": [
              "<IPython.core.display.Javascript object>"
            ],
            "application/javascript": [
              "google.colab.output.setIframeHeight(0, true, {maxHeight: 5000})"
            ]
          },
          "metadata": {}
        },
        {
          "output_type": "execute_result",
          "data": {
            "text/plain": [
              "[{'article': 'ليونيل ميسي',\n",
              "  'date': '28/09/2022',\n",
              "  'views': 236172,\n",
              "  'rank': 193,\n",
              "  'score': 45581196},\n",
              " {'article': 'كأس العالم 2022',\n",
              "  'date': '06/09/2022',\n",
              "  'views': 380824,\n",
              "  'rank': 110,\n",
              "  'score': 41890640}]"
            ]
          },
          "metadata": {},
          "execution_count": 9
        }
      ]
    },
    {
      "cell_type": "code",
      "source": [
        "top_article_titles_list[0]['article']"
      ],
      "metadata": {
        "colab": {
          "base_uri": "https://localhost:8080/",
          "height": 35
        },
        "id": "eZ8KeF_9MdX2",
        "outputId": "205f2b80-154b-4c76-fc5a-15011b192471"
      },
      "execution_count": 10,
      "outputs": [
        {
          "output_type": "display_data",
          "data": {
            "text/plain": [
              "<IPython.core.display.Javascript object>"
            ],
            "application/javascript": [
              "google.colab.output.setIframeHeight(0, true, {maxHeight: 5000})"
            ]
          },
          "metadata": {}
        },
        {
          "output_type": "execute_result",
          "data": {
            "text/plain": [
              "'ليونيل ميسي'"
            ],
            "application/vnd.google.colaboratory.intrinsic+json": {
              "type": "string"
            }
          },
          "metadata": {},
          "execution_count": 10
        }
      ]
    },
    {
      "cell_type": "code",
      "source": [
        "!pip install wikipedia"
      ],
      "metadata": {
        "colab": {
          "base_uri": "https://localhost:8080/",
          "height": 160
        },
        "id": "7CGsOnRYx0SO",
        "outputId": "ab34e94f-f504-44c9-e85f-cda75684a355"
      },
      "execution_count": 11,
      "outputs": [
        {
          "output_type": "display_data",
          "data": {
            "text/plain": [
              "<IPython.core.display.Javascript object>"
            ],
            "application/javascript": [
              "google.colab.output.setIframeHeight(0, true, {maxHeight: 5000})"
            ]
          },
          "metadata": {}
        },
        {
          "output_type": "stream",
          "name": "stdout",
          "text": [
            "Requirement already satisfied: wikipedia in /usr/local/lib/python3.10/dist-packages (1.4.0)\n",
            "Requirement already satisfied: beautifulsoup4 in /usr/local/lib/python3.10/dist-packages (from wikipedia) (4.11.2)\n",
            "Requirement already satisfied: requests<3.0.0,>=2.0.0 in /usr/local/lib/python3.10/dist-packages (from wikipedia) (2.31.0)\n",
            "Requirement already satisfied: charset-normalizer<4,>=2 in /usr/local/lib/python3.10/dist-packages (from requests<3.0.0,>=2.0.0->wikipedia) (3.2.0)\n",
            "Requirement already satisfied: idna<4,>=2.5 in /usr/local/lib/python3.10/dist-packages (from requests<3.0.0,>=2.0.0->wikipedia) (3.4)\n",
            "Requirement already satisfied: urllib3<3,>=1.21.1 in /usr/local/lib/python3.10/dist-packages (from requests<3.0.0,>=2.0.0->wikipedia) (2.0.4)\n",
            "Requirement already satisfied: certifi>=2017.4.17 in /usr/local/lib/python3.10/dist-packages (from requests<3.0.0,>=2.0.0->wikipedia) (2023.7.22)\n",
            "Requirement already satisfied: soupsieve>1.2 in /usr/local/lib/python3.10/dist-packages (from beautifulsoup4->wikipedia) (2.5)\n"
          ]
        }
      ]
    },
    {
      "cell_type": "code",
      "source": [
        "import wikipedia"
      ],
      "metadata": {
        "colab": {
          "base_uri": "https://localhost:8080/",
          "height": 17
        },
        "id": "42bDPhcJzT45",
        "outputId": "7f045e79-9c6c-4401-bebc-030a314102c4"
      },
      "execution_count": 12,
      "outputs": [
        {
          "output_type": "display_data",
          "data": {
            "text/plain": [
              "<IPython.core.display.Javascript object>"
            ],
            "application/javascript": [
              "google.colab.output.setIframeHeight(0, true, {maxHeight: 5000})"
            ]
          },
          "metadata": {}
        }
      ]
    },
    {
      "cell_type": "code",
      "source": [
        "wikipedia.set_lang(\"ar\")"
      ],
      "metadata": {
        "colab": {
          "base_uri": "https://localhost:8080/",
          "height": 17
        },
        "id": "qSX6206P1VjU",
        "outputId": "f9debe9e-356b-45f5-c758-98a239f6a658"
      },
      "execution_count": 13,
      "outputs": [
        {
          "output_type": "display_data",
          "data": {
            "text/plain": [
              "<IPython.core.display.Javascript object>"
            ],
            "application/javascript": [
              "google.colab.output.setIframeHeight(0, true, {maxHeight: 5000})"
            ]
          },
          "metadata": {}
        }
      ]
    },
    {
      "cell_type": "code",
      "source": [
        "page = wikipedia.page(top_article_titles_list[0]['article'])\n",
        "page"
      ],
      "metadata": {
        "colab": {
          "base_uri": "https://localhost:8080/",
          "height": 35
        },
        "id": "iWZNdxErO8Om",
        "outputId": "97733b2e-8e33-4ed2-8215-df505553f8c8"
      },
      "execution_count": 14,
      "outputs": [
        {
          "output_type": "display_data",
          "data": {
            "text/plain": [
              "<IPython.core.display.Javascript object>"
            ],
            "application/javascript": [
              "google.colab.output.setIframeHeight(0, true, {maxHeight: 5000})"
            ]
          },
          "metadata": {}
        },
        {
          "output_type": "execute_result",
          "data": {
            "text/plain": [
              "<WikipediaPage 'ليونيل ميسي'>"
            ]
          },
          "metadata": {},
          "execution_count": 14
        }
      ]
    },
    {
      "cell_type": "code",
      "source": [
        "page.summary # same as print(wikipedia.summary(\"ليونيل ميسي\"))"
      ],
      "metadata": {
        "colab": {
          "base_uri": "https://localhost:8080/",
          "height": 107
        },
        "id": "nnSjllDLzLxb",
        "outputId": "3af91acd-d733-424c-f368-486da2d5df57"
      },
      "execution_count": 15,
      "outputs": [
        {
          "output_type": "display_data",
          "data": {
            "text/plain": [
              "<IPython.core.display.Javascript object>"
            ],
            "application/javascript": [
              "google.colab.output.setIframeHeight(0, true, {maxHeight: 5000})"
            ]
          },
          "metadata": {}
        },
        {
          "output_type": "execute_result",
          "data": {
            "text/plain": [
              "'ليونيل أندريس ميسي كوتشيتيني (تلفظ بالإسبانية: \\u200e/ljoˈnel anˈdɾez ˈmesi/\\u200f؛ مواليد 24 يونيو 1987) لاعب كرة قدم أرجنتيني يلعب مهاجمًا و\\u200cقائدًا لنادي إنتر ميامي الأمريكي و\\u200cمنتخب الأرجنتين. غالبًا ما يُعد ميسي أفضل لاعب في العالم وينظر إليه الكثيرون على أنه أعظم اللاعبين في تاريخ كرة القدم، وقد فاز ميسي بسبع جوائز من الكرة الذهبية، وهو صاحب الرقم القياسي بستة أحذية ذهبية أوروبية. قضى معظم مسيرته الاحترافية مع برشلونة، حيث فاز بـ35 لقبًا مع النادي، بما في ذلك عشرة ألقاب في الدوري الإسباني، وأربعة ألقاب في دوري أبطال أوروبا، وسبعة ألقاب في كأس الملك. يعتبر ميسي هدافًا وصانع ألعاب إبداعي، ويحمل الأرقام القياسية لأكثر عدد من الأهداف في الدوري الإسباني (474)، وأكثر لاعب سجل في موسم الدوري الإسباني وأي دوري أوروبي آخر (50)، وأكثر من سجل هاتريك في الدوري الإسباني (36) ودوري أبطال أوروبا (8)، وأكثر من مرر تمريرات حاسمة في الدوري الإسباني (192)، وأي دوري أوروبي آخر في موسم واحد (21) وأكثر من مرر تمريرات حاسمة في كوبا أمريكا (17). وقد سجل أكثر من 750 هدفًا رسميًّا مع النادي والمنتخب، وهو أكثر من سجل لنادٍ واحد.\\nوُلد ميسي ونشأ في وسط الأرجنتين، وانتقل إلى إسبانيا لينضم إلى برشلونة في سن 13 عامًا، حيث شارك لأول مرة في الدوري عندما كان عمره 17 عامًا في أكتوبر 2004. لقد أثبت نفسه كلاعب أساسي للنادي خلال السنوات الثلاث المقبلة، وفي أول موسم له كأساسي في 2008–09 ساعد برشلونة على تحقيق أول ثلاثية في كرة القدم الإسبانية. في ذلك العام، وحينما كان يبلغ من العمر 22 عامًا، فاز ميسي بأول كرة ذهبية له. تبع ذلك ثلاثة مواسم ناجحة، حيث فاز ميسي بأربعة كرات ذهبية متتالية، مما جعله أول لاعب يفوز بالجائزة أربع مرات متتالية. خلال موسم 2011–12، حقق رقم قياسي في الدوري الإسباني وأوروبا لأكثر عدد من الأهداف في موسم واحد، بينما وضع نفسه كأفضل هداف لبرشلونة في التاريخ. في الموسمين التاليين، احتل ميسي المركز الثاني في جائزة الكرة الذهبية خلف كريستيانو رونالدو (منافسه الأول)، قبل أن يستعيد أفضل مستوياته خلال موسم 2014–15، ليصبح هداف الدوري الإسباني التاريخي ويقود برشلونة إلى ثلاثية تاريخية آخرى، وبعد ذلك حصل على جائزة الكرة الذهبية الخامسة في عام 2015. تولى ميسي شارة قيادة برشلونة في عام 2018، وفي عام 2019 حصل على الكرة الذهبية السادسة.\\nعلى المستوى الدولي مع الأرجنتين، ميسي هو الهداف التاريخي لمنتخب بلاده. على مستوى الشباب، فاز ببطولة العالم للشباب لعام 2005، وأنهى البطولة بحصوله على كل من الكرة الذهبية والحذاء الذهبي، وفاز بالميدالية الذهبية الأولمبية في دورة الألعاب الأولمبية الصيفية لعام 2008. جعل أسلوبه في اللعب كمراوغ قصير بالقدم اليسرى مقارنات مع مواطنه دييغو مارادونا، الذي وصف ميسي بأنه خليفته. بعد مشاركته الأولى في أغسطس 2005، أصبح ميسي أصغر أرجنتيني يلعب ويسجل في كأس العالم خلال نسخة 2006، ووصل إلى نهائي كوبا أمريكا 2007، حيث تم اختياره أفضل لاعب شاب في البطولة. كقائد للفريق منذ أغسطس 2011، قاد الأرجنتين إلى ثلاث نهائيات متتالية: كأس العالم 2014، التي فاز فيها بالكرة الذهبية، وكوبا أمريكا 2015 و2016. بعد إعلانه اعتزاله دوليًا في عام 2016، تراجع عن قراره وقاد منتخب بلاده للتأهل إلى كأس العالم 2018، والمركز الثالث في كوبا أمريكا 2019.\\nيُعد ميسي أحد أشهر الرياضيين في العالم، حيث تلقى رعاية من شركة الملابس الرياضية أديداس منذ عام 2006 وأثبت نفسه كقائد رئيسي لعلامتهم التجارية. وفقًا لفرانس فوتبول، فقد كان أفضل لاعب كرة قدم في العالم لمدة خمس سنوات من أصل ست سنوات بين عامي 2009 و2014، وحصل على المرتبة الأولى من الرياضيين الأعلى أجراً في العالم من قبل فوربس في عام 2019. وكان ميسي من بين 100 شخص الأكثر نفوذاً في العالم في حسب مجلة تايم في 2011 و2012. في فبراير 2020، حصل على جائزة لوريوس الرياضية العالمية لرياضي العام، وبذلك أصبح أول لاعب كرة قدم وأيضًا أول في رياضية جماعية يفوز بالجائزة.'"
            ],
            "application/vnd.google.colaboratory.intrinsic+json": {
              "type": "string"
            }
          },
          "metadata": {},
          "execution_count": 15
        }
      ]
    },
    {
      "cell_type": "code",
      "source": [
        "page.images"
      ],
      "metadata": {
        "id": "2rxZsFr-To7R",
        "outputId": "9f67b58e-f3fc-483e-be71-180ad2fd8e8c",
        "colab": {
          "base_uri": "https://localhost:8080/",
          "height": 1407
        }
      },
      "execution_count": 16,
      "outputs": [
        {
          "output_type": "display_data",
          "data": {
            "text/plain": [
              "<IPython.core.display.Javascript object>"
            ],
            "application/javascript": [
              "google.colab.output.setIframeHeight(0, true, {maxHeight: 5000})"
            ]
          },
          "metadata": {}
        },
        {
          "output_type": "execute_result",
          "data": {
            "text/plain": [
              "['https://upload.wikimedia.org/wikipedia/commons/a/a5/039_men_at_work_UEFA_2009%2C_Rome.jpg',\n",
              " 'https://upload.wikimedia.org/wikipedia/commons/b/b8/2021_Facebook_icon.svg',\n",
              " 'https://upload.wikimedia.org/wikipedia/commons/8/89/Bronze_medal_icon.svg',\n",
              " 'https://upload.wikimedia.org/wikipedia/commons/7/76/Captain_sports.svg',\n",
              " 'https://upload.wikimedia.org/wikipedia/commons/2/29/Coat_of_Arms_of_Barcelona.svg',\n",
              " 'https://upload.wikimedia.org/wikipedia/commons/4/4a/Commons-logo.svg',\n",
              " 'https://upload.wikimedia.org/wikipedia/commons/d/d6/Cristiano_Ronaldo_and_Lionel_Messi_-_Portugal_vs_Argentina%2C_9th_February_2011.jpg',\n",
              " 'https://upload.wikimedia.org/wikipedia/commons/4/49/Cristina_Fern%C3%A1ndez_y_la_Selecci%C3%B3n_Argentina_de_f%C3%BAtbol_2014%2C_3_%28cropped%29.jpg',\n",
              " 'https://upload.wikimedia.org/wikipedia/commons/4/49/Cristina_Fern%C3%A1ndez_y_la_Selecci%C3%B3n_Argentina_de_f%C3%BAtbol_2014%2C_3_%28cropped%29.jpg',\n",
              " 'https://upload.wikimedia.org/wikipedia/commons/8/89/Cross_of_Saint_George_%28Catalan_Government_Award%29.svg',\n",
              " 'https://upload.wikimedia.org/wikipedia/commons/f/f8/FC_Barcelona_-_Bayer_04_Leverkusen%2C_7_mar_2012_%2807%29.jpg',\n",
              " 'https://upload.wikimedia.org/wikipedia/commons/6/6b/FC_Barcelona_Team_2%2C_2011.jpg',\n",
              " 'https://upload.wikimedia.org/wikipedia/commons/8/80/Featured_list_badge_on_Arabic_Wikipedia.svg',\n",
              " 'https://upload.wikimedia.org/wikipedia/commons/6/63/Firma_de_Lionel_Messi.svg',\n",
              " 'https://upload.wikimedia.org/wikipedia/commons/1/1a/Flag_of_Argentina.svg',\n",
              " 'https://upload.wikimedia.org/wikipedia/commons/0/05/Flag_of_Brazil.svg',\n",
              " 'https://upload.wikimedia.org/wikipedia/commons/4/49/Flag_of_Brazil_%281960%E2%80%931968%29.svg',\n",
              " 'https://upload.wikimedia.org/wikipedia/commons/4/49/Flag_of_Brazil_%281960%E2%80%931968%29.svg',\n",
              " 'https://upload.wikimedia.org/wikipedia/commons/2/2e/Flag_of_Brazil_%281968%E2%80%931992%29.svg',\n",
              " 'https://upload.wikimedia.org/wikipedia/commons/2/2e/Flag_of_Brazil_%281968%E2%80%931992%29.svg',\n",
              " 'https://upload.wikimedia.org/wikipedia/commons/2/21/Flag_of_Colombia.svg',\n",
              " 'https://upload.wikimedia.org/wikipedia/commons/f/fe/Flag_of_C%C3%B4te_d%27Ivoire.svg',\n",
              " 'https://upload.wikimedia.org/wikipedia/commons/f/fe/Flag_of_Egypt.svg',\n",
              " 'https://upload.wikimedia.org/wikipedia/commons/b/be/Flag_of_England.svg',\n",
              " 'https://upload.wikimedia.org/wikipedia/commons/c/c3/Flag_of_France.svg',\n",
              " 'https://upload.wikimedia.org/wikipedia/commons/b/ba/Flag_of_Germany.svg',\n",
              " 'https://upload.wikimedia.org/wikipedia/commons/0/03/Flag_of_Italy.svg',\n",
              " 'https://upload.wikimedia.org/wikipedia/commons/7/79/Flag_of_Nigeria.svg',\n",
              " 'https://upload.wikimedia.org/wikipedia/commons/4/43/Flag_of_Northern_Ireland_%281953%E2%80%931972%29.svg',\n",
              " 'https://upload.wikimedia.org/wikipedia/commons/5/5c/Flag_of_Portugal.svg',\n",
              " 'https://upload.wikimedia.org/wikipedia/commons/9/9a/Flag_of_Spain.svg',\n",
              " 'https://upload.wikimedia.org/wikipedia/commons/3/33/Flag_of_Spain_%281945%E2%80%931977%29.svg',\n",
              " 'https://upload.wikimedia.org/wikipedia/commons/3/33/Flag_of_Spain_%281945%E2%80%931977%29.svg',\n",
              " 'https://upload.wikimedia.org/wikipedia/commons/d/d1/Flag_of_UNICEF.svg',\n",
              " 'https://upload.wikimedia.org/wikipedia/commons/2/20/Flag_of_the_Netherlands.svg',\n",
              " 'https://upload.wikimedia.org/wikipedia/commons/a/a9/Flag_of_the_Soviet_Union.svg',\n",
              " 'https://upload.wikimedia.org/wikipedia/commons/c/ce/Flag_of_the_Soviet_Union_%28dark_version%29.svg',\n",
              " 'https://upload.wikimedia.org/wikipedia/commons/c/ce/Flag_of_the_Soviet_Union_%28dark_version%29.svg',\n",
              " 'https://upload.wikimedia.org/wikipedia/commons/a/a4/Flag_of_the_United_States.svg',\n",
              " 'https://upload.wikimedia.org/wikipedia/commons/4/4d/Football_Spain.png',\n",
              " 'https://upload.wikimedia.org/wikipedia/commons/4/47/Gold_medal_icon.svg',\n",
              " 'https://upload.wikimedia.org/wikipedia/commons/3/38/Info_Simple.svg',\n",
              " 'https://upload.wikimedia.org/wikipedia/commons/9/95/Instagram_logo_2022.svg',\n",
              " 'https://upload.wikimedia.org/wikipedia/commons/5/50/Leo_Messi_2016.PNG',\n",
              " 'https://upload.wikimedia.org/wikipedia/commons/4/41/Leo_Messi_v_Almeria_020314_%28cropped%29.jpg',\n",
              " 'https://upload.wikimedia.org/wikipedia/commons/a/ab/Leo_Messi_v_Granada_2014.jpg',\n",
              " 'https://upload.wikimedia.org/wikipedia/commons/b/b4/Lionel-Messi-Argentina-2022-FIFA-World-Cup_%28cropped%29.jpg',\n",
              " 'https://upload.wikimedia.org/wikipedia/commons/f/f2/Lionel_Messi.png',\n",
              " 'https://upload.wikimedia.org/wikipedia/commons/d/da/Lionel_Messi_Joan_Gamper_Trophy.jpg',\n",
              " 'https://upload.wikimedia.org/wikipedia/commons/b/b8/Lionel_Messi_PSG.jpg',\n",
              " 'https://upload.wikimedia.org/wikipedia/commons/c/c8/Lionel_Messi_WC2022.jpg',\n",
              " 'https://upload.wikimedia.org/wikipedia/commons/e/e2/Lionel_Messi_at_Bernabeu.jpg',\n",
              " 'https://upload.wikimedia.org/wikipedia/commons/3/32/Lionel_Messi_goal_19abr2007.jpg',\n",
              " 'https://upload.wikimedia.org/wikipedia/commons/2/27/Lionel_Messi_in_tears_after_the_final.jpg',\n",
              " 'https://upload.wikimedia.org/wikipedia/commons/3/37/Lionel_Messi_vs_Valladolid_3.jpg',\n",
              " 'https://upload.wikimedia.org/wikipedia/commons/c/c6/Messi_car.jpg',\n",
              " 'https://upload.wikimedia.org/wikipedia/commons/7/75/Messi_in_Copa_America_2007.jpg',\n",
              " 'https://upload.wikimedia.org/wikipedia/commons/5/55/Messi_olympics-soccer-7.jpg',\n",
              " 'https://upload.wikimedia.org/wikipedia/commons/1/15/Messi_vs_Nigeria1.jpg',\n",
              " 'https://upload.wikimedia.org/wikipedia/commons/f/f4/Moment_of_the_Champions_League_final_FC_Barcelona_-_Juventus_2015.jpg',\n",
              " 'https://upload.wikimedia.org/wikipedia/commons/0/08/Nokia_Lumia_1020_Front.svg',\n",
              " 'https://upload.wikimedia.org/wikipedia/commons/5/5f/Nuvola_Argentine_flag.svg',\n",
              " 'https://upload.wikimedia.org/wikipedia/commons/0/0e/Nuvola_Italy_flag.svg',\n",
              " 'https://upload.wikimedia.org/wikipedia/commons/3/3c/Nuvola_Spain_flag_escudada.svg',\n",
              " 'https://upload.wikimedia.org/wikipedia/commons/8/8a/OOjs_UI_icon_edit-ltr-progressive.svg',\n",
              " 'https://upload.wikimedia.org/wikipedia/commons/a/a9/Olympic_rings_with_white_rims.svg',\n",
              " 'https://upload.wikimedia.org/wikipedia/commons/1/1b/P_Football.png',\n",
              " 'https://upload.wikimedia.org/wikipedia/commons/6/69/P_vip.svg',\n",
              " 'https://upload.wikimedia.org/wikipedia/commons/0/07/Quora_Q_icon_2015.svg',\n",
              " 'https://upload.wikimedia.org/wikipedia/commons/e/ed/Record_symbol.svg',\n",
              " 'https://upload.wikimedia.org/wikipedia/commons/1/1b/Semi-protection-shackle.svg',\n",
              " 'https://upload.wikimedia.org/wikipedia/commons/b/b4/Symbol_star_gold.svg',\n",
              " 'https://upload.wikimedia.org/wikipedia/commons/f/f4/Twemoji_270f.svg',\n",
              " 'https://upload.wikimedia.org/wikipedia/commons/4/43/Flag_of_Northern_Ireland_%281953%E2%80%931972%29.svg',\n",
              " 'https://upload.wikimedia.org/wikipedia/commons/c/ce/X_logo_2023.svg',\n",
              " 'https://upload.wikimedia.org/wikipedia/commons/0/09/YouTube_full-color_icon_%282017%29.svg',\n",
              " 'https://upload.wikimedia.org/wikipedia/ar/2/21/PES2011boxart.jpg',\n",
              " 'https://upload.wikimedia.org/wikipedia/ar/b/b4/WC-Trophy-icon.png']"
            ]
          },
          "metadata": {},
          "execution_count": 16
        }
      ]
    },
    {
      "cell_type": "markdown",
      "source": [
        "Reducing the size to 5 for testing purposes."
      ],
      "metadata": {
        "id": "5uLjVPVtQ9oE"
      }
    },
    {
      "cell_type": "code",
      "source": [
        "top_article_titles_list = top_article_titles_list[835:845]\n",
        "top_article_titles_list[1]"
      ],
      "metadata": {
        "colab": {
          "base_uri": "https://localhost:8080/",
          "height": 106
        },
        "id": "lI0PfOI-OjG9",
        "outputId": "a0f827e3-bb1a-44ad-b795-051cb9684a96"
      },
      "execution_count": 17,
      "outputs": [
        {
          "output_type": "display_data",
          "data": {
            "text/plain": [
              "<IPython.core.display.Javascript object>"
            ],
            "application/javascript": [
              "google.colab.output.setIframeHeight(0, true, {maxHeight: 5000})"
            ]
          },
          "metadata": {}
        },
        {
          "output_type": "execute_result",
          "data": {
            "text/plain": [
              "{'article': 'قائمة مباريات ديربي القاهرة',\n",
              " 'date': '12/07/2023',\n",
              " 'views': 7626,\n",
              " 'rank': 2,\n",
              " 'score': 15252}"
            ]
          },
          "metadata": {},
          "execution_count": 17
        }
      ]
    },
    {
      "cell_type": "code",
      "source": [
        "# 258\n",
        "top_article_titles_list[7]['article'] = 'زلزال تركيا وسوريا 2023'"
      ],
      "metadata": {
        "colab": {
          "base_uri": "https://localhost:8080/",
          "height": 17
        },
        "id": "ZHio39ghgrls",
        "outputId": "27c8ef91-221a-44d8-d2b0-4bebad4bb12c"
      },
      "execution_count": 18,
      "outputs": [
        {
          "output_type": "display_data",
          "data": {
            "text/plain": [
              "<IPython.core.display.Javascript object>"
            ],
            "application/javascript": [
              "google.colab.output.setIframeHeight(0, true, {maxHeight: 5000})"
            ]
          },
          "metadata": {}
        }
      ]
    },
    {
      "cell_type": "code",
      "source": [
        "import time\n",
        "from datetime import datetime\n",
        "import json\n",
        "from urllib.parse import urlencode, quote_plus\n",
        "import urllib.request\n",
        "import urllib.parse"
      ],
      "metadata": {
        "colab": {
          "base_uri": "https://localhost:8080/",
          "height": 17
        },
        "id": "u2BgbkC14FqL",
        "outputId": "009cd03f-6d6f-40aa-e5a0-33c03771c7d4"
      },
      "execution_count": 19,
      "outputs": [
        {
          "output_type": "display_data",
          "data": {
            "text/plain": [
              "<IPython.core.display.Javascript object>"
            ],
            "application/javascript": [
              "google.colab.output.setIframeHeight(0, true, {maxHeight: 5000})"
            ]
          },
          "metadata": {}
        }
      ]
    },
    {
      "cell_type": "code",
      "source": [
        "summaries_list = []\n",
        "urls_list = []\n",
        "categories_list = []\n",
        "image_urls = []\n",
        "wiki_pages_list = []\n",
        "page_ids = []\n",
        "\n",
        "lang = 'ar'\n",
        "\n",
        "\n",
        "for article_title in top_article_titles_list:\n",
        "\n",
        "# print(article_title['article'], 'is being processed.')\n",
        "\n",
        "  if 'article' in article_title:\n",
        "    try:\n",
        "        current_article = wikipedia.page(article_title['article'])\n",
        "        # Code to handle the case where the page was successfully fetched\n",
        "        # print(f\"Page '{article_title['article']}' was found.\")\n",
        "\n",
        "    except wikipedia.exceptions.PageError:\n",
        "        # Code to handle the case where the page title is not found\n",
        "        print(f\"Page '{article_title['article']}' was not found.\")\n",
        "\n",
        "        wiki_pages_list.append(None)\n",
        "        summaries_list.append(None)\n",
        "        urls_list.append(None)\n",
        "        page_ids.append(None)\n",
        "        categories_list.append(None)\n",
        "        image_urls.append(None)\n",
        "        continue\n",
        "\n",
        "    except wikipedia.exceptions.DisambiguationError as e:\n",
        "        # Code to handle the case of disambiguation (multiple possible titles)\n",
        "        print(f\"Multiple possible pages found for '{article_title['article']}': {e.options}\")\n",
        "  else:\n",
        "    # Handle the case where 'article' key is not in the dictionary\n",
        "    print(\"No 'article' key found in the dictionary.\")\n",
        "\n",
        "\n",
        "\n",
        "\n",
        "  # current_article = wikipedia.page(article_title['article'])\n",
        "\n",
        "  # current_article_url = wikipedia.url(article_title['article'])\n",
        "\n",
        "# print(current_article.title, 'page has been retrieved.')\n",
        "\n",
        "  wiki_pages_list.append(current_article)\n",
        "\n",
        "  summaries_list.append(current_article.summary)\n",
        "\n",
        "  urls_list.append(current_article.url)\n",
        "\n",
        "  page_ids.append(current_article.pageid)\n",
        "\n",
        "\n",
        "\n",
        "\n",
        "  current_article_categories_list = current_article.categories\n",
        "\n",
        "  # Filter the strings containing \"تصنيف:بوابة\"\n",
        "  current_article_filtered_categories = [s for s in current_article_categories_list if 'تصنيف:بوابة' in s]\n",
        "\n",
        "  # cleaned_list = [s.replace('/مقالات متعلقة', '') for s in filtered_list]\n",
        "  current_article_cleaned_categories = [s.replace('تصنيف:بوابة', '').replace('/مقالات متعلقة', '').strip() for s in current_article_filtered_categories]\n",
        "\n",
        "  categories_list.append(current_article_cleaned_categories)\n",
        "\n",
        "\n",
        "\n",
        "\n",
        "\n",
        "# print('about to parse image')\n",
        "\n",
        "\n",
        "  page_title = current_article.title\n",
        "\n",
        "  # Encode the URL components\n",
        "  # lang = urllib.parse.quote(lang)\n",
        "  encoded_page_title = urllib.parse.quote(page_title)\n",
        "\n",
        "  encoded_api_url = f'https://{lang}.wikipedia.org/w/api.php?action=query&prop=pageimages&format=json&piprop=original&titles={encoded_page_title}'\n",
        "\n",
        "  resp = urllib.request.urlopen(encoded_api_url)\n",
        "  resp_bytes = resp.read()\n",
        "  data = json.loads(resp_bytes)\n",
        "\n",
        "\n",
        "  # Search for the title in the JSON data\n",
        "  for page_id, page_info in data['query']['pages'].items():\n",
        "    if page_info.get('title') == page_title:\n",
        "        original_info = page_info.get('original', {})\n",
        "        source_url = original_info.get('source')\n",
        "\n",
        "\n",
        "        # If source_url is None, append it to the list\n",
        "        if source_url is None:\n",
        "            image_urls.append(None)\n",
        "        else: image_urls.append(source_url)\n",
        "\n",
        "\n",
        "\n",
        "\n",
        "\n",
        "\n",
        "\n",
        "\n",
        "\n",
        "\n",
        "\n"
      ],
      "metadata": {
        "colab": {
          "base_uri": "https://localhost:8080/",
          "height": 35
        },
        "id": "Nd57C85qDXmB",
        "outputId": "ade88ff5-38f1-499f-d317-db9f532951be"
      },
      "execution_count": 20,
      "outputs": [
        {
          "output_type": "display_data",
          "data": {
            "text/plain": [
              "<IPython.core.display.Javascript object>"
            ],
            "application/javascript": [
              "google.colab.output.setIframeHeight(0, true, {maxHeight: 5000})"
            ]
          },
          "metadata": {}
        },
        {
          "output_type": "stream",
          "name": "stdout",
          "text": [
            "Page 'أوتافيو (لاعب كرة قدم، مواليد 1995)' was not found.\n"
          ]
        }
      ]
    },
    {
      "cell_type": "code",
      "source": [],
      "metadata": {
        "id": "UhfArcOTrWVF"
      },
      "execution_count": 20,
      "outputs": []
    },
    {
      "cell_type": "code",
      "source": [
        "current_article = wikipedia.page(article_title['article'])\n",
        "current_article"
      ],
      "metadata": {
        "colab": {
          "base_uri": "https://localhost:8080/",
          "height": 35
        },
        "id": "t2kvy-HYePHl",
        "outputId": "26aae60b-57ae-425c-d9cb-c5ab7b1968c3"
      },
      "execution_count": 21,
      "outputs": [
        {
          "output_type": "display_data",
          "data": {
            "text/plain": [
              "<IPython.core.display.Javascript object>"
            ],
            "application/javascript": [
              "google.colab.output.setIframeHeight(0, true, {maxHeight: 5000})"
            ]
          },
          "metadata": {}
        },
        {
          "output_type": "execute_result",
          "data": {
            "text/plain": [
              "<WikipediaPage 'جورجيا'>"
            ]
          },
          "metadata": {},
          "execution_count": 21
        }
      ]
    },
    {
      "cell_type": "code",
      "source": [
        "current_article = wikipedia.page(\"زلزال تركيا وسوريا 2023\")\n",
        "current_article"
      ],
      "metadata": {
        "colab": {
          "base_uri": "https://localhost:8080/",
          "height": 35
        },
        "id": "hrWIa1kadq_H",
        "outputId": "d2fac826-55ee-4d9b-aa1a-69c4f7ae8644"
      },
      "execution_count": 22,
      "outputs": [
        {
          "output_type": "display_data",
          "data": {
            "text/plain": [
              "<IPython.core.display.Javascript object>"
            ],
            "application/javascript": [
              "google.colab.output.setIframeHeight(0, true, {maxHeight: 5000})"
            ]
          },
          "metadata": {}
        },
        {
          "output_type": "execute_result",
          "data": {
            "text/plain": [
              "<WikipediaPage 'زلزال قهرمان مرعش 2023'>"
            ]
          },
          "metadata": {},
          "execution_count": 22
        }
      ]
    },
    {
      "cell_type": "code",
      "source": [
        "current_article = wikipedia.page(\"أونتاريو لاعب كرة قدم مواليد 1995\")\n",
        "current_article"
      ],
      "metadata": {
        "colab": {
          "base_uri": "https://localhost:8080/",
          "height": 35
        },
        "id": "0b8IYRIgmjG5",
        "outputId": "c6bf822c-2edc-4b8f-b66c-900b1480e05c"
      },
      "execution_count": 23,
      "outputs": [
        {
          "output_type": "display_data",
          "data": {
            "text/plain": [
              "<IPython.core.display.Javascript object>"
            ],
            "application/javascript": [
              "google.colab.output.setIframeHeight(0, true, {maxHeight: 5000})"
            ]
          },
          "metadata": {}
        },
        {
          "output_type": "execute_result",
          "data": {
            "text/plain": [
              "<WikipediaPage 'آدام همتي'>"
            ]
          },
          "metadata": {},
          "execution_count": 23
        }
      ]
    },
    {
      "cell_type": "code",
      "source": [
        "current_article.title"
      ],
      "metadata": {
        "colab": {
          "base_uri": "https://localhost:8080/",
          "height": 35
        },
        "id": "XUDYH8fXRSAP",
        "outputId": "6988e642-4585-4b89-a46a-e489f06196b2"
      },
      "execution_count": 24,
      "outputs": [
        {
          "output_type": "display_data",
          "data": {
            "text/plain": [
              "<IPython.core.display.Javascript object>"
            ],
            "application/javascript": [
              "google.colab.output.setIframeHeight(0, true, {maxHeight: 5000})"
            ]
          },
          "metadata": {}
        },
        {
          "output_type": "execute_result",
          "data": {
            "text/plain": [
              "'آدام همتي'"
            ],
            "application/vnd.google.colaboratory.intrinsic+json": {
              "type": "string"
            }
          },
          "metadata": {},
          "execution_count": 24
        }
      ]
    },
    {
      "cell_type": "code",
      "source": [
        "page = wiki_pages_list[0]"
      ],
      "metadata": {
        "colab": {
          "base_uri": "https://localhost:8080/",
          "height": 17
        },
        "id": "xno0siejRSB4",
        "outputId": "acb562f0-efe2-4107-9b6a-ab467fc55794"
      },
      "execution_count": 25,
      "outputs": [
        {
          "output_type": "display_data",
          "data": {
            "text/plain": [
              "<IPython.core.display.Javascript object>"
            ],
            "application/javascript": [
              "google.colab.output.setIframeHeight(0, true, {maxHeight: 5000})"
            ]
          },
          "metadata": {}
        }
      ]
    },
    {
      "cell_type": "code",
      "source": [
        "page.pageid"
      ],
      "metadata": {
        "colab": {
          "base_uri": "https://localhost:8080/",
          "height": 35
        },
        "id": "JmLPjU78T35B",
        "outputId": "099d110b-9f6f-4911-c82c-799645b8ead7"
      },
      "execution_count": 26,
      "outputs": [
        {
          "output_type": "display_data",
          "data": {
            "text/plain": [
              "<IPython.core.display.Javascript object>"
            ],
            "application/javascript": [
              "google.colab.output.setIframeHeight(0, true, {maxHeight: 5000})"
            ]
          },
          "metadata": {}
        },
        {
          "output_type": "execute_result",
          "data": {
            "text/plain": [
              "'3334689'"
            ],
            "application/vnd.google.colaboratory.intrinsic+json": {
              "type": "string"
            }
          },
          "metadata": {},
          "execution_count": 26
        }
      ]
    },
    {
      "cell_type": "code",
      "source": [
        "wikipedia.set_lang(\"en\")\n",
        "page.url"
      ],
      "metadata": {
        "colab": {
          "base_uri": "https://localhost:8080/",
          "height": 35
        },
        "id": "_pQlpUTRRa2r",
        "outputId": "b20aa73a-e694-4545-a10a-609d88cd0c21"
      },
      "execution_count": 27,
      "outputs": [
        {
          "output_type": "display_data",
          "data": {
            "text/plain": [
              "<IPython.core.display.Javascript object>"
            ],
            "application/javascript": [
              "google.colab.output.setIframeHeight(0, true, {maxHeight: 5000})"
            ]
          },
          "metadata": {}
        },
        {
          "output_type": "execute_result",
          "data": {
            "text/plain": [
              "'https://ar.wikipedia.org/wiki/%D8%AC%D9%8A%D8%B1%D9%8A_%D9%85%D8%A7%D9%87%D8%B1'"
            ],
            "application/vnd.google.colaboratory.intrinsic+json": {
              "type": "string"
            }
          },
          "metadata": {},
          "execution_count": 27
        }
      ]
    },
    {
      "cell_type": "code",
      "source": [
        "current_article.title"
      ],
      "metadata": {
        "colab": {
          "base_uri": "https://localhost:8080/",
          "height": 35
        },
        "id": "gFkv4k-YTxp8",
        "outputId": "9e44c644-89f5-4f54-dd5f-e40d987da7c7"
      },
      "execution_count": 28,
      "outputs": [
        {
          "output_type": "display_data",
          "data": {
            "text/plain": [
              "<IPython.core.display.Javascript object>"
            ],
            "application/javascript": [
              "google.colab.output.setIframeHeight(0, true, {maxHeight: 5000})"
            ]
          },
          "metadata": {}
        },
        {
          "output_type": "execute_result",
          "data": {
            "text/plain": [
              "'آدام همتي'"
            ],
            "application/vnd.google.colaboratory.intrinsic+json": {
              "type": "string"
            }
          },
          "metadata": {},
          "execution_count": 28
        }
      ]
    },
    {
      "cell_type": "code",
      "source": [
        "current_article.original_title"
      ],
      "metadata": {
        "colab": {
          "base_uri": "https://localhost:8080/",
          "height": 35
        },
        "id": "DgB4vg4hT1Vh",
        "outputId": "d949f6f5-eea3-453c-a747-58adf7c4d839"
      },
      "execution_count": 29,
      "outputs": [
        {
          "output_type": "display_data",
          "data": {
            "text/plain": [
              "<IPython.core.display.Javascript object>"
            ],
            "application/javascript": [
              "google.colab.output.setIframeHeight(0, true, {maxHeight: 5000})"
            ]
          },
          "metadata": {}
        },
        {
          "output_type": "execute_result",
          "data": {
            "text/plain": [
              "'آدام همتي'"
            ],
            "application/vnd.google.colaboratory.intrinsic+json": {
              "type": "string"
            }
          },
          "metadata": {},
          "execution_count": 29
        }
      ]
    },
    {
      "cell_type": "code",
      "source": [],
      "metadata": {
        "id": "TZXBpy3KRdYh"
      },
      "execution_count": 29,
      "outputs": []
    },
    {
      "cell_type": "code",
      "source": [
        "image_urls"
      ],
      "metadata": {
        "colab": {
          "base_uri": "https://localhost:8080/",
          "height": 195
        },
        "id": "At6uGPCqLl-g",
        "outputId": "6057ede9-6b93-4a72-aeac-f804be06ddeb"
      },
      "execution_count": 30,
      "outputs": [
        {
          "output_type": "display_data",
          "data": {
            "text/plain": [
              "<IPython.core.display.Javascript object>"
            ],
            "application/javascript": [
              "google.colab.output.setIframeHeight(0, true, {maxHeight: 5000})"
            ]
          },
          "metadata": {}
        },
        {
          "output_type": "execute_result",
          "data": {
            "text/plain": [
              "['https://upload.wikimedia.org/wikipedia/commons/8/88/JerryMaher.jpg',\n",
              " 'https://upload.wikimedia.org/wikipedia/commons/f/f6/AL-Ahly_Zamalek.png',\n",
              " 'https://upload.wikimedia.org/wikipedia/commons/4/4d/Hashmite_Banner.jpg',\n",
              " None,\n",
              " None,\n",
              " 'https://upload.wikimedia.org/wikipedia/commons/f/fc/Flag_of_Mexico.svg',\n",
              " None,\n",
              " 'https://upload.wikimedia.org/wikipedia/commons/e/ef/2023_Turkey_Earthquake_Damage.jpg',\n",
              " None,\n",
              " 'https://upload.wikimedia.org/wikipedia/commons/0/0f/Flag_of_Georgia.svg']"
            ]
          },
          "metadata": {},
          "execution_count": 30
        }
      ]
    },
    {
      "cell_type": "code",
      "source": [
        "categories_list"
      ],
      "metadata": {
        "colab": {
          "base_uri": "https://localhost:8080/",
          "height": 641
        },
        "id": "Ebk4hWXDLrEc",
        "outputId": "acf3af8a-3900-4c5b-b555-61a77508d970"
      },
      "execution_count": 31,
      "outputs": [
        {
          "output_type": "display_data",
          "data": {
            "text/plain": [
              "<IPython.core.display.Javascript object>"
            ],
            "application/javascript": [
              "google.colab.output.setIframeHeight(0, true, {maxHeight: 5000})"
            ]
          },
          "metadata": {}
        },
        {
          "output_type": "execute_result",
          "data": {
            "text/plain": [
              "[['أعلام', 'لبنان'],\n",
              " ['القاهرة', 'كرة القدم', 'كرة القدم المصرية', 'كرة القدم في إفريقيا', 'مصر'],\n",
              " ['الأردن',\n",
              "  'الشام',\n",
              "  'العالم الإسلامي',\n",
              "  'العراق',\n",
              "  'القدس',\n",
              "  'الهلال الخصيب',\n",
              "  'الوطن العربي',\n",
              "  'فلسطين'],\n",
              " ['آل سعود', 'أعلام', 'السعودية', 'السياسة'],\n",
              " None,\n",
              " ['أمريكا اللاتينية', 'الأمريكيتان', 'المكسيك', 'دول'],\n",
              " ['أعلام', 'إسبانيا', 'كرة القدم'],\n",
              " ['آسيا',\n",
              "  'أوروبا',\n",
              "  'الشام',\n",
              "  'القرن 21',\n",
              "  'المتوسط',\n",
              "  'تركيا',\n",
              "  'سوريا',\n",
              "  'عقد 2020',\n",
              "  'علوم الأرض',\n",
              "  'قبرص',\n",
              "  'كوارث'],\n",
              " ['التاريخ', 'القرن 21', 'تقويم', 'زمن', 'عصور حديثة', 'عقد 2020'],\n",
              " ['أبخازيا',\n",
              "  'أرثوذكسية',\n",
              "  'أوروبا',\n",
              "  'الاتحاد الأوروبي',\n",
              "  'القوقاز',\n",
              "  'جورجيا',\n",
              "  'دول',\n",
              "  'عقد 1990',\n",
              "  'علاقات دولية']]"
            ]
          },
          "metadata": {},
          "execution_count": 31
        }
      ]
    },
    {
      "cell_type": "code",
      "source": [
        "len(urls_list)"
      ],
      "metadata": {
        "colab": {
          "base_uri": "https://localhost:8080/",
          "height": 35
        },
        "id": "-OUWdsNcM3F_",
        "outputId": "5cec68ba-5e3a-4540-d19d-8eb98d8a3121"
      },
      "execution_count": 32,
      "outputs": [
        {
          "output_type": "display_data",
          "data": {
            "text/plain": [
              "<IPython.core.display.Javascript object>"
            ],
            "application/javascript": [
              "google.colab.output.setIframeHeight(0, true, {maxHeight: 5000})"
            ]
          },
          "metadata": {}
        },
        {
          "output_type": "execute_result",
          "data": {
            "text/plain": [
              "10"
            ]
          },
          "metadata": {},
          "execution_count": 32
        }
      ]
    },
    {
      "cell_type": "code",
      "source": [
        "top_article_titles_list[0]"
      ],
      "metadata": {
        "colab": {
          "base_uri": "https://localhost:8080/",
          "height": 106
        },
        "id": "9JLbyGdJNHxQ",
        "outputId": "b9dbaf44-98ac-403b-a536-357a7ed0a373"
      },
      "execution_count": 33,
      "outputs": [
        {
          "output_type": "display_data",
          "data": {
            "text/plain": [
              "<IPython.core.display.Javascript object>"
            ],
            "application/javascript": [
              "google.colab.output.setIframeHeight(0, true, {maxHeight: 5000})"
            ]
          },
          "metadata": {}
        },
        {
          "output_type": "execute_result",
          "data": {
            "text/plain": [
              "{'article': 'جيري ماهر',\n",
              " 'date': '21/07/2023',\n",
              " 'views': 7644,\n",
              " 'rank': 2,\n",
              " 'score': 15288}"
            ]
          },
          "metadata": {},
          "execution_count": 33
        }
      ]
    },
    {
      "cell_type": "code",
      "source": [
        "page_ids"
      ],
      "metadata": {
        "colab": {
          "base_uri": "https://localhost:8080/",
          "height": 195
        },
        "id": "0RBpwcn9OyGX",
        "outputId": "29d1e308-c37e-4f73-fbbf-0cd216c4964c"
      },
      "execution_count": 34,
      "outputs": [
        {
          "output_type": "display_data",
          "data": {
            "text/plain": [
              "<IPython.core.display.Javascript object>"
            ],
            "application/javascript": [
              "google.colab.output.setIframeHeight(0, true, {maxHeight: 5000})"
            ]
          },
          "metadata": {}
        },
        {
          "output_type": "execute_result",
          "data": {
            "text/plain": [
              "['3334689',\n",
              " '3356234',\n",
              " '1049235',\n",
              " '742599',\n",
              " None,\n",
              " '6624',\n",
              " '7947241',\n",
              " '9098588',\n",
              " '8714802',\n",
              " '8865']"
            ]
          },
          "metadata": {},
          "execution_count": 34
        }
      ]
    },
    {
      "cell_type": "code",
      "source": [
        "# Create a dictionary from the lists\n",
        "data = {\n",
        "    'Page ID': page_ids,\n",
        "    'Categories': categories_list,\n",
        "    'URL': urls_list,\n",
        "    'Image': image_urls,\n",
        "    'Summary': summaries_list\n",
        "}\n",
        "\n",
        "# Convert the dictionary to a DataFrame\n",
        "df = pd.DataFrame(data)\n",
        "\n",
        "df"
      ],
      "metadata": {
        "colab": {
          "base_uri": "https://localhost:8080/",
          "height": 363
        },
        "id": "Cn5dafnXZu29",
        "outputId": "0384279b-aa9c-403f-fa55-d760f473e535"
      },
      "execution_count": 35,
      "outputs": [
        {
          "output_type": "display_data",
          "data": {
            "text/plain": [
              "<IPython.core.display.Javascript object>"
            ],
            "application/javascript": [
              "google.colab.output.setIframeHeight(0, true, {maxHeight: 5000})"
            ]
          },
          "metadata": {}
        },
        {
          "output_type": "execute_result",
          "data": {
            "text/plain": [
              "   Page ID                                         Categories  \\\n",
              "0  3334689                                     [أعلام, لبنان]   \n",
              "1  3356234  [القاهرة, كرة القدم, كرة القدم المصرية, كرة ال...   \n",
              "2  1049235  [الأردن, الشام, العالم الإسلامي, العراق, القدس...   \n",
              "3   742599                [آل سعود, أعلام, السعودية, السياسة]   \n",
              "4     None                                               None   \n",
              "5     6624      [أمريكا اللاتينية, الأمريكيتان, المكسيك, دول]   \n",
              "6  7947241                        [أعلام, إسبانيا, كرة القدم]   \n",
              "7  9098588  [آسيا, أوروبا, الشام, القرن 21, المتوسط, تركيا...   \n",
              "8  8714802  [التاريخ, القرن 21, تقويم, زمن, عصور حديثة, عق...   \n",
              "9     8865  [أبخازيا, أرثوذكسية, أوروبا, الاتحاد الأوروبي,...   \n",
              "\n",
              "                                                 URL  \\\n",
              "0  https://ar.wikipedia.org/wiki/%D8%AC%D9%8A%D8%...   \n",
              "1  https://ar.wikipedia.org/wiki/%D9%82%D8%A7%D8%...   \n",
              "2  https://ar.wikipedia.org/wiki/%D8%A7%D9%84%D9%...   \n",
              "3  https://ar.wikipedia.org/wiki/%D8%B9%D8%A8%D8%...   \n",
              "4                                               None   \n",
              "5  https://ar.wikipedia.org/wiki/%D8%A7%D9%84%D9%...   \n",
              "6  https://ar.wikipedia.org/wiki/%D9%84%D9%88%D9%...   \n",
              "7  https://ar.wikipedia.org/wiki/%D8%B2%D9%84%D8%...   \n",
              "8                 https://ar.wikipedia.org/wiki/2023   \n",
              "9  https://ar.wikipedia.org/wiki/%D8%AC%D9%88%D8%...   \n",
              "\n",
              "                                               Image  \\\n",
              "0  https://upload.wikimedia.org/wikipedia/commons...   \n",
              "1  https://upload.wikimedia.org/wikipedia/commons...   \n",
              "2  https://upload.wikimedia.org/wikipedia/commons...   \n",
              "3                                               None   \n",
              "4                                               None   \n",
              "5  https://upload.wikimedia.org/wikipedia/commons...   \n",
              "6                                               None   \n",
              "7  https://upload.wikimedia.org/wikipedia/commons...   \n",
              "8                                               None   \n",
              "9  https://upload.wikimedia.org/wikipedia/commons...   \n",
              "\n",
              "                                             Summary  \n",
              "0  جيري ماهر (بالإنجليزية: Jerry Maher)‏ إعلامي و...  \n",
              "1  تشمل قائمة مباريات ديربي القاهرة جميع المباريا...  \n",
              "2  يرجع نسب الهاشميين (وهم العائلة الحاكمة في الأ...  \n",
              "3  الأمير عبد الله بن عبد الرحمن بن فيصل آل سعود ...  \n",
              "4                                               None  \n",
              "5  الولايات المتحدة المكسيكية (بالإسبانية: Estado...  \n",
              "6  لويس دي لا فيوينت (بالإسبانية: Luis de la Fuen...  \n",
              "7  زلزال قهرمان مرعش 2023 أو زلزالا تركيا وسوريا ...  \n",
              "8  عام 2023 م (بالأرقام الرومانية: MMXXIII) سنة ب...  \n",
              "9  جورجيا أو كُرْجِسْتَان (بالجرجية:საქართველო، أ...  "
            ],
            "text/html": [
              "\n",
              "  <div id=\"df-6726dde4-4939-4307-a728-a0a14a2e5277\" class=\"colab-df-container\">\n",
              "    <div>\n",
              "<style scoped>\n",
              "    .dataframe tbody tr th:only-of-type {\n",
              "        vertical-align: middle;\n",
              "    }\n",
              "\n",
              "    .dataframe tbody tr th {\n",
              "        vertical-align: top;\n",
              "    }\n",
              "\n",
              "    .dataframe thead th {\n",
              "        text-align: right;\n",
              "    }\n",
              "</style>\n",
              "<table border=\"1\" class=\"dataframe\">\n",
              "  <thead>\n",
              "    <tr style=\"text-align: right;\">\n",
              "      <th></th>\n",
              "      <th>Page ID</th>\n",
              "      <th>Categories</th>\n",
              "      <th>URL</th>\n",
              "      <th>Image</th>\n",
              "      <th>Summary</th>\n",
              "    </tr>\n",
              "  </thead>\n",
              "  <tbody>\n",
              "    <tr>\n",
              "      <th>0</th>\n",
              "      <td>3334689</td>\n",
              "      <td>[أعلام, لبنان]</td>\n",
              "      <td>https://ar.wikipedia.org/wiki/%D8%AC%D9%8A%D8%...</td>\n",
              "      <td>https://upload.wikimedia.org/wikipedia/commons...</td>\n",
              "      <td>جيري ماهر (بالإنجليزية: Jerry Maher)‏ إعلامي و...</td>\n",
              "    </tr>\n",
              "    <tr>\n",
              "      <th>1</th>\n",
              "      <td>3356234</td>\n",
              "      <td>[القاهرة, كرة القدم, كرة القدم المصرية, كرة ال...</td>\n",
              "      <td>https://ar.wikipedia.org/wiki/%D9%82%D8%A7%D8%...</td>\n",
              "      <td>https://upload.wikimedia.org/wikipedia/commons...</td>\n",
              "      <td>تشمل قائمة مباريات ديربي القاهرة جميع المباريا...</td>\n",
              "    </tr>\n",
              "    <tr>\n",
              "      <th>2</th>\n",
              "      <td>1049235</td>\n",
              "      <td>[الأردن, الشام, العالم الإسلامي, العراق, القدس...</td>\n",
              "      <td>https://ar.wikipedia.org/wiki/%D8%A7%D9%84%D9%...</td>\n",
              "      <td>https://upload.wikimedia.org/wikipedia/commons...</td>\n",
              "      <td>يرجع نسب الهاشميين (وهم العائلة الحاكمة في الأ...</td>\n",
              "    </tr>\n",
              "    <tr>\n",
              "      <th>3</th>\n",
              "      <td>742599</td>\n",
              "      <td>[آل سعود, أعلام, السعودية, السياسة]</td>\n",
              "      <td>https://ar.wikipedia.org/wiki/%D8%B9%D8%A8%D8%...</td>\n",
              "      <td>None</td>\n",
              "      <td>الأمير عبد الله بن عبد الرحمن بن فيصل آل سعود ...</td>\n",
              "    </tr>\n",
              "    <tr>\n",
              "      <th>4</th>\n",
              "      <td>None</td>\n",
              "      <td>None</td>\n",
              "      <td>None</td>\n",
              "      <td>None</td>\n",
              "      <td>None</td>\n",
              "    </tr>\n",
              "    <tr>\n",
              "      <th>5</th>\n",
              "      <td>6624</td>\n",
              "      <td>[أمريكا اللاتينية, الأمريكيتان, المكسيك, دول]</td>\n",
              "      <td>https://ar.wikipedia.org/wiki/%D8%A7%D9%84%D9%...</td>\n",
              "      <td>https://upload.wikimedia.org/wikipedia/commons...</td>\n",
              "      <td>الولايات المتحدة المكسيكية (بالإسبانية: Estado...</td>\n",
              "    </tr>\n",
              "    <tr>\n",
              "      <th>6</th>\n",
              "      <td>7947241</td>\n",
              "      <td>[أعلام, إسبانيا, كرة القدم]</td>\n",
              "      <td>https://ar.wikipedia.org/wiki/%D9%84%D9%88%D9%...</td>\n",
              "      <td>None</td>\n",
              "      <td>لويس دي لا فيوينت (بالإسبانية: Luis de la Fuen...</td>\n",
              "    </tr>\n",
              "    <tr>\n",
              "      <th>7</th>\n",
              "      <td>9098588</td>\n",
              "      <td>[آسيا, أوروبا, الشام, القرن 21, المتوسط, تركيا...</td>\n",
              "      <td>https://ar.wikipedia.org/wiki/%D8%B2%D9%84%D8%...</td>\n",
              "      <td>https://upload.wikimedia.org/wikipedia/commons...</td>\n",
              "      <td>زلزال قهرمان مرعش 2023 أو زلزالا تركيا وسوريا ...</td>\n",
              "    </tr>\n",
              "    <tr>\n",
              "      <th>8</th>\n",
              "      <td>8714802</td>\n",
              "      <td>[التاريخ, القرن 21, تقويم, زمن, عصور حديثة, عق...</td>\n",
              "      <td>https://ar.wikipedia.org/wiki/2023</td>\n",
              "      <td>None</td>\n",
              "      <td>عام 2023 م (بالأرقام الرومانية: MMXXIII) سنة ب...</td>\n",
              "    </tr>\n",
              "    <tr>\n",
              "      <th>9</th>\n",
              "      <td>8865</td>\n",
              "      <td>[أبخازيا, أرثوذكسية, أوروبا, الاتحاد الأوروبي,...</td>\n",
              "      <td>https://ar.wikipedia.org/wiki/%D8%AC%D9%88%D8%...</td>\n",
              "      <td>https://upload.wikimedia.org/wikipedia/commons...</td>\n",
              "      <td>جورجيا أو كُرْجِسْتَان (بالجرجية:საქართველო، أ...</td>\n",
              "    </tr>\n",
              "  </tbody>\n",
              "</table>\n",
              "</div>\n",
              "    <div class=\"colab-df-buttons\">\n",
              "\n",
              "  <div class=\"colab-df-container\">\n",
              "    <button class=\"colab-df-convert\" onclick=\"convertToInteractive('df-6726dde4-4939-4307-a728-a0a14a2e5277')\"\n",
              "            title=\"Convert this dataframe to an interactive table.\"\n",
              "            style=\"display:none;\">\n",
              "\n",
              "  <svg xmlns=\"http://www.w3.org/2000/svg\" height=\"24px\" viewBox=\"0 -960 960 960\">\n",
              "    <path d=\"M120-120v-720h720v720H120Zm60-500h600v-160H180v160Zm220 220h160v-160H400v160Zm0 220h160v-160H400v160ZM180-400h160v-160H180v160Zm440 0h160v-160H620v160ZM180-180h160v-160H180v160Zm440 0h160v-160H620v160Z\"/>\n",
              "  </svg>\n",
              "    </button>\n",
              "\n",
              "  <style>\n",
              "    .colab-df-container {\n",
              "      display:flex;\n",
              "      gap: 12px;\n",
              "    }\n",
              "\n",
              "    .colab-df-convert {\n",
              "      background-color: #E8F0FE;\n",
              "      border: none;\n",
              "      border-radius: 50%;\n",
              "      cursor: pointer;\n",
              "      display: none;\n",
              "      fill: #1967D2;\n",
              "      height: 32px;\n",
              "      padding: 0 0 0 0;\n",
              "      width: 32px;\n",
              "    }\n",
              "\n",
              "    .colab-df-convert:hover {\n",
              "      background-color: #E2EBFA;\n",
              "      box-shadow: 0px 1px 2px rgba(60, 64, 67, 0.3), 0px 1px 3px 1px rgba(60, 64, 67, 0.15);\n",
              "      fill: #174EA6;\n",
              "    }\n",
              "\n",
              "    .colab-df-buttons div {\n",
              "      margin-bottom: 4px;\n",
              "    }\n",
              "\n",
              "    [theme=dark] .colab-df-convert {\n",
              "      background-color: #3B4455;\n",
              "      fill: #D2E3FC;\n",
              "    }\n",
              "\n",
              "    [theme=dark] .colab-df-convert:hover {\n",
              "      background-color: #434B5C;\n",
              "      box-shadow: 0px 1px 3px 1px rgba(0, 0, 0, 0.15);\n",
              "      filter: drop-shadow(0px 1px 2px rgba(0, 0, 0, 0.3));\n",
              "      fill: #FFFFFF;\n",
              "    }\n",
              "  </style>\n",
              "\n",
              "    <script>\n",
              "      const buttonEl =\n",
              "        document.querySelector('#df-6726dde4-4939-4307-a728-a0a14a2e5277 button.colab-df-convert');\n",
              "      buttonEl.style.display =\n",
              "        google.colab.kernel.accessAllowed ? 'block' : 'none';\n",
              "\n",
              "      async function convertToInteractive(key) {\n",
              "        const element = document.querySelector('#df-6726dde4-4939-4307-a728-a0a14a2e5277');\n",
              "        const dataTable =\n",
              "          await google.colab.kernel.invokeFunction('convertToInteractive',\n",
              "                                                    [key], {});\n",
              "        if (!dataTable) return;\n",
              "\n",
              "        const docLinkHtml = 'Like what you see? Visit the ' +\n",
              "          '<a target=\"_blank\" href=https://colab.research.google.com/notebooks/data_table.ipynb>data table notebook</a>'\n",
              "          + ' to learn more about interactive tables.';\n",
              "        element.innerHTML = '';\n",
              "        dataTable['output_type'] = 'display_data';\n",
              "        await google.colab.output.renderOutput(dataTable, element);\n",
              "        const docLink = document.createElement('div');\n",
              "        docLink.innerHTML = docLinkHtml;\n",
              "        element.appendChild(docLink);\n",
              "      }\n",
              "    </script>\n",
              "  </div>\n",
              "\n",
              "\n",
              "<div id=\"df-d45e9f8a-ab4f-4462-b31a-084ad808623a\">\n",
              "  <button class=\"colab-df-quickchart\" onclick=\"quickchart('df-d45e9f8a-ab4f-4462-b31a-084ad808623a')\"\n",
              "            title=\"Suggest charts.\"\n",
              "            style=\"display:none;\">\n",
              "\n",
              "<svg xmlns=\"http://www.w3.org/2000/svg\" height=\"24px\"viewBox=\"0 0 24 24\"\n",
              "     width=\"24px\">\n",
              "    <g>\n",
              "        <path d=\"M19 3H5c-1.1 0-2 .9-2 2v14c0 1.1.9 2 2 2h14c1.1 0 2-.9 2-2V5c0-1.1-.9-2-2-2zM9 17H7v-7h2v7zm4 0h-2V7h2v10zm4 0h-2v-4h2v4z\"/>\n",
              "    </g>\n",
              "</svg>\n",
              "  </button>\n",
              "\n",
              "<style>\n",
              "  .colab-df-quickchart {\n",
              "      --bg-color: #E8F0FE;\n",
              "      --fill-color: #1967D2;\n",
              "      --hover-bg-color: #E2EBFA;\n",
              "      --hover-fill-color: #174EA6;\n",
              "      --disabled-fill-color: #AAA;\n",
              "      --disabled-bg-color: #DDD;\n",
              "  }\n",
              "\n",
              "  [theme=dark] .colab-df-quickchart {\n",
              "      --bg-color: #3B4455;\n",
              "      --fill-color: #D2E3FC;\n",
              "      --hover-bg-color: #434B5C;\n",
              "      --hover-fill-color: #FFFFFF;\n",
              "      --disabled-bg-color: #3B4455;\n",
              "      --disabled-fill-color: #666;\n",
              "  }\n",
              "\n",
              "  .colab-df-quickchart {\n",
              "    background-color: var(--bg-color);\n",
              "    border: none;\n",
              "    border-radius: 50%;\n",
              "    cursor: pointer;\n",
              "    display: none;\n",
              "    fill: var(--fill-color);\n",
              "    height: 32px;\n",
              "    padding: 0;\n",
              "    width: 32px;\n",
              "  }\n",
              "\n",
              "  .colab-df-quickchart:hover {\n",
              "    background-color: var(--hover-bg-color);\n",
              "    box-shadow: 0 1px 2px rgba(60, 64, 67, 0.3), 0 1px 3px 1px rgba(60, 64, 67, 0.15);\n",
              "    fill: var(--button-hover-fill-color);\n",
              "  }\n",
              "\n",
              "  .colab-df-quickchart-complete:disabled,\n",
              "  .colab-df-quickchart-complete:disabled:hover {\n",
              "    background-color: var(--disabled-bg-color);\n",
              "    fill: var(--disabled-fill-color);\n",
              "    box-shadow: none;\n",
              "  }\n",
              "\n",
              "  .colab-df-spinner {\n",
              "    border: 2px solid var(--fill-color);\n",
              "    border-color: transparent;\n",
              "    border-bottom-color: var(--fill-color);\n",
              "    animation:\n",
              "      spin 1s steps(1) infinite;\n",
              "  }\n",
              "\n",
              "  @keyframes spin {\n",
              "    0% {\n",
              "      border-color: transparent;\n",
              "      border-bottom-color: var(--fill-color);\n",
              "      border-left-color: var(--fill-color);\n",
              "    }\n",
              "    20% {\n",
              "      border-color: transparent;\n",
              "      border-left-color: var(--fill-color);\n",
              "      border-top-color: var(--fill-color);\n",
              "    }\n",
              "    30% {\n",
              "      border-color: transparent;\n",
              "      border-left-color: var(--fill-color);\n",
              "      border-top-color: var(--fill-color);\n",
              "      border-right-color: var(--fill-color);\n",
              "    }\n",
              "    40% {\n",
              "      border-color: transparent;\n",
              "      border-right-color: var(--fill-color);\n",
              "      border-top-color: var(--fill-color);\n",
              "    }\n",
              "    60% {\n",
              "      border-color: transparent;\n",
              "      border-right-color: var(--fill-color);\n",
              "    }\n",
              "    80% {\n",
              "      border-color: transparent;\n",
              "      border-right-color: var(--fill-color);\n",
              "      border-bottom-color: var(--fill-color);\n",
              "    }\n",
              "    90% {\n",
              "      border-color: transparent;\n",
              "      border-bottom-color: var(--fill-color);\n",
              "    }\n",
              "  }\n",
              "</style>\n",
              "\n",
              "  <script>\n",
              "    async function quickchart(key) {\n",
              "      const quickchartButtonEl =\n",
              "        document.querySelector('#' + key + ' button');\n",
              "      quickchartButtonEl.disabled = true;  // To prevent multiple clicks.\n",
              "      quickchartButtonEl.classList.add('colab-df-spinner');\n",
              "      try {\n",
              "        const charts = await google.colab.kernel.invokeFunction(\n",
              "            'suggestCharts', [key], {});\n",
              "      } catch (error) {\n",
              "        console.error('Error during call to suggestCharts:', error);\n",
              "      }\n",
              "      quickchartButtonEl.classList.remove('colab-df-spinner');\n",
              "      quickchartButtonEl.classList.add('colab-df-quickchart-complete');\n",
              "    }\n",
              "    (() => {\n",
              "      let quickchartButtonEl =\n",
              "        document.querySelector('#df-d45e9f8a-ab4f-4462-b31a-084ad808623a button');\n",
              "      quickchartButtonEl.style.display =\n",
              "        google.colab.kernel.accessAllowed ? 'block' : 'none';\n",
              "    })();\n",
              "  </script>\n",
              "</div>\n",
              "    </div>\n",
              "  </div>\n"
            ]
          },
          "metadata": {},
          "execution_count": 35
        }
      ]
    },
    {
      "cell_type": "code",
      "source": [
        "stop"
      ],
      "metadata": {
        "colab": {
          "base_uri": "https://localhost:8080/",
          "height": 180
        },
        "id": "UmowRSwPJBlv",
        "outputId": "3b0a3eaa-daf1-425b-ae79-88f46af11178"
      },
      "execution_count": 36,
      "outputs": [
        {
          "output_type": "display_data",
          "data": {
            "text/plain": [
              "<IPython.core.display.Javascript object>"
            ],
            "application/javascript": [
              "google.colab.output.setIframeHeight(0, true, {maxHeight: 5000})"
            ]
          },
          "metadata": {}
        },
        {
          "output_type": "error",
          "ename": "NameError",
          "evalue": "ignored",
          "traceback": [
            "\u001b[0;31m---------------------------------------------------------------------------\u001b[0m",
            "\u001b[0;31mNameError\u001b[0m                                 Traceback (most recent call last)",
            "\u001b[0;32m<ipython-input-36-4f76a9dad686>\u001b[0m in \u001b[0;36m<cell line: 1>\u001b[0;34m()\u001b[0m\n\u001b[0;32m----> 1\u001b[0;31m \u001b[0mstop\u001b[0m\u001b[0;34m\u001b[0m\u001b[0;34m\u001b[0m\u001b[0m\n\u001b[0m",
            "\u001b[0;31mNameError\u001b[0m: name 'stop' is not defined"
          ]
        }
      ]
    },
    {
      "cell_type": "code",
      "source": [
        "content_list = []\n",
        "urls_list = []\n",
        "categories_list = []\n",
        "lang = 'ar'\n",
        "\n",
        "for article_title in top_article_titles_list:\n",
        "\n",
        "  current_article = wikipedia.page(article_title['article'])\n",
        "  # current_article_url = wikipedia.url(article_title['article'])\n",
        "\n",
        "\n",
        "  content_list.append(current_article.summary)\n",
        "\n",
        "  urls_list.append(current_article.url)\n",
        "\n",
        "\n",
        "\n",
        "\n",
        "  current_article_categories_list = current_article.categories\n",
        "\n",
        "  # Filter the strings containing \"تصنيف:بوابة\"\n",
        "  current_article_filtered_categories = [s for s in current_article_categories_list if 'تصنيف:بوابة' in s]\n",
        "\n",
        "  # cleaned_list = [s.replace('/مقالات متعلقة', '') for s in filtered_list]\n",
        "  current_article_cleaned_categories = [s.replace('تصنيف:بوابة', '').replace('/مقالات متعلقة', '').strip() for s in current_article_filtered_categories]\n",
        "\n",
        "  categories_list.append(current_article_cleaned_categories)\n",
        "\n",
        "\n",
        "\n",
        "\n",
        "\n",
        "\n",
        "\n",
        "\n",
        "  page_title = current_article.title\n",
        "\n",
        "  # Encode the URL components\n",
        "  # lang = urllib.parse.quote(lang)\n",
        "  encoded_page_title = urllib.parse.quote(page_title)\n",
        "\n",
        "  encoded_api_url = f'https://{lang}.wikipedia.org/w/api.php?action=query&prop=pageimages&format=json&piprop=original&titles={encoded_page_title}'\n",
        "\n",
        "  resp = urllib.request.urlopen(encoded_api_url)\n",
        "  resp_bytes = resp.read()\n",
        "  data = json.loads(resp_bytes)\n",
        "\n",
        "\n",
        "\n",
        "  # Define the title you want to find\n",
        "  # desired_title = page.title\n",
        "\n",
        "  # Initialize image URL as None\n",
        "  image_url = None\n",
        "\n",
        "  # Search for the title in the JSON data\n",
        "  for page_id, page_info in data['query']['pages'].items():\n",
        "      print(page_info, '\\n')\n",
        "      if page_info['title'] == page_title:\n",
        "          image_url = page_info['original']['source']\n",
        "          break  # Stop searching once the title is found\n",
        "\n",
        "  # Print the image URL if found\n",
        "  if image_url:\n",
        "      print(image_url)\n",
        "  else:\n",
        "      print(f\"Title '{page_title}' not found in the JSON data.\")\n",
        "\n",
        "\n",
        "\n",
        "\n",
        "\n",
        "\n",
        "\n",
        "\n",
        "\n",
        "\n",
        "\n",
        "\n"
      ],
      "metadata": {
        "id": "Qj7Me3g-OHtu"
      },
      "execution_count": null,
      "outputs": []
    },
    {
      "cell_type": "code",
      "source": [
        "len(image_urls)\n"
      ],
      "metadata": {
        "id": "SIqDVXPrGO35"
      },
      "execution_count": null,
      "outputs": []
    },
    {
      "cell_type": "code",
      "source": [
        "image_urls"
      ],
      "metadata": {
        "id": "6VP-35zJHaOt"
      },
      "execution_count": null,
      "outputs": []
    },
    {
      "cell_type": "code",
      "source": [
        "\n",
        "# Search for the title in the JSON data\n",
        "for page_id, page_info in data.get('query', {}).get('pages', {}).items():\n",
        "    if 'title' in page_info and page_info['title'] == desired_title:\n",
        "        original_info = page_info.get('original', {})\n",
        "        if 'source' in original_info:\n",
        "            image_url = original_info['source']\n",
        "            break  # Stop searching once the title is found\n",
        "\n",
        "# Print the image URL if found\n",
        "if image_url:\n",
        "    print(image_url)\n",
        "else:\n",
        "    print(f\"Title '{desired_title}' not found in the JSON data or missing 'original' data.\")"
      ],
      "metadata": {
        "id": "lrgz6yH8-Fp8"
      },
      "execution_count": null,
      "outputs": []
    },
    {
      "cell_type": "code",
      "source": [
        "len(content_list)"
      ],
      "metadata": {
        "id": "h5xLwLo0QqL4"
      },
      "execution_count": null,
      "outputs": []
    },
    {
      "cell_type": "code",
      "source": [
        "urls_list"
      ],
      "metadata": {
        "id": "tYuaUlbuR6vb"
      },
      "execution_count": null,
      "outputs": []
    },
    {
      "cell_type": "code",
      "source": [
        "categories_list"
      ],
      "metadata": {
        "id": "ZC_KF7U1w6GJ"
      },
      "execution_count": null,
      "outputs": []
    },
    {
      "cell_type": "code",
      "source": [],
      "metadata": {
        "id": "1o5qRsmj3vbT"
      },
      "execution_count": null,
      "outputs": []
    },
    {
      "cell_type": "code",
      "source": [],
      "metadata": {
        "id": "zWVBwg5P3veE"
      },
      "execution_count": null,
      "outputs": []
    },
    {
      "cell_type": "code",
      "source": [],
      "metadata": {
        "id": "o9DTKU9Kw6Ih"
      },
      "execution_count": null,
      "outputs": []
    },
    {
      "cell_type": "code",
      "source": [],
      "metadata": {
        "id": "2sdjqHL8w6Lh"
      },
      "execution_count": null,
      "outputs": []
    },
    {
      "cell_type": "code",
      "source": [],
      "metadata": {
        "id": "kmwjWVaww6Nv"
      },
      "execution_count": null,
      "outputs": []
    },
    {
      "cell_type": "code",
      "source": [
        "print(wikipedia.summary(\"COVID-19 pandemic\"))"
      ],
      "metadata": {
        "id": "ANQwbuUY1GB9"
      },
      "execution_count": null,
      "outputs": []
    },
    {
      "cell_type": "code",
      "source": [
        "page = wikipedia.page(\"Manchester City F.C.\")\n",
        "page"
      ],
      "metadata": {
        "id": "hrB7-n8416QC"
      },
      "execution_count": null,
      "outputs": []
    },
    {
      "cell_type": "code",
      "source": [
        "page.title"
      ],
      "metadata": {
        "id": "MUZYBqmd2Gko"
      },
      "execution_count": null,
      "outputs": []
    },
    {
      "cell_type": "code",
      "source": [
        "page.url"
      ],
      "metadata": {
        "id": "t4gYsZbv2On7"
      },
      "execution_count": null,
      "outputs": []
    },
    {
      "cell_type": "code",
      "source": [
        "page.content"
      ],
      "metadata": {
        "id": "-RfZumic2baP"
      },
      "execution_count": null,
      "outputs": []
    },
    {
      "cell_type": "code",
      "source": [
        "page.summary"
      ],
      "metadata": {
        "id": "Ys2C7k722dMs"
      },
      "execution_count": null,
      "outputs": []
    },
    {
      "cell_type": "code",
      "source": [
        "page.images"
      ],
      "metadata": {
        "id": "J1VHrYg42iHk"
      },
      "execution_count": null,
      "outputs": []
    },
    {
      "cell_type": "code",
      "source": [
        "# get the links that Wikipedia used as a reference from different websites or research\n",
        "page.links"
      ],
      "metadata": {
        "id": "Ho2PJe033Tnz"
      },
      "execution_count": null,
      "outputs": []
    },
    {
      "cell_type": "code",
      "source": [
        "page.categories"
      ],
      "metadata": {
        "id": "B9L_EvQE3pSn"
      },
      "execution_count": null,
      "outputs": []
    },
    {
      "cell_type": "code",
      "source": [
        "page.sections"
      ],
      "metadata": {
        "id": "Ce2-Tul-3rKH"
      },
      "execution_count": null,
      "outputs": []
    },
    {
      "cell_type": "code",
      "source": [
        "page = wikipedia.page(\"الحسين بن عبد الله الثاني\")\n",
        "page"
      ],
      "metadata": {
        "id": "3Ocq-DAb4pD0"
      },
      "execution_count": null,
      "outputs": []
    },
    {
      "cell_type": "code",
      "source": [
        "page.images"
      ],
      "metadata": {
        "id": "EbzG9pGw4u1L"
      },
      "execution_count": null,
      "outputs": []
    },
    {
      "cell_type": "code",
      "source": [
        "page.categories"
      ],
      "metadata": {
        "id": "H-AAFetJ4-SO"
      },
      "execution_count": null,
      "outputs": []
    },
    {
      "cell_type": "code",
      "source": [
        "import spacy\n",
        "from spacy import displacy\n",
        "\n",
        "NER = spacy.load(\"en_core_web_sm\")\n",
        "\n",
        "# Now, we enter our sample text which we shall be testing. The text has been taken from the Wikipedia page of ISRO.\n",
        "\n",
        "raw_text=\"The Indian Space Research Organisation or is the national space agency of India, headquartered in Bengaluru. It operates under Department of Space which is directly overseen by the Prime Minister of India while Chairman of ISRO acts as executive of DOS as well.\"\n",
        "\n",
        "text1= NER(raw_text)\n",
        "text1"
      ],
      "metadata": {
        "id": "SKrTo4Jj79Q4"
      },
      "execution_count": null,
      "outputs": []
    },
    {
      "cell_type": "code",
      "source": [
        "for word in text1.ents:\n",
        "    print(word.text, word.label_)"
      ],
      "metadata": {
        "id": "clpoEsQz8TGw"
      },
      "execution_count": null,
      "outputs": []
    },
    {
      "cell_type": "code",
      "source": [
        "page.summary"
      ],
      "metadata": {
        "id": "lrzoIeGY8hx0"
      },
      "execution_count": null,
      "outputs": []
    },
    {
      "cell_type": "code",
      "source": [],
      "metadata": {
        "id": "b-2E5xim9vDc"
      },
      "execution_count": null,
      "outputs": []
    },
    {
      "cell_type": "code",
      "source": [
        "en_summary = 'Day of Arafah. Al-Hussein bin Abdullah II bin Al-Hussein (June 28, 1994 / Muharram 19, 1415 AH), Crown Prince of the Hashemite Kingdom of Jordan since July 2, 2009, is (according to the line of succession to the Jordanian throne) the heir apparent to the throne of the Hashemite Kingdom of Jordan after his father, King Abdullah. the second. Prince Hussein is a member of the Hashemite family that has ruled Jordan since 1921 and whose lineage goes back to Hassan bin Ali bin Abi Talib, the grandson of the Prophet Muhammad from his daughter Fatima Al-Zahra.'\n",
        "\n",
        "text1= NER(en_summary)\n",
        "for word in text1.ents:\n",
        "    print(word.text, word.label_)"
      ],
      "metadata": {
        "id": "W9hJwuoE8qw7"
      },
      "execution_count": null,
      "outputs": []
    },
    {
      "cell_type": "code",
      "source": [
        "displacy.render(text1,style=\"ent\",jupyter=True)"
      ],
      "metadata": {
        "id": "YcEpLRi3-3_H"
      },
      "execution_count": null,
      "outputs": []
    },
    {
      "cell_type": "code",
      "source": [
        "spacy.explain(\"GPE\")"
      ],
      "metadata": {
        "id": "VRs59yze_ZAn"
      },
      "execution_count": null,
      "outputs": []
    },
    {
      "cell_type": "code",
      "source": [
        "spacy.explain(\"ORDINAL\")"
      ],
      "metadata": {
        "id": "-dTLFnh__ff4"
      },
      "execution_count": null,
      "outputs": []
    },
    {
      "cell_type": "code",
      "source": [
        "spacy.explain(\"NORP\")"
      ],
      "metadata": {
        "id": "YZvfL4da_jLw"
      },
      "execution_count": null,
      "outputs": []
    },
    {
      "cell_type": "code",
      "source": [
        "spacy.explain(\"ORG\")"
      ],
      "metadata": {
        "id": "Bp-jQg_18fJl"
      },
      "execution_count": null,
      "outputs": []
    },
    {
      "cell_type": "code",
      "source": [
        "spacy.explain(\"WORK_OF_ART\")"
      ],
      "metadata": {
        "id": "k3EK3P3X8a0P"
      },
      "execution_count": null,
      "outputs": []
    },
    {
      "cell_type": "code",
      "source": [
        "spacy.explain(\"PERSON\")"
      ],
      "metadata": {
        "id": "EbkElGDi_QuF"
      },
      "execution_count": null,
      "outputs": []
    },
    {
      "cell_type": "code",
      "source": [
        "en_summary = 'Salat al-Istikhaara (Arabic: صلاة الاستخارة), which translates to Prayer of Seeking Counsel, is a prayer recited by Muslims who are in need of guidance from God Almighty (Allah) when facing a decision in their life. The prayer, known as salah in Arabic is performed in two units of prayer or rakaah followed by the supplication of Salat al-Istikhaara. '\n",
        "\n",
        "text1= NER(en_summary)\n",
        "for word in text1.ents:\n",
        "    print(word.text, word.label_)"
      ],
      "metadata": {
        "id": "DZ68bkyd_5hX"
      },
      "execution_count": null,
      "outputs": []
    },
    {
      "cell_type": "code",
      "source": [],
      "metadata": {
        "id": "Rl7IJX3tAm8W"
      },
      "execution_count": null,
      "outputs": []
    },
    {
      "cell_type": "code",
      "source": [
        "displacy.render(text1,style=\"ent\",jupyter=True)"
      ],
      "metadata": {
        "id": "tLQ55dkHAGGI"
      },
      "execution_count": null,
      "outputs": []
    },
    {
      "cell_type": "code",
      "source": [
        "en_summary = 'El Clásico (in Spanish, also in lowercase letters;[1] Spanish pronunciation: [el ˈklasiko]) or El Clàssic (in Catalan,[2] pronounced [əl ˈklasik]), both meaning \"The Classic\", is the name given to any football match between rival clubs Barcelona and Real Madrid. Originally referring to competitions held in the Spanish championship, the term now includes every match between the clubs, such as those in the UEFA Champions League, Supercopa de España and Copa del Rey. It is considered one of the biggest club football games in the world and is among the most viewed annual sporting events.[3][4][5][6] A fixture known for its intensity, it has featured memorable goal celebrations from both teams, often involving mockery from both sides.[7] '\n",
        "\n",
        "text1= NER(en_summary)\n",
        "for word in text1.ents:\n",
        "    print(word.text, word.label_)"
      ],
      "metadata": {
        "id": "MbdoQc1FAn1u"
      },
      "execution_count": null,
      "outputs": []
    },
    {
      "cell_type": "code",
      "source": [
        "en_summary = 'Ashura (Arabic: عَاشُورَاء, ʿĀshūrāʾ, [ʕaːʃuːˈraːʔ]) is a day of commemoration in Islam. It occurs annually on the tenth of Muharram, the first month of the Islamic calendar. For Sunni Muslims, Ashura marks the parting of the Red Sea by Moses and the salvation of the Israelites. Also on this day, Noah disembarked from the Ark, God forgave Adam, and Joseph was released from prison, among various other auspicious events on Ashura in Sunni tradition. Ashura is celebrated in Sunni Islam through supererogatory fasting and other acceptable expressions of joy. In some Sunni communities, the annual Ashura festivities include carnivals, bonfires, and special dishes, even though some Sunni scholars have criticized such practices. '\n",
        "en_summary = 'Ashura'\n",
        "\n",
        "text1= NER(en_summary)\n",
        "for word in text1.ents:\n",
        "    print(word.text, word.label_)"
      ],
      "metadata": {
        "id": "BalHvvy5E5_A"
      },
      "execution_count": null,
      "outputs": []
    },
    {
      "cell_type": "code",
      "source": [
        "displacy.render(text1,style=\"ent\",jupyter=True)"
      ],
      "metadata": {
        "id": "iH_Tns_BFCnf"
      },
      "execution_count": null,
      "outputs": []
    }
  ]
}